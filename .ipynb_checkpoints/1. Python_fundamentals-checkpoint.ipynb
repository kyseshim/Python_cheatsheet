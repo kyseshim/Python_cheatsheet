{
 "cells": [
  {
   "cell_type": "markdown",
   "metadata": {
    "id": "bnbqvxBh4j4y"
   },
   "source": [
    "**Python Crash Course** <br>\n",
    "We need basic knowledge of Python for Machine Learning. \n",
    "\n",
    "This is not a comprehensive course in Python. We will go over some basic concepts that will be helpful in Machine Learning Course.\n",
    "\n",
    "This notebook will just go through the basic topics in Python programming in following order:\n",
    "\n",
    "- Data types\n",
    "- Numbers\n",
    "- Booleans\n",
    "- Strings\n",
    "- Printing\n",
    "- Lists\n",
    "- Tuples\n",
    "- Dictionaries\n",
    "- Sets\n",
    "- Comparison Operators\n",
    "- if, elif, else Statements\n",
    "- for Loops\n",
    "- while Loops\n",
    "- range()\n",
    "- list comprehension\n",
    "- functions\n",
    "- lambda expressions\n",
    "- map and filter\n",
    "- methods\n",
    "- OOPS CONCEPT\n",
    "\n",
    "All the students in the class will be provided access to DataCamp as well. You are encouraged to do extra practise."
   ]
  },
  {
   "cell_type": "code",
   "execution_count": 2,
   "metadata": {
    "ExecuteTime": {
     "end_time": "2022-09-04T13:44:56.191115Z",
     "start_time": "2022-09-04T13:44:56.175166Z"
    },
    "id": "U5EWOYByDdES"
   },
   "outputs": [],
   "source": [
    "# <For google Colab>\n",
    "from google.colab import drive\n",
    "drive.mount('/content/drive')"
   ]
  },
  {
   "cell_type": "markdown",
   "metadata": {
    "id": "rUkJkdQDcnT_"
   },
   "source": [
    "# Data types\n",
    "\n",
    "1. Data types are the classification or categorization of data items. \n",
    "2. It represents the kind of value that tells what operations can be performed on a particular data\n",
    "3. Since everything is an object in Python programming, data types are actually classes and variables are instance (object) of these classes.\n",
    "\n",
    "Different types of data types in python are as follows:\n",
    "\n",
    "<div>\n",
    "<img src=\"https://drive.google.com/uc?export=view&id=1es2mrTQKgQ8LSczST05_kLXqUPUcq2FW\" width=\"600\"/>\n",
    "</div>  \n",
    "\n"
   ]
  },
  {
   "cell_type": "markdown",
   "metadata": {
    "id": "fGA3-njpwv8H"
   },
   "source": [
    "## **Numeric** ##\n",
    "\n",
    "We can add(+), substract(-), multiply(*), and divide (/) numbers in python just like mathematical numbers\n"
   ]
  },
  {
   "cell_type": "markdown",
   "metadata": {
    "id": "VYXGKw1myNg0"
   },
   "source": [
    "### **Integers** ###\n",
    "This value is represented by integer class type."
   ]
  },
  {
   "cell_type": "markdown",
   "metadata": {
    "id": "6sfgLOEEzCvW"
   },
   "source": [
    "We can use the type() function to know which class a variable or a value belongs to."
   ]
  },
  {
   "cell_type": "code",
   "execution_count": 3,
   "metadata": {
    "ExecuteTime": {
     "end_time": "2022-09-04T14:27:50.068451Z",
     "start_time": "2022-09-04T14:27:50.052493Z"
    },
    "colab": {
     "base_uri": "https://localhost:8080/"
    },
    "executionInfo": {
     "elapsed": 2,
     "status": "ok",
     "timestamp": 1661131652400,
     "user": {
      "displayName": "Harpreet SIngh",
      "userId": "15106381096049879330"
     },
     "user_tz": 300
    },
    "id": "IAX3jxvVy5nQ",
    "outputId": "116cbac2-6529-4be0-d77d-dd53ad392295"
   },
   "outputs": [
    {
     "name": "stdout",
     "output_type": "stream",
     "text": [
      "the type of a is : <class 'int'>\n"
     ]
    }
   ],
   "source": [
    "a = 10\n",
    "b = 20\n",
    "# type function prints the class of a\n",
    "print(f'the type of a is : {type(a)}') "
   ]
  },
  {
   "cell_type": "code",
   "execution_count": 4,
   "metadata": {
    "ExecuteTime": {
     "end_time": "2022-09-04T14:27:51.043778Z",
     "start_time": "2022-09-04T14:27:51.006849Z"
    },
    "colab": {
     "base_uri": "https://localhost:8080/"
    },
    "executionInfo": {
     "elapsed": 2,
     "status": "ok",
     "timestamp": 1661131653474,
     "user": {
      "displayName": "Harpreet SIngh",
      "userId": "15106381096049879330"
     },
     "user_tz": 300
    },
    "id": "jpggKF1syt36",
    "outputId": "7ea6a318-d50f-4464-af48-40a402c59af8"
   },
   "outputs": [
    {
     "data": {
      "text/plain": [
       "30"
      ]
     },
     "execution_count": 4,
     "metadata": {},
     "output_type": "execute_result"
    }
   ],
   "source": [
    "# addition of numbers\n",
    "a + b "
   ]
  },
  {
   "cell_type": "code",
   "execution_count": 5,
   "metadata": {
    "ExecuteTime": {
     "end_time": "2022-09-04T14:27:51.817405Z",
     "start_time": "2022-09-04T14:27:51.801449Z"
    },
    "colab": {
     "base_uri": "https://localhost:8080/"
    },
    "executionInfo": {
     "elapsed": 109,
     "status": "ok",
     "timestamp": 1661131654378,
     "user": {
      "displayName": "Harpreet SIngh",
      "userId": "15106381096049879330"
     },
     "user_tz": 300
    },
    "id": "MhZDE8syzZdA",
    "outputId": "b7528cf5-a9d9-44f8-83cb-a7ae1cee727f"
   },
   "outputs": [
    {
     "data": {
      "text/plain": [
       "200"
      ]
     },
     "execution_count": 5,
     "metadata": {},
     "output_type": "execute_result"
    }
   ],
   "source": [
    "# product of numbers\n",
    "a * b"
   ]
  },
  {
   "cell_type": "code",
   "execution_count": 6,
   "metadata": {
    "ExecuteTime": {
     "end_time": "2022-09-04T14:27:52.598631Z",
     "start_time": "2022-09-04T14:27:52.585668Z"
    },
    "colab": {
     "base_uri": "https://localhost:8080/"
    },
    "executionInfo": {
     "elapsed": 133,
     "status": "ok",
     "timestamp": 1661131655228,
     "user": {
      "displayName": "Harpreet SIngh",
      "userId": "15106381096049879330"
     },
     "user_tz": 300
    },
    "id": "-S5rNGuezltS",
    "outputId": "564f7c83-d051-4e50-cec7-3329077f6fa1"
   },
   "outputs": [
    {
     "data": {
      "text/plain": [
       "0.5"
      ]
     },
     "execution_count": 6,
     "metadata": {},
     "output_type": "execute_result"
    }
   ],
   "source": [
    "#direct division of the integers is also possible\n",
    "a / b"
   ]
  },
  {
   "cell_type": "markdown",
   "metadata": {
    "id": "5u3Z90SiyUWD"
   },
   "source": [
    "### **Float** ###\n",
    "1. Any number with a decimal point in programming language is known as float.\n",
    "2. This value is represented by float class.\n"
   ]
  },
  {
   "cell_type": "code",
   "execution_count": 7,
   "metadata": {
    "ExecuteTime": {
     "end_time": "2022-09-04T14:27:55.252342Z",
     "start_time": "2022-09-04T14:27:55.236385Z"
    },
    "colab": {
     "base_uri": "https://localhost:8080/"
    },
    "executionInfo": {
     "elapsed": 146,
     "status": "ok",
     "timestamp": 1661131656896,
     "user": {
      "displayName": "Harpreet SIngh",
      "userId": "15106381096049879330"
     },
     "user_tz": 300
    },
    "id": "hUgJ602y0eLQ",
    "outputId": "12918f6c-2ed2-4b86-fe86-da8eeba8cffb"
   },
   "outputs": [
    {
     "name": "stdout",
     "output_type": "stream",
     "text": [
      "type of a is : <class 'float'> \n"
     ]
    }
   ],
   "source": [
    "a = 0.1\n",
    "# check class of a\n",
    "print(f\"type of a is : {type(a)} \")"
   ]
  },
  {
   "cell_type": "code",
   "execution_count": 8,
   "metadata": {
    "ExecuteTime": {
     "end_time": "2022-09-04T14:27:56.358298Z",
     "start_time": "2022-09-04T14:27:56.338351Z"
    },
    "colab": {
     "base_uri": "https://localhost:8080/"
    },
    "executionInfo": {
     "elapsed": 3,
     "status": "ok",
     "timestamp": 1661136260821,
     "user": {
      "displayName": "Harpreet SIngh",
      "userId": "15106381096049879330"
     },
     "user_tz": 300
    },
    "id": "emYttOiS0mT9",
    "outputId": "450f2773-3b4d-472e-c075-2b25760b3488"
   },
   "outputs": [
    {
     "name": "stdout",
     "output_type": "stream",
     "text": [
      "The product of c, b is : 0.3\n",
      "The type of product of a, b is : <class 'float'>\n"
     ]
    }
   ],
   "source": [
    "c = 1\n",
    "b = 0.3\n",
    "# print product of a and b\n",
    "print(\"The product of c, b is :\", c * b) \n",
    "# check thr type of the product - use f string literals\n",
    "print(f\"The type of product of a, b is : {type(c * b)}\") "
   ]
  },
  {
   "cell_type": "code",
   "execution_count": 9,
   "metadata": {
    "ExecuteTime": {
     "end_time": "2022-09-04T14:27:57.920803Z",
     "start_time": "2022-09-04T14:27:57.912828Z"
    },
    "colab": {
     "base_uri": "https://localhost:8080/"
    },
    "executionInfo": {
     "elapsed": 81,
     "status": "ok",
     "timestamp": 1661131682049,
     "user": {
      "displayName": "Harpreet SIngh",
      "userId": "15106381096049879330"
     },
     "user_tz": 300
    },
    "id": "JdO2fddx0qvl",
    "outputId": "35b42dfe-9568-4578-f943-230a97961210"
   },
   "outputs": [
    {
     "data": {
      "text/plain": [
       "0.2"
      ]
     },
     "execution_count": 9,
     "metadata": {},
     "output_type": "execute_result"
    }
   ],
   "source": [
    "# subtraction\n",
    "0.4 - 0.2"
   ]
  },
  {
   "cell_type": "markdown",
   "metadata": {
    "id": "Y0oCZbHWVhmW"
   },
   "source": [
    "## **Comparison Operators**\n",
    "Comparison operators are used to compare two values.\n",
    "\n",
    "<img src = \"https://drive.google.com/uc?export=view&id=1AKrgEfDfddbypMdBP6c-7avqq2L9tq8h\" width =\"500\"/>"
   ]
  },
  {
   "cell_type": "code",
   "execution_count": 10,
   "metadata": {
    "ExecuteTime": {
     "end_time": "2022-09-04T14:50:41.777772Z",
     "start_time": "2022-09-04T14:50:41.765804Z"
    },
    "colab": {
     "base_uri": "https://localhost:8080/"
    },
    "executionInfo": {
     "elapsed": 108,
     "status": "ok",
     "timestamp": 1661131705244,
     "user": {
      "displayName": "Harpreet SIngh",
      "userId": "15106381096049879330"
     },
     "user_tz": 300
    },
    "id": "oSvCoiC3XQ4q",
    "outputId": "8ef600cc-f615-4809-8397-84b5fe5a9ed2"
   },
   "outputs": [
    {
     "data": {
      "text/plain": [
       "False"
      ]
     },
     "execution_count": 10,
     "metadata": {},
     "output_type": "execute_result"
    }
   ],
   "source": [
    "A = 10\n",
    "B = 123\n",
    "A == B"
   ]
  },
  {
   "cell_type": "code",
   "execution_count": 11,
   "metadata": {
    "ExecuteTime": {
     "end_time": "2022-09-04T14:50:42.657686Z",
     "start_time": "2022-09-04T14:50:42.641728Z"
    },
    "colab": {
     "base_uri": "https://localhost:8080/"
    },
    "executionInfo": {
     "elapsed": 128,
     "status": "ok",
     "timestamp": 1661131706257,
     "user": {
      "displayName": "Harpreet SIngh",
      "userId": "15106381096049879330"
     },
     "user_tz": 300
    },
    "id": "VLNXWkmKXXCD",
    "outputId": "b606f70c-9a21-448e-eafc-27618f92a110"
   },
   "outputs": [
    {
     "data": {
      "text/plain": [
       "False"
      ]
     },
     "execution_count": 11,
     "metadata": {},
     "output_type": "execute_result"
    }
   ],
   "source": [
    "10 > 20"
   ]
  },
  {
   "cell_type": "code",
   "execution_count": 12,
   "metadata": {
    "ExecuteTime": {
     "end_time": "2022-09-04T14:50:43.335887Z",
     "start_time": "2022-09-04T14:50:43.329888Z"
    },
    "colab": {
     "base_uri": "https://localhost:8080/"
    },
    "executionInfo": {
     "elapsed": 107,
     "status": "ok",
     "timestamp": 1661131707133,
     "user": {
      "displayName": "Harpreet SIngh",
      "userId": "15106381096049879330"
     },
     "user_tz": 300
    },
    "id": "J8VZ2En6X-UR",
    "outputId": "e4d249b3-a7cf-4943-f0d6-2431aac1656f"
   },
   "outputs": [
    {
     "data": {
      "text/plain": [
       "True"
      ]
     },
     "execution_count": 12,
     "metadata": {},
     "output_type": "execute_result"
    }
   ],
   "source": [
    "50 < 100"
   ]
  },
  {
   "cell_type": "code",
   "execution_count": 13,
   "metadata": {
    "ExecuteTime": {
     "end_time": "2022-09-04T14:50:43.908928Z",
     "start_time": "2022-09-04T14:50:43.898954Z"
    },
    "colab": {
     "base_uri": "https://localhost:8080/"
    },
    "executionInfo": {
     "elapsed": 100,
     "status": "ok",
     "timestamp": 1661131708151,
     "user": {
      "displayName": "Harpreet SIngh",
      "userId": "15106381096049879330"
     },
     "user_tz": 300
    },
    "id": "6T68kDwLX-HX",
    "outputId": "89b3bad2-f6cc-40ba-a9a0-4993c1c09930"
   },
   "outputs": [
    {
     "data": {
      "text/plain": [
       "False"
      ]
     },
     "execution_count": 13,
     "metadata": {},
     "output_type": "execute_result"
    }
   ],
   "source": [
    "100 >= 101"
   ]
  },
  {
   "cell_type": "code",
   "execution_count": 14,
   "metadata": {
    "ExecuteTime": {
     "end_time": "2022-09-04T14:50:44.468964Z",
     "start_time": "2022-09-04T14:50:44.463976Z"
    },
    "colab": {
     "base_uri": "https://localhost:8080/"
    },
    "executionInfo": {
     "elapsed": 84,
     "status": "ok",
     "timestamp": 1661131709037,
     "user": {
      "displayName": "Harpreet SIngh",
      "userId": "15106381096049879330"
     },
     "user_tz": 300
    },
    "id": "dRepQkcSYSo_",
    "outputId": "f26a60db-6473-4939-8ab4-033a0a3d1241"
   },
   "outputs": [
    {
     "data": {
      "text/plain": [
       "False"
      ]
     },
     "execution_count": 14,
     "metadata": {},
     "output_type": "execute_result"
    }
   ],
   "source": [
    "'Hi'=='Hello'"
   ]
  },
  {
   "cell_type": "code",
   "execution_count": 15,
   "metadata": {
    "ExecuteTime": {
     "end_time": "2022-09-04T14:50:44.994961Z",
     "start_time": "2022-09-04T14:50:44.986984Z"
    },
    "colab": {
     "base_uri": "https://localhost:8080/"
    },
    "executionInfo": {
     "elapsed": 83,
     "status": "ok",
     "timestamp": 1661131709842,
     "user": {
      "displayName": "Harpreet SIngh",
      "userId": "15106381096049879330"
     },
     "user_tz": 300
    },
    "id": "o7LwA2SCX99h",
    "outputId": "851f4fcf-53ff-415c-810f-fc645ecb9879"
   },
   "outputs": [
    {
     "data": {
      "text/plain": [
       "True"
      ]
     },
     "execution_count": 15,
     "metadata": {},
     "output_type": "execute_result"
    }
   ],
   "source": [
    "20 >= 20"
   ]
  },
  {
   "cell_type": "code",
   "execution_count": 16,
   "metadata": {
    "ExecuteTime": {
     "end_time": "2022-09-04T14:50:45.491634Z",
     "start_time": "2022-09-04T14:50:45.483654Z"
    },
    "colab": {
     "base_uri": "https://localhost:8080/"
    },
    "executionInfo": {
     "elapsed": 106,
     "status": "ok",
     "timestamp": 1661131710664,
     "user": {
      "displayName": "Harpreet SIngh",
      "userId": "15106381096049879330"
     },
     "user_tz": 300
    },
    "id": "wFn7hltcX9wn",
    "outputId": "3c6cb1ac-0cd5-48da-8d11-7028521ca950"
   },
   "outputs": [
    {
     "data": {
      "text/plain": [
       "True"
      ]
     },
     "execution_count": 16,
     "metadata": {},
     "output_type": "execute_result"
    }
   ],
   "source": [
    "1000 != 20"
   ]
  },
  {
   "cell_type": "code",
   "execution_count": 17,
   "metadata": {
    "ExecuteTime": {
     "end_time": "2022-09-04T14:50:46.034213Z",
     "start_time": "2022-09-04T14:50:46.017259Z"
    },
    "colab": {
     "base_uri": "https://localhost:8080/"
    },
    "executionInfo": {
     "elapsed": 110,
     "status": "ok",
     "timestamp": 1661131713390,
     "user": {
      "displayName": "Harpreet SIngh",
      "userId": "15106381096049879330"
     },
     "user_tz": 300
    },
    "id": "AsnJznZNYZx0",
    "outputId": "d635b359-1984-4552-f671-3f137f664f98"
   },
   "outputs": [
    {
     "data": {
      "text/plain": [
       "True"
      ]
     },
     "execution_count": 17,
     "metadata": {},
     "output_type": "execute_result"
    }
   ],
   "source": [
    "'morning' != 'Morning'"
   ]
  },
  {
   "cell_type": "markdown",
   "metadata": {
    "id": "GMzbKWAPGHww"
   },
   "source": [
    "## **Boolean** ##\n",
    "1. In programming language you often need to know if an expression is True or False.\n",
    "1. Boolean is a data type with two built in values : True or False.\n",
    "2. This type of data type is used for comparison  or to check a condition.\n",
    "4. The bool() function allows you to evaluate any value, and give you True or False in return.\n",
    "\n"
   ]
  },
  {
   "cell_type": "code",
   "execution_count": 18,
   "metadata": {
    "ExecuteTime": {
     "end_time": "2022-09-04T14:51:01.960751Z",
     "start_time": "2022-09-04T14:51:01.952775Z"
    },
    "colab": {
     "base_uri": "https://localhost:8080/"
    },
    "executionInfo": {
     "elapsed": 86,
     "status": "ok",
     "timestamp": 1661131721546,
     "user": {
      "displayName": "Harpreet SIngh",
      "userId": "15106381096049879330"
     },
     "user_tz": 300
    },
    "id": "fg40bzr6prj-",
    "outputId": "2406b3b5-7769-4765-cc17-0aafce72dc5c"
   },
   "outputs": [
    {
     "name": "stdout",
     "output_type": "stream",
     "text": [
      "<class 'bool'>\n",
      "<class 'bool'>\n"
     ]
    }
   ],
   "source": [
    "# check the class type of the following : True, False\n",
    "print(type(True))\n",
    "print(type(False))"
   ]
  },
  {
   "cell_type": "code",
   "execution_count": 19,
   "metadata": {
    "ExecuteTime": {
     "end_time": "2022-09-04T14:51:04.061260Z",
     "start_time": "2022-09-04T14:51:04.030174Z"
    },
    "colab": {
     "base_uri": "https://localhost:8080/",
     "height": 208
    },
    "executionInfo": {
     "elapsed": 223,
     "status": "error",
     "timestamp": 1661131723022,
     "user": {
      "displayName": "Harpreet SIngh",
      "userId": "15106381096049879330"
     },
     "user_tz": 300
    },
    "id": "E05mtuokYfWH",
    "outputId": "8ace231d-7319-4824-9890-0669ce66b70c"
   },
   "outputs": [
    {
     "ename": "NameError",
     "evalue": "name 'true' is not defined",
     "output_type": "error",
     "traceback": [
      "\u001b[1;31m---------------------------------------------------------------------------\u001b[0m",
      "\u001b[1;31mNameError\u001b[0m                                 Traceback (most recent call last)",
      "\u001b[1;32m<ipython-input-19-96a3f1382781>\u001b[0m in \u001b[0;36m<module>\u001b[1;34m\u001b[0m\n\u001b[0;32m      1\u001b[0m \u001b[1;31m# A boolean is valid if we use upper case 'T' for True and upper case 'F' for False.\u001b[0m\u001b[1;33m\u001b[0m\u001b[1;33m\u001b[0m\u001b[1;33m\u001b[0m\u001b[0m\n\u001b[0;32m      2\u001b[0m \u001b[1;31m# Otherwise it will throw error\u001b[0m\u001b[1;33m\u001b[0m\u001b[1;33m\u001b[0m\u001b[1;33m\u001b[0m\u001b[0m\n\u001b[1;32m----> 3\u001b[1;33m \u001b[0mprint\u001b[0m\u001b[1;33m(\u001b[0m\u001b[0mtype\u001b[0m\u001b[1;33m(\u001b[0m\u001b[0mtrue\u001b[0m\u001b[1;33m)\u001b[0m\u001b[1;33m)\u001b[0m\u001b[1;33m\u001b[0m\u001b[1;33m\u001b[0m\u001b[0m\n\u001b[0m",
      "\u001b[1;31mNameError\u001b[0m: name 'true' is not defined"
     ]
    }
   ],
   "source": [
    "# A boolean is valid if we use upper case 'T' for True and upper case 'F' for False.\n",
    "# Otherwise it will throw error \n",
    "print(type(true))"
   ]
  },
  {
   "cell_type": "code",
   "execution_count": 20,
   "metadata": {
    "ExecuteTime": {
     "end_time": "2022-09-04T14:51:08.195864Z",
     "start_time": "2022-09-04T14:51:08.182899Z"
    },
    "colab": {
     "base_uri": "https://localhost:8080/"
    },
    "executionInfo": {
     "elapsed": 109,
     "status": "ok",
     "timestamp": 1661131727563,
     "user": {
      "displayName": "Harpreet SIngh",
      "userId": "15106381096049879330"
     },
     "user_tz": 300
    },
    "id": "stBzmwQAnQs1",
    "outputId": "52da3be6-d4ca-4bb6-fbfd-d7daace95533"
   },
   "outputs": [
    {
     "name": "stdout",
     "output_type": "stream",
     "text": [
      "False\n",
      "<class 'bool'>\n"
     ]
    }
   ],
   "source": [
    "# We can test, if an expression is True or False.\n",
    "# check if 10>20\n",
    "print(10 > 20) \n",
    "\n",
    "# check datatype of comparison\n",
    "print(type (10 > 20))"
   ]
  },
  {
   "cell_type": "code",
   "execution_count": 21,
   "metadata": {
    "ExecuteTime": {
     "end_time": "2022-09-04T14:54:11.925715Z",
     "start_time": "2022-09-04T14:54:11.916146Z"
    },
    "colab": {
     "base_uri": "https://localhost:8080/"
    },
    "executionInfo": {
     "elapsed": 86,
     "status": "ok",
     "timestamp": 1661131730606,
     "user": {
      "displayName": "Harpreet SIngh",
      "userId": "15106381096049879330"
     },
     "user_tz": 300
    },
    "id": "uCXLiZ3-oAAo",
    "outputId": "6416bfa9-a551-4244-faef-38e91bfa723e"
   },
   "outputs": [
    {
     "name": "stdout",
     "output_type": "stream",
     "text": [
      "False\n"
     ]
    }
   ],
   "source": [
    "print(20 == 50)"
   ]
  },
  {
   "cell_type": "code",
   "execution_count": 22,
   "metadata": {
    "ExecuteTime": {
     "end_time": "2022-09-04T14:54:12.704252Z",
     "start_time": "2022-09-04T14:54:12.686301Z"
    },
    "colab": {
     "base_uri": "https://localhost:8080/"
    },
    "executionInfo": {
     "elapsed": 84,
     "status": "ok",
     "timestamp": 1661131736230,
     "user": {
      "displayName": "Harpreet SIngh",
      "userId": "15106381096049879330"
     },
     "user_tz": 300
    },
    "id": "tQn-XlyKoTAU",
    "outputId": "ec013802-fa09-46d8-df34-f2406889dbef"
   },
   "outputs": [
    {
     "name": "stdout",
     "output_type": "stream",
     "text": [
      "True\n"
     ]
    }
   ],
   "source": [
    "print(10 != 20)"
   ]
  },
  {
   "cell_type": "markdown",
   "metadata": {
    "id": "s8DPlqMLJdzb"
   },
   "source": [
    "## **Sequence type** ##\n",
    "1. Sequence is an **ordered** collection of similar or different data types.\n",
    "2. It allows to store multiple values in an organised and efficient manner.\n",
    "3. There are several sequence types in python, e.g., list, tuple, strings.\n"
   ]
  },
  {
   "cell_type": "markdown",
   "metadata": {
    "id": "FkMIEhJxNeRP"
   },
   "source": [
    "### **String** ###\n",
    "1. String is a sequence of Unicode characters.\n",
    "\n",
    " (Unicode is a specification that lists every character of human language with a special unique code)\n",
    " <br>  https://en.wikipedia.org/wiki/List_of_Unicode_characters\n",
    "2.We use **single** or **double quotes** to represent a string.\n",
    "  \n",
    "  Example: \n",
    "  \n",
    "  a = 'Hello Python'\n",
    "  \n",
    "  b = \" I am a string as well \"\n",
    "            \n",
    "3. Strings are immutable that is it cannot be modified."
   ]
  },
  {
   "cell_type": "code",
   "execution_count": 23,
   "metadata": {
    "ExecuteTime": {
     "end_time": "2022-09-04T14:54:15.967453Z",
     "start_time": "2022-09-04T14:54:15.956484Z"
    },
    "colab": {
     "base_uri": "https://localhost:8080/"
    },
    "executionInfo": {
     "elapsed": 74,
     "status": "ok",
     "timestamp": 1661131745864,
     "user": {
      "displayName": "Harpreet SIngh",
      "userId": "15106381096049879330"
     },
     "user_tz": 300
    },
    "id": "ecOo15dBgLSw",
    "outputId": "609f78f0-03b9-459f-b194-08614a043449"
   },
   "outputs": [
    {
     "name": "stdout",
     "output_type": "stream",
     "text": [
      "\n"
     ]
    }
   ],
   "source": [
    "# Creating an empty string\n",
    "empty_string = \"\"\n",
    "# print string\n",
    "print(empty_string)"
   ]
  },
  {
   "cell_type": "code",
   "execution_count": 24,
   "metadata": {
    "ExecuteTime": {
     "end_time": "2022-09-04T14:54:18.618641Z",
     "start_time": "2022-09-04T14:54:18.611664Z"
    },
    "colab": {
     "base_uri": "https://localhost:8080/"
    },
    "executionInfo": {
     "elapsed": 101,
     "status": "ok",
     "timestamp": 1661131749138,
     "user": {
      "displayName": "Harpreet SIngh",
      "userId": "15106381096049879330"
     },
     "user_tz": 300
    },
    "id": "HuXqX3FRgLcQ",
    "outputId": "f929cd1d-a37a-40f2-cb0e-a773cdde9be5"
   },
   "outputs": [
    {
     "name": "stdout",
     "output_type": "stream",
     "text": [
      "String is a python data type\n"
     ]
    }
   ],
   "source": [
    "# Creating a string\n",
    "string_1 = \"String is a python data type\"\n",
    "# print string\n",
    "print(string_1)"
   ]
  },
  {
   "cell_type": "code",
   "execution_count": 25,
   "metadata": {
    "ExecuteTime": {
     "end_time": "2022-09-04T14:54:24.124354Z",
     "start_time": "2022-09-04T14:54:24.114384Z"
    },
    "colab": {
     "base_uri": "https://localhost:8080/"
    },
    "executionInfo": {
     "elapsed": 104,
     "status": "ok",
     "timestamp": 1661131753425,
     "user": {
      "displayName": "Harpreet SIngh",
      "userId": "15106381096049879330"
     },
     "user_tz": 300
    },
    "id": "pNKqRIb1jRMg",
    "outputId": "5d416e69-0e98-40cb-b067-56367216401e"
   },
   "outputs": [
    {
     "name": "stdout",
     "output_type": "stream",
     "text": [
      "The string created by single quoate is : String is also a data type in java\n"
     ]
    }
   ],
   "source": [
    "# Creating string with single quote\n",
    "string_11 = 'String is also a data type in java'\n",
    "print('The string created by single quoate is :', string_11)"
   ]
  },
  {
   "cell_type": "markdown",
   "metadata": {
    "id": "-MPVzr3RRLEV"
   },
   "source": [
    "#### **Accessing a character from a string** ####\n",
    "1. Index starts from 0 and ends at the count of last character.\n",
    "1. We can access an element of a  string by using indexing method.\n",
    "2. Indexes are mentioned in terms of numbers. They can be positive or negative.\n",
    "3. The positive numbers access character of a string from left to right.\n",
    "5. The negative numbers access character of a string from right to left. \n",
    "\n",
    "**Example**:\n",
    "\n",
    "\n",
    "<img src = \"https://drive.google.com/uc?export====view&id=1TW-xSxxSpQ15-MATejz4rkXYZdLN3X-F\" width = \"1000\"/>"
   ]
  },
  {
   "cell_type": "markdown",
   "metadata": {
    "id": "oJqAPIrI8TMf"
   },
   "source": [
    "Python index srarts at zero : \n",
    "\n",
    "[n :] - everything from n onwards including n,\n",
    "\n",
    " [: n] everything upto n excluding n)"
   ]
  },
  {
   "cell_type": "code",
   "execution_count": 26,
   "metadata": {
    "ExecuteTime": {
     "end_time": "2022-09-04T14:54:28.245152Z",
     "start_time": "2022-09-04T14:54:28.228197Z"
    },
    "colab": {
     "base_uri": "https://localhost:8080/"
    },
    "executionInfo": {
     "elapsed": 111,
     "status": "ok",
     "timestamp": 1661131823791,
     "user": {
      "displayName": "Harpreet SIngh",
      "userId": "15106381096049879330"
     },
     "user_tz": 300
    },
    "id": "g-wPHRXshmy_",
    "outputId": "e4108b23-e147-410e-b299-95afd7d7c5dc"
   },
   "outputs": [
    {
     "name": "stdout",
     "output_type": "stream",
     "text": [
      "The character at 1st position in the string_2 is  t\n"
     ]
    }
   ],
   "source": [
    "# Accessing the characters from the strings\n",
    "string_2 = \"String cannot be modified in python\"\n",
    "\n",
    "# Get the character at 1st position i.e. 2nd character\n",
    "print(\"The character at 1st position in the string_2 is \", string_2[1])"
   ]
  },
  {
   "cell_type": "code",
   "execution_count": 27,
   "metadata": {
    "ExecuteTime": {
     "end_time": "2022-09-04T14:54:29.968227Z",
     "start_time": "2022-09-04T14:54:29.962730Z"
    },
    "colab": {
     "base_uri": "https://localhost:8080/"
    },
    "executionInfo": {
     "elapsed": 84,
     "status": "ok",
     "timestamp": 1661131846580,
     "user": {
      "displayName": "Harpreet SIngh",
      "userId": "15106381096049879330"
     },
     "user_tz": 300
    },
    "id": "LMieaufiismH",
    "outputId": "613367e7-1e96-434d-c0be-9544d5d6d4bb"
   },
   "outputs": [
    {
     "name": "stdout",
     "output_type": "stream",
     "text": [
      "the last character of the string is : g\n"
     ]
    }
   ],
   "source": [
    "# Accessing the last character of the string\n",
    "string_3 = \"MyString\"\n",
    "print(\"the last character of the string is :\", string_3[-1])"
   ]
  },
  {
   "cell_type": "code",
   "execution_count": 30,
   "metadata": {
    "ExecuteTime": {
     "end_time": "2022-09-04T14:55:04.056864Z",
     "start_time": "2022-09-04T14:55:04.041903Z"
    },
    "colab": {
     "base_uri": "https://localhost:8080/"
    },
    "executionInfo": {
     "elapsed": 264,
     "status": "ok",
     "timestamp": 1661197531746,
     "user": {
      "displayName": "Kyungseob Shim",
      "userId": "04167791068819005440"
     },
     "user_tz": 300
    },
    "id": "dcCPa5tw7XUC",
    "outputId": "2c7c0583-6399-415f-cb74-5565fd7ccaa7"
   },
   "outputs": [
    {
     "name": "stdout",
     "output_type": "stream",
     "text": [
      "Everything except Data: Data\n",
      "First three characters: Data sc\n"
     ]
    }
   ],
   "source": [
    "string_4 = \"Data science course is for everyone\"\n",
    "\n",
    "# everything except Data\n",
    "print ('Everything except Data:', string_4[0:4])\n",
    "\n",
    "# Get first seven characters\n",
    "print ('First three characters:', string_4[0:7])"
   ]
  },
  {
   "cell_type": "code",
   "execution_count": 31,
   "metadata": {
    "ExecuteTime": {
     "end_time": "2022-09-04T14:55:09.088630Z",
     "start_time": "2022-09-04T14:55:09.075669Z"
    },
    "colab": {
     "base_uri": "https://localhost:8080/",
     "height": 205
    },
    "executionInfo": {
     "elapsed": 291,
     "status": "error",
     "timestamp": 1661197559625,
     "user": {
      "displayName": "Kyungseob Shim",
      "userId": "04167791068819005440"
     },
     "user_tz": 300
    },
    "id": "utJLNgo7lF8h",
    "outputId": "37e0a9e6-9e69-4388-ca76-5d0877701443"
   },
   "outputs": [
    {
     "ename": "TypeError",
     "evalue": "'str' object does not support item assignment",
     "output_type": "error",
     "traceback": [
      "\u001b[1;31m---------------------------------------------------------------------------\u001b[0m",
      "\u001b[1;31mTypeError\u001b[0m                                 Traceback (most recent call last)",
      "\u001b[1;32m<ipython-input-31-72c3a069551c>\u001b[0m in \u001b[0;36m<module>\u001b[1;34m\u001b[0m\n\u001b[0;32m      1\u001b[0m \u001b[1;31m# String cannot be modified (immutable) and will throw an error\u001b[0m\u001b[1;33m\u001b[0m\u001b[1;33m\u001b[0m\u001b[1;33m\u001b[0m\u001b[0m\n\u001b[0;32m      2\u001b[0m \u001b[0mString_3\u001b[0m \u001b[1;33m=\u001b[0m \u001b[1;34m\"Modify me\"\u001b[0m\u001b[1;33m\u001b[0m\u001b[1;33m\u001b[0m\u001b[0m\n\u001b[1;32m----> 3\u001b[1;33m \u001b[0mString_3\u001b[0m\u001b[1;33m[\u001b[0m\u001b[1;36m4\u001b[0m\u001b[1;33m]\u001b[0m \u001b[1;33m=\u001b[0m \u001b[1;34m'd'\u001b[0m\u001b[1;33m\u001b[0m\u001b[1;33m\u001b[0m\u001b[0m\n\u001b[0m",
      "\u001b[1;31mTypeError\u001b[0m: 'str' object does not support item assignment"
     ]
    }
   ],
   "source": [
    "# String cannot be modified (immutable) and will throw an error\n",
    "String_3 = \"Modify me\"\n",
    "String_3[4] = 'd'"
   ]
  },
  {
   "cell_type": "markdown",
   "metadata": {
    "id": "I3kos3DQ6UUn"
   },
   "source": [
    "#### **Use string literals for formating strings in print statement**\n",
    "\n",
    "1. f-strings are the new and improved way to format strings in python. \n",
    "1. **Formatted string literals**, f-strings are string literals that have an 'f' at the beginning .\n",
    "2. A Curly braces containing expressions that will be replaced with their values. \n",
    "3. The expressions are evaluated at runtime and then formatted using the **format** protocol."
   ]
  },
  {
   "cell_type": "code",
   "execution_count": 32,
   "metadata": {
    "ExecuteTime": {
     "end_time": "2022-09-04T14:55:20.896524Z",
     "start_time": "2022-09-04T14:55:20.889538Z"
    },
    "colab": {
     "base_uri": "https://localhost:8080/"
    },
    "executionInfo": {
     "elapsed": 299,
     "status": "ok",
     "timestamp": 1661197584513,
     "user": {
      "displayName": "Kyungseob Shim",
      "userId": "04167791068819005440"
     },
     "user_tz": 300
    },
    "id": "kFB24kuB6ebs",
    "outputId": "20ec7953-8392-4e38-cf11-606053565f23"
   },
   "outputs": [
    {
     "name": "stdout",
     "output_type": "stream",
     "text": [
      "My number is: 12 and my name is: Data\n"
     ]
    }
   ],
   "source": [
    "num = 12\n",
    "name = 'Data'\n",
    "print(f'My number is: {num} and my name is: {name}')"
   ]
  },
  {
   "cell_type": "markdown",
   "metadata": {
    "id": "n_KsBQ7ySSVW"
   },
   "source": [
    "### **List** ###\n",
    "1. In many other programming language, arrays are treated as a collection of different values.\n",
    "2. Lists are the ordered arrays.\n",
    "   \n",
    "   Example :\n",
    "   \n",
    "   my_list = [2, 3, 5, \"Happy\"]\n",
    "3. Multiple data types can be used in a list.\n",
    "4. We can use **[  ]** or list() keyword to create a list.\n",
    "5. Lists are mutable, we can add or delete any values from the list.\n"
   ]
  },
  {
   "cell_type": "code",
   "execution_count": 33,
   "metadata": {
    "ExecuteTime": {
     "end_time": "2022-09-04T14:55:24.656209Z",
     "start_time": "2022-09-04T14:55:24.641247Z"
    },
    "colab": {
     "base_uri": "https://localhost:8080/"
    },
    "executionInfo": {
     "elapsed": 85,
     "status": "ok",
     "timestamp": 1661131919582,
     "user": {
      "displayName": "Harpreet SIngh",
      "userId": "15106381096049879330"
     },
     "user_tz": 300
    },
    "id": "UVIbJK6Pjy63",
    "outputId": "8e0c65dc-c6b4-4302-8fcf-1d5bc275ccf9"
   },
   "outputs": [
    {
     "name": "stdout",
     "output_type": "stream",
     "text": [
      "[]\n"
     ]
    }
   ],
   "source": [
    "# Creating empty list\n",
    "my_list = []\n",
    "print(my_list)"
   ]
  },
  {
   "cell_type": "code",
   "execution_count": 34,
   "metadata": {
    "ExecuteTime": {
     "end_time": "2022-09-04T14:55:26.031513Z",
     "start_time": "2022-09-04T14:55:26.015274Z"
    },
    "colab": {
     "base_uri": "https://localhost:8080/"
    },
    "executionInfo": {
     "elapsed": 77,
     "status": "ok",
     "timestamp": 1661131932241,
     "user": {
      "displayName": "Harpreet SIngh",
      "userId": "15106381096049879330"
     },
     "user_tz": 300
    },
    "id": "rs-1zJRnkQaE",
    "outputId": "a202fb5f-796d-4906-d0cb-25f86673430d"
   },
   "outputs": [
    {
     "name": "stdout",
     "output_type": "stream",
     "text": [
      "[1, 2, 3, 'Hi', 'Bye']\n"
     ]
    }
   ],
   "source": [
    "# Creating a list\n",
    "list_1 = [1, 2, 3, 'Hi', 'Bye']\n",
    "print(list_1)"
   ]
  },
  {
   "cell_type": "code",
   "execution_count": 35,
   "metadata": {
    "ExecuteTime": {
     "end_time": "2022-09-04T14:55:27.270602Z",
     "start_time": "2022-09-04T14:55:27.261626Z"
    },
    "colab": {
     "base_uri": "https://localhost:8080/"
    },
    "executionInfo": {
     "elapsed": 87,
     "status": "ok",
     "timestamp": 1661131935233,
     "user": {
      "displayName": "Harpreet SIngh",
      "userId": "15106381096049879330"
     },
     "user_tz": 300
    },
    "id": "hfCCd1p-kQI9",
    "outputId": "2514f260-1dcc-44c5-c08e-d6b352095810"
   },
   "outputs": [
    {
     "name": "stdout",
     "output_type": "stream",
     "text": [
      "The marks obtained by students are: [15, 45, 23, 86, 49, 45]\n"
     ]
    }
   ],
   "source": [
    "# Creating list by using list() keyword\n",
    "List_2 = list([15, 45, 23, 86, 49, 45])\n",
    "print(f\"The marks obtained by students are: {List_2}\")"
   ]
  },
  {
   "cell_type": "code",
   "execution_count": 36,
   "metadata": {
    "ExecuteTime": {
     "end_time": "2022-09-04T14:55:28.088778Z",
     "start_time": "2022-09-04T14:55:28.083790Z"
    },
    "colab": {
     "base_uri": "https://localhost:8080/"
    },
    "executionInfo": {
     "elapsed": 86,
     "status": "ok",
     "timestamp": 1661131943497,
     "user": {
      "displayName": "Harpreet SIngh",
      "userId": "15106381096049879330"
     },
     "user_tz": 300
    },
    "id": "UXGA67P1lmuB",
    "outputId": "b2f7db91-62a3-4101-d9a4-61ba5fcc067d"
   },
   "outputs": [
    {
     "name": "stdout",
     "output_type": "stream",
     "text": [
      "List containing multiple values: \n",
      "Java\n",
      "SQL\n"
     ]
    }
   ],
   "source": [
    "# Accessing particular value in the list\n",
    "List_3 = [\"Java\", \"Python\", \"SQL\"]\n",
    "print(\"List containing multiple values: \")\n",
    "\n",
    "# print the first element of list\n",
    "print(List_3[0]) \n",
    "\n",
    "# print the third element of list\n",
    "print(List_3[2])"
   ]
  },
  {
   "cell_type": "code",
   "execution_count": 37,
   "metadata": {
    "ExecuteTime": {
     "end_time": "2022-09-04T14:55:29.390899Z",
     "start_time": "2022-09-04T14:55:29.374940Z"
    },
    "colab": {
     "base_uri": "https://localhost:8080/"
    },
    "executionInfo": {
     "elapsed": 96,
     "status": "ok",
     "timestamp": 1661131955469,
     "user": {
      "displayName": "Harpreet SIngh",
      "userId": "15106381096049879330"
     },
     "user_tz": 300
    },
    "id": "SGSpUgoGlvMY",
    "outputId": "07ef1a62-4d0c-4f68-9aa5-2f5bfe61c2dc"
   },
   "outputs": [
    {
     "name": "stdout",
     "output_type": "stream",
     "text": [
      "Multi-Dimensional List: \n",
      "[['Data science', 'Python'], ['Big data']]\n"
     ]
    }
   ],
   "source": [
    "# Creating a Multi-Dimensional List\n",
    "# (By Nesting a list inside a List)\n",
    "List_4 = [['Data science', 'Python'], ['Big data']]\n",
    "print(\"Multi-Dimensional List: \")\n",
    "print(List_4)"
   ]
  },
  {
   "cell_type": "code",
   "execution_count": 38,
   "metadata": {
    "ExecuteTime": {
     "end_time": "2022-09-04T14:55:31.113950Z",
     "start_time": "2022-09-04T14:55:31.103977Z"
    },
    "colab": {
     "base_uri": "https://localhost:8080/",
     "height": 36
    },
    "executionInfo": {
     "elapsed": 103,
     "status": "ok",
     "timestamp": 1661131971887,
     "user": {
      "displayName": "Harpreet SIngh",
      "userId": "15106381096049879330"
     },
     "user_tz": 300
    },
    "id": "7tyl_U3Hl2gG",
    "outputId": "b88ff4e8-7b39-427b-d8e7-147cbdb0f708"
   },
   "outputs": [
    {
     "data": {
      "text/plain": [
       "'Python'"
      ]
     },
     "execution_count": 38,
     "metadata": {},
     "output_type": "execute_result"
    }
   ],
   "source": [
    "# accessing elements of multidimensional list\n",
    "# Retrive Python from list_4\n",
    "List_4[0][1]"
   ]
  },
  {
   "cell_type": "markdown",
   "metadata": {
    "id": "lvgZKZGeNt8f"
   },
   "source": [
    "#### **Adding single element**\n",
    "We can use .append() method to add a single element to existing list.\n"
   ]
  },
  {
   "cell_type": "code",
   "execution_count": 39,
   "metadata": {
    "ExecuteTime": {
     "end_time": "2022-09-04T14:55:32.858750Z",
     "start_time": "2022-09-04T14:55:32.845788Z"
    },
    "colab": {
     "base_uri": "https://localhost:8080/"
    },
    "executionInfo": {
     "elapsed": 91,
     "status": "ok",
     "timestamp": 1660701779418,
     "user": {
      "displayName": "Shaannoor Mann",
      "userId": "02520257695567980696"
     },
     "user_tz": 300
    },
    "id": "wIKhBfPQ-0JP",
    "outputId": "ae0050ff-2a1d-4830-f122-6e8048f00bb3"
   },
   "outputs": [
    {
     "name": "stdout",
     "output_type": "stream",
     "text": [
      "The new element added to the list and the new list is: ['data', 'science', 'project', 'course', 'Machine learning']\n"
     ]
    }
   ],
   "source": [
    "List1=['data', 'science', 'project', 'course']\n",
    "#Adding new elements at the end of the list\n",
    "List1.append('Machine learning')\n",
    "print(f\"The new element added to the list and the new list is: {List1}\")"
   ]
  },
  {
   "cell_type": "markdown",
   "metadata": {
    "id": "BD4gmIHW-Npq"
   },
   "source": [
    "#### **Adding iterables (like list, tuple)**\n",
    " We can use append(), extend() methods to add new elements to the list from exieting iterables like (list):\n",
    "1. .append() method adds the iterable as single element to the end of the target list. The length of the target list itself will only increase by one.\n",
    "2. .extend() takes an iterable as an argument, unpacks its items, and adds them to the end of your target list. The length of the target list will increase by number of elements in the passed iterable.\n"
   ]
  },
  {
   "cell_type": "code",
   "execution_count": 40,
   "metadata": {
    "ExecuteTime": {
     "end_time": "2022-09-04T14:55:34.116945Z",
     "start_time": "2022-09-04T14:55:34.098993Z"
    },
    "colab": {
     "base_uri": "https://localhost:8080/"
    },
    "executionInfo": {
     "elapsed": 92,
     "status": "ok",
     "timestamp": 1661132901527,
     "user": {
      "displayName": "Harpreet SIngh",
      "userId": "15106381096049879330"
     },
     "user_tz": 300
    },
    "id": "UuIjcrLwaaM6",
    "outputId": "c55062a1-c53f-4db1-e908-8676a0c77648"
   },
   "outputs": [
    {
     "name": "stdout",
     "output_type": "stream",
     "text": [
      "['Python', 'java', 'sql', 'C', ['database', 'object-oriented', 'first language']]\n"
     ]
    }
   ],
   "source": [
    "my_list1=['Python', 'java', 'sql', 'C']\n",
    "my_list2=['database', 'object-oriented', 'first language']\n",
    "# combine lists using append\n",
    "my_list1.append(my_list2)\n",
    "# print the combined list\n",
    "print(my_list1)"
   ]
  },
  {
   "cell_type": "code",
   "execution_count": 41,
   "metadata": {
    "ExecuteTime": {
     "end_time": "2022-09-04T14:55:35.465544Z",
     "start_time": "2022-09-04T14:55:35.456568Z"
    },
    "colab": {
     "base_uri": "https://localhost:8080/"
    },
    "executionInfo": {
     "elapsed": 2,
     "status": "ok",
     "timestamp": 1660701779749,
     "user": {
      "displayName": "Shaannoor Mann",
      "userId": "02520257695567980696"
     },
     "user_tz": 300
    },
    "id": "LMHIgENoaZdq",
    "outputId": "27b11c43-4f26-4c93-a68f-5bdde8684170"
   },
   "outputs": [
    {
     "name": "stdout",
     "output_type": "stream",
     "text": [
      "['Python', 'java', 'sql', 'C', 'database', 'object-oriented', 'first language']\n"
     ]
    }
   ],
   "source": [
    "my_list1=['Python', 'java', 'sql', 'C']\n",
    "my_list2=['database', 'object-oriented', 'first language']\n",
    "# combine lists using extend\n",
    "my_list1.extend(my_list2)\n",
    "# print the combined list\n",
    "print(my_list1)"
   ]
  },
  {
   "cell_type": "markdown",
   "metadata": {
    "id": "-cziw2Zj_gru"
   },
   "source": [
    "#### **Removing an element**\n",
    "To remove an element from a list, you can use remove(), del() or pop() methods.\n",
    "1. The pop() method deletes the item at a specific index.\n",
    "2. The del() method can be used to delete all the elements in a specific range.\n",
    "3. remove() method removes the first occurence of matching element."
   ]
  },
  {
   "cell_type": "code",
   "execution_count": 42,
   "metadata": {
    "ExecuteTime": {
     "end_time": "2022-09-04T14:55:37.051652Z",
     "start_time": "2022-09-04T14:55:37.039949Z"
    },
    "id": "kI-ZWNe1AFJF"
   },
   "outputs": [
    {
     "name": "stdout",
     "output_type": "stream",
     "text": [
      "['physics', 1997, 2000]\n"
     ]
    }
   ],
   "source": [
    "list1 = ['physics','Mathematics','chemistry', 1997, 2000]\n",
    "# remove Mathematics and chemistry from list1 using del method\n",
    "del list1[1:3]\n",
    "# print the list\n",
    "print(list1)"
   ]
  },
  {
   "cell_type": "code",
   "execution_count": 43,
   "metadata": {
    "ExecuteTime": {
     "end_time": "2022-09-04T14:55:38.690142Z",
     "start_time": "2022-09-04T14:55:38.677562Z"
    },
    "colab": {
     "base_uri": "https://localhost:8080/"
    },
    "executionInfo": {
     "elapsed": 95,
     "status": "ok",
     "timestamp": 1661133023729,
     "user": {
      "displayName": "Harpreet SIngh",
      "userId": "15106381096049879330"
     },
     "user_tz": 300
    },
    "id": "BIT2CinenfbU",
    "outputId": "cd4f205c-e864-41b9-c282-6d4602bd36ae"
   },
   "outputs": [
    {
     "name": "stdout",
     "output_type": "stream",
     "text": [
      "2000\n",
      "['physics', 'chemistry', 1997]\n"
     ]
    }
   ],
   "source": [
    "# Using pop() function to delete the element\n",
    "# By default pop will remove the last element \n",
    "list1 = ['physics', 'chemistry', 1997, 2000]\n",
    "\n",
    "# use pop to remove last element\n",
    "removed_element = list1.pop()\n",
    "# print removed element\n",
    "print(removed_element)\n",
    "\n",
    "# print list\n",
    "print(list1)"
   ]
  },
  {
   "cell_type": "code",
   "execution_count": 44,
   "metadata": {
    "ExecuteTime": {
     "end_time": "2022-09-04T14:55:39.901318Z",
     "start_time": "2022-09-04T14:55:39.885844Z"
    },
    "colab": {
     "base_uri": "https://localhost:8080/"
    },
    "executionInfo": {
     "elapsed": 94,
     "status": "ok",
     "timestamp": 1661133059647,
     "user": {
      "displayName": "Harpreet SIngh",
      "userId": "15106381096049879330"
     },
     "user_tz": 300
    },
    "id": "d_cYOeLbAd6_",
    "outputId": "fbf14b65-8c75-44d7-b88d-de79e8dec407"
   },
   "outputs": [
    {
     "name": "stdout",
     "output_type": "stream",
     "text": [
      "1997\n",
      "['physics', 'chemistry', 2000]\n"
     ]
    }
   ],
   "source": [
    "# Using pop() function to delete the element at specific index\n",
    "list1 = ['physics', 'chemistry', 1997, 2000]\n",
    "\n",
    "# Deleting the element at the second index\n",
    "removed_element = list1.pop(2)\n",
    "# print removed element\n",
    "print(removed_element)\n",
    "\n",
    "# print list\n",
    "print(list1)"
   ]
  },
  {
   "cell_type": "code",
   "execution_count": 45,
   "metadata": {
    "ExecuteTime": {
     "end_time": "2022-09-04T14:55:41.002018Z",
     "start_time": "2022-09-04T14:55:40.987526Z"
    },
    "colab": {
     "base_uri": "https://localhost:8080/"
    },
    "executionInfo": {
     "elapsed": 112,
     "status": "ok",
     "timestamp": 1661133065215,
     "user": {
      "displayName": "Harpreet SIngh",
      "userId": "15106381096049879330"
     },
     "user_tz": 300
    },
    "id": "CKqU1ieSnWRq",
    "outputId": "352cc534-4f6c-45b0-e52c-ce96b20de66f"
   },
   "outputs": [
    {
     "name": "stdout",
     "output_type": "stream",
     "text": [
      "['English', 'German', 'spanish', 'Chinese', 1997, [1, 3, 4]]\n"
     ]
    }
   ],
   "source": [
    "# Deleting the element from the sub-list\n",
    "# select the sublist first and then use pop to romove specific element\n",
    "\n",
    "list2 = ['English','German','spanish','Chinese', 1997, [1,2,3,4]]\n",
    "# remove second element from sublist\n",
    "list2[5].pop(1)\n",
    "print(list2)"
   ]
  },
  {
   "cell_type": "code",
   "execution_count": 46,
   "metadata": {
    "ExecuteTime": {
     "end_time": "2022-09-04T14:55:42.106254Z",
     "start_time": "2022-09-04T14:55:42.089299Z"
    },
    "colab": {
     "base_uri": "https://localhost:8080/"
    },
    "executionInfo": {
     "elapsed": 102,
     "status": "ok",
     "timestamp": 1661133102139,
     "user": {
      "displayName": "Harpreet SIngh",
      "userId": "15106381096049879330"
     },
     "user_tz": 300
    },
    "id": "urJm35RuiwQw",
    "outputId": "b0016d71-cfab-4931-d0af-b772f6bd88c4"
   },
   "outputs": [
    {
     "name": "stdout",
     "output_type": "stream",
     "text": [
      "[12, 45, 12, 45, 63, 78, 95, 42]\n"
     ]
    }
   ],
   "source": [
    "# Using remove() method\n",
    "# It will remove the first matching element.\n",
    "my_list=[12, 45, 5, 12, 45, 63, 78, 95, 42]\n",
    "\n",
    "# remove first occurunce of 12\n",
    "my_list.remove(5) \n",
    "print(my_list)"
   ]
  },
  {
   "cell_type": "markdown",
   "metadata": {
    "id": "t9NgjW6WUo7d"
   },
   "source": [
    "### **Tuple** ###\n",
    "1. Tuples are similar to list.\n",
    "2. The only difference is that tuples are immutable that is it cannot be modified.\n",
    "3. Tuples are created by placing a sequence of values separated by ‘comma’ with parenthesis.\n",
    "4. list uses [], while tuple uses ()\n",
    " \n",
    " **Example**: my_tuple = (2, 3, 4, \"first tuple\")\n"
   ]
  },
  {
   "cell_type": "code",
   "execution_count": 47,
   "metadata": {
    "ExecuteTime": {
     "end_time": "2022-09-04T14:55:44.546274Z",
     "start_time": "2022-09-04T14:55:44.534310Z"
    },
    "colab": {
     "base_uri": "https://localhost:8080/"
    },
    "executionInfo": {
     "elapsed": 110,
     "status": "ok",
     "timestamp": 1661133159137,
     "user": {
      "displayName": "Harpreet SIngh",
      "userId": "15106381096049879330"
     },
     "user_tz": 300
    },
    "id": "0ol3G62Cmp53",
    "outputId": "434849f4-9595-4d04-b455-d9d3494ee6d7"
   },
   "outputs": [
    {
     "name": "stdout",
     "output_type": "stream",
     "text": [
      "Tuple with the use of String: \n",
      "('Anaconda', 'colabs')\n"
     ]
    }
   ],
   "source": [
    "# Creating a Tuple with the use of Strings\n",
    "Tuple1 = ('Anaconda', 'colabs')\n",
    "print(\"Tuple with the use of String: \")\n",
    "print(Tuple1)"
   ]
  },
  {
   "cell_type": "code",
   "execution_count": 48,
   "metadata": {
    "ExecuteTime": {
     "end_time": "2022-09-04T14:57:17.893810Z",
     "start_time": "2022-09-04T14:57:17.875856Z"
    },
    "colab": {
     "base_uri": "https://localhost:8080/"
    },
    "executionInfo": {
     "elapsed": 89,
     "status": "ok",
     "timestamp": 1661133160136,
     "user": {
      "displayName": "Harpreet SIngh",
      "userId": "15106381096049879330"
     },
     "user_tz": 300
    },
    "id": "q95q_cQfoSwc",
    "outputId": "d90d1201-1406-48ed-c670-09e738529a8c"
   },
   "outputs": [
    {
     "name": "stdout",
     "output_type": "stream",
     "text": [
      "Tuple with the use of function: \n",
      "('S', 't', 'a', 't', 'i', 's', 't', 'i', 'c', 's')\n"
     ]
    }
   ],
   "source": [
    "# Creating a Tuple with the  use of built-in function\n",
    "Tuple_2 = tuple('Statistics')\n",
    "print(\"Tuple with the use of function: \")\n",
    "print(Tuple_2)"
   ]
  },
  {
   "cell_type": "code",
   "execution_count": 49,
   "metadata": {
    "ExecuteTime": {
     "end_time": "2022-09-04T14:57:20.226323Z",
     "start_time": "2022-09-04T14:57:20.210336Z"
    },
    "colab": {
     "base_uri": "https://localhost:8080/"
    },
    "executionInfo": {
     "elapsed": 126,
     "status": "ok",
     "timestamp": 1661133178421,
     "user": {
      "displayName": "Harpreet SIngh",
      "userId": "15106381096049879330"
     },
     "user_tz": 300
    },
    "id": "-Yjbgnw5m6du",
    "outputId": "2bde21b8-0569-40ac-e3ab-aca78b6b44b8"
   },
   "outputs": [
    {
     "name": "stdout",
     "output_type": "stream",
     "text": [
      "Tuple using List: \n",
      "(10, 20, 40, 50, 60)\n"
     ]
    }
   ],
   "source": [
    "# Creating a Tuple with the use of list\n",
    "list1 = [10, 20, 40, 50, 60]\n",
    "print(\"Tuple using List: \")\n",
    "print(tuple(list1))"
   ]
  },
  {
   "cell_type": "code",
   "execution_count": 50,
   "metadata": {
    "ExecuteTime": {
     "end_time": "2022-09-04T14:57:21.980485Z",
     "start_time": "2022-09-04T14:57:21.961534Z"
    },
    "colab": {
     "base_uri": "https://localhost:8080/"
    },
    "executionInfo": {
     "elapsed": 103,
     "status": "ok",
     "timestamp": 1661133184561,
     "user": {
      "displayName": "Harpreet SIngh",
      "userId": "15106381096049879330"
     },
     "user_tz": 300
    },
    "id": "gdC1rNp4od4E",
    "outputId": "fb107992-91e9-4019-dec9-eea08a4ca65e"
   },
   "outputs": [
    {
     "name": "stdout",
     "output_type": "stream",
     "text": [
      "The combined tuple is (('Anaconda', 'colabs'), ('S', 't', 'a', 't', 'i', 's', 't', 'i', 'c', 's'))\n"
     ]
    }
   ],
   "source": [
    "# Creating nested tuple\n",
    "Tuple_3 =(Tuple1,Tuple_2)\n",
    "print(\"The combined tuple is\",Tuple_3)"
   ]
  },
  {
   "cell_type": "markdown",
   "metadata": {
    "id": "nriM_8EpYLjE"
   },
   "source": [
    "We can use the slicing operator **[ ]** to extract items but we cannot change its value."
   ]
  },
  {
   "cell_type": "code",
   "execution_count": 51,
   "metadata": {
    "ExecuteTime": {
     "end_time": "2022-09-04T14:57:23.935343Z",
     "start_time": "2022-09-04T14:57:23.925369Z"
    },
    "colab": {
     "base_uri": "https://localhost:8080/"
    },
    "executionInfo": {
     "elapsed": 88,
     "status": "ok",
     "timestamp": 1661133192455,
     "user": {
      "displayName": "Harpreet SIngh",
      "userId": "15106381096049879330"
     },
     "user_tz": 300
    },
    "id": "LNTqR_SwXsrt",
    "outputId": "745177cd-6ceb-467e-bca6-68f26730a816"
   },
   "outputs": [
    {
     "name": "stdout",
     "output_type": "stream",
     "text": [
      "Slicing the tuple from 0 to 2 Da\n"
     ]
    }
   ],
   "source": [
    "# Accesing the tuple elements\n",
    "Tuple_2 = ('DataScience')\n",
    "print('Slicing the tuple from 0 to 2', Tuple_2[0:2])"
   ]
  },
  {
   "cell_type": "code",
   "execution_count": 52,
   "metadata": {
    "ExecuteTime": {
     "end_time": "2022-09-04T14:57:25.237656Z",
     "start_time": "2022-09-04T14:57:25.222698Z"
    },
    "colab": {
     "base_uri": "https://localhost:8080/",
     "height": 208
    },
    "executionInfo": {
     "elapsed": 84,
     "status": "error",
     "timestamp": 1661133199140,
     "user": {
      "displayName": "Harpreet SIngh",
      "userId": "15106381096049879330"
     },
     "user_tz": 300
    },
    "id": "nsD6rnyXntCQ",
    "outputId": "6285f9dd-2bc4-4650-d2c1-b4eb4ba0ceff"
   },
   "outputs": [
    {
     "ename": "TypeError",
     "evalue": "'str' object does not support item assignment",
     "output_type": "error",
     "traceback": [
      "\u001b[1;31m---------------------------------------------------------------------------\u001b[0m",
      "\u001b[1;31mTypeError\u001b[0m                                 Traceback (most recent call last)",
      "\u001b[1;32m<ipython-input-52-43bd5a6bd01f>\u001b[0m in \u001b[0;36m<module>\u001b[1;34m\u001b[0m\n\u001b[0;32m      1\u001b[0m \u001b[1;31m# We can't modify the tuple elements and it will throw an error\u001b[0m\u001b[1;33m\u001b[0m\u001b[1;33m\u001b[0m\u001b[1;33m\u001b[0m\u001b[0m\n\u001b[0;32m      2\u001b[0m \u001b[0mTuple_3\u001b[0m \u001b[1;33m=\u001b[0m\u001b[1;33m(\u001b[0m\u001b[1;34m'Jupyter Notebook'\u001b[0m\u001b[1;33m)\u001b[0m\u001b[1;33m\u001b[0m\u001b[1;33m\u001b[0m\u001b[0m\n\u001b[1;32m----> 3\u001b[1;33m \u001b[0mTuple_3\u001b[0m\u001b[1;33m[\u001b[0m\u001b[1;36m2\u001b[0m\u001b[1;33m]\u001b[0m\u001b[1;33m=\u001b[0m \u001b[1;34m'h'\u001b[0m\u001b[1;33m\u001b[0m\u001b[1;33m\u001b[0m\u001b[0m\n\u001b[0m",
      "\u001b[1;31mTypeError\u001b[0m: 'str' object does not support item assignment"
     ]
    }
   ],
   "source": [
    "# We can't modify the tuple elements and it will throw an error\n",
    "Tuple_3 =('Jupyter Notebook')\n",
    "Tuple_3[2]= 'h'"
   ]
  },
  {
   "cell_type": "markdown",
   "metadata": {
    "id": "PfIs01cZBiPH"
   },
   "source": [
    "#### **Adding new elements**\n",
    "\n",
    "Since tuples are immutable. We cannot update them by using any method like append()."
   ]
  },
  {
   "cell_type": "code",
   "execution_count": 53,
   "metadata": {
    "ExecuteTime": {
     "end_time": "2022-09-04T14:57:26.442627Z",
     "start_time": "2022-09-04T14:57:26.430660Z"
    },
    "colab": {
     "base_uri": "https://localhost:8080/",
     "height": 226
    },
    "executionInfo": {
     "elapsed": 80,
     "status": "error",
     "timestamp": 1661133206525,
     "user": {
      "displayName": "Harpreet SIngh",
      "userId": "15106381096049879330"
     },
     "user_tz": 300
    },
    "id": "ggB8UK_dBsg8",
    "outputId": "a2bd2f14-d6d7-4e44-877f-a6c89bb56a23"
   },
   "outputs": [
    {
     "ename": "AttributeError",
     "evalue": "'tuple' object has no attribute 'append'",
     "output_type": "error",
     "traceback": [
      "\u001b[1;31m---------------------------------------------------------------------------\u001b[0m",
      "\u001b[1;31mAttributeError\u001b[0m                            Traceback (most recent call last)",
      "\u001b[1;32m<ipython-input-53-fcee417b9590>\u001b[0m in \u001b[0;36m<module>\u001b[1;34m\u001b[0m\n\u001b[0;32m      1\u001b[0m \u001b[1;31m# We cannot use append to update the tuple but we can concatenate two tuples.\u001b[0m\u001b[1;33m\u001b[0m\u001b[1;33m\u001b[0m\u001b[1;33m\u001b[0m\u001b[0m\n\u001b[0;32m      2\u001b[0m \u001b[0mt\u001b[0m \u001b[1;33m=\u001b[0m \u001b[1;33m(\u001b[0m\u001b[1;36m5\u001b[0m\u001b[1;33m,\u001b[0m \u001b[1;36m6\u001b[0m\u001b[1;33m,\u001b[0m \u001b[1;36m2\u001b[0m\u001b[1;33m)\u001b[0m\u001b[1;33m\u001b[0m\u001b[1;33m\u001b[0m\u001b[0m\n\u001b[1;32m----> 3\u001b[1;33m \u001b[0mt1\u001b[0m \u001b[1;33m=\u001b[0m \u001b[0mt\u001b[0m\u001b[1;33m.\u001b[0m\u001b[0mappend\u001b[0m\u001b[1;33m(\u001b[0m\u001b[1;36m78\u001b[0m\u001b[1;33m)\u001b[0m\u001b[1;33m\u001b[0m\u001b[1;33m\u001b[0m\u001b[0m\n\u001b[0m\u001b[0;32m      4\u001b[0m \u001b[0mprint\u001b[0m\u001b[1;33m(\u001b[0m\u001b[0mt1\u001b[0m\u001b[1;33m)\u001b[0m\u001b[1;33m\u001b[0m\u001b[1;33m\u001b[0m\u001b[0m\n",
      "\u001b[1;31mAttributeError\u001b[0m: 'tuple' object has no attribute 'append'"
     ]
    }
   ],
   "source": [
    "# We cannot use append to update the tuple but we can concatenate two tuples.\n",
    "t = (5, 6, 2)\n",
    "t1 = t.append(78)\n",
    "print(t1)"
   ]
  },
  {
   "cell_type": "markdown",
   "metadata": {
    "id": "4Guo0vsOCorw"
   },
   "source": [
    "#### **Removing an element**\n",
    "\n",
    "Removing individual tuple elements is not possible."
   ]
  },
  {
   "cell_type": "code",
   "execution_count": 54,
   "metadata": {
    "ExecuteTime": {
     "end_time": "2022-09-04T14:57:28.111783Z",
     "start_time": "2022-09-04T14:57:28.095169Z"
    },
    "colab": {
     "base_uri": "https://localhost:8080/",
     "height": 171
    },
    "executionInfo": {
     "elapsed": 110,
     "status": "error",
     "timestamp": 1661133213039,
     "user": {
      "displayName": "Harpreet SIngh",
      "userId": "15106381096049879330"
     },
     "user_tz": 300
    },
    "id": "N4ZkvEgGBqQx",
    "outputId": "e6bebe05-88d5-4fb7-b5a3-d977e140b7fc"
   },
   "outputs": [
    {
     "ename": "NameError",
     "evalue": "name 't1' is not defined",
     "output_type": "error",
     "traceback": [
      "\u001b[1;31m---------------------------------------------------------------------------\u001b[0m",
      "\u001b[1;31mNameError\u001b[0m                                 Traceback (most recent call last)",
      "\u001b[1;32m<ipython-input-54-31041e664311>\u001b[0m in \u001b[0;36m<module>\u001b[1;34m\u001b[0m\n\u001b[1;32m----> 1\u001b[1;33m \u001b[1;32mdel\u001b[0m \u001b[0mt1\u001b[0m\u001b[1;33m[\u001b[0m\u001b[1;36m1\u001b[0m\u001b[1;33m]\u001b[0m\u001b[1;33m\u001b[0m\u001b[1;33m\u001b[0m\u001b[0m\n\u001b[0m",
      "\u001b[1;31mNameError\u001b[0m: name 't1' is not defined"
     ]
    }
   ],
   "source": [
    "del t1[1]"
   ]
  },
  {
   "cell_type": "code",
   "execution_count": 55,
   "metadata": {
    "ExecuteTime": {
     "end_time": "2022-09-04T14:57:29.012484Z",
     "start_time": "2022-09-04T14:57:28.996531Z"
    },
    "id": "FH7vhrE_YOF5"
   },
   "outputs": [],
   "source": [
    "# We can remove an entire tuple by using del statement\n",
    "# let us delete tuple t\n",
    "del t"
   ]
  },
  {
   "cell_type": "markdown",
   "metadata": {
    "id": "_mP8j0i91U_E"
   },
   "source": [
    "#### **Concatenating Sequences**\n",
    "1. Sometimes we require to join some records. \n",
    "2. We can use + operator to join strings, tuples and lists\n",
    "\n"
   ]
  },
  {
   "cell_type": "markdown",
   "metadata": {
    "id": "Srl9M7Fm4KXh"
   },
   "source": [
    "##### **Concatenating using '+' operator**\n",
    "\n",
    "Here, We will add two tuples ato get a new concatenated tuple."
   ]
  },
  {
   "cell_type": "code",
   "execution_count": 56,
   "metadata": {
    "ExecuteTime": {
     "end_time": "2022-09-04T14:57:31.484626Z",
     "start_time": "2022-09-04T14:57:31.473649Z"
    },
    "colab": {
     "base_uri": "https://localhost:8080/"
    },
    "executionInfo": {
     "elapsed": 96,
     "status": "ok",
     "timestamp": 1661133276194,
     "user": {
      "displayName": "Harpreet SIngh",
      "userId": "15106381096049879330"
     },
     "user_tz": 300
    },
    "id": "kLHze8c45xPN",
    "outputId": "d9e874cb-4b18-4928-9ce5-e32895a984f7"
   },
   "outputs": [
    {
     "name": "stdout",
     "output_type": "stream",
     "text": [
      "Concatenated tuple is :(10, 25, 63, 45, 78, 20, 30, 10, 20, 45)\n"
     ]
    }
   ],
   "source": [
    "# Concatenating tuples by using '+'\n",
    "a = (10, 25, 63, 45, 78, 20, 30)\n",
    "b = (10, 20, 45)\n",
    "# concatenate tuples using + operator\n",
    "c = a + b\n",
    "print(f'Concatenated tuple is :{c}')"
   ]
  },
  {
   "cell_type": "code",
   "execution_count": 57,
   "metadata": {
    "ExecuteTime": {
     "end_time": "2022-09-04T14:57:32.256010Z",
     "start_time": "2022-09-04T14:57:32.237061Z"
    },
    "colab": {
     "base_uri": "https://localhost:8080/"
    },
    "executionInfo": {
     "elapsed": 2,
     "status": "ok",
     "timestamp": 1660701795517,
     "user": {
      "displayName": "Shaannoor Mann",
      "userId": "02520257695567980696"
     },
     "user_tz": 300
    },
    "id": "OAd1svoeyymy",
    "outputId": "271e0884-2d26-49a0-eee4-237829baf990"
   },
   "outputs": [
    {
     "name": "stdout",
     "output_type": "stream",
     "text": [
      "Concatenated string is My name is Harpreet\n"
     ]
    }
   ],
   "source": [
    "# Concatenating strings by using '+'\n",
    "a = 'My name is '\n",
    "b = 'Harpreet'\n",
    "# concatenate strings using + operator\n",
    "print(f'Concatenated string is {a+b}')"
   ]
  },
  {
   "cell_type": "code",
   "execution_count": 58,
   "metadata": {
    "ExecuteTime": {
     "end_time": "2022-09-04T14:57:32.881587Z",
     "start_time": "2022-09-04T14:57:32.863633Z"
    },
    "colab": {
     "base_uri": "https://localhost:8080/"
    },
    "executionInfo": {
     "elapsed": 140,
     "status": "ok",
     "timestamp": 1661133334046,
     "user": {
      "displayName": "Harpreet SIngh",
      "userId": "15106381096049879330"
     },
     "user_tz": 300
    },
    "id": "eoYnEdyFQthn",
    "outputId": "c46a70db-e67c-4497-ec87-3eab77fb9001"
   },
   "outputs": [
    {
     "name": "stdout",
     "output_type": "stream",
     "text": [
      "Concatenated tuple is :[10, 25, 63, 45, 78, 20, 30, 10, 20, 45]\n"
     ]
    }
   ],
   "source": [
    "# Concatenating lists by using '+'\n",
    "a = [10, 25, 63, 45, 78, 20, 30]\n",
    "b = [10, 20, 45]\n",
    "# concatenate tuples using + operator\n",
    "c = a + b\n",
    "print(f'Concatenated tuple is :{c}')"
   ]
  },
  {
   "cell_type": "markdown",
   "metadata": {
    "id": "UlqSkjQi62ca"
   },
   "source": [
    "## **Dictionary** ##\n",
    "1. Dictionary is an **unordered** collection of key-value pairs.\n",
    "   \n",
    "   **Example** : sample_dict ={0:'hi', 1 : 'new', 2: 'dictionary'}\n",
    "   \n",
    "   where, **Keys** : 0, 1, 2 and **values**: hi, new, dictionary\n",
    "                       \n",
    "2. Used for huge amount of data. \n",
    "\n",
    "3. Dictionary can be created by placing a sequence of elements within curly {} braces, separated by ‘comma’ or by using dict() keyword. \n",
    "  \n",
    "5. Dictionary consist of keys and values. \n",
    "6. keys can’t be repeated and must be immutable\n",
    "6. We must know the key to retrieve the value from dictionary. "
   ]
  },
  {
   "cell_type": "code",
   "execution_count": 59,
   "metadata": {
    "ExecuteTime": {
     "end_time": "2022-09-04T14:57:34.107694Z",
     "start_time": "2022-09-04T14:57:34.089745Z"
    },
    "colab": {
     "base_uri": "https://localhost:8080/"
    },
    "executionInfo": {
     "elapsed": 309,
     "status": "ok",
     "timestamp": 1661198715640,
     "user": {
      "displayName": "Kyungseob Shim",
      "userId": "04167791068819005440"
     },
     "user_tz": 300
    },
    "id": "RcbmQmluc4AS",
    "outputId": "2254cbe1-fd1f-43e0-b598-77a6bd116868"
   },
   "outputs": [
    {
     "name": "stdout",
     "output_type": "stream",
     "text": [
      "Check the values in the dictionary: {}\n"
     ]
    }
   ],
   "source": [
    "# Create empty dictionary\n",
    "empty_dict = {}\n",
    "print(f'Check the values in the dictionary: {empty_dict}', )"
   ]
  },
  {
   "cell_type": "code",
   "execution_count": 60,
   "metadata": {
    "ExecuteTime": {
     "end_time": "2022-09-04T14:57:34.618081Z",
     "start_time": "2022-09-04T14:57:34.610464Z"
    },
    "colab": {
     "base_uri": "https://localhost:8080/"
    },
    "executionInfo": {
     "elapsed": 2,
     "status": "ok",
     "timestamp": 1661198718120,
     "user": {
      "displayName": "Kyungseob Shim",
      "userId": "04167791068819005440"
     },
     "user_tz": 300
    },
    "id": "I4tZHQgDaQ4i",
    "outputId": "70824e16-cb90-4137-bdb8-46c55320d88f"
   },
   "outputs": [
    {
     "name": "stdout",
     "output_type": "stream",
     "text": [
      "The dict_1 belongs to class  : <class 'dict'>\n"
     ]
    }
   ],
   "source": [
    "# check data type of dictionary\n",
    "dict_1 = {1: 'apple', 2: 'banana', 3: 'orange' }\n",
    "# check the data type\n",
    "print(\"The dict_1 belongs to class  :\", type(dict_1))"
   ]
  },
  {
   "cell_type": "code",
   "execution_count": 61,
   "metadata": {
    "ExecuteTime": {
     "end_time": "2022-09-04T14:57:35.045579Z",
     "start_time": "2022-09-04T14:57:35.034613Z"
    },
    "colab": {
     "base_uri": "https://localhost:8080/"
    },
    "executionInfo": {
     "elapsed": 7,
     "status": "ok",
     "timestamp": 1661198720814,
     "user": {
      "displayName": "Kyungseob Shim",
      "userId": "04167791068819005440"
     },
     "user_tz": 300
    },
    "id": "GMl_LCixbBS3",
    "outputId": "9ff1d28d-2078-41f4-f9b9-8f692380e367"
   },
   "outputs": [
    {
     "data": {
      "text/plain": [
       "dict_keys([1, 2, 3])"
      ]
     },
     "execution_count": 61,
     "metadata": {},
     "output_type": "execute_result"
    }
   ],
   "source": [
    "# We can check the keys in the dictionary by using .keys()\n",
    "dict_1.keys()"
   ]
  },
  {
   "cell_type": "code",
   "execution_count": 62,
   "metadata": {
    "ExecuteTime": {
     "end_time": "2022-09-04T14:57:35.500000Z",
     "start_time": "2022-09-04T14:57:35.487005Z"
    },
    "colab": {
     "base_uri": "https://localhost:8080/"
    },
    "executionInfo": {
     "elapsed": 3,
     "status": "ok",
     "timestamp": 1661198723438,
     "user": {
      "displayName": "Kyungseob Shim",
      "userId": "04167791068819005440"
     },
     "user_tz": 300
    },
    "id": "3NJLFOuLbNLV",
    "outputId": "72796571-c50e-4ae6-c1de-d45ef56580c7"
   },
   "outputs": [
    {
     "data": {
      "text/plain": [
       "dict_values(['apple', 'banana', 'orange'])"
      ]
     },
     "execution_count": 62,
     "metadata": {},
     "output_type": "execute_result"
    }
   ],
   "source": [
    "# To check the values in the dictionary by using .values()\n",
    "dict_1.values()"
   ]
  },
  {
   "cell_type": "code",
   "execution_count": 63,
   "metadata": {
    "ExecuteTime": {
     "end_time": "2022-09-04T14:57:35.877030Z",
     "start_time": "2022-09-04T14:57:35.871048Z"
    },
    "colab": {
     "base_uri": "https://localhost:8080/"
    },
    "executionInfo": {
     "elapsed": 3,
     "status": "ok",
     "timestamp": 1661198725416,
     "user": {
      "displayName": "Kyungseob Shim",
      "userId": "04167791068819005440"
     },
     "user_tz": 300
    },
    "id": "IvL2M0UidX1y",
    "outputId": "7a6244fc-c04f-4dea-d7cc-0367b96549d6"
   },
   "outputs": [
    {
     "name": "stdout",
     "output_type": "stream",
     "text": [
      "{'keyword': 1, 'tutorials': 2}\n"
     ]
    }
   ],
   "source": [
    "# Using dict() keyword to create a dictionary\n",
    "my_dict = dict({'keyword' :1, 'tutorials' : 2})\n",
    "print(my_dict)"
   ]
  },
  {
   "cell_type": "markdown",
   "metadata": {
    "id": "FWUn90tWblXg"
   },
   "source": [
    "We use key to retrieve the respective value. But not the other way around."
   ]
  },
  {
   "cell_type": "code",
   "execution_count": 64,
   "metadata": {
    "ExecuteTime": {
     "end_time": "2022-09-04T14:57:36.736436Z",
     "start_time": "2022-09-04T14:57:36.720479Z"
    },
    "colab": {
     "base_uri": "https://localhost:8080/"
    },
    "executionInfo": {
     "elapsed": 7,
     "status": "ok",
     "timestamp": 1661198727526,
     "user": {
      "displayName": "Kyungseob Shim",
      "userId": "04167791068819005440"
     },
     "user_tz": 300
    },
    "id": "NqA3T2fCbmsF",
    "outputId": "f37bb1fc-c08b-42e3-8306-dc6db88cfa89"
   },
   "outputs": [
    {
     "name": "stdout",
     "output_type": "stream",
     "text": [
      "dict_1[1]=  apple\n"
     ]
    }
   ],
   "source": [
    "# Retrieve the values using keys\n",
    "print('dict_1[1]= ', dict_1[1]) "
   ]
  },
  {
   "cell_type": "code",
   "execution_count": 65,
   "metadata": {
    "ExecuteTime": {
     "end_time": "2022-09-04T14:57:37.191643Z",
     "start_time": "2022-09-04T14:57:37.174957Z"
    },
    "colab": {
     "base_uri": "https://localhost:8080/",
     "height": 188
    },
    "executionInfo": {
     "elapsed": 422,
     "status": "error",
     "timestamp": 1661198746332,
     "user": {
      "displayName": "Kyungseob Shim",
      "userId": "04167791068819005440"
     },
     "user_tz": 300
    },
    "id": "o6oO-HAYcdAL",
    "outputId": "9aa4be72-b3e3-4448-920e-fa6aff0d63e1"
   },
   "outputs": [
    {
     "ename": "KeyError",
     "evalue": "'orange'",
     "output_type": "error",
     "traceback": [
      "\u001b[1;31m---------------------------------------------------------------------------\u001b[0m",
      "\u001b[1;31mKeyError\u001b[0m                                  Traceback (most recent call last)",
      "\u001b[1;32m<ipython-input-65-5a9d7e9992b4>\u001b[0m in \u001b[0;36m<module>\u001b[1;34m\u001b[0m\n\u001b[0;32m      1\u001b[0m \u001b[1;31m# We can't use the values to retrieve keys and it will generate error.\u001b[0m\u001b[1;33m\u001b[0m\u001b[1;33m\u001b[0m\u001b[1;33m\u001b[0m\u001b[0m\n\u001b[1;32m----> 2\u001b[1;33m \u001b[0mprint\u001b[0m\u001b[1;33m(\u001b[0m\u001b[1;34m\"dict_1['orange'] =\"\u001b[0m\u001b[1;33m,\u001b[0m\u001b[0mdict_1\u001b[0m\u001b[1;33m[\u001b[0m\u001b[1;34m'orange'\u001b[0m\u001b[1;33m]\u001b[0m\u001b[1;33m)\u001b[0m\u001b[1;33m\u001b[0m\u001b[1;33m\u001b[0m\u001b[0m\n\u001b[0m",
      "\u001b[1;31mKeyError\u001b[0m: 'orange'"
     ]
    }
   ],
   "source": [
    "# We can't use the values to retrieve keys and it will generate error.\n",
    "print(\"dict_1['orange'] =\",dict_1['orange'])"
   ]
  },
  {
   "cell_type": "markdown",
   "metadata": {
    "id": "ZySjbHhFFN47"
   },
   "source": [
    "### **Updating the dictionary**\n",
    "\n",
    "1. We can update a dictionary by adding a key-value pair, modifying an existing value, or by using the append() method.\n",
    "2. To update the existing elements inside a dictionary, we need a reference to the key we want the value to be updated."
   ]
  },
  {
   "cell_type": "code",
   "execution_count": 66,
   "metadata": {
    "ExecuteTime": {
     "end_time": "2022-09-04T14:57:38.105518Z",
     "start_time": "2022-09-04T14:57:38.087567Z"
    },
    "colab": {
     "base_uri": "https://localhost:8080/"
    },
    "executionInfo": {
     "elapsed": 417,
     "status": "ok",
     "timestamp": 1661198795521,
     "user": {
      "displayName": "Kyungseob Shim",
      "userId": "04167791068819005440"
     },
     "user_tz": 300
    },
    "id": "dzrpx2VgJDhy",
    "outputId": "0ca8c814-4552-47de-ad14-187830685376"
   },
   "outputs": [
    {
     "name": "stdout",
     "output_type": "stream",
     "text": [
      "{'Name': 'Zara', 'Age': 8, 'Class': 'First'}\n"
     ]
    }
   ],
   "source": [
    "my_dict = {'Name': 'Zara', 'Age': 7, 'Class': 'First'}\n",
    "\n",
    "# update existing entry\n",
    "# update age to 8\n",
    "my_dict['Age'] = 8 \n",
    "\n",
    "# print dictionary\n",
    "print(my_dict)"
   ]
  },
  {
   "cell_type": "code",
   "execution_count": 67,
   "metadata": {
    "ExecuteTime": {
     "end_time": "2022-09-04T14:57:38.585992Z",
     "start_time": "2022-09-04T14:57:38.576018Z"
    },
    "colab": {
     "base_uri": "https://localhost:8080/"
    },
    "executionInfo": {
     "elapsed": 4,
     "status": "ok",
     "timestamp": 1661198800021,
     "user": {
      "displayName": "Kyungseob Shim",
      "userId": "04167791068819005440"
     },
     "user_tz": 300
    },
    "id": "pnvZWvRX1dLl",
    "outputId": "c85d194f-3c2e-431c-c3ac-c7fcdf44f2e2"
   },
   "outputs": [
    {
     "name": "stdout",
     "output_type": "stream",
     "text": [
      "{'Name': 'Zara', 'Age': 8, 'Class': 'First', 'School': 'DPS School'}\n"
     ]
    }
   ],
   "source": [
    "# Add new entry with Key as school and Value DPS School\n",
    "my_dict['School'] = \"DPS School\"\n",
    "\n",
    "# print dictionary\n",
    "print(my_dict)"
   ]
  },
  {
   "cell_type": "code",
   "execution_count": 68,
   "metadata": {
    "ExecuteTime": {
     "end_time": "2022-09-04T14:57:38.981208Z",
     "start_time": "2022-09-04T14:57:38.963256Z"
    },
    "colab": {
     "base_uri": "https://localhost:8080/"
    },
    "executionInfo": {
     "elapsed": 272,
     "status": "ok",
     "timestamp": 1661198802747,
     "user": {
      "displayName": "Kyungseob Shim",
      "userId": "04167791068819005440"
     },
     "user_tz": 300
    },
    "id": "VQYQX5n8KSmP",
    "outputId": "ccada82f-9b08-4d50-98e8-c55b674fc1e7"
   },
   "outputs": [
    {
     "name": "stdout",
     "output_type": "stream",
     "text": [
      "{'username': 'HJKL', 'email': 'abc@gmail.com', 'location': 'Hyderabad'}\n"
     ]
    }
   ],
   "source": [
    "my_dict = {\"username\": \"XYZ\", \"email\": \"abc@gmail.com\", \"location\": \"Hyderabad\"}\n",
    "\n",
    "# change the username to HJKL\n",
    "my_dict[\"username\"] = \"HJKL\"\n",
    "print(my_dict)"
   ]
  },
  {
   "cell_type": "code",
   "execution_count": 69,
   "metadata": {
    "ExecuteTime": {
     "end_time": "2022-09-04T14:57:39.356234Z",
     "start_time": "2022-09-04T14:57:39.343269Z"
    },
    "executionInfo": {
     "elapsed": 4,
     "status": "ok",
     "timestamp": 1661198805656,
     "user": {
      "displayName": "Kyungseob Shim",
      "userId": "04167791068819005440"
     },
     "user_tz": 300
    },
    "id": "2_m23rmxFUbo"
   },
   "outputs": [],
   "source": [
    "# Using an append/extend keyword to add elements to the dictionary which has list of values\n",
    "my_dict = {\"Name\":[],\"Address\":[],\"Age\":[]}"
   ]
  },
  {
   "cell_type": "code",
   "execution_count": 70,
   "metadata": {
    "ExecuteTime": {
     "end_time": "2022-09-04T14:57:40.656961Z",
     "start_time": "2022-09-04T14:57:40.648764Z"
    },
    "colab": {
     "base_uri": "https://localhost:8080/"
    },
    "executionInfo": {
     "elapsed": 6,
     "status": "ok",
     "timestamp": 1661198807165,
     "user": {
      "displayName": "Kyungseob Shim",
      "userId": "04167791068819005440"
     },
     "user_tz": 300
    },
    "id": "0Jf5vQvy-eb5",
    "outputId": "204d97a9-96f3-424d-ac89-56f081ca4871"
   },
   "outputs": [
    {
     "name": "stdout",
     "output_type": "stream",
     "text": [
      "The new dictionary by using extend keyword {'Name': ['Mike', 'Ram'], 'Address': ['USA', 'India'], 'Age': [42, 54]}\n"
     ]
    }
   ],
   "source": [
    "# add values using append \n",
    "# keysheer are lists\n",
    "# let us add two users with \n",
    "# name :  Mike, Ram\n",
    "# Address:  USA, India\n",
    "# Age:  42, 54\n",
    "\n",
    "my_dict[\"Name\"].extend([\"Mike\", \"Ram\"])\n",
    "my_dict[\"Address\"].extend([\"USA\", \"India\"])\n",
    "my_dict[\"Age\"].extend([42, 54])\t\n",
    "\n",
    "print(\"The new dictionary by using extend keyword\", my_dict)"
   ]
  },
  {
   "cell_type": "code",
   "execution_count": 71,
   "metadata": {
    "ExecuteTime": {
     "end_time": "2022-09-04T14:57:41.395797Z",
     "start_time": "2022-09-04T14:57:41.388807Z"
    },
    "colab": {
     "base_uri": "https://localhost:8080/"
    },
    "executionInfo": {
     "elapsed": 252,
     "status": "ok",
     "timestamp": 1661198809946,
     "user": {
      "displayName": "Kyungseob Shim",
      "userId": "04167791068819005440"
     },
     "user_tz": 300
    },
    "id": "E30vuIJD-qyo",
    "outputId": "3d141069-3290-413c-916a-5245c73e9060"
   },
   "outputs": [
    {
     "name": "stdout",
     "output_type": "stream",
     "text": [
      "The new dictionary by using append keyword {'Name': ['Mike', 'Ram', 'Robert'], 'Address': ['USA', 'India', 'Australia'], 'Age': [42, 54, 64]}\n"
     ]
    }
   ],
   "source": [
    "# Add a single new record using append\n",
    "# name : robert, address: australia, age 64\n",
    "\n",
    "my_dict[\"Name\"].append(\"Robert\")\n",
    "my_dict[\"Address\"].append(\"Australia\")\n",
    "my_dict[\"Age\"].append(64)\t\n",
    "\n",
    "print(\"The new dictionary by using append keyword\", my_dict)"
   ]
  },
  {
   "cell_type": "code",
   "execution_count": 72,
   "metadata": {
    "ExecuteTime": {
     "end_time": "2022-09-04T14:57:42.344755Z",
     "start_time": "2022-09-04T14:57:42.335779Z"
    },
    "colab": {
     "base_uri": "https://localhost:8080/"
    },
    "executionInfo": {
     "elapsed": 396,
     "status": "ok",
     "timestamp": 1661198955131,
     "user": {
      "displayName": "Kyungseob Shim",
      "userId": "04167791068819005440"
     },
     "user_tz": 300
    },
    "id": "WPNtfAL3-wlb",
    "outputId": "6c1bee59-6787-47d7-fbab-d217deb10d61"
   },
   "outputs": [
    {
     "name": "stdout",
     "output_type": "stream",
     "text": [
      "My updated distionary is : {'Name': ['Steven', 'Ram', 'Robert'], 'Address': ['USA', 'India', 'Australia'], 'Age': [42, 54, 64]}\n"
     ]
    }
   ],
   "source": [
    "# Update the dictionary to change the name from Mike to Steven\n",
    "\n",
    "my_dict[\"Name\"][0] = \"Steven\"\n",
    "print(f'My updated distionary is : {my_dict}')"
   ]
  },
  {
   "cell_type": "markdown",
   "metadata": {
    "id": "YHJ94g_LFy9G"
   },
   "source": [
    "### **Removing an element in a dictionary**\n",
    "\n",
    "1. We can either remove individual dictionary elements or clear the entire contents of a dictionary. \n",
    "2. Similar to lists, we can use del, pop and remove methods"
   ]
  },
  {
   "cell_type": "code",
   "execution_count": 73,
   "metadata": {
    "ExecuteTime": {
     "end_time": "2022-09-04T14:57:43.506962Z",
     "start_time": "2022-09-04T14:57:43.502333Z"
    },
    "colab": {
     "base_uri": "https://localhost:8080/"
    },
    "executionInfo": {
     "elapsed": 102,
     "status": "ok",
     "timestamp": 1661133541015,
     "user": {
      "displayName": "Harpreet SIngh",
      "userId": "15106381096049879330"
     },
     "user_tz": 300
    },
    "id": "pNFS2d8JGHSM",
    "outputId": "f55a10d9-1205-4b14-f95e-5a1761cf8a3e"
   },
   "outputs": [
    {
     "name": "stdout",
     "output_type": "stream",
     "text": [
      "{'Age': 7, 'Class': 'First', 'list': [1, 3, 4]}\n"
     ]
    }
   ],
   "source": [
    "#Using the del keyword to delete the elements\n",
    "my_dict = {'Name': 'Zara', 'Age': 7, 'Class': 'First', 'list':[1, 2, 3, 4]}\n",
    "\n",
    "# remove entry with key 'Name'\n",
    "del my_dict['Name'] \n",
    "\n",
    "# remove second element of inserted list \n",
    "del my_dict['list'][1]\n",
    "\n",
    "print(my_dict)"
   ]
  },
  {
   "cell_type": "code",
   "execution_count": 74,
   "metadata": {
    "ExecuteTime": {
     "end_time": "2022-09-04T14:57:44.156282Z",
     "start_time": "2022-09-04T14:57:44.138327Z"
    },
    "colab": {
     "base_uri": "https://localhost:8080/"
    },
    "executionInfo": {
     "elapsed": 85,
     "status": "ok",
     "timestamp": 1661133578298,
     "user": {
      "displayName": "Harpreet SIngh",
      "userId": "15106381096049879330"
     },
     "user_tz": 300
    },
    "id": "ed1N57DZGPIZ",
    "outputId": "f303b48f-7064-49b2-be5b-9d78da76bf00"
   },
   "outputs": [
    {
     "name": "stdout",
     "output_type": "stream",
     "text": [
      "{'Age': 7, 'Class': 'First', 'list': [1, 2, 3, 4]}\n"
     ]
    }
   ],
   "source": [
    "# Using pop and remove function to remove the elements\n",
    "my_dict = {'Name': 'Zara', 'Age': 7, 'Class': 'First', 'list':[1, 2, 2, 3, 4]}\n",
    "\n",
    "# remove single element with key 'Name'\n",
    "my_dict.pop('Name') \n",
    "\n",
    "# remove first matching element of list\n",
    "my_dict['list'].remove(2) \n",
    "print(my_dict)"
   ]
  },
  {
   "cell_type": "code",
   "execution_count": 75,
   "metadata": {
    "ExecuteTime": {
     "end_time": "2022-09-04T14:57:45.309898Z",
     "start_time": "2022-09-04T14:57:45.300925Z"
    },
    "colab": {
     "base_uri": "https://localhost:8080/"
    },
    "executionInfo": {
     "elapsed": 109,
     "status": "ok",
     "timestamp": 1661133590413,
     "user": {
      "displayName": "Harpreet SIngh",
      "userId": "15106381096049879330"
     },
     "user_tz": 300
    },
    "id": "ZujF4eX6G43X",
    "outputId": "6c36716f-a17b-4aa6-a633-12957cb64353"
   },
   "outputs": [
    {
     "name": "stdout",
     "output_type": "stream",
     "text": [
      "{}\n"
     ]
    }
   ],
   "source": [
    "# Empty the dictionary or clear the contents inside the dictionary \n",
    "my_dict.clear()    \n",
    "print(my_dict)"
   ]
  },
  {
   "cell_type": "code",
   "execution_count": 76,
   "metadata": {
    "ExecuteTime": {
     "end_time": "2022-09-04T14:57:46.124986Z",
     "start_time": "2022-09-04T14:57:46.119998Z"
    },
    "id": "V6teAjTCHnCL"
   },
   "outputs": [],
   "source": [
    "# Deleting whole dictionary\n",
    "del my_dict"
   ]
  },
  {
   "cell_type": "markdown",
   "metadata": {
    "id": "b-9qmH1FHp0t"
   },
   "source": [
    "## **Set** ##\n",
    "1. Set is an **unordered** collection of unique items.  \n",
    "2. Set is defined by values separated by comma inside braces { }.\n",
    "   \n",
    "   Example : {2, 3, 'hi', 4} \n",
    "3. Items in a set need not to be ordered.\n",
    "4. Items with multiple data types can be passed in set.\n",
    "5. Duplicate values are treated as a single value.\n",
    "6. Very useful in Natural Language Processing - We can craete a  dictionary of unique words using a set."
   ]
  },
  {
   "cell_type": "code",
   "execution_count": 77,
   "metadata": {
    "ExecuteTime": {
     "end_time": "2022-09-04T14:57:47.227892Z",
     "start_time": "2022-09-04T14:57:47.214923Z"
    },
    "colab": {
     "base_uri": "https://localhost:8080/"
    },
    "executionInfo": {
     "elapsed": 293,
     "status": "ok",
     "timestamp": 1661199105795,
     "user": {
      "displayName": "Kyungseob Shim",
      "userId": "04167791068819005440"
     },
     "user_tz": 300
    },
    "id": "QOfGeqEDdv41",
    "outputId": "917a0714-b594-4cc8-f3cf-7076ad43d7a1"
   },
   "outputs": [
    {
     "name": "stdout",
     "output_type": "stream",
     "text": [
      "The set is set() empty.\n"
     ]
    }
   ],
   "source": [
    "# Creating empty set\n",
    "set_1 = set()\n",
    "print(f\"The set is {set_1} empty.\")"
   ]
  },
  {
   "cell_type": "code",
   "execution_count": 78,
   "metadata": {
    "ExecuteTime": {
     "end_time": "2022-09-04T14:57:48.966429Z",
     "start_time": "2022-09-04T14:57:48.952461Z"
    },
    "colab": {
     "base_uri": "https://localhost:8080/"
    },
    "executionInfo": {
     "elapsed": 5,
     "status": "ok",
     "timestamp": 1661199107436,
     "user": {
      "displayName": "Kyungseob Shim",
      "userId": "04167791068819005440"
     },
     "user_tz": 300
    },
    "id": "guLqkwfGeJcB",
    "outputId": "470b5985-0d91-4b11-ab05-8018d6edc0f6"
   },
   "outputs": [
    {
     "name": "stdout",
     "output_type": "stream",
     "text": [
      "The set is : {'n', 'o', 't', 'P', 'h', 'y'}\n"
     ]
    }
   ],
   "source": [
    "# Creating a set\n",
    "set_2 = set('Python')\n",
    "print(\"The set is :\", set_2)"
   ]
  },
  {
   "cell_type": "code",
   "execution_count": 79,
   "metadata": {
    "ExecuteTime": {
     "end_time": "2022-09-04T14:57:49.647341Z",
     "start_time": "2022-09-04T14:57:49.629395Z"
    },
    "colab": {
     "base_uri": "https://localhost:8080/"
    },
    "executionInfo": {
     "elapsed": 313,
     "status": "ok",
     "timestamp": 1661199109591,
     "user": {
      "displayName": "Kyungseob Shim",
      "userId": "04167791068819005440"
     },
     "user_tz": 300
    },
    "id": "qURS5XIRegy7",
    "outputId": "0aba1658-5b5a-4fcc-8995-b62931520c26"
   },
   "outputs": [
    {
     "name": "stdout",
     "output_type": "stream",
     "text": [
      "The set with the use of list is : {'is', 'best', 'good', 'python', 'language'}\n"
     ]
    }
   ],
   "source": [
    "# Set with the use of list\n",
    "# We can also check that set doesn't have duplicate values\n",
    "my_list = [\"python\", \"is\", \"good\", \"language\", \"python\", \"is\", \"best\"]\n",
    "# create set from the list\n",
    "set_3 = set(my_list)\n",
    "print(\"The set with the use of list is :\", set_3)"
   ]
  },
  {
   "cell_type": "code",
   "execution_count": 80,
   "metadata": {
    "ExecuteTime": {
     "end_time": "2022-09-04T14:57:50.872450Z",
     "start_time": "2022-09-04T14:57:50.860481Z"
    },
    "colab": {
     "base_uri": "https://localhost:8080/"
    },
    "executionInfo": {
     "elapsed": 335,
     "status": "ok",
     "timestamp": 1661199112039,
     "user": {
      "displayName": "Kyungseob Shim",
      "userId": "04167791068819005440"
     },
     "user_tz": 300
    },
    "id": "EihUAOy6fssE",
    "outputId": "ea41da7c-f27e-4992-a778-393c18cb6bfe"
   },
   "outputs": [
    {
     "name": "stdout",
     "output_type": "stream",
     "text": [
      "set with mixed values is: (1, 2, 56, 'python', 48, 'language')\n"
     ]
    }
   ],
   "source": [
    "# Having mixed data types\n",
    "set_4 = (1, 2, 56, \"python\", 48, \"language\")\n",
    "print(\"set with mixed values is:\",set_4)"
   ]
  },
  {
   "cell_type": "markdown",
   "metadata": {
    "id": "ZTQSJSV5PTJR"
   },
   "source": [
    "### **Add an element** \n",
    "1. We can add new elements by using add() menthod. \n",
    "2. add() method doesn't add an element to the set if it's already present in it..\n",
    "\n",
    "  **Example**:\n",
    "\n",
    "  A. add(5)\n",
    "  where A is a set and add() method adds 5 to the set.\n",
    "4. The add method takes only single parameter."
   ]
  },
  {
   "cell_type": "code",
   "execution_count": 81,
   "metadata": {
    "ExecuteTime": {
     "end_time": "2022-09-04T14:57:51.728724Z",
     "start_time": "2022-09-04T14:57:51.720748Z"
    },
    "colab": {
     "base_uri": "https://localhost:8080/"
    },
    "executionInfo": {
     "elapsed": 88,
     "status": "ok",
     "timestamp": 1661133781771,
     "user": {
      "displayName": "Harpreet SIngh",
      "userId": "15106381096049879330"
     },
     "user_tz": 300
    },
    "id": "CfiUiTSfQO1n",
    "outputId": "8b82ecf0-66e7-4ddb-d3eb-e270b7770248"
   },
   "outputs": [
    {
     "name": "stdout",
     "output_type": "stream",
     "text": [
      "The new set is :  {'o', 'i', 'e', 'a', 'u'}\n"
     ]
    }
   ],
   "source": [
    "A = {'a', 'e', 'i', 'o'}\n",
    "# add missing vowel u\n",
    "A.add('u')\n",
    "# The order or vowels may differ\n",
    "print('The new set is : ', A)"
   ]
  },
  {
   "cell_type": "code",
   "execution_count": 82,
   "metadata": {
    "ExecuteTime": {
     "end_time": "2022-09-04T14:57:52.211198Z",
     "start_time": "2022-09-04T14:57:52.194243Z"
    },
    "colab": {
     "base_uri": "https://localhost:8080/"
    },
    "executionInfo": {
     "elapsed": 75,
     "status": "ok",
     "timestamp": 1661133785370,
     "user": {
      "displayName": "Harpreet SIngh",
      "userId": "15106381096049879330"
     },
     "user_tz": 300
    },
    "id": "FWRMCjnSHs7V",
    "outputId": "104a6624-e1b7-49d2-ae6a-22d712b2f76b"
   },
   "outputs": [
    {
     "name": "stdout",
     "output_type": "stream",
     "text": [
      "The new set is :  {'o', 'i', 'e', 'a', 'u'}\n"
     ]
    }
   ],
   "source": [
    "# let us add vowel e to set A again\n",
    "A.add('e')\n",
    "print('The new set is : ', A)"
   ]
  },
  {
   "cell_type": "code",
   "execution_count": 83,
   "metadata": {
    "ExecuteTime": {
     "end_time": "2022-09-04T14:57:52.546020Z",
     "start_time": "2022-09-04T14:57:52.541032Z"
    },
    "colab": {
     "base_uri": "https://localhost:8080/"
    },
    "executionInfo": {
     "elapsed": 98,
     "status": "ok",
     "timestamp": 1661134580785,
     "user": {
      "displayName": "Harpreet SIngh",
      "userId": "15106381096049879330"
     },
     "user_tz": 300
    },
    "id": "vKjzQa_gQu6A",
    "outputId": "02035c5b-8056-48f7-8c10-fe727375822d"
   },
   "outputs": [
    {
     "name": "stdout",
     "output_type": "stream",
     "text": [
      "{'happy', 'this', 'take', 'class', ('i', 'a'), 'to'}\n"
     ]
    }
   ],
   "source": [
    "# We can add a tuple to the set but not list\n",
    "A={'happy', 'to', 'take', 'this', 'class'}\n",
    "tup =('i', 'a')\n",
    "my_list = [1, 2]\n",
    "# add the tuple to set A\n",
    "A.add(tup)\n",
    "print(A)"
   ]
  },
  {
   "cell_type": "code",
   "execution_count": 84,
   "metadata": {
    "ExecuteTime": {
     "end_time": "2022-09-04T14:57:52.955998Z",
     "start_time": "2022-09-04T14:57:52.948016Z"
    },
    "colab": {
     "base_uri": "https://localhost:8080/",
     "height": 190
    },
    "executionInfo": {
     "elapsed": 83,
     "status": "error",
     "timestamp": 1661134591399,
     "user": {
      "displayName": "Harpreet SIngh",
      "userId": "15106381096049879330"
     },
     "user_tz": 300
    },
    "id": "6dWJLaBqVbHh",
    "outputId": "61698a34-1c8f-4be9-ab86-7abcdb72c0ea"
   },
   "outputs": [
    {
     "ename": "TypeError",
     "evalue": "unhashable type: 'list'",
     "output_type": "error",
     "traceback": [
      "\u001b[1;31m---------------------------------------------------------------------------\u001b[0m",
      "\u001b[1;31mTypeError\u001b[0m                                 Traceback (most recent call last)",
      "\u001b[1;32m<ipython-input-84-1d099024658d>\u001b[0m in \u001b[0;36m<module>\u001b[1;34m\u001b[0m\n\u001b[1;32m----> 1\u001b[1;33m \u001b[0mA\u001b[0m\u001b[1;33m.\u001b[0m\u001b[0madd\u001b[0m\u001b[1;33m(\u001b[0m\u001b[0mmy_list\u001b[0m\u001b[1;33m)\u001b[0m\u001b[1;33m\u001b[0m\u001b[1;33m\u001b[0m\u001b[0m\n\u001b[0m\u001b[0;32m      2\u001b[0m \u001b[0mprint\u001b[0m\u001b[1;33m(\u001b[0m\u001b[0mA\u001b[0m\u001b[1;33m)\u001b[0m\u001b[1;33m\u001b[0m\u001b[1;33m\u001b[0m\u001b[0m\n",
      "\u001b[1;31mTypeError\u001b[0m: unhashable type: 'list'"
     ]
    }
   ],
   "source": [
    "A.add(my_list)\n",
    "print(A)"
   ]
  },
  {
   "cell_type": "markdown",
   "metadata": {
    "id": "jCv2GEBdK57V"
   },
   "source": [
    "### **Update a Set**\n",
    "\n",
    "1. We can use update() method to update existing set by using any list, tuple, dictionary.\n",
    "\n",
    "  Example:\n",
    "\n",
    "  A.update(list1, dict, tuple, set)\n",
    "  \n",
    "  where A is a set and we can use list, dictionary, tuple, set etc. to update A.\n",
    "\n",
    "\n"
   ]
  },
  {
   "cell_type": "code",
   "execution_count": 85,
   "metadata": {
    "ExecuteTime": {
     "end_time": "2022-09-04T14:57:53.948676Z",
     "start_time": "2022-09-04T14:57:53.941698Z"
    },
    "colab": {
     "base_uri": "https://localhost:8080/"
    },
    "executionInfo": {
     "elapsed": 81,
     "status": "ok",
     "timestamp": 1661134612727,
     "user": {
      "displayName": "Harpreet SIngh",
      "userId": "15106381096049879330"
     },
     "user_tz": 300
    },
    "id": "cc_bydjLNEG0",
    "outputId": "841c01f2-e8f5-4b47-be3a-f728ca23f7e9"
   },
   "outputs": [
    {
     "name": "stdout",
     "output_type": "stream",
     "text": [
      "the new set A is: {'Mon', 1, 2, 3, 4, 'Tue'}\n"
     ]
    }
   ],
   "source": [
    "A = {1, 2, 3, 4}\n",
    "B = {'Mon', 'Tue'}\n",
    "\n",
    "# Update Set A using values from set B\n",
    "A.update(B)\n",
    "print('the new set A is:', A)"
   ]
  },
  {
   "cell_type": "code",
   "execution_count": 86,
   "metadata": {
    "ExecuteTime": {
     "end_time": "2022-09-04T14:57:54.251274Z",
     "start_time": "2022-09-04T14:57:54.247286Z"
    },
    "colab": {
     "base_uri": "https://localhost:8080/"
    },
    "executionInfo": {
     "elapsed": 97,
     "status": "ok",
     "timestamp": 1661134619886,
     "user": {
      "displayName": "Harpreet SIngh",
      "userId": "15106381096049879330"
     },
     "user_tz": 300
    },
    "id": "VycxgkVYNvBb",
    "outputId": "d1666b8c-756f-451c-8901-6c63b0179f47"
   },
   "outputs": [
    {
     "name": "stdout",
     "output_type": "stream",
     "text": [
      "The new set A is : {48, 2, 'key2', 56, 'key1', 'key3'}\n"
     ]
    }
   ],
   "source": [
    "# If dictionaries are passed to the update() method, the keys of the dictionaries are added to the set.\n",
    "my_dict = {'key1':'hi', 'key2':'ok', 'key3':'xyz'}\n",
    "A = {2, 56, 48, 56}\n",
    "# update set A using dictonary my_dict\n",
    "A.update(my_dict)\n",
    "print('The new set A is :', A)"
   ]
  },
  {
   "cell_type": "code",
   "execution_count": 87,
   "metadata": {
    "ExecuteTime": {
     "end_time": "2022-09-04T14:57:54.556547Z",
     "start_time": "2022-09-04T14:57:54.537598Z"
    },
    "colab": {
     "base_uri": "https://localhost:8080/"
    },
    "executionInfo": {
     "elapsed": 91,
     "status": "ok",
     "timestamp": 1661134620517,
     "user": {
      "displayName": "Harpreet SIngh",
      "userId": "15106381096049879330"
     },
     "user_tz": 300
    },
    "id": "faHqewJSSrgI",
    "outputId": "4546a675-360f-4462-fd3a-f9aac8c6f413"
   },
   "outputs": [
    {
     "name": "stdout",
     "output_type": "stream",
     "text": [
      "the new set A is: {'Mon', 1, 2, 3, 4, 'Tue'}\n"
     ]
    }
   ],
   "source": [
    "A = {1, 2, 3, 4}\n",
    "B = ['Mon', 'Tue']\n",
    "\n",
    "# Update Set A using values from set B\n",
    "A.update(B)\n",
    "print('the new set A is:', A)"
   ]
  },
  {
   "cell_type": "markdown",
   "metadata": {
    "id": "CdXJu-ryRRwf"
   },
   "source": [
    "### **Removing an element**\n",
    "1. We can use clear(), remove() and pop() method to remove elements.\n",
    "2. Clear method removes all elements from the set.\n",
    "3. Remove() method removes specific element from the set.\n",
    "1. The pop() method removes an arbitrary element from the set and returns the element removed.\n",
    "  \n",
    "  *    It doesn't take any argument.\n",
    "  *    It removes element randomly and result may differ for every run.\n",
    "\n",
    "\n"
   ]
  },
  {
   "cell_type": "code",
   "execution_count": 88,
   "metadata": {
    "ExecuteTime": {
     "end_time": "2022-09-04T14:57:55.190954Z",
     "start_time": "2022-09-04T14:57:55.175997Z"
    },
    "id": "lO0OweOUR83m"
   },
   "outputs": [],
   "source": [
    "# if we use .pop  multiple times we can see the random elements are removed and the result is shown.\n",
    "A = {'Good', 'name', 'why', 'abc','rest'}"
   ]
  },
  {
   "cell_type": "code",
   "execution_count": 89,
   "metadata": {
    "ExecuteTime": {
     "end_time": "2022-09-04T14:57:55.553082Z",
     "start_time": "2022-09-04T14:57:55.536612Z"
    },
    "colab": {
     "base_uri": "https://localhost:8080/"
    },
    "executionInfo": {
     "elapsed": 79,
     "status": "ok",
     "timestamp": 1661134665616,
     "user": {
      "displayName": "Harpreet SIngh",
      "userId": "15106381096049879330"
     },
     "user_tz": 300
    },
    "id": "d__C1nwfkmV7",
    "outputId": "8965dbf5-8d6e-4739-cb36-c80f56db2407"
   },
   "outputs": [
    {
     "name": "stdout",
     "output_type": "stream",
     "text": [
      "Removed element : name\n",
      "The set after removing an element is : {'abc', 'rest', 'Good', 'why'}\n"
     ]
    }
   ],
   "source": [
    "# try using pop multiple times on set A\n",
    "removed_element = A.pop()\n",
    "print(f'Removed element : {removed_element}')\n",
    "print(\"The set after removing an element is :\", A)"
   ]
  },
  {
   "cell_type": "code",
   "execution_count": 90,
   "metadata": {
    "ExecuteTime": {
     "end_time": "2022-09-04T14:57:55.840628Z",
     "start_time": "2022-09-04T14:57:55.821678Z"
    },
    "colab": {
     "base_uri": "https://localhost:8080/"
    },
    "executionInfo": {
     "elapsed": 95,
     "status": "ok",
     "timestamp": 1661134666593,
     "user": {
      "displayName": "Harpreet SIngh",
      "userId": "15106381096049879330"
     },
     "user_tz": 300
    },
    "id": "y9nbzlLTTMoK",
    "outputId": "360697f4-6228-4648-d50f-bae61322fd57"
   },
   "outputs": [
    {
     "name": "stdout",
     "output_type": "stream",
     "text": [
      "The new set of languages are: {'hindi', 'english', 'german'}\n"
     ]
    }
   ],
   "source": [
    "# Remove() method removes specific element from the set.\n",
    "language = {\"english\", \"french\", \"german\", \"hindi\"}\n",
    "\n",
    "# remove 'french' from the language set\n",
    "language.remove(\"french\")\n",
    "print(\"The new set of languages are:\",language)"
   ]
  },
  {
   "cell_type": "code",
   "execution_count": 91,
   "metadata": {
    "ExecuteTime": {
     "end_time": "2022-09-04T14:57:56.190251Z",
     "start_time": "2022-09-04T14:57:56.172302Z"
    },
    "colab": {
     "base_uri": "https://localhost:8080/"
    },
    "executionInfo": {
     "elapsed": 84,
     "status": "ok",
     "timestamp": 1661134667547,
     "user": {
      "displayName": "Harpreet SIngh",
      "userId": "15106381096049879330"
     },
     "user_tz": 300
    },
    "id": "KghI9FOmS1__",
    "outputId": "8e0ac577-549b-4674-9354-39810d019dee"
   },
   "outputs": [
    {
     "name": "stdout",
     "output_type": "stream",
     "text": [
      "set()\n"
     ]
    }
   ],
   "source": [
    "# Clear method removes all elements from the set\n",
    "A = {'My','name','is','abc'}\n",
    "A.clear()\n",
    "print(A)"
   ]
  },
  {
   "cell_type": "markdown",
   "metadata": {
    "id": "dB37UKtifdc2"
   },
   "source": [
    "# **IF, ELIF, ELSE STATEMENT**"
   ]
  },
  {
   "cell_type": "markdown",
   "metadata": {
    "id": "N4dEmXvlYgrV"
   },
   "source": [
    "## **if Statement**\n",
    "Decision making is one of the most important task in our life.\n",
    "Similarly, if, elif, else statements are used for decision making in python. \n",
    "1. Python if statement **syntax** :\n",
    " \n",
    "```\n",
    " if test expression:\n",
    "    body of the expression\n",
    "```\n",
    "<div>\n",
    "<img src=\"https://drive.google.com/uc?export=view&id=1nlOzkfmx8I0MPSeybnSqPEjd0e8jd-ip\" width=\"200\"/>\n",
    "</div>     \n",
    "\n",
    "2. The program evaluates the test expression and will execute statements only if the test expression is true.\n",
    "3. If the statement is false the statements are not executed.\n",
    "\n",
    "\n"
   ]
  },
  {
   "cell_type": "code",
   "execution_count": 92,
   "metadata": {
    "ExecuteTime": {
     "end_time": "2022-09-04T14:57:57.235442Z",
     "start_time": "2022-09-04T14:57:57.231452Z"
    },
    "colab": {
     "base_uri": "https://localhost:8080/"
    },
    "executionInfo": {
     "elapsed": 84,
     "status": "ok",
     "timestamp": 1661134678083,
     "user": {
      "displayName": "Harpreet SIngh",
      "userId": "15106381096049879330"
     },
     "user_tz": 300
    },
    "id": "hqP2ZQ-9eYOL",
    "outputId": "e4baeffa-9a40-4ae1-fa7b-f1ec57cbe7a5"
   },
   "outputs": [
    {
     "name": "stdout",
     "output_type": "stream",
     "text": [
      "6 is the highest digit\n"
     ]
    }
   ],
   "source": [
    "if(6 > 4):\n",
    "  print(\"6 is the highest digit\")"
   ]
  },
  {
   "cell_type": "code",
   "execution_count": 93,
   "metadata": {
    "ExecuteTime": {
     "end_time": "2022-09-04T14:57:57.584774Z",
     "start_time": "2022-09-04T14:57:57.570810Z"
    },
    "id": "-DC_Cj5Ben4P"
   },
   "outputs": [],
   "source": [
    "# We won't get any output since 'a' and 'A' are not same in python.\n",
    "if('a' == 'A'):\n",
    "  print('We all are same')"
   ]
  },
  {
   "cell_type": "markdown",
   "metadata": {
    "id": "pfnkUCQce8e9"
   },
   "source": [
    "## **If-else statement** \n",
    "1. there are two blocks : if block and else block\n",
    "\n",
    "   \n",
    "\n",
    "**Syntax** :\n",
    "\n",
    "```\n",
    "if test expression:\n",
    "  execute body of the if loop\n",
    "else:\n",
    "  execute body of the else loop\n",
    "```\n",
    "\n",
    "<img src=\"https://drive.google.com/uc?export=view&id=19FTfMaRHWar3MoUVkrZLgrH7R0o97UVX\" width=\"200\"/>\n"
   ]
  },
  {
   "cell_type": "code",
   "execution_count": 95,
   "metadata": {
    "ExecuteTime": {
     "end_time": "2022-09-04T14:58:09.031143Z",
     "start_time": "2022-09-04T14:58:07.390320Z"
    },
    "colab": {
     "base_uri": "https://localhost:8080/"
    },
    "executionInfo": {
     "elapsed": 3429,
     "status": "ok",
     "timestamp": 1661199389238,
     "user": {
      "displayName": "Kyungseob Shim",
      "userId": "04167791068819005440"
     },
     "user_tz": 300
    },
    "id": "8ajqya7Phhmv",
    "outputId": "647d5eb6-23dc-483f-e8db-5d5993da932c"
   },
   "outputs": [
    {
     "name": "stdout",
     "output_type": "stream",
     "text": [
      "Please enter a number:\n",
      "5\n",
      "5 is positive or zero\n"
     ]
    }
   ],
   "source": [
    "# ask user to input a number\n",
    "num  = int(input(\"Please enter a number:\\n\"))\n",
    "\n",
    "# write a if else block to check if number is greater than or equal to zero\n",
    "# if the num >= 0 print number is positive or zero\n",
    "# else print number is negative\n",
    "\n",
    "if(num >= 0):\n",
    "  print(f\"{num} is positive or zero\")\n",
    "else:\n",
    "  print(f\"{num} is negative:\")"
   ]
  },
  {
   "cell_type": "markdown",
   "metadata": {
    "id": "2Wi6BsLtjrJm"
   },
   "source": [
    "## **If.. elif.. else statement**\n",
    "\n",
    "1. It consists of one **if block**, multiple **elif blocks**, one **else block**\n",
    "\n",
    "**Syntax** :\n",
    "\n",
    "```\n",
    "if test expression:\n",
    "  body of the if loop\n",
    "elif test expression:\n",
    "  body of the elif loop\n",
    "elif test expression:\n",
    "  body of the elif loop\n",
    "elif test expression:\n",
    "  body of the elif loop\n",
    "else:\n",
    " body of the else loop\n",
    "```\n",
    "\n",
    "\n",
    "\n",
    "3. The elif is short for else if. It allows us to check for multiple expressions.\n",
    "4. If the condition for **if is False**, it checks the condition of the next elif block and so on.\n",
    "5. If all the conditions are False, the body of else is executed.\n",
    "6. The following flow chart explains the if..elif..else condition :\n",
    "\n",
    "<img src=\"https://drive.google.com/uc?export=view&id=1mih1263Q8BKHhb1Tpj1-JwV5Bly38Nis\" width=\"250\"/>\n"
   ]
  },
  {
   "cell_type": "code",
   "execution_count": 96,
   "metadata": {
    "ExecuteTime": {
     "end_time": "2022-09-04T14:58:11.815113Z",
     "start_time": "2022-09-04T14:58:11.799155Z"
    },
    "colab": {
     "base_uri": "https://localhost:8080/"
    },
    "executionInfo": {
     "elapsed": 82,
     "status": "ok",
     "timestamp": 1661134759816,
     "user": {
      "displayName": "Harpreet SIngh",
      "userId": "15106381096049879330"
     },
     "user_tz": 300
    },
    "id": "S6iQCDjLlGc_",
    "outputId": "9e7ee347-6e29-4b1c-93a6-0cf9c4b58610"
   },
   "outputs": [
    {
     "name": "stdout",
     "output_type": "stream",
     "text": [
      "a is greater than b\n"
     ]
    }
   ],
   "source": [
    "a = 105\n",
    "b = 102\n",
    "c = 200\n",
    "\n",
    "# write if, elif, else block to find the greatest number\n",
    "if(a > b):\n",
    "  print(f'a is greater than b')\n",
    "elif (b > c):\n",
    "  print(f'b is greater than both a and c')\n",
    "else:\n",
    "  print(f'c is graeter than both b and c')"
   ]
  },
  {
   "cell_type": "markdown",
   "metadata": {
    "id": "FURrkRcPmdqB"
   },
   "source": [
    "If there are multiple True Conditions only first True Condition is executed"
   ]
  },
  {
   "cell_type": "code",
   "execution_count": 97,
   "metadata": {
    "ExecuteTime": {
     "end_time": "2022-09-04T14:58:12.757781Z",
     "start_time": "2022-09-04T14:58:12.749803Z"
    },
    "colab": {
     "base_uri": "https://localhost:8080/"
    },
    "executionInfo": {
     "elapsed": 74,
     "status": "ok",
     "timestamp": 1661134768503,
     "user": {
      "displayName": "Harpreet SIngh",
      "userId": "15106381096049879330"
     },
     "user_tz": 300
    },
    "id": "4xRYz6ogmewv",
    "outputId": "b4d14b56-e52f-4524-95c9-0fee1c8c5506"
   },
   "outputs": [
    {
     "name": "stdout",
     "output_type": "stream",
     "text": [
      "Hi, this is elif block\n"
     ]
    }
   ],
   "source": [
    "if 1 == 2:\n",
    "    print('Hi, This is if block')\n",
    "elif 3 == 3:\n",
    "    print('Hi, this is elif block')\n",
    "elif 4 == 4:\n",
    "    print('Hi, this is also elif block')\n",
    "else:\n",
    "    print('Hi, I am the else block.')"
   ]
  },
  {
   "cell_type": "code",
   "execution_count": 98,
   "metadata": {
    "ExecuteTime": {
     "end_time": "2022-09-04T14:58:13.378658Z",
     "start_time": "2022-09-04T14:58:13.359710Z"
    },
    "colab": {
     "base_uri": "https://localhost:8080/"
    },
    "executionInfo": {
     "elapsed": 84,
     "status": "ok",
     "timestamp": 1661134775089,
     "user": {
      "displayName": "Harpreet SIngh",
      "userId": "15106381096049879330"
     },
     "user_tz": 300
    },
    "id": "CHIm1VyEmryM",
    "outputId": "a52bcb38-9be3-409a-b338-76d973004a0c"
   },
   "outputs": [
    {
     "name": "stdout",
     "output_type": "stream",
     "text": [
      "middle\n",
      "Second Last\n"
     ]
    }
   ],
   "source": [
    "if 1 == 2:\n",
    "    print('first')\n",
    "elif 2 == 2:\n",
    "    print('middle') # first it will print elif block\n",
    "    if 'a' == 'a': # again if condition is checked\n",
    "        print('Second Last') \n",
    "else:\n",
    "    print('Last')"
   ]
  },
  {
   "cell_type": "markdown",
   "metadata": {
    "id": "ymkS9riLm1-H"
   },
   "source": [
    "## **Nested if statement**\n",
    "Having if-elif- else statement inside another if-elif-else statement."
   ]
  },
  {
   "cell_type": "code",
   "execution_count": 99,
   "metadata": {
    "ExecuteTime": {
     "end_time": "2022-09-04T14:58:15.128827Z",
     "start_time": "2022-09-04T14:58:15.119857Z"
    },
    "colab": {
     "base_uri": "https://localhost:8080/"
    },
    "executionInfo": {
     "elapsed": 156,
     "status": "ok",
     "timestamp": 1661134808919,
     "user": {
      "displayName": "Harpreet SIngh",
      "userId": "15106381096049879330"
     },
     "user_tz": 300
    },
    "id": "4Tyq7ANUnqld",
    "outputId": "fd1480fe-dafb-400e-cb46-c65634f798c3"
   },
   "outputs": [
    {
     "name": "stdout",
     "output_type": "stream",
     "text": [
      "n is a negative number\n"
     ]
    }
   ],
   "source": [
    "# check if number is poistive, negative or zero\n",
    "n = -10\n",
    "# Check if n is zero, positive of negative number\n",
    "if n >= 0:\n",
    "  if n == 0:\n",
    "    print('zero')\n",
    "  else:\n",
    "    print('n is a positive number')\n",
    "else:\n",
    "  print('n is a negative number')"
   ]
  },
  {
   "cell_type": "code",
   "execution_count": 100,
   "metadata": {
    "ExecuteTime": {
     "end_time": "2022-09-04T14:58:16.418725Z",
     "start_time": "2022-09-04T14:58:16.404764Z"
    },
    "colab": {
     "base_uri": "https://localhost:8080/"
    },
    "executionInfo": {
     "elapsed": 246,
     "status": "ok",
     "timestamp": 1661199860948,
     "user": {
      "displayName": "Kyungseob Shim",
      "userId": "04167791068819005440"
     },
     "user_tz": 300
    },
    "id": "Edzr73M4S_Cr",
    "outputId": "5dbef8c4-d774-4051-ade2-a0bc11b9c88b"
   },
   "outputs": [
    {
     "name": "stdout",
     "output_type": "stream",
     "text": [
      "b is the greatest number\n"
     ]
    }
   ],
   "source": [
    "a = 120\n",
    "b = 500\n",
    "c = 200\n",
    "\n",
    "# Modify the code above to find the greatest number (assume numbers cannot be equal)\n",
    "\n",
    "if (a > b):\n",
    "  if (a > c):\n",
    "    print('a is the greatest number')\n",
    "  else:\n",
    "    print('c is the greatest number')\n",
    "elif(b > c):\n",
    "  print('b is the greatest number')\n",
    "else: # need to be cecked\n",
    "  print('c is the greatest number')\n",
    "\n"
   ]
  },
  {
   "cell_type": "markdown",
   "metadata": {
    "id": "skjvuKHFn-SL"
   },
   "source": [
    "# **For loops**\n",
    "1. The for loop in Python is used to iterate over a sequence (list, tuple, string) or other iterable objects. \n",
    " \n",
    "   **Syntax** : \n",
    "\n",
    "  ```\n",
    "  for val in sequence:\n",
    "     body of the for loop\n",
    "  ```\n",
    "\n",
    "3. Here, val is the variable that takes the value of the item inside the sequence on each iteration.\n",
    "4. Loop continues until we reach the last item in the sequence. \n",
    "5. The body of for loop is separated from the rest of the code using indentation.\n",
    "6. The complete flow chart for the for loop is as follows:\n",
    "\n",
    "<img src=\"https://drive.google.com/uc?export=view&id=1XTN3939tW5o8zpUrc7lFWlCtT10tbtvh\" width=\"250\"/>"
   ]
  },
  {
   "cell_type": "code",
   "execution_count": 101,
   "metadata": {
    "ExecuteTime": {
     "end_time": "2022-09-04T14:58:18.214765Z",
     "start_time": "2022-09-04T14:58:18.195816Z"
    },
    "colab": {
     "base_uri": "https://localhost:8080/"
    },
    "executionInfo": {
     "elapsed": 295,
     "status": "ok",
     "timestamp": 1661200007854,
     "user": {
      "displayName": "Kyungseob Shim",
      "userId": "04167791068819005440"
     },
     "user_tz": 300
    },
    "id": "pz_69iuDs6a4",
    "outputId": "364f870d-c7e1-41d5-d309-0399b5dd60c3"
   },
   "outputs": [
    {
     "name": "stdout",
     "output_type": "stream",
     "text": [
      "apple\n",
      "banana\n",
      "mango\n",
      "grapes\n"
     ]
    }
   ],
   "source": [
    "# for each iteartion one fruit name will be printed in a new line\n",
    "fruits =['apple', 'banana', 'mango', 'grapes']\n",
    "for x in fruits:\n",
    "  print(x)"
   ]
  },
  {
   "cell_type": "code",
   "execution_count": 102,
   "metadata": {
    "ExecuteTime": {
     "end_time": "2022-09-04T14:58:19.378222Z",
     "start_time": "2022-09-04T14:58:19.370215Z"
    },
    "colab": {
     "base_uri": "https://localhost:8080/"
    },
    "executionInfo": {
     "elapsed": 90,
     "status": "ok",
     "timestamp": 1661134860883,
     "user": {
      "displayName": "Harpreet SIngh",
      "userId": "15106381096049879330"
     },
     "user_tz": 300
    },
    "id": "b2I50VpHr8Ij",
    "outputId": "efe3901a-8842-4efc-cf98-1ea551db7206"
   },
   "outputs": [
    {
     "name": "stdout",
     "output_type": "stream",
     "text": [
      "the sum of the list is : 199\n"
     ]
    }
   ],
   "source": [
    "# Let's find the sum of the numbers in a list\n",
    "my_list= [10, 20, 45, 16, 78, 30]\n",
    "sum = 0\n",
    "for x in my_list:\n",
    "  sum = sum + x\n",
    "print(\"the sum of the list is :\", sum)"
   ]
  },
  {
   "cell_type": "markdown",
   "metadata": {
    "id": "EPZUIbtLkDAF"
   },
   "source": [
    "## **Continue statement**\n",
    "1. The continue statement is used to skip the rest of the code inside a loop for the current iteration only. \n",
    "2. Loop does not terminate but continues on with the next iteration.\n"
   ]
  },
  {
   "cell_type": "code",
   "execution_count": 103,
   "metadata": {
    "ExecuteTime": {
     "end_time": "2022-09-04T14:58:20.944372Z",
     "start_time": "2022-09-04T14:58:20.932404Z"
    },
    "colab": {
     "base_uri": "https://localhost:8080/"
    },
    "executionInfo": {
     "elapsed": 85,
     "status": "ok",
     "timestamp": 1661134871481,
     "user": {
      "displayName": "Harpreet SIngh",
      "userId": "15106381096049879330"
     },
     "user_tz": 300
    },
    "id": "Et6rjoxGkYHx",
    "outputId": "7e2f0cd2-6d72-4683-d0a0-55b5c933a2ac"
   },
   "outputs": [
    {
     "name": "stdout",
     "output_type": "stream",
     "text": [
      "14\n",
      "15\n",
      "82\n",
      "93\n",
      "45\n",
      "75\n"
     ]
    }
   ],
   "source": [
    "my_List = [14, 15, 78, 82, 93, 78, 45, 75]\n",
    "# Print all the numbers except 78\n",
    "for x in my_List:\n",
    "  if x == 78:\n",
    "    continue\n",
    "  print(x) "
   ]
  },
  {
   "cell_type": "markdown",
   "metadata": {
    "id": "4O_3-FqL57i7"
   },
   "source": [
    "## **Break Statement**\n",
    "With the break statement we can stop the loop before it has looped through all the items:"
   ]
  },
  {
   "cell_type": "code",
   "execution_count": 104,
   "metadata": {
    "ExecuteTime": {
     "end_time": "2022-09-04T14:58:21.901121Z",
     "start_time": "2022-09-04T14:58:21.892145Z"
    },
    "colab": {
     "base_uri": "https://localhost:8080/"
    },
    "executionInfo": {
     "elapsed": 88,
     "status": "ok",
     "timestamp": 1661134877667,
     "user": {
      "displayName": "Harpreet SIngh",
      "userId": "15106381096049879330"
     },
     "user_tz": 300
    },
    "id": "KA_O-eyk6F6M",
    "outputId": "60116810-56a8-4bf3-98b5-0df612481053"
   },
   "outputs": [
    {
     "name": "stdout",
     "output_type": "stream",
     "text": [
      "14\n",
      "15\n"
     ]
    }
   ],
   "source": [
    "my_List = [14, 15, 78, 82, 93, 78, 45, 75]\n",
    "# Print the numbers until the first occurence of 78\n",
    "for x in my_List:\n",
    "  if x == 78:\n",
    "    break\n",
    "  print(x) "
   ]
  },
  {
   "cell_type": "markdown",
   "metadata": {
    "id": "afaTlCI-vf8t"
   },
   "source": [
    "# **While loops**\n",
    "1. while loop is similar to for loop but here we can execute a set of statements as long as a condition is true.\n",
    "\n",
    "**Syntax**:\n",
    "```\n",
    "while (test expression):\n",
    "  the body of the while loop\n",
    "```\n",
    "\n",
    "2. The test expression is checked first. \n",
    "3. The body of the loop is entered only if the test_expression evaluates to True. After one iteration, the test expression is checked again. This process continues until the test_expression evaluates to False\n",
    "2. The flow chart for the while loop is as follows:\n",
    "\n",
    "<img src=\"https://drive.google.com/uc?export=view&id=1vQA9MeLbP7G8pX8xwroRbKQcOdslZShr\" width=\"250\"/>"
   ]
  },
  {
   "cell_type": "code",
   "execution_count": 105,
   "metadata": {
    "ExecuteTime": {
     "end_time": "2022-09-04T14:58:23.960959Z",
     "start_time": "2022-09-04T14:58:23.942008Z"
    },
    "colab": {
     "base_uri": "https://localhost:8080/"
    },
    "executionInfo": {
     "elapsed": 85,
     "status": "ok",
     "timestamp": 1661134897285,
     "user": {
      "displayName": "Harpreet SIngh",
      "userId": "15106381096049879330"
     },
     "user_tz": 300
    },
    "id": "r4Q9-WAsx_Bu",
    "outputId": "238c62a2-eb5a-4dea-ceea-78659a8742ce"
   },
   "outputs": [
    {
     "name": "stdout",
     "output_type": "stream",
     "text": [
      "i is: 1\n",
      "i is: 2\n",
      "i is: 3\n",
      "i is: 4\n"
     ]
    }
   ],
   "source": [
    "i = 1\n",
    "while i < 5:\n",
    "    print(f'i is: {i}')\n",
    "    i += 1"
   ]
  },
  {
   "cell_type": "code",
   "execution_count": 106,
   "metadata": {
    "ExecuteTime": {
     "end_time": "2022-09-04T14:58:24.519134Z",
     "start_time": "2022-09-04T14:58:24.511160Z"
    },
    "colab": {
     "base_uri": "https://localhost:8080/"
    },
    "executionInfo": {
     "elapsed": 136,
     "status": "ok",
     "timestamp": 1661134922560,
     "user": {
      "displayName": "Harpreet SIngh",
      "userId": "15106381096049879330"
     },
     "user_tz": 300
    },
    "id": "oeb6Hy0Zz5YF",
    "outputId": "97203111-9b14-4c25-96fd-c5689f105313"
   },
   "outputs": [
    {
     "name": "stdout",
     "output_type": "stream",
     "text": [
      "The sum is 55\n"
     ]
    }
   ],
   "source": [
    "# Program to add natural\n",
    "# numbers up to \n",
    "# sum = 1 + 2 + 3 +...+ n\n",
    "\n",
    "n = 10\n",
    "\n",
    "# initialize sum and counter\n",
    "sum = 0\n",
    "i = 1\n",
    "\n",
    "while i <= n:\n",
    "    sum = sum + i\n",
    "    i += 1   # update counter\n",
    "\n",
    "# print the sum\n",
    "print(f'The sum is {sum}')"
   ]
  },
  {
   "cell_type": "markdown",
   "metadata": {
    "id": "0R5_9nxf6m7Z"
   },
   "source": [
    "# **Range**\n",
    "1. The range() function returns a sequence of numbers, starting from 0 by default, and increments by 1 (by default), and stops before a specified number.\n",
    "\n",
    "  **Syntax** :\n",
    "\n",
    "  ```\n",
    "  Range(stop)\n",
    "  Range(start, stop, step)\n",
    "  ```\n",
    "\n",
    "2. range() takes mainly three arguments\n",
    "\n",
    "> **start** - \tOptional. An integer number specifying the strat position. Default is 0\n",
    "\n",
    "> **stop** - Required. An integer number specifying teh stop position (not included).\n",
    "\n",
    "> **step (Optional)** - Optional. An integer value which determines the increment. default is 1"
   ]
  },
  {
   "cell_type": "code",
   "execution_count": 107,
   "metadata": {
    "ExecuteTime": {
     "end_time": "2022-09-04T14:58:26.880823Z",
     "start_time": "2022-09-04T14:58:26.866351Z"
    },
    "colab": {
     "base_uri": "https://localhost:8080/"
    },
    "executionInfo": {
     "elapsed": 104,
     "status": "ok",
     "timestamp": 1661134930515,
     "user": {
      "displayName": "Harpreet SIngh",
      "userId": "15106381096049879330"
     },
     "user_tz": 300
    },
    "id": "iko8AIzi-1th",
    "outputId": "175b015c-6ff6-47d9-faae-1e1e57421dda"
   },
   "outputs": [
    {
     "data": {
      "text/plain": [
       "[0, 1, 2, 3, 4]"
      ]
     },
     "execution_count": 107,
     "metadata": {},
     "output_type": "execute_result"
    }
   ],
   "source": [
    "# Create a list by using range\n",
    "list(range(5))"
   ]
  },
  {
   "cell_type": "code",
   "execution_count": 108,
   "metadata": {
    "ExecuteTime": {
     "end_time": "2022-09-04T14:58:27.515756Z",
     "start_time": "2022-09-04T14:58:27.502791Z"
    },
    "colab": {
     "base_uri": "https://localhost:8080/"
    },
    "executionInfo": {
     "elapsed": 102,
     "status": "ok",
     "timestamp": 1661134939526,
     "user": {
      "displayName": "Harpreet SIngh",
      "userId": "15106381096049879330"
     },
     "user_tz": 300
    },
    "id": "pOUifSKJ-Mik",
    "outputId": "eba681d3-6c7a-4ffd-d83f-5307b0f38bb4"
   },
   "outputs": [
    {
     "name": "stdout",
     "output_type": "stream",
     "text": [
      "3\n",
      "4\n",
      "5\n"
     ]
    }
   ],
   "source": [
    "# Create a sequence of numbers from 3 to 5, print each item in the sequence\n",
    "x = range(3, 6)\n",
    "for n in x:\n",
    "  print(n)"
   ]
  },
  {
   "cell_type": "code",
   "execution_count": 109,
   "metadata": {
    "ExecuteTime": {
     "end_time": "2022-09-04T14:58:28.002027Z",
     "start_time": "2022-09-04T14:58:27.993051Z"
    },
    "colab": {
     "base_uri": "https://localhost:8080/"
    },
    "executionInfo": {
     "elapsed": 85,
     "status": "ok",
     "timestamp": 1661134947274,
     "user": {
      "displayName": "Harpreet SIngh",
      "userId": "15106381096049879330"
     },
     "user_tz": 300
    },
    "id": "ROtUfa2r-YX0",
    "outputId": "41844502-eab6-40a8-8b45-f808aea56f72"
   },
   "outputs": [
    {
     "name": "stdout",
     "output_type": "stream",
     "text": [
      "3\n",
      "5\n",
      "7\n",
      "9\n",
      "11\n",
      "13\n",
      "15\n",
      "17\n",
      "19\n"
     ]
    }
   ],
   "source": [
    "# Create a sequence of numbers from 3 to 20 with  increment by 2 instead of 1.\n",
    "x = range(3, 20, 2)\n",
    "for n in x:\n",
    "  print(n)"
   ]
  },
  {
   "cell_type": "code",
   "execution_count": 110,
   "metadata": {
    "ExecuteTime": {
     "end_time": "2022-09-04T14:58:29.350845Z",
     "start_time": "2022-09-04T14:58:29.341868Z"
    },
    "colab": {
     "base_uri": "https://localhost:8080/"
    },
    "executionInfo": {
     "elapsed": 101,
     "status": "ok",
     "timestamp": 1661134952304,
     "user": {
      "displayName": "Harpreet SIngh",
      "userId": "15106381096049879330"
     },
     "user_tz": 300
    },
    "id": "JILHRiyVIUvB",
    "outputId": "2c9ee3aa-ec01-40ad-e8bc-67a68507673b"
   },
   "outputs": [
    {
     "name": "stdout",
     "output_type": "stream",
     "text": [
      "[2, 4, 6, 8, 10, 12]\n"
     ]
    }
   ],
   "source": [
    "# Create a list of even numbers from 2 to 12 \n",
    "start = 2\n",
    "stop = 14\n",
    "step = 2\n",
    "\n",
    "print(list(range(start, stop, step)))"
   ]
  },
  {
   "cell_type": "code",
   "execution_count": 111,
   "metadata": {
    "ExecuteTime": {
     "end_time": "2022-09-04T14:58:29.829082Z",
     "start_time": "2022-09-04T14:58:29.821103Z"
    },
    "colab": {
     "base_uri": "https://localhost:8080/"
    },
    "executionInfo": {
     "elapsed": 90,
     "status": "ok",
     "timestamp": 1661134965570,
     "user": {
      "displayName": "Harpreet SIngh",
      "userId": "15106381096049879330"
     },
     "user_tz": 300
    },
    "id": "IE5E45pOlA3B",
    "outputId": "cecb2c07-b3a1-4389-9604-a4fe7072e366"
   },
   "outputs": [
    {
     "name": "stdout",
     "output_type": "stream",
     "text": [
      "0\n",
      "1\n",
      "2\n",
      "3\n",
      "I am Alex and 3 is my StudentId\n",
      "4\n"
     ]
    }
   ],
   "source": [
    "# for loop by using range function\n",
    "for x in range(0, 5): # range(0,5) give numbers 0, 1, 2, 3, 4\n",
    "  print(x)\n",
    "  if x == 3:\n",
    "    print('I am Alex and 3 is my StudentId')"
   ]
  },
  {
   "cell_type": "markdown",
   "metadata": {
    "id": "Iiagji7r_ECM"
   },
   "source": [
    "# **List comprehensions**\n",
    "1. List comprehension is an elegant way to define and create lists based on existing iterables(sets, tuples, strings).\n",
    "2. It provides a short and concise way to form new iterables.\n",
    "\n",
    "  **Syntax** :\n",
    "\n",
    "  ```\n",
    "  [expression for item in list]\n",
    "  ```\n",
    "\n",
    "\n"
   ]
  },
  {
   "cell_type": "code",
   "execution_count": 112,
   "metadata": {
    "ExecuteTime": {
     "end_time": "2022-09-04T14:58:31.220564Z",
     "start_time": "2022-09-04T14:58:31.211590Z"
    },
    "colab": {
     "base_uri": "https://localhost:8080/"
    },
    "executionInfo": {
     "elapsed": 288,
     "status": "ok",
     "timestamp": 1661200478600,
     "user": {
      "displayName": "Kyungseob Shim",
      "userId": "04167791068819005440"
     },
     "user_tz": 300
    },
    "id": "9_VIRm1mBu9x",
    "outputId": "9a310830-57ae-47bb-b522-0b769a61538a"
   },
   "outputs": [
    {
     "name": "stdout",
     "output_type": "stream",
     "text": [
      "The list of the word Google colab is : ['G', 'o', 'o', 'g', 'l', 'e', ' ', 'c', 'o', 'l', 'a', 'b']\n"
     ]
    }
   ],
   "source": [
    "# We want to separate the letters of the word Google colab and add the letters as items of a list.\n",
    "g_letters = []\n",
    "for letter in 'Google colab':\n",
    "    g_letters.append(letter)\n",
    "\n",
    "# We can observe that even the space is considered as character.\n",
    "print(f\"The list of the word Google colab is : {g_letters}\")  "
   ]
  },
  {
   "cell_type": "code",
   "execution_count": 113,
   "metadata": {
    "ExecuteTime": {
     "end_time": "2022-09-04T14:58:32.446683Z",
     "start_time": "2022-09-04T14:58:32.432719Z"
    },
    "colab": {
     "base_uri": "https://localhost:8080/"
    },
    "executionInfo": {
     "elapsed": 4,
     "status": "ok",
     "timestamp": 1661200480333,
     "user": {
      "displayName": "Kyungseob Shim",
      "userId": "04167791068819005440"
     },
     "user_tz": 300
    },
    "id": "RKLuq-ArAze_",
    "outputId": "47915708-6929-41eb-c813-d5697f1854b6"
   },
   "outputs": [
    {
     "name": "stdout",
     "output_type": "stream",
     "text": [
      "The list of the word Google colab is : ['G', 'o', 'o', 'g', 'l', 'e', ' ', 'c', 'o', 'l', 'a', 'b']\n"
     ]
    }
   ],
   "source": [
    "# The list comprehension for the above code\n",
    "g_letters = [ letter for letter in 'Google colab' ]\n",
    "print( 'The list of the word Google colab is :',g_letters) "
   ]
  },
  {
   "cell_type": "code",
   "execution_count": 114,
   "metadata": {
    "ExecuteTime": {
     "end_time": "2022-09-04T14:58:33.035262Z",
     "start_time": "2022-09-04T14:58:33.020490Z"
    },
    "colab": {
     "base_uri": "https://localhost:8080/"
    },
    "executionInfo": {
     "elapsed": 293,
     "status": "ok",
     "timestamp": 1661200574772,
     "user": {
      "displayName": "Kyungseob Shim",
      "userId": "04167791068819005440"
     },
     "user_tz": 300
    },
    "id": "z_YHfGCtCQ-1",
    "outputId": "bab1238d-2da6-4c74-cd5a-641e86c9c566"
   },
   "outputs": [
    {
     "data": {
      "text/plain": [
       "['chocolate', 'cake', 'burger', 'ice cream']"
      ]
     },
     "execution_count": 114,
     "metadata": {},
     "output_type": "execute_result"
    }
   ],
   "source": [
    "# call a method on each element\n",
    "yummy_junkie = ['  chocolate', '  cake ', 'burger  ',' ice cream']\n",
    "# using .strip() method to remove spaces from eaxh element of the list (without using for loop)\n",
    "[word.strip() for word in yummy_junkie]"
   ]
  },
  {
   "cell_type": "code",
   "execution_count": 115,
   "metadata": {
    "ExecuteTime": {
     "end_time": "2022-09-04T14:58:33.654983Z",
     "start_time": "2022-09-04T14:58:33.644012Z"
    },
    "colab": {
     "base_uri": "https://localhost:8080/"
    },
    "executionInfo": {
     "elapsed": 272,
     "status": "ok",
     "timestamp": 1661200485812,
     "user": {
      "displayName": "Kyungseob Shim",
      "userId": "04167791068819005440"
     },
     "user_tz": 300
    },
    "id": "4t2WkCnhDIds",
    "outputId": "f701221d-66a4-4f15-d1b4-74a99408be3d"
   },
   "outputs": [
    {
     "data": {
      "text/plain": [
       "[(0, 0), (1, 1), (2, 8), (3, 27), (4, 64), (5, 125)]"
      ]
     },
     "execution_count": 115,
     "metadata": {},
     "output_type": "execute_result"
    }
   ],
   "source": [
    "# create a list of 2-tuples like (number, cubes)\n",
    "[(x, x**3) for x in range(6)]\n",
    "\n",
    "# the tuple must be parenthesized, otherwise an error is raised\n",
    "# [x, x**2 for x in range(6)]"
   ]
  },
  {
   "cell_type": "code",
   "execution_count": 116,
   "metadata": {
    "ExecuteTime": {
     "end_time": "2022-09-04T14:58:34.240389Z",
     "start_time": "2022-09-04T14:58:34.227652Z"
    },
    "colab": {
     "base_uri": "https://localhost:8080/"
    },
    "executionInfo": {
     "elapsed": 85,
     "status": "ok",
     "timestamp": 1661135071996,
     "user": {
      "displayName": "Harpreet SIngh",
      "userId": "15106381096049879330"
     },
     "user_tz": 300
    },
    "id": "oQr76xKmDUI1",
    "outputId": "e11cc8ac-319f-48ff-bb56-a602c0bd38e2"
   },
   "outputs": [
    {
     "data": {
      "text/plain": [
       "[1, 2, 3, 4, 5, 6, 7, 8, 9]"
      ]
     },
     "execution_count": 116,
     "metadata": {},
     "output_type": "execute_result"
    }
   ],
   "source": [
    "# flatten a list using a listcomp with two 'for'\n",
    "my_list = [[1, 2, 3], [4, 5, 6], [7, 8, 9]]\n",
    "# flatten the list\n",
    "[num for elem in my_list for num in elem]"
   ]
  },
  {
   "cell_type": "markdown",
   "metadata": {
    "id": "9KWIzR9KFXB2"
   },
   "source": [
    "# **Functions**\n",
    "1. Function is a group of related statements that perfroms specific task.\n",
    "\n",
    " **Syntax**:\n",
    "  ```\n",
    "  def function_name(parameter):\n",
    "    body of the function\n",
    "  ```\n",
    "\n",
    "  \n",
    " 2. Keyword def that marks the start of the function header.\n",
    " 3. Parameters (arguments) through which we pass values to a function. They are optional.\n",
    " 4. A colon (:) to mark the end of the function header.\n",
    " 5. Optional documentation string (docstring) to describe what the function does.\n",
    " 6. An optional return statement to return a value from the function.\n",
    "\n"
   ]
  },
  {
   "cell_type": "code",
   "execution_count": 117,
   "metadata": {
    "ExecuteTime": {
     "end_time": "2022-09-04T14:58:35.846392Z",
     "start_time": "2022-09-04T14:58:35.830434Z"
    },
    "id": "rOb9ahNRLHUF"
   },
   "outputs": [],
   "source": [
    "# Creating a function\n",
    "def greet(name):\n",
    "    \"\"\"\n",
    "    This function greets to\n",
    "    the person passed in as\n",
    "    a parameter\n",
    "    \"\"\"\n",
    "    print(f\"Hello {name} Good morning!\")"
   ]
  },
  {
   "cell_type": "code",
   "execution_count": 118,
   "metadata": {
    "ExecuteTime": {
     "end_time": "2022-09-04T14:58:37.251730Z",
     "start_time": "2022-09-04T14:58:37.239800Z"
    },
    "colab": {
     "base_uri": "https://localhost:8080/"
    },
    "executionInfo": {
     "elapsed": 88,
     "status": "ok",
     "timestamp": 1661135088670,
     "user": {
      "displayName": "Harpreet SIngh",
      "userId": "15106381096049879330"
     },
     "user_tz": 300
    },
    "id": "IKyVxymvLTic",
    "outputId": "ed8da62e-fcce-46eb-b202-654f907a6d16"
   },
   "outputs": [
    {
     "name": "stdout",
     "output_type": "stream",
     "text": [
      "Hello Alex Good morning!\n"
     ]
    }
   ],
   "source": [
    "# calling a function\n",
    "greet('Alex')"
   ]
  },
  {
   "cell_type": "code",
   "execution_count": 119,
   "metadata": {
    "ExecuteTime": {
     "end_time": "2022-09-04T14:58:37.702391Z",
     "start_time": "2022-09-04T14:58:37.693416Z"
    },
    "id": "onBf-g6XLj08"
   },
   "outputs": [],
   "source": [
    "# Using a  return statement for a function\n",
    "# write a function to get absolute value\n",
    "\n",
    "def absolute_value(num):\n",
    "    \"\"\"\n",
    "    This function returns the absolute\n",
    "    value of the entered number\n",
    "    \"\"\"\n",
    "\n",
    "    if num >= 0:\n",
    "        return num\n",
    "    else:\n",
    "        return -num"
   ]
  },
  {
   "cell_type": "code",
   "execution_count": 120,
   "metadata": {
    "ExecuteTime": {
     "end_time": "2022-09-04T14:58:38.082372Z",
     "start_time": "2022-09-04T14:58:38.073398Z"
    },
    "colab": {
     "base_uri": "https://localhost:8080/"
    },
    "executionInfo": {
     "elapsed": 109,
     "status": "ok",
     "timestamp": 1661135112350,
     "user": {
      "displayName": "Harpreet SIngh",
      "userId": "15106381096049879330"
     },
     "user_tz": 300
    },
    "id": "Q1HkVo8zyGBD",
    "outputId": "939c065f-5fcd-4f88-833f-81a19cb93d0e"
   },
   "outputs": [
    {
     "name": "stdout",
     "output_type": "stream",
     "text": [
      "2\n",
      "4\n"
     ]
    }
   ],
   "source": [
    "print(absolute_value(2))\n",
    "print(absolute_value(-4))"
   ]
  },
  {
   "cell_type": "code",
   "execution_count": 121,
   "metadata": {
    "ExecuteTime": {
     "end_time": "2022-09-04T14:58:39.179741Z",
     "start_time": "2022-09-04T14:58:39.166774Z"
    },
    "id": "htoLWZ8sLjYw"
   },
   "outputs": [],
   "source": [
    "# creating a function that gives square of the number\n",
    "def square(x):\n",
    "    \"\"\"\n",
    "    This function returns the square of the number.\n",
    "    \n",
    "    \"\"\"\n",
    "    return x ** 2"
   ]
  },
  {
   "cell_type": "code",
   "execution_count": 122,
   "metadata": {
    "ExecuteTime": {
     "end_time": "2022-09-04T14:58:39.468268Z",
     "start_time": "2022-09-04T14:58:39.455306Z"
    },
    "colab": {
     "base_uri": "https://localhost:8080/"
    },
    "executionInfo": {
     "elapsed": 73,
     "status": "ok",
     "timestamp": 1661135118703,
     "user": {
      "displayName": "Harpreet SIngh",
      "userId": "15106381096049879330"
     },
     "user_tz": 300
    },
    "id": "3lcKF0cbM50v",
    "outputId": "b32c9325-f436-4aa5-ee0e-3337aa5ed884"
   },
   "outputs": [
    {
     "data": {
      "text/plain": [
       "25"
      ]
     },
     "execution_count": 122,
     "metadata": {},
     "output_type": "execute_result"
    }
   ],
   "source": [
    "# calling a function\n",
    "square(5)"
   ]
  },
  {
   "cell_type": "markdown",
   "metadata": {
    "id": "f9BAbEVbNUWw"
   },
   "source": [
    "# **lambda expressions**\n",
    "1. In Python, an anonymous function is a function that is defined without a name.\n",
    "2. Normal functions are defined by using def keyword but anonymous functions are defined by using lambda function.\n",
    "3. A lambda function can take any number of arguments, but can only have one expression.\n",
    "\n",
    "\n",
    "\n",
    "**Syntax**:\n",
    "\n",
    "  ```\n",
    "  lambda arguments: expression\n",
    "\n",
    "  ```\n",
    "\n",
    "\n",
    "\n"
   ]
  },
  {
   "cell_type": "code",
   "execution_count": 123,
   "metadata": {
    "ExecuteTime": {
     "end_time": "2022-09-04T14:58:40.725016Z",
     "start_time": "2022-09-04T14:58:40.714044Z"
    },
    "colab": {
     "base_uri": "https://localhost:8080/"
    },
    "executionInfo": {
     "elapsed": 86,
     "status": "ok",
     "timestamp": 1661135126641,
     "user": {
      "displayName": "Harpreet SIngh",
      "userId": "15106381096049879330"
     },
     "user_tz": 300
    },
    "id": "a5ZSRw79QN_6",
    "outputId": "0cfbfa40-6e01-41b9-e848-407ea7afc9cf"
   },
   "outputs": [
    {
     "data": {
      "text/plain": [
       "10"
      ]
     },
     "execution_count": 123,
     "metadata": {},
     "output_type": "execute_result"
    }
   ],
   "source": [
    "# Normal function to calculate the double of a number\n",
    "def double(x):\n",
    "  return x * 2\n",
    "\n",
    "double(5)"
   ]
  },
  {
   "cell_type": "code",
   "execution_count": 124,
   "metadata": {
    "ExecuteTime": {
     "end_time": "2022-09-04T14:58:41.237974Z",
     "start_time": "2022-09-04T14:58:41.230306Z"
    },
    "colab": {
     "base_uri": "https://localhost:8080/"
    },
    "executionInfo": {
     "elapsed": 102,
     "status": "ok",
     "timestamp": 1661135127854,
     "user": {
      "displayName": "Harpreet SIngh",
      "userId": "15106381096049879330"
     },
     "user_tz": 300
    },
    "id": "0MCRwz4CP2kf",
    "outputId": "0da3f6e4-d448-4a5b-808d-3744980f9446"
   },
   "outputs": [
    {
     "name": "stdout",
     "output_type": "stream",
     "text": [
      "10\n"
     ]
    }
   ],
   "source": [
    "# Write the above function using lambda expression\n",
    "double = lambda x: x * 2\n",
    "print(double(5))"
   ]
  },
  {
   "cell_type": "markdown",
   "metadata": {
    "id": "3XYuO1XcQne2"
   },
   "source": [
    "# **Map and filter**\n",
    "1. map() function returns a map object(which is an iterator) of the results after applying the given function to each item of a given iterable (list, tuple etc.)\n",
    "2. **Syntax** :\n",
    "  \n",
    "  ```\n",
    "  map(function,iterable)\n",
    "  ```\n",
    "\n",
    "3. **function** - map() passes each item of the iterable to this function.\n",
    "\n",
    " **iterable** - iterable(list, tuple, string) which is to be mapped\n",
    "4. The map() function applies a given function to each item of an iterable.\n",
    "5. The returned value from map() (map object) can then be passed to functions like list() (to create a list), set() (to create a set) and so on."
   ]
  },
  {
   "cell_type": "code",
   "execution_count": 125,
   "metadata": {
    "ExecuteTime": {
     "end_time": "2022-09-04T14:58:42.581260Z",
     "start_time": "2022-09-04T14:58:42.563308Z"
    },
    "colab": {
     "base_uri": "https://localhost:8080/"
    },
    "executionInfo": {
     "elapsed": 85,
     "status": "ok",
     "timestamp": 1661135139628,
     "user": {
      "displayName": "Harpreet SIngh",
      "userId": "15106381096049879330"
     },
     "user_tz": 300
    },
    "id": "Fpjgk1RiTwHq",
    "outputId": "e5311f4f-9069-4b69-c838-d4e8de564f82"
   },
   "outputs": [
    {
     "name": "stdout",
     "output_type": "stream",
     "text": [
      "<map object at 0x00000275DC75E7C0>\n"
     ]
    }
   ],
   "source": [
    "def calculateSquare(n):\n",
    "    return n * n\n",
    "\n",
    "numbers = (1, 2, 3, 4)\n",
    "result = map(calculateSquare, numbers)\n",
    "print(result)\n"
   ]
  },
  {
   "cell_type": "code",
   "execution_count": 126,
   "metadata": {
    "ExecuteTime": {
     "end_time": "2022-09-04T14:58:43.068701Z",
     "start_time": "2022-09-04T14:58:43.059977Z"
    },
    "colab": {
     "base_uri": "https://localhost:8080/"
    },
    "executionInfo": {
     "elapsed": 87,
     "status": "ok",
     "timestamp": 1661135145694,
     "user": {
      "displayName": "Harpreet SIngh",
      "userId": "15106381096049879330"
     },
     "user_tz": 300
    },
    "id": "MCE9Ct4jyvgE",
    "outputId": "1708b215-e0c6-4108-ccb6-37e9b4be8492"
   },
   "outputs": [
    {
     "name": "stdout",
     "output_type": "stream",
     "text": [
      "{16, 1, 4, 9}\n"
     ]
    }
   ],
   "source": [
    "# converting map object to set\n",
    "numbers_Square = set(result)\n",
    "print(numbers_Square)"
   ]
  },
  {
   "cell_type": "code",
   "execution_count": 127,
   "metadata": {
    "ExecuteTime": {
     "end_time": "2022-09-04T14:58:43.371741Z",
     "start_time": "2022-09-04T14:58:43.359774Z"
    },
    "colab": {
     "base_uri": "https://localhost:8080/"
    },
    "executionInfo": {
     "elapsed": 83,
     "status": "ok",
     "timestamp": 1661135164963,
     "user": {
      "displayName": "Harpreet SIngh",
      "userId": "15106381096049879330"
     },
     "user_tz": 300
    },
    "id": "66A-GksFT4_J",
    "outputId": "046b4d5c-9be5-4045-89a6-f07086589a56"
   },
   "outputs": [
    {
     "name": "stdout",
     "output_type": "stream",
     "text": [
      "<map object at 0x00000275DCCC2400>\n",
      "{225, 484, 4, 16, 25}\n"
     ]
    }
   ],
   "source": [
    "# Squaring a number by using lambda function\n",
    "\n",
    "numbers = (5, 2, 15, 4, 22)\n",
    "result = map(lambda x: x*x, numbers)\n",
    "print(result)\n",
    "\n",
    "# converting map object to set\n",
    "numbers_Square = set(result)\n",
    "print(numbers_Square)"
   ]
  },
  {
   "cell_type": "markdown",
   "metadata": {
    "id": "cTLhRlS1VVir"
   },
   "source": [
    "# **Methods**\n"
   ]
  },
  {
   "cell_type": "markdown",
   "metadata": {
    "id": "YaZ7ivhlV8dr"
   },
   "source": [
    "## **Lower**\n",
    "It helps in converting the upper case alphabets into lower case alphabets in the string."
   ]
  },
  {
   "cell_type": "code",
   "execution_count": 128,
   "metadata": {
    "ExecuteTime": {
     "end_time": "2022-09-04T14:58:45.445831Z",
     "start_time": "2022-09-04T14:58:45.426865Z"
    },
    "colab": {
     "base_uri": "https://localhost:8080/",
     "height": 36
    },
    "executionInfo": {
     "elapsed": 79,
     "status": "ok",
     "timestamp": 1661135170266,
     "user": {
      "displayName": "Harpreet SIngh",
      "userId": "15106381096049879330"
     },
     "user_tz": 300
    },
    "id": "DVBrJqIVVsOL",
    "outputId": "7268502b-90f2-4725-a1a8-7d8d8cc66e96"
   },
   "outputs": [
    {
     "data": {
      "text/plain": [
       "'hello my name is sam'"
      ]
     },
     "execution_count": 128,
     "metadata": {},
     "output_type": "execute_result"
    }
   ],
   "source": [
    "#Converting string into lower case\n",
    "st = 'HELLO my name is Sam'\n",
    "st.lower()"
   ]
  },
  {
   "cell_type": "markdown",
   "metadata": {
    "id": "35YPlNdJWhtZ"
   },
   "source": [
    "## **Upper**\n",
    "It helps in converting the lower case alphabets into upper case alphabets in the string."
   ]
  },
  {
   "cell_type": "code",
   "execution_count": 129,
   "metadata": {
    "ExecuteTime": {
     "end_time": "2022-09-04T14:58:46.786197Z",
     "start_time": "2022-09-04T14:58:46.782180Z"
    },
    "colab": {
     "base_uri": "https://localhost:8080/",
     "height": 36
    },
    "executionInfo": {
     "elapsed": 86,
     "status": "ok",
     "timestamp": 1661135174305,
     "user": {
      "displayName": "Harpreet SIngh",
      "userId": "15106381096049879330"
     },
     "user_tz": 300
    },
    "id": "KkpSXos2WtVr",
    "outputId": "58ca253f-9b1b-408e-8b54-485e8fa08f4e"
   },
   "outputs": [
    {
     "data": {
      "text/plain": [
       "'HELLO,THIS IS MORNING TIME'"
      ]
     },
     "execution_count": 129,
     "metadata": {},
     "output_type": "execute_result"
    }
   ],
   "source": [
    "#Converting the string into upper case\n",
    "s='Hello,this is morning time'\n",
    "s.upper()"
   ]
  },
  {
   "cell_type": "markdown",
   "metadata": {
    "id": "6EuBgWw6W8qU"
   },
   "source": [
    "## **Split**\n",
    "It helps in splitting the words or characters in a string.\n"
   ]
  },
  {
   "cell_type": "code",
   "execution_count": 130,
   "metadata": {
    "ExecuteTime": {
     "end_time": "2022-09-04T14:58:47.761174Z",
     "start_time": "2022-09-04T14:58:47.744627Z"
    },
    "colab": {
     "base_uri": "https://localhost:8080/"
    },
    "executionInfo": {
     "elapsed": 139,
     "status": "ok",
     "timestamp": 1661135178754,
     "user": {
      "displayName": "Harpreet SIngh",
      "userId": "15106381096049879330"
     },
     "user_tz": 300
    },
    "id": "Vs2NmxE2XQNa",
    "outputId": "abaf1a5e-1e7d-47c4-b703-a91707202e9b"
   },
   "outputs": [
    {
     "data": {
      "text/plain": [
       "['Let', 'us', 'take', 'a', 'data', 'science', 'course']"
      ]
     },
     "execution_count": 130,
     "metadata": {},
     "output_type": "execute_result"
    }
   ],
   "source": [
    "st='Let us take a data science course '\n",
    "st.split()"
   ]
  },
  {
   "cell_type": "markdown",
   "metadata": {
    "id": "AkF2ef8HXtr_"
   },
   "source": [
    "## **Count**\n",
    "It helps in counting the particular occurence of an alphabet or word in the list, string or tuple."
   ]
  },
  {
   "cell_type": "code",
   "execution_count": 131,
   "metadata": {
    "ExecuteTime": {
     "end_time": "2022-09-04T14:58:49.182161Z",
     "start_time": "2022-09-04T14:58:49.169684Z"
    },
    "colab": {
     "base_uri": "https://localhost:8080/"
    },
    "executionInfo": {
     "elapsed": 112,
     "status": "ok",
     "timestamp": 1661135183511,
     "user": {
      "displayName": "Harpreet SIngh",
      "userId": "15106381096049879330"
     },
     "user_tz": 300
    },
    "id": "ZARm-rk9XjDk",
    "outputId": "25ed56b6-95ed-4329-9f72-67672b624d0d"
   },
   "outputs": [
    {
     "data": {
      "text/plain": [
       "1"
      ]
     },
     "execution_count": 131,
     "metadata": {},
     "output_type": "execute_result"
    }
   ],
   "source": [
    "my_list=['moni','Alex','Data']\n",
    "my_list.count('moni')"
   ]
  },
  {
   "cell_type": "markdown",
   "metadata": {
    "id": "j66nDyStY3TO"
   },
   "source": [
    "## **Reverse**\n",
    "1. The reverse() method doesn't return any value. It updates the existing list.\n",
    "\n"
   ]
  },
  {
   "cell_type": "code",
   "execution_count": 132,
   "metadata": {
    "ExecuteTime": {
     "end_time": "2022-09-04T14:58:50.059958Z",
     "start_time": "2022-09-04T14:58:50.055968Z"
    },
    "colab": {
     "base_uri": "https://localhost:8080/"
    },
    "executionInfo": {
     "elapsed": 100,
     "status": "ok",
     "timestamp": 1661135187875,
     "user": {
      "displayName": "Harpreet SIngh",
      "userId": "15106381096049879330"
     },
     "user_tz": 300
    },
    "id": "fAGkVh9qYk5b",
    "outputId": "2a4136cc-badc-4932-9943-990f1c4af5ec"
   },
   "outputs": [
    {
     "name": "stdout",
     "output_type": "stream",
     "text": [
      "['Data', 'Alex', 'moni']\n"
     ]
    }
   ],
   "source": [
    "my_list.reverse()\n",
    "print(my_list)"
   ]
  },
  {
   "cell_type": "markdown",
   "metadata": {
    "id": "_729BU_QZtST"
   },
   "source": [
    "## **Sort**\n",
    "1. The sort() method sorts the elements of a given list in a specific ascending or descending order.\n",
    "2. By default, sort() doesn't require any extra parameters. It has two optional parameter and they are:\n",
    "3.**reverse** - If True, the sorted list is reversed (or sorted in Descending order).\n",
    "4.**key** - function that serves as a key for the sort comparison.\n",
    "\n"
   ]
  },
  {
   "cell_type": "code",
   "execution_count": 133,
   "metadata": {
    "ExecuteTime": {
     "end_time": "2022-09-04T14:58:50.874499Z",
     "start_time": "2022-09-04T14:58:50.859540Z"
    },
    "colab": {
     "base_uri": "https://localhost:8080/"
    },
    "executionInfo": {
     "elapsed": 92,
     "status": "ok",
     "timestamp": 1661135194180,
     "user": {
      "displayName": "Harpreet SIngh",
      "userId": "15106381096049879330"
     },
     "user_tz": 300
    },
    "id": "Ao8K0Is6aekT",
    "outputId": "fc5ab18c-89e5-499b-ab9f-81ad9d3265b2"
   },
   "outputs": [
    {
     "name": "stdout",
     "output_type": "stream",
     "text": [
      "Sorted list: ['a', 'e', 'i', 'o', 'u']\n"
     ]
    }
   ],
   "source": [
    "# vowels list\n",
    "vowels = ['e', 'a', 'u', 'o', 'i']\n",
    "\n",
    "# sort the vowels\n",
    "vowels.sort()\n",
    "\n",
    "# print vowels\n",
    "print('Sorted list:', vowels)"
   ]
  },
  {
   "cell_type": "code",
   "execution_count": 134,
   "metadata": {
    "ExecuteTime": {
     "end_time": "2022-09-04T14:58:52.008488Z",
     "start_time": "2022-09-04T14:58:52.001508Z"
    },
    "colab": {
     "base_uri": "https://localhost:8080/"
    },
    "executionInfo": {
     "elapsed": 79,
     "status": "ok",
     "timestamp": 1661135197939,
     "user": {
      "displayName": "Harpreet SIngh",
      "userId": "15106381096049879330"
     },
     "user_tz": 300
    },
    "id": "2EnDOEtSag6Q",
    "outputId": "dcefc205-d065-4aaf-f5c2-7ba3a3a85794"
   },
   "outputs": [
    {
     "name": "stdout",
     "output_type": "stream",
     "text": [
      "[78, 45, 25, 10, 3]\n"
     ]
    }
   ],
   "source": [
    "# To sort in descending order\n",
    "my_list=[25, 45, 78, 10, 3]\n",
    "my_list.sort(reverse=True)\n",
    "print(my_list)"
   ]
  },
  {
   "cell_type": "markdown",
   "metadata": {
    "id": "5Sbw6idKjENp"
   },
   "source": [
    "# **OOPS CONCEPT**\n",
    "\n",
    "---\n",
    "\n",
    "1.  Object-Oriented Programming(OOP), is all about creating “objects”. \n",
    "2.   An object is a group of interrelated variables and functions.\n",
    "3. These variables are often referred to as properties of the object and functions are referred to as the behavior of the objects.\n",
    "4. These objects provide a better and clear structure for the program. \n",
    "5. Examples : \n",
    "   \n",
    "   a) Consider a bike as an object :\n",
    "\n",
    "  **properties** : color, price, model etc.\n",
    "   \n",
    "  **function** : accelaration, slowing down, gear change.\n",
    "\n",
    "  b) Consider a dog as an object:\n",
    "\n",
    "  **properties** : color, breed, name, weight etc.\n",
    "\n",
    "  **function** : walking, barking, playing etc.\n",
    "\n",
    "6. Some of the programming languages that follow OOPs concept are C++,  java, python etc. \n",
    "\n",
    "\n",
    "## **MAJOR OOPS CONCEPTS IN PYTHON**\n",
    "Following are the oops concept in python :\n",
    "\n",
    "\n",
    "\n",
    "\n"
   ]
  },
  {
   "cell_type": "markdown",
   "metadata": {
    "id": "BPo_dvbwvZbo"
   },
   "source": [
    "## **Class** ###\n",
    "1. Like function definitions begin with the **def keyword** in Python, class definitions begin with a **class keyword**.\n",
    "2. **Syntax**:\n",
    "\n",
    "  ```\n",
    "  class ClassName():\n",
    "      body of the class\n",
    "  ```\n",
    "\n",
    " Here by using class keyword we define class and ClassName is the name of the class.\n",
    "\n",
    "\n",
    "3. As soon as we define a class, a new class object is created with the same name. \n",
    "4. This class object allows us to access the different attributes as well as to instantiate new objects of that class."
   ]
  },
  {
   "cell_type": "markdown",
   "metadata": {
    "id": "60NB78DEV3mj"
   },
   "source": [
    "## **Object**\n",
    "1. An object is an instance of a class.\n",
    "2. It can be used to perform the functions that are defined in the class."
   ]
  },
  {
   "cell_type": "markdown",
   "metadata": {
    "id": "K72lkdrXVqa7"
   },
   "source": [
    "## **Self keyword**\n",
    "Self is a keyword with which we can access all the instances including methods and attributed of the class. "
   ]
  },
  {
   "cell_type": "code",
   "execution_count": 135,
   "metadata": {
    "ExecuteTime": {
     "end_time": "2022-09-04T14:58:55.039787Z",
     "start_time": "2022-09-04T14:58:55.033800Z"
    },
    "id": "uGt1Er5Ud3LO"
   },
   "outputs": [],
   "source": [
    "#created a class Person\n",
    "class Person: \n",
    "    \"This is a person class\"\n",
    "    age = 10\n",
    "    #create a function inside the class\n",
    "    def greet(self): \n",
    "        print(f'Hello My age is {self.age}')        "
   ]
  },
  {
   "cell_type": "code",
   "execution_count": 136,
   "metadata": {
    "ExecuteTime": {
     "end_time": "2022-09-04T14:58:56.244824Z",
     "start_time": "2022-09-04T14:58:56.235848Z"
    },
    "id": "-4gmNb8dzuDr"
   },
   "outputs": [],
   "source": [
    "# Instantiate the class\n",
    "person1 = Person()\n",
    "person2 = Person()"
   ]
  },
  {
   "cell_type": "code",
   "execution_count": 137,
   "metadata": {
    "ExecuteTime": {
     "end_time": "2022-09-04T14:58:57.007590Z",
     "start_time": "2022-09-04T14:58:56.993132Z"
    },
    "colab": {
     "base_uri": "https://localhost:8080/"
    },
    "executionInfo": {
     "elapsed": 112,
     "status": "ok",
     "timestamp": 1661135233335,
     "user": {
      "displayName": "Harpreet SIngh",
      "userId": "15106381096049879330"
     },
     "user_tz": 300
    },
    "id": "IgZHEIWL5KKY",
    "outputId": "5c9b20e4-8918-4e6b-ca21-24afcb3407da"
   },
   "outputs": [
    {
     "name": "stdout",
     "output_type": "stream",
     "text": [
      "10\n",
      "10\n"
     ]
    }
   ],
   "source": [
    "# accessing attributes\n",
    "print(person1.age) \n",
    "print(person2.age) "
   ]
  },
  {
   "cell_type": "code",
   "execution_count": 138,
   "metadata": {
    "ExecuteTime": {
     "end_time": "2022-09-04T14:58:58.222208Z",
     "start_time": "2022-09-04T14:58:58.209240Z"
    },
    "colab": {
     "base_uri": "https://localhost:8080/"
    },
    "executionInfo": {
     "elapsed": 84,
     "status": "ok",
     "timestamp": 1661135236648,
     "user": {
      "displayName": "Harpreet SIngh",
      "userId": "15106381096049879330"
     },
     "user_tz": 300
    },
    "id": "Zpuxk0q15Mtb",
    "outputId": "a53f3fc7-82ba-42d5-a1cc-768df7358883"
   },
   "outputs": [
    {
     "name": "stdout",
     "output_type": "stream",
     "text": [
      "Hello My age is 10\n",
      "Hello My age is 10\n"
     ]
    }
   ],
   "source": [
    "# accessing the method from the class\n",
    "person1.greet()\n",
    "person2.greet()"
   ]
  },
  {
   "cell_type": "markdown",
   "metadata": {
    "id": "t9JJLQfoNuqA"
   },
   "source": [
    "## **__init__  method**\n",
    "1. init method is similar to the constructor in c++ and java.\n",
    "2. Constructor are used to initialize the objects state.\n",
    "\n"
   ]
  },
  {
   "cell_type": "code",
   "execution_count": 139,
   "metadata": {
    "ExecuteTime": {
     "end_time": "2022-09-04T14:59:00.290924Z",
     "start_time": "2022-09-04T14:59:00.284936Z"
    },
    "id": "jlOVzDpNPSlE"
   },
   "outputs": [],
   "source": [
    "# A Sample class with init method  \n",
    "class Students:  \n",
    "      \n",
    "    # init method or constructor   \n",
    "    def __init__(self, name, age):  \n",
    "        self.name = name\n",
    "        self.age = age\n",
    "      \n",
    "    # Sample Method   \n",
    "    def say_hi(self):  \n",
    "        print(f'Hello, my name is: {self.name}') "
   ]
  },
  {
   "cell_type": "code",
   "execution_count": 140,
   "metadata": {
    "ExecuteTime": {
     "end_time": "2022-09-04T14:59:01.584486Z",
     "start_time": "2022-09-04T14:59:01.567530Z"
    },
    "id": "lW4GHRr3QP26"
   },
   "outputs": [],
   "source": [
    "# Create Objects\n",
    "student1 = Students('Alex', 42)\n",
    "student2 = Students('Max', 30)"
   ]
  },
  {
   "cell_type": "code",
   "execution_count": 141,
   "metadata": {
    "ExecuteTime": {
     "end_time": "2022-09-04T14:59:02.127570Z",
     "start_time": "2022-09-04T14:59:02.119595Z"
    },
    "colab": {
     "base_uri": "https://localhost:8080/"
    },
    "executionInfo": {
     "elapsed": 118,
     "status": "ok",
     "timestamp": 1661135281424,
     "user": {
      "displayName": "Harpreet SIngh",
      "userId": "15106381096049879330"
     },
     "user_tz": 300
    },
    "id": "eanYdBDm5Vj4",
    "outputId": "2ef8c6e0-1d56-4ea7-e73e-c77c1cd9e118"
   },
   "outputs": [
    {
     "name": "stdout",
     "output_type": "stream",
     "text": [
      "attributes of student1: 42, Alex\n",
      "attributes of student2: 30, Max\n"
     ]
    }
   ],
   "source": [
    "# print attributes of studebt 1 and student 2\n",
    "print(f'attributes of student1: {student1.age}, {student1.name}')\n",
    "print(f'attributes of student2: {student2.age}, {student2.name}')"
   ]
  },
  {
   "cell_type": "code",
   "execution_count": 142,
   "metadata": {
    "ExecuteTime": {
     "end_time": "2022-09-04T14:59:03.023408Z",
     "start_time": "2022-09-04T14:59:03.014436Z"
    },
    "colab": {
     "base_uri": "https://localhost:8080/"
    },
    "executionInfo": {
     "elapsed": 105,
     "status": "ok",
     "timestamp": 1661135285504,
     "user": {
      "displayName": "Harpreet SIngh",
      "userId": "15106381096049879330"
     },
     "user_tz": 300
    },
    "id": "k2sKfWd96HRr",
    "outputId": "1645d243-1d95-4cbc-84e6-b4befd2fb0b8"
   },
   "outputs": [
    {
     "name": "stdout",
     "output_type": "stream",
     "text": [
      "Hello, my name is: Alex\n"
     ]
    }
   ],
   "source": [
    "# Aceess Methods\n",
    "student1.say_hi()"
   ]
  },
  {
   "cell_type": "markdown",
   "metadata": {
    "id": "YeWbUCO2wGr3"
   },
   "source": [
    "## **Inheritance** ###\n",
    "1. Inheritance is one of the most important OOPs concept.\n",
    "2. It provides reusability of existing class.\n",
    "2. It allows to create a new class by modifying existing class or to take properties of a class.\n",
    "3. The new class properties are derived from the base class also known as **parent class**.\n",
    "4. The new class formed from existing class is known as **child class**.\n",
    "\n",
    "<img src = \"https://drive.google.com/uc?view=export&id=1vpItpL1eKKtYndOzHXMnOz_6dcpeEihZ\" width = \"250\"/>\n",
    "\n",
    "4. **Syntax**:\n",
    "\n",
    "\n",
    "```\n",
    "class class_name(derived class):\n",
    "   body of the child class\n",
    "```\n",
    "\n"
   ]
  },
  {
   "cell_type": "code",
   "execution_count": 143,
   "metadata": {
    "ExecuteTime": {
     "end_time": "2022-09-04T14:59:05.437378Z",
     "start_time": "2022-09-04T14:59:05.425409Z"
    },
    "id": "AU4HI-6p33-Z"
   },
   "outputs": [],
   "source": [
    "# Creating base class and child class\n",
    "class Teacher:  \n",
    "    def teach(self):  \n",
    "        print(\"Teacher said that she will take english class\")  \n",
    "\n",
    "# child class student inherits the base class teacher  \n",
    "class Student(Teacher):  \n",
    "    def learn(self):  \n",
    "        print(\"Student said that he will read chapter number 7\")  "
   ]
  },
  {
   "cell_type": "code",
   "execution_count": 144,
   "metadata": {
    "ExecuteTime": {
     "end_time": "2022-09-04T14:59:06.256749Z",
     "start_time": "2022-09-04T14:59:06.249768Z"
    },
    "colab": {
     "base_uri": "https://localhost:8080/"
    },
    "executionInfo": {
     "elapsed": 82,
     "status": "ok",
     "timestamp": 1661135301925,
     "user": {
      "displayName": "Harpreet SIngh",
      "userId": "15106381096049879330"
     },
     "user_tz": 300
    },
    "id": "6IqB_pIhCVaY",
    "outputId": "dc4709ea-1f29-4a19-a701-6f207265f220"
   },
   "outputs": [
    {
     "name": "stdout",
     "output_type": "stream",
     "text": [
      "Teacher said that she will take english class\n",
      "Student said that he will read chapter number 7\n"
     ]
    }
   ],
   "source": [
    "# Student class has both properties of teacher class and student class\n",
    "\n",
    "student1 = Student() \n",
    "student1.teach()\n",
    "student1.learn()"
   ]
  },
  {
   "cell_type": "code",
   "execution_count": 145,
   "metadata": {
    "ExecuteTime": {
     "end_time": "2022-09-04T14:59:06.818122Z",
     "start_time": "2022-09-04T14:59:06.812138Z"
    },
    "id": "CDuzgH6CSGwu"
   },
   "outputs": [],
   "source": [
    "# init method in inheritance\n",
    "class parent():\n",
    "  def  __init__(self, p_name ='Mat'):\n",
    "      self.p_name = p_name    \n",
    "      "
   ]
  },
  {
   "cell_type": "code",
   "execution_count": 146,
   "metadata": {
    "ExecuteTime": {
     "end_time": "2022-09-04T14:59:07.258629Z",
     "start_time": "2022-09-04T14:59:07.243671Z"
    },
    "id": "XGlBpQ4sYn_B"
   },
   "outputs": [],
   "source": [
    "class child(parent):\n",
    "  def __init__(self, name): #creating another __init__ method\n",
    "    super().__init__() # calling the parent __init__ function\n",
    "    self.name = name # initializing the values\n",
    "\n",
    "    print(self.p_name, 'is a parent')\n",
    "    print(self.name,\"is a child\")\n"
   ]
  },
  {
   "cell_type": "code",
   "execution_count": 147,
   "metadata": {
    "ExecuteTime": {
     "end_time": "2022-09-04T14:59:08.419667Z",
     "start_time": "2022-09-04T14:59:08.401713Z"
    },
    "colab": {
     "base_uri": "https://localhost:8080/"
    },
    "executionInfo": {
     "elapsed": 95,
     "status": "ok",
     "timestamp": 1661136002651,
     "user": {
      "displayName": "Harpreet SIngh",
      "userId": "15106381096049879330"
     },
     "user_tz": 300
    },
    "id": "Gh5zgiT7UAX7",
    "outputId": "73873e8a-bebd-41ba-be1b-af6cbb53f5ec"
   },
   "outputs": [
    {
     "name": "stdout",
     "output_type": "stream",
     "text": [
      "Mat is a parent\n",
      "Ava is a child\n"
     ]
    }
   ],
   "source": [
    "p = child('Ava')"
   ]
  },
  {
   "cell_type": "code",
   "execution_count": 148,
   "metadata": {
    "ExecuteTime": {
     "end_time": "2022-09-04T14:59:08.785166Z",
     "start_time": "2022-09-04T14:59:08.779186Z"
    },
    "id": "ptaqi-d2aTkw"
   },
   "outputs": [],
   "source": [
    "class child(parent):\n",
    "  def __init__(self, name): #creating another __init__ method\n",
    "    super().__init__() # calling the parent __init__ function\n",
    "    self.name = name # initializing the values\n",
    "    self.p_name = 'Henry'    \n",
    "    print(self.p_name, 'is a parent')\n",
    "    print(self.name,\"is a child\")"
   ]
  },
  {
   "cell_type": "code",
   "execution_count": 149,
   "metadata": {
    "ExecuteTime": {
     "end_time": "2022-09-04T14:59:09.207600Z",
     "start_time": "2022-09-04T14:59:09.196884Z"
    },
    "colab": {
     "base_uri": "https://localhost:8080/"
    },
    "executionInfo": {
     "elapsed": 85,
     "status": "ok",
     "timestamp": 1661136074270,
     "user": {
      "displayName": "Harpreet SIngh",
      "userId": "15106381096049879330"
     },
     "user_tz": 300
    },
    "id": "tPccHcGraat_",
    "outputId": "94494b4d-d4a5-4be0-e42b-e588a63baa50"
   },
   "outputs": [
    {
     "name": "stdout",
     "output_type": "stream",
     "text": [
      "Henry is a parent\n",
      "Shelly is a child\n"
     ]
    }
   ],
   "source": [
    "p = child('Shelly')"
   ]
  },
  {
   "cell_type": "markdown",
   "metadata": {
    "id": "xHaPPoQcXI04"
   },
   "source": [
    "This is just the basic introduction to the OOPS concept in Python. To read the detailed explanation, refer the notebook 'Object Oriented Programming with Python'"
   ]
  }
 ],
 "metadata": {
  "colab": {
   "collapsed_sections": [],
   "name": "Demo_1.Python_fundamentals.ipynb",
   "provenance": [],
   "toc_visible": true
  },
  "kernelspec": {
   "display_name": "Python 3",
   "language": "python",
   "name": "python3"
  },
  "language_info": {
   "codemirror_mode": {
    "name": "ipython",
    "version": 3
   },
   "file_extension": ".py",
   "mimetype": "text/x-python",
   "name": "python",
   "nbconvert_exporter": "python",
   "pygments_lexer": "ipython3",
   "version": "3.8.8"
  },
  "varInspector": {
   "cols": {
    "lenName": 16,
    "lenType": 16,
    "lenVar": 40
   },
   "kernels_config": {
    "python": {
     "delete_cmd_postfix": "",
     "delete_cmd_prefix": "del ",
     "library": "var_list.py",
     "varRefreshCmd": "print(var_dic_list())"
    },
    "r": {
     "delete_cmd_postfix": ") ",
     "delete_cmd_prefix": "rm(",
     "library": "var_list.r",
     "varRefreshCmd": "cat(var_dic_list()) "
    }
   },
   "types_to_exclude": [
    "module",
    "function",
    "builtin_function_or_method",
    "instance",
    "_Feature"
   ],
   "window_display": false
  }
 },
 "nbformat": 4,
 "nbformat_minor": 1
}
