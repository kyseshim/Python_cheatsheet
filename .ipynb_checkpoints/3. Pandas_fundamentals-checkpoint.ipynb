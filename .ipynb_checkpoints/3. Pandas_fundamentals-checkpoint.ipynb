{
 "cells": [
  {
   "cell_type": "markdown",
   "metadata": {
    "id": "mxuDLiJ9TSVi"
   },
   "source": [
    "\n",
    "**Summary previous Lecture**<br>\n",
    "NumPy's ndarray data structure provides essential features for the type of clean, well-organized data typically seen in numerical computing tasks.\n",
    "\n",
    "**Limitations of numpy**\n",
    " - Cannot attach labels to data,\n",
    " - lacks flexibility to working with missing data\n",
    " - lacks flexibility to do operations that do not map well to element-wise broadcasting (e.g., groupings, pivots, etc.)\n",
    " \n",
    "\n",
    "# <font color = 'dodgerblue'> **Pandas** </font>\n",
    "\n",
    "Pandas is an open-source library that is built on top of NumPy library. \n",
    "\n",
    "**Why Pandas**\n",
    "1. It provides an efficient implementation of multidimensional arrays (dataframes) with attached row and column labels.\n",
    "2. These dataframes often consist of hetrogeneous or missing data.\n",
    "3. Many of Excel's features, like making pivot tables, calculating columns based on other columns, drawing graphs, etc., can be done prorrammatically. \n",
    "4. You can also group rows by the value in a column or join tables together, just like in SQL. \n",
    "5. Pandas also does a great job with time series."
   ]
  },
  {
   "cell_type": "markdown",
   "metadata": {
    "id": "5vuH0WtkW79s"
   },
   "source": [
    "## <font color = 'dodgerblue'> **Importing a package** </font>\n",
    "\n",
    "1. Importing the pandas is similar to importing the numpy package.\n",
    "\n",
    "\n",
    "2. **Syntax**:\n",
    "\n",
    "\n",
    "\n",
    "```\n",
    "      import package_name as alias name\n",
    "```\n"
   ]
  },
  {
   "cell_type": "code",
   "execution_count": 1,
   "metadata": {
    "ExecuteTime": {
     "end_time": "2022-09-04T16:22:08.735701Z",
     "start_time": "2022-09-04T16:22:08.022604Z"
    },
    "id": "fNlEGToAX8iG"
   },
   "outputs": [],
   "source": [
    "# Importing pandas package with alias name as pd\n",
    "import pandas as pd\n",
    "import numpy as np"
   ]
  },
  {
   "cell_type": "code",
   "execution_count": 2,
   "metadata": {
    "ExecuteTime": {
     "end_time": "2022-09-04T16:22:09.292629Z",
     "start_time": "2022-09-04T16:22:09.276672Z"
    },
    "colab": {
     "base_uri": "https://localhost:8080/",
     "height": 36
    },
    "executionInfo": {
     "elapsed": 136,
     "status": "ok",
     "timestamp": 1661538857144,
     "user": {
      "displayName": "Harpreet SIngh",
      "userId": "15106381096049879330"
     },
     "user_tz": 300
    },
    "id": "0N19bUGTSRpM",
    "outputId": "423f269a-11c6-44ff-8869-81552ab97c84"
   },
   "outputs": [
    {
     "data": {
      "text/plain": [
       "'1.2.4'"
      ]
     },
     "execution_count": 2,
     "metadata": {},
     "output_type": "execute_result"
    }
   ],
   "source": [
    "# Checking the version of the pandas\n",
    "pd.__version__"
   ]
  },
  {
   "cell_type": "code",
   "execution_count": 3,
   "metadata": {
    "ExecuteTime": {
     "end_time": "2022-09-04T16:22:09.985645Z",
     "start_time": "2022-09-04T16:22:09.966800Z"
    },
    "colab": {
     "base_uri": "https://localhost:8080/",
     "height": 36
    },
    "executionInfo": {
     "elapsed": 9,
     "status": "ok",
     "timestamp": 1661538857144,
     "user": {
      "displayName": "Harpreet SIngh",
      "userId": "15106381096049879330"
     },
     "user_tz": 300
    },
    "id": "5DRM21Q27-hd",
    "outputId": "fc667864-cdd4-4666-a436-255a860a2a2d"
   },
   "outputs": [
    {
     "data": {
      "text/plain": [
       "'1.20.1'"
      ]
     },
     "execution_count": 3,
     "metadata": {},
     "output_type": "execute_result"
    }
   ],
   "source": [
    "np.__version__"
   ]
  },
  {
   "cell_type": "markdown",
   "metadata": {
    "id": "j_An6SmtYJ2i"
   },
   "source": [
    "# <font color = 'dodgerblue'> **Pandas Objects** </font>\n",
    "1. In numpy the arrays or matrices were identified by using the indices.\n",
    "2. Pandas obejcts are enhanced version of numpy where the rows and columns are labeled.\n",
    "3. The data can be accessed by using these lables for  columns/rows. \n",
    "4. These pandas objects are broadly classified as follows:\n",
    "   * Pandas series object\n",
    "   * Pandas dataframe object\n",
    "   \n",
    "\n"
   ]
  },
  {
   "cell_type": "markdown",
   "metadata": {
    "id": "JYgmwi5BZio1"
   },
   "source": [
    "## <font color = 'dodgerblue'> **Creating Pandas series object** </font>\n",
    "\n",
    "1. **Pandas Series** is a one dimensional array of indexed data.\n",
    "2. A series is a wrap of sequence of values and a sequence of indices for the given values.\n",
    "2. It can be created from list, dictionary etc.\n",
    "3. **Syntax** :\n",
    "   \n",
    "\n",
    "```\n",
    "      pandas.Series(data, index)\n",
    "```\n",
    "where, it can take data as a list, dictionary, tuple etc and index can be defined explicitly.\n",
    "4. To access the values of the series. We can use following code :\n",
    " \n",
    "  **Syntax** :\n",
    "```\n",
    "    d = pandas.Series(data, index)\n",
    "    d.values\n",
    "```\n",
    "values method gives the values of the series without the index.\n",
    "5. Similarly, we can access the index of the series without accessing the values as follows :\n",
    "\n",
    " **Syntax**:\n",
    "\n",
    "```\n",
    "    d.index\n",
    "```\n",
    "\n",
    "\n",
    "\n",
    "\n"
   ]
  },
  {
   "cell_type": "markdown",
   "metadata": {
    "id": "6yRvCbttKDQU"
   },
   "source": [
    "###  <font color = 'dodgerblue'> **Creating series from list** </font>"
   ]
  },
  {
   "cell_type": "code",
   "execution_count": 5,
   "metadata": {
    "ExecuteTime": {
     "end_time": "2022-09-04T16:22:38.100361Z",
     "start_time": "2022-09-04T16:22:38.091385Z"
    },
    "colab": {
     "base_uri": "https://localhost:8080/"
    },
    "executionInfo": {
     "elapsed": 109,
     "status": "ok",
     "timestamp": 1661539136137,
     "user": {
      "displayName": "Harpreet SIngh",
      "userId": "15106381096049879330"
     },
     "user_tz": 300
    },
    "id": "5wJyOUEYceEi",
    "outputId": "42eec971-33cb-4187-f1d4-3628853a317b"
   },
   "outputs": [
    {
     "name": "stdout",
     "output_type": "stream",
     "text": [
      "The new pandas series is : \n",
      " 0    12.00\n",
      "1     0.25\n",
      "2    45.00\n",
      "3    36.00\n",
      "4    78.00\n",
      "5    20.00\n",
      "dtype: float64\n"
     ]
    }
   ],
   "source": [
    "# Creating series by using list \n",
    "list = [12, 0.25, 45, 36, 78, 20]\n",
    "data1 = pd.Series(list)\n",
    "print(f\"The new pandas series is : \\n {data1}\")"
   ]
  },
  {
   "cell_type": "markdown",
   "metadata": {
    "id": "EKz9kzwpudqY"
   },
   "source": [
    "- From the above example, it looks like that series is similar to one dimensional numpy array. The key diffeernce is that we can define the index explicitly in series. \n",
    "- Each item in a Series object has something called a \"index label\" that is a unique name for it. \n",
    "- By default, it's just the item's rank in the Series (which starts at 0), but you can set the index labels yourself:"
   ]
  },
  {
   "cell_type": "markdown",
   "metadata": {
    "id": "J5NJaChtKSK1"
   },
   "source": [
    "###  <font color = 'dodgerblue'> **Specifying index** </font>"
   ]
  },
  {
   "cell_type": "code",
   "execution_count": 6,
   "metadata": {
    "ExecuteTime": {
     "end_time": "2022-09-04T16:22:42.589625Z",
     "start_time": "2022-09-04T16:22:42.575662Z"
    },
    "colab": {
     "base_uri": "https://localhost:8080/"
    },
    "executionInfo": {
     "elapsed": 137,
     "status": "ok",
     "timestamp": 1661539171500,
     "user": {
      "displayName": "Harpreet SIngh",
      "userId": "15106381096049879330"
     },
     "user_tz": 300
    },
    "id": "J5e8uVVr0kbi",
    "outputId": "1873946e-7f17-410c-8116-f13da62e00d6"
   },
   "outputs": [
    {
     "name": "stdout",
     "output_type": "stream",
     "text": [
      "The new pandas series is : \n",
      "a    12.00\n",
      "b     0.25\n",
      "c    45.00\n",
      "d    36.00\n",
      "e    78.00\n",
      "f    20.00\n",
      "dtype: float64\n"
     ]
    }
   ],
   "source": [
    "data1 = pd.Series([12, 0.25, 45, 36, 78, 20],\n",
    "                  index = ['a', 'b', 'c', 'd', 'e', 'f'])\n",
    "print(f\"The new pandas series is : \\n{data1}\")"
   ]
  },
  {
   "cell_type": "markdown",
   "metadata": {
    "id": "bVjTn0Nh8Pyg"
   },
   "source": [
    "We can think of series as specialized dictionaries. We can infact construct series from dictionaries."
   ]
  },
  {
   "cell_type": "markdown",
   "metadata": {
    "id": "mEil63PMKZMR"
   },
   "source": [
    "###  <font color = 'dodgerblue'> **Creating series from dictionary** </font>"
   ]
  },
  {
   "cell_type": "code",
   "execution_count": 7,
   "metadata": {
    "ExecuteTime": {
     "end_time": "2022-09-04T16:22:47.978770Z",
     "start_time": "2022-09-04T16:22:47.968689Z"
    },
    "colab": {
     "base_uri": "https://localhost:8080/"
    },
    "executionInfo": {
     "elapsed": 144,
     "status": "ok",
     "timestamp": 1661539186903,
     "user": {
      "displayName": "Harpreet SIngh",
      "userId": "15106381096049879330"
     },
     "user_tz": 300
    },
    "id": "F1KlIjqHcxNE",
    "outputId": "21ef26d4-edb4-4c6f-bd8d-d7217cded327"
   },
   "outputs": [
    {
     "name": "stdout",
     "output_type": "stream",
     "text": [
      "The series using dictionary is :\n",
      "a             Pandas\n",
      "b              numpy\n",
      "c           Packages\n",
      "d    Data processing\n",
      "dtype: object\n"
     ]
    }
   ],
   "source": [
    "# first lets create a dictionary\n",
    "data2 = { 'a':'Pandas', 'b':'numpy', 'c' :'Packages', 'd':'Data processing'}\n",
    "# Lets pass this dictionary as a series\n",
    "my_dict_series = pd.Series(data2)\n",
    "print(f\"The series using dictionary is :\\n{my_dict_series}\")"
   ]
  },
  {
   "cell_type": "markdown",
   "metadata": {
    "id": "ykOD7rgmOIeq"
   },
   "source": [
    "###  <font color = 'dodgerblue'> **Series Vs. Dictionary** </font>"
   ]
  },
  {
   "cell_type": "markdown",
   "metadata": {
    "id": "AoguqnTw-MnT"
   },
   "source": [
    "However, unlike dictionaries, we can do array like operations (for example slicing on series)."
   ]
  },
  {
   "cell_type": "code",
   "execution_count": 8,
   "metadata": {
    "ExecuteTime": {
     "end_time": "2022-09-04T16:22:49.643492Z",
     "start_time": "2022-09-04T16:22:49.627520Z"
    },
    "colab": {
     "base_uri": "https://localhost:8080/",
     "height": 206
    },
    "executionInfo": {
     "elapsed": 140,
     "status": "error",
     "timestamp": 1661539201696,
     "user": {
      "displayName": "Harpreet SIngh",
      "userId": "15106381096049879330"
     },
     "user_tz": 300
    },
    "id": "24eV43rZ-V8G",
    "outputId": "c96aa4a9-bf77-4feb-b2b0-a640ff318694"
   },
   "outputs": [
    {
     "ename": "TypeError",
     "evalue": "unhashable type: 'slice'",
     "output_type": "error",
     "traceback": [
      "\u001b[1;31m---------------------------------------------------------------------------\u001b[0m",
      "\u001b[1;31mTypeError\u001b[0m                                 Traceback (most recent call last)",
      "\u001b[1;32m<ipython-input-8-74be23ed9bb6>\u001b[0m in \u001b[0;36m<module>\u001b[1;34m\u001b[0m\n\u001b[1;32m----> 1\u001b[1;33m \u001b[0mslice_dict\u001b[0m \u001b[1;33m=\u001b[0m \u001b[0mdata2\u001b[0m\u001b[1;33m[\u001b[0m\u001b[1;34m'a'\u001b[0m\u001b[1;33m:\u001b[0m\u001b[1;34m'c'\u001b[0m\u001b[1;33m]\u001b[0m\u001b[1;33m\u001b[0m\u001b[1;33m\u001b[0m\u001b[0m\n\u001b[0m\u001b[0;32m      2\u001b[0m \u001b[0mprint\u001b[0m\u001b[1;33m(\u001b[0m\u001b[1;34mf'Slice of dictionary : {slice_dict}'\u001b[0m\u001b[1;33m)\u001b[0m\u001b[1;33m\u001b[0m\u001b[1;33m\u001b[0m\u001b[0m\n",
      "\u001b[1;31mTypeError\u001b[0m: unhashable type: 'slice'"
     ]
    }
   ],
   "source": [
    "slice_dict = data2['a':'c']\n",
    "print(f'Slice of dictionary : {slice_dict}')"
   ]
  },
  {
   "cell_type": "code",
   "execution_count": 9,
   "metadata": {
    "ExecuteTime": {
     "end_time": "2022-09-04T16:22:57.454982Z",
     "start_time": "2022-09-04T16:22:57.447004Z"
    },
    "colab": {
     "base_uri": "https://localhost:8080/"
    },
    "executionInfo": {
     "elapsed": 2,
     "status": "ok",
     "timestamp": 1661539214715,
     "user": {
      "displayName": "Harpreet SIngh",
      "userId": "15106381096049879330"
     },
     "user_tz": 300
    },
    "id": "L3wuIGAQ-nVJ",
    "outputId": "79717ce3-a7ce-45f8-efce-f25b9618bd4d"
   },
   "outputs": [
    {
     "name": "stdout",
     "output_type": "stream",
     "text": [
      "Slice of dictionary :\n",
      "a      Pandas\n",
      "b       numpy\n",
      "c    Packages\n",
      "dtype: object\n"
     ]
    }
   ],
   "source": [
    "slice_series = my_dict_series['a':'c']\n",
    "print(f'Slice of dictionary :\\n{slice_series}')"
   ]
  },
  {
   "cell_type": "markdown",
   "metadata": {
    "id": "v7Ens2mDKluc"
   },
   "source": [
    "###  <font color = 'dodgerblue'> **Creating series using tuple** </font>"
   ]
  },
  {
   "cell_type": "code",
   "execution_count": 10,
   "metadata": {
    "ExecuteTime": {
     "end_time": "2022-09-04T16:23:58.371254Z",
     "start_time": "2022-09-04T16:23:58.356294Z"
    },
    "colab": {
     "base_uri": "https://localhost:8080/"
    },
    "executionInfo": {
     "elapsed": 164,
     "status": "ok",
     "timestamp": 1661539220312,
     "user": {
      "displayName": "Harpreet SIngh",
      "userId": "15106381096049879330"
     },
     "user_tz": 300
    },
    "id": "5c6ULm9IdWhJ",
    "outputId": "516eb214-35f7-401b-a91a-b71a102d1a39"
   },
   "outputs": [
    {
     "data": {
      "text/plain": [
       "0    20\n",
       "1    15\n",
       "2    23\n",
       "3    45\n",
       "dtype: int64"
      ]
     },
     "execution_count": 10,
     "metadata": {},
     "output_type": "execute_result"
    }
   ],
   "source": [
    "tup = (20, 15, 23, 45)\n",
    "pd.Series(tup)"
   ]
  },
  {
   "cell_type": "markdown",
   "metadata": {
    "id": "Id6Qet2eIcOY"
   },
   "source": [
    "##  <font color = 'dodgerblue'>  **Creating Pandas Dataframe object**\n",
    "\n",
    "We can think of Dataframe as two dimensional array with both flexible row indices and flexible column names.\n",
    "\n",
    " **Syntax** :\n",
    "\n",
    "\n",
    "```\n",
    "    pandas.DataFrame(data, index, columns, dtype)\n",
    "```\n",
    "where, \n",
    "\n",
    "  **data** = ndarray, Iterable like list, dict, or DataFrame.\n",
    "\n",
    " **Index** =\n",
    "      Index to use for resulting dataframe. By default, it's just the item's rank (strating from 0)  if no index data is provided. We can think of this as row labels.\n",
    "\n",
    "  **columns** = They are used to mention the columns labels. By default, it's just the item's rank (strating from 0)  if no labels are provided.\n",
    "\n"
   ]
  },
  {
   "cell_type": "markdown",
   "metadata": {
    "id": "L6KsXz1CYnW1"
   },
   "source": [
    "Pandas dataframe object can be created in various ways as follows :\n",
    "\n",
    "<img src=\"https://drive.google.com/uc?export=view&id=1dsXSMVZ2PoiNo0Kr8KK8eOkeBTZQNby-\" width=\"600\"/>\n",
    "\n"
   ]
  },
  {
   "cell_type": "markdown",
   "metadata": {
    "id": "uOiaHOxObu28"
   },
   "source": [
    "####  <font color = 'dodgerblue'>  **Creating dataframe using a single series object**\n",
    "\n",
    "* A dataframe is a collection of series obejcts.\n",
    "* A single column dataframe can be created using  a single series.\n"
   ]
  },
  {
   "cell_type": "code",
   "execution_count": 13,
   "metadata": {
    "ExecuteTime": {
     "end_time": "2022-09-04T16:24:58.837384Z",
     "start_time": "2022-09-04T16:24:58.828418Z"
    },
    "colab": {
     "base_uri": "https://localhost:8080/"
    },
    "executionInfo": {
     "elapsed": 107,
     "status": "ok",
     "timestamp": 1661539282343,
     "user": {
      "displayName": "Harpreet SIngh",
      "userId": "15106381096049879330"
     },
     "user_tz": 300
    },
    "id": "tpLU7MBmcJvM",
    "outputId": "d0fcd03e-d584-4044-e88b-463b77bf9d4a"
   },
   "outputs": [
    {
     "name": "stdout",
     "output_type": "stream",
     "text": [
      "The dataframe using a single series object is \n",
      "    countries\n",
      "0      India\n",
      "1      China\n",
      "2    Austria\n",
      "3    America\n",
      "4  Australia\n"
     ]
    }
   ],
   "source": [
    "# Craeting dataframe using a single series object\n",
    "countries = pd.Series(['India', 'China', 'Austria', 'America', 'Australia'])\n",
    "# creating a dataframe by using column labelling\n",
    "dt = pd.DataFrame(data = countries, columns = ['countries'])\n",
    "print(f\"The dataframe using a single series object is \\n {dt}\")"
   ]
  },
  {
   "cell_type": "markdown",
   "metadata": {
    "id": "yUhQXYi2dxHV"
   },
   "source": [
    "####  <font color = 'dodgerblue'>  **Creating dataframe using numpy array**\n",
    "\n",
    "* Let's take a two dimensional array of data.\n",
    "* We can create a dataframe by specifying the columns and index names.\n",
    "* If we do not specify the columns and index names then it will take the integer index for them.\n"
   ]
  },
  {
   "cell_type": "code",
   "execution_count": 14,
   "metadata": {
    "ExecuteTime": {
     "end_time": "2022-09-04T16:25:01.907342Z",
     "start_time": "2022-09-04T16:25:01.894288Z"
    },
    "colab": {
     "base_uri": "https://localhost:8080/"
    },
    "executionInfo": {
     "elapsed": 121,
     "status": "ok",
     "timestamp": 1661539302476,
     "user": {
      "displayName": "Harpreet SIngh",
      "userId": "15106381096049879330"
     },
     "user_tz": 300
    },
    "id": "lcSvndUseWY1",
    "outputId": "d369debe-75cb-44f6-addb-7ba9198810df"
   },
   "outputs": [
    {
     "name": "stdout",
     "output_type": "stream",
     "text": [
      "The dataframe created by using arrays is : \n",
      "        var1      var2      var3      var4      var5\n",
      "a  0.280407  0.992556  0.588967  0.288681  0.147913\n",
      "b  0.941788  0.822421  0.076751  0.279819  0.822899\n",
      "c  0.210664  0.009351  0.252567  0.840051  0.951342\n",
      "d  0.826243  0.542393  0.071074  0.201902  0.763102\n"
     ]
    }
   ],
   "source": [
    "# Creating dataframe using numpy array\n",
    "# Lets import the numpy for creating array\n",
    "import numpy as np\n",
    "# Creating arrays by using numpy\n",
    "# rows = 4 ,columns = 5\n",
    "my_arr = np.random.rand(4, 5)\n",
    "# lets create the dataframe using array, column labels, and index for the given array\n",
    "dt1 = pd.DataFrame(data = my_arr , columns = ['var1', 'var2', 'var3', 'var4', 'var5'], index = ['a', 'b', 'c', 'd'])\n",
    "print(f\"The dataframe created by using arrays is : \\n {dt1}\")\n"
   ]
  },
  {
   "cell_type": "code",
   "execution_count": 15,
   "metadata": {
    "ExecuteTime": {
     "end_time": "2022-09-04T16:25:03.568308Z",
     "start_time": "2022-09-04T16:25:03.557336Z"
    },
    "colab": {
     "base_uri": "https://localhost:8080/"
    },
    "executionInfo": {
     "elapsed": 128,
     "status": "ok",
     "timestamp": 1661539317412,
     "user": {
      "displayName": "Harpreet SIngh",
      "userId": "15106381096049879330"
     },
     "user_tz": 300
    },
    "id": "SuP493KAdv68",
    "outputId": "50ed23a2-605c-41f5-e924-cfbd70a604bd"
   },
   "outputs": [
    {
     "name": "stdout",
     "output_type": "stream",
     "text": [
      "The dataframe created by using arrays is : \n",
      "           0         1         2         3         4\n",
      "0  0.280407  0.992556  0.588967  0.288681  0.147913\n",
      "1  0.941788  0.822421  0.076751  0.279819  0.822899\n",
      "2  0.210664  0.009351  0.252567  0.840051  0.951342\n",
      "3  0.826243  0.542393  0.071074  0.201902  0.763102\n"
     ]
    }
   ],
   "source": [
    "# As we can see below, If we do not specify the columns and index names \n",
    "# then it will take the integer index for them.\n",
    "dt1 = pd.DataFrame(data = my_arr)\n",
    "print(f\"The dataframe created by using arrays is : \\n {dt1}\")"
   ]
  },
  {
   "cell_type": "markdown",
   "metadata": {
    "id": "RUWDhk4FONOT"
   },
   "source": [
    "####  <font color = 'dodgerblue'> **Creating a dataframe using list**\n",
    "\n",
    "A dataframe can be created using a single list or lists.\n",
    "\n",
    "  **Syntax**:\n",
    "\n",
    "\n",
    "```\n",
    "  pandas.DataFrame()\n",
    "```\n",
    "We can pass the list or lists .\n",
    "\n",
    "\n"
   ]
  },
  {
   "cell_type": "code",
   "execution_count": 16,
   "metadata": {
    "ExecuteTime": {
     "end_time": "2022-09-04T16:25:09.363310Z",
     "start_time": "2022-09-04T16:25:09.352340Z"
    },
    "colab": {
     "base_uri": "https://localhost:8080/"
    },
    "executionInfo": {
     "elapsed": 130,
     "status": "ok",
     "timestamp": 1661539356653,
     "user": {
      "displayName": "Harpreet SIngh",
      "userId": "15106381096049879330"
     },
     "user_tz": 300
    },
    "id": "23V_-5JVTSLg",
    "outputId": "c5270cc3-2d85-41f4-d0da-9ec36c0dbdee"
   },
   "outputs": [
    {
     "name": "stdout",
     "output_type": "stream",
     "text": [
      "The dataframe using list without specifying column names\n",
      "     0\n",
      "0  14\n",
      "1  25\n",
      "2  36\n",
      "3  89\n",
      "4  12\n",
      "5  45\n",
      "\n",
      "The new dataframe using the column name as Marks is: \n",
      "   Marks\n",
      "0     14\n",
      "1     25\n",
      "2     36\n",
      "3     89\n",
      "4     12\n",
      "5     45\n"
     ]
    }
   ],
   "source": [
    "# Creating dataframe using lists\n",
    "\n",
    "my_list = [14, 25, 36, 89, 12, 45]\n",
    "dt = pd.DataFrame(my_list)\n",
    "\n",
    "# We can observe that the column name is considered as 0\n",
    "print(f\"The dataframe using list without specifying column names\\n {dt}\")\n",
    "\n",
    "# Giving column label \n",
    "dt1 = pd.DataFrame(data = my_list, columns =['Marks'])\n",
    "print(f\"\\nThe new dataframe using the column name as Marks is: \\n{dt1}\")\n"
   ]
  },
  {
   "cell_type": "markdown",
   "metadata": {
    "id": "3zbgOWlzU4NR"
   },
   "source": [
    "####  <font color = 'dodgerblue'> **Creating DataFrame from dict of ndarray/lists:**\n",
    "While creating dataframe from the dictionary of ndarray or lists we need to make sure that :\n",
    "* All arrays must be of same length.\n",
    "* If index is passed then length of the index must be equal to the length of the array.\n",
    "* If no index is passed then by default it takes range of the length of the array.\n",
    "* The key values of the dictionary will be treated as column labels"
   ]
  },
  {
   "cell_type": "code",
   "execution_count": 17,
   "metadata": {
    "ExecuteTime": {
     "end_time": "2022-09-04T16:25:11.152986Z",
     "start_time": "2022-09-04T16:25:11.142039Z"
    },
    "colab": {
     "base_uri": "https://localhost:8080/"
    },
    "executionInfo": {
     "elapsed": 110,
     "status": "ok",
     "timestamp": 1661539364618,
     "user": {
      "displayName": "Harpreet SIngh",
      "userId": "15106381096049879330"
     },
     "user_tz": 300
    },
    "id": "dabNkkHxVAUy",
    "outputId": "6192aca5-04b9-480b-deb8-25f8c8cb77f2"
   },
   "outputs": [
    {
     "name": "stdout",
     "output_type": "stream",
     "text": [
      "the new dataframe is \n",
      "    col1  col2\n",
      "0    10   anu\n",
      "1    45  alex\n",
      "2    26  apex\n",
      "3    36    ho\n",
      "4    78    hi\n",
      "5    46   bye\n"
     ]
    }
   ],
   "source": [
    "# Creating dataframe from dict of ndarrays/Lists\n",
    "# initializing the data of list\n",
    "my_arr = {'col1' :[10, 45, 26, 36, 78, 46],\n",
    "          'col2' :['anu', 'alex', 'apex', 'ho', 'hi', 'bye']\n",
    "          }\n",
    "dt_frame = pd.DataFrame(data = my_arr)\n",
    "print(f\"the new dataframe is \\n {dt_frame}\")"
   ]
  },
  {
   "cell_type": "markdown",
   "metadata": {
    "id": "MOGf74-Jfqgl"
   },
   "source": [
    "####  <font color = 'dodgerblue'> **Creating a dataframe using a list of dictionary**\n",
    "* Previously, we have covered the dictionaries using list. \n",
    "*  Now, let us consider the dictionaries inside the list or we can say list consisting of dictionaries.\n",
    "\n",
    "**Example** :\n",
    "\n",
    "my_list = [{1 : 'hi', 2 : 'c'}]\n",
    "\n",
    "Here, my_list consist of a dictionary\n"
   ]
  },
  {
   "cell_type": "code",
   "execution_count": 18,
   "metadata": {
    "ExecuteTime": {
     "end_time": "2022-09-04T16:25:13.864390Z",
     "start_time": "2022-09-04T16:25:13.851425Z"
    },
    "colab": {
     "base_uri": "https://localhost:8080/"
    },
    "executionInfo": {
     "elapsed": 132,
     "status": "ok",
     "timestamp": 1661539392587,
     "user": {
      "displayName": "Harpreet SIngh",
      "userId": "15106381096049879330"
     },
     "user_tz": 300
    },
    "id": "UmCabxYegTsi",
    "outputId": "85a3485d-8b03-4c1a-c41c-c4301349b887"
   },
   "outputs": [
    {
     "name": "stdout",
     "output_type": "stream",
     "text": [
      "The dataframe using a list of dictionary is :\n",
      "                   1       2      3             4\n",
      "Languages :  pandas   numpy  scipy  data science\n",
      "Companies :  Amazon  Google    IBM    TalkValley\n"
     ]
    }
   ],
   "source": [
    "# Creating a dataframe using a list of dictionary\n",
    "# First lets create a list consisting of dictionary\n",
    "my_list = [{1:'pandas', 2:'numpy', 3:'scipy', 4:'data science'},\n",
    "          {1:'Amazon', 2:'Google', 3:'IBM', 4:'TalkValley'}]\n",
    "# lets create a dataframe using list\n",
    "# The columns are labelled using keys\n",
    "# We can specify index for row labelling\n",
    "my_dt = pd.DataFrame(data = my_list, index = ['Languages :','Companies :'])\n",
    "print(f'The dataframe using a list of dictionary is :\\n {my_dt}')\n"
   ]
  },
  {
   "cell_type": "markdown",
   "metadata": {
    "id": "IR8M_l7wi88j"
   },
   "source": [
    "#  <font color = 'dodgerblue'> **Data indexing and selection**\n",
    "* In numpy we used slicing, indexing etc. in order to get sub-arrays.\n",
    "*  We wanted to access these sub-arrays to make easy modifications or operations.\n",
    "* Similarly, we can access and modify values in pandas series and dataframe objects.\n"
   ]
  },
  {
   "cell_type": "markdown",
   "metadata": {
    "id": "bUQi7ST2kyvy"
   },
   "source": [
    "##  <font color = 'dodgerblue'> **Data selection in series**\n",
    "We can think of a ``Series`` object as a standard Python dictionary or a one-dimensional NumPy array and we use similar ideas to select subset in series as well.\n"
   ]
  },
  {
   "cell_type": "markdown",
   "metadata": {
    "id": "qwoK25Jglm10"
   },
   "source": [
    "###  <font color = 'dodgerblue'> **Series as dictionary**\n",
    "* Like a dictionary, even the series object provides a mapping from a collection of keys to a collection of values.\n",
    "* We can also use series just like dictionary to examine the keys/indices and values.\n",
    "* We can also modify the values of the series just like a dictionary.\n",
    "Following examples will give a clear description about the topic.\n"
   ]
  },
  {
   "cell_type": "code",
   "execution_count": 42,
   "metadata": {
    "ExecuteTime": {
     "end_time": "2022-09-04T16:31:22.431474Z",
     "start_time": "2022-09-04T16:31:22.424493Z"
    },
    "colab": {
     "base_uri": "https://localhost:8080/"
    },
    "executionInfo": {
     "elapsed": 144,
     "status": "ok",
     "timestamp": 1661539455826,
     "user": {
      "displayName": "Harpreet SIngh",
      "userId": "15106381096049879330"
     },
     "user_tz": 300
    },
    "id": "39zXLQqJnYIw",
    "outputId": "d1289061-8b45-44df-f6c0-b59a5a2f2685"
   },
   "outputs": [
    {
     "name": "stdout",
     "output_type": "stream",
     "text": [
      "The dataframe is :\n",
      " first      0.25\n",
      "second    10.00\n",
      "third     45.00\n",
      "fourth    26.00\n",
      "fifth     78.00\n",
      "sixth     36.00\n",
      "dtype: float64\n"
     ]
    }
   ],
   "source": [
    "import pandas as pd\n",
    "# Lets create a series \n",
    "my_ser = pd.Series([0.25, 10, 45, 26, 78, 36], index = ['first', 'second','third','fourth','fifth','sixth'])\n",
    "print(f'The dataframe is :\\n {my_ser}')"
   ]
  },
  {
   "cell_type": "code",
   "execution_count": 43,
   "metadata": {
    "ExecuteTime": {
     "end_time": "2022-09-04T16:31:26.927552Z",
     "start_time": "2022-09-04T16:31:26.920571Z"
    },
    "colab": {
     "base_uri": "https://localhost:8080/"
    },
    "executionInfo": {
     "elapsed": 157,
     "status": "ok",
     "timestamp": 1661539481663,
     "user": {
      "displayName": "Harpreet SIngh",
      "userId": "15106381096049879330"
     },
     "user_tz": 300
    },
    "id": "dAvv2CNeRcQ_",
    "outputId": "c4f329ba-d3e5-4f53-8a01-7c49ef2fc3cd"
   },
   "outputs": [
    {
     "data": {
      "text/plain": [
       "0.25"
      ]
     },
     "execution_count": 43,
     "metadata": {},
     "output_type": "execute_result"
    }
   ],
   "source": [
    "# We can access the values just by using index values\n",
    "my_ser['first']"
   ]
  },
  {
   "cell_type": "code",
   "execution_count": 44,
   "metadata": {
    "ExecuteTime": {
     "end_time": "2022-09-04T16:31:32.380820Z",
     "start_time": "2022-09-04T16:31:32.364863Z"
    },
    "colab": {
     "base_uri": "https://localhost:8080/"
    },
    "executionInfo": {
     "elapsed": 118,
     "status": "ok",
     "timestamp": 1661539485052,
     "user": {
      "displayName": "Harpreet SIngh",
      "userId": "15106381096049879330"
     },
     "user_tz": 300
    },
    "id": "rc0qaEJsG9cC",
    "outputId": "7037c20d-3e52-449d-ef1e-b4dda52a44ac"
   },
   "outputs": [
    {
     "name": "stdout",
     "output_type": "stream",
     "text": [
      "The index are:\n",
      " Index(['first', 'second', 'third', 'fourth', 'fifth', 'sixth'], dtype='object')\n"
     ]
    }
   ],
   "source": [
    "# We can access the index by using key() method like dictionary\n",
    "print(f\"The index are:\\n {my_ser.keys()}\")"
   ]
  },
  {
   "cell_type": "code",
   "execution_count": 45,
   "metadata": {
    "ExecuteTime": {
     "end_time": "2022-09-04T16:31:40.942602Z",
     "start_time": "2022-09-04T16:31:40.924612Z"
    },
    "colab": {
     "base_uri": "https://localhost:8080/"
    },
    "executionInfo": {
     "elapsed": 156,
     "status": "ok",
     "timestamp": 1661539498139,
     "user": {
      "displayName": "Harpreet SIngh",
      "userId": "15106381096049879330"
     },
     "user_tz": 300
    },
    "id": "yowRiOLmHBG_",
    "outputId": "4ffffe25-a489-44e4-a5b1-fc228c90785b"
   },
   "outputs": [
    {
     "ename": "TypeError",
     "evalue": "'list' object is not callable",
     "output_type": "error",
     "traceback": [
      "\u001b[1;31m---------------------------------------------------------------------------\u001b[0m",
      "\u001b[1;31mTypeError\u001b[0m                                 Traceback (most recent call last)",
      "\u001b[1;32m<ipython-input-45-16c45a1ba077>\u001b[0m in \u001b[0;36m<module>\u001b[1;34m\u001b[0m\n\u001b[0;32m      1\u001b[0m \u001b[1;31m# We can also access the values with their keys by using items() method and store them in list\u001b[0m\u001b[1;33m\u001b[0m\u001b[1;33m\u001b[0m\u001b[1;33m\u001b[0m\u001b[0m\n\u001b[1;32m----> 2\u001b[1;33m \u001b[0mprint\u001b[0m\u001b[1;33m(\u001b[0m\u001b[1;34mf\"\\nthe values are :\\n {list(my_ser.items())}\"\u001b[0m\u001b[1;33m)\u001b[0m\u001b[1;33m\u001b[0m\u001b[1;33m\u001b[0m\u001b[0m\n\u001b[0m",
      "\u001b[1;31mTypeError\u001b[0m: 'list' object is not callable"
     ]
    }
   ],
   "source": [
    "# We can also access the values with their keys by using items() method and store them in list\n",
    "print(f\"\\nthe values are :\\n {list(my_ser.items())}\")"
   ]
  },
  {
   "cell_type": "code",
   "execution_count": 29,
   "metadata": {
    "ExecuteTime": {
     "end_time": "2022-09-04T16:28:28.628288Z",
     "start_time": "2022-09-04T16:28:28.613194Z"
    },
    "colab": {
     "base_uri": "https://localhost:8080/"
    },
    "executionInfo": {
     "elapsed": 151,
     "status": "ok",
     "timestamp": 1661539503798,
     "user": {
      "displayName": "Harpreet SIngh",
      "userId": "15106381096049879330"
     },
     "user_tz": 300
    },
    "id": "QwVI9q7kHDtA",
    "outputId": "6550cd82-6031-43d9-adb0-3a49ef0e82d0"
   },
   "outputs": [
    {
     "name": "stdout",
     "output_type": "stream",
     "text": [
      "\n",
      "'third' is present in series: True\n"
     ]
    }
   ],
   "source": [
    "# We can check whether a index is present in the series as follows\n",
    "print(f\"\\n'third' is present in series: {'third' in my_ser}\")"
   ]
  },
  {
   "cell_type": "markdown",
   "metadata": {
    "id": "-m2af_sEp0l2"
   },
   "source": [
    "###  <font color = 'dodgerblue'> **Series as one- dimensional array**\n",
    "A Series also lets you select items in an array-like way using the same basic methods as NumPy arrays: \n",
    "\n",
    " * slicing\n",
    " *  masking \n",
    " * fancy indexing \n",
    "\n",
    "We provide the examples below:\n"
   ]
  },
  {
   "cell_type": "markdown",
   "metadata": {
    "id": "5ZFhbDHAlez3"
   },
   "source": [
    "#### **Slicing**\n",
    "\n",
    "**Syntax** :\n",
    "\n",
    "\n",
    "\n",
    "```\n",
    "    my_series = pandas.Series()\n",
    "    sub_series = my_series[start: stop: step]\n",
    "```\n",
    "\n",
    "\n"
   ]
  },
  {
   "cell_type": "code",
   "execution_count": 46,
   "metadata": {
    "ExecuteTime": {
     "end_time": "2022-09-04T16:31:55.688418Z",
     "start_time": "2022-09-04T16:31:55.669494Z"
    },
    "colab": {
     "base_uri": "https://localhost:8080/"
    },
    "executionInfo": {
     "elapsed": 119,
     "status": "ok",
     "timestamp": 1661539516039,
     "user": {
      "displayName": "Harpreet SIngh",
      "userId": "15106381096049879330"
     },
     "user_tz": 300
    },
    "id": "5Qn8rs4NtmTh",
    "outputId": "fb8a0c7d-a73e-4d0e-fe17-f87d14d34b87"
   },
   "outputs": [
    {
     "data": {
      "text/plain": [
       "a    12\n",
       "b    78\n",
       "c    88\n",
       "d    92\n",
       "e    25\n",
       "f    14\n",
       "g    75\n",
       "dtype: int64"
      ]
     },
     "execution_count": 46,
     "metadata": {},
     "output_type": "execute_result"
    }
   ],
   "source": [
    "# CCreate a series\n",
    "my_data = pd.Series([12, 78, 88, 92, 25, 14, 75], index = ['a', 'b', 'c', 'd', 'e', 'f', 'g'])\n",
    "my_data"
   ]
  },
  {
   "cell_type": "markdown",
   "metadata": {
    "id": "so9ErDS0gHz7"
   },
   "source": [
    "#####  <font color = 'dodgerblue'>  **Using slicing by explicit index** "
   ]
  },
  {
   "cell_type": "code",
   "execution_count": 47,
   "metadata": {
    "ExecuteTime": {
     "end_time": "2022-09-04T16:31:56.750441Z",
     "start_time": "2022-09-04T16:31:56.742463Z"
    },
    "colab": {
     "base_uri": "https://localhost:8080/"
    },
    "executionInfo": {
     "elapsed": 129,
     "status": "ok",
     "timestamp": 1661539520928,
     "user": {
      "displayName": "Harpreet SIngh",
      "userId": "15106381096049879330"
     },
     "user_tz": 300
    },
    "id": "5PQzaJ5ASO3T",
    "outputId": "5a03fd5b-e76a-4532-abe4-61964f13c08f"
   },
   "outputs": [
    {
     "data": {
      "text/plain": [
       "a    12\n",
       "b    78\n",
       "c    88\n",
       "d    92\n",
       "dtype: int64"
      ]
     },
     "execution_count": 47,
     "metadata": {},
     "output_type": "execute_result"
    }
   ],
   "source": [
    "# slicing by explicit index\n",
    "# It will give the data from a to d index\n",
    "# In explicit/level-based indexing (where we specify the index rather than the position like 0, 1), \n",
    "# we get the final index included in the output\n",
    "# We will get all the values indexed from a to d.\n",
    "my_data['a' : 'd']"
   ]
  },
  {
   "cell_type": "markdown",
   "metadata": {
    "id": "KmG6nYC2gRbX"
   },
   "source": [
    "#####  <font color = 'dodgerblue'>  **Using slicing by implicit integer index**"
   ]
  },
  {
   "cell_type": "code",
   "execution_count": 48,
   "metadata": {
    "ExecuteTime": {
     "end_time": "2022-09-04T16:31:58.103313Z",
     "start_time": "2022-09-04T16:31:58.089350Z"
    },
    "colab": {
     "base_uri": "https://localhost:8080/"
    },
    "executionInfo": {
     "elapsed": 93,
     "status": "ok",
     "timestamp": 1661539527187,
     "user": {
      "displayName": "Harpreet SIngh",
      "userId": "15106381096049879330"
     },
     "user_tz": 300
    },
    "id": "9GWUjXfwuXUB",
    "outputId": "db28f6ac-ed57-4ad5-e2d5-dc89373b532b"
   },
   "outputs": [
    {
     "data": {
      "text/plain": [
       "a    12\n",
       "b    78\n",
       "c    88\n",
       "dtype: int64"
      ]
     },
     "execution_count": 48,
     "metadata": {},
     "output_type": "execute_result"
    }
   ],
   "source": [
    "# In implicit/integer-based indexing the final index is excluded\n",
    "# In the example below,  we will get the values indexed from 0 to 2 and the value at index 3 will not be considered\n",
    "my_data[0 : 3]"
   ]
  },
  {
   "cell_type": "markdown",
   "metadata": {
    "id": "fTIjnSydePsN"
   },
   "source": [
    "####  <font color = 'dodgerblue'> **Masking**\n",
    "\n",
    "* Masking allows us to work with the boolean lists.\n",
    "* When applied to the original data it will return the data corresponding to index for which the vvalue the list is True.\n"
   ]
  },
  {
   "cell_type": "code",
   "execution_count": 49,
   "metadata": {
    "ExecuteTime": {
     "end_time": "2022-09-04T16:31:59.132695Z",
     "start_time": "2022-09-04T16:31:59.122692Z"
    },
    "colab": {
     "base_uri": "https://localhost:8080/"
    },
    "executionInfo": {
     "elapsed": 131,
     "status": "ok",
     "timestamp": 1661539555374,
     "user": {
      "displayName": "Harpreet SIngh",
      "userId": "15106381096049879330"
     },
     "user_tz": 300
    },
    "id": "k9EFR4iS4wYb",
    "outputId": "78729994-7251-4113-b747-d10dd36aea47"
   },
   "outputs": [
    {
     "name": "stdout",
     "output_type": "stream",
     "text": [
      "My series is \n",
      " 0    10\n",
      "1    20\n",
      "2    30\n",
      "3    40\n",
      "4    50\n",
      "5    60\n",
      "6    70\n",
      "7    80\n",
      "dtype: int64\n"
     ]
    }
   ],
   "source": [
    "#Lets creat a series of data\n",
    "my_ser = pd.Series([10, 20, 30, 40, 50, 60, 70, 80])\n",
    "print(f\"My series is \\n {my_ser}\")"
   ]
  },
  {
   "cell_type": "code",
   "execution_count": 50,
   "metadata": {
    "ExecuteTime": {
     "end_time": "2022-09-04T16:32:00.147314Z",
     "start_time": "2022-09-04T16:32:00.136343Z"
    },
    "colab": {
     "base_uri": "https://localhost:8080/"
    },
    "executionInfo": {
     "elapsed": 111,
     "status": "ok",
     "timestamp": 1661539564377,
     "user": {
      "displayName": "Harpreet SIngh",
      "userId": "15106381096049879330"
     },
     "user_tz": 300
    },
    "id": "w2z04CtY4rvA",
    "outputId": "654034d8-22dc-4450-a928-7c7d2c1bd6aa"
   },
   "outputs": [
    {
     "name": "stdout",
     "output_type": "stream",
     "text": [
      "the total sum is 70\n"
     ]
    }
   ],
   "source": [
    "# Sum of elements that meet the condition : 20 > value > 50\n",
    "# Using for loop to access the data\n",
    "total = 0\n",
    "for n in my_ser:\n",
    "  #Lets use a condition that n should be between 20 and 50\n",
    "    if (n>20) and (n<50):\n",
    "        total += n\n",
    "print(f\"the total sum is {total}\")"
   ]
  },
  {
   "cell_type": "code",
   "execution_count": 51,
   "metadata": {
    "ExecuteTime": {
     "end_time": "2022-09-04T16:32:00.318004Z",
     "start_time": "2022-09-04T16:32:00.311011Z"
    },
    "colab": {
     "base_uri": "https://localhost:8080/"
    },
    "executionInfo": {
     "elapsed": 103,
     "status": "ok",
     "timestamp": 1661539568017,
     "user": {
      "displayName": "Harpreet SIngh",
      "userId": "15106381096049879330"
     },
     "user_tz": 300
    },
    "id": "q39fs0Ot6i9y",
    "outputId": "b3bdfc63-d716-4195-b188-eb2365c57a3f"
   },
   "outputs": [
    {
     "data": {
      "text/plain": [
       "70"
      ]
     },
     "execution_count": 51,
     "metadata": {},
     "output_type": "execute_result"
    }
   ],
   "source": [
    "# Let's do sum using list comprehension for the same data\n",
    "sum([n for n in my_ser if (n>20) and (n<50)])"
   ]
  },
  {
   "cell_type": "code",
   "execution_count": 52,
   "metadata": {
    "ExecuteTime": {
     "end_time": "2022-09-04T16:32:01.089324Z",
     "start_time": "2022-09-04T16:32:01.055415Z"
    },
    "colab": {
     "base_uri": "https://localhost:8080/"
    },
    "executionInfo": {
     "elapsed": 155,
     "status": "ok",
     "timestamp": 1661539571151,
     "user": {
      "displayName": "Harpreet SIngh",
      "userId": "15106381096049879330"
     },
     "user_tz": 300
    },
    "id": "-djxUQr87QJw",
    "outputId": "731fd889-e1cf-4d15-f03b-ca3aa4effb2b"
   },
   "outputs": [
    {
     "name": "stdout",
     "output_type": "stream",
     "text": [
      "If the condition is True, then mask returns True. Otherwise it returns False \n",
      " 0    False\n",
      "1    False\n",
      "2     True\n",
      "3     True\n",
      "4    False\n",
      "5    False\n",
      "6    False\n",
      "7    False\n",
      "dtype: bool\n"
     ]
    }
   ],
   "source": [
    "# But what if there is more data \n",
    "# it will take time for the for loop or list comprehension\n",
    "# Masking will make it easier for data selection or operations\n",
    "\n",
    "my_mask = ((my_ser>20) & (my_ser<50))\n",
    "print(f\"If the condition is True, then mask returns True. Otherwise it returns False \\n {my_mask}\")"
   ]
  },
  {
   "cell_type": "code",
   "execution_count": 53,
   "metadata": {
    "ExecuteTime": {
     "end_time": "2022-09-04T16:32:02.019713Z",
     "start_time": "2022-09-04T16:32:02.015723Z"
    },
    "colab": {
     "base_uri": "https://localhost:8080/"
    },
    "executionInfo": {
     "elapsed": 111,
     "status": "ok",
     "timestamp": 1661539574964,
     "user": {
      "displayName": "Harpreet SIngh",
      "userId": "15106381096049879330"
     },
     "user_tz": 300
    },
    "id": "YRvpkRFzFy4R",
    "outputId": "8dfb9f46-55fe-43a1-8440-a813686bfaf3"
   },
   "outputs": [
    {
     "name": "stdout",
     "output_type": "stream",
     "text": [
      "Selected sub array using mask is :\n",
      " 2    30\n",
      "3    40\n",
      "dtype: int64\n"
     ]
    }
   ],
   "source": [
    "# selected sub array\n",
    "s = my_ser[my_mask]\n",
    "print(f'Selected sub array using mask is :\\n {s}')"
   ]
  },
  {
   "cell_type": "code",
   "execution_count": 54,
   "metadata": {
    "ExecuteTime": {
     "end_time": "2022-09-04T16:32:02.336191Z",
     "start_time": "2022-09-04T16:32:02.325221Z"
    },
    "colab": {
     "base_uri": "https://localhost:8080/"
    },
    "executionInfo": {
     "elapsed": 112,
     "status": "ok",
     "timestamp": 1661539578996,
     "user": {
      "displayName": "Harpreet SIngh",
      "userId": "15106381096049879330"
     },
     "user_tz": 300
    },
    "id": "-uhSKKxWF2in",
    "outputId": "bb730152-4bb5-4c53-fd59-f7de9d1e546a"
   },
   "outputs": [
    {
     "name": "stdout",
     "output_type": "stream",
     "text": [
      "Therefore, the sum using mask is 70\n"
     ]
    }
   ],
   "source": [
    "# Sum of the masked condition is \n",
    "s = my_ser[my_mask].sum()\n",
    "print(f\"Therefore, the sum using mask is {s}\")"
   ]
  },
  {
   "cell_type": "code",
   "execution_count": 55,
   "metadata": {
    "ExecuteTime": {
     "end_time": "2022-09-04T16:32:02.979528Z",
     "start_time": "2022-09-04T16:32:02.963599Z"
    },
    "colab": {
     "base_uri": "https://localhost:8080/"
    },
    "executionInfo": {
     "elapsed": 100,
     "status": "ok",
     "timestamp": 1661539581115,
     "user": {
      "displayName": "Harpreet SIngh",
      "userId": "15106381096049879330"
     },
     "user_tz": 300
    },
    "id": "f6657mRYusv6",
    "outputId": "f2d91b93-de66-429a-fdb2-667d1d41c9c4"
   },
   "outputs": [
    {
     "data": {
      "text/plain": [
       "70"
      ]
     },
     "execution_count": 55,
     "metadata": {},
     "output_type": "execute_result"
    }
   ],
   "source": [
    "# we can accomplish the above task in one statement\n",
    "\n",
    "my_ser[(my_ser> 20) & (my_ser<50)].sum()"
   ]
  },
  {
   "cell_type": "markdown",
   "metadata": {
    "id": "T5jxTQ_FwUcf"
   },
   "source": [
    "####  <font color = 'dodgerblue'> **Fancy indexing**\n",
    "\n",
    "* Fancy indexing allows us to pass arrays of indices in place of passing a single index.\n",
    "\n",
    "\n",
    "  **Syntax** :\n",
    "\n",
    "\n",
    "```\n",
    "    data= pandas.Series()\n",
    "    indices = [3, 2, 5]\n",
    "    data[indices]\n",
    "```\n",
    "where, indices is a list of indices required.\n",
    "data is the series in pandas which is used to extract the data.\n"
   ]
  },
  {
   "cell_type": "code",
   "execution_count": 56,
   "metadata": {
    "ExecuteTime": {
     "end_time": "2022-09-04T16:32:04.238435Z",
     "start_time": "2022-09-04T16:32:04.217491Z"
    },
    "colab": {
     "base_uri": "https://localhost:8080/"
    },
    "executionInfo": {
     "elapsed": 96,
     "status": "ok",
     "timestamp": 1661539589659,
     "user": {
      "displayName": "Harpreet SIngh",
      "userId": "15106381096049879330"
     },
     "user_tz": 300
    },
    "id": "DrdJUu66wSZi",
    "outputId": "d1629c04-8fa6-442f-8dd3-73b45f1788d9"
   },
   "outputs": [
    {
     "data": {
      "text/plain": [
       "a    12\n",
       "e    25\n",
       "d    92\n",
       "dtype: int64"
      ]
     },
     "execution_count": 56,
     "metadata": {},
     "output_type": "execute_result"
    }
   ],
   "source": [
    "# Fancy indexing\n",
    "\n",
    "# Lets prepare the list of indices \n",
    "ind = ['a', 'e' , 'd']\n",
    "\n",
    "# Lets pass this list inside the dataframe\n",
    "my_data[ind]"
   ]
  },
  {
   "cell_type": "markdown",
   "metadata": {
    "id": "HKGquyNtGDP-"
   },
   "source": [
    "###  <font color = 'dodgerblue'> **indexers: loc, iloc**"
   ]
  },
  {
   "cell_type": "markdown",
   "metadata": {
    "id": "t8r3DI-IH1ZN"
   },
   "source": [
    "If we have explicit integer index, slicing and indexing conventions can create confusion.\n",
    "Let us see an example below:\n"
   ]
  },
  {
   "cell_type": "code",
   "execution_count": 57,
   "metadata": {
    "ExecuteTime": {
     "end_time": "2022-09-04T16:32:05.581115Z",
     "start_time": "2022-09-04T16:32:05.576128Z"
    },
    "colab": {
     "base_uri": "https://localhost:8080/"
    },
    "executionInfo": {
     "elapsed": 135,
     "status": "ok",
     "timestamp": 1661539603049,
     "user": {
      "displayName": "Harpreet SIngh",
      "userId": "15106381096049879330"
     },
     "user_tz": 300
    },
    "id": "rxY7lL_lIzBr",
    "outputId": "79c63470-6d47-41f2-8177-fe107979afe0"
   },
   "outputs": [
    {
     "data": {
      "text/plain": [
       "1    python\n",
       "3     numpy\n",
       "5    pandas\n",
       "dtype: object"
      ]
     },
     "execution_count": 57,
     "metadata": {},
     "output_type": "execute_result"
    }
   ],
   "source": [
    "my_data = pd.Series(['python', 'numpy', 'pandas'], index=[1, 3, 5])\n",
    "my_data"
   ]
  },
  {
   "cell_type": "code",
   "execution_count": 58,
   "metadata": {
    "ExecuteTime": {
     "end_time": "2022-09-04T16:32:06.744509Z",
     "start_time": "2022-09-04T16:32:06.729435Z"
    },
    "colab": {
     "base_uri": "https://localhost:8080/",
     "height": 36
    },
    "executionInfo": {
     "elapsed": 111,
     "status": "ok",
     "timestamp": 1661539605812,
     "user": {
      "displayName": "Harpreet SIngh",
      "userId": "15106381096049879330"
     },
     "user_tz": 300
    },
    "id": "TrZPbSCtJBDB",
    "outputId": "d0c5808f-0ff9-46fe-86bc-cbad5fba13cf"
   },
   "outputs": [
    {
     "data": {
      "text/plain": [
       "'python'"
      ]
     },
     "execution_count": 58,
     "metadata": {},
     "output_type": "execute_result"
    }
   ],
   "source": [
    "# let us see what happens in indexing\n",
    "my_data[1]"
   ]
  },
  {
   "cell_type": "code",
   "execution_count": 59,
   "metadata": {
    "ExecuteTime": {
     "end_time": "2022-09-04T16:32:06.946363Z",
     "start_time": "2022-09-04T16:32:06.939381Z"
    },
    "colab": {
     "base_uri": "https://localhost:8080/"
    },
    "executionInfo": {
     "elapsed": 118,
     "status": "ok",
     "timestamp": 1661539607634,
     "user": {
      "displayName": "Harpreet SIngh",
      "userId": "15106381096049879330"
     },
     "user_tz": 300
    },
    "id": "kyH8MmvGJC9x",
    "outputId": "b611964d-44b5-4983-8950-3f5027409bc2"
   },
   "outputs": [
    {
     "data": {
      "text/plain": [
       "3    numpy\n",
       "dtype: object"
      ]
     },
     "execution_count": 59,
     "metadata": {},
     "output_type": "execute_result"
    }
   ],
   "source": [
    "# let us see what happens in slicing\n",
    "my_data[1:2]"
   ]
  },
  {
   "cell_type": "markdown",
   "metadata": {
    "id": "QXy6z9r1JIah"
   },
   "source": [
    "- So in indexing, it uses explicit index (labels that we passed) and in slicing it uses implicit index (default index of python where first element is indexed as zero)\n",
    "- To avoid this confusion, we can use loc() method for explicit indexing and iloc method (integer indexing) for implicit indexing"
   ]
  },
  {
   "cell_type": "code",
   "execution_count": 60,
   "metadata": {
    "ExecuteTime": {
     "end_time": "2022-09-04T16:32:08.425472Z",
     "start_time": "2022-09-04T16:32:08.416496Z"
    },
    "colab": {
     "base_uri": "https://localhost:8080/",
     "height": 36
    },
    "executionInfo": {
     "elapsed": 98,
     "status": "ok",
     "timestamp": 1661539666253,
     "user": {
      "displayName": "Harpreet SIngh",
      "userId": "15106381096049879330"
     },
     "user_tz": 300
    },
    "id": "SjG_yB0SUDvt",
    "outputId": "bb37f8f1-09ce-4a3b-8a22-5d0883ea81f1"
   },
   "outputs": [
    {
     "data": {
      "text/plain": [
       "'python'"
      ]
     },
     "execution_count": 60,
     "metadata": {},
     "output_type": "execute_result"
    }
   ],
   "source": [
    "# explicit indexing using loc - get the item where explicit index is 1\n",
    "my_data.loc[1]"
   ]
  },
  {
   "cell_type": "code",
   "execution_count": 61,
   "metadata": {
    "ExecuteTime": {
     "end_time": "2022-09-04T16:32:08.686083Z",
     "start_time": "2022-09-04T16:32:08.669094Z"
    },
    "colab": {
     "base_uri": "https://localhost:8080/",
     "height": 36
    },
    "executionInfo": {
     "elapsed": 111,
     "status": "ok",
     "timestamp": 1661539667457,
     "user": {
      "displayName": "Harpreet SIngh",
      "userId": "15106381096049879330"
     },
     "user_tz": 300
    },
    "id": "0lmf1R2LbFY3",
    "outputId": "1b307a99-8ccb-48ab-9876-642397410634"
   },
   "outputs": [
    {
     "data": {
      "text/plain": [
       "'numpy'"
      ]
     },
     "execution_count": 61,
     "metadata": {},
     "output_type": "execute_result"
    }
   ],
   "source": [
    "# implicit indexing using iloc - get the item where implicit indx is 1 (i.e second element)\n",
    "my_data.iloc[1]"
   ]
  },
  {
   "cell_type": "markdown",
   "metadata": {
    "id": "ui1gLiDRVthc"
   },
   "source": [
    "\n",
    "### <font color = 'dodgerblue'> **Summary** : </font>\n",
    "\n",
    "<font color = 'red'>\n",
    "\n",
    "1.  Use masking if you want to select data based on condition.\n",
    "2. Use loc for explicit indexing - if you know the exact row labels\n",
    "3. Use iloc (integer) for implicit indexing - useful when we do not know the exact lables but know the sequence. For example - we want first five rows, last five rows or we want to iterate over the rows in a for loop. \n",
    "\n",
    "</font>"
   ]
  },
  {
   "cell_type": "markdown",
   "metadata": {
    "id": "NQvN53izxaz1"
   },
   "source": [
    "## <font color = 'dodgerblue'> **Data selection in DataFrame** \n",
    "There are various ways to select the data from the DataFrame as follows :\n",
    " \n",
    " * Dataframe as a dictionary\n",
    " * Dataframe as two dimensional array "
   ]
  },
  {
   "cell_type": "markdown",
   "metadata": {
    "id": "T_ftLEQpDuLR"
   },
   "source": [
    "### **DataFrame as a dictionary**\n",
    "Let's consider DataFrame as a dictionary. Then we can use dictionary way to select the data as follows:"
   ]
  },
  {
   "cell_type": "code",
   "execution_count": 62,
   "metadata": {
    "ExecuteTime": {
     "end_time": "2022-09-04T16:32:11.018362Z",
     "start_time": "2022-09-04T16:32:11.012378Z"
    },
    "colab": {
     "base_uri": "https://localhost:8080/"
    },
    "executionInfo": {
     "elapsed": 162,
     "status": "ok",
     "timestamp": 1661539689068,
     "user": {
      "displayName": "Harpreet SIngh",
      "userId": "15106381096049879330"
     },
     "user_tz": 300
    },
    "id": "fTFt7KUSExbL",
    "outputId": "089b51d7-b90a-4958-d28b-e94023c95936"
   },
   "outputs": [
    {
     "name": "stdout",
     "output_type": "stream",
     "text": [
      "My dataframe is \n",
      "    my_area  countries\n",
      "1    12305      India\n",
      "2    26453    Austria\n",
      "3    45789     Africa\n",
      "4    12456    America\n",
      "5    20134  Sri lanka\n"
     ]
    }
   ],
   "source": [
    "# Let's try to make two series by using dictionary\n",
    "my_area = pd.Series({1: 12305, 2: 26453, 3: 45789, 4: 12456, 5: 20134})\n",
    "countries = pd.Series({1: 'India', 2: 'Austria', 3: 'Africa', 4: 'America', 5: 'Sri lanka'})\n",
    "\n",
    "#Let's convert these series into dataframe\n",
    "my_dt = pd.DataFrame({'my_area': my_area, 'countries' : countries})\n",
    "print(f\"My dataframe is \\n {my_dt}\")\n"
   ]
  },
  {
   "cell_type": "code",
   "execution_count": 63,
   "metadata": {
    "ExecuteTime": {
     "end_time": "2022-09-04T16:32:12.135518Z",
     "start_time": "2022-09-04T16:32:12.118563Z"
    },
    "colab": {
     "base_uri": "https://localhost:8080/"
    },
    "executionInfo": {
     "elapsed": 134,
     "status": "ok",
     "timestamp": 1661539696667,
     "user": {
      "displayName": "Harpreet SIngh",
      "userId": "15106381096049879330"
     },
     "user_tz": 300
    },
    "id": "Jm5hpihmGkxW",
    "outputId": "1c156a9d-4c03-4d77-9ec3-13363b3c5254"
   },
   "outputs": [
    {
     "data": {
      "text/plain": [
       "1    12305\n",
       "2    26453\n",
       "3    45789\n",
       "4    12456\n",
       "5    20134\n",
       "Name: my_area, dtype: int64"
      ]
     },
     "execution_count": 63,
     "metadata": {},
     "output_type": "execute_result"
    }
   ],
   "source": [
    "# We can acess the data by using dictionary-style indexing of the column name\n",
    "my_dt['my_area']"
   ]
  },
  {
   "cell_type": "code",
   "execution_count": 64,
   "metadata": {
    "ExecuteTime": {
     "end_time": "2022-09-04T16:32:12.355396Z",
     "start_time": "2022-09-04T16:32:12.337412Z"
    },
    "colab": {
     "base_uri": "https://localhost:8080/"
    },
    "executionInfo": {
     "elapsed": 112,
     "status": "ok",
     "timestamp": 1661539702064,
     "user": {
      "displayName": "Harpreet SIngh",
      "userId": "15106381096049879330"
     },
     "user_tz": 300
    },
    "id": "stw--socHJaa",
    "outputId": "a317ff75-acee-48ac-bff4-cae70d840f41"
   },
   "outputs": [
    {
     "data": {
      "text/plain": [
       "1        India\n",
       "2      Austria\n",
       "3       Africa\n",
       "4      America\n",
       "5    Sri lanka\n",
       "Name: countries, dtype: object"
      ]
     },
     "execution_count": 64,
     "metadata": {},
     "output_type": "execute_result"
    }
   ],
   "source": [
    "# We can also use the attribute -style access with column names that are strings\n",
    "my_dt.countries"
   ]
  },
  {
   "cell_type": "markdown",
   "metadata": {
    "id": "sLnCmOd9Ixt8"
   },
   "source": [
    "### <font color = 'dodgerblue'> **Dataframe as two dimensional array**\n",
    "We can select the data by using following methods for a two dimensional array :\n",
    " * values\n",
    " * Slicing\n",
    " * loc (explicit indexing) is label based where we specify the rows and columns based on  labels of rows and columns\n",
    " * iloc (implicit indexing) stands for integer location where we can specify the rows and columns by their integer positional values.\n",
    "\n",
    "Following examples will give much more insights:"
   ]
  },
  {
   "cell_type": "markdown",
   "metadata": {
    "id": "1k8pBKTwSVSv"
   },
   "source": [
    "#### <font color = 'dodgerblue'> **Values**"
   ]
  },
  {
   "cell_type": "code",
   "execution_count": 65,
   "metadata": {
    "ExecuteTime": {
     "end_time": "2022-09-04T16:32:13.872552Z",
     "start_time": "2022-09-04T16:32:13.865572Z"
    },
    "colab": {
     "base_uri": "https://localhost:8080/"
    },
    "executionInfo": {
     "elapsed": 1,
     "status": "ok",
     "timestamp": 1661539733996,
     "user": {
      "displayName": "Harpreet SIngh",
      "userId": "15106381096049879330"
     },
     "user_tz": 300
    },
    "id": "90ibpZz9LLl_",
    "outputId": "c8029a37-2f0c-4909-941f-8e62c79c5fc0"
   },
   "outputs": [
    {
     "name": "stdout",
     "output_type": "stream",
     "text": [
      "The dataframe is\n",
      "    calories  hours  sleep\n",
      "0       425     10      6\n",
      "1       500     20      6\n",
      "2       482      6      8\n",
      "3       369      4      8\n",
      "4       289      5      7\n",
      "5       563      6      6\n"
     ]
    }
   ],
   "source": [
    "# Lets create the dictionary first\n",
    "data = {\n",
    "    'calories' :[425, 500, 482, 369, 289, 563],\n",
    "    'hours' : [10, 20, 6, 4, 5, 6],\n",
    "    'sleep' :[6, 6, 8, 8, 7 , 6]\n",
    "}\n",
    "# Creating the dataframe\n",
    "\n",
    "dt = pd.DataFrame(data)\n",
    "print(f\"The dataframe is\\n {dt}\")"
   ]
  },
  {
   "cell_type": "code",
   "execution_count": 66,
   "metadata": {
    "ExecuteTime": {
     "end_time": "2022-09-04T16:32:14.921492Z",
     "start_time": "2022-09-04T16:32:14.907504Z"
    },
    "colab": {
     "base_uri": "https://localhost:8080/"
    },
    "executionInfo": {
     "elapsed": 97,
     "status": "ok",
     "timestamp": 1661539742950,
     "user": {
      "displayName": "Harpreet SIngh",
      "userId": "15106381096049879330"
     },
     "user_tz": 300
    },
    "id": "62Lxdl3mKbFo",
    "outputId": "22171e37-5a2e-4d64-b6b5-aa169ee7559e"
   },
   "outputs": [
    {
     "data": {
      "text/plain": [
       "array([[425,  10,   6],\n",
       "       [500,  20,   6],\n",
       "       [482,   6,   8],\n",
       "       [369,   4,   8],\n",
       "       [289,   5,   7],\n",
       "       [563,   6,   6]], dtype=int64)"
      ]
     },
     "execution_count": 66,
     "metadata": {},
     "output_type": "execute_result"
    }
   ],
   "source": [
    "# we can use the values attribute to get the data without column names and index\n",
    "# this method gives us the data as numpy array\n",
    "dt.values"
   ]
  },
  {
   "cell_type": "code",
   "execution_count": 67,
   "metadata": {
    "ExecuteTime": {
     "end_time": "2022-09-04T16:32:15.524321Z",
     "start_time": "2022-09-04T16:32:15.515344Z"
    },
    "colab": {
     "base_uri": "https://localhost:8080/"
    },
    "executionInfo": {
     "elapsed": 97,
     "status": "ok",
     "timestamp": 1661539749236,
     "user": {
      "displayName": "Harpreet SIngh",
      "userId": "15106381096049879330"
     },
     "user_tz": 300
    },
    "id": "JJ5lFt1QcAXR",
    "outputId": "abe282c0-a779-4d6d-8d46-39d6b8aff4ef"
   },
   "outputs": [
    {
     "data": {
      "text/plain": [
       "numpy.ndarray"
      ]
     },
     "execution_count": 67,
     "metadata": {},
     "output_type": "execute_result"
    }
   ],
   "source": [
    "# we can see that using values method gives us the numpy array\n",
    "type(dt.values)"
   ]
  },
  {
   "cell_type": "markdown",
   "metadata": {
    "id": "p0hiAnsPN_e9"
   },
   "source": [
    "#### <font color = 'dodgerblue'> **Slicing**"
   ]
  },
  {
   "cell_type": "code",
   "execution_count": 68,
   "metadata": {
    "ExecuteTime": {
     "end_time": "2022-09-04T16:32:16.314960Z",
     "start_time": "2022-09-04T16:32:16.308977Z"
    },
    "colab": {
     "base_uri": "https://localhost:8080/"
    },
    "executionInfo": {
     "elapsed": 104,
     "status": "ok",
     "timestamp": 1661539757929,
     "user": {
      "displayName": "Harpreet SIngh",
      "userId": "15106381096049879330"
     },
     "user_tz": 300
    },
    "id": "4rGn1q8oNGT0",
    "outputId": "7e1cb5d3-ef72-4d04-b6f8-f4069ef0ab32"
   },
   "outputs": [
    {
     "data": {
      "text/plain": [
       "0    425\n",
       "1    500\n",
       "2    482\n",
       "3    369\n",
       "4    289\n",
       "5    563\n",
       "Name: calories, dtype: int64"
      ]
     },
     "execution_count": 68,
     "metadata": {},
     "output_type": "execute_result"
    }
   ],
   "source": [
    "# Passing the single index to access a column\n",
    "dt['calories']"
   ]
  },
  {
   "cell_type": "code",
   "execution_count": 69,
   "metadata": {
    "ExecuteTime": {
     "end_time": "2022-09-04T16:32:25.779832Z",
     "start_time": "2022-09-04T16:32:25.725301Z"
    },
    "colab": {
     "base_uri": "https://localhost:8080/",
     "height": 339
    },
    "executionInfo": {
     "elapsed": 131,
     "status": "error",
     "timestamp": 1661539760603,
     "user": {
      "displayName": "Harpreet SIngh",
      "userId": "15106381096049879330"
     },
     "user_tz": 300
    },
    "id": "nfDuDpObnKrn",
    "outputId": "9f0d1b57-c3fa-4a5d-bfbd-bedbce31a6bd"
   },
   "outputs": [
    {
     "ename": "TypeError",
     "evalue": "cannot do slice indexing on RangeIndex with these indexers [calories] of type str",
     "output_type": "error",
     "traceback": [
      "\u001b[1;31m---------------------------------------------------------------------------\u001b[0m",
      "\u001b[1;31mTypeError\u001b[0m                                 Traceback (most recent call last)",
      "\u001b[1;32m<ipython-input-69-f561e88fa77e>\u001b[0m in \u001b[0;36m<module>\u001b[1;34m\u001b[0m\n\u001b[0;32m      1\u001b[0m \u001b[1;31m# let us try slicing with columns\u001b[0m\u001b[1;33m\u001b[0m\u001b[1;33m\u001b[0m\u001b[1;33m\u001b[0m\u001b[0m\n\u001b[1;32m----> 2\u001b[1;33m \u001b[0mdt\u001b[0m\u001b[1;33m[\u001b[0m\u001b[1;34m'calories'\u001b[0m\u001b[1;33m:\u001b[0m\u001b[1;34m'sleep'\u001b[0m\u001b[1;33m]\u001b[0m\u001b[1;33m\u001b[0m\u001b[1;33m\u001b[0m\u001b[0m\n\u001b[0m",
      "\u001b[1;32m~\\anaconda3\\lib\\site-packages\\pandas\\core\\frame.py\u001b[0m in \u001b[0;36m__getitem__\u001b[1;34m(self, key)\u001b[0m\n\u001b[0;32m   2997\u001b[0m \u001b[1;33m\u001b[0m\u001b[0m\n\u001b[0;32m   2998\u001b[0m         \u001b[1;31m# Do we have a slicer (on rows)?\u001b[0m\u001b[1;33m\u001b[0m\u001b[1;33m\u001b[0m\u001b[1;33m\u001b[0m\u001b[0m\n\u001b[1;32m-> 2999\u001b[1;33m         \u001b[0mindexer\u001b[0m \u001b[1;33m=\u001b[0m \u001b[0mconvert_to_index_sliceable\u001b[0m\u001b[1;33m(\u001b[0m\u001b[0mself\u001b[0m\u001b[1;33m,\u001b[0m \u001b[0mkey\u001b[0m\u001b[1;33m)\u001b[0m\u001b[1;33m\u001b[0m\u001b[1;33m\u001b[0m\u001b[0m\n\u001b[0m\u001b[0;32m   3000\u001b[0m         \u001b[1;32mif\u001b[0m \u001b[0mindexer\u001b[0m \u001b[1;32mis\u001b[0m \u001b[1;32mnot\u001b[0m \u001b[1;32mNone\u001b[0m\u001b[1;33m:\u001b[0m\u001b[1;33m\u001b[0m\u001b[1;33m\u001b[0m\u001b[0m\n\u001b[0;32m   3001\u001b[0m             \u001b[1;32mif\u001b[0m \u001b[0misinstance\u001b[0m\u001b[1;33m(\u001b[0m\u001b[0mindexer\u001b[0m\u001b[1;33m,\u001b[0m \u001b[0mnp\u001b[0m\u001b[1;33m.\u001b[0m\u001b[0mndarray\u001b[0m\u001b[1;33m)\u001b[0m\u001b[1;33m:\u001b[0m\u001b[1;33m\u001b[0m\u001b[1;33m\u001b[0m\u001b[0m\n",
      "\u001b[1;32m~\\anaconda3\\lib\\site-packages\\pandas\\core\\indexing.py\u001b[0m in \u001b[0;36mconvert_to_index_sliceable\u001b[1;34m(obj, key)\u001b[0m\n\u001b[0;32m   2208\u001b[0m     \u001b[0midx\u001b[0m \u001b[1;33m=\u001b[0m \u001b[0mobj\u001b[0m\u001b[1;33m.\u001b[0m\u001b[0mindex\u001b[0m\u001b[1;33m\u001b[0m\u001b[1;33m\u001b[0m\u001b[0m\n\u001b[0;32m   2209\u001b[0m     \u001b[1;32mif\u001b[0m \u001b[0misinstance\u001b[0m\u001b[1;33m(\u001b[0m\u001b[0mkey\u001b[0m\u001b[1;33m,\u001b[0m \u001b[0mslice\u001b[0m\u001b[1;33m)\u001b[0m\u001b[1;33m:\u001b[0m\u001b[1;33m\u001b[0m\u001b[1;33m\u001b[0m\u001b[0m\n\u001b[1;32m-> 2210\u001b[1;33m         \u001b[1;32mreturn\u001b[0m \u001b[0midx\u001b[0m\u001b[1;33m.\u001b[0m\u001b[0m_convert_slice_indexer\u001b[0m\u001b[1;33m(\u001b[0m\u001b[0mkey\u001b[0m\u001b[1;33m,\u001b[0m \u001b[0mkind\u001b[0m\u001b[1;33m=\u001b[0m\u001b[1;34m\"getitem\"\u001b[0m\u001b[1;33m)\u001b[0m\u001b[1;33m\u001b[0m\u001b[1;33m\u001b[0m\u001b[0m\n\u001b[0m\u001b[0;32m   2211\u001b[0m \u001b[1;33m\u001b[0m\u001b[0m\n\u001b[0;32m   2212\u001b[0m     \u001b[1;32melif\u001b[0m \u001b[0misinstance\u001b[0m\u001b[1;33m(\u001b[0m\u001b[0mkey\u001b[0m\u001b[1;33m,\u001b[0m \u001b[0mstr\u001b[0m\u001b[1;33m)\u001b[0m\u001b[1;33m:\u001b[0m\u001b[1;33m\u001b[0m\u001b[1;33m\u001b[0m\u001b[0m\n",
      "\u001b[1;32m~\\anaconda3\\lib\\site-packages\\pandas\\core\\indexes\\base.py\u001b[0m in \u001b[0;36m_convert_slice_indexer\u001b[1;34m(self, key, kind)\u001b[0m\n\u001b[0;32m   3354\u001b[0m             \"\"\"\n\u001b[0;32m   3355\u001b[0m             \u001b[1;32mif\u001b[0m \u001b[0mself\u001b[0m\u001b[1;33m.\u001b[0m\u001b[0mis_integer\u001b[0m\u001b[1;33m(\u001b[0m\u001b[1;33m)\u001b[0m \u001b[1;32mor\u001b[0m \u001b[0mis_index_slice\u001b[0m\u001b[1;33m:\u001b[0m\u001b[1;33m\u001b[0m\u001b[1;33m\u001b[0m\u001b[0m\n\u001b[1;32m-> 3356\u001b[1;33m                 \u001b[0mself\u001b[0m\u001b[1;33m.\u001b[0m\u001b[0m_validate_indexer\u001b[0m\u001b[1;33m(\u001b[0m\u001b[1;34m\"slice\"\u001b[0m\u001b[1;33m,\u001b[0m \u001b[0mkey\u001b[0m\u001b[1;33m.\u001b[0m\u001b[0mstart\u001b[0m\u001b[1;33m,\u001b[0m \u001b[1;34m\"getitem\"\u001b[0m\u001b[1;33m)\u001b[0m\u001b[1;33m\u001b[0m\u001b[1;33m\u001b[0m\u001b[0m\n\u001b[0m\u001b[0;32m   3357\u001b[0m                 \u001b[0mself\u001b[0m\u001b[1;33m.\u001b[0m\u001b[0m_validate_indexer\u001b[0m\u001b[1;33m(\u001b[0m\u001b[1;34m\"slice\"\u001b[0m\u001b[1;33m,\u001b[0m \u001b[0mkey\u001b[0m\u001b[1;33m.\u001b[0m\u001b[0mstop\u001b[0m\u001b[1;33m,\u001b[0m \u001b[1;34m\"getitem\"\u001b[0m\u001b[1;33m)\u001b[0m\u001b[1;33m\u001b[0m\u001b[1;33m\u001b[0m\u001b[0m\n\u001b[0;32m   3358\u001b[0m                 \u001b[0mself\u001b[0m\u001b[1;33m.\u001b[0m\u001b[0m_validate_indexer\u001b[0m\u001b[1;33m(\u001b[0m\u001b[1;34m\"slice\"\u001b[0m\u001b[1;33m,\u001b[0m \u001b[0mkey\u001b[0m\u001b[1;33m.\u001b[0m\u001b[0mstep\u001b[0m\u001b[1;33m,\u001b[0m \u001b[1;34m\"getitem\"\u001b[0m\u001b[1;33m)\u001b[0m\u001b[1;33m\u001b[0m\u001b[1;33m\u001b[0m\u001b[0m\n",
      "\u001b[1;32m~\\anaconda3\\lib\\site-packages\\pandas\\core\\indexes\\base.py\u001b[0m in \u001b[0;36m_validate_indexer\u001b[1;34m(self, form, key, kind)\u001b[0m\n\u001b[0;32m   5307\u001b[0m             \u001b[1;32mpass\u001b[0m\u001b[1;33m\u001b[0m\u001b[1;33m\u001b[0m\u001b[0m\n\u001b[0;32m   5308\u001b[0m         \u001b[1;32melse\u001b[0m\u001b[1;33m:\u001b[0m\u001b[1;33m\u001b[0m\u001b[1;33m\u001b[0m\u001b[0m\n\u001b[1;32m-> 5309\u001b[1;33m             \u001b[1;32mraise\u001b[0m \u001b[0mself\u001b[0m\u001b[1;33m.\u001b[0m\u001b[0m_invalid_indexer\u001b[0m\u001b[1;33m(\u001b[0m\u001b[0mform\u001b[0m\u001b[1;33m,\u001b[0m \u001b[0mkey\u001b[0m\u001b[1;33m)\u001b[0m\u001b[1;33m\u001b[0m\u001b[1;33m\u001b[0m\u001b[0m\n\u001b[0m\u001b[0;32m   5310\u001b[0m \u001b[1;33m\u001b[0m\u001b[0m\n\u001b[0;32m   5311\u001b[0m     \u001b[1;32mdef\u001b[0m \u001b[0m_maybe_cast_slice_bound\u001b[0m\u001b[1;33m(\u001b[0m\u001b[0mself\u001b[0m\u001b[1;33m,\u001b[0m \u001b[0mlabel\u001b[0m\u001b[1;33m,\u001b[0m \u001b[0mside\u001b[0m\u001b[1;33m:\u001b[0m \u001b[0mstr_t\u001b[0m\u001b[1;33m,\u001b[0m \u001b[0mkind\u001b[0m\u001b[1;33m)\u001b[0m\u001b[1;33m:\u001b[0m\u001b[1;33m\u001b[0m\u001b[1;33m\u001b[0m\u001b[0m\n",
      "\u001b[1;31mTypeError\u001b[0m: cannot do slice indexing on RangeIndex with these indexers [calories] of type str"
     ]
    }
   ],
   "source": [
    "# let us try slicing with columns\n",
    "dt['calories':'sleep']"
   ]
  },
  {
   "cell_type": "code",
   "execution_count": 70,
   "metadata": {
    "ExecuteTime": {
     "end_time": "2022-09-04T16:32:27.214880Z",
     "start_time": "2022-09-04T16:32:27.192923Z"
    },
    "colab": {
     "base_uri": "https://localhost:8080/",
     "height": 112
    },
    "executionInfo": {
     "elapsed": 117,
     "status": "ok",
     "timestamp": 1661539766754,
     "user": {
      "displayName": "Harpreet SIngh",
      "userId": "15106381096049879330"
     },
     "user_tz": 300
    },
    "id": "IS-QDQYRnUid",
    "outputId": "c5db323b-687b-49b3-f93f-fedb953fe335"
   },
   "outputs": [
    {
     "data": {
      "text/html": [
       "<div>\n",
       "<style scoped>\n",
       "    .dataframe tbody tr th:only-of-type {\n",
       "        vertical-align: middle;\n",
       "    }\n",
       "\n",
       "    .dataframe tbody tr th {\n",
       "        vertical-align: top;\n",
       "    }\n",
       "\n",
       "    .dataframe thead th {\n",
       "        text-align: right;\n",
       "    }\n",
       "</style>\n",
       "<table border=\"1\" class=\"dataframe\">\n",
       "  <thead>\n",
       "    <tr style=\"text-align: right;\">\n",
       "      <th></th>\n",
       "      <th>calories</th>\n",
       "      <th>hours</th>\n",
       "      <th>sleep</th>\n",
       "    </tr>\n",
       "  </thead>\n",
       "  <tbody>\n",
       "    <tr>\n",
       "      <th>0</th>\n",
       "      <td>425</td>\n",
       "      <td>10</td>\n",
       "      <td>6</td>\n",
       "    </tr>\n",
       "    <tr>\n",
       "      <th>1</th>\n",
       "      <td>500</td>\n",
       "      <td>20</td>\n",
       "      <td>6</td>\n",
       "    </tr>\n",
       "  </tbody>\n",
       "</table>\n",
       "</div>"
      ],
      "text/plain": [
       "   calories  hours  sleep\n",
       "0       425     10      6\n",
       "1       500     20      6"
      ]
     },
     "execution_count": 70,
     "metadata": {},
     "output_type": "execute_result"
    }
   ],
   "source": [
    "# let us try using implicit indexing\n",
    "dt[0:2]"
   ]
  },
  {
   "cell_type": "markdown",
   "metadata": {
    "id": "2j7L6ioSnpdD"
   },
   "source": [
    "<font color = 'red'> **Slicing Summary** </font>\n",
    "\n",
    "\n",
    "- <font color = 'aqua'> In Pandas , slicing refers to rows and not columns. Again slicing will use implicit indexng and fetch corresponding rows.\n",
    "\n",
    "- <font color = 'aqua'> Useful shotcuts - Acces single columns using indexing, for example `df['column name']` and use slicing to access rows `df[0:3]`. \n",
    "- <font color = 'aqua'> To avoid confusion, we should use `loc` and `iloc` methods. We can separate rows and columns using comma.\n",
    "\n"
   ]
  },
  {
   "cell_type": "markdown",
   "metadata": {
    "id": "qMe-aEmCR3Su"
   },
   "source": [
    "####  <font color = 'dodgerblue'> **indexers: loc, iloc**"
   ]
  },
  {
   "cell_type": "code",
   "execution_count": 71,
   "metadata": {
    "ExecuteTime": {
     "end_time": "2022-09-04T16:32:29.043597Z",
     "start_time": "2022-09-04T16:32:29.036622Z"
    },
    "colab": {
     "base_uri": "https://localhost:8080/"
    },
    "executionInfo": {
     "elapsed": 145,
     "status": "ok",
     "timestamp": 1661539974272,
     "user": {
      "displayName": "Harpreet SIngh",
      "userId": "15106381096049879330"
     },
     "user_tz": 300
    },
    "id": "JKXXRFcgRSOv",
    "outputId": "5dd69566-d990-4d5f-e541-1c765ea8c456"
   },
   "outputs": [
    {
     "name": "stdout",
     "output_type": "stream",
     "text": [
      "The dataframe is\n",
      "         name  age       class\n",
      "0     Olivia   12     seventh\n",
      "1       Emma   15       sixth\n",
      "2        Ava   13       ninth\n",
      "3     Sophia   14       tenth\n",
      "4   Isabella   17  graduation\n",
      "5  Charlotte   19  graduation\n",
      "\n"
     ]
    }
   ],
   "source": [
    "# Lets create a dataframe\n",
    "my_data = {\n",
    "    'name':['Olivia', 'Emma', 'Ava', 'Sophia', 'Isabella', 'Charlotte'],\n",
    "    'age' : [12, 15, 13, 14, 17, 19],\n",
    "    'class':['seventh', 'sixth', 'ninth', 'tenth', 'graduation', 'graduation']\n",
    "}\n",
    "dt3 = pd.DataFrame(my_data)\n",
    "print(f\"The dataframe is\\n {dt3}\\n\")"
   ]
  },
  {
   "cell_type": "code",
   "execution_count": 72,
   "metadata": {
    "ExecuteTime": {
     "end_time": "2022-09-04T16:32:30.263478Z",
     "start_time": "2022-09-04T16:32:30.257492Z"
    },
    "colab": {
     "base_uri": "https://localhost:8080/"
    },
    "executionInfo": {
     "elapsed": 126,
     "status": "ok",
     "timestamp": 1661540030021,
     "user": {
      "displayName": "Harpreet SIngh",
      "userId": "15106381096049879330"
     },
     "user_tz": 300
    },
    "id": "FYqbvgW_cWct",
    "outputId": "0d7f0a1d-f6f2-4fa3-f107-36974713cadd"
   },
   "outputs": [
    {
     "data": {
      "text/plain": [
       "0    Olivia\n",
       "1      Emma\n",
       "2       Ava\n",
       "3    Sophia\n",
       "Name: name, dtype: object"
      ]
     },
     "execution_count": 72,
     "metadata": {},
     "output_type": "execute_result"
    }
   ],
   "source": [
    "# Lets use loc method to locate a particular data (first four rows and column 'name' )\n",
    "# remember in explicit indexing both start and end values are included\n",
    "dt3.loc[: 3,  'name']"
   ]
  },
  {
   "cell_type": "code",
   "execution_count": 73,
   "metadata": {
    "ExecuteTime": {
     "end_time": "2022-09-04T16:32:30.538940Z",
     "start_time": "2022-09-04T16:32:30.530069Z"
    },
    "colab": {
     "base_uri": "https://localhost:8080/"
    },
    "executionInfo": {
     "elapsed": 132,
     "status": "ok",
     "timestamp": 1661540038124,
     "user": {
      "displayName": "Harpreet SIngh",
      "userId": "15106381096049879330"
     },
     "user_tz": 300
    },
    "id": "gqLzCZIdc24g",
    "outputId": "ff923018-9a8d-4ff4-fc8e-cfd1a56fee71"
   },
   "outputs": [
    {
     "data": {
      "text/plain": [
       "0    Olivia\n",
       "1      Emma\n",
       "2       Ava\n",
       "3    Sophia\n",
       "Name: name, dtype: object"
      ]
     },
     "execution_count": 73,
     "metadata": {},
     "output_type": "execute_result"
    }
   ],
   "source": [
    "# now let us get the same data using iloc\n",
    "# remeber in implicit indexing start value is included but end valus is not included\n",
    "dt3.iloc[: 4,  0]"
   ]
  },
  {
   "cell_type": "code",
   "execution_count": 74,
   "metadata": {
    "ExecuteTime": {
     "end_time": "2022-09-04T16:32:31.232585Z",
     "start_time": "2022-09-04T16:32:31.224607Z"
    },
    "colab": {
     "base_uri": "https://localhost:8080/",
     "height": 175
    },
    "executionInfo": {
     "elapsed": 124,
     "status": "ok",
     "timestamp": 1661540050454,
     "user": {
      "displayName": "Harpreet SIngh",
      "userId": "15106381096049879330"
     },
     "user_tz": 300
    },
    "id": "3kl2DsFlyVtT",
    "outputId": "78be3c24-b0ea-46b3-8796-05fe795596b5"
   },
   "outputs": [
    {
     "data": {
      "text/html": [
       "<div>\n",
       "<style scoped>\n",
       "    .dataframe tbody tr th:only-of-type {\n",
       "        vertical-align: middle;\n",
       "    }\n",
       "\n",
       "    .dataframe tbody tr th {\n",
       "        vertical-align: top;\n",
       "    }\n",
       "\n",
       "    .dataframe thead th {\n",
       "        text-align: right;\n",
       "    }\n",
       "</style>\n",
       "<table border=\"1\" class=\"dataframe\">\n",
       "  <thead>\n",
       "    <tr style=\"text-align: right;\">\n",
       "      <th></th>\n",
       "      <th>name</th>\n",
       "      <th>age</th>\n",
       "    </tr>\n",
       "  </thead>\n",
       "  <tbody>\n",
       "    <tr>\n",
       "      <th>1</th>\n",
       "      <td>Emma</td>\n",
       "      <td>15</td>\n",
       "    </tr>\n",
       "    <tr>\n",
       "      <th>3</th>\n",
       "      <td>Sophia</td>\n",
       "      <td>14</td>\n",
       "    </tr>\n",
       "    <tr>\n",
       "      <th>4</th>\n",
       "      <td>Isabella</td>\n",
       "      <td>17</td>\n",
       "    </tr>\n",
       "    <tr>\n",
       "      <th>5</th>\n",
       "      <td>Charlotte</td>\n",
       "      <td>19</td>\n",
       "    </tr>\n",
       "  </tbody>\n",
       "</table>\n",
       "</div>"
      ],
      "text/plain": [
       "        name  age\n",
       "1       Emma   15\n",
       "3     Sophia   14\n",
       "4   Isabella   17\n",
       "5  Charlotte   19"
      ]
     },
     "execution_count": 74,
     "metadata": {},
     "output_type": "execute_result"
    }
   ],
   "source": [
    "# combine loc with masking\n",
    "# Get name and age of students whose age is greater than 13 \n",
    "dt3.loc[dt3.age>13, ['name', 'age']]"
   ]
  },
  {
   "cell_type": "code",
   "execution_count": 75,
   "metadata": {
    "ExecuteTime": {
     "end_time": "2022-09-04T16:32:32.509347Z",
     "start_time": "2022-09-04T16:32:32.499346Z"
    },
    "colab": {
     "base_uri": "https://localhost:8080/",
     "height": 112
    },
    "executionInfo": {
     "elapsed": 2,
     "status": "ok",
     "timestamp": 1661540062113,
     "user": {
      "displayName": "Harpreet SIngh",
      "userId": "15106381096049879330"
     },
     "user_tz": 300
    },
    "id": "CehWCMRrybQy",
    "outputId": "d411e477-b519-4fe6-9d77-d486afe2bafa"
   },
   "outputs": [
    {
     "data": {
      "text/html": [
       "<div>\n",
       "<style scoped>\n",
       "    .dataframe tbody tr th:only-of-type {\n",
       "        vertical-align: middle;\n",
       "    }\n",
       "\n",
       "    .dataframe tbody tr th {\n",
       "        vertical-align: top;\n",
       "    }\n",
       "\n",
       "    .dataframe thead th {\n",
       "        text-align: right;\n",
       "    }\n",
       "</style>\n",
       "<table border=\"1\" class=\"dataframe\">\n",
       "  <thead>\n",
       "    <tr style=\"text-align: right;\">\n",
       "      <th></th>\n",
       "      <th>name</th>\n",
       "      <th>age</th>\n",
       "    </tr>\n",
       "  </thead>\n",
       "  <tbody>\n",
       "    <tr>\n",
       "      <th>1</th>\n",
       "      <td>Emma</td>\n",
       "      <td>15</td>\n",
       "    </tr>\n",
       "    <tr>\n",
       "      <th>3</th>\n",
       "      <td>Sophia</td>\n",
       "      <td>14</td>\n",
       "    </tr>\n",
       "  </tbody>\n",
       "</table>\n",
       "</div>"
      ],
      "text/plain": [
       "     name  age\n",
       "1    Emma   15\n",
       "3  Sophia   14"
      ]
     },
     "execution_count": 75,
     "metadata": {},
     "output_type": "execute_result"
    }
   ],
   "source": [
    "# combine loc with masking\n",
    "# Get name and age of students whose age is greater than 13 but less than 17\n",
    "dt3.loc[(dt3.age>13) & (dt3.age<17), ['name', 'age']]"
   ]
  },
  {
   "cell_type": "markdown",
   "metadata": {
    "id": "RaMSyoNOSn57"
   },
   "source": [
    "# <font color = 'dodgerblue'> **Uses cases** </font>\n",
    "1. Pandas have a variety of use cases. In this notebook, we will discuss the following:\n",
    "\n",
    "   * Handling missing values\n",
    "   * Manupulating data\n",
    "   * Sorting Data\n",
    "   * Aggregation of data\n",
    "   * Grouping data\n",
    "   * Data summary using Pivot Tables\n",
    "   * Merging, joining and concatenating data\n",
    "  \n",
    "\n"
   ]
  },
  {
   "cell_type": "markdown",
   "metadata": {
    "id": "08v6xS91Yc2u"
   },
   "source": [
    "## <font color = 'dodgerblue'> **Handling missing values** </font>\n",
    "\n",
    "1. The real world data is not so homogeneous or clean.\n",
    "2. The data may have missing values or null values.\n",
    "3. Pandas, helps us to clean our data and make it in a presentable form.\n",
    "4. Missing data are presented as null, NaN(not a number) or NA values\n",
    "5. There are several methods for detecting, removing and replacing null values in pandas and they are:\n",
    "   * isnull()\n",
    "   * notnull()\n",
    "   * dropna()\n",
    "   * fillna()  "
   ]
  },
  {
   "cell_type": "markdown",
   "metadata": {
    "id": "xRoDwXwdapf7"
   },
   "source": [
    "### <font color = 'dodgerblue'> **Detecting null values**\n",
    "* isnull() and notnull() are useful for detecting null  values.\n",
    "* We can get boolean mask for null using isnull() - for null values it will return True otherwise it will return False.\n",
    "* We can get boolean mask for not null using notnull() - for not null values it will return True otherwise it will return False."
   ]
  },
  {
   "cell_type": "code",
   "execution_count": 76,
   "metadata": {
    "ExecuteTime": {
     "end_time": "2022-09-04T16:32:34.375411Z",
     "start_time": "2022-09-04T16:32:34.360450Z"
    },
    "colab": {
     "base_uri": "https://localhost:8080/"
    },
    "executionInfo": {
     "elapsed": 93,
     "status": "ok",
     "timestamp": 1661540133480,
     "user": {
      "displayName": "Harpreet SIngh",
      "userId": "15106381096049879330"
     },
     "user_tz": 300
    },
    "id": "HeLeOKjaQVkJ",
    "outputId": "3102f09e-ba1d-44e5-8635-13076e6f998d"
   },
   "outputs": [
    {
     "name": "stdout",
     "output_type": "stream",
     "text": [
      "the dataframe is\n",
      "      name   age\n",
      "0    alex  10.0\n",
      "1     NaN   NaN\n",
      "2    ross  20.0\n",
      "3     NaN   0.0\n",
      "4  potter   NaN\n",
      "5     NaN  25.0\n"
     ]
    }
   ],
   "source": [
    "# Lets create a new dataframe\n",
    "\n",
    "data2 = {\n",
    "    'name' : ['alex', np.nan, 'ross', np.nan, 'potter', np.nan],\n",
    "    'age' :  [10, np.nan, 20, 0, np.nan, 25 ]\n",
    "}\n",
    "\n",
    "dt2 = pd.DataFrame(data2)\n",
    "print(f\"the dataframe is\\n {dt2}\")"
   ]
  },
  {
   "cell_type": "markdown",
   "metadata": {
    "id": "siEF1Mo2avde"
   },
   "source": [
    "#### <font color = 'dodgerblue'> **is_null()**"
   ]
  },
  {
   "cell_type": "code",
   "execution_count": 77,
   "metadata": {
    "ExecuteTime": {
     "end_time": "2022-09-04T16:32:35.740543Z",
     "start_time": "2022-09-04T16:32:35.732565Z"
    },
    "colab": {
     "base_uri": "https://localhost:8080/"
    },
    "executionInfo": {
     "elapsed": 113,
     "status": "ok",
     "timestamp": 1661540136262,
     "user": {
      "displayName": "Harpreet SIngh",
      "userId": "15106381096049879330"
     },
     "user_tz": 300
    },
    "id": "4fjiVJ0HrKK0",
    "outputId": "b8bd3855-89ec-4cf3-ed63-b51fa17a4690"
   },
   "outputs": [
    {
     "name": "stdout",
     "output_type": "stream",
     "text": [
      " Mask indicating null values:\n",
      "    name    age\n",
      "0  False  False\n",
      "1   True   True\n",
      "2  False  False\n",
      "3   True  False\n",
      "4  False   True\n",
      "5   True  False\n"
     ]
    }
   ],
   "source": [
    "# Detecting null values by using isnull() method\n",
    "# it will give the boolean mask \n",
    "null_mask = dt2.isnull()\n",
    "print(f' Mask indicating null values:\\n{null_mask}')"
   ]
  },
  {
   "cell_type": "code",
   "execution_count": 78,
   "metadata": {
    "ExecuteTime": {
     "end_time": "2022-09-04T16:32:36.358933Z",
     "start_time": "2022-09-04T16:32:36.344971Z"
    },
    "colab": {
     "base_uri": "https://localhost:8080/"
    },
    "executionInfo": {
     "elapsed": 93,
     "status": "ok",
     "timestamp": 1661540144338,
     "user": {
      "displayName": "Harpreet SIngh",
      "userId": "15106381096049879330"
     },
     "user_tz": 300
    },
    "id": "qCHyA-qHrO_k",
    "outputId": "63bdc192-7d20-4479-e630-7e547c604830"
   },
   "outputs": [
    {
     "name": "stdout",
     "output_type": "stream",
     "text": [
      " Number of null values:\n",
      "name    3\n",
      "age     2\n",
      "dtype: int64\n"
     ]
    }
   ],
   "source": [
    "# we can count number of null values in each column by using .sum()\n",
    "print(f' Number of null values:\\n{dt2.isnull().sum()}')"
   ]
  },
  {
   "cell_type": "code",
   "execution_count": 79,
   "metadata": {
    "ExecuteTime": {
     "end_time": "2022-09-04T16:32:36.840245Z",
     "start_time": "2022-09-04T16:32:36.822293Z"
    },
    "colab": {
     "base_uri": "https://localhost:8080/"
    },
    "executionInfo": {
     "elapsed": 106,
     "status": "ok",
     "timestamp": 1661540147874,
     "user": {
      "displayName": "Harpreet SIngh",
      "userId": "15106381096049879330"
     },
     "user_tz": 300
    },
    "id": "uwflEkffrYRI",
    "outputId": "0f12e417-91e0-4f66-d1ec-d5b0530947f1"
   },
   "outputs": [
    {
     "name": "stdout",
     "output_type": "stream",
     "text": [
      " \n",
      "Percentage of null values in each column:\n",
      "name    50.000000\n",
      "age     33.333333\n",
      "dtype: float64\n"
     ]
    }
   ],
   "source": [
    "# Get the percentage of null values in eacvh column\n",
    "print(f' \\nPercentage of null values in each column:\\n{100*dt2.isnull().sum()/len(dt2)}')"
   ]
  },
  {
   "cell_type": "code",
   "execution_count": 80,
   "metadata": {
    "ExecuteTime": {
     "end_time": "2022-09-04T16:32:37.949729Z",
     "start_time": "2022-09-04T16:32:37.932775Z"
    },
    "colab": {
     "base_uri": "https://localhost:8080/"
    },
    "executionInfo": {
     "elapsed": 159,
     "status": "ok",
     "timestamp": 1661540149980,
     "user": {
      "displayName": "Harpreet SIngh",
      "userId": "15106381096049879330"
     },
     "user_tz": 300
    },
    "id": "Qb7CIuJnrbZ3",
    "outputId": "235f532e-1c1a-4510-f21e-54d5af7ded64"
   },
   "outputs": [
    {
     "name": "stdout",
     "output_type": "stream",
     "text": [
      " Number of null values in eah row:\n",
      "0    0\n",
      "1    2\n",
      "2    0\n",
      "3    1\n",
      "4    1\n",
      "5    1\n",
      "dtype: int64\n"
     ]
    }
   ],
   "source": [
    "# we can also get number of null values in each row\n",
    "print(f' Number of null values in eah row:\\n{dt2.isnull().sum(axis =1)}')"
   ]
  },
  {
   "cell_type": "markdown",
   "metadata": {
    "id": "UlBV2wTma-p-"
   },
   "source": [
    "#### <font color = 'dodgerblue'> **not_null()**"
   ]
  },
  {
   "cell_type": "code",
   "execution_count": 81,
   "metadata": {
    "ExecuteTime": {
     "end_time": "2022-09-04T16:32:38.903784Z",
     "start_time": "2022-09-04T16:32:38.894817Z"
    },
    "colab": {
     "base_uri": "https://localhost:8080/",
     "height": 237
    },
    "executionInfo": {
     "elapsed": 107,
     "status": "ok",
     "timestamp": 1661540196575,
     "user": {
      "displayName": "Harpreet SIngh",
      "userId": "15106381096049879330"
     },
     "user_tz": 300
    },
    "id": "dTMHEkQwry_I",
    "outputId": "6997f37e-6470-4854-d966-6ba3b3adbf69"
   },
   "outputs": [
    {
     "data": {
      "text/html": [
       "<div>\n",
       "<style scoped>\n",
       "    .dataframe tbody tr th:only-of-type {\n",
       "        vertical-align: middle;\n",
       "    }\n",
       "\n",
       "    .dataframe tbody tr th {\n",
       "        vertical-align: top;\n",
       "    }\n",
       "\n",
       "    .dataframe thead th {\n",
       "        text-align: right;\n",
       "    }\n",
       "</style>\n",
       "<table border=\"1\" class=\"dataframe\">\n",
       "  <thead>\n",
       "    <tr style=\"text-align: right;\">\n",
       "      <th></th>\n",
       "      <th>name</th>\n",
       "      <th>age</th>\n",
       "    </tr>\n",
       "  </thead>\n",
       "  <tbody>\n",
       "    <tr>\n",
       "      <th>0</th>\n",
       "      <td>True</td>\n",
       "      <td>True</td>\n",
       "    </tr>\n",
       "    <tr>\n",
       "      <th>1</th>\n",
       "      <td>False</td>\n",
       "      <td>False</td>\n",
       "    </tr>\n",
       "    <tr>\n",
       "      <th>2</th>\n",
       "      <td>True</td>\n",
       "      <td>True</td>\n",
       "    </tr>\n",
       "    <tr>\n",
       "      <th>3</th>\n",
       "      <td>False</td>\n",
       "      <td>True</td>\n",
       "    </tr>\n",
       "    <tr>\n",
       "      <th>4</th>\n",
       "      <td>True</td>\n",
       "      <td>False</td>\n",
       "    </tr>\n",
       "    <tr>\n",
       "      <th>5</th>\n",
       "      <td>False</td>\n",
       "      <td>True</td>\n",
       "    </tr>\n",
       "  </tbody>\n",
       "</table>\n",
       "</div>"
      ],
      "text/plain": [
       "    name    age\n",
       "0   True   True\n",
       "1  False  False\n",
       "2   True   True\n",
       "3  False   True\n",
       "4   True  False\n",
       "5  False   True"
      ]
     },
     "execution_count": 81,
     "metadata": {},
     "output_type": "execute_result"
    }
   ],
   "source": [
    "# We can access the values which are not null by using notnull() method\n",
    "# This will create a mask where all the missing values or NaN values are shown as False\n",
    "# And the non missing values are shown as True\n",
    "dt2.notnull()"
   ]
  },
  {
   "cell_type": "markdown",
   "metadata": {
    "id": "0afxdxNWb5Hv"
   },
   "source": [
    "### <font color = 'dodgerblue'> **Dropping null values**\n",
    "\n",
    "dropna() method is used to drop the null values present in the data.\n"
   ]
  },
  {
   "cell_type": "code",
   "execution_count": 82,
   "metadata": {
    "ExecuteTime": {
     "end_time": "2022-09-04T16:32:40.184283Z",
     "start_time": "2022-09-04T16:32:40.178282Z"
    },
    "colab": {
     "base_uri": "https://localhost:8080/"
    },
    "executionInfo": {
     "elapsed": 294,
     "status": "ok",
     "timestamp": 1661540230249,
     "user": {
      "displayName": "Harpreet SIngh",
      "userId": "15106381096049879330"
     },
     "user_tz": 300
    },
    "id": "fYhVXU1Kcus5",
    "outputId": "a027dccc-45d5-4e99-b0c9-46da65608035"
   },
   "outputs": [
    {
     "name": "stdout",
     "output_type": "stream",
     "text": [
      "The data frame is \n",
      "    columns     rows\n",
      "0      0.0    first\n",
      "1     10.0   second\n",
      "2     20.0    third\n",
      "3      NaN   fourth\n",
      "4      0.0    fifth\n",
      "5     12.0    sixth\n",
      "6      NaN  seventh\n"
     ]
    }
   ],
   "source": [
    "# creating a dataframe\n",
    "# we can use numpy to create nan values by using np.nan method\n",
    "data = {\n",
    "    'columns': [0, 10, 20, np.nan , 0 , 12 , np.nan],\n",
    "    'rows' : ['first', 'second', 'third', 'fourth', 'fifth', 'sixth', 'seventh']\n",
    "}\n",
    "df = pd.DataFrame(data)\n",
    "print(f\"The data frame is \\n {df}\")"
   ]
  },
  {
   "cell_type": "code",
   "execution_count": 83,
   "metadata": {
    "ExecuteTime": {
     "end_time": "2022-09-04T16:32:41.300956Z",
     "start_time": "2022-09-04T16:32:41.280009Z"
    },
    "colab": {
     "base_uri": "https://localhost:8080/",
     "height": 206
    },
    "executionInfo": {
     "elapsed": 108,
     "status": "ok",
     "timestamp": 1661540235497,
     "user": {
      "displayName": "Harpreet SIngh",
      "userId": "15106381096049879330"
     },
     "user_tz": 300
    },
    "id": "Hak6IBNIdWNT",
    "outputId": "43bed429-f2c9-4a21-c1d6-027c44b72868"
   },
   "outputs": [
    {
     "data": {
      "text/html": [
       "<div>\n",
       "<style scoped>\n",
       "    .dataframe tbody tr th:only-of-type {\n",
       "        vertical-align: middle;\n",
       "    }\n",
       "\n",
       "    .dataframe tbody tr th {\n",
       "        vertical-align: top;\n",
       "    }\n",
       "\n",
       "    .dataframe thead th {\n",
       "        text-align: right;\n",
       "    }\n",
       "</style>\n",
       "<table border=\"1\" class=\"dataframe\">\n",
       "  <thead>\n",
       "    <tr style=\"text-align: right;\">\n",
       "      <th></th>\n",
       "      <th>columns</th>\n",
       "      <th>rows</th>\n",
       "    </tr>\n",
       "  </thead>\n",
       "  <tbody>\n",
       "    <tr>\n",
       "      <th>0</th>\n",
       "      <td>0.0</td>\n",
       "      <td>first</td>\n",
       "    </tr>\n",
       "    <tr>\n",
       "      <th>1</th>\n",
       "      <td>10.0</td>\n",
       "      <td>second</td>\n",
       "    </tr>\n",
       "    <tr>\n",
       "      <th>2</th>\n",
       "      <td>20.0</td>\n",
       "      <td>third</td>\n",
       "    </tr>\n",
       "    <tr>\n",
       "      <th>4</th>\n",
       "      <td>0.0</td>\n",
       "      <td>fifth</td>\n",
       "    </tr>\n",
       "    <tr>\n",
       "      <th>5</th>\n",
       "      <td>12.0</td>\n",
       "      <td>sixth</td>\n",
       "    </tr>\n",
       "  </tbody>\n",
       "</table>\n",
       "</div>"
      ],
      "text/plain": [
       "   columns    rows\n",
       "0      0.0   first\n",
       "1     10.0  second\n",
       "2     20.0   third\n",
       "4      0.0   fifth\n",
       "5     12.0   sixth"
      ]
     },
     "execution_count": 83,
     "metadata": {},
     "output_type": "execute_result"
    }
   ],
   "source": [
    "# let's drop the NA/Nan values by using dropna()\n",
    "df.dropna()"
   ]
  },
  {
   "cell_type": "markdown",
   "metadata": {
    "id": "kLL7Ncctejfs"
   },
   "source": [
    "###  <font color = 'dodgerblue'> **Filling the null values**\n",
    "fillna() is used to fill the NA values in the dataframe."
   ]
  },
  {
   "cell_type": "code",
   "execution_count": 84,
   "metadata": {
    "ExecuteTime": {
     "end_time": "2022-09-04T16:32:42.014486Z",
     "start_time": "2022-09-04T16:32:41.994570Z"
    },
    "colab": {
     "base_uri": "https://localhost:8080/",
     "height": 269
    },
    "executionInfo": {
     "elapsed": 104,
     "status": "ok",
     "timestamp": 1661540244126,
     "user": {
      "displayName": "Harpreet SIngh",
      "userId": "15106381096049879330"
     },
     "user_tz": 300
    },
    "id": "L8xaAASkersN",
    "outputId": "281c22c1-d30c-4fbb-f003-383a45c38fed"
   },
   "outputs": [
    {
     "data": {
      "text/html": [
       "<div>\n",
       "<style scoped>\n",
       "    .dataframe tbody tr th:only-of-type {\n",
       "        vertical-align: middle;\n",
       "    }\n",
       "\n",
       "    .dataframe tbody tr th {\n",
       "        vertical-align: top;\n",
       "    }\n",
       "\n",
       "    .dataframe thead th {\n",
       "        text-align: right;\n",
       "    }\n",
       "</style>\n",
       "<table border=\"1\" class=\"dataframe\">\n",
       "  <thead>\n",
       "    <tr style=\"text-align: right;\">\n",
       "      <th></th>\n",
       "      <th>columns</th>\n",
       "      <th>rows</th>\n",
       "    </tr>\n",
       "  </thead>\n",
       "  <tbody>\n",
       "    <tr>\n",
       "      <th>0</th>\n",
       "      <td>0.0</td>\n",
       "      <td>first</td>\n",
       "    </tr>\n",
       "    <tr>\n",
       "      <th>1</th>\n",
       "      <td>10.0</td>\n",
       "      <td>second</td>\n",
       "    </tr>\n",
       "    <tr>\n",
       "      <th>2</th>\n",
       "      <td>20.0</td>\n",
       "      <td>third</td>\n",
       "    </tr>\n",
       "    <tr>\n",
       "      <th>3</th>\n",
       "      <td>0.0</td>\n",
       "      <td>fourth</td>\n",
       "    </tr>\n",
       "    <tr>\n",
       "      <th>4</th>\n",
       "      <td>0.0</td>\n",
       "      <td>fifth</td>\n",
       "    </tr>\n",
       "    <tr>\n",
       "      <th>5</th>\n",
       "      <td>12.0</td>\n",
       "      <td>sixth</td>\n",
       "    </tr>\n",
       "    <tr>\n",
       "      <th>6</th>\n",
       "      <td>0.0</td>\n",
       "      <td>seventh</td>\n",
       "    </tr>\n",
       "  </tbody>\n",
       "</table>\n",
       "</div>"
      ],
      "text/plain": [
       "   columns     rows\n",
       "0      0.0    first\n",
       "1     10.0   second\n",
       "2     20.0    third\n",
       "3      0.0   fourth\n",
       "4      0.0    fifth\n",
       "5     12.0    sixth\n",
       "6      0.0  seventh"
      ]
     },
     "execution_count": 84,
     "metadata": {},
     "output_type": "execute_result"
    }
   ],
   "source": [
    "# Consider the dataframe df from the above example\n",
    "# Replace (fill) Na values with zero\n",
    "\n",
    "df.fillna(0)"
   ]
  },
  {
   "cell_type": "code",
   "execution_count": 85,
   "metadata": {
    "ExecuteTime": {
     "end_time": "2022-09-04T16:32:42.998564Z",
     "start_time": "2022-09-04T16:32:42.983596Z"
    },
    "colab": {
     "base_uri": "https://localhost:8080/",
     "height": 269
    },
    "executionInfo": {
     "elapsed": 140,
     "status": "ok",
     "timestamp": 1661540247887,
     "user": {
      "displayName": "Harpreet SIngh",
      "userId": "15106381096049879330"
     },
     "user_tz": 300
    },
    "id": "G3B8gNcRfFVK",
    "outputId": "d31bd355-cca4-48a5-aeee-096a205f3ea8"
   },
   "outputs": [
    {
     "data": {
      "text/html": [
       "<div>\n",
       "<style scoped>\n",
       "    .dataframe tbody tr th:only-of-type {\n",
       "        vertical-align: middle;\n",
       "    }\n",
       "\n",
       "    .dataframe tbody tr th {\n",
       "        vertical-align: top;\n",
       "    }\n",
       "\n",
       "    .dataframe thead th {\n",
       "        text-align: right;\n",
       "    }\n",
       "</style>\n",
       "<table border=\"1\" class=\"dataframe\">\n",
       "  <thead>\n",
       "    <tr style=\"text-align: right;\">\n",
       "      <th></th>\n",
       "      <th>columns</th>\n",
       "      <th>rows</th>\n",
       "    </tr>\n",
       "  </thead>\n",
       "  <tbody>\n",
       "    <tr>\n",
       "      <th>0</th>\n",
       "      <td>0.0</td>\n",
       "      <td>first</td>\n",
       "    </tr>\n",
       "    <tr>\n",
       "      <th>1</th>\n",
       "      <td>10.0</td>\n",
       "      <td>second</td>\n",
       "    </tr>\n",
       "    <tr>\n",
       "      <th>2</th>\n",
       "      <td>20.0</td>\n",
       "      <td>third</td>\n",
       "    </tr>\n",
       "    <tr>\n",
       "      <th>3</th>\n",
       "      <td>20.0</td>\n",
       "      <td>fourth</td>\n",
       "    </tr>\n",
       "    <tr>\n",
       "      <th>4</th>\n",
       "      <td>0.0</td>\n",
       "      <td>fifth</td>\n",
       "    </tr>\n",
       "    <tr>\n",
       "      <th>5</th>\n",
       "      <td>12.0</td>\n",
       "      <td>sixth</td>\n",
       "    </tr>\n",
       "    <tr>\n",
       "      <th>6</th>\n",
       "      <td>12.0</td>\n",
       "      <td>seventh</td>\n",
       "    </tr>\n",
       "  </tbody>\n",
       "</table>\n",
       "</div>"
      ],
      "text/plain": [
       "   columns     rows\n",
       "0      0.0    first\n",
       "1     10.0   second\n",
       "2     20.0    third\n",
       "3     20.0   fourth\n",
       "4      0.0    fifth\n",
       "5     12.0    sixth\n",
       "6     12.0  seventh"
      ]
     },
     "execution_count": 85,
     "metadata": {},
     "output_type": "execute_result"
    }
   ],
   "source": [
    "# Using the forward fill to take the previous value forward\n",
    "df.fillna(method='ffill')"
   ]
  },
  {
   "cell_type": "code",
   "execution_count": 86,
   "metadata": {
    "ExecuteTime": {
     "end_time": "2022-09-04T16:32:44.058626Z",
     "start_time": "2022-09-04T16:32:44.041672Z"
    },
    "colab": {
     "base_uri": "https://localhost:8080/",
     "height": 269
    },
    "executionInfo": {
     "elapsed": 110,
     "status": "ok",
     "timestamp": 1661540253565,
     "user": {
      "displayName": "Harpreet SIngh",
      "userId": "15106381096049879330"
     },
     "user_tz": 300
    },
    "id": "5LHmjJvrfTtF",
    "outputId": "0b328fd9-ce32-4e72-a6bb-d58634237329"
   },
   "outputs": [
    {
     "data": {
      "text/html": [
       "<div>\n",
       "<style scoped>\n",
       "    .dataframe tbody tr th:only-of-type {\n",
       "        vertical-align: middle;\n",
       "    }\n",
       "\n",
       "    .dataframe tbody tr th {\n",
       "        vertical-align: top;\n",
       "    }\n",
       "\n",
       "    .dataframe thead th {\n",
       "        text-align: right;\n",
       "    }\n",
       "</style>\n",
       "<table border=\"1\" class=\"dataframe\">\n",
       "  <thead>\n",
       "    <tr style=\"text-align: right;\">\n",
       "      <th></th>\n",
       "      <th>columns</th>\n",
       "      <th>rows</th>\n",
       "    </tr>\n",
       "  </thead>\n",
       "  <tbody>\n",
       "    <tr>\n",
       "      <th>0</th>\n",
       "      <td>0.0</td>\n",
       "      <td>first</td>\n",
       "    </tr>\n",
       "    <tr>\n",
       "      <th>1</th>\n",
       "      <td>10.0</td>\n",
       "      <td>second</td>\n",
       "    </tr>\n",
       "    <tr>\n",
       "      <th>2</th>\n",
       "      <td>20.0</td>\n",
       "      <td>third</td>\n",
       "    </tr>\n",
       "    <tr>\n",
       "      <th>3</th>\n",
       "      <td>0.0</td>\n",
       "      <td>fourth</td>\n",
       "    </tr>\n",
       "    <tr>\n",
       "      <th>4</th>\n",
       "      <td>0.0</td>\n",
       "      <td>fifth</td>\n",
       "    </tr>\n",
       "    <tr>\n",
       "      <th>5</th>\n",
       "      <td>12.0</td>\n",
       "      <td>sixth</td>\n",
       "    </tr>\n",
       "    <tr>\n",
       "      <th>6</th>\n",
       "      <td>NaN</td>\n",
       "      <td>seventh</td>\n",
       "    </tr>\n",
       "  </tbody>\n",
       "</table>\n",
       "</div>"
      ],
      "text/plain": [
       "   columns     rows\n",
       "0      0.0    first\n",
       "1     10.0   second\n",
       "2     20.0    third\n",
       "3      0.0   fourth\n",
       "4      0.0    fifth\n",
       "5     12.0    sixth\n",
       "6      NaN  seventh"
      ]
     },
     "execution_count": 86,
     "metadata": {},
     "output_type": "execute_result"
    }
   ],
   "source": [
    "# Using the back-fill to take the next values backward\n",
    "# Filling the nan values from the next values\n",
    "df.fillna(method='bfill')"
   ]
  },
  {
   "cell_type": "markdown",
   "metadata": {
    "id": "_z-hEOXcfyd1"
   },
   "source": [
    "##  <font color = 'dodgerblue'> **Data Manipulation**\n",
    "We have many different methods to manipulate the data in the pandas. We will discuss some of these below:\n"
   ]
  },
  {
   "cell_type": "markdown",
   "metadata": {
    "id": "_Dd-x2PDjxpr"
   },
   "source": [
    "###  <font color = 'dodgerblue'> **Adding a new columns to the data**\n",
    "We can also add new columns to the existing data in pandas.\n",
    "The example is given as follows:"
   ]
  },
  {
   "cell_type": "code",
   "execution_count": 87,
   "metadata": {
    "ExecuteTime": {
     "end_time": "2022-09-04T16:32:45.086154Z",
     "start_time": "2022-09-04T16:32:45.080170Z"
    },
    "colab": {
     "base_uri": "https://localhost:8080/"
    },
    "executionInfo": {
     "elapsed": 129,
     "status": "ok",
     "timestamp": 1661540260750,
     "user": {
      "displayName": "Harpreet SIngh",
      "userId": "15106381096049879330"
     },
     "user_tz": 300
    },
    "id": "CbT98wcVhnXs",
    "outputId": "a4d1a9b3-aedb-4017-9127-b8a3dfbedabc"
   },
   "outputs": [
    {
     "name": "stdout",
     "output_type": "stream",
     "text": [
      "My dataframe is :\n",
      "     name   class  math_score  english_score  gender\n",
      "0   alex   first          20             30    Male\n",
      "1    ami   first          20             40  Female\n",
      "2   ross  second          30             50  Female\n",
      "3  suzan  second          50             60  Female\n",
      "4  henry  second          10             20    Male\n"
     ]
    }
   ],
   "source": [
    "# Adding new columns to the data\n",
    "# Let's create a dataframe\n",
    "data = {\n",
    "    'name': ['alex', 'ami', 'ross', 'suzan', 'henry'],\n",
    "    'class' : ['first', 'first', 'second', 'second', 'second'],\n",
    "    'math_score' : [20, 20, 30, 50, 10],\n",
    "    'english_score' : [30, 40, 50, 60, 20],\n",
    "    'gender' :['Male', 'Female', 'Female', 'Female', 'Male']}\n",
    "    \n",
    "df1 = pd.DataFrame(data)\n",
    "print(f\"My dataframe is :\\n {df1}\")"
   ]
  },
  {
   "cell_type": "code",
   "execution_count": 88,
   "metadata": {
    "ExecuteTime": {
     "end_time": "2022-09-04T16:32:46.237479Z",
     "start_time": "2022-09-04T16:32:46.222520Z"
    },
    "colab": {
     "base_uri": "https://localhost:8080/"
    },
    "executionInfo": {
     "elapsed": 158,
     "status": "ok",
     "timestamp": 1661540268034,
     "user": {
      "displayName": "Harpreet SIngh",
      "userId": "15106381096049879330"
     },
     "user_tz": 300
    },
    "id": "8usKo4pqsWEU",
    "outputId": "5170d062-8c93-433c-e0a6-d2dd07986379"
   },
   "outputs": [
    {
     "name": "stdout",
     "output_type": "stream",
     "text": [
      "The series is :\n",
      " 0    4\n",
      "1    7\n",
      "2    8\n",
      "3    9\n",
      "4    5\n",
      "dtype: int64\n"
     ]
    }
   ],
   "source": [
    "# let's create a series consisting of age information of students\n",
    "age = pd.Series([4, 7, 8, 9, 5])\n",
    "print(f\"The series is :\\n {age}\")"
   ]
  },
  {
   "cell_type": "code",
   "execution_count": 89,
   "metadata": {
    "ExecuteTime": {
     "end_time": "2022-09-04T16:32:46.778961Z",
     "start_time": "2022-09-04T16:32:46.762977Z"
    },
    "colab": {
     "base_uri": "https://localhost:8080/",
     "height": 242
    },
    "executionInfo": {
     "elapsed": 140,
     "status": "ok",
     "timestamp": 1661540284814,
     "user": {
      "displayName": "Harpreet SIngh",
      "userId": "15106381096049879330"
     },
     "user_tz": 300
    },
    "id": "b52UtETfy4yu",
    "outputId": "140c77c1-e616-40fa-c8c0-8e843efa5c07"
   },
   "outputs": [
    {
     "name": "stdout",
     "output_type": "stream",
     "text": [
      "The modified dataframe is :\n",
      "\n"
     ]
    },
    {
     "data": {
      "text/html": [
       "<div>\n",
       "<style scoped>\n",
       "    .dataframe tbody tr th:only-of-type {\n",
       "        vertical-align: middle;\n",
       "    }\n",
       "\n",
       "    .dataframe tbody tr th {\n",
       "        vertical-align: top;\n",
       "    }\n",
       "\n",
       "    .dataframe thead th {\n",
       "        text-align: right;\n",
       "    }\n",
       "</style>\n",
       "<table border=\"1\" class=\"dataframe\">\n",
       "  <thead>\n",
       "    <tr style=\"text-align: right;\">\n",
       "      <th></th>\n",
       "      <th>name</th>\n",
       "      <th>class</th>\n",
       "      <th>math_score</th>\n",
       "      <th>english_score</th>\n",
       "      <th>gender</th>\n",
       "      <th>age</th>\n",
       "    </tr>\n",
       "  </thead>\n",
       "  <tbody>\n",
       "    <tr>\n",
       "      <th>0</th>\n",
       "      <td>alex</td>\n",
       "      <td>first</td>\n",
       "      <td>20</td>\n",
       "      <td>30</td>\n",
       "      <td>Male</td>\n",
       "      <td>4</td>\n",
       "    </tr>\n",
       "    <tr>\n",
       "      <th>1</th>\n",
       "      <td>ami</td>\n",
       "      <td>first</td>\n",
       "      <td>20</td>\n",
       "      <td>40</td>\n",
       "      <td>Female</td>\n",
       "      <td>7</td>\n",
       "    </tr>\n",
       "    <tr>\n",
       "      <th>2</th>\n",
       "      <td>ross</td>\n",
       "      <td>second</td>\n",
       "      <td>30</td>\n",
       "      <td>50</td>\n",
       "      <td>Female</td>\n",
       "      <td>8</td>\n",
       "    </tr>\n",
       "    <tr>\n",
       "      <th>3</th>\n",
       "      <td>suzan</td>\n",
       "      <td>second</td>\n",
       "      <td>50</td>\n",
       "      <td>60</td>\n",
       "      <td>Female</td>\n",
       "      <td>9</td>\n",
       "    </tr>\n",
       "    <tr>\n",
       "      <th>4</th>\n",
       "      <td>henry</td>\n",
       "      <td>second</td>\n",
       "      <td>10</td>\n",
       "      <td>20</td>\n",
       "      <td>Male</td>\n",
       "      <td>5</td>\n",
       "    </tr>\n",
       "  </tbody>\n",
       "</table>\n",
       "</div>"
      ],
      "text/plain": [
       "    name   class  math_score  english_score  gender  age\n",
       "0   alex   first          20             30    Male    4\n",
       "1    ami   first          20             40  Female    7\n",
       "2   ross  second          30             50  Female    8\n",
       "3  suzan  second          50             60  Female    9\n",
       "4  henry  second          10             20    Male    5"
      ]
     },
     "execution_count": 89,
     "metadata": {},
     "output_type": "execute_result"
    }
   ],
   "source": [
    "# add a new column to df1 - using the series age\n",
    "# the name of the new column should be age\n",
    "df1['age'] = age\n",
    "\n",
    "# The modified  dataframe is \n",
    "print(f\"The modified dataframe is :\\n\")\n",
    "df1"
   ]
  },
  {
   "cell_type": "markdown",
   "metadata": {
    "id": "uRU8H3UQ7u8D"
   },
   "source": [
    "### <font color = 'dodgerblue'> **Modifying Data using index**"
   ]
  },
  {
   "cell_type": "code",
   "execution_count": 90,
   "metadata": {
    "ExecuteTime": {
     "end_time": "2022-09-04T16:32:48.433300Z",
     "start_time": "2022-09-04T16:32:48.421331Z"
    },
    "colab": {
     "base_uri": "https://localhost:8080/"
    },
    "executionInfo": {
     "elapsed": 109,
     "status": "ok",
     "timestamp": 1661540293538,
     "user": {
      "displayName": "Harpreet SIngh",
      "userId": "15106381096049879330"
     },
     "user_tz": 300
    },
    "id": "ZRBaUq55zUKU",
    "outputId": "d1a03fe5-b0c5-4dde-e7e6-443912583730"
   },
   "outputs": [
    {
     "name": "stdout",
     "output_type": "stream",
     "text": [
      "The modified dataframe is :\n",
      "     name   class  math_score  english_score  gender  age\n",
      "0   alex   first          20             30    Male    4\n",
      "1    ami   first          20             40  Female    7\n",
      "2   ross  second          30             50  Female   20\n",
      "3  suzan  second          50             60  Female    9\n",
      "4  henry  second          10             20    Male    5\n"
     ]
    }
   ],
   "source": [
    "# chnage the age of ross to 20\n",
    "df1.loc[df1.name=='ross','age'] = 20\n",
    "# The modified  dataframe is \n",
    "print(f\"The modified dataframe is :\\n {df1}\")"
   ]
  },
  {
   "cell_type": "markdown",
   "metadata": {
    "id": "ddlaUG7zqXkY"
   },
   "source": [
    "### <font color = 'dodgerblue'> **Modifying Data using numpy ufuncs**\n",
    "Pandas is built over numpy so any NumPy ufunc will work on Pandas Series and DataFrame objects"
   ]
  },
  {
   "cell_type": "code",
   "execution_count": 91,
   "metadata": {
    "ExecuteTime": {
     "end_time": "2022-09-04T16:32:49.903418Z",
     "start_time": "2022-09-04T16:32:49.897434Z"
    },
    "id": "Po9C9WvfrelO"
   },
   "outputs": [],
   "source": [
    "log_scores = np.log(df1.loc[:, ['math_score', 'english_score']])"
   ]
  },
  {
   "cell_type": "code",
   "execution_count": 92,
   "metadata": {
    "ExecuteTime": {
     "end_time": "2022-09-04T16:32:50.257196Z",
     "start_time": "2022-09-04T16:32:50.238282Z"
    },
    "colab": {
     "base_uri": "https://localhost:8080/",
     "height": 206
    },
    "executionInfo": {
     "elapsed": 175,
     "status": "ok",
     "timestamp": 1661540302189,
     "user": {
      "displayName": "Harpreet SIngh",
      "userId": "15106381096049879330"
     },
     "user_tz": 300
    },
    "id": "GJTdEd6X8Zxv",
    "outputId": "653ee5b0-35b6-47bc-f7ca-6b0438866a31"
   },
   "outputs": [
    {
     "data": {
      "text/html": [
       "<div>\n",
       "<style scoped>\n",
       "    .dataframe tbody tr th:only-of-type {\n",
       "        vertical-align: middle;\n",
       "    }\n",
       "\n",
       "    .dataframe tbody tr th {\n",
       "        vertical-align: top;\n",
       "    }\n",
       "\n",
       "    .dataframe thead th {\n",
       "        text-align: right;\n",
       "    }\n",
       "</style>\n",
       "<table border=\"1\" class=\"dataframe\">\n",
       "  <thead>\n",
       "    <tr style=\"text-align: right;\">\n",
       "      <th></th>\n",
       "      <th>math_score</th>\n",
       "      <th>english_score</th>\n",
       "    </tr>\n",
       "  </thead>\n",
       "  <tbody>\n",
       "    <tr>\n",
       "      <th>0</th>\n",
       "      <td>2.995732</td>\n",
       "      <td>3.401197</td>\n",
       "    </tr>\n",
       "    <tr>\n",
       "      <th>1</th>\n",
       "      <td>2.995732</td>\n",
       "      <td>3.688879</td>\n",
       "    </tr>\n",
       "    <tr>\n",
       "      <th>2</th>\n",
       "      <td>3.401197</td>\n",
       "      <td>3.912023</td>\n",
       "    </tr>\n",
       "    <tr>\n",
       "      <th>3</th>\n",
       "      <td>3.912023</td>\n",
       "      <td>4.094345</td>\n",
       "    </tr>\n",
       "    <tr>\n",
       "      <th>4</th>\n",
       "      <td>2.302585</td>\n",
       "      <td>2.995732</td>\n",
       "    </tr>\n",
       "  </tbody>\n",
       "</table>\n",
       "</div>"
      ],
      "text/plain": [
       "   math_score  english_score\n",
       "0    2.995732       3.401197\n",
       "1    2.995732       3.688879\n",
       "2    3.401197       3.912023\n",
       "3    3.912023       4.094345\n",
       "4    2.302585       2.995732"
      ]
     },
     "execution_count": 92,
     "metadata": {},
     "output_type": "execute_result"
    }
   ],
   "source": [
    "log_scores"
   ]
  },
  {
   "cell_type": "markdown",
   "metadata": {
    "id": "-bexmM-lJ_T2"
   },
   "source": [
    "### <font color = 'dodgerblue'> **Modify/Create columns using apply() function**\n",
    "\n",
    "* The apply function allows us to apply any function along an axis of the DataFrame."
   ]
  },
  {
   "cell_type": "code",
   "execution_count": 93,
   "metadata": {
    "ExecuteTime": {
     "end_time": "2022-09-04T16:32:51.309257Z",
     "start_time": "2022-09-04T16:32:51.292644Z"
    },
    "id": "8VB9YyPmnR4R"
   },
   "outputs": [],
   "source": [
    "# Use apply function  to subtract the mean from each column\n",
    "# the apply function will aply same function to all the rows\n",
    "# we can use the lambda function to specify the function\n",
    "\n",
    "df1[['math_score', 'english_score']] = df1[['math_score', 'english_score']].apply(lambda x : (x-x.mean()))"
   ]
  },
  {
   "cell_type": "code",
   "execution_count": 94,
   "metadata": {
    "ExecuteTime": {
     "end_time": "2022-09-04T16:32:52.255892Z",
     "start_time": "2022-09-04T16:32:52.247913Z"
    },
    "colab": {
     "base_uri": "https://localhost:8080/",
     "height": 206
    },
    "executionInfo": {
     "elapsed": 135,
     "status": "ok",
     "timestamp": 1661540331503,
     "user": {
      "displayName": "Harpreet SIngh",
      "userId": "15106381096049879330"
     },
     "user_tz": 300
    },
    "id": "4BMU4z20JjKz",
    "outputId": "2e094abb-5145-4db6-9c22-b3733754f4df"
   },
   "outputs": [
    {
     "data": {
      "text/html": [
       "<div>\n",
       "<style scoped>\n",
       "    .dataframe tbody tr th:only-of-type {\n",
       "        vertical-align: middle;\n",
       "    }\n",
       "\n",
       "    .dataframe tbody tr th {\n",
       "        vertical-align: top;\n",
       "    }\n",
       "\n",
       "    .dataframe thead th {\n",
       "        text-align: right;\n",
       "    }\n",
       "</style>\n",
       "<table border=\"1\" class=\"dataframe\">\n",
       "  <thead>\n",
       "    <tr style=\"text-align: right;\">\n",
       "      <th></th>\n",
       "      <th>name</th>\n",
       "      <th>class</th>\n",
       "      <th>math_score</th>\n",
       "      <th>english_score</th>\n",
       "      <th>gender</th>\n",
       "      <th>age</th>\n",
       "    </tr>\n",
       "  </thead>\n",
       "  <tbody>\n",
       "    <tr>\n",
       "      <th>0</th>\n",
       "      <td>alex</td>\n",
       "      <td>first</td>\n",
       "      <td>-6.0</td>\n",
       "      <td>-10.0</td>\n",
       "      <td>Male</td>\n",
       "      <td>4</td>\n",
       "    </tr>\n",
       "    <tr>\n",
       "      <th>1</th>\n",
       "      <td>ami</td>\n",
       "      <td>first</td>\n",
       "      <td>-6.0</td>\n",
       "      <td>0.0</td>\n",
       "      <td>Female</td>\n",
       "      <td>7</td>\n",
       "    </tr>\n",
       "    <tr>\n",
       "      <th>2</th>\n",
       "      <td>ross</td>\n",
       "      <td>second</td>\n",
       "      <td>4.0</td>\n",
       "      <td>10.0</td>\n",
       "      <td>Female</td>\n",
       "      <td>20</td>\n",
       "    </tr>\n",
       "    <tr>\n",
       "      <th>3</th>\n",
       "      <td>suzan</td>\n",
       "      <td>second</td>\n",
       "      <td>24.0</td>\n",
       "      <td>20.0</td>\n",
       "      <td>Female</td>\n",
       "      <td>9</td>\n",
       "    </tr>\n",
       "    <tr>\n",
       "      <th>4</th>\n",
       "      <td>henry</td>\n",
       "      <td>second</td>\n",
       "      <td>-16.0</td>\n",
       "      <td>-20.0</td>\n",
       "      <td>Male</td>\n",
       "      <td>5</td>\n",
       "    </tr>\n",
       "  </tbody>\n",
       "</table>\n",
       "</div>"
      ],
      "text/plain": [
       "    name   class  math_score  english_score  gender  age\n",
       "0   alex   first        -6.0          -10.0    Male    4\n",
       "1    ami   first        -6.0            0.0  Female    7\n",
       "2   ross  second         4.0           10.0  Female   20\n",
       "3  suzan  second        24.0           20.0  Female    9\n",
       "4  henry  second       -16.0          -20.0    Male    5"
      ]
     },
     "execution_count": 94,
     "metadata": {},
     "output_type": "execute_result"
    }
   ],
   "source": [
    "df1"
   ]
  },
  {
   "cell_type": "code",
   "execution_count": 95,
   "metadata": {
    "ExecuteTime": {
     "end_time": "2022-09-04T16:32:52.994990Z",
     "start_time": "2022-09-04T16:32:52.988007Z"
    },
    "colab": {
     "base_uri": "https://localhost:8080/"
    },
    "executionInfo": {
     "elapsed": 3,
     "status": "ok",
     "timestamp": 1661540356178,
     "user": {
      "displayName": "Harpreet SIngh",
      "userId": "15106381096049879330"
     },
     "user_tz": 300
    },
    "id": "7DJQNF3anp_E",
    "outputId": "189cf1e6-a974-4f8a-e302-153bb62007fc"
   },
   "outputs": [
    {
     "name": "stdout",
     "output_type": "stream",
     "text": [
      "the new dataframe is \n",
      "    review_id               text\n",
      "0         10     MOVIE was good\n",
      "1         45     it was AMAZING\n",
      "2         26            horible\n",
      "3         36          EXCELLENT\n",
      "4         78   WIll watch again\n",
      "5         46  DO not waste time\n"
     ]
    }
   ],
   "source": [
    "# create a new datafarme\n",
    "my_arr = {'review_id' :[10, 45, 26, 36, 78, 46],\n",
    "          'text' :['MOVIE was good', 'it was AMAZING', 'horible', 'EXCELLENT', 'WIll watch again', 'DO not waste time']\n",
    "          }\n",
    "df_review = pd.DataFrame(data = my_arr)\n",
    "print(f\"the new dataframe is \\n {df_review}\")"
   ]
  },
  {
   "cell_type": "code",
   "execution_count": 96,
   "metadata": {
    "ExecuteTime": {
     "end_time": "2022-09-04T16:32:54.158883Z",
     "start_time": "2022-09-04T16:32:54.147879Z"
    },
    "colab": {
     "base_uri": "https://localhost:8080/",
     "height": 237
    },
    "executionInfo": {
     "elapsed": 151,
     "status": "ok",
     "timestamp": 1661540343165,
     "user": {
      "displayName": "Harpreet SIngh",
      "userId": "15106381096049879330"
     },
     "user_tz": 300
    },
    "id": "UIkaxpn2owAy",
    "outputId": "e33f1481-f1ad-4320-d1cb-842f41e559e7"
   },
   "outputs": [
    {
     "data": {
      "text/html": [
       "<div>\n",
       "<style scoped>\n",
       "    .dataframe tbody tr th:only-of-type {\n",
       "        vertical-align: middle;\n",
       "    }\n",
       "\n",
       "    .dataframe tbody tr th {\n",
       "        vertical-align: top;\n",
       "    }\n",
       "\n",
       "    .dataframe thead th {\n",
       "        text-align: right;\n",
       "    }\n",
       "</style>\n",
       "<table border=\"1\" class=\"dataframe\">\n",
       "  <thead>\n",
       "    <tr style=\"text-align: right;\">\n",
       "      <th></th>\n",
       "      <th>review_id</th>\n",
       "      <th>text</th>\n",
       "      <th>text_lower</th>\n",
       "    </tr>\n",
       "  </thead>\n",
       "  <tbody>\n",
       "    <tr>\n",
       "      <th>0</th>\n",
       "      <td>10</td>\n",
       "      <td>MOVIE was good</td>\n",
       "      <td>movie was good</td>\n",
       "    </tr>\n",
       "    <tr>\n",
       "      <th>1</th>\n",
       "      <td>45</td>\n",
       "      <td>it was AMAZING</td>\n",
       "      <td>it was amazing</td>\n",
       "    </tr>\n",
       "    <tr>\n",
       "      <th>2</th>\n",
       "      <td>26</td>\n",
       "      <td>horible</td>\n",
       "      <td>horible</td>\n",
       "    </tr>\n",
       "    <tr>\n",
       "      <th>3</th>\n",
       "      <td>36</td>\n",
       "      <td>EXCELLENT</td>\n",
       "      <td>excellent</td>\n",
       "    </tr>\n",
       "    <tr>\n",
       "      <th>4</th>\n",
       "      <td>78</td>\n",
       "      <td>WIll watch again</td>\n",
       "      <td>will watch again</td>\n",
       "    </tr>\n",
       "    <tr>\n",
       "      <th>5</th>\n",
       "      <td>46</td>\n",
       "      <td>DO not waste time</td>\n",
       "      <td>do not waste time</td>\n",
       "    </tr>\n",
       "  </tbody>\n",
       "</table>\n",
       "</div>"
      ],
      "text/plain": [
       "   review_id               text         text_lower\n",
       "0         10     MOVIE was good     movie was good\n",
       "1         45     it was AMAZING     it was amazing\n",
       "2         26            horible            horible\n",
       "3         36          EXCELLENT          excellent\n",
       "4         78   WIll watch again   will watch again\n",
       "5         46  DO not waste time  do not waste time"
      ]
     },
     "execution_count": 96,
     "metadata": {},
     "output_type": "execute_result"
    }
   ],
   "source": [
    "# use apply function to create a new column with lowercase test\n",
    "\n",
    "df_review['text_lower'] = df_review['text'].apply(lambda x: x.lower())\n",
    "df_review"
   ]
  },
  {
   "cell_type": "markdown",
   "metadata": {
    "id": "NT_JHWJWF8hk"
   },
   "source": [
    "### <font color = 'dodgerblue'> **Use filter() function to select subset of the data**\n",
    "Subset the dataframe rows or columns according to the specified index labels."
   ]
  },
  {
   "cell_type": "code",
   "execution_count": 97,
   "metadata": {
    "ExecuteTime": {
     "end_time": "2022-09-04T16:32:55.404384Z",
     "start_time": "2022-09-04T16:32:55.396406Z"
    },
    "colab": {
     "base_uri": "https://localhost:8080/",
     "height": 206
    },
    "executionInfo": {
     "elapsed": 119,
     "status": "ok",
     "timestamp": 1661540366421,
     "user": {
      "displayName": "Harpreet SIngh",
      "userId": "15106381096049879330"
     },
     "user_tz": 300
    },
    "id": "6k-Kp8EPpU62",
    "outputId": "f2087aba-406b-40cf-cc62-e9f842750ac7"
   },
   "outputs": [
    {
     "data": {
      "text/html": [
       "<div>\n",
       "<style scoped>\n",
       "    .dataframe tbody tr th:only-of-type {\n",
       "        vertical-align: middle;\n",
       "    }\n",
       "\n",
       "    .dataframe tbody tr th {\n",
       "        vertical-align: top;\n",
       "    }\n",
       "\n",
       "    .dataframe thead th {\n",
       "        text-align: right;\n",
       "    }\n",
       "</style>\n",
       "<table border=\"1\" class=\"dataframe\">\n",
       "  <thead>\n",
       "    <tr style=\"text-align: right;\">\n",
       "      <th></th>\n",
       "      <th>math_score</th>\n",
       "      <th>english_score</th>\n",
       "    </tr>\n",
       "  </thead>\n",
       "  <tbody>\n",
       "    <tr>\n",
       "      <th>0</th>\n",
       "      <td>-6.0</td>\n",
       "      <td>-10.0</td>\n",
       "    </tr>\n",
       "    <tr>\n",
       "      <th>1</th>\n",
       "      <td>-6.0</td>\n",
       "      <td>0.0</td>\n",
       "    </tr>\n",
       "    <tr>\n",
       "      <th>2</th>\n",
       "      <td>4.0</td>\n",
       "      <td>10.0</td>\n",
       "    </tr>\n",
       "    <tr>\n",
       "      <th>3</th>\n",
       "      <td>24.0</td>\n",
       "      <td>20.0</td>\n",
       "    </tr>\n",
       "    <tr>\n",
       "      <th>4</th>\n",
       "      <td>-16.0</td>\n",
       "      <td>-20.0</td>\n",
       "    </tr>\n",
       "  </tbody>\n",
       "</table>\n",
       "</div>"
      ],
      "text/plain": [
       "   math_score  english_score\n",
       "0        -6.0          -10.0\n",
       "1        -6.0            0.0\n",
       "2         4.0           10.0\n",
       "3        24.0           20.0\n",
       "4       -16.0          -20.0"
      ]
     },
     "execution_count": 97,
     "metadata": {},
     "output_type": "execute_result"
    }
   ],
   "source": [
    "# select columns by column names\n",
    "df1.filter(items = ['math_score', 'english_score'])"
   ]
  },
  {
   "cell_type": "code",
   "execution_count": 98,
   "metadata": {
    "ExecuteTime": {
     "end_time": "2022-09-04T16:32:55.912368Z",
     "start_time": "2022-09-04T16:32:55.902395Z"
    },
    "colab": {
     "base_uri": "https://localhost:8080/",
     "height": 206
    },
    "executionInfo": {
     "elapsed": 122,
     "status": "ok",
     "timestamp": 1661540369113,
     "user": {
      "displayName": "Harpreet SIngh",
      "userId": "15106381096049879330"
     },
     "user_tz": 300
    },
    "id": "8d_LcaSEj2UU",
    "outputId": "8dcb38ac-8348-424f-afc7-534f2ed30285"
   },
   "outputs": [
    {
     "data": {
      "text/html": [
       "<div>\n",
       "<style scoped>\n",
       "    .dataframe tbody tr th:only-of-type {\n",
       "        vertical-align: middle;\n",
       "    }\n",
       "\n",
       "    .dataframe tbody tr th {\n",
       "        vertical-align: top;\n",
       "    }\n",
       "\n",
       "    .dataframe thead th {\n",
       "        text-align: right;\n",
       "    }\n",
       "</style>\n",
       "<table border=\"1\" class=\"dataframe\">\n",
       "  <thead>\n",
       "    <tr style=\"text-align: right;\">\n",
       "      <th></th>\n",
       "      <th>math_score</th>\n",
       "      <th>english_score</th>\n",
       "    </tr>\n",
       "  </thead>\n",
       "  <tbody>\n",
       "    <tr>\n",
       "      <th>0</th>\n",
       "      <td>-6.0</td>\n",
       "      <td>-10.0</td>\n",
       "    </tr>\n",
       "    <tr>\n",
       "      <th>1</th>\n",
       "      <td>-6.0</td>\n",
       "      <td>0.0</td>\n",
       "    </tr>\n",
       "    <tr>\n",
       "      <th>2</th>\n",
       "      <td>4.0</td>\n",
       "      <td>10.0</td>\n",
       "    </tr>\n",
       "    <tr>\n",
       "      <th>3</th>\n",
       "      <td>24.0</td>\n",
       "      <td>20.0</td>\n",
       "    </tr>\n",
       "    <tr>\n",
       "      <th>4</th>\n",
       "      <td>-16.0</td>\n",
       "      <td>-20.0</td>\n",
       "    </tr>\n",
       "  </tbody>\n",
       "</table>\n",
       "</div>"
      ],
      "text/plain": [
       "   math_score  english_score\n",
       "0        -6.0          -10.0\n",
       "1        -6.0            0.0\n",
       "2         4.0           10.0\n",
       "3        24.0           20.0\n",
       "4       -16.0          -20.0"
      ]
     },
     "execution_count": 98,
     "metadata": {},
     "output_type": "execute_result"
    }
   ],
   "source": [
    "# select columns by regular expression\n",
    "df1.filter(regex = '.*score', axis =1)"
   ]
  },
  {
   "cell_type": "markdown",
   "metadata": {
    "id": "1bRWPk4b5dQO"
   },
   "source": [
    "### <font color = 'dodgerblue'> **Modify/create columns using Binary operations**"
   ]
  },
  {
   "cell_type": "code",
   "execution_count": 99,
   "metadata": {
    "ExecuteTime": {
     "end_time": "2022-09-04T16:32:57.612720Z",
     "start_time": "2022-09-04T16:32:57.594285Z"
    },
    "colab": {
     "base_uri": "https://localhost:8080/"
    },
    "executionInfo": {
     "elapsed": 105,
     "status": "ok",
     "timestamp": 1661540379159,
     "user": {
      "displayName": "Harpreet SIngh",
      "userId": "15106381096049879330"
     },
     "user_tz": 300
    },
    "id": "WBayBdkp1HXl",
    "outputId": "c1d112d2-f8fa-48a3-c64a-09345da732a5"
   },
   "outputs": [
    {
     "name": "stdout",
     "output_type": "stream",
     "text": [
      "The modified dataframe is :\n",
      "     name   class  math_score  english_score  gender  age  total_score\n",
      "0   alex   first        -6.0          -10.0    Male    4        -16.0\n",
      "1    ami   first        -6.0            0.0  Female    7         -6.0\n",
      "2   ross  second         4.0           10.0  Female   20         14.0\n",
      "3  suzan  second        24.0           20.0  Female    9         44.0\n",
      "4  henry  second       -16.0          -20.0    Male    5        -36.0\n"
     ]
    }
   ],
   "source": [
    "# add a new column which gives the total score (math score + english score)\n",
    "df1['total_score'] = df1['math_score'] + df1['english_score']\n",
    "# The modified  dataframe is \n",
    "print(f\"The modified dataframe is :\\n {df1}\")"
   ]
  },
  {
   "cell_type": "code",
   "execution_count": 100,
   "metadata": {
    "ExecuteTime": {
     "end_time": "2022-09-04T16:32:57.780469Z",
     "start_time": "2022-09-04T16:32:57.761494Z"
    },
    "id": "SbbISvv2mDko"
   },
   "outputs": [],
   "source": [
    "# we can achieve this using the eval function as well\n",
    "# eval function can be used to evaluate any matahematical operations\n",
    "# using dataframe column names\n",
    "df1['total_score'] = df1.eval('math_score + english_score')"
   ]
  },
  {
   "cell_type": "code",
   "execution_count": 101,
   "metadata": {
    "ExecuteTime": {
     "end_time": "2022-09-04T16:32:58.487062Z",
     "start_time": "2022-09-04T16:32:58.467116Z"
    },
    "colab": {
     "base_uri": "https://localhost:8080/",
     "height": 206
    },
    "executionInfo": {
     "elapsed": 116,
     "status": "ok",
     "timestamp": 1661540393646,
     "user": {
      "displayName": "Harpreet SIngh",
      "userId": "15106381096049879330"
     },
     "user_tz": 300
    },
    "id": "Sl9wCrZWmTyz",
    "outputId": "5c6ccf16-a6fc-4e93-b13a-37be84ddd56e"
   },
   "outputs": [
    {
     "data": {
      "text/html": [
       "<div>\n",
       "<style scoped>\n",
       "    .dataframe tbody tr th:only-of-type {\n",
       "        vertical-align: middle;\n",
       "    }\n",
       "\n",
       "    .dataframe tbody tr th {\n",
       "        vertical-align: top;\n",
       "    }\n",
       "\n",
       "    .dataframe thead th {\n",
       "        text-align: right;\n",
       "    }\n",
       "</style>\n",
       "<table border=\"1\" class=\"dataframe\">\n",
       "  <thead>\n",
       "    <tr style=\"text-align: right;\">\n",
       "      <th></th>\n",
       "      <th>name</th>\n",
       "      <th>class</th>\n",
       "      <th>math_score</th>\n",
       "      <th>english_score</th>\n",
       "      <th>gender</th>\n",
       "      <th>age</th>\n",
       "      <th>total_score</th>\n",
       "    </tr>\n",
       "  </thead>\n",
       "  <tbody>\n",
       "    <tr>\n",
       "      <th>0</th>\n",
       "      <td>alex</td>\n",
       "      <td>first</td>\n",
       "      <td>-6.0</td>\n",
       "      <td>-10.0</td>\n",
       "      <td>Male</td>\n",
       "      <td>4</td>\n",
       "      <td>-16.0</td>\n",
       "    </tr>\n",
       "    <tr>\n",
       "      <th>1</th>\n",
       "      <td>ami</td>\n",
       "      <td>first</td>\n",
       "      <td>-6.0</td>\n",
       "      <td>0.0</td>\n",
       "      <td>Female</td>\n",
       "      <td>7</td>\n",
       "      <td>-6.0</td>\n",
       "    </tr>\n",
       "    <tr>\n",
       "      <th>2</th>\n",
       "      <td>ross</td>\n",
       "      <td>second</td>\n",
       "      <td>4.0</td>\n",
       "      <td>10.0</td>\n",
       "      <td>Female</td>\n",
       "      <td>20</td>\n",
       "      <td>14.0</td>\n",
       "    </tr>\n",
       "    <tr>\n",
       "      <th>3</th>\n",
       "      <td>suzan</td>\n",
       "      <td>second</td>\n",
       "      <td>24.0</td>\n",
       "      <td>20.0</td>\n",
       "      <td>Female</td>\n",
       "      <td>9</td>\n",
       "      <td>44.0</td>\n",
       "    </tr>\n",
       "    <tr>\n",
       "      <th>4</th>\n",
       "      <td>henry</td>\n",
       "      <td>second</td>\n",
       "      <td>-16.0</td>\n",
       "      <td>-20.0</td>\n",
       "      <td>Male</td>\n",
       "      <td>5</td>\n",
       "      <td>-36.0</td>\n",
       "    </tr>\n",
       "  </tbody>\n",
       "</table>\n",
       "</div>"
      ],
      "text/plain": [
       "    name   class  math_score  english_score  gender  age  total_score\n",
       "0   alex   first        -6.0          -10.0    Male    4        -16.0\n",
       "1    ami   first        -6.0            0.0  Female    7         -6.0\n",
       "2   ross  second         4.0           10.0  Female   20         14.0\n",
       "3  suzan  second        24.0           20.0  Female    9         44.0\n",
       "4  henry  second       -16.0          -20.0    Male    5        -36.0"
      ]
     },
     "execution_count": 101,
     "metadata": {},
     "output_type": "execute_result"
    }
   ],
   "source": [
    "df1"
   ]
  },
  {
   "cell_type": "code",
   "execution_count": 102,
   "metadata": {
    "ExecuteTime": {
     "end_time": "2022-09-04T16:32:59.566716Z",
     "start_time": "2022-09-04T16:32:59.548392Z"
    },
    "id": "InKZXJ_O9Dy_"
   },
   "outputs": [],
   "source": [
    "# operation between two series with different index\n",
    "my_ser1 = pd.Series(data = [1, 2, 3, 4], index = ['A', 'B','C', 'D'])\n",
    "my_ser2 = pd.Series(data = [5, 6, 7, 8], index = ['A', 'B','C', 'F'])"
   ]
  },
  {
   "cell_type": "code",
   "execution_count": 103,
   "metadata": {
    "ExecuteTime": {
     "end_time": "2022-09-04T16:32:59.908383Z",
     "start_time": "2022-09-04T16:32:59.897408Z"
    },
    "colab": {
     "base_uri": "https://localhost:8080/"
    },
    "executionInfo": {
     "elapsed": 106,
     "status": "ok",
     "timestamp": 1661540399391,
     "user": {
      "displayName": "Harpreet SIngh",
      "userId": "15106381096049879330"
     },
     "user_tz": 300
    },
    "id": "2qACcOlJ9iEy",
    "outputId": "e067ebf5-4519-4ec9-fa2f-855883aa8290"
   },
   "outputs": [
    {
     "data": {
      "text/plain": [
       "A     6.0\n",
       "B     8.0\n",
       "C    10.0\n",
       "D     NaN\n",
       "F     NaN\n",
       "dtype: float64"
      ]
     },
     "execution_count": 103,
     "metadata": {},
     "output_type": "execute_result"
    }
   ],
   "source": [
    "my_ser1.add(my_ser2)"
   ]
  },
  {
   "cell_type": "markdown",
   "metadata": {
    "id": "XI3t-EF390sr"
   },
   "source": [
    "<font color = 'red'> **Note:** </font>\n",
    "<font color = 'aqua'>\n",
    "As we can see from above operation, when we add series or dataframes, Pandas will allign the indices in performing  binary operations. The resulting index will be a union of the two indices."
   ]
  },
  {
   "cell_type": "code",
   "execution_count": 104,
   "metadata": {
    "ExecuteTime": {
     "end_time": "2022-09-04T16:33:00.724401Z",
     "start_time": "2022-09-04T16:33:00.716423Z"
    },
    "colab": {
     "base_uri": "https://localhost:8080/",
     "height": 143
    },
    "executionInfo": {
     "elapsed": 113,
     "status": "ok",
     "timestamp": 1661540409576,
     "user": {
      "displayName": "Harpreet SIngh",
      "userId": "15106381096049879330"
     },
     "user_tz": 300
    },
    "id": "R8RMtaBy-Rfk",
    "outputId": "8503cffc-7294-4f36-aa58-dae905265649"
   },
   "outputs": [
    {
     "data": {
      "text/html": [
       "<div>\n",
       "<style scoped>\n",
       "    .dataframe tbody tr th:only-of-type {\n",
       "        vertical-align: middle;\n",
       "    }\n",
       "\n",
       "    .dataframe tbody tr th {\n",
       "        vertical-align: top;\n",
       "    }\n",
       "\n",
       "    .dataframe thead th {\n",
       "        text-align: right;\n",
       "    }\n",
       "</style>\n",
       "<table border=\"1\" class=\"dataframe\">\n",
       "  <thead>\n",
       "    <tr style=\"text-align: right;\">\n",
       "      <th></th>\n",
       "      <th>A</th>\n",
       "      <th>B</th>\n",
       "      <th>C</th>\n",
       "      <th>D</th>\n",
       "    </tr>\n",
       "  </thead>\n",
       "  <tbody>\n",
       "    <tr>\n",
       "      <th>0</th>\n",
       "      <td>0</td>\n",
       "      <td>1</td>\n",
       "      <td>2</td>\n",
       "      <td>3</td>\n",
       "    </tr>\n",
       "    <tr>\n",
       "      <th>1</th>\n",
       "      <td>4</td>\n",
       "      <td>5</td>\n",
       "      <td>6</td>\n",
       "      <td>7</td>\n",
       "    </tr>\n",
       "    <tr>\n",
       "      <th>2</th>\n",
       "      <td>8</td>\n",
       "      <td>9</td>\n",
       "      <td>10</td>\n",
       "      <td>11</td>\n",
       "    </tr>\n",
       "  </tbody>\n",
       "</table>\n",
       "</div>"
      ],
      "text/plain": [
       "   A  B   C   D\n",
       "0  0  1   2   3\n",
       "1  4  5   6   7\n",
       "2  8  9  10  11"
      ]
     },
     "execution_count": 104,
     "metadata": {},
     "output_type": "execute_result"
    }
   ],
   "source": [
    "# Operation with datafarmes/series  of different sizes\n",
    "# similar to broadcasting in numpy\n",
    "data = np.arange(12).reshape(3, 4)\n",
    "df = pd.DataFrame(data = data, columns = ['A', 'B','C', 'D'])\n",
    "df"
   ]
  },
  {
   "cell_type": "code",
   "execution_count": 105,
   "metadata": {
    "ExecuteTime": {
     "end_time": "2022-09-04T16:33:01.124459Z",
     "start_time": "2022-09-04T16:33:01.117476Z"
    },
    "colab": {
     "base_uri": "https://localhost:8080/"
    },
    "executionInfo": {
     "elapsed": 108,
     "status": "ok",
     "timestamp": 1661540416493,
     "user": {
      "displayName": "Harpreet SIngh",
      "userId": "15106381096049879330"
     },
     "user_tz": 300
    },
    "id": "PEkomqXc_qyH",
    "outputId": "1286b212-4036-4c69-d2e7-026b6e803b75"
   },
   "outputs": [
    {
     "data": {
      "text/plain": [
       "A    0\n",
       "B    1\n",
       "C    2\n",
       "D    3\n",
       "Name: 0, dtype: int32"
      ]
     },
     "execution_count": 105,
     "metadata": {},
     "output_type": "execute_result"
    }
   ],
   "source": [
    "# subtracting row from a dataframe\n",
    "# let us first select a row\n",
    "row = df.iloc[0, :]\n",
    "row"
   ]
  },
  {
   "cell_type": "code",
   "execution_count": 106,
   "metadata": {
    "ExecuteTime": {
     "end_time": "2022-09-04T16:33:02.167375Z",
     "start_time": "2022-09-04T16:33:02.149423Z"
    },
    "colab": {
     "base_uri": "https://localhost:8080/",
     "height": 143
    },
    "executionInfo": {
     "elapsed": 121,
     "status": "ok",
     "timestamp": 1661540418688,
     "user": {
      "displayName": "Harpreet SIngh",
      "userId": "15106381096049879330"
     },
     "user_tz": 300
    },
    "id": "v-vJFLkvObLS",
    "outputId": "166671cd-16b6-448d-ff23-5587a4bac9eb"
   },
   "outputs": [
    {
     "data": {
      "text/html": [
       "<div>\n",
       "<style scoped>\n",
       "    .dataframe tbody tr th:only-of-type {\n",
       "        vertical-align: middle;\n",
       "    }\n",
       "\n",
       "    .dataframe tbody tr th {\n",
       "        vertical-align: top;\n",
       "    }\n",
       "\n",
       "    .dataframe thead th {\n",
       "        text-align: right;\n",
       "    }\n",
       "</style>\n",
       "<table border=\"1\" class=\"dataframe\">\n",
       "  <thead>\n",
       "    <tr style=\"text-align: right;\">\n",
       "      <th></th>\n",
       "      <th>A</th>\n",
       "      <th>B</th>\n",
       "      <th>C</th>\n",
       "      <th>D</th>\n",
       "    </tr>\n",
       "  </thead>\n",
       "  <tbody>\n",
       "    <tr>\n",
       "      <th>0</th>\n",
       "      <td>0</td>\n",
       "      <td>0</td>\n",
       "      <td>0</td>\n",
       "      <td>0</td>\n",
       "    </tr>\n",
       "    <tr>\n",
       "      <th>1</th>\n",
       "      <td>4</td>\n",
       "      <td>4</td>\n",
       "      <td>4</td>\n",
       "      <td>4</td>\n",
       "    </tr>\n",
       "    <tr>\n",
       "      <th>2</th>\n",
       "      <td>8</td>\n",
       "      <td>8</td>\n",
       "      <td>8</td>\n",
       "      <td>8</td>\n",
       "    </tr>\n",
       "  </tbody>\n",
       "</table>\n",
       "</div>"
      ],
      "text/plain": [
       "   A  B  C  D\n",
       "0  0  0  0  0\n",
       "1  4  4  4  4\n",
       "2  8  8  8  8"
      ]
     },
     "execution_count": 106,
     "metadata": {},
     "output_type": "execute_result"
    }
   ],
   "source": [
    "# For rows, we have  to match the series and dataframes along columns\n",
    "# hence in sub() we will specify axis = 1\n",
    "df_row_sub  = df.sub(row, axis=1)\n",
    "df_row_sub"
   ]
  },
  {
   "cell_type": "code",
   "execution_count": 107,
   "metadata": {
    "ExecuteTime": {
     "end_time": "2022-09-04T16:33:02.338248Z",
     "start_time": "2022-09-04T16:33:02.323288Z"
    },
    "colab": {
     "base_uri": "https://localhost:8080/"
    },
    "executionInfo": {
     "elapsed": 101,
     "status": "ok",
     "timestamp": 1661540421770,
     "user": {
      "displayName": "Harpreet SIngh",
      "userId": "15106381096049879330"
     },
     "user_tz": 300
    },
    "id": "Rt6m66ekAcgR",
    "outputId": "08bc1741-71f8-4960-d1ce-0d80c26a9769"
   },
   "outputs": [
    {
     "data": {
      "text/plain": [
       "0    0\n",
       "1    4\n",
       "2    8\n",
       "Name: A, dtype: int32"
      ]
     },
     "execution_count": 107,
     "metadata": {},
     "output_type": "execute_result"
    }
   ],
   "source": [
    "# subtracting column from a dataframe\n",
    "# let us select a column first\n",
    "col = df.iloc[:, 0]\n",
    "col"
   ]
  },
  {
   "cell_type": "code",
   "execution_count": 108,
   "metadata": {
    "ExecuteTime": {
     "end_time": "2022-09-04T16:33:02.893345Z",
     "start_time": "2022-09-04T16:33:02.873944Z"
    },
    "colab": {
     "base_uri": "https://localhost:8080/",
     "height": 143
    },
    "executionInfo": {
     "elapsed": 106,
     "status": "ok",
     "timestamp": 1661540429688,
     "user": {
      "displayName": "Harpreet SIngh",
      "userId": "15106381096049879330"
     },
     "user_tz": 300
    },
    "id": "DB7nrwcAPzzD",
    "outputId": "2641041c-f75b-4a9b-a1d9-91adaa8ee786"
   },
   "outputs": [
    {
     "data": {
      "text/html": [
       "<div>\n",
       "<style scoped>\n",
       "    .dataframe tbody tr th:only-of-type {\n",
       "        vertical-align: middle;\n",
       "    }\n",
       "\n",
       "    .dataframe tbody tr th {\n",
       "        vertical-align: top;\n",
       "    }\n",
       "\n",
       "    .dataframe thead th {\n",
       "        text-align: right;\n",
       "    }\n",
       "</style>\n",
       "<table border=\"1\" class=\"dataframe\">\n",
       "  <thead>\n",
       "    <tr style=\"text-align: right;\">\n",
       "      <th></th>\n",
       "      <th>A</th>\n",
       "      <th>B</th>\n",
       "      <th>C</th>\n",
       "      <th>D</th>\n",
       "    </tr>\n",
       "  </thead>\n",
       "  <tbody>\n",
       "    <tr>\n",
       "      <th>0</th>\n",
       "      <td>0</td>\n",
       "      <td>1</td>\n",
       "      <td>2</td>\n",
       "      <td>3</td>\n",
       "    </tr>\n",
       "    <tr>\n",
       "      <th>1</th>\n",
       "      <td>0</td>\n",
       "      <td>1</td>\n",
       "      <td>2</td>\n",
       "      <td>3</td>\n",
       "    </tr>\n",
       "    <tr>\n",
       "      <th>2</th>\n",
       "      <td>0</td>\n",
       "      <td>1</td>\n",
       "      <td>2</td>\n",
       "      <td>3</td>\n",
       "    </tr>\n",
       "  </tbody>\n",
       "</table>\n",
       "</div>"
      ],
      "text/plain": [
       "   A  B  C  D\n",
       "0  0  1  2  3\n",
       "1  0  1  2  3\n",
       "2  0  1  2  3"
      ]
     },
     "execution_count": 108,
     "metadata": {},
     "output_type": "execute_result"
    }
   ],
   "source": [
    "# For columns we have  to match the series and dataframes along rows (index)\n",
    "# hence in sub() we will specify axis = 1\n",
    "df_col_sub  = df.sub(df.iloc[:, 0], axis=0)\n",
    "df_col_sub"
   ]
  },
  {
   "cell_type": "markdown",
   "metadata": {
    "id": "0O4yWELnj_p-"
   },
   "source": [
    "### <font color = 'dodgerblue'>**Deleting rows/columns**\n",
    "We can delete the rows/columns by using the drop() method.\n",
    "\n",
    "**Syntax**:\n",
    "\n",
    "\n",
    "```\n",
    "    DataFrame.drop(index,columns, inplace = True/False)\n",
    "```\n",
    "* The index is the index of row to be deleted; columns: is used to specify column names to be deleted.\n",
    "\n",
    "* If we keep inplace value as **True** then the changes will be applied to the dataframe.\n",
    "* Otherwise it will just create a temporary view of the result."
   ]
  },
  {
   "cell_type": "code",
   "execution_count": 109,
   "metadata": {
    "ExecuteTime": {
     "end_time": "2022-09-04T16:33:04.197435Z",
     "start_time": "2022-09-04T16:33:04.189460Z"
    },
    "colab": {
     "base_uri": "https://localhost:8080/"
    },
    "executionInfo": {
     "elapsed": 138,
     "status": "ok",
     "timestamp": 1661540562005,
     "user": {
      "displayName": "Harpreet SIngh",
      "userId": "15106381096049879330"
     },
     "user_tz": 300
    },
    "id": "Ld9KKpSLjeZB",
    "outputId": "02d7033f-6e4a-46ac-f5c5-66b9bfd507b0"
   },
   "outputs": [
    {
     "name": "stdout",
     "output_type": "stream",
     "text": [
      "My dataframe is \n",
      "     name   class  math_score  english_score  gender  age  total_score\n",
      "0   alex   first        -6.0          -10.0    Male    4        -16.0\n",
      "1    ami   first        -6.0            0.0  Female    7         -6.0\n",
      "2   ross  second         4.0           10.0  Female   20         14.0\n",
      "3  suzan  second        24.0           20.0  Female    9         44.0\n",
      "4  henry  second       -16.0          -20.0    Male    5        -36.0\n"
     ]
    }
   ],
   "source": [
    "# Deleting rows/columns\n",
    "# lets consider the dataframe mentioned above\n",
    "\n",
    "df1_copy = df1.copy()\n",
    "print(f\"My dataframe is \\n {df1_copy}\")"
   ]
  },
  {
   "cell_type": "code",
   "execution_count": 110,
   "metadata": {
    "ExecuteTime": {
     "end_time": "2022-09-04T16:33:04.645206Z",
     "start_time": "2022-09-04T16:33:04.625259Z"
    },
    "colab": {
     "base_uri": "https://localhost:8080/"
    },
    "executionInfo": {
     "elapsed": 127,
     "status": "ok",
     "timestamp": 1661540567125,
     "user": {
      "displayName": "Harpreet SIngh",
      "userId": "15106381096049879330"
     },
     "user_tz": 300
    },
    "id": "3rE0iuPv1ip5",
    "outputId": "4718c77f-605d-49a3-e250-0eb030e8d38f"
   },
   "outputs": [
    {
     "name": "stdout",
     "output_type": "stream",
     "text": [
      "The new dataframe is \n",
      "     name   class  math_score  english_score  gender  total_score\n",
      "0   alex   first        -6.0          -10.0    Male        -16.0\n",
      "2   ross  second         4.0           10.0  Female         14.0\n",
      "3  suzan  second        24.0           20.0  Female         44.0\n",
      "4  henry  second       -16.0          -20.0    Male        -36.0\n"
     ]
    }
   ],
   "source": [
    "# remove second row and column age\n",
    "df1_copy.drop(index = 1, columns ='age', inplace = True)\n",
    "print(f\"The new dataframe is \\n {df1_copy}\")"
   ]
  },
  {
   "cell_type": "code",
   "execution_count": 111,
   "metadata": {
    "ExecuteTime": {
     "end_time": "2022-09-04T16:33:04.969705Z",
     "start_time": "2022-09-04T16:33:04.958172Z"
    },
    "colab": {
     "base_uri": "https://localhost:8080/"
    },
    "executionInfo": {
     "elapsed": 109,
     "status": "ok",
     "timestamp": 1661540569257,
     "user": {
      "displayName": "Harpreet SIngh",
      "userId": "15106381096049879330"
     },
     "user_tz": 300
    },
    "id": "IjOdlAKKKyDp",
    "outputId": "672cfaae-225d-414d-87a2-61f793a5e5e8"
   },
   "outputs": [
    {
     "name": "stdout",
     "output_type": "stream",
     "text": [
      "The new dataframe is \n",
      "     name   class  english_score  gender  total_score\n",
      "0   alex   first          -10.0    Male        -16.0\n",
      "2   ross  second           10.0  Female         14.0\n",
      "3  suzan  second           20.0  Female         44.0\n",
      "4  henry  second          -20.0    Male        -36.0\n"
     ]
    }
   ],
   "source": [
    "# remove math_score_column\n",
    "df1_copy.drop( columns ='math_score', inplace = True)\n",
    "print(f\"The new dataframe is \\n {df1_copy}\")"
   ]
  },
  {
   "cell_type": "markdown",
   "metadata": {
    "id": "dKXBk0timkX9"
   },
   "source": [
    "### <font color = 'dodgerblue'> **Truncate a data from before or after some specified index**\n",
    "We can truncate the data between some specific index and return the required data.\n",
    "\n",
    "**Syntax** :\n",
    "\n",
    "\n",
    "```\n",
    "DataFrame.truncate(before, after, axis)\n",
    "```\n",
    "where, we can mention the before or after index to truncate data.\n"
   ]
  },
  {
   "cell_type": "code",
   "execution_count": 112,
   "metadata": {
    "ExecuteTime": {
     "end_time": "2022-09-04T16:33:06.422453Z",
     "start_time": "2022-09-04T16:33:06.405499Z"
    },
    "colab": {
     "base_uri": "https://localhost:8080/"
    },
    "executionInfo": {
     "elapsed": 132,
     "status": "ok",
     "timestamp": 1661540584627,
     "user": {
      "displayName": "Harpreet SIngh",
      "userId": "15106381096049879330"
     },
     "user_tz": 300
    },
    "id": "smzhGoS5f0wR",
    "outputId": "82441857-211a-4362-f70d-e377bdfc75d5"
   },
   "outputs": [
    {
     "name": "stdout",
     "output_type": "stream",
     "text": [
      "My dataframe is :\n",
      "     name   class  math_score  english_score  gender  age  total_score\n",
      "0   alex   first        -6.0          -10.0    Male    4        -16.0\n",
      "1    ami   first        -6.0            0.0  Female    7         -6.0\n",
      "2   ross  second         4.0           10.0  Female   20         14.0\n",
      "3  suzan  second        24.0           20.0  Female    9         44.0\n",
      "4  henry  second       -16.0          -20.0    Male    5        -36.0\n"
     ]
    }
   ],
   "source": [
    "print(f\"My dataframe is :\\n {df1}\")"
   ]
  },
  {
   "cell_type": "code",
   "execution_count": 113,
   "metadata": {
    "ExecuteTime": {
     "end_time": "2022-09-04T16:33:07.426374Z",
     "start_time": "2022-09-04T16:33:07.417398Z"
    },
    "colab": {
     "base_uri": "https://localhost:8080/"
    },
    "executionInfo": {
     "elapsed": 124,
     "status": "ok",
     "timestamp": 1661540588113,
     "user": {
      "displayName": "Harpreet SIngh",
      "userId": "15106381096049879330"
     },
     "user_tz": 300
    },
    "id": "bab10xx9m5Oq",
    "outputId": "61000b19-46d6-47b6-baa8-a9b73fd9fa1e"
   },
   "outputs": [
    {
     "name": "stdout",
     "output_type": "stream",
     "text": [
      "\n",
      " My new dataframe is \n",
      "    name   class  math_score  english_score  gender  age  total_score\n",
      "1   ami   first        -6.0            0.0  Female    7         -6.0\n",
      "2  ross  second         4.0           10.0  Female   20         14.0\n"
     ]
    }
   ],
   "source": [
    "# remove first and last rows\n",
    "\n",
    "df1_trunc = df1.truncate(before = 1, after = 2)\n",
    "print(f\"\\n My new dataframe is \\n {df1_trunc}\")\n"
   ]
  },
  {
   "cell_type": "markdown",
   "metadata": {
    "id": "xiNF4bSOz5YF"
   },
   "source": [
    "## <font color = 'dodgerblue'>**Sorting Data**"
   ]
  },
  {
   "cell_type": "code",
   "execution_count": 114,
   "metadata": {
    "ExecuteTime": {
     "end_time": "2022-09-04T16:33:08.093291Z",
     "start_time": "2022-09-04T16:33:08.079329Z"
    },
    "colab": {
     "base_uri": "https://localhost:8080/",
     "height": 206
    },
    "executionInfo": {
     "elapsed": 125,
     "status": "ok",
     "timestamp": 1661540591234,
     "user": {
      "displayName": "Harpreet SIngh",
      "userId": "15106381096049879330"
     },
     "user_tz": 300
    },
    "id": "2ncwJKKx0yZ7",
    "outputId": "0a52cf87-ad7b-4c17-e476-13af2ad1e2e4"
   },
   "outputs": [
    {
     "data": {
      "text/html": [
       "<div>\n",
       "<style scoped>\n",
       "    .dataframe tbody tr th:only-of-type {\n",
       "        vertical-align: middle;\n",
       "    }\n",
       "\n",
       "    .dataframe tbody tr th {\n",
       "        vertical-align: top;\n",
       "    }\n",
       "\n",
       "    .dataframe thead th {\n",
       "        text-align: right;\n",
       "    }\n",
       "</style>\n",
       "<table border=\"1\" class=\"dataframe\">\n",
       "  <thead>\n",
       "    <tr style=\"text-align: right;\">\n",
       "      <th></th>\n",
       "      <th>name</th>\n",
       "      <th>class</th>\n",
       "      <th>math_score</th>\n",
       "      <th>english_score</th>\n",
       "      <th>gender</th>\n",
       "      <th>age</th>\n",
       "      <th>total_score</th>\n",
       "    </tr>\n",
       "  </thead>\n",
       "  <tbody>\n",
       "    <tr>\n",
       "      <th>0</th>\n",
       "      <td>alex</td>\n",
       "      <td>first</td>\n",
       "      <td>-6.0</td>\n",
       "      <td>-10.0</td>\n",
       "      <td>Male</td>\n",
       "      <td>4</td>\n",
       "      <td>-16.0</td>\n",
       "    </tr>\n",
       "    <tr>\n",
       "      <th>1</th>\n",
       "      <td>ami</td>\n",
       "      <td>first</td>\n",
       "      <td>-6.0</td>\n",
       "      <td>0.0</td>\n",
       "      <td>Female</td>\n",
       "      <td>7</td>\n",
       "      <td>-6.0</td>\n",
       "    </tr>\n",
       "    <tr>\n",
       "      <th>2</th>\n",
       "      <td>ross</td>\n",
       "      <td>second</td>\n",
       "      <td>4.0</td>\n",
       "      <td>10.0</td>\n",
       "      <td>Female</td>\n",
       "      <td>20</td>\n",
       "      <td>14.0</td>\n",
       "    </tr>\n",
       "    <tr>\n",
       "      <th>3</th>\n",
       "      <td>suzan</td>\n",
       "      <td>second</td>\n",
       "      <td>24.0</td>\n",
       "      <td>20.0</td>\n",
       "      <td>Female</td>\n",
       "      <td>9</td>\n",
       "      <td>44.0</td>\n",
       "    </tr>\n",
       "    <tr>\n",
       "      <th>4</th>\n",
       "      <td>henry</td>\n",
       "      <td>second</td>\n",
       "      <td>-16.0</td>\n",
       "      <td>-20.0</td>\n",
       "      <td>Male</td>\n",
       "      <td>5</td>\n",
       "      <td>-36.0</td>\n",
       "    </tr>\n",
       "  </tbody>\n",
       "</table>\n",
       "</div>"
      ],
      "text/plain": [
       "    name   class  math_score  english_score  gender  age  total_score\n",
       "0   alex   first        -6.0          -10.0    Male    4        -16.0\n",
       "1    ami   first        -6.0            0.0  Female    7         -6.0\n",
       "2   ross  second         4.0           10.0  Female   20         14.0\n",
       "3  suzan  second        24.0           20.0  Female    9         44.0\n",
       "4  henry  second       -16.0          -20.0    Male    5        -36.0"
      ]
     },
     "execution_count": 114,
     "metadata": {},
     "output_type": "execute_result"
    }
   ],
   "source": [
    "df1"
   ]
  },
  {
   "cell_type": "code",
   "execution_count": 115,
   "metadata": {
    "ExecuteTime": {
     "end_time": "2022-09-04T16:33:09.484949Z",
     "start_time": "2022-09-04T16:33:09.471984Z"
    },
    "colab": {
     "base_uri": "https://localhost:8080/",
     "height": 206
    },
    "executionInfo": {
     "elapsed": 111,
     "status": "ok",
     "timestamp": 1661540617127,
     "user": {
      "displayName": "Harpreet SIngh",
      "userId": "15106381096049879330"
     },
     "user_tz": 300
    },
    "id": "xgV1YZnq00Rp",
    "outputId": "a2469a06-17ec-470f-b319-1a599ac8ad78"
   },
   "outputs": [
    {
     "data": {
      "text/html": [
       "<div>\n",
       "<style scoped>\n",
       "    .dataframe tbody tr th:only-of-type {\n",
       "        vertical-align: middle;\n",
       "    }\n",
       "\n",
       "    .dataframe tbody tr th {\n",
       "        vertical-align: top;\n",
       "    }\n",
       "\n",
       "    .dataframe thead th {\n",
       "        text-align: right;\n",
       "    }\n",
       "</style>\n",
       "<table border=\"1\" class=\"dataframe\">\n",
       "  <thead>\n",
       "    <tr style=\"text-align: right;\">\n",
       "      <th></th>\n",
       "      <th>name</th>\n",
       "      <th>class</th>\n",
       "      <th>math_score</th>\n",
       "      <th>english_score</th>\n",
       "      <th>gender</th>\n",
       "      <th>age</th>\n",
       "      <th>total_score</th>\n",
       "    </tr>\n",
       "  </thead>\n",
       "  <tbody>\n",
       "    <tr>\n",
       "      <th>4</th>\n",
       "      <td>henry</td>\n",
       "      <td>second</td>\n",
       "      <td>-16.0</td>\n",
       "      <td>-20.0</td>\n",
       "      <td>Male</td>\n",
       "      <td>5</td>\n",
       "      <td>-36.0</td>\n",
       "    </tr>\n",
       "    <tr>\n",
       "      <th>3</th>\n",
       "      <td>suzan</td>\n",
       "      <td>second</td>\n",
       "      <td>24.0</td>\n",
       "      <td>20.0</td>\n",
       "      <td>Female</td>\n",
       "      <td>9</td>\n",
       "      <td>44.0</td>\n",
       "    </tr>\n",
       "    <tr>\n",
       "      <th>2</th>\n",
       "      <td>ross</td>\n",
       "      <td>second</td>\n",
       "      <td>4.0</td>\n",
       "      <td>10.0</td>\n",
       "      <td>Female</td>\n",
       "      <td>20</td>\n",
       "      <td>14.0</td>\n",
       "    </tr>\n",
       "    <tr>\n",
       "      <th>1</th>\n",
       "      <td>ami</td>\n",
       "      <td>first</td>\n",
       "      <td>-6.0</td>\n",
       "      <td>0.0</td>\n",
       "      <td>Female</td>\n",
       "      <td>7</td>\n",
       "      <td>-6.0</td>\n",
       "    </tr>\n",
       "    <tr>\n",
       "      <th>0</th>\n",
       "      <td>alex</td>\n",
       "      <td>first</td>\n",
       "      <td>-6.0</td>\n",
       "      <td>-10.0</td>\n",
       "      <td>Male</td>\n",
       "      <td>4</td>\n",
       "      <td>-16.0</td>\n",
       "    </tr>\n",
       "  </tbody>\n",
       "</table>\n",
       "</div>"
      ],
      "text/plain": [
       "    name   class  math_score  english_score  gender  age  total_score\n",
       "4  henry  second       -16.0          -20.0    Male    5        -36.0\n",
       "3  suzan  second        24.0           20.0  Female    9         44.0\n",
       "2   ross  second         4.0           10.0  Female   20         14.0\n",
       "1    ami   first        -6.0            0.0  Female    7         -6.0\n",
       "0   alex   first        -6.0          -10.0    Male    4        -16.0"
      ]
     },
     "execution_count": 115,
     "metadata": {},
     "output_type": "execute_result"
    }
   ],
   "source": [
    "# row sort (based on index)\n",
    "df1.sort_index(ascending=False, axis =0)"
   ]
  },
  {
   "cell_type": "code",
   "execution_count": 116,
   "metadata": {
    "ExecuteTime": {
     "end_time": "2022-09-04T16:33:09.776866Z",
     "start_time": "2022-09-04T16:33:09.757917Z"
    },
    "colab": {
     "base_uri": "https://localhost:8080/",
     "height": 206
    },
    "executionInfo": {
     "elapsed": 187,
     "status": "ok",
     "timestamp": 1661540655777,
     "user": {
      "displayName": "Harpreet SIngh",
      "userId": "15106381096049879330"
     },
     "user_tz": 300
    },
    "id": "2uueXLUb1GAO",
    "outputId": "6db16ca8-4e37-47a3-a85a-9e494aa11309"
   },
   "outputs": [
    {
     "data": {
      "text/html": [
       "<div>\n",
       "<style scoped>\n",
       "    .dataframe tbody tr th:only-of-type {\n",
       "        vertical-align: middle;\n",
       "    }\n",
       "\n",
       "    .dataframe tbody tr th {\n",
       "        vertical-align: top;\n",
       "    }\n",
       "\n",
       "    .dataframe thead th {\n",
       "        text-align: right;\n",
       "    }\n",
       "</style>\n",
       "<table border=\"1\" class=\"dataframe\">\n",
       "  <thead>\n",
       "    <tr style=\"text-align: right;\">\n",
       "      <th></th>\n",
       "      <th>age</th>\n",
       "      <th>class</th>\n",
       "      <th>english_score</th>\n",
       "      <th>gender</th>\n",
       "      <th>math_score</th>\n",
       "      <th>name</th>\n",
       "      <th>total_score</th>\n",
       "    </tr>\n",
       "  </thead>\n",
       "  <tbody>\n",
       "    <tr>\n",
       "      <th>0</th>\n",
       "      <td>4</td>\n",
       "      <td>first</td>\n",
       "      <td>-10.0</td>\n",
       "      <td>Male</td>\n",
       "      <td>-6.0</td>\n",
       "      <td>alex</td>\n",
       "      <td>-16.0</td>\n",
       "    </tr>\n",
       "    <tr>\n",
       "      <th>1</th>\n",
       "      <td>7</td>\n",
       "      <td>first</td>\n",
       "      <td>0.0</td>\n",
       "      <td>Female</td>\n",
       "      <td>-6.0</td>\n",
       "      <td>ami</td>\n",
       "      <td>-6.0</td>\n",
       "    </tr>\n",
       "    <tr>\n",
       "      <th>2</th>\n",
       "      <td>20</td>\n",
       "      <td>second</td>\n",
       "      <td>10.0</td>\n",
       "      <td>Female</td>\n",
       "      <td>4.0</td>\n",
       "      <td>ross</td>\n",
       "      <td>14.0</td>\n",
       "    </tr>\n",
       "    <tr>\n",
       "      <th>3</th>\n",
       "      <td>9</td>\n",
       "      <td>second</td>\n",
       "      <td>20.0</td>\n",
       "      <td>Female</td>\n",
       "      <td>24.0</td>\n",
       "      <td>suzan</td>\n",
       "      <td>44.0</td>\n",
       "    </tr>\n",
       "    <tr>\n",
       "      <th>4</th>\n",
       "      <td>5</td>\n",
       "      <td>second</td>\n",
       "      <td>-20.0</td>\n",
       "      <td>Male</td>\n",
       "      <td>-16.0</td>\n",
       "      <td>henry</td>\n",
       "      <td>-36.0</td>\n",
       "    </tr>\n",
       "  </tbody>\n",
       "</table>\n",
       "</div>"
      ],
      "text/plain": [
       "   age   class  english_score  gender  math_score   name  total_score\n",
       "0    4   first          -10.0    Male        -6.0   alex        -16.0\n",
       "1    7   first            0.0  Female        -6.0    ami         -6.0\n",
       "2   20  second           10.0  Female         4.0   ross         14.0\n",
       "3    9  second           20.0  Female        24.0  suzan         44.0\n",
       "4    5  second          -20.0    Male       -16.0  henry        -36.0"
      ]
     },
     "execution_count": 116,
     "metadata": {},
     "output_type": "execute_result"
    }
   ],
   "source": [
    "# column sort (based on column names)\n",
    "df1.sort_index( axis =1)"
   ]
  },
  {
   "cell_type": "code",
   "execution_count": 117,
   "metadata": {
    "ExecuteTime": {
     "end_time": "2022-09-04T16:33:10.283540Z",
     "start_time": "2022-09-04T16:33:10.272569Z"
    },
    "id": "YadsbW_t06Uv"
   },
   "outputs": [],
   "source": [
    "# sort based on values in a column\n",
    "df1.sort_values(by = 'age', ascending=False, inplace = True)"
   ]
  },
  {
   "cell_type": "code",
   "execution_count": 118,
   "metadata": {
    "ExecuteTime": {
     "end_time": "2022-09-04T16:33:11.305088Z",
     "start_time": "2022-09-04T16:33:11.284117Z"
    },
    "colab": {
     "base_uri": "https://localhost:8080/",
     "height": 206
    },
    "executionInfo": {
     "elapsed": 178,
     "status": "ok",
     "timestamp": 1661540662461,
     "user": {
      "displayName": "Harpreet SIngh",
      "userId": "15106381096049879330"
     },
     "user_tz": 300
    },
    "id": "GOoig_Nh1WvI",
    "outputId": "6c1ccd4e-a3bb-4fff-97fa-e94fe87777d5"
   },
   "outputs": [
    {
     "data": {
      "text/html": [
       "<div>\n",
       "<style scoped>\n",
       "    .dataframe tbody tr th:only-of-type {\n",
       "        vertical-align: middle;\n",
       "    }\n",
       "\n",
       "    .dataframe tbody tr th {\n",
       "        vertical-align: top;\n",
       "    }\n",
       "\n",
       "    .dataframe thead th {\n",
       "        text-align: right;\n",
       "    }\n",
       "</style>\n",
       "<table border=\"1\" class=\"dataframe\">\n",
       "  <thead>\n",
       "    <tr style=\"text-align: right;\">\n",
       "      <th></th>\n",
       "      <th>name</th>\n",
       "      <th>class</th>\n",
       "      <th>math_score</th>\n",
       "      <th>english_score</th>\n",
       "      <th>gender</th>\n",
       "      <th>age</th>\n",
       "      <th>total_score</th>\n",
       "    </tr>\n",
       "  </thead>\n",
       "  <tbody>\n",
       "    <tr>\n",
       "      <th>2</th>\n",
       "      <td>ross</td>\n",
       "      <td>second</td>\n",
       "      <td>4.0</td>\n",
       "      <td>10.0</td>\n",
       "      <td>Female</td>\n",
       "      <td>20</td>\n",
       "      <td>14.0</td>\n",
       "    </tr>\n",
       "    <tr>\n",
       "      <th>3</th>\n",
       "      <td>suzan</td>\n",
       "      <td>second</td>\n",
       "      <td>24.0</td>\n",
       "      <td>20.0</td>\n",
       "      <td>Female</td>\n",
       "      <td>9</td>\n",
       "      <td>44.0</td>\n",
       "    </tr>\n",
       "    <tr>\n",
       "      <th>1</th>\n",
       "      <td>ami</td>\n",
       "      <td>first</td>\n",
       "      <td>-6.0</td>\n",
       "      <td>0.0</td>\n",
       "      <td>Female</td>\n",
       "      <td>7</td>\n",
       "      <td>-6.0</td>\n",
       "    </tr>\n",
       "    <tr>\n",
       "      <th>4</th>\n",
       "      <td>henry</td>\n",
       "      <td>second</td>\n",
       "      <td>-16.0</td>\n",
       "      <td>-20.0</td>\n",
       "      <td>Male</td>\n",
       "      <td>5</td>\n",
       "      <td>-36.0</td>\n",
       "    </tr>\n",
       "    <tr>\n",
       "      <th>0</th>\n",
       "      <td>alex</td>\n",
       "      <td>first</td>\n",
       "      <td>-6.0</td>\n",
       "      <td>-10.0</td>\n",
       "      <td>Male</td>\n",
       "      <td>4</td>\n",
       "      <td>-16.0</td>\n",
       "    </tr>\n",
       "  </tbody>\n",
       "</table>\n",
       "</div>"
      ],
      "text/plain": [
       "    name   class  math_score  english_score  gender  age  total_score\n",
       "2   ross  second         4.0           10.0  Female   20         14.0\n",
       "3  suzan  second        24.0           20.0  Female    9         44.0\n",
       "1    ami   first        -6.0            0.0  Female    7         -6.0\n",
       "4  henry  second       -16.0          -20.0    Male    5        -36.0\n",
       "0   alex   first        -6.0          -10.0    Male    4        -16.0"
      ]
     },
     "execution_count": 118,
     "metadata": {},
     "output_type": "execute_result"
    }
   ],
   "source": [
    "df1"
   ]
  },
  {
   "cell_type": "markdown",
   "metadata": {
    "id": "ygYp7UmmsSer"
   },
   "source": [
    "## <font color = 'dodgerblue'> **Aggregation**\n",
    "\n",
    "* Similar to numpy, we can use aggregate functions in Pandas as well.\n",
    "\n",
    "\n",
    "<img src = \"https://drive.google.com/uc?view=export&id=1DXhiBZlNvBs6-ltdFXSSWwpudXTvMXaV\" width =\"400\" />\n"
   ]
  },
  {
   "cell_type": "markdown",
   "metadata": {
    "id": "wyPQ5tbwiZT3"
   },
   "source": [
    "###  <font color = 'dodgerblue'> **count()**"
   ]
  },
  {
   "cell_type": "code",
   "execution_count": 119,
   "metadata": {
    "ExecuteTime": {
     "end_time": "2022-09-04T16:33:12.910302Z",
     "start_time": "2022-09-04T16:33:12.901326Z"
    },
    "colab": {
     "base_uri": "https://localhost:8080/"
    },
    "executionInfo": {
     "elapsed": 108,
     "status": "ok",
     "timestamp": 1661540692943,
     "user": {
      "displayName": "Harpreet SIngh",
      "userId": "15106381096049879330"
     },
     "user_tz": 300
    },
    "id": "GdksDNgsvxTw",
    "outputId": "6782f987-acbc-46b9-c6e4-51177e56a5f2"
   },
   "outputs": [
    {
     "name": "stdout",
     "output_type": "stream",
     "text": [
      "the dataframe is:\n",
      "     name   class  math_score  english_score  gender  age  total_score\n",
      "2   ross  second         4.0           10.0  Female   20         14.0\n",
      "3  suzan  second        24.0           20.0  Female    9         44.0\n",
      "1    ami   first        -6.0            0.0  Female    7         -6.0\n",
      "4  henry  second       -16.0          -20.0    Male    5        -36.0\n",
      "0   alex   first        -6.0          -10.0    Male    4        -16.0\n"
     ]
    }
   ],
   "source": [
    "# Let us  use the dataframe from the above example\n",
    "print(f\"the dataframe is:\\n {df1}\")"
   ]
  },
  {
   "cell_type": "code",
   "execution_count": 120,
   "metadata": {
    "ExecuteTime": {
     "end_time": "2022-09-04T16:33:14.093324Z",
     "start_time": "2022-09-04T16:33:14.082354Z"
    },
    "colab": {
     "base_uri": "https://localhost:8080/"
    },
    "executionInfo": {
     "elapsed": 141,
     "status": "ok",
     "timestamp": 1661540711568,
     "user": {
      "displayName": "Harpreet SIngh",
      "userId": "15106381096049879330"
     },
     "user_tz": 300
    },
    "id": "AKDAfIp3gFxl",
    "outputId": "297e8cb3-728b-4168-fd43-0eda0062ab69"
   },
   "outputs": [
    {
     "data": {
      "text/plain": [
       "name             5\n",
       "class            5\n",
       "math_score       5\n",
       "english_score    5\n",
       "gender           5\n",
       "age              5\n",
       "total_score      5\n",
       "dtype: int64"
      ]
     },
     "execution_count": 120,
     "metadata": {},
     "output_type": "execute_result"
    }
   ],
   "source": [
    "# Count() function\n",
    "# lets count the total number of items in dataframe\n",
    "# We will get the total number of elements in each column as follows\n",
    "df1.count()"
   ]
  },
  {
   "cell_type": "markdown",
   "metadata": {
    "id": "XuzztFC4ijy9"
   },
   "source": [
    "###  <font color = 'dodgerblue'> **head(), tail()**"
   ]
  },
  {
   "cell_type": "code",
   "execution_count": 121,
   "metadata": {
    "ExecuteTime": {
     "end_time": "2022-09-04T16:33:15.251274Z",
     "start_time": "2022-09-04T16:33:15.244293Z"
    },
    "colab": {
     "base_uri": "https://localhost:8080/"
    },
    "executionInfo": {
     "elapsed": 148,
     "status": "ok",
     "timestamp": 1661540715332,
     "user": {
      "displayName": "Harpreet SIngh",
      "userId": "15106381096049879330"
     },
     "user_tz": 300
    },
    "id": "0nW64nRewLUw",
    "outputId": "aee19039-642b-4829-bd84-f9fd78f7c9ef"
   },
   "outputs": [
    {
     "name": "stdout",
     "output_type": "stream",
     "text": [
      "the top 2 rows are \n",
      "     name   class  math_score  english_score  gender  age  total_score\n",
      "2   ross  second         4.0           10.0  Female   20         14.0\n",
      "3  suzan  second        24.0           20.0  Female    9         44.0\n"
     ]
    }
   ],
   "source": [
    "# head(),tail()\n",
    "# get the top 2 rows\n",
    "print(f\"the top 2 rows are \\n {df1.head(2)}\")"
   ]
  },
  {
   "cell_type": "code",
   "execution_count": 122,
   "metadata": {
    "ExecuteTime": {
     "end_time": "2022-09-04T16:33:15.636051Z",
     "start_time": "2022-09-04T16:33:15.620094Z"
    },
    "colab": {
     "base_uri": "https://localhost:8080/"
    },
    "executionInfo": {
     "elapsed": 143,
     "status": "ok",
     "timestamp": 1661540718583,
     "user": {
      "displayName": "Harpreet SIngh",
      "userId": "15106381096049879330"
     },
     "user_tz": 300
    },
    "id": "rPBWsG2mCK21",
    "outputId": "6437dbf0-ad28-4aff-c5ee-390c324a6424"
   },
   "outputs": [
    {
     "name": "stdout",
     "output_type": "stream",
     "text": [
      "\n",
      "the last 3 rows are \n",
      "     name   class  math_score  english_score  gender  age  total_score\n",
      "1    ami   first        -6.0            0.0  Female    7         -6.0\n",
      "4  henry  second       -16.0          -20.0    Male    5        -36.0\n",
      "0   alex   first        -6.0          -10.0    Male    4        -16.0\n"
     ]
    }
   ],
   "source": [
    "# gets the last 3 rows\n",
    "print(f\"\\nthe last 3 rows are \\n {df1.tail(3)}\")"
   ]
  },
  {
   "cell_type": "markdown",
   "metadata": {
    "id": "Mpp3ffeYirko"
   },
   "source": [
    "###  <font color = 'dodgerblue'> **mean/median/std/var etc**"
   ]
  },
  {
   "cell_type": "code",
   "execution_count": 123,
   "metadata": {
    "ExecuteTime": {
     "end_time": "2022-09-04T16:33:17.125759Z",
     "start_time": "2022-09-04T16:33:17.112825Z"
    },
    "colab": {
     "base_uri": "https://localhost:8080/"
    },
    "executionInfo": {
     "elapsed": 190,
     "status": "ok",
     "timestamp": 1661540724675,
     "user": {
      "displayName": "Harpreet SIngh",
      "userId": "15106381096049879330"
     },
     "user_tz": 300
    },
    "id": "Uqz46afJxZaW",
    "outputId": "bb784170-5d25-4e3b-81ac-04c165b25083"
   },
   "outputs": [
    {
     "name": "stdout",
     "output_type": "stream",
     "text": [
      "the mean of the data is \n",
      "math_score       0.0\n",
      "english_score    0.0\n",
      "age              9.0\n",
      "total_score      0.0\n",
      "dtype: float64\n",
      "\n",
      "the median of the data is \n",
      "math_score      -6.0\n",
      "english_score    0.0\n",
      "age              7.0\n",
      "total_score     -6.0\n",
      "dtype: float64\n",
      "\n",
      "the standard deviation of the data is \n",
      "math_score       15.165751\n",
      "english_score    15.811388\n",
      "age               6.442049\n",
      "total_score      30.495901\n",
      "dtype: float64\n",
      "\n",
      "the variance of the data is \n",
      "math_score       230.0\n",
      "english_score    250.0\n",
      "age               41.5\n",
      "total_score      930.0\n",
      "dtype: float64\n"
     ]
    }
   ],
   "source": [
    "# mean, median,std,var methods\n",
    "# it gives the mean  and median for each column if they are numerical\n",
    "print(f\"the mean of the data is \\n{df1.mean()}\")\n",
    "print(f\"\\nthe median of the data is \\n{df1.median()}\")\n",
    "print(f\"\\nthe standard deviation of the data is \\n{df1.std()}\")\n",
    "print(f\"\\nthe variance of the data is \\n{df1.var()}\")"
   ]
  },
  {
   "cell_type": "markdown",
   "metadata": {
    "id": "XgjfClqhi1Sh"
   },
   "source": [
    "###  <font color = 'dodgerblue'> **describe()**"
   ]
  },
  {
   "cell_type": "code",
   "execution_count": 124,
   "metadata": {
    "ExecuteTime": {
     "end_time": "2022-09-04T16:33:18.728388Z",
     "start_time": "2022-09-04T16:33:18.708440Z"
    },
    "colab": {
     "base_uri": "https://localhost:8080/"
    },
    "executionInfo": {
     "elapsed": 109,
     "status": "ok",
     "timestamp": 1661540731106,
     "user": {
      "displayName": "Harpreet SIngh",
      "userId": "15106381096049879330"
     },
     "user_tz": 300
    },
    "id": "nfn8dpD9gm1g",
    "outputId": "3cc9eded-8b32-44be-b32d-7c8d5f300450"
   },
   "outputs": [
    {
     "name": "stdout",
     "output_type": "stream",
     "text": [
      "the descriptive statistics  of the data is \n",
      "        math_score  english_score        age  total_score\n",
      "count    5.000000       5.000000   5.000000     5.000000\n",
      "mean     0.000000       0.000000   9.000000     0.000000\n",
      "std     15.165751      15.811388   6.442049    30.495901\n",
      "min    -16.000000     -20.000000   4.000000   -36.000000\n",
      "25%     -6.000000     -10.000000   5.000000   -16.000000\n",
      "50%     -6.000000       0.000000   7.000000    -6.000000\n",
      "75%      4.000000      10.000000   9.000000    14.000000\n",
      "max     24.000000      20.000000  20.000000    44.000000\n"
     ]
    }
   ],
   "source": [
    "# We can also use describe() method to get all the descriptive statistics\n",
    "print(f\"the descriptive statistics  of the data is \\n {df1.describe()}\")"
   ]
  },
  {
   "cell_type": "markdown",
   "metadata": {
    "id": "PSiRgxq0i9GI"
   },
   "source": [
    "###  <font color = 'dodgerblue'> **info()**"
   ]
  },
  {
   "cell_type": "code",
   "execution_count": 125,
   "metadata": {
    "ExecuteTime": {
     "end_time": "2022-09-04T16:33:19.611225Z",
     "start_time": "2022-09-04T16:33:19.598571Z"
    },
    "colab": {
     "base_uri": "https://localhost:8080/"
    },
    "executionInfo": {
     "elapsed": 101,
     "status": "ok",
     "timestamp": 1661540732888,
     "user": {
      "displayName": "Harpreet SIngh",
      "userId": "15106381096049879330"
     },
     "user_tz": 300
    },
    "id": "bkmUkv7VM497",
    "outputId": "468874fc-4790-42ba-ba72-0bf91d653251"
   },
   "outputs": [
    {
     "name": "stdout",
     "output_type": "stream",
     "text": [
      "<class 'pandas.core.frame.DataFrame'>\n",
      "Int64Index: 5 entries, 2 to 0\n",
      "Data columns (total 7 columns):\n",
      " #   Column         Non-Null Count  Dtype  \n",
      "---  ------         --------------  -----  \n",
      " 0   name           5 non-null      object \n",
      " 1   class          5 non-null      object \n",
      " 2   math_score     5 non-null      float64\n",
      " 3   english_score  5 non-null      float64\n",
      " 4   gender         5 non-null      object \n",
      " 5   age            5 non-null      int64  \n",
      " 6   total_score    5 non-null      float64\n",
      "dtypes: float64(3), int64(1), object(3)\n",
      "memory usage: 320.0+ bytes\n"
     ]
    }
   ],
   "source": [
    "# we can get the information about the columns using df.info() method\n",
    "df1.info()"
   ]
  },
  {
   "cell_type": "markdown",
   "metadata": {
    "id": "HhaFJPiYjEkE"
   },
   "source": [
    "###  <font color = 'dodgerblue'> **Applying functions along rows or columns**"
   ]
  },
  {
   "cell_type": "code",
   "execution_count": 126,
   "metadata": {
    "ExecuteTime": {
     "end_time": "2022-09-04T16:33:20.385217Z",
     "start_time": "2022-09-04T16:33:20.364273Z"
    },
    "colab": {
     "base_uri": "https://localhost:8080/",
     "height": 206
    },
    "executionInfo": {
     "elapsed": 121,
     "status": "ok",
     "timestamp": 1661540734981,
     "user": {
      "displayName": "Harpreet SIngh",
      "userId": "15106381096049879330"
     },
     "user_tz": 300
    },
    "id": "1SrJjbxWStyx",
    "outputId": "ee669c7b-e4dc-4dec-cf05-09465a73c580"
   },
   "outputs": [
    {
     "data": {
      "text/html": [
       "<div>\n",
       "<style scoped>\n",
       "    .dataframe tbody tr th:only-of-type {\n",
       "        vertical-align: middle;\n",
       "    }\n",
       "\n",
       "    .dataframe tbody tr th {\n",
       "        vertical-align: top;\n",
       "    }\n",
       "\n",
       "    .dataframe thead th {\n",
       "        text-align: right;\n",
       "    }\n",
       "</style>\n",
       "<table border=\"1\" class=\"dataframe\">\n",
       "  <thead>\n",
       "    <tr style=\"text-align: right;\">\n",
       "      <th></th>\n",
       "      <th>math_score</th>\n",
       "      <th>english_score</th>\n",
       "    </tr>\n",
       "  </thead>\n",
       "  <tbody>\n",
       "    <tr>\n",
       "      <th>2</th>\n",
       "      <td>4.0</td>\n",
       "      <td>10.0</td>\n",
       "    </tr>\n",
       "    <tr>\n",
       "      <th>3</th>\n",
       "      <td>24.0</td>\n",
       "      <td>20.0</td>\n",
       "    </tr>\n",
       "    <tr>\n",
       "      <th>1</th>\n",
       "      <td>-6.0</td>\n",
       "      <td>0.0</td>\n",
       "    </tr>\n",
       "    <tr>\n",
       "      <th>4</th>\n",
       "      <td>-16.0</td>\n",
       "      <td>-20.0</td>\n",
       "    </tr>\n",
       "    <tr>\n",
       "      <th>0</th>\n",
       "      <td>-6.0</td>\n",
       "      <td>-10.0</td>\n",
       "    </tr>\n",
       "  </tbody>\n",
       "</table>\n",
       "</div>"
      ],
      "text/plain": [
       "   math_score  english_score\n",
       "2         4.0           10.0\n",
       "3        24.0           20.0\n",
       "1        -6.0            0.0\n",
       "4       -16.0          -20.0\n",
       "0        -6.0          -10.0"
      ]
     },
     "execution_count": 126,
     "metadata": {},
     "output_type": "execute_result"
    }
   ],
   "source": [
    "df_score = df1.loc[:, ['math_score','english_score']]\n",
    "df_score"
   ]
  },
  {
   "cell_type": "code",
   "execution_count": 127,
   "metadata": {
    "ExecuteTime": {
     "end_time": "2022-09-04T16:33:22.007317Z",
     "start_time": "2022-09-04T16:33:21.998342Z"
    },
    "colab": {
     "base_uri": "https://localhost:8080/"
    },
    "executionInfo": {
     "elapsed": 124,
     "status": "ok",
     "timestamp": 1661540758169,
     "user": {
      "displayName": "Harpreet SIngh",
      "userId": "15106381096049879330"
     },
     "user_tz": 300
    },
    "id": "Bo0uoNviS-Se",
    "outputId": "489777f6-916f-47eb-9ff6-3845c614a02e"
   },
   "outputs": [
    {
     "data": {
      "text/plain": [
       "math_score       0.0\n",
       "english_score    0.0\n",
       "dtype: float64"
      ]
     },
     "execution_count": 127,
     "metadata": {},
     "output_type": "execute_result"
    }
   ],
   "source": [
    "# average score of each subject \n",
    "# axis = 0 : row sum for each column (subject)\n",
    "df_score.mean(axis =0)"
   ]
  },
  {
   "cell_type": "code",
   "execution_count": 128,
   "metadata": {
    "ExecuteTime": {
     "end_time": "2022-09-04T16:33:22.347524Z",
     "start_time": "2022-09-04T16:33:22.328575Z"
    },
    "colab": {
     "base_uri": "https://localhost:8080/"
    },
    "executionInfo": {
     "elapsed": 118,
     "status": "ok",
     "timestamp": 1661540766442,
     "user": {
      "displayName": "Harpreet SIngh",
      "userId": "15106381096049879330"
     },
     "user_tz": 300
    },
    "id": "fLMZv97WTOMZ",
    "outputId": "2cef9ddb-aa97-42e7-c0bc-50dc04391e72"
   },
   "outputs": [
    {
     "data": {
      "text/plain": [
       "2    14.0\n",
       "3    44.0\n",
       "1    -6.0\n",
       "4   -36.0\n",
       "0   -16.0\n",
       "dtype: float64"
      ]
     },
     "execution_count": 128,
     "metadata": {},
     "output_type": "execute_result"
    }
   ],
   "source": [
    "# total score for each student\n",
    "# axis = 1 - column sum for each row (student)\n",
    "df_score.sum(axis=1)"
   ]
  },
  {
   "cell_type": "code",
   "execution_count": 129,
   "metadata": {
    "ExecuteTime": {
     "end_time": "2022-09-04T16:33:22.856718Z",
     "start_time": "2022-09-04T16:33:22.842755Z"
    },
    "colab": {
     "base_uri": "https://localhost:8080/"
    },
    "executionInfo": {
     "elapsed": 110,
     "status": "ok",
     "timestamp": 1661540770518,
     "user": {
      "displayName": "Harpreet SIngh",
      "userId": "15106381096049879330"
     },
     "user_tz": 300
    },
    "id": "dtGHZFl4Txwz",
    "outputId": "824e1f09-4331-4149-8472-9eddbbe395fd"
   },
   "outputs": [
    {
     "data": {
      "text/plain": [
       "0.0"
      ]
     },
     "execution_count": 129,
     "metadata": {},
     "output_type": "execute_result"
    }
   ],
   "source": [
    "# total score (sum of all the scores for all students)\n",
    "df_score.sum().sum()"
   ]
  },
  {
   "cell_type": "markdown",
   "metadata": {
    "id": "M5kKNUW7jQ6i"
   },
   "source": [
    "###  <font color = 'dodgerblue'> **value_counts(): count of unique values**"
   ]
  },
  {
   "cell_type": "code",
   "execution_count": 130,
   "metadata": {
    "ExecuteTime": {
     "end_time": "2022-09-04T16:33:24.069295Z",
     "start_time": "2022-09-04T16:33:24.058327Z"
    },
    "colab": {
     "base_uri": "https://localhost:8080/"
    },
    "executionInfo": {
     "elapsed": 106,
     "status": "ok",
     "timestamp": 1661540791958,
     "user": {
      "displayName": "Harpreet SIngh",
      "userId": "15106381096049879330"
     },
     "user_tz": 300
    },
    "id": "OwU2FU45Vntv",
    "outputId": "7a7b516b-2b31-4d8b-be9e-29df9c345703"
   },
   "outputs": [
    {
     "data": {
      "text/plain": [
       "Female    3\n",
       "Male      2\n",
       "Name: gender, dtype: int64"
      ]
     },
     "execution_count": 130,
     "metadata": {},
     "output_type": "execute_result"
    }
   ],
   "source": [
    "# Find number of males and females in the data\n",
    "# value_counts give the count of unique values\n",
    "# the gender column had two uniqie values - male and female\n",
    "# value_count will give count of females and males\n",
    "df1['gender'].value_counts()"
   ]
  },
  {
   "cell_type": "code",
   "execution_count": 131,
   "metadata": {
    "ExecuteTime": {
     "end_time": "2022-09-04T16:33:24.576570Z",
     "start_time": "2022-09-04T16:33:24.570586Z"
    },
    "colab": {
     "base_uri": "https://localhost:8080/"
    },
    "executionInfo": {
     "elapsed": 129,
     "status": "ok",
     "timestamp": 1661540795444,
     "user": {
      "displayName": "Harpreet SIngh",
      "userId": "15106381096049879330"
     },
     "user_tz": 300
    },
    "id": "XJQBQqPMVxLn",
    "outputId": "20564433-4a16-4a95-a6a7-41ae4c31ab26"
   },
   "outputs": [
    {
     "data": {
      "text/plain": [
       "Female    0.6\n",
       "Male      0.4\n",
       "Name: gender, dtype: float64"
      ]
     },
     "execution_count": 131,
     "metadata": {},
     "output_type": "execute_result"
    }
   ],
   "source": [
    "# we can get the percentage of each category by passing argument normalize = True\n",
    "df1['gender'].value_counts(normalize = True)"
   ]
  },
  {
   "cell_type": "markdown",
   "metadata": {
    "id": "Ct-F6V3-ocGH"
   },
   "source": [
    "## <font color = 'dodgerblue'> **Grouping data**</font>\n",
    "1. Aggregate functions helps us in understanding the data.\n",
    "2. But sometimes we may require to apply these aggregate function to a group of data.\n",
    "4.  Groupby mainly refers to a process involving one or more of the following steps:\n",
    "\n",
    "  * Split : We split data into groups by applying some conditions on data.\n",
    "\n",
    "  * Combine : We combine results from different groups.\n",
    "**Syntax** :\n",
    "\n",
    "\n",
    "\n",
    "```\n",
    "  DataFrame.groupby().sum()\n",
    "```\n",
    "here, first we group the data based on condition inside the parethesis. \n",
    "\n",
    "Then it will take sum of the given grouped data.\n",
    "\n",
    "\n",
    "Visual representation of a groupby operation\n",
    "<img src=\"https://drive.google.com/uc?export=view&id=10khD_6G02Z624KRjhyCGuicodjhHRege\" width=\"800\"/>"
   ]
  },
  {
   "cell_type": "code",
   "execution_count": 132,
   "metadata": {
    "ExecuteTime": {
     "end_time": "2022-09-04T16:33:25.962817Z",
     "start_time": "2022-09-04T16:33:25.948854Z"
    },
    "colab": {
     "base_uri": "https://localhost:8080/",
     "height": 206
    },
    "executionInfo": {
     "elapsed": 109,
     "status": "ok",
     "timestamp": 1661540830684,
     "user": {
      "displayName": "Harpreet SIngh",
      "userId": "15106381096049879330"
     },
     "user_tz": 300
    },
    "id": "CKMfHf69izlX",
    "outputId": "c3a8d014-e18b-4cd6-cfda-708b729dbe51"
   },
   "outputs": [
    {
     "data": {
      "text/html": [
       "<div>\n",
       "<style scoped>\n",
       "    .dataframe tbody tr th:only-of-type {\n",
       "        vertical-align: middle;\n",
       "    }\n",
       "\n",
       "    .dataframe tbody tr th {\n",
       "        vertical-align: top;\n",
       "    }\n",
       "\n",
       "    .dataframe thead th {\n",
       "        text-align: right;\n",
       "    }\n",
       "</style>\n",
       "<table border=\"1\" class=\"dataframe\">\n",
       "  <thead>\n",
       "    <tr style=\"text-align: right;\">\n",
       "      <th></th>\n",
       "      <th>name</th>\n",
       "      <th>class</th>\n",
       "      <th>math_score</th>\n",
       "      <th>english_score</th>\n",
       "      <th>gender</th>\n",
       "      <th>age</th>\n",
       "      <th>total_score</th>\n",
       "    </tr>\n",
       "  </thead>\n",
       "  <tbody>\n",
       "    <tr>\n",
       "      <th>2</th>\n",
       "      <td>ross</td>\n",
       "      <td>second</td>\n",
       "      <td>4.0</td>\n",
       "      <td>10.0</td>\n",
       "      <td>Female</td>\n",
       "      <td>20</td>\n",
       "      <td>14.0</td>\n",
       "    </tr>\n",
       "    <tr>\n",
       "      <th>3</th>\n",
       "      <td>suzan</td>\n",
       "      <td>second</td>\n",
       "      <td>24.0</td>\n",
       "      <td>20.0</td>\n",
       "      <td>Female</td>\n",
       "      <td>9</td>\n",
       "      <td>44.0</td>\n",
       "    </tr>\n",
       "    <tr>\n",
       "      <th>1</th>\n",
       "      <td>ami</td>\n",
       "      <td>first</td>\n",
       "      <td>-6.0</td>\n",
       "      <td>0.0</td>\n",
       "      <td>Female</td>\n",
       "      <td>7</td>\n",
       "      <td>-6.0</td>\n",
       "    </tr>\n",
       "    <tr>\n",
       "      <th>4</th>\n",
       "      <td>henry</td>\n",
       "      <td>second</td>\n",
       "      <td>-16.0</td>\n",
       "      <td>-20.0</td>\n",
       "      <td>Male</td>\n",
       "      <td>5</td>\n",
       "      <td>-36.0</td>\n",
       "    </tr>\n",
       "    <tr>\n",
       "      <th>0</th>\n",
       "      <td>alex</td>\n",
       "      <td>first</td>\n",
       "      <td>-6.0</td>\n",
       "      <td>-10.0</td>\n",
       "      <td>Male</td>\n",
       "      <td>4</td>\n",
       "      <td>-16.0</td>\n",
       "    </tr>\n",
       "  </tbody>\n",
       "</table>\n",
       "</div>"
      ],
      "text/plain": [
       "    name   class  math_score  english_score  gender  age  total_score\n",
       "2   ross  second         4.0           10.0  Female   20         14.0\n",
       "3  suzan  second        24.0           20.0  Female    9         44.0\n",
       "1    ami   first        -6.0            0.0  Female    7         -6.0\n",
       "4  henry  second       -16.0          -20.0    Male    5        -36.0\n",
       "0   alex   first        -6.0          -10.0    Male    4        -16.0"
      ]
     },
     "execution_count": 132,
     "metadata": {},
     "output_type": "execute_result"
    }
   ],
   "source": [
    "df1"
   ]
  },
  {
   "cell_type": "code",
   "execution_count": 133,
   "metadata": {
    "ExecuteTime": {
     "end_time": "2022-09-04T16:33:26.349350Z",
     "start_time": "2022-09-04T16:33:26.343366Z"
    },
    "colab": {
     "base_uri": "https://localhost:8080/"
    },
    "executionInfo": {
     "elapsed": 115,
     "status": "ok",
     "timestamp": 1661540839832,
     "user": {
      "displayName": "Harpreet SIngh",
      "userId": "15106381096049879330"
     },
     "user_tz": 300
    },
    "id": "FPs342f5i4Oh",
    "outputId": "6bcaadc1-6eb0-4cdd-d038-2969a393d273"
   },
   "outputs": [
    {
     "data": {
      "text/plain": [
       "<pandas.core.groupby.generic.DataFrameGroupBy object at 0x000001DB70CA3FA0>"
      ]
     },
     "execution_count": 133,
     "metadata": {},
     "output_type": "execute_result"
    }
   ],
   "source": [
    "# group by function on the dataframe\n",
    "# lets group students based on gender\n",
    "df1.groupby('gender')"
   ]
  },
  {
   "cell_type": "code",
   "execution_count": 134,
   "metadata": {
    "ExecuteTime": {
     "end_time": "2022-09-04T16:33:26.798637Z",
     "start_time": "2022-09-04T16:33:26.778691Z"
    },
    "colab": {
     "base_uri": "https://localhost:8080/",
     "height": 143
    },
    "executionInfo": {
     "elapsed": 146,
     "status": "ok",
     "timestamp": 1661540846409,
     "user": {
      "displayName": "Harpreet SIngh",
      "userId": "15106381096049879330"
     },
     "user_tz": 300
    },
    "id": "_dPAVoC3jdpM",
    "outputId": "3322ed8d-af55-4295-9b2e-5255c663ff3d"
   },
   "outputs": [
    {
     "data": {
      "text/html": [
       "<div>\n",
       "<style scoped>\n",
       "    .dataframe tbody tr th:only-of-type {\n",
       "        vertical-align: middle;\n",
       "    }\n",
       "\n",
       "    .dataframe tbody tr th {\n",
       "        vertical-align: top;\n",
       "    }\n",
       "\n",
       "    .dataframe thead th {\n",
       "        text-align: right;\n",
       "    }\n",
       "</style>\n",
       "<table border=\"1\" class=\"dataframe\">\n",
       "  <thead>\n",
       "    <tr style=\"text-align: right;\">\n",
       "      <th></th>\n",
       "      <th>math_score</th>\n",
       "      <th>english_score</th>\n",
       "      <th>age</th>\n",
       "      <th>total_score</th>\n",
       "    </tr>\n",
       "    <tr>\n",
       "      <th>gender</th>\n",
       "      <th></th>\n",
       "      <th></th>\n",
       "      <th></th>\n",
       "      <th></th>\n",
       "    </tr>\n",
       "  </thead>\n",
       "  <tbody>\n",
       "    <tr>\n",
       "      <th>Female</th>\n",
       "      <td>7.333333</td>\n",
       "      <td>10.0</td>\n",
       "      <td>12.0</td>\n",
       "      <td>17.333333</td>\n",
       "    </tr>\n",
       "    <tr>\n",
       "      <th>Male</th>\n",
       "      <td>-11.000000</td>\n",
       "      <td>-15.0</td>\n",
       "      <td>4.5</td>\n",
       "      <td>-26.000000</td>\n",
       "    </tr>\n",
       "  </tbody>\n",
       "</table>\n",
       "</div>"
      ],
      "text/plain": [
       "        math_score  english_score   age  total_score\n",
       "gender                                              \n",
       "Female    7.333333           10.0  12.0    17.333333\n",
       "Male    -11.000000          -15.0   4.5   -26.000000"
      ]
     },
     "execution_count": 134,
     "metadata": {},
     "output_type": "execute_result"
    }
   ],
   "source": [
    "# Now lets apply mean() funtion to the grouped data\n",
    "# It will return the mean of the items for each gender\n",
    "\n",
    "df1.groupby('gender').mean()"
   ]
  },
  {
   "cell_type": "markdown",
   "metadata": {
    "id": "w47LvhStsZl2"
   },
   "source": [
    "#### <FONT COLOR = 'dodgerblue'> **groupby with aggregate()**\n",
    "\n",
    "* We are already familiar with the aggregations such as sum(), median(), std() etc.\n",
    "* But we can use aggregate functions in group by which provides the flexibility to perform any kind of aggregation on the given data.\n",
    "\n",
    "\n",
    "**Syntax** :\n",
    "\n",
    "\n",
    "```\n",
    "  DataFrame.aggregate(func, axis)\n",
    "\n",
    "```\n",
    "we can pass the required function and axis to apply the function.\n"
   ]
  },
  {
   "cell_type": "code",
   "execution_count": 135,
   "metadata": {
    "ExecuteTime": {
     "end_time": "2022-09-04T16:33:28.764414Z",
     "start_time": "2022-09-04T16:33:28.757434Z"
    },
    "colab": {
     "base_uri": "https://localhost:8080/"
    },
    "executionInfo": {
     "elapsed": 111,
     "status": "ok",
     "timestamp": 1661540867703,
     "user": {
      "displayName": "Harpreet SIngh",
      "userId": "15106381096049879330"
     },
     "user_tz": 300
    },
    "id": "TJ6hZAzDlzLl",
    "outputId": "23577ef8-d757-4e42-8f8e-5d1e1b1cca1d"
   },
   "outputs": [
    {
     "name": "stdout",
     "output_type": "stream",
     "text": [
      "My dataframe is: \n",
      "     name   class  math_score  english_score  gender  age  total_score\n",
      "2   ross  second         4.0           10.0  Female   20         14.0\n",
      "3  suzan  second        24.0           20.0  Female    9         44.0\n",
      "1    ami   first        -6.0            0.0  Female    7         -6.0\n",
      "4  henry  second       -16.0          -20.0    Male    5        -36.0\n",
      "0   alex   first        -6.0          -10.0    Male    4        -16.0\n"
     ]
    }
   ],
   "source": [
    "print(f\"My dataframe is: \\n {df1}\")"
   ]
  },
  {
   "cell_type": "code",
   "execution_count": 136,
   "metadata": {
    "ExecuteTime": {
     "end_time": "2022-09-04T16:33:29.006406Z",
     "start_time": "2022-09-04T16:33:28.977483Z"
    },
    "colab": {
     "base_uri": "https://localhost:8080/",
     "height": 175
    },
    "executionInfo": {
     "elapsed": 116,
     "status": "ok",
     "timestamp": 1661540876579,
     "user": {
      "displayName": "Harpreet SIngh",
      "userId": "15106381096049879330"
     },
     "user_tz": 300
    },
    "id": "Lka08TIIjmAW",
    "outputId": "861d2740-4c27-4604-8e83-5b7d2a979706"
   },
   "outputs": [
    {
     "data": {
      "text/html": [
       "<div>\n",
       "<style scoped>\n",
       "    .dataframe tbody tr th:only-of-type {\n",
       "        vertical-align: middle;\n",
       "    }\n",
       "\n",
       "    .dataframe tbody tr th {\n",
       "        vertical-align: top;\n",
       "    }\n",
       "\n",
       "    .dataframe thead tr th {\n",
       "        text-align: left;\n",
       "    }\n",
       "\n",
       "    .dataframe thead tr:last-of-type th {\n",
       "        text-align: right;\n",
       "    }\n",
       "</style>\n",
       "<table border=\"1\" class=\"dataframe\">\n",
       "  <thead>\n",
       "    <tr>\n",
       "      <th></th>\n",
       "      <th colspan=\"2\" halign=\"left\">name</th>\n",
       "      <th colspan=\"2\" halign=\"left\">class</th>\n",
       "      <th colspan=\"2\" halign=\"left\">math_score</th>\n",
       "      <th colspan=\"2\" halign=\"left\">english_score</th>\n",
       "      <th colspan=\"2\" halign=\"left\">age</th>\n",
       "      <th colspan=\"2\" halign=\"left\">total_score</th>\n",
       "    </tr>\n",
       "    <tr>\n",
       "      <th></th>\n",
       "      <th>min</th>\n",
       "      <th>max</th>\n",
       "      <th>min</th>\n",
       "      <th>max</th>\n",
       "      <th>min</th>\n",
       "      <th>max</th>\n",
       "      <th>min</th>\n",
       "      <th>max</th>\n",
       "      <th>min</th>\n",
       "      <th>max</th>\n",
       "      <th>min</th>\n",
       "      <th>max</th>\n",
       "    </tr>\n",
       "    <tr>\n",
       "      <th>gender</th>\n",
       "      <th></th>\n",
       "      <th></th>\n",
       "      <th></th>\n",
       "      <th></th>\n",
       "      <th></th>\n",
       "      <th></th>\n",
       "      <th></th>\n",
       "      <th></th>\n",
       "      <th></th>\n",
       "      <th></th>\n",
       "      <th></th>\n",
       "      <th></th>\n",
       "    </tr>\n",
       "  </thead>\n",
       "  <tbody>\n",
       "    <tr>\n",
       "      <th>Female</th>\n",
       "      <td>ami</td>\n",
       "      <td>suzan</td>\n",
       "      <td>first</td>\n",
       "      <td>second</td>\n",
       "      <td>-6.0</td>\n",
       "      <td>24.0</td>\n",
       "      <td>0.0</td>\n",
       "      <td>20.0</td>\n",
       "      <td>7</td>\n",
       "      <td>20</td>\n",
       "      <td>-6.0</td>\n",
       "      <td>44.0</td>\n",
       "    </tr>\n",
       "    <tr>\n",
       "      <th>Male</th>\n",
       "      <td>alex</td>\n",
       "      <td>henry</td>\n",
       "      <td>first</td>\n",
       "      <td>second</td>\n",
       "      <td>-16.0</td>\n",
       "      <td>-6.0</td>\n",
       "      <td>-20.0</td>\n",
       "      <td>-10.0</td>\n",
       "      <td>4</td>\n",
       "      <td>5</td>\n",
       "      <td>-36.0</td>\n",
       "      <td>-16.0</td>\n",
       "    </tr>\n",
       "  </tbody>\n",
       "</table>\n",
       "</div>"
      ],
      "text/plain": [
       "        name         class         math_score       english_score       age  \\\n",
       "         min    max    min     max        min   max           min   max min   \n",
       "gender                                                                        \n",
       "Female   ami  suzan  first  second       -6.0  24.0           0.0  20.0   7   \n",
       "Male    alex  henry  first  second      -16.0  -6.0         -20.0 -10.0   4   \n",
       "\n",
       "           total_score        \n",
       "       max         min   max  \n",
       "gender                        \n",
       "Female  20        -6.0  44.0  \n",
       "Male     5       -36.0 -16.0  "
      ]
     },
     "execution_count": 136,
     "metadata": {},
     "output_type": "execute_result"
    }
   ],
   "source": [
    "# lets group the data then apply aggregate function\n",
    "# we want minimum and maximum value of each column for males and females\n",
    "df1.groupby('gender').aggregate([min, max])"
   ]
  },
  {
   "cell_type": "markdown",
   "metadata": {
    "id": "rGuPivnbo2G-"
   },
   "source": [
    "#### <FONT COLOR = 'dodgerblue'> **filter out groups using groupby and filter**"
   ]
  },
  {
   "cell_type": "markdown",
   "metadata": {
    "id": "p6uOcwnbICYo"
   },
   "source": [
    "We can use filter with groupby() as well. This will allows us to drop or filter data based on the group properties.\n",
    "\n",
    "**Example** :\n",
    "We want to keep all the groups for whom the maximum value of total_score is greate than 0\n"
   ]
  },
  {
   "cell_type": "code",
   "execution_count": 137,
   "metadata": {
    "ExecuteTime": {
     "end_time": "2022-09-04T16:33:30.089309Z",
     "start_time": "2022-09-04T16:33:30.084328Z"
    },
    "colab": {
     "base_uri": "https://localhost:8080/",
     "height": 143
    },
    "executionInfo": {
     "elapsed": 106,
     "status": "ok",
     "timestamp": 1661540930684,
     "user": {
      "displayName": "Harpreet SIngh",
      "userId": "15106381096049879330"
     },
     "user_tz": 300
    },
    "id": "QBM_p2p1kVFe",
    "outputId": "ff25bc28-c3b4-46bc-e81d-46631f81a20e"
   },
   "outputs": [],
   "source": [
    "# lets create a function\n",
    "\n",
    "def filter_func(df):\n",
    "  return df['total_score'].max() > 0\n",
    "\n",
    "# now pass the function in filter function\n",
    "# code here"
   ]
  },
  {
   "cell_type": "code",
   "execution_count": 138,
   "metadata": {
    "ExecuteTime": {
     "end_time": "2022-09-04T16:33:31.162189Z",
     "start_time": "2022-09-04T16:33:31.140249Z"
    },
    "colab": {
     "base_uri": "https://localhost:8080/",
     "height": 143
    },
    "executionInfo": {
     "elapsed": 125,
     "status": "ok",
     "timestamp": 1661540933712,
     "user": {
      "displayName": "Harpreet SIngh",
      "userId": "15106381096049879330"
     },
     "user_tz": 300
    },
    "id": "49cCokFLnFkV",
    "outputId": "4ca7e945-991e-48eb-fb72-66136e39700f"
   },
   "outputs": [
    {
     "data": {
      "text/html": [
       "<div>\n",
       "<style scoped>\n",
       "    .dataframe tbody tr th:only-of-type {\n",
       "        vertical-align: middle;\n",
       "    }\n",
       "\n",
       "    .dataframe tbody tr th {\n",
       "        vertical-align: top;\n",
       "    }\n",
       "\n",
       "    .dataframe thead th {\n",
       "        text-align: right;\n",
       "    }\n",
       "</style>\n",
       "<table border=\"1\" class=\"dataframe\">\n",
       "  <thead>\n",
       "    <tr style=\"text-align: right;\">\n",
       "      <th></th>\n",
       "      <th>name</th>\n",
       "      <th>class</th>\n",
       "      <th>math_score</th>\n",
       "      <th>english_score</th>\n",
       "      <th>gender</th>\n",
       "      <th>age</th>\n",
       "      <th>total_score</th>\n",
       "    </tr>\n",
       "  </thead>\n",
       "  <tbody>\n",
       "    <tr>\n",
       "      <th>2</th>\n",
       "      <td>ross</td>\n",
       "      <td>second</td>\n",
       "      <td>4.0</td>\n",
       "      <td>10.0</td>\n",
       "      <td>Female</td>\n",
       "      <td>20</td>\n",
       "      <td>14.0</td>\n",
       "    </tr>\n",
       "    <tr>\n",
       "      <th>3</th>\n",
       "      <td>suzan</td>\n",
       "      <td>second</td>\n",
       "      <td>24.0</td>\n",
       "      <td>20.0</td>\n",
       "      <td>Female</td>\n",
       "      <td>9</td>\n",
       "      <td>44.0</td>\n",
       "    </tr>\n",
       "    <tr>\n",
       "      <th>1</th>\n",
       "      <td>ami</td>\n",
       "      <td>first</td>\n",
       "      <td>-6.0</td>\n",
       "      <td>0.0</td>\n",
       "      <td>Female</td>\n",
       "      <td>7</td>\n",
       "      <td>-6.0</td>\n",
       "    </tr>\n",
       "  </tbody>\n",
       "</table>\n",
       "</div>"
      ],
      "text/plain": [
       "    name   class  math_score  english_score  gender  age  total_score\n",
       "2   ross  second         4.0           10.0  Female   20         14.0\n",
       "3  suzan  second        24.0           20.0  Female    9         44.0\n",
       "1    ami   first        -6.0            0.0  Female    7         -6.0"
      ]
     },
     "execution_count": 138,
     "metadata": {},
     "output_type": "execute_result"
    }
   ],
   "source": [
    "# use lamda expression to get the same result\n",
    "df1.groupby('gender').filter(lambda x: x['total_score'].max()>0)"
   ]
  },
  {
   "cell_type": "markdown",
   "metadata": {
    "id": "zzNUw-SHHfYk"
   },
   "source": [
    "<font color = 'red'> **Note:** </font> <font color = 'aqua'>   We get all the obsevations for the group for which the maximum value of total_score was greater than 70. The filter is applied at the group level."
   ]
  },
  {
   "cell_type": "markdown",
   "metadata": {
    "id": "jx3ZVbofnMdz"
   },
   "source": [
    "## <font color = 'dodgerblue'> **Pivot Tables**\n",
    "Pandas supports spreadsheet-like pivot tables that allow quick data summarization."
   ]
  },
  {
   "cell_type": "code",
   "execution_count": 139,
   "metadata": {
    "ExecuteTime": {
     "end_time": "2022-09-04T16:33:31.980361Z",
     "start_time": "2022-09-04T16:33:31.962409Z"
    },
    "colab": {
     "base_uri": "https://localhost:8080/",
     "height": 143
    },
    "executionInfo": {
     "elapsed": 154,
     "status": "ok",
     "timestamp": 1661541073565,
     "user": {
      "displayName": "Harpreet SIngh",
      "userId": "15106381096049879330"
     },
     "user_tz": 300
    },
    "id": "n-q_xA02n8GB",
    "outputId": "fac56c2a-2b04-4ec5-819b-88533b84f89f"
   },
   "outputs": [
    {
     "data": {
      "text/html": [
       "<div>\n",
       "<style scoped>\n",
       "    .dataframe tbody tr th:only-of-type {\n",
       "        vertical-align: middle;\n",
       "    }\n",
       "\n",
       "    .dataframe tbody tr th {\n",
       "        vertical-align: top;\n",
       "    }\n",
       "\n",
       "    .dataframe thead th {\n",
       "        text-align: right;\n",
       "    }\n",
       "</style>\n",
       "<table border=\"1\" class=\"dataframe\">\n",
       "  <thead>\n",
       "    <tr style=\"text-align: right;\">\n",
       "      <th></th>\n",
       "      <th>total_score</th>\n",
       "    </tr>\n",
       "    <tr>\n",
       "      <th>gender</th>\n",
       "      <th></th>\n",
       "    </tr>\n",
       "  </thead>\n",
       "  <tbody>\n",
       "    <tr>\n",
       "      <th>Female</th>\n",
       "      <td>17.333333</td>\n",
       "    </tr>\n",
       "    <tr>\n",
       "      <th>Male</th>\n",
       "      <td>-26.000000</td>\n",
       "    </tr>\n",
       "  </tbody>\n",
       "</table>\n",
       "</div>"
      ],
      "text/plain": [
       "        total_score\n",
       "gender             \n",
       "Female    17.333333\n",
       "Male     -26.000000"
      ]
     },
     "execution_count": 139,
     "metadata": {},
     "output_type": "execute_result"
    }
   ],
   "source": [
    "# let us get the mean  of total_score for each gender using groupby\n",
    "df1.groupby('gender')[['total_score']].mean()"
   ]
  },
  {
   "cell_type": "code",
   "execution_count": 140,
   "metadata": {
    "ExecuteTime": {
     "end_time": "2022-09-04T16:33:32.399922Z",
     "start_time": "2022-09-04T16:33:32.388951Z"
    },
    "colab": {
     "base_uri": "https://localhost:8080/",
     "height": 206
    },
    "executionInfo": {
     "elapsed": 109,
     "status": "ok",
     "timestamp": 1661541078851,
     "user": {
      "displayName": "Harpreet SIngh",
      "userId": "15106381096049879330"
     },
     "user_tz": 300
    },
    "id": "_nAXxLITpwHg",
    "outputId": "d03d3f5c-b563-49f9-c840-4b6291faf4a4"
   },
   "outputs": [
    {
     "data": {
      "text/html": [
       "<div>\n",
       "<style scoped>\n",
       "    .dataframe tbody tr th:only-of-type {\n",
       "        vertical-align: middle;\n",
       "    }\n",
       "\n",
       "    .dataframe tbody tr th {\n",
       "        vertical-align: top;\n",
       "    }\n",
       "\n",
       "    .dataframe thead th {\n",
       "        text-align: right;\n",
       "    }\n",
       "</style>\n",
       "<table border=\"1\" class=\"dataframe\">\n",
       "  <thead>\n",
       "    <tr style=\"text-align: right;\">\n",
       "      <th></th>\n",
       "      <th></th>\n",
       "      <th>total_score</th>\n",
       "    </tr>\n",
       "    <tr>\n",
       "      <th>gender</th>\n",
       "      <th>class</th>\n",
       "      <th></th>\n",
       "    </tr>\n",
       "  </thead>\n",
       "  <tbody>\n",
       "    <tr>\n",
       "      <th rowspan=\"2\" valign=\"top\">Female</th>\n",
       "      <th>first</th>\n",
       "      <td>-6.0</td>\n",
       "    </tr>\n",
       "    <tr>\n",
       "      <th>second</th>\n",
       "      <td>29.0</td>\n",
       "    </tr>\n",
       "    <tr>\n",
       "      <th rowspan=\"2\" valign=\"top\">Male</th>\n",
       "      <th>first</th>\n",
       "      <td>-16.0</td>\n",
       "    </tr>\n",
       "    <tr>\n",
       "      <th>second</th>\n",
       "      <td>-36.0</td>\n",
       "    </tr>\n",
       "  </tbody>\n",
       "</table>\n",
       "</div>"
      ],
      "text/plain": [
       "               total_score\n",
       "gender class              \n",
       "Female first          -6.0\n",
       "       second         29.0\n",
       "Male   first         -16.0\n",
       "       second        -36.0"
      ]
     },
     "execution_count": 140,
     "metadata": {},
     "output_type": "execute_result"
    }
   ],
   "source": [
    "# let us get the mean  of total_score for each gender in each class using groupby\n",
    "df1.groupby(['gender','class'])[['total_score']].mean()"
   ]
  },
  {
   "cell_type": "code",
   "execution_count": 141,
   "metadata": {
    "ExecuteTime": {
     "end_time": "2022-09-04T16:33:33.000889Z",
     "start_time": "2022-09-04T16:33:32.989918Z"
    },
    "colab": {
     "base_uri": "https://localhost:8080/",
     "height": 175
    },
    "executionInfo": {
     "elapsed": 255,
     "status": "ok",
     "timestamp": 1661541082738,
     "user": {
      "displayName": "Harpreet SIngh",
      "userId": "15106381096049879330"
     },
     "user_tz": 300
    },
    "id": "sbNPNTeVqBXb",
    "outputId": "a006cd66-02c5-4460-ce29-f0b5702fff6b"
   },
   "outputs": [
    {
     "data": {
      "text/html": [
       "<div>\n",
       "<style scoped>\n",
       "    .dataframe tbody tr th:only-of-type {\n",
       "        vertical-align: middle;\n",
       "    }\n",
       "\n",
       "    .dataframe tbody tr th {\n",
       "        vertical-align: top;\n",
       "    }\n",
       "\n",
       "    .dataframe thead tr th {\n",
       "        text-align: left;\n",
       "    }\n",
       "\n",
       "    .dataframe thead tr:last-of-type th {\n",
       "        text-align: right;\n",
       "    }\n",
       "</style>\n",
       "<table border=\"1\" class=\"dataframe\">\n",
       "  <thead>\n",
       "    <tr>\n",
       "      <th></th>\n",
       "      <th colspan=\"2\" halign=\"left\">total_score</th>\n",
       "    </tr>\n",
       "    <tr>\n",
       "      <th>class</th>\n",
       "      <th>first</th>\n",
       "      <th>second</th>\n",
       "    </tr>\n",
       "    <tr>\n",
       "      <th>gender</th>\n",
       "      <th></th>\n",
       "      <th></th>\n",
       "    </tr>\n",
       "  </thead>\n",
       "  <tbody>\n",
       "    <tr>\n",
       "      <th>Female</th>\n",
       "      <td>-6.0</td>\n",
       "      <td>29.0</td>\n",
       "    </tr>\n",
       "    <tr>\n",
       "      <th>Male</th>\n",
       "      <td>-16.0</td>\n",
       "      <td>-36.0</td>\n",
       "    </tr>\n",
       "  </tbody>\n",
       "</table>\n",
       "</div>"
      ],
      "text/plain": [
       "       total_score       \n",
       "class        first second\n",
       "gender                   \n",
       "Female        -6.0   29.0\n",
       "Male         -16.0  -36.0"
      ]
     },
     "execution_count": 141,
     "metadata": {},
     "output_type": "execute_result"
    }
   ],
   "source": [
    "# we can unstack the above results\n",
    "df1.groupby(['gender','class'])[['total_score']].mean().unstack()"
   ]
  },
  {
   "cell_type": "code",
   "execution_count": 142,
   "metadata": {
    "ExecuteTime": {
     "end_time": "2022-09-04T16:33:34.204226Z",
     "start_time": "2022-09-04T16:33:34.191261Z"
    },
    "colab": {
     "base_uri": "https://localhost:8080/",
     "height": 143
    },
    "executionInfo": {
     "elapsed": 196,
     "status": "ok",
     "timestamp": 1661541089628,
     "user": {
      "displayName": "Harpreet SIngh",
      "userId": "15106381096049879330"
     },
     "user_tz": 300
    },
    "id": "V03-8h2cqKX5",
    "outputId": "b466e4f7-b75a-4233-f671-0b39d515bf23"
   },
   "outputs": [],
   "source": [
    "# This could be done more easily using pivot tables\n",
    "# code here"
   ]
  },
  {
   "cell_type": "code",
   "execution_count": 143,
   "metadata": {
    "ExecuteTime": {
     "end_time": "2022-09-04T16:33:34.435342Z",
     "start_time": "2022-09-04T16:33:34.418388Z"
    },
    "colab": {
     "base_uri": "https://localhost:8080/",
     "height": 143
    },
    "executionInfo": {
     "elapsed": 141,
     "status": "ok",
     "timestamp": 1661541099010,
     "user": {
      "displayName": "Harpreet SIngh",
      "userId": "15106381096049879330"
     },
     "user_tz": 300
    },
    "id": "NZNGiUmRqYLy",
    "outputId": "93ba85fd-dd82-46ff-ad1b-0af0ba1f2ab9"
   },
   "outputs": [],
   "source": [
    "# the default aggregate function is mean, we can easily change this to any otyher function\n",
    "# code here"
   ]
  },
  {
   "cell_type": "markdown",
   "metadata": {
    "id": "AO_3TPeInCV0"
   },
   "source": [
    "## <font color = 'dodgerblue'> **Combine Datasets: Merge and Join**\n",
    "With Pandas we can use SQL-like joins on DataFrames. Pandas support various types of joins like: inner joins, left/right outer joins and full joins. We will now illustrate these below:"
   ]
  },
  {
   "cell_type": "code",
   "execution_count": 144,
   "metadata": {
    "ExecuteTime": {
     "end_time": "2022-09-04T16:33:35.994725Z",
     "start_time": "2022-09-04T16:33:35.983754Z"
    },
    "colab": {
     "base_uri": "https://localhost:8080/"
    },
    "executionInfo": {
     "elapsed": 124,
     "status": "ok",
     "timestamp": 1661541111350,
     "user": {
      "displayName": "Harpreet SIngh",
      "userId": "15106381096049879330"
     },
     "user_tz": 300
    },
    "id": "Wi0a9JGY3EeZ",
    "outputId": "2b0e03ed-bafb-4d9f-fb59-e562138c45a3"
   },
   "outputs": [
    {
     "name": "stdout",
     "output_type": "stream",
     "text": [
      "Ratings data\n",
      "   user_id  item_id  rating\n",
      "0        1        1       1\n",
      "1        2        2       1\n",
      "2        3        3       5\n",
      "3        4        1       5\n",
      "4        5        2       4\n",
      "5        6        4       4\n",
      "6        7        5       4\n",
      "7        1        6       3\n",
      "8        2        7       2\n",
      "9        3        8       1\n",
      "\n",
      "Movie Titles\n",
      "   item_id movie_names\n",
      "0        2           B\n",
      "1        3           C\n",
      "2        4           D\n",
      "3        5           E\n",
      "4        6           F\n",
      "5        7           G\n",
      "6        8           H\n",
      "7        9           I\n",
      "8       10           J\n"
     ]
    }
   ],
   "source": [
    "import pandas as pd\n",
    "# Create dataframe\n",
    "data = {'user_id':[1, 2, 3, 4, 5, 6, 7, 1, 2, 3],\n",
    "       'item_id': [1, 2, 3, 1, 2, 4, 5, 6, 7, 8],\n",
    "       'rating':  [1, 1, 5, 5, 4, 4, 4, 3, 2, 1]}\n",
    "ratings = pd.DataFrame(data)\n",
    "\n",
    "title_names = {'item_id': [2, 3, 4, 5, 6, 7, 8, 9, 10],\n",
    "          'movie_names': ' B C D E F G H I J '.split(),\n",
    "          }\n",
    "          \n",
    "movie_title = pd.DataFrame(title_names)\n",
    "\n",
    "print(f'Ratings data\\n{ratings}')\n",
    "print(f'\\nMovie Titles\\n{movie_title}')"
   ]
  },
  {
   "cell_type": "markdown",
   "metadata": {
    "id": "av6OtDHKqtu1"
   },
   "source": [
    "### <font color = 'dodgerblue'> **Merge-INNER JOIN**"
   ]
  },
  {
   "cell_type": "code",
   "execution_count": 145,
   "metadata": {
    "ExecuteTime": {
     "end_time": "2022-09-04T16:33:37.676873Z",
     "start_time": "2022-09-04T16:33:37.668892Z"
    },
    "id": "Q6J86u5bMkEO"
   },
   "outputs": [],
   "source": [
    "# join data sets using merge\n",
    "# code here"
   ]
  },
  {
   "cell_type": "markdown",
   "metadata": {
    "id": "djDDLp22QaBJ"
   },
   "source": [
    "<font color = 'red'> **Note:** </font> <font color = 'aqua'>  Item_id 1, 9 and 10  were dropped because they don't exist in **both `DataFrame`s**. itemid 1 was missing from movie_title and item_id 9 amd 10 were not present in ratings dataframe This is the equivalent of a SQL `INNER JOIN`. If we want a `FULL OUTER JOIN`, where no item_id is dropped and `NaN` values are added, we should specify `how=\"outer\"`:"
   ]
  },
  {
   "cell_type": "markdown",
   "metadata": {
    "id": "6qtf5uQUrQcO"
   },
   "source": [
    "### <font color = 'dodgerblue'> **Merge-OUTER JOIN**"
   ]
  },
  {
   "cell_type": "code",
   "execution_count": 146,
   "metadata": {
    "ExecuteTime": {
     "end_time": "2022-09-04T16:33:38.973271Z",
     "start_time": "2022-09-04T16:33:38.960323Z"
    },
    "colab": {
     "base_uri": "https://localhost:8080/",
     "height": 426
    },
    "executionInfo": {
     "elapsed": 149,
     "status": "ok",
     "timestamp": 1661548499093,
     "user": {
      "displayName": "Harpreet SIngh",
      "userId": "15106381096049879330"
     },
     "user_tz": 300
    },
    "id": "55gKr2IvRJaX",
    "outputId": "0fb1e850-ac78-46de-b3c6-e563de64c3d5"
   },
   "outputs": [
    {
     "data": {
      "text/html": [
       "<div>\n",
       "<style scoped>\n",
       "    .dataframe tbody tr th:only-of-type {\n",
       "        vertical-align: middle;\n",
       "    }\n",
       "\n",
       "    .dataframe tbody tr th {\n",
       "        vertical-align: top;\n",
       "    }\n",
       "\n",
       "    .dataframe thead th {\n",
       "        text-align: right;\n",
       "    }\n",
       "</style>\n",
       "<table border=\"1\" class=\"dataframe\">\n",
       "  <thead>\n",
       "    <tr style=\"text-align: right;\">\n",
       "      <th></th>\n",
       "      <th>user_id</th>\n",
       "      <th>item_id</th>\n",
       "      <th>rating</th>\n",
       "      <th>movie_names</th>\n",
       "    </tr>\n",
       "  </thead>\n",
       "  <tbody>\n",
       "    <tr>\n",
       "      <th>0</th>\n",
       "      <td>1.0</td>\n",
       "      <td>1</td>\n",
       "      <td>1.0</td>\n",
       "      <td>NaN</td>\n",
       "    </tr>\n",
       "    <tr>\n",
       "      <th>1</th>\n",
       "      <td>4.0</td>\n",
       "      <td>1</td>\n",
       "      <td>5.0</td>\n",
       "      <td>NaN</td>\n",
       "    </tr>\n",
       "    <tr>\n",
       "      <th>2</th>\n",
       "      <td>2.0</td>\n",
       "      <td>2</td>\n",
       "      <td>1.0</td>\n",
       "      <td>B</td>\n",
       "    </tr>\n",
       "    <tr>\n",
       "      <th>3</th>\n",
       "      <td>5.0</td>\n",
       "      <td>2</td>\n",
       "      <td>4.0</td>\n",
       "      <td>B</td>\n",
       "    </tr>\n",
       "    <tr>\n",
       "      <th>4</th>\n",
       "      <td>3.0</td>\n",
       "      <td>3</td>\n",
       "      <td>5.0</td>\n",
       "      <td>C</td>\n",
       "    </tr>\n",
       "    <tr>\n",
       "      <th>5</th>\n",
       "      <td>6.0</td>\n",
       "      <td>4</td>\n",
       "      <td>4.0</td>\n",
       "      <td>D</td>\n",
       "    </tr>\n",
       "    <tr>\n",
       "      <th>6</th>\n",
       "      <td>7.0</td>\n",
       "      <td>5</td>\n",
       "      <td>4.0</td>\n",
       "      <td>E</td>\n",
       "    </tr>\n",
       "    <tr>\n",
       "      <th>7</th>\n",
       "      <td>1.0</td>\n",
       "      <td>6</td>\n",
       "      <td>3.0</td>\n",
       "      <td>F</td>\n",
       "    </tr>\n",
       "    <tr>\n",
       "      <th>8</th>\n",
       "      <td>2.0</td>\n",
       "      <td>7</td>\n",
       "      <td>2.0</td>\n",
       "      <td>G</td>\n",
       "    </tr>\n",
       "    <tr>\n",
       "      <th>9</th>\n",
       "      <td>3.0</td>\n",
       "      <td>8</td>\n",
       "      <td>1.0</td>\n",
       "      <td>H</td>\n",
       "    </tr>\n",
       "    <tr>\n",
       "      <th>10</th>\n",
       "      <td>NaN</td>\n",
       "      <td>9</td>\n",
       "      <td>NaN</td>\n",
       "      <td>I</td>\n",
       "    </tr>\n",
       "    <tr>\n",
       "      <th>11</th>\n",
       "      <td>NaN</td>\n",
       "      <td>10</td>\n",
       "      <td>NaN</td>\n",
       "      <td>J</td>\n",
       "    </tr>\n",
       "  </tbody>\n",
       "</table>\n",
       "</div>"
      ],
      "text/plain": [
       "    user_id  item_id  rating movie_names\n",
       "0       1.0        1     1.0         NaN\n",
       "1       4.0        1     5.0         NaN\n",
       "2       2.0        2     1.0           B\n",
       "3       5.0        2     4.0           B\n",
       "4       3.0        3     5.0           C\n",
       "5       6.0        4     4.0           D\n",
       "6       7.0        5     4.0           E\n",
       "7       1.0        6     3.0           F\n",
       "8       2.0        7     2.0           G\n",
       "9       3.0        8     1.0           H\n",
       "10      NaN        9     NaN           I\n",
       "11      NaN       10     NaN           J"
      ]
     },
     "execution_count": 146,
     "metadata": {},
     "output_type": "execute_result"
    }
   ],
   "source": [
    "all_titles = pd.merge(left=ratings, right=movie_title, on=\"item_id\", how = 'outer')\n",
    "all_titles"
   ]
  },
  {
   "cell_type": "markdown",
   "metadata": {
    "id": "Yi4gPPLqRiN5"
   },
   "source": [
    "We can also use LEFT OUTER JOIN by setting how=\"left\": only the movies present in the ratings DataFrame will appear in the result. Similarly, with how=\"right\" only movies in the right DataFrame will appear in the result. Let us see example of LEFT OUTER JOIN"
   ]
  },
  {
   "cell_type": "code",
   "execution_count": 147,
   "metadata": {
    "ExecuteTime": {
     "end_time": "2022-09-04T16:33:40.455918Z",
     "start_time": "2022-09-04T16:33:40.436971Z"
    },
    "colab": {
     "base_uri": "https://localhost:8080/",
     "height": 363
    },
    "executionInfo": {
     "elapsed": 150,
     "status": "ok",
     "timestamp": 1661548507011,
     "user": {
      "displayName": "Harpreet SIngh",
      "userId": "15106381096049879330"
     },
     "user_tz": 300
    },
    "id": "DXGBhfRMSH08",
    "outputId": "e30b5e4b-8de9-473f-b2be-c935fb5855f5"
   },
   "outputs": [
    {
     "data": {
      "text/html": [
       "<div>\n",
       "<style scoped>\n",
       "    .dataframe tbody tr th:only-of-type {\n",
       "        vertical-align: middle;\n",
       "    }\n",
       "\n",
       "    .dataframe tbody tr th {\n",
       "        vertical-align: top;\n",
       "    }\n",
       "\n",
       "    .dataframe thead th {\n",
       "        text-align: right;\n",
       "    }\n",
       "</style>\n",
       "<table border=\"1\" class=\"dataframe\">\n",
       "  <thead>\n",
       "    <tr style=\"text-align: right;\">\n",
       "      <th></th>\n",
       "      <th>user_id</th>\n",
       "      <th>item_id</th>\n",
       "      <th>rating</th>\n",
       "      <th>movie_names</th>\n",
       "    </tr>\n",
       "  </thead>\n",
       "  <tbody>\n",
       "    <tr>\n",
       "      <th>0</th>\n",
       "      <td>1</td>\n",
       "      <td>1</td>\n",
       "      <td>1</td>\n",
       "      <td>NaN</td>\n",
       "    </tr>\n",
       "    <tr>\n",
       "      <th>1</th>\n",
       "      <td>2</td>\n",
       "      <td>2</td>\n",
       "      <td>1</td>\n",
       "      <td>B</td>\n",
       "    </tr>\n",
       "    <tr>\n",
       "      <th>2</th>\n",
       "      <td>3</td>\n",
       "      <td>3</td>\n",
       "      <td>5</td>\n",
       "      <td>C</td>\n",
       "    </tr>\n",
       "    <tr>\n",
       "      <th>3</th>\n",
       "      <td>4</td>\n",
       "      <td>1</td>\n",
       "      <td>5</td>\n",
       "      <td>NaN</td>\n",
       "    </tr>\n",
       "    <tr>\n",
       "      <th>4</th>\n",
       "      <td>5</td>\n",
       "      <td>2</td>\n",
       "      <td>4</td>\n",
       "      <td>B</td>\n",
       "    </tr>\n",
       "    <tr>\n",
       "      <th>5</th>\n",
       "      <td>6</td>\n",
       "      <td>4</td>\n",
       "      <td>4</td>\n",
       "      <td>D</td>\n",
       "    </tr>\n",
       "    <tr>\n",
       "      <th>6</th>\n",
       "      <td>7</td>\n",
       "      <td>5</td>\n",
       "      <td>4</td>\n",
       "      <td>E</td>\n",
       "    </tr>\n",
       "    <tr>\n",
       "      <th>7</th>\n",
       "      <td>1</td>\n",
       "      <td>6</td>\n",
       "      <td>3</td>\n",
       "      <td>F</td>\n",
       "    </tr>\n",
       "    <tr>\n",
       "      <th>8</th>\n",
       "      <td>2</td>\n",
       "      <td>7</td>\n",
       "      <td>2</td>\n",
       "      <td>G</td>\n",
       "    </tr>\n",
       "    <tr>\n",
       "      <th>9</th>\n",
       "      <td>3</td>\n",
       "      <td>8</td>\n",
       "      <td>1</td>\n",
       "      <td>H</td>\n",
       "    </tr>\n",
       "  </tbody>\n",
       "</table>\n",
       "</div>"
      ],
      "text/plain": [
       "   user_id  item_id  rating movie_names\n",
       "0        1        1       1         NaN\n",
       "1        2        2       1           B\n",
       "2        3        3       5           C\n",
       "3        4        1       5         NaN\n",
       "4        5        2       4           B\n",
       "5        6        4       4           D\n",
       "6        7        5       4           E\n",
       "7        1        6       3           F\n",
       "8        2        7       2           G\n",
       "9        3        8       1           H"
      ]
     },
     "execution_count": 147,
     "metadata": {},
     "output_type": "execute_result"
    }
   ],
   "source": [
    "movies_with_ratings_only = pd.merge(left=ratings, right=movie_title, on=\"item_id\", how = 'left')\n",
    "movies_with_ratings_only"
   ]
  },
  {
   "cell_type": "code",
   "execution_count": 148,
   "metadata": {
    "ExecuteTime": {
     "end_time": "2022-09-04T16:33:41.010100Z",
     "start_time": "2022-09-04T16:33:40.986164Z"
    },
    "colab": {
     "base_uri": "https://localhost:8080/",
     "height": 363
    },
    "executionInfo": {
     "elapsed": 135,
     "status": "ok",
     "timestamp": 1661548509349,
     "user": {
      "displayName": "Harpreet SIngh",
      "userId": "15106381096049879330"
     },
     "user_tz": 300
    },
    "id": "GY1V862oSPO4",
    "outputId": "b159e6b7-cbb6-4af5-c923-a57de8781901"
   },
   "outputs": [
    {
     "data": {
      "text/html": [
       "<div>\n",
       "<style scoped>\n",
       "    .dataframe tbody tr th:only-of-type {\n",
       "        vertical-align: middle;\n",
       "    }\n",
       "\n",
       "    .dataframe tbody tr th {\n",
       "        vertical-align: top;\n",
       "    }\n",
       "\n",
       "    .dataframe thead th {\n",
       "        text-align: right;\n",
       "    }\n",
       "</style>\n",
       "<table border=\"1\" class=\"dataframe\">\n",
       "  <thead>\n",
       "    <tr style=\"text-align: right;\">\n",
       "      <th></th>\n",
       "      <th>user_id</th>\n",
       "      <th>item_id</th>\n",
       "      <th>rating</th>\n",
       "      <th>movie_names</th>\n",
       "    </tr>\n",
       "  </thead>\n",
       "  <tbody>\n",
       "    <tr>\n",
       "      <th>0</th>\n",
       "      <td>2.0</td>\n",
       "      <td>2</td>\n",
       "      <td>1.0</td>\n",
       "      <td>B</td>\n",
       "    </tr>\n",
       "    <tr>\n",
       "      <th>1</th>\n",
       "      <td>5.0</td>\n",
       "      <td>2</td>\n",
       "      <td>4.0</td>\n",
       "      <td>B</td>\n",
       "    </tr>\n",
       "    <tr>\n",
       "      <th>2</th>\n",
       "      <td>3.0</td>\n",
       "      <td>3</td>\n",
       "      <td>5.0</td>\n",
       "      <td>C</td>\n",
       "    </tr>\n",
       "    <tr>\n",
       "      <th>3</th>\n",
       "      <td>6.0</td>\n",
       "      <td>4</td>\n",
       "      <td>4.0</td>\n",
       "      <td>D</td>\n",
       "    </tr>\n",
       "    <tr>\n",
       "      <th>4</th>\n",
       "      <td>7.0</td>\n",
       "      <td>5</td>\n",
       "      <td>4.0</td>\n",
       "      <td>E</td>\n",
       "    </tr>\n",
       "    <tr>\n",
       "      <th>5</th>\n",
       "      <td>1.0</td>\n",
       "      <td>6</td>\n",
       "      <td>3.0</td>\n",
       "      <td>F</td>\n",
       "    </tr>\n",
       "    <tr>\n",
       "      <th>6</th>\n",
       "      <td>2.0</td>\n",
       "      <td>7</td>\n",
       "      <td>2.0</td>\n",
       "      <td>G</td>\n",
       "    </tr>\n",
       "    <tr>\n",
       "      <th>7</th>\n",
       "      <td>3.0</td>\n",
       "      <td>8</td>\n",
       "      <td>1.0</td>\n",
       "      <td>H</td>\n",
       "    </tr>\n",
       "    <tr>\n",
       "      <th>8</th>\n",
       "      <td>NaN</td>\n",
       "      <td>9</td>\n",
       "      <td>NaN</td>\n",
       "      <td>I</td>\n",
       "    </tr>\n",
       "    <tr>\n",
       "      <th>9</th>\n",
       "      <td>NaN</td>\n",
       "      <td>10</td>\n",
       "      <td>NaN</td>\n",
       "      <td>J</td>\n",
       "    </tr>\n",
       "  </tbody>\n",
       "</table>\n",
       "</div>"
      ],
      "text/plain": [
       "   user_id  item_id  rating movie_names\n",
       "0      2.0        2     1.0           B\n",
       "1      5.0        2     4.0           B\n",
       "2      3.0        3     5.0           C\n",
       "3      6.0        4     4.0           D\n",
       "4      7.0        5     4.0           E\n",
       "5      1.0        6     3.0           F\n",
       "6      2.0        7     2.0           G\n",
       "7      3.0        8     1.0           H\n",
       "8      NaN        9     NaN           I\n",
       "9      NaN       10     NaN           J"
      ]
     },
     "execution_count": 148,
     "metadata": {},
     "output_type": "execute_result"
    }
   ],
   "source": [
    "movies_with_title_info_only = pd.merge(left=ratings, right=movie_title, on=\"item_id\", how = 'right')\n",
    "movies_with_title_info_only "
   ]
  },
  {
   "cell_type": "markdown",
   "metadata": {
    "id": "lTsSDo0Krudb"
   },
   "source": [
    "### <font color = 'dodgerblue'> **Merge - key column names are different**"
   ]
  },
  {
   "cell_type": "code",
   "execution_count": 149,
   "metadata": {
    "ExecuteTime": {
     "end_time": "2022-09-04T16:33:42.300202Z",
     "start_time": "2022-09-04T16:33:42.288234Z"
    },
    "colab": {
     "base_uri": "https://localhost:8080/",
     "height": 331
    },
    "executionInfo": {
     "elapsed": 152,
     "status": "ok",
     "timestamp": 1661548518226,
     "user": {
      "displayName": "Harpreet SIngh",
      "userId": "15106381096049879330"
     },
     "user_tz": 300
    },
    "id": "lcQvbXTSTPhu",
    "outputId": "09440d38-968a-40c8-fa52-6e9a7e22e38e"
   },
   "outputs": [
    {
     "data": {
      "text/html": [
       "<div>\n",
       "<style scoped>\n",
       "    .dataframe tbody tr th:only-of-type {\n",
       "        vertical-align: middle;\n",
       "    }\n",
       "\n",
       "    .dataframe tbody tr th {\n",
       "        vertical-align: top;\n",
       "    }\n",
       "\n",
       "    .dataframe thead th {\n",
       "        text-align: right;\n",
       "    }\n",
       "</style>\n",
       "<table border=\"1\" class=\"dataframe\">\n",
       "  <thead>\n",
       "    <tr style=\"text-align: right;\">\n",
       "      <th></th>\n",
       "      <th>movie_id</th>\n",
       "      <th>movie_names</th>\n",
       "    </tr>\n",
       "  </thead>\n",
       "  <tbody>\n",
       "    <tr>\n",
       "      <th>0</th>\n",
       "      <td>2</td>\n",
       "      <td>B</td>\n",
       "    </tr>\n",
       "    <tr>\n",
       "      <th>1</th>\n",
       "      <td>3</td>\n",
       "      <td>C</td>\n",
       "    </tr>\n",
       "    <tr>\n",
       "      <th>2</th>\n",
       "      <td>4</td>\n",
       "      <td>D</td>\n",
       "    </tr>\n",
       "    <tr>\n",
       "      <th>3</th>\n",
       "      <td>5</td>\n",
       "      <td>E</td>\n",
       "    </tr>\n",
       "    <tr>\n",
       "      <th>4</th>\n",
       "      <td>6</td>\n",
       "      <td>F</td>\n",
       "    </tr>\n",
       "    <tr>\n",
       "      <th>5</th>\n",
       "      <td>7</td>\n",
       "      <td>G</td>\n",
       "    </tr>\n",
       "    <tr>\n",
       "      <th>6</th>\n",
       "      <td>8</td>\n",
       "      <td>H</td>\n",
       "    </tr>\n",
       "    <tr>\n",
       "      <th>7</th>\n",
       "      <td>9</td>\n",
       "      <td>I</td>\n",
       "    </tr>\n",
       "    <tr>\n",
       "      <th>8</th>\n",
       "      <td>10</td>\n",
       "      <td>J</td>\n",
       "    </tr>\n",
       "  </tbody>\n",
       "</table>\n",
       "</div>"
      ],
      "text/plain": [
       "   movie_id movie_names\n",
       "0         2           B\n",
       "1         3           C\n",
       "2         4           D\n",
       "3         5           E\n",
       "4         6           F\n",
       "5         7           G\n",
       "6         8           H\n",
       "7         9           I\n",
       "8        10           J"
      ]
     },
     "execution_count": 149,
     "metadata": {},
     "output_type": "execute_result"
    }
   ],
   "source": [
    "movie_title_2 = movie_title.copy()\n",
    "movie_title_2.columns = [\"movie_id\", \"movie_names\"]\n",
    "movie_title_2"
   ]
  },
  {
   "cell_type": "markdown",
   "metadata": {
    "id": "NCciZe6SUM3V"
   },
   "source": [
    "If the key column names differ, then we have to use  use left_on and right_on. For example:"
   ]
  },
  {
   "cell_type": "code",
   "execution_count": 150,
   "metadata": {
    "ExecuteTime": {
     "end_time": "2022-09-04T16:33:42.950536Z",
     "start_time": "2022-09-04T16:33:42.930590Z"
    },
    "colab": {
     "base_uri": "https://localhost:8080/",
     "height": 300
    },
    "executionInfo": {
     "elapsed": 128,
     "status": "ok",
     "timestamp": 1661548520227,
     "user": {
      "displayName": "Harpreet SIngh",
      "userId": "15106381096049879330"
     },
     "user_tz": 300
    },
    "id": "DwOsf09vUYMv",
    "outputId": "3d8d31a0-202a-4945-a6c6-3eecb5278ca7"
   },
   "outputs": [
    {
     "data": {
      "text/html": [
       "<div>\n",
       "<style scoped>\n",
       "    .dataframe tbody tr th:only-of-type {\n",
       "        vertical-align: middle;\n",
       "    }\n",
       "\n",
       "    .dataframe tbody tr th {\n",
       "        vertical-align: top;\n",
       "    }\n",
       "\n",
       "    .dataframe thead th {\n",
       "        text-align: right;\n",
       "    }\n",
       "</style>\n",
       "<table border=\"1\" class=\"dataframe\">\n",
       "  <thead>\n",
       "    <tr style=\"text-align: right;\">\n",
       "      <th></th>\n",
       "      <th>user_id</th>\n",
       "      <th>item_id</th>\n",
       "      <th>rating</th>\n",
       "      <th>movie_id</th>\n",
       "      <th>movie_names</th>\n",
       "    </tr>\n",
       "  </thead>\n",
       "  <tbody>\n",
       "    <tr>\n",
       "      <th>0</th>\n",
       "      <td>2</td>\n",
       "      <td>2</td>\n",
       "      <td>1</td>\n",
       "      <td>2</td>\n",
       "      <td>B</td>\n",
       "    </tr>\n",
       "    <tr>\n",
       "      <th>1</th>\n",
       "      <td>5</td>\n",
       "      <td>2</td>\n",
       "      <td>4</td>\n",
       "      <td>2</td>\n",
       "      <td>B</td>\n",
       "    </tr>\n",
       "    <tr>\n",
       "      <th>2</th>\n",
       "      <td>3</td>\n",
       "      <td>3</td>\n",
       "      <td>5</td>\n",
       "      <td>3</td>\n",
       "      <td>C</td>\n",
       "    </tr>\n",
       "    <tr>\n",
       "      <th>3</th>\n",
       "      <td>6</td>\n",
       "      <td>4</td>\n",
       "      <td>4</td>\n",
       "      <td>4</td>\n",
       "      <td>D</td>\n",
       "    </tr>\n",
       "    <tr>\n",
       "      <th>4</th>\n",
       "      <td>7</td>\n",
       "      <td>5</td>\n",
       "      <td>4</td>\n",
       "      <td>5</td>\n",
       "      <td>E</td>\n",
       "    </tr>\n",
       "    <tr>\n",
       "      <th>5</th>\n",
       "      <td>1</td>\n",
       "      <td>6</td>\n",
       "      <td>3</td>\n",
       "      <td>6</td>\n",
       "      <td>F</td>\n",
       "    </tr>\n",
       "    <tr>\n",
       "      <th>6</th>\n",
       "      <td>2</td>\n",
       "      <td>7</td>\n",
       "      <td>2</td>\n",
       "      <td>7</td>\n",
       "      <td>G</td>\n",
       "    </tr>\n",
       "    <tr>\n",
       "      <th>7</th>\n",
       "      <td>3</td>\n",
       "      <td>8</td>\n",
       "      <td>1</td>\n",
       "      <td>8</td>\n",
       "      <td>H</td>\n",
       "    </tr>\n",
       "  </tbody>\n",
       "</table>\n",
       "</div>"
      ],
      "text/plain": [
       "   user_id  item_id  rating  movie_id movie_names\n",
       "0        2        2       1         2           B\n",
       "1        5        2       4         2           B\n",
       "2        3        3       5         3           C\n",
       "3        6        4       4         4           D\n",
       "4        7        5       4         5           E\n",
       "5        1        6       3         6           F\n",
       "6        2        7       2         7           G\n",
       "7        3        8       1         8           H"
      ]
     },
     "execution_count": 150,
     "metadata": {},
     "output_type": "execute_result"
    }
   ],
   "source": [
    "pd.merge(left=ratings, right=movie_title_2, left_on=\"item_id\", right_on=\"movie_id\")"
   ]
  },
  {
   "cell_type": "markdown",
   "metadata": {
    "id": "5B7DvTXomhUv"
   },
   "source": [
    "## <font color = 'dodgerblue'>**Combine Datasets: Concat and Append**"
   ]
  },
  {
   "cell_type": "markdown",
   "metadata": {
    "id": "Gb1-UqirVHze"
   },
   "source": [
    "Rather than joining DataFrames, we can just concatenate them using concat():"
   ]
  },
  {
   "cell_type": "code",
   "execution_count": 151,
   "metadata": {
    "ExecuteTime": {
     "end_time": "2022-09-04T16:33:45.155991Z",
     "start_time": "2022-09-04T16:33:45.137010Z"
    },
    "colab": {
     "base_uri": "https://localhost:8080/",
     "height": 645
    },
    "executionInfo": {
     "elapsed": 108,
     "status": "ok",
     "timestamp": 1661548600181,
     "user": {
      "displayName": "Harpreet SIngh",
      "userId": "15106381096049879330"
     },
     "user_tz": 300
    },
    "id": "Z1WpynViVQDz",
    "outputId": "6f92b40e-7c9f-490d-a5c4-ea10fdd4970b"
   },
   "outputs": [
    {
     "data": {
      "text/html": [
       "<div>\n",
       "<style scoped>\n",
       "    .dataframe tbody tr th:only-of-type {\n",
       "        vertical-align: middle;\n",
       "    }\n",
       "\n",
       "    .dataframe tbody tr th {\n",
       "        vertical-align: top;\n",
       "    }\n",
       "\n",
       "    .dataframe thead th {\n",
       "        text-align: right;\n",
       "    }\n",
       "</style>\n",
       "<table border=\"1\" class=\"dataframe\">\n",
       "  <thead>\n",
       "    <tr style=\"text-align: right;\">\n",
       "      <th></th>\n",
       "      <th>user_id</th>\n",
       "      <th>item_id</th>\n",
       "      <th>rating</th>\n",
       "      <th>movie_names</th>\n",
       "    </tr>\n",
       "  </thead>\n",
       "  <tbody>\n",
       "    <tr>\n",
       "      <th>0</th>\n",
       "      <td>1.0</td>\n",
       "      <td>1</td>\n",
       "      <td>1.0</td>\n",
       "      <td>NaN</td>\n",
       "    </tr>\n",
       "    <tr>\n",
       "      <th>1</th>\n",
       "      <td>2.0</td>\n",
       "      <td>2</td>\n",
       "      <td>1.0</td>\n",
       "      <td>NaN</td>\n",
       "    </tr>\n",
       "    <tr>\n",
       "      <th>2</th>\n",
       "      <td>3.0</td>\n",
       "      <td>3</td>\n",
       "      <td>5.0</td>\n",
       "      <td>NaN</td>\n",
       "    </tr>\n",
       "    <tr>\n",
       "      <th>3</th>\n",
       "      <td>4.0</td>\n",
       "      <td>1</td>\n",
       "      <td>5.0</td>\n",
       "      <td>NaN</td>\n",
       "    </tr>\n",
       "    <tr>\n",
       "      <th>4</th>\n",
       "      <td>5.0</td>\n",
       "      <td>2</td>\n",
       "      <td>4.0</td>\n",
       "      <td>NaN</td>\n",
       "    </tr>\n",
       "    <tr>\n",
       "      <th>5</th>\n",
       "      <td>6.0</td>\n",
       "      <td>4</td>\n",
       "      <td>4.0</td>\n",
       "      <td>NaN</td>\n",
       "    </tr>\n",
       "    <tr>\n",
       "      <th>6</th>\n",
       "      <td>7.0</td>\n",
       "      <td>5</td>\n",
       "      <td>4.0</td>\n",
       "      <td>NaN</td>\n",
       "    </tr>\n",
       "    <tr>\n",
       "      <th>7</th>\n",
       "      <td>1.0</td>\n",
       "      <td>6</td>\n",
       "      <td>3.0</td>\n",
       "      <td>NaN</td>\n",
       "    </tr>\n",
       "    <tr>\n",
       "      <th>8</th>\n",
       "      <td>2.0</td>\n",
       "      <td>7</td>\n",
       "      <td>2.0</td>\n",
       "      <td>NaN</td>\n",
       "    </tr>\n",
       "    <tr>\n",
       "      <th>9</th>\n",
       "      <td>3.0</td>\n",
       "      <td>8</td>\n",
       "      <td>1.0</td>\n",
       "      <td>NaN</td>\n",
       "    </tr>\n",
       "    <tr>\n",
       "      <th>0</th>\n",
       "      <td>NaN</td>\n",
       "      <td>2</td>\n",
       "      <td>NaN</td>\n",
       "      <td>B</td>\n",
       "    </tr>\n",
       "    <tr>\n",
       "      <th>1</th>\n",
       "      <td>NaN</td>\n",
       "      <td>3</td>\n",
       "      <td>NaN</td>\n",
       "      <td>C</td>\n",
       "    </tr>\n",
       "    <tr>\n",
       "      <th>2</th>\n",
       "      <td>NaN</td>\n",
       "      <td>4</td>\n",
       "      <td>NaN</td>\n",
       "      <td>D</td>\n",
       "    </tr>\n",
       "    <tr>\n",
       "      <th>3</th>\n",
       "      <td>NaN</td>\n",
       "      <td>5</td>\n",
       "      <td>NaN</td>\n",
       "      <td>E</td>\n",
       "    </tr>\n",
       "    <tr>\n",
       "      <th>4</th>\n",
       "      <td>NaN</td>\n",
       "      <td>6</td>\n",
       "      <td>NaN</td>\n",
       "      <td>F</td>\n",
       "    </tr>\n",
       "    <tr>\n",
       "      <th>5</th>\n",
       "      <td>NaN</td>\n",
       "      <td>7</td>\n",
       "      <td>NaN</td>\n",
       "      <td>G</td>\n",
       "    </tr>\n",
       "    <tr>\n",
       "      <th>6</th>\n",
       "      <td>NaN</td>\n",
       "      <td>8</td>\n",
       "      <td>NaN</td>\n",
       "      <td>H</td>\n",
       "    </tr>\n",
       "    <tr>\n",
       "      <th>7</th>\n",
       "      <td>NaN</td>\n",
       "      <td>9</td>\n",
       "      <td>NaN</td>\n",
       "      <td>I</td>\n",
       "    </tr>\n",
       "    <tr>\n",
       "      <th>8</th>\n",
       "      <td>NaN</td>\n",
       "      <td>10</td>\n",
       "      <td>NaN</td>\n",
       "      <td>J</td>\n",
       "    </tr>\n",
       "  </tbody>\n",
       "</table>\n",
       "</div>"
      ],
      "text/plain": [
       "   user_id  item_id  rating movie_names\n",
       "0      1.0        1     1.0         NaN\n",
       "1      2.0        2     1.0         NaN\n",
       "2      3.0        3     5.0         NaN\n",
       "3      4.0        1     5.0         NaN\n",
       "4      5.0        2     4.0         NaN\n",
       "5      6.0        4     4.0         NaN\n",
       "6      7.0        5     4.0         NaN\n",
       "7      1.0        6     3.0         NaN\n",
       "8      2.0        7     2.0         NaN\n",
       "9      3.0        8     1.0         NaN\n",
       "0      NaN        2     NaN           B\n",
       "1      NaN        3     NaN           C\n",
       "2      NaN        4     NaN           D\n",
       "3      NaN        5     NaN           E\n",
       "4      NaN        6     NaN           F\n",
       "5      NaN        7     NaN           G\n",
       "6      NaN        8     NaN           H\n",
       "7      NaN        9     NaN           I\n",
       "8      NaN       10     NaN           J"
      ]
     },
     "execution_count": 151,
     "metadata": {},
     "output_type": "execute_result"
    }
   ],
   "source": [
    "result_concat = pd.concat([ratings, movie_title])\n",
    "result_concat"
   ]
  },
  {
   "cell_type": "markdown",
   "metadata": {
    "id": "e9GYS3IYV_xW"
   },
   "source": [
    "We can concatenate DataFrames horizontally instead of vertically by setting axis=1:"
   ]
  },
  {
   "cell_type": "code",
   "execution_count": 152,
   "metadata": {
    "ExecuteTime": {
     "end_time": "2022-09-04T16:33:46.081056Z",
     "start_time": "2022-09-04T16:33:46.060081Z"
    },
    "colab": {
     "base_uri": "https://localhost:8080/",
     "height": 363
    },
    "executionInfo": {
     "elapsed": 103,
     "status": "ok",
     "timestamp": 1661548606534,
     "user": {
      "displayName": "Harpreet SIngh",
      "userId": "15106381096049879330"
     },
     "user_tz": 300
    },
    "id": "RTMq5B-sWDZO",
    "outputId": "1f3ebf94-2ece-4bcf-a77a-06b9ef5a09ff"
   },
   "outputs": [
    {
     "data": {
      "text/html": [
       "<div>\n",
       "<style scoped>\n",
       "    .dataframe tbody tr th:only-of-type {\n",
       "        vertical-align: middle;\n",
       "    }\n",
       "\n",
       "    .dataframe tbody tr th {\n",
       "        vertical-align: top;\n",
       "    }\n",
       "\n",
       "    .dataframe thead th {\n",
       "        text-align: right;\n",
       "    }\n",
       "</style>\n",
       "<table border=\"1\" class=\"dataframe\">\n",
       "  <thead>\n",
       "    <tr style=\"text-align: right;\">\n",
       "      <th></th>\n",
       "      <th>user_id</th>\n",
       "      <th>item_id</th>\n",
       "      <th>rating</th>\n",
       "      <th>item_id</th>\n",
       "      <th>movie_names</th>\n",
       "    </tr>\n",
       "  </thead>\n",
       "  <tbody>\n",
       "    <tr>\n",
       "      <th>0</th>\n",
       "      <td>1</td>\n",
       "      <td>1</td>\n",
       "      <td>1</td>\n",
       "      <td>2.0</td>\n",
       "      <td>B</td>\n",
       "    </tr>\n",
       "    <tr>\n",
       "      <th>1</th>\n",
       "      <td>2</td>\n",
       "      <td>2</td>\n",
       "      <td>1</td>\n",
       "      <td>3.0</td>\n",
       "      <td>C</td>\n",
       "    </tr>\n",
       "    <tr>\n",
       "      <th>2</th>\n",
       "      <td>3</td>\n",
       "      <td>3</td>\n",
       "      <td>5</td>\n",
       "      <td>4.0</td>\n",
       "      <td>D</td>\n",
       "    </tr>\n",
       "    <tr>\n",
       "      <th>3</th>\n",
       "      <td>4</td>\n",
       "      <td>1</td>\n",
       "      <td>5</td>\n",
       "      <td>5.0</td>\n",
       "      <td>E</td>\n",
       "    </tr>\n",
       "    <tr>\n",
       "      <th>4</th>\n",
       "      <td>5</td>\n",
       "      <td>2</td>\n",
       "      <td>4</td>\n",
       "      <td>6.0</td>\n",
       "      <td>F</td>\n",
       "    </tr>\n",
       "    <tr>\n",
       "      <th>5</th>\n",
       "      <td>6</td>\n",
       "      <td>4</td>\n",
       "      <td>4</td>\n",
       "      <td>7.0</td>\n",
       "      <td>G</td>\n",
       "    </tr>\n",
       "    <tr>\n",
       "      <th>6</th>\n",
       "      <td>7</td>\n",
       "      <td>5</td>\n",
       "      <td>4</td>\n",
       "      <td>8.0</td>\n",
       "      <td>H</td>\n",
       "    </tr>\n",
       "    <tr>\n",
       "      <th>7</th>\n",
       "      <td>1</td>\n",
       "      <td>6</td>\n",
       "      <td>3</td>\n",
       "      <td>9.0</td>\n",
       "      <td>I</td>\n",
       "    </tr>\n",
       "    <tr>\n",
       "      <th>8</th>\n",
       "      <td>2</td>\n",
       "      <td>7</td>\n",
       "      <td>2</td>\n",
       "      <td>10.0</td>\n",
       "      <td>J</td>\n",
       "    </tr>\n",
       "    <tr>\n",
       "      <th>9</th>\n",
       "      <td>3</td>\n",
       "      <td>8</td>\n",
       "      <td>1</td>\n",
       "      <td>NaN</td>\n",
       "      <td>NaN</td>\n",
       "    </tr>\n",
       "  </tbody>\n",
       "</table>\n",
       "</div>"
      ],
      "text/plain": [
       "   user_id  item_id  rating  item_id movie_names\n",
       "0        1        1       1      2.0           B\n",
       "1        2        2       1      3.0           C\n",
       "2        3        3       5      4.0           D\n",
       "3        4        1       5      5.0           E\n",
       "4        5        2       4      6.0           F\n",
       "5        6        4       4      7.0           G\n",
       "6        7        5       4      8.0           H\n",
       "7        1        6       3      9.0           I\n",
       "8        2        7       2     10.0           J\n",
       "9        3        8       1      NaN         NaN"
      ]
     },
     "execution_count": 152,
     "metadata": {},
     "output_type": "execute_result"
    }
   ],
   "source": [
    "horizontal_concat = pd.concat([ratings, movie_title], axis =1)\n",
    "horizontal_concat"
   ]
  },
  {
   "cell_type": "markdown",
   "metadata": {
    "id": "DAxNAAuPWSWA"
   },
   "source": [
    "However, this does not make sense, the concatenation was done using index values. The same item_id has different movie names. So we need to reindex the `DataFrame`s by item_id before concatenating:"
   ]
  },
  {
   "cell_type": "code",
   "execution_count": 153,
   "metadata": {
    "ExecuteTime": {
     "end_time": "2022-09-04T16:33:47.527567Z",
     "start_time": "2022-09-04T16:33:47.507620Z"
    },
    "colab": {
     "base_uri": "https://localhost:8080/",
     "height": 357
    },
    "executionInfo": {
     "elapsed": 135,
     "status": "error",
     "timestamp": 1661548657020,
     "user": {
      "displayName": "Harpreet SIngh",
      "userId": "15106381096049879330"
     },
     "user_tz": 300
    },
    "id": "RxJLB0BPWutP",
    "outputId": "7e28dfb8-565b-479d-9506-307bfa1514c8"
   },
   "outputs": [
    {
     "ename": "InvalidIndexError",
     "evalue": "Reindexing only valid with uniquely valued Index objects",
     "output_type": "error",
     "traceback": [
      "\u001b[1;31m---------------------------------------------------------------------------\u001b[0m",
      "\u001b[1;31mInvalidIndexError\u001b[0m                         Traceback (most recent call last)",
      "\u001b[1;32m<ipython-input-153-7c61883eb340>\u001b[0m in \u001b[0;36m<module>\u001b[1;34m\u001b[0m\n\u001b[1;32m----> 1\u001b[1;33m \u001b[0mhorizontal_concat\u001b[0m \u001b[1;33m=\u001b[0m \u001b[0mpd\u001b[0m\u001b[1;33m.\u001b[0m\u001b[0mconcat\u001b[0m\u001b[1;33m(\u001b[0m\u001b[1;33m[\u001b[0m\u001b[0mratings\u001b[0m\u001b[1;33m.\u001b[0m\u001b[0mset_index\u001b[0m\u001b[1;33m(\u001b[0m\u001b[1;34m'item_id'\u001b[0m\u001b[1;33m)\u001b[0m\u001b[1;33m,\u001b[0m \u001b[0mmovie_title\u001b[0m\u001b[1;33m.\u001b[0m\u001b[0mset_index\u001b[0m\u001b[1;33m(\u001b[0m\u001b[1;34m'item_id'\u001b[0m\u001b[1;33m)\u001b[0m\u001b[1;33m]\u001b[0m\u001b[1;33m,\u001b[0m \u001b[0maxis\u001b[0m \u001b[1;33m=\u001b[0m\u001b[1;36m1\u001b[0m\u001b[1;33m)\u001b[0m\u001b[1;33m\u001b[0m\u001b[1;33m\u001b[0m\u001b[0m\n\u001b[0m",
      "\u001b[1;32m~\\anaconda3\\lib\\site-packages\\pandas\\core\\reshape\\concat.py\u001b[0m in \u001b[0;36mconcat\u001b[1;34m(objs, axis, join, ignore_index, keys, levels, names, verify_integrity, sort, copy)\u001b[0m\n\u001b[0;32m    296\u001b[0m     )\n\u001b[0;32m    297\u001b[0m \u001b[1;33m\u001b[0m\u001b[0m\n\u001b[1;32m--> 298\u001b[1;33m     \u001b[1;32mreturn\u001b[0m \u001b[0mop\u001b[0m\u001b[1;33m.\u001b[0m\u001b[0mget_result\u001b[0m\u001b[1;33m(\u001b[0m\u001b[1;33m)\u001b[0m\u001b[1;33m\u001b[0m\u001b[1;33m\u001b[0m\u001b[0m\n\u001b[0m\u001b[0;32m    299\u001b[0m \u001b[1;33m\u001b[0m\u001b[0m\n\u001b[0;32m    300\u001b[0m \u001b[1;33m\u001b[0m\u001b[0m\n",
      "\u001b[1;32m~\\anaconda3\\lib\\site-packages\\pandas\\core\\reshape\\concat.py\u001b[0m in \u001b[0;36mget_result\u001b[1;34m(self)\u001b[0m\n\u001b[0;32m    514\u001b[0m                     \u001b[0mobj_labels\u001b[0m \u001b[1;33m=\u001b[0m \u001b[0mobj\u001b[0m\u001b[1;33m.\u001b[0m\u001b[0maxes\u001b[0m\u001b[1;33m[\u001b[0m\u001b[1;36m1\u001b[0m \u001b[1;33m-\u001b[0m \u001b[0max\u001b[0m\u001b[1;33m]\u001b[0m\u001b[1;33m\u001b[0m\u001b[1;33m\u001b[0m\u001b[0m\n\u001b[0;32m    515\u001b[0m                     \u001b[1;32mif\u001b[0m \u001b[1;32mnot\u001b[0m \u001b[0mnew_labels\u001b[0m\u001b[1;33m.\u001b[0m\u001b[0mequals\u001b[0m\u001b[1;33m(\u001b[0m\u001b[0mobj_labels\u001b[0m\u001b[1;33m)\u001b[0m\u001b[1;33m:\u001b[0m\u001b[1;33m\u001b[0m\u001b[1;33m\u001b[0m\u001b[0m\n\u001b[1;32m--> 516\u001b[1;33m                         \u001b[0mindexers\u001b[0m\u001b[1;33m[\u001b[0m\u001b[0max\u001b[0m\u001b[1;33m]\u001b[0m \u001b[1;33m=\u001b[0m \u001b[0mobj_labels\u001b[0m\u001b[1;33m.\u001b[0m\u001b[0mget_indexer\u001b[0m\u001b[1;33m(\u001b[0m\u001b[0mnew_labels\u001b[0m\u001b[1;33m)\u001b[0m\u001b[1;33m\u001b[0m\u001b[1;33m\u001b[0m\u001b[0m\n\u001b[0m\u001b[0;32m    517\u001b[0m \u001b[1;33m\u001b[0m\u001b[0m\n\u001b[0;32m    518\u001b[0m                 \u001b[0mmgrs_indexers\u001b[0m\u001b[1;33m.\u001b[0m\u001b[0mappend\u001b[0m\u001b[1;33m(\u001b[0m\u001b[1;33m(\u001b[0m\u001b[0mobj\u001b[0m\u001b[1;33m.\u001b[0m\u001b[0m_mgr\u001b[0m\u001b[1;33m,\u001b[0m \u001b[0mindexers\u001b[0m\u001b[1;33m)\u001b[0m\u001b[1;33m)\u001b[0m\u001b[1;33m\u001b[0m\u001b[1;33m\u001b[0m\u001b[0m\n",
      "\u001b[1;32m~\\anaconda3\\lib\\site-packages\\pandas\\core\\indexes\\base.py\u001b[0m in \u001b[0;36mget_indexer\u001b[1;34m(self, target, method, limit, tolerance)\u001b[0m\n\u001b[0;32m   3169\u001b[0m \u001b[1;33m\u001b[0m\u001b[0m\n\u001b[0;32m   3170\u001b[0m         \u001b[1;32mif\u001b[0m \u001b[1;32mnot\u001b[0m \u001b[0mself\u001b[0m\u001b[1;33m.\u001b[0m\u001b[0mis_unique\u001b[0m\u001b[1;33m:\u001b[0m\u001b[1;33m\u001b[0m\u001b[1;33m\u001b[0m\u001b[0m\n\u001b[1;32m-> 3171\u001b[1;33m             raise InvalidIndexError(\n\u001b[0m\u001b[0;32m   3172\u001b[0m                 \u001b[1;34m\"Reindexing only valid with uniquely valued Index objects\"\u001b[0m\u001b[1;33m\u001b[0m\u001b[1;33m\u001b[0m\u001b[0m\n\u001b[0;32m   3173\u001b[0m             )\n",
      "\u001b[1;31mInvalidIndexError\u001b[0m: Reindexing only valid with uniquely valued Index objects"
     ]
    }
   ],
   "source": [
    "horizontal_concat = pd.concat([ratings.set_index('item_id'), movie_title.set_index('item_id')], axis =1)"
   ]
  },
  {
   "cell_type": "markdown",
   "metadata": {
    "id": "Ln25i4LKsdTk"
   },
   "source": [
    "We get error above because item_id is not uniqie in ratings dataframe."
   ]
  },
  {
   "cell_type": "code",
   "execution_count": 156,
   "metadata": {
    "ExecuteTime": {
     "end_time": "2022-09-04T16:34:19.289320Z",
     "start_time": "2022-09-04T16:34:19.269340Z"
    },
    "colab": {
     "base_uri": "https://localhost:8080/",
     "height": 331
    },
    "executionInfo": {
     "elapsed": 138,
     "status": "ok",
     "timestamp": 1661548720176,
     "user": {
      "displayName": "Harpreet SIngh",
      "userId": "15106381096049879330"
     },
     "user_tz": 300
    },
    "id": "4Mo99iCXX2cB",
    "outputId": "b19c8c22-318d-4516-b90a-d811d2f090b7"
   },
   "outputs": [
    {
     "data": {
      "text/html": [
       "<div>\n",
       "<style scoped>\n",
       "    .dataframe tbody tr th:only-of-type {\n",
       "        vertical-align: middle;\n",
       "    }\n",
       "\n",
       "    .dataframe tbody tr th {\n",
       "        vertical-align: top;\n",
       "    }\n",
       "\n",
       "    .dataframe thead th {\n",
       "        text-align: right;\n",
       "    }\n",
       "</style>\n",
       "<table border=\"1\" class=\"dataframe\">\n",
       "  <thead>\n",
       "    <tr style=\"text-align: right;\">\n",
       "      <th></th>\n",
       "      <th>rating</th>\n",
       "    </tr>\n",
       "    <tr>\n",
       "      <th>item_id</th>\n",
       "      <th></th>\n",
       "    </tr>\n",
       "  </thead>\n",
       "  <tbody>\n",
       "    <tr>\n",
       "      <th>1</th>\n",
       "      <td>3.0</td>\n",
       "    </tr>\n",
       "    <tr>\n",
       "      <th>2</th>\n",
       "      <td>2.5</td>\n",
       "    </tr>\n",
       "    <tr>\n",
       "      <th>3</th>\n",
       "      <td>5.0</td>\n",
       "    </tr>\n",
       "    <tr>\n",
       "      <th>4</th>\n",
       "      <td>4.0</td>\n",
       "    </tr>\n",
       "    <tr>\n",
       "      <th>5</th>\n",
       "      <td>4.0</td>\n",
       "    </tr>\n",
       "    <tr>\n",
       "      <th>6</th>\n",
       "      <td>3.0</td>\n",
       "    </tr>\n",
       "    <tr>\n",
       "      <th>7</th>\n",
       "      <td>2.0</td>\n",
       "    </tr>\n",
       "    <tr>\n",
       "      <th>8</th>\n",
       "      <td>1.0</td>\n",
       "    </tr>\n",
       "  </tbody>\n",
       "</table>\n",
       "</div>"
      ],
      "text/plain": [
       "         rating\n",
       "item_id        \n",
       "1           3.0\n",
       "2           2.5\n",
       "3           5.0\n",
       "4           4.0\n",
       "5           4.0\n",
       "6           3.0\n",
       "7           2.0\n",
       "8           1.0"
      ]
     },
     "execution_count": 156,
     "metadata": {},
     "output_type": "execute_result"
    }
   ],
   "source": [
    "# Create a new datafarne which has average rating for each movie\n",
    "average_ratings = pd.DataFrame(ratings.groupby('item_id')['rating'].mean())\n",
    "average_ratings"
   ]
  },
  {
   "cell_type": "code",
   "execution_count": 157,
   "metadata": {
    "ExecuteTime": {
     "end_time": "2022-09-04T16:34:27.920119Z",
     "start_time": "2022-09-04T16:34:27.904162Z"
    },
    "colab": {
     "base_uri": "https://localhost:8080/",
     "height": 394
    },
    "executionInfo": {
     "elapsed": 135,
     "status": "ok",
     "timestamp": 1661548724662,
     "user": {
      "displayName": "Harpreet SIngh",
      "userId": "15106381096049879330"
     },
     "user_tz": 300
    },
    "id": "fVAAvTJ1aNO-",
    "outputId": "924f2a0a-cefe-4c78-be4c-82a6c08cd933"
   },
   "outputs": [
    {
     "data": {
      "text/html": [
       "<div>\n",
       "<style scoped>\n",
       "    .dataframe tbody tr th:only-of-type {\n",
       "        vertical-align: middle;\n",
       "    }\n",
       "\n",
       "    .dataframe tbody tr th {\n",
       "        vertical-align: top;\n",
       "    }\n",
       "\n",
       "    .dataframe thead th {\n",
       "        text-align: right;\n",
       "    }\n",
       "</style>\n",
       "<table border=\"1\" class=\"dataframe\">\n",
       "  <thead>\n",
       "    <tr style=\"text-align: right;\">\n",
       "      <th></th>\n",
       "      <th>rating</th>\n",
       "      <th>movie_names</th>\n",
       "    </tr>\n",
       "    <tr>\n",
       "      <th>item_id</th>\n",
       "      <th></th>\n",
       "      <th></th>\n",
       "    </tr>\n",
       "  </thead>\n",
       "  <tbody>\n",
       "    <tr>\n",
       "      <th>1</th>\n",
       "      <td>3.0</td>\n",
       "      <td>NaN</td>\n",
       "    </tr>\n",
       "    <tr>\n",
       "      <th>2</th>\n",
       "      <td>2.5</td>\n",
       "      <td>B</td>\n",
       "    </tr>\n",
       "    <tr>\n",
       "      <th>3</th>\n",
       "      <td>5.0</td>\n",
       "      <td>C</td>\n",
       "    </tr>\n",
       "    <tr>\n",
       "      <th>4</th>\n",
       "      <td>4.0</td>\n",
       "      <td>D</td>\n",
       "    </tr>\n",
       "    <tr>\n",
       "      <th>5</th>\n",
       "      <td>4.0</td>\n",
       "      <td>E</td>\n",
       "    </tr>\n",
       "    <tr>\n",
       "      <th>6</th>\n",
       "      <td>3.0</td>\n",
       "      <td>F</td>\n",
       "    </tr>\n",
       "    <tr>\n",
       "      <th>7</th>\n",
       "      <td>2.0</td>\n",
       "      <td>G</td>\n",
       "    </tr>\n",
       "    <tr>\n",
       "      <th>8</th>\n",
       "      <td>1.0</td>\n",
       "      <td>H</td>\n",
       "    </tr>\n",
       "    <tr>\n",
       "      <th>9</th>\n",
       "      <td>NaN</td>\n",
       "      <td>I</td>\n",
       "    </tr>\n",
       "    <tr>\n",
       "      <th>10</th>\n",
       "      <td>NaN</td>\n",
       "      <td>J</td>\n",
       "    </tr>\n",
       "  </tbody>\n",
       "</table>\n",
       "</div>"
      ],
      "text/plain": [
       "         rating movie_names\n",
       "item_id                    \n",
       "1           3.0         NaN\n",
       "2           2.5           B\n",
       "3           5.0           C\n",
       "4           4.0           D\n",
       "5           4.0           E\n",
       "6           3.0           F\n",
       "7           2.0           G\n",
       "8           1.0           H\n",
       "9           NaN           I\n",
       "10          NaN           J"
      ]
     },
     "execution_count": 157,
     "metadata": {},
     "output_type": "execute_result"
    }
   ],
   "source": [
    "horizontal_concat = pd.concat([average_ratings, movie_title.set_index('item_id')], axis =1)\n",
    "horizontal_concat"
   ]
  },
  {
   "cell_type": "markdown",
   "metadata": {
    "id": "Cwj4_rFyTrBK"
   },
   "source": [
    "# <font color = 'dodgerblue'> **Saving and Loading Data**"
   ]
  },
  {
   "cell_type": "code",
   "execution_count": 158,
   "metadata": {
    "ExecuteTime": {
     "end_time": "2022-09-04T16:34:30.041369Z",
     "start_time": "2022-09-04T16:34:30.026261Z"
    },
    "colab": {
     "base_uri": "https://localhost:8080/",
     "height": 206
    },
    "executionInfo": {
     "elapsed": 151,
     "status": "ok",
     "timestamp": 1661548757193,
     "user": {
      "displayName": "Harpreet SIngh",
      "userId": "15106381096049879330"
     },
     "user_tz": 300
    },
    "id": "sr5iErb1NFtT",
    "outputId": "71b68e3b-ddd9-48f0-b822-338d10d985e0"
   },
   "outputs": [
    {
     "data": {
      "text/html": [
       "<div>\n",
       "<style scoped>\n",
       "    .dataframe tbody tr th:only-of-type {\n",
       "        vertical-align: middle;\n",
       "    }\n",
       "\n",
       "    .dataframe tbody tr th {\n",
       "        vertical-align: top;\n",
       "    }\n",
       "\n",
       "    .dataframe thead th {\n",
       "        text-align: right;\n",
       "    }\n",
       "</style>\n",
       "<table border=\"1\" class=\"dataframe\">\n",
       "  <thead>\n",
       "    <tr style=\"text-align: right;\">\n",
       "      <th></th>\n",
       "      <th>name</th>\n",
       "      <th>class</th>\n",
       "      <th>math_score</th>\n",
       "      <th>english_score</th>\n",
       "      <th>gender</th>\n",
       "      <th>age</th>\n",
       "      <th>total_score</th>\n",
       "    </tr>\n",
       "  </thead>\n",
       "  <tbody>\n",
       "    <tr>\n",
       "      <th>2</th>\n",
       "      <td>ross</td>\n",
       "      <td>second</td>\n",
       "      <td>4.0</td>\n",
       "      <td>10.0</td>\n",
       "      <td>Female</td>\n",
       "      <td>20</td>\n",
       "      <td>14.0</td>\n",
       "    </tr>\n",
       "    <tr>\n",
       "      <th>3</th>\n",
       "      <td>suzan</td>\n",
       "      <td>second</td>\n",
       "      <td>24.0</td>\n",
       "      <td>20.0</td>\n",
       "      <td>Female</td>\n",
       "      <td>9</td>\n",
       "      <td>44.0</td>\n",
       "    </tr>\n",
       "    <tr>\n",
       "      <th>1</th>\n",
       "      <td>ami</td>\n",
       "      <td>first</td>\n",
       "      <td>-6.0</td>\n",
       "      <td>0.0</td>\n",
       "      <td>Female</td>\n",
       "      <td>7</td>\n",
       "      <td>-6.0</td>\n",
       "    </tr>\n",
       "    <tr>\n",
       "      <th>4</th>\n",
       "      <td>henry</td>\n",
       "      <td>second</td>\n",
       "      <td>-16.0</td>\n",
       "      <td>-20.0</td>\n",
       "      <td>Male</td>\n",
       "      <td>5</td>\n",
       "      <td>-36.0</td>\n",
       "    </tr>\n",
       "    <tr>\n",
       "      <th>0</th>\n",
       "      <td>alex</td>\n",
       "      <td>first</td>\n",
       "      <td>-6.0</td>\n",
       "      <td>-10.0</td>\n",
       "      <td>Male</td>\n",
       "      <td>4</td>\n",
       "      <td>-16.0</td>\n",
       "    </tr>\n",
       "  </tbody>\n",
       "</table>\n",
       "</div>"
      ],
      "text/plain": [
       "    name   class  math_score  english_score  gender  age  total_score\n",
       "2   ross  second         4.0           10.0  Female   20         14.0\n",
       "3  suzan  second        24.0           20.0  Female    9         44.0\n",
       "1    ami   first        -6.0            0.0  Female    7         -6.0\n",
       "4  henry  second       -16.0          -20.0    Male    5        -36.0\n",
       "0   alex   first        -6.0          -10.0    Male    4        -16.0"
      ]
     },
     "execution_count": 158,
     "metadata": {},
     "output_type": "execute_result"
    }
   ],
   "source": [
    "df1"
   ]
  },
  {
   "cell_type": "markdown",
   "metadata": {
    "id": "ejIoPDOpzdaM"
   },
   "source": [
    "## <font color = 'dodgerblue'> **Saving Data**"
   ]
  },
  {
   "cell_type": "code",
   "execution_count": 162,
   "metadata": {
    "ExecuteTime": {
     "end_time": "2022-09-04T16:34:55.142597Z",
     "start_time": "2022-09-04T16:34:55.127636Z"
    },
    "colab": {
     "base_uri": "https://localhost:8080/"
    },
    "executionInfo": {
     "elapsed": 14843,
     "status": "ok",
     "timestamp": 1661548776783,
     "user": {
      "displayName": "Harpreet SIngh",
      "userId": "15106381096049879330"
     },
     "user_tz": 300
    },
    "id": "wQTUGYqPNfgD",
    "outputId": "22c8aff5-2b5e-419d-86e0-00e65983c142"
   },
   "outputs": [],
   "source": [
    "# mount google drive\n",
    "# so that we can save and load models/data from google drive\n",
    "\n",
    "#from google.colab import drive\n",
    "#drive.mount('/content/drive')"
   ]
  },
  {
   "cell_type": "code",
   "execution_count": 160,
   "metadata": {
    "ExecuteTime": {
     "end_time": "2022-09-04T16:34:32.589057Z",
     "start_time": "2022-09-04T16:34:32.574128Z"
    },
    "id": "_oH_CHSYNvCY"
   },
   "outputs": [],
   "source": [
    "# library to navigate file system\n",
    "from pathlib import Path"
   ]
  },
  {
   "cell_type": "code",
   "execution_count": null,
   "metadata": {},
   "outputs": [],
   "source": [
    "# check current director\n",
    "#!pwd"
   ]
  },
  {
   "cell_type": "markdown",
   "metadata": {
    "id": "r99ydff6N5co"
   },
   "source": [
    "If we do not provide specific location, files are saved in current directory. When we close Google Colab, these files will be lost. Thus we should save files/models on google drive."
   ]
  },
  {
   "cell_type": "code",
   "execution_count": 163,
   "metadata": {
    "ExecuteTime": {
     "end_time": "2022-09-04T16:35:13.655021Z",
     "start_time": "2022-09-04T16:35:13.637387Z"
    },
    "id": "0D_Cub1LOXty"
   },
   "outputs": [],
   "source": [
    "# here I have saved save my data to folder Data in my Google drive. /content/drive/MyDrive refers to \n",
    "# path where google drive is mounted. /teaching_fall_2022 is folder in my Google drive. \n",
    "# You should change this to folder you want to save data in your your Google drive\n",
    "\n",
    "# specify pathlib folder\n",
    "# This is a system Path(PosixPath)\n",
    "\n",
    "data_folder = Path('/content/drive/MyDrive/teaching_fall_2022/ml-fall-2022/Lecture2_Numpy_Pandas')"
   ]
  },
  {
   "cell_type": "markdown",
   "metadata": {
    "id": "MA2f74KyPetP"
   },
   "source": [
    "We can construct a path to the file by joining the parts using the special operator /. The / can join several paths or a mix of paths and strings given, atleast one of those paths should be an instance of class Path from pathlib library (as shown below)."
   ]
  },
  {
   "cell_type": "code",
   "execution_count": null,
   "metadata": {},
   "outputs": [],
   "source": [
    "file_csv = data_folder / \"df_pd_ml_21.csv\"\n",
    "file_json = data_folder / \"df_pd_ml_21.json\"\n",
    "df1.to_csv(file_csv)\n",
    "df1.to_json(file_json)"
   ]
  },
  {
   "cell_type": "code",
   "execution_count": null,
   "metadata": {
    "colab": {
     "base_uri": "https://localhost:8080/"
    },
    "executionInfo": {
     "elapsed": 120,
     "status": "ok",
     "timestamp": 1661548911361,
     "user": {
      "displayName": "Harpreet SIngh",
      "userId": "15106381096049879330"
     },
     "user_tz": 300
    },
    "id": "G0E3VIqJPslA",
    "outputId": "f2870734-0e53-473b-d029-635ceefcdf52"
   },
   "outputs": [
    {
     "name": "stdout",
     "output_type": "stream",
     "text": [
      "# /content/drive/MyDrive/teaching_fall_2022/ml-fall-2022/Lecture2_Numpy_Pandas/df_pd_ml_21.csv\n",
      ",name,class,math_score,english_score,gender,age,total_score\n",
      "2,ross,second,4.0,10.0,Female,20,14.0\n",
      "3,suzan,second,24.0,20.0,Female,9,44.0\n",
      "1,ami,first,-6.0,0.0,Female,7,-6.0\n",
      "4,henry,second,-16.0,-20.0,Male,5,-36.0\n",
      "0,alex,first,-6.0,-10.0,Male,4,-16.0\n",
      "\n",
      "\n",
      "# /content/drive/MyDrive/teaching_fall_2022/ml-fall-2022/Lecture2_Numpy_Pandas/df_pd_ml_21.json\n",
      "{\"name\":{\"2\":\"ross\",\"3\":\"suzan\",\"1\":\"ami\",\"4\":\"henry\",\"0\":\"alex\"},\"class\":{\"2\":\"second\",\"3\":\"second\",\"1\":\"first\",\"4\":\"second\",\"0\":\"first\"},\"math_score\":{\"2\":4.0,\"3\":24.0,\"1\":-6.0,\"4\":-16.0,\"0\":-6.0},\"english_score\":{\"2\":10.0,\"3\":20.0,\"1\":0.0,\"4\":-20.0,\"0\":-10.0},\"gender\":{\"2\":\"Female\",\"3\":\"Female\",\"1\":\"Female\",\"4\":\"Male\",\"0\":\"Male\"},\"age\":{\"2\":20,\"3\":9,\"1\":7,\"4\":5,\"0\":4},\"total_score\":{\"2\":14.0,\"3\":44.0,\"1\":-6.0,\"4\":-36.0,\"0\":-16.0}}\n",
      "\n"
     ]
    }
   ],
   "source": [
    "# check the content of the saved file\n",
    "for filename in (file_csv, file_json):\n",
    "    print(\"#\", filename)\n",
    "    with open(filename, \"rt\") as f:\n",
    "        print(f.read())\n",
    "        print()"
   ]
  },
  {
   "cell_type": "markdown",
   "metadata": {
    "id": "IGPK_25azimy"
   },
   "source": [
    "## <font color = 'dodgerblue'> **Loading Data**"
   ]
  },
  {
   "cell_type": "code",
   "execution_count": null,
   "metadata": {
    "id": "p_t6Yqnlzxen"
   },
   "outputs": [],
   "source": [
    "df1_csv_loaded = pd.read_csv(file_csv, index_col=0)"
   ]
  },
  {
   "cell_type": "code",
   "execution_count": null,
   "metadata": {
    "colab": {
     "base_uri": "https://localhost:8080/",
     "height": 206
    },
    "executionInfo": {
     "elapsed": 122,
     "status": "ok",
     "timestamp": 1661548917594,
     "user": {
      "displayName": "Harpreet SIngh",
      "userId": "15106381096049879330"
     },
     "user_tz": 300
    },
    "id": "rvqL7tg2RJAq",
    "outputId": "a6568d58-0211-44f3-837f-a4a44fbecb0e"
   },
   "outputs": [
    {
     "data": {
      "text/html": [
       "\n",
       "  <div id=\"df-6fa04671-e072-4da9-964a-4df0d104d5f3\">\n",
       "    <div class=\"colab-df-container\">\n",
       "      <div>\n",
       "<style scoped>\n",
       "    .dataframe tbody tr th:only-of-type {\n",
       "        vertical-align: middle;\n",
       "    }\n",
       "\n",
       "    .dataframe tbody tr th {\n",
       "        vertical-align: top;\n",
       "    }\n",
       "\n",
       "    .dataframe thead th {\n",
       "        text-align: right;\n",
       "    }\n",
       "</style>\n",
       "<table border=\"1\" class=\"dataframe\">\n",
       "  <thead>\n",
       "    <tr style=\"text-align: right;\">\n",
       "      <th></th>\n",
       "      <th>name</th>\n",
       "      <th>class</th>\n",
       "      <th>math_score</th>\n",
       "      <th>english_score</th>\n",
       "      <th>gender</th>\n",
       "      <th>age</th>\n",
       "      <th>total_score</th>\n",
       "    </tr>\n",
       "  </thead>\n",
       "  <tbody>\n",
       "    <tr>\n",
       "      <th>2</th>\n",
       "      <td>ross</td>\n",
       "      <td>second</td>\n",
       "      <td>4.0</td>\n",
       "      <td>10.0</td>\n",
       "      <td>Female</td>\n",
       "      <td>20</td>\n",
       "      <td>14.0</td>\n",
       "    </tr>\n",
       "    <tr>\n",
       "      <th>3</th>\n",
       "      <td>suzan</td>\n",
       "      <td>second</td>\n",
       "      <td>24.0</td>\n",
       "      <td>20.0</td>\n",
       "      <td>Female</td>\n",
       "      <td>9</td>\n",
       "      <td>44.0</td>\n",
       "    </tr>\n",
       "    <tr>\n",
       "      <th>1</th>\n",
       "      <td>ami</td>\n",
       "      <td>first</td>\n",
       "      <td>-6.0</td>\n",
       "      <td>0.0</td>\n",
       "      <td>Female</td>\n",
       "      <td>7</td>\n",
       "      <td>-6.0</td>\n",
       "    </tr>\n",
       "    <tr>\n",
       "      <th>4</th>\n",
       "      <td>henry</td>\n",
       "      <td>second</td>\n",
       "      <td>-16.0</td>\n",
       "      <td>-20.0</td>\n",
       "      <td>Male</td>\n",
       "      <td>5</td>\n",
       "      <td>-36.0</td>\n",
       "    </tr>\n",
       "    <tr>\n",
       "      <th>0</th>\n",
       "      <td>alex</td>\n",
       "      <td>first</td>\n",
       "      <td>-6.0</td>\n",
       "      <td>-10.0</td>\n",
       "      <td>Male</td>\n",
       "      <td>4</td>\n",
       "      <td>-16.0</td>\n",
       "    </tr>\n",
       "  </tbody>\n",
       "</table>\n",
       "</div>\n",
       "      <button class=\"colab-df-convert\" onclick=\"convertToInteractive('df-6fa04671-e072-4da9-964a-4df0d104d5f3')\"\n",
       "              title=\"Convert this dataframe to an interactive table.\"\n",
       "              style=\"display:none;\">\n",
       "        \n",
       "  <svg xmlns=\"http://www.w3.org/2000/svg\" height=\"24px\"viewBox=\"0 0 24 24\"\n",
       "       width=\"24px\">\n",
       "    <path d=\"M0 0h24v24H0V0z\" fill=\"none\"/>\n",
       "    <path d=\"M18.56 5.44l.94 2.06.94-2.06 2.06-.94-2.06-.94-.94-2.06-.94 2.06-2.06.94zm-11 1L8.5 8.5l.94-2.06 2.06-.94-2.06-.94L8.5 2.5l-.94 2.06-2.06.94zm10 10l.94 2.06.94-2.06 2.06-.94-2.06-.94-.94-2.06-.94 2.06-2.06.94z\"/><path d=\"M17.41 7.96l-1.37-1.37c-.4-.4-.92-.59-1.43-.59-.52 0-1.04.2-1.43.59L10.3 9.45l-7.72 7.72c-.78.78-.78 2.05 0 2.83L4 21.41c.39.39.9.59 1.41.59.51 0 1.02-.2 1.41-.59l7.78-7.78 2.81-2.81c.8-.78.8-2.07 0-2.86zM5.41 20L4 18.59l7.72-7.72 1.47 1.35L5.41 20z\"/>\n",
       "  </svg>\n",
       "      </button>\n",
       "      \n",
       "  <style>\n",
       "    .colab-df-container {\n",
       "      display:flex;\n",
       "      flex-wrap:wrap;\n",
       "      gap: 12px;\n",
       "    }\n",
       "\n",
       "    .colab-df-convert {\n",
       "      background-color: #E8F0FE;\n",
       "      border: none;\n",
       "      border-radius: 50%;\n",
       "      cursor: pointer;\n",
       "      display: none;\n",
       "      fill: #1967D2;\n",
       "      height: 32px;\n",
       "      padding: 0 0 0 0;\n",
       "      width: 32px;\n",
       "    }\n",
       "\n",
       "    .colab-df-convert:hover {\n",
       "      background-color: #E2EBFA;\n",
       "      box-shadow: 0px 1px 2px rgba(60, 64, 67, 0.3), 0px 1px 3px 1px rgba(60, 64, 67, 0.15);\n",
       "      fill: #174EA6;\n",
       "    }\n",
       "\n",
       "    [theme=dark] .colab-df-convert {\n",
       "      background-color: #3B4455;\n",
       "      fill: #D2E3FC;\n",
       "    }\n",
       "\n",
       "    [theme=dark] .colab-df-convert:hover {\n",
       "      background-color: #434B5C;\n",
       "      box-shadow: 0px 1px 3px 1px rgba(0, 0, 0, 0.15);\n",
       "      filter: drop-shadow(0px 1px 2px rgba(0, 0, 0, 0.3));\n",
       "      fill: #FFFFFF;\n",
       "    }\n",
       "  </style>\n",
       "\n",
       "      <script>\n",
       "        const buttonEl =\n",
       "          document.querySelector('#df-6fa04671-e072-4da9-964a-4df0d104d5f3 button.colab-df-convert');\n",
       "        buttonEl.style.display =\n",
       "          google.colab.kernel.accessAllowed ? 'block' : 'none';\n",
       "\n",
       "        async function convertToInteractive(key) {\n",
       "          const element = document.querySelector('#df-6fa04671-e072-4da9-964a-4df0d104d5f3');\n",
       "          const dataTable =\n",
       "            await google.colab.kernel.invokeFunction('convertToInteractive',\n",
       "                                                     [key], {});\n",
       "          if (!dataTable) return;\n",
       "\n",
       "          const docLinkHtml = 'Like what you see? Visit the ' +\n",
       "            '<a target=\"_blank\" href=https://colab.research.google.com/notebooks/data_table.ipynb>data table notebook</a>'\n",
       "            + ' to learn more about interactive tables.';\n",
       "          element.innerHTML = '';\n",
       "          dataTable['output_type'] = 'display_data';\n",
       "          await google.colab.output.renderOutput(dataTable, element);\n",
       "          const docLink = document.createElement('div');\n",
       "          docLink.innerHTML = docLinkHtml;\n",
       "          element.appendChild(docLink);\n",
       "        }\n",
       "      </script>\n",
       "    </div>\n",
       "  </div>\n",
       "  "
      ],
      "text/plain": [
       "    name   class  math_score  english_score  gender  age  total_score\n",
       "2   ross  second         4.0           10.0  Female   20         14.0\n",
       "3  suzan  second        24.0           20.0  Female    9         44.0\n",
       "1    ami   first        -6.0            0.0  Female    7         -6.0\n",
       "4  henry  second       -16.0          -20.0    Male    5        -36.0\n",
       "0   alex   first        -6.0          -10.0    Male    4        -16.0"
      ]
     },
     "execution_count": 153,
     "metadata": {},
     "output_type": "execute_result"
    }
   ],
   "source": [
    "df1_csv_loaded"
   ]
  },
  {
   "cell_type": "code",
   "execution_count": null,
   "metadata": {
    "id": "xlaoSi6eRLQQ"
   },
   "outputs": [],
   "source": [
    "df1_json_loaded = pd.read_json(file_json)"
   ]
  },
  {
   "cell_type": "code",
   "execution_count": null,
   "metadata": {
    "colab": {
     "base_uri": "https://localhost:8080/",
     "height": 206
    },
    "executionInfo": {
     "elapsed": 150,
     "status": "ok",
     "timestamp": 1661548921187,
     "user": {
      "displayName": "Harpreet SIngh",
      "userId": "15106381096049879330"
     },
     "user_tz": 300
    },
    "id": "rThif01fRg6l",
    "outputId": "04b150ee-9692-4acd-b61b-5fb0de86d71e"
   },
   "outputs": [
    {
     "data": {
      "text/html": [
       "\n",
       "  <div id=\"df-70716628-10ae-4872-8e6d-f47984417122\">\n",
       "    <div class=\"colab-df-container\">\n",
       "      <div>\n",
       "<style scoped>\n",
       "    .dataframe tbody tr th:only-of-type {\n",
       "        vertical-align: middle;\n",
       "    }\n",
       "\n",
       "    .dataframe tbody tr th {\n",
       "        vertical-align: top;\n",
       "    }\n",
       "\n",
       "    .dataframe thead th {\n",
       "        text-align: right;\n",
       "    }\n",
       "</style>\n",
       "<table border=\"1\" class=\"dataframe\">\n",
       "  <thead>\n",
       "    <tr style=\"text-align: right;\">\n",
       "      <th></th>\n",
       "      <th>name</th>\n",
       "      <th>class</th>\n",
       "      <th>math_score</th>\n",
       "      <th>english_score</th>\n",
       "      <th>gender</th>\n",
       "      <th>age</th>\n",
       "      <th>total_score</th>\n",
       "    </tr>\n",
       "  </thead>\n",
       "  <tbody>\n",
       "    <tr>\n",
       "      <th>2</th>\n",
       "      <td>ross</td>\n",
       "      <td>second</td>\n",
       "      <td>4</td>\n",
       "      <td>10</td>\n",
       "      <td>Female</td>\n",
       "      <td>20</td>\n",
       "      <td>14</td>\n",
       "    </tr>\n",
       "    <tr>\n",
       "      <th>3</th>\n",
       "      <td>suzan</td>\n",
       "      <td>second</td>\n",
       "      <td>24</td>\n",
       "      <td>20</td>\n",
       "      <td>Female</td>\n",
       "      <td>9</td>\n",
       "      <td>44</td>\n",
       "    </tr>\n",
       "    <tr>\n",
       "      <th>1</th>\n",
       "      <td>ami</td>\n",
       "      <td>first</td>\n",
       "      <td>-6</td>\n",
       "      <td>0</td>\n",
       "      <td>Female</td>\n",
       "      <td>7</td>\n",
       "      <td>-6</td>\n",
       "    </tr>\n",
       "    <tr>\n",
       "      <th>4</th>\n",
       "      <td>henry</td>\n",
       "      <td>second</td>\n",
       "      <td>-16</td>\n",
       "      <td>-20</td>\n",
       "      <td>Male</td>\n",
       "      <td>5</td>\n",
       "      <td>-36</td>\n",
       "    </tr>\n",
       "    <tr>\n",
       "      <th>0</th>\n",
       "      <td>alex</td>\n",
       "      <td>first</td>\n",
       "      <td>-6</td>\n",
       "      <td>-10</td>\n",
       "      <td>Male</td>\n",
       "      <td>4</td>\n",
       "      <td>-16</td>\n",
       "    </tr>\n",
       "  </tbody>\n",
       "</table>\n",
       "</div>\n",
       "      <button class=\"colab-df-convert\" onclick=\"convertToInteractive('df-70716628-10ae-4872-8e6d-f47984417122')\"\n",
       "              title=\"Convert this dataframe to an interactive table.\"\n",
       "              style=\"display:none;\">\n",
       "        \n",
       "  <svg xmlns=\"http://www.w3.org/2000/svg\" height=\"24px\"viewBox=\"0 0 24 24\"\n",
       "       width=\"24px\">\n",
       "    <path d=\"M0 0h24v24H0V0z\" fill=\"none\"/>\n",
       "    <path d=\"M18.56 5.44l.94 2.06.94-2.06 2.06-.94-2.06-.94-.94-2.06-.94 2.06-2.06.94zm-11 1L8.5 8.5l.94-2.06 2.06-.94-2.06-.94L8.5 2.5l-.94 2.06-2.06.94zm10 10l.94 2.06.94-2.06 2.06-.94-2.06-.94-.94-2.06-.94 2.06-2.06.94z\"/><path d=\"M17.41 7.96l-1.37-1.37c-.4-.4-.92-.59-1.43-.59-.52 0-1.04.2-1.43.59L10.3 9.45l-7.72 7.72c-.78.78-.78 2.05 0 2.83L4 21.41c.39.39.9.59 1.41.59.51 0 1.02-.2 1.41-.59l7.78-7.78 2.81-2.81c.8-.78.8-2.07 0-2.86zM5.41 20L4 18.59l7.72-7.72 1.47 1.35L5.41 20z\"/>\n",
       "  </svg>\n",
       "      </button>\n",
       "      \n",
       "  <style>\n",
       "    .colab-df-container {\n",
       "      display:flex;\n",
       "      flex-wrap:wrap;\n",
       "      gap: 12px;\n",
       "    }\n",
       "\n",
       "    .colab-df-convert {\n",
       "      background-color: #E8F0FE;\n",
       "      border: none;\n",
       "      border-radius: 50%;\n",
       "      cursor: pointer;\n",
       "      display: none;\n",
       "      fill: #1967D2;\n",
       "      height: 32px;\n",
       "      padding: 0 0 0 0;\n",
       "      width: 32px;\n",
       "    }\n",
       "\n",
       "    .colab-df-convert:hover {\n",
       "      background-color: #E2EBFA;\n",
       "      box-shadow: 0px 1px 2px rgba(60, 64, 67, 0.3), 0px 1px 3px 1px rgba(60, 64, 67, 0.15);\n",
       "      fill: #174EA6;\n",
       "    }\n",
       "\n",
       "    [theme=dark] .colab-df-convert {\n",
       "      background-color: #3B4455;\n",
       "      fill: #D2E3FC;\n",
       "    }\n",
       "\n",
       "    [theme=dark] .colab-df-convert:hover {\n",
       "      background-color: #434B5C;\n",
       "      box-shadow: 0px 1px 3px 1px rgba(0, 0, 0, 0.15);\n",
       "      filter: drop-shadow(0px 1px 2px rgba(0, 0, 0, 0.3));\n",
       "      fill: #FFFFFF;\n",
       "    }\n",
       "  </style>\n",
       "\n",
       "      <script>\n",
       "        const buttonEl =\n",
       "          document.querySelector('#df-70716628-10ae-4872-8e6d-f47984417122 button.colab-df-convert');\n",
       "        buttonEl.style.display =\n",
       "          google.colab.kernel.accessAllowed ? 'block' : 'none';\n",
       "\n",
       "        async function convertToInteractive(key) {\n",
       "          const element = document.querySelector('#df-70716628-10ae-4872-8e6d-f47984417122');\n",
       "          const dataTable =\n",
       "            await google.colab.kernel.invokeFunction('convertToInteractive',\n",
       "                                                     [key], {});\n",
       "          if (!dataTable) return;\n",
       "\n",
       "          const docLinkHtml = 'Like what you see? Visit the ' +\n",
       "            '<a target=\"_blank\" href=https://colab.research.google.com/notebooks/data_table.ipynb>data table notebook</a>'\n",
       "            + ' to learn more about interactive tables.';\n",
       "          element.innerHTML = '';\n",
       "          dataTable['output_type'] = 'display_data';\n",
       "          await google.colab.output.renderOutput(dataTable, element);\n",
       "          const docLink = document.createElement('div');\n",
       "          docLink.innerHTML = docLinkHtml;\n",
       "          element.appendChild(docLink);\n",
       "        }\n",
       "      </script>\n",
       "    </div>\n",
       "  </div>\n",
       "  "
      ],
      "text/plain": [
       "    name   class  math_score  english_score  gender  age  total_score\n",
       "2   ross  second           4             10  Female   20           14\n",
       "3  suzan  second          24             20  Female    9           44\n",
       "1    ami   first          -6              0  Female    7           -6\n",
       "4  henry  second         -16            -20    Male    5          -36\n",
       "0   alex   first          -6            -10    Male    4          -16"
      ]
     },
     "execution_count": 155,
     "metadata": {},
     "output_type": "execute_result"
    }
   ],
   "source": [
    "df1_json_loaded"
   ]
  },
  {
   "cell_type": "code",
   "execution_count": null,
   "metadata": {
    "id": "2Y0EZ5uJODK0"
   },
   "outputs": [],
   "source": []
  }
 ],
 "metadata": {
  "colab": {
   "collapsed_sections": [],
   "name": "Demo_2.Pandas_final.ipynb",
   "provenance": [],
   "toc_visible": true
  },
  "kernelspec": {
   "display_name": "Python 3",
   "language": "python",
   "name": "python3"
  },
  "language_info": {
   "codemirror_mode": {
    "name": "ipython",
    "version": 3
   },
   "file_extension": ".py",
   "mimetype": "text/x-python",
   "name": "python",
   "nbconvert_exporter": "python",
   "pygments_lexer": "ipython3",
   "version": "3.8.8"
  },
  "varInspector": {
   "cols": {
    "lenName": 16,
    "lenType": 16,
    "lenVar": 40
   },
   "kernels_config": {
    "python": {
     "delete_cmd_postfix": "",
     "delete_cmd_prefix": "del ",
     "library": "var_list.py",
     "varRefreshCmd": "print(var_dic_list())"
    },
    "r": {
     "delete_cmd_postfix": ") ",
     "delete_cmd_prefix": "rm(",
     "library": "var_list.r",
     "varRefreshCmd": "cat(var_dic_list()) "
    }
   },
   "types_to_exclude": [
    "module",
    "function",
    "builtin_function_or_method",
    "instance",
    "_Feature"
   ],
   "window_display": false
  }
 },
 "nbformat": 4,
 "nbformat_minor": 1
}
