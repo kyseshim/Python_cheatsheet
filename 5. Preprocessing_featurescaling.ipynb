{
 "cells": [
  {
   "cell_type": "markdown",
   "metadata": {
    "id": "_lbcfZlsYdKC"
   },
   "source": [
    "# <font color = 'pickle'>**Import/Install the packages**"
   ]
  },
  {
   "cell_type": "code",
   "execution_count": 1,
   "metadata": {
    "ExecuteTime": {
     "end_time": "2022-09-20T00:29:21.895474Z",
     "start_time": "2022-09-20T00:29:12.842992Z"
    },
    "colab": {
     "base_uri": "https://localhost:8080/"
    },
    "executionInfo": {
     "elapsed": 6842,
     "status": "ok",
     "timestamp": 1663610932263,
     "user": {
      "displayName": "Kyungseob Shim",
      "userId": "04167791068819005440"
     },
     "user_tz": 300
    },
    "id": "VZ_zLxMs7W_E",
    "jupyter": {
     "outputs_hidden": true
    },
    "outputId": "5c785843-78f2-4db8-aac1-bbd2ff6b5ecc"
   },
   "outputs": [],
   "source": [
    "# preprocessing warpper for sklearn\n",
    "!pip install feature_engine -qq"
   ]
  },
  {
   "cell_type": "code",
   "execution_count": 2,
   "metadata": {
    "ExecuteTime": {
     "end_time": "2022-09-20T00:30:08.881110Z",
     "start_time": "2022-09-20T00:30:08.862152Z"
    },
    "executionInfo": {
     "elapsed": 313,
     "status": "ok",
     "timestamp": 1663610956372,
     "user": {
      "displayName": "Kyungseob Shim",
      "userId": "04167791068819005440"
     },
     "user_tz": 300
    },
    "id": "Rwcl46RajFl1"
   },
   "outputs": [],
   "source": [
    "import feature_engine"
   ]
  },
  {
   "cell_type": "code",
   "execution_count": 3,
   "metadata": {
    "ExecuteTime": {
     "end_time": "2022-09-20T00:30:10.373604Z",
     "start_time": "2022-09-20T00:30:10.369615Z"
    },
    "colab": {
     "base_uri": "https://localhost:8080/"
    },
    "executionInfo": {
     "elapsed": 205,
     "status": "ok",
     "timestamp": 1663610958221,
     "user": {
      "displayName": "Kyungseob Shim",
      "userId": "04167791068819005440"
     },
     "user_tz": 300
    },
    "id": "Gc5kY-QzjMJ3",
    "outputId": "74d7b3b0-de01-45e0-83b2-52df29c34d26"
   },
   "outputs": [
    {
     "name": "stdout",
     "output_type": "stream",
     "text": [
      "1.4.1\n"
     ]
    }
   ],
   "source": [
    "print(feature_engine.__version__)"
   ]
  },
  {
   "cell_type": "code",
   "execution_count": 4,
   "metadata": {
    "ExecuteTime": {
     "end_time": "2022-09-20T00:30:16.209952Z",
     "start_time": "2022-09-20T00:30:13.691672Z"
    },
    "executionInfo": {
     "elapsed": 1476,
     "status": "ok",
     "timestamp": 1663611074971,
     "user": {
      "displayName": "Kyungseob Shim",
      "userId": "04167791068819005440"
     },
     "user_tz": 300
    },
    "id": "eKaVwwRgWb1H"
   },
   "outputs": [],
   "source": [
    "\"\"\"Importing the required packages\"\"\"\n",
    "\n",
    "# For DataFrames and manipulations\n",
    "import pandas as pd\n",
    "import numpy as np\n",
    "\n",
    "# For data Visualization\n",
    "import matplotlib.pyplot as plt\n",
    "import seaborn as sns\n",
    "import scipy.stats as stats\n",
    "%matplotlib inline\n",
    "\n",
    "# For splitting the dataset\n",
    "from sklearn.model_selection import train_test_split\n",
    "\n",
    "# For categorical variables\n",
    "from feature_engine.encoding import OneHotEncoder\n",
    "\n",
    "# Missing value imputation\n",
    "from feature_engine.imputation import MeanMedianImputer\n",
    "from sklearn.impute import SimpleImputer\n",
    "\n",
    "# For scaling the data\n",
    "from sklearn.preprocessing import MinMaxScaler, StandardScaler\n",
    "\n",
    "# Preprocessing specific columns\n",
    "from sklearn.compose import ColumnTransformer"
   ]
  },
  {
   "cell_type": "markdown",
   "metadata": {
    "id": "cOelMajf2OeE"
   },
   "source": [
    "# <font color = 'pickle'>**Import the dataset**"
   ]
  },
  {
   "cell_type": "code",
   "execution_count": 5,
   "metadata": {
    "ExecuteTime": {
     "end_time": "2022-09-20T00:30:18.984015Z",
     "start_time": "2022-09-20T00:30:17.463180Z"
    },
    "executionInfo": {
     "elapsed": 1549,
     "status": "ok",
     "timestamp": 1663611089532,
     "user": {
      "displayName": "Kyungseob Shim",
      "userId": "04167791068819005440"
     },
     "user_tz": 300
    },
    "id": "E8r6RzW02NjC"
   },
   "outputs": [],
   "source": [
    "df = pd.read_csv(\"https://drive.google.com/uc?export=view&id=1Kv-W6rWaWuUeDxoNe3_UkZgqewzq0BJB\")"
   ]
  },
  {
   "cell_type": "markdown",
   "metadata": {
    "id": "SEvAlUSjQYOr"
   },
   "source": [
    "#<font color = 'pickle'> **Data Description**\n",
    "Data is taken from https://www.kaggle.com/shivan118/churn-modeling-dataset (License CC0: Public Domain)\n",
    "\n",
    "* In this notebook, we will use churn (when a customer ends their relationship with a business) dataset. Companies generally use **churn analytics** to measure the rate at which customers will quit the product, site, or service. \n",
    "* The revenue of the business could be affected based on the customer churn.\n",
    "* Businesses need to know which customers are loyal and which are at risk of churning — and understand the factors that affect customer churn.\n",
    "* In this notebook, we will understand pre-processing steps to clean and prepare data for the model. In the later notebooks, we will understand how to build a model to predict customer churn."
   ]
  },
  {
   "cell_type": "markdown",
   "metadata": {
    "id": "4kT7nLf-XZfG"
   },
   "source": [
    "\n",
    "* Here, our data is related to the customers of the telecom industry. We provide a brief description of the variables below:\n",
    " 1. **RowNumber** - Gives the row number. \n",
    " 2. **CustomerId** - The ID of the customer.\n",
    " 1.  **CreditScore** - The credit score attained by  the customer.\n",
    " 2.  **Geography** - The Country of the customer. \n",
    " 3.  **Gender** - The gender of the customer.          \n",
    " 4.   **Age**    - Age of the customer.          \n",
    " 5.   **Tenure** - How many years the customer is with the company?       \n",
    " 6.   **Balance** - Balance in the credit card         \n",
    " 7.   **NumOfProducts** - Number of products bought by the customer by using credit card  \n",
    " 8.   **HasCrCard** - Whether the customer has the credit card or not.         \n",
    " 9.   **IsActiveMember** - Does the customer have active membership?     \n",
    " 10.  **EstimatedSalary** - Estimated salary of the customer. \n",
    " 11.  **Exited** - churn(whether the customer left the company or not)"
   ]
  },
  {
   "cell_type": "markdown",
   "metadata": {
    "id": "ZXZWhTeZVpqh"
   },
   "source": [
    "#<font color = 'pickle'> **Data Preprocessing**\n",
    "\n",
    "* It is an intermediary step between EDA (exploratory data analysis) and preparing a model. \n",
    "\n",
    "* It involves several steps that help convert the raw data into a more suitable form for modeling."
   ]
  },
  {
   "cell_type": "markdown",
   "metadata": {
    "id": "toRfHxxucUSD"
   },
   "source": [
    "# <font color = 'pickle'>**Why use data preprocessing**\n",
    "\n",
    "- Many machine learning algorithms impose the requirements on the data, such as data should be numerical, all the attributes should have the same scale, etc.\n",
    "- There should not be any statistical noise or errors in the data.\n",
    "- If we find any noise or errors in the data, it should be corrected; otherwise, it will affect our machine learning algorithm."
   ]
  },
  {
   "cell_type": "markdown",
   "metadata": {
    "id": "OJkfhdhoYB7K"
   },
   "source": [
    "\n",
    "# <font color = 'pickle'>**Steps taken in data preprocessing**\n",
    "\n",
    "We can follow the following steps in data preprocessing:-\n",
    "\n",
    "* Data cleaning - Correcting the errors or data with missing values.\n",
    "\n",
    "* Data transformation - Scaling or finding the distribution of the data.\n",
    "\n",
    "* Feature engineering - Adding more variables for the data.\n",
    "\n",
    "* Dimensionality Reduction - Reducing the shape of the variables from high dimension to the low dimension.\n"
   ]
  },
  {
   "cell_type": "markdown",
   "metadata": {
    "id": "zcZkpy--c7wp"
   },
   "source": [
    "* So, now we know different steps followed in data preprocessing, but the question is **\"Do we need to follow all the steps mentioned above\"?**\n",
    "* The answer is a big **no**. Based on the nature of data and algorithm used, it is fine to skip some of the data preprocessing steps\"?\n",
    "\n",
    "* Example:- \n",
    "  1. **Linear regression models**: These models are sensitive towards the distribution of the data. Hence, we need to make sure the data is Gaussian or apply transformations for turning it into gaussian.\n",
    "  2. **Tree-based models**: These models can handle categorical variables. We do not need to perform the categorical encoding (transforming the categorical values to numerical type). However, when it comes to other algorithms, categorical encoding is essential."
   ]
  },
  {
   "cell_type": "markdown",
   "metadata": {
    "id": "B57Z94l3ZB3f"
   },
   "source": [
    "# <font color = 'pickle'>**Exploratory data analysis**"
   ]
  },
  {
   "cell_type": "markdown",
   "metadata": {
    "id": "ecSaIAAl7CiA"
   },
   "source": [
    "## <font color = 'pickle'>**Check Data**\n",
    "Let's explore about the dataset by checking the shape(number of rows and columns), different column labels, duplicate values etc."
   ]
  },
  {
   "cell_type": "markdown",
   "metadata": {
    "id": "--b-usojsv0n"
   },
   "source": [
    "### <font color = 'pickle'>**Check few rows**"
   ]
  },
  {
   "cell_type": "code",
   "execution_count": 6,
   "metadata": {
    "ExecuteTime": {
     "end_time": "2022-09-20T00:30:22.382076Z",
     "start_time": "2022-09-20T00:30:22.350192Z"
    },
    "colab": {
     "base_uri": "https://localhost:8080/",
     "height": 270
    },
    "executionInfo": {
     "elapsed": 238,
     "status": "ok",
     "timestamp": 1663611428632,
     "user": {
      "displayName": "Kyungseob Shim",
      "userId": "04167791068819005440"
     },
     "user_tz": 300
    },
    "id": "k_Lslzt3blDE",
    "outputId": "fb8f2362-c6f0-4120-db35-c94443abc049"
   },
   "outputs": [
    {
     "data": {
      "text/html": [
       "<div>\n",
       "<style scoped>\n",
       "    .dataframe tbody tr th:only-of-type {\n",
       "        vertical-align: middle;\n",
       "    }\n",
       "\n",
       "    .dataframe tbody tr th {\n",
       "        vertical-align: top;\n",
       "    }\n",
       "\n",
       "    .dataframe thead th {\n",
       "        text-align: right;\n",
       "    }\n",
       "</style>\n",
       "<table border=\"1\" class=\"dataframe\">\n",
       "  <thead>\n",
       "    <tr style=\"text-align: right;\">\n",
       "      <th></th>\n",
       "      <th>RowNumber</th>\n",
       "      <th>CustomerId</th>\n",
       "      <th>Surname</th>\n",
       "      <th>CreditScore</th>\n",
       "      <th>Geography</th>\n",
       "      <th>Gender</th>\n",
       "      <th>Age</th>\n",
       "      <th>Tenure</th>\n",
       "      <th>Balance</th>\n",
       "      <th>NumOfProducts</th>\n",
       "      <th>HasCrCard</th>\n",
       "      <th>IsActiveMember</th>\n",
       "      <th>EstimatedSalary</th>\n",
       "      <th>Exited</th>\n",
       "    </tr>\n",
       "  </thead>\n",
       "  <tbody>\n",
       "    <tr>\n",
       "      <th>0</th>\n",
       "      <td>1</td>\n",
       "      <td>15634602</td>\n",
       "      <td>Hargrave</td>\n",
       "      <td>619</td>\n",
       "      <td>France</td>\n",
       "      <td>Female</td>\n",
       "      <td>42.0</td>\n",
       "      <td>2.0</td>\n",
       "      <td>0.00</td>\n",
       "      <td>1.0</td>\n",
       "      <td>1</td>\n",
       "      <td>1</td>\n",
       "      <td>101348.88</td>\n",
       "      <td>1</td>\n",
       "    </tr>\n",
       "    <tr>\n",
       "      <th>1</th>\n",
       "      <td>2</td>\n",
       "      <td>15647311</td>\n",
       "      <td>Hill</td>\n",
       "      <td>608</td>\n",
       "      <td>Spain</td>\n",
       "      <td>Female</td>\n",
       "      <td>41.0</td>\n",
       "      <td>1.0</td>\n",
       "      <td>83807.86</td>\n",
       "      <td>1.0</td>\n",
       "      <td>0</td>\n",
       "      <td>1</td>\n",
       "      <td>112542.58</td>\n",
       "      <td>0</td>\n",
       "    </tr>\n",
       "    <tr>\n",
       "      <th>2</th>\n",
       "      <td>3</td>\n",
       "      <td>15619304</td>\n",
       "      <td>Onio</td>\n",
       "      <td>502</td>\n",
       "      <td>France</td>\n",
       "      <td>Female</td>\n",
       "      <td>42.0</td>\n",
       "      <td>8.0</td>\n",
       "      <td>159660.80</td>\n",
       "      <td>3.0</td>\n",
       "      <td>1</td>\n",
       "      <td>0</td>\n",
       "      <td>113931.57</td>\n",
       "      <td>1</td>\n",
       "    </tr>\n",
       "    <tr>\n",
       "      <th>3</th>\n",
       "      <td>4</td>\n",
       "      <td>15701354</td>\n",
       "      <td>Boni</td>\n",
       "      <td>699</td>\n",
       "      <td>France</td>\n",
       "      <td>Female</td>\n",
       "      <td>39.0</td>\n",
       "      <td>1.0</td>\n",
       "      <td>0.00</td>\n",
       "      <td>NaN</td>\n",
       "      <td>0</td>\n",
       "      <td>0</td>\n",
       "      <td>93826.63</td>\n",
       "      <td>0</td>\n",
       "    </tr>\n",
       "    <tr>\n",
       "      <th>4</th>\n",
       "      <td>5</td>\n",
       "      <td>15737888</td>\n",
       "      <td>Mitchell</td>\n",
       "      <td>850</td>\n",
       "      <td>Spain</td>\n",
       "      <td>Female</td>\n",
       "      <td>43.0</td>\n",
       "      <td>2.0</td>\n",
       "      <td>125510.82</td>\n",
       "      <td>1.0</td>\n",
       "      <td>1</td>\n",
       "      <td>1</td>\n",
       "      <td>79084.10</td>\n",
       "      <td>0</td>\n",
       "    </tr>\n",
       "  </tbody>\n",
       "</table>\n",
       "</div>"
      ],
      "text/plain": [
       "   RowNumber  CustomerId   Surname  CreditScore Geography  Gender   Age  \\\n",
       "0          1    15634602  Hargrave          619    France  Female  42.0   \n",
       "1          2    15647311      Hill          608     Spain  Female  41.0   \n",
       "2          3    15619304      Onio          502    France  Female  42.0   \n",
       "3          4    15701354      Boni          699    France  Female  39.0   \n",
       "4          5    15737888  Mitchell          850     Spain  Female  43.0   \n",
       "\n",
       "   Tenure    Balance  NumOfProducts  HasCrCard  IsActiveMember  \\\n",
       "0     2.0       0.00            1.0          1               1   \n",
       "1     1.0   83807.86            1.0          0               1   \n",
       "2     8.0  159660.80            3.0          1               0   \n",
       "3     1.0       0.00            NaN          0               0   \n",
       "4     2.0  125510.82            1.0          1               1   \n",
       "\n",
       "   EstimatedSalary  Exited  \n",
       "0        101348.88       1  \n",
       "1        112542.58       0  \n",
       "2        113931.57       1  \n",
       "3         93826.63       0  \n",
       "4         79084.10       0  "
      ]
     },
     "execution_count": 6,
     "metadata": {},
     "output_type": "execute_result"
    }
   ],
   "source": [
    "# check the top 5 rows\n",
    "df.head()"
   ]
  },
  {
   "cell_type": "markdown",
   "metadata": {
    "id": "XIIAbCmKs4t6"
   },
   "source": [
    "###  <font color = 'pickle'>**Check column names**"
   ]
  },
  {
   "cell_type": "code",
   "execution_count": 7,
   "metadata": {
    "ExecuteTime": {
     "end_time": "2022-09-20T00:30:23.944304Z",
     "start_time": "2022-09-20T00:30:23.931339Z"
    },
    "colab": {
     "base_uri": "https://localhost:8080/"
    },
    "executionInfo": {
     "elapsed": 239,
     "status": "ok",
     "timestamp": 1663611454736,
     "user": {
      "displayName": "Kyungseob Shim",
      "userId": "04167791068819005440"
     },
     "user_tz": 300
    },
    "id": "zsIeyPgDdHDV",
    "outputId": "21f5d8ff-8649-4003-a4c6-9c2224884baf"
   },
   "outputs": [
    {
     "data": {
      "text/plain": [
       "Index(['RowNumber', 'CustomerId', 'Surname', 'CreditScore', 'Geography',\n",
       "       'Gender', 'Age', 'Tenure', 'Balance', 'NumOfProducts', 'HasCrCard',\n",
       "       'IsActiveMember', 'EstimatedSalary', 'Exited'],\n",
       "      dtype='object')"
      ]
     },
     "execution_count": 7,
     "metadata": {},
     "output_type": "execute_result"
    }
   ],
   "source": [
    "# Let's check the columns of the data\n",
    "df.columns"
   ]
  },
  {
   "cell_type": "markdown",
   "metadata": {
    "id": "X9VxbqJvs97z"
   },
   "source": [
    "### <font color = 'pickle'>**Check data types of columns**"
   ]
  },
  {
   "cell_type": "code",
   "execution_count": 9,
   "metadata": {
    "ExecuteTime": {
     "end_time": "2022-09-20T01:04:12.703631Z",
     "start_time": "2022-09-20T01:04:12.686120Z"
    },
    "colab": {
     "base_uri": "https://localhost:8080/"
    },
    "executionInfo": {
     "elapsed": 205,
     "status": "ok",
     "timestamp": 1663611458681,
     "user": {
      "displayName": "Kyungseob Shim",
      "userId": "04167791068819005440"
     },
     "user_tz": 300
    },
    "id": "QMTA_s9DmeWH",
    "outputId": "e20e5379-6567-4847-c85a-d5daa2419de4"
   },
   "outputs": [
    {
     "name": "stdout",
     "output_type": "stream",
     "text": [
      "<class 'pandas.core.frame.DataFrame'>\n",
      "RangeIndex: 10000 entries, 0 to 9999\n",
      "Data columns (total 14 columns):\n",
      " #   Column           Non-Null Count  Dtype  \n",
      "---  ------           --------------  -----  \n",
      " 0   RowNumber        10000 non-null  int64  \n",
      " 1   CustomerId       10000 non-null  int64  \n",
      " 2   Surname          10000 non-null  object \n",
      " 3   CreditScore      10000 non-null  int64  \n",
      " 4   Geography        10000 non-null  object \n",
      " 5   Gender           10000 non-null  object \n",
      " 6   Age              9995 non-null   float64\n",
      " 7   Tenure           9995 non-null   float64\n",
      " 8   Balance          9978 non-null   float64\n",
      " 9   NumOfProducts    9990 non-null   float64\n",
      " 10  HasCrCard        10000 non-null  int64  \n",
      " 11  IsActiveMember   10000 non-null  int64  \n",
      " 12  EstimatedSalary  10000 non-null  float64\n",
      " 13  Exited           10000 non-null  int64  \n",
      "dtypes: float64(5), int64(6), object(3)\n",
      "memory usage: 1.1+ MB\n"
     ]
    }
   ],
   "source": [
    "# check the data type for the columns\n",
    "df.info()"
   ]
  },
  {
   "cell_type": "markdown",
   "metadata": {
    "id": "YWxGVM6RtS60"
   },
   "source": [
    "Although the data type of HasCrCard and IsActiveMember is int64, we know that these are categorical variables.\n",
    "Hence, we will change the datatype to object"
   ]
  },
  {
   "cell_type": "code",
   "execution_count": 10,
   "metadata": {
    "ExecuteTime": {
     "end_time": "2022-09-20T01:04:14.565036Z",
     "start_time": "2022-09-20T01:04:14.547084Z"
    },
    "executionInfo": {
     "elapsed": 224,
     "status": "ok",
     "timestamp": 1663611485899,
     "user": {
      "displayName": "Kyungseob Shim",
      "userId": "04167791068819005440"
     },
     "user_tz": 300
    },
    "id": "mlDUoj5kFmWv"
   },
   "outputs": [],
   "source": [
    "# change data type to object\n",
    "for var in ['HasCrCard' ,'IsActiveMember']:\n",
    "  df[var]= df[var].astype('object')"
   ]
  },
  {
   "cell_type": "code",
   "execution_count": 11,
   "metadata": {
    "ExecuteTime": {
     "end_time": "2022-09-20T01:04:15.677159Z",
     "start_time": "2022-09-20T01:04:15.667186Z"
    },
    "colab": {
     "base_uri": "https://localhost:8080/"
    },
    "executionInfo": {
     "elapsed": 277,
     "status": "ok",
     "timestamp": 1663611487790,
     "user": {
      "displayName": "Kyungseob Shim",
      "userId": "04167791068819005440"
     },
     "user_tz": 300
    },
    "id": "UMCFMrdXHE8J",
    "outputId": "ecc93cce-8cb1-4d81-f885-fffbb67e883b"
   },
   "outputs": [
    {
     "name": "stdout",
     "output_type": "stream",
     "text": [
      "<class 'pandas.core.frame.DataFrame'>\n",
      "RangeIndex: 10000 entries, 0 to 9999\n",
      "Data columns (total 14 columns):\n",
      " #   Column           Non-Null Count  Dtype  \n",
      "---  ------           --------------  -----  \n",
      " 0   RowNumber        10000 non-null  int64  \n",
      " 1   CustomerId       10000 non-null  int64  \n",
      " 2   Surname          10000 non-null  object \n",
      " 3   CreditScore      10000 non-null  int64  \n",
      " 4   Geography        10000 non-null  object \n",
      " 5   Gender           10000 non-null  object \n",
      " 6   Age              9995 non-null   float64\n",
      " 7   Tenure           9995 non-null   float64\n",
      " 8   Balance          9978 non-null   float64\n",
      " 9   NumOfProducts    9990 non-null   float64\n",
      " 10  HasCrCard        10000 non-null  object \n",
      " 11  IsActiveMember   10000 non-null  object \n",
      " 12  EstimatedSalary  10000 non-null  float64\n",
      " 13  Exited           10000 non-null  int64  \n",
      "dtypes: float64(5), int64(4), object(5)\n",
      "memory usage: 1.1+ MB\n"
     ]
    }
   ],
   "source": [
    "# check the data types again\n",
    "df.info()"
   ]
  },
  {
   "cell_type": "markdown",
   "metadata": {
    "id": "6xiPEG-2tgV2"
   },
   "source": [
    "### <font color = 'pickle'>**Check for unnecessary columns**"
   ]
  },
  {
   "cell_type": "markdown",
   "metadata": {
    "id": "mS2HHiizhZqb"
   },
   "source": [
    "Columns such as RowNumber, CustomerId, and Surname are unnecessary columns.\n",
    "\n",
    "We don't need these columns for our analysis as these columns doesn't contain any pattern.\n",
    "\n",
    "So, we can drop these columns."
   ]
  },
  {
   "cell_type": "code",
   "execution_count": 12,
   "metadata": {
    "ExecuteTime": {
     "end_time": "2022-09-20T01:04:17.335538Z",
     "start_time": "2022-09-20T01:04:17.325564Z"
    },
    "executionInfo": {
     "elapsed": 231,
     "status": "ok",
     "timestamp": 1663611831142,
     "user": {
      "displayName": "Kyungseob Shim",
      "userId": "04167791068819005440"
     },
     "user_tz": 300
    },
    "id": "yfm7UQTFOS75"
   },
   "outputs": [],
   "source": [
    "# We can drop the columns which are not required for our analysis\n",
    "# We don't need RowNumber,CustomerId,Surname for the prediction purpose\n",
    "df.drop(columns=['RowNumber', 'CustomerId', 'Surname'],axis =1, inplace = True )"
   ]
  },
  {
   "cell_type": "markdown",
   "metadata": {
    "id": "FATjxh9StzQn"
   },
   "source": [
    "### <font color = 'pickle'>**Check for unique values**"
   ]
  },
  {
   "cell_type": "markdown",
   "metadata": {
    "id": "3yyYfIZIh8al"
   },
   "source": [
    "Now, let's see total number of unique values in each column."
   ]
  },
  {
   "cell_type": "code",
   "execution_count": 13,
   "metadata": {
    "ExecuteTime": {
     "end_time": "2022-09-20T01:04:19.023281Z",
     "start_time": "2022-09-20T01:04:18.994359Z"
    },
    "colab": {
     "base_uri": "https://localhost:8080/"
    },
    "executionInfo": {
     "elapsed": 309,
     "status": "ok",
     "timestamp": 1663611833649,
     "user": {
      "displayName": "Kyungseob Shim",
      "userId": "04167791068819005440"
     },
     "user_tz": 300
    },
    "id": "91Tm2by20EhV",
    "outputId": "e0701045-dd9a-4680-ac71-05123648e8fb"
   },
   "outputs": [
    {
     "data": {
      "text/plain": [
       "CreditScore         460\n",
       "Geography             3\n",
       "Gender                2\n",
       "Age                  70\n",
       "Tenure               11\n",
       "Balance            6382\n",
       "NumOfProducts         4\n",
       "HasCrCard             2\n",
       "IsActiveMember        2\n",
       "EstimatedSalary    9999\n",
       "Exited                2\n",
       "dtype: int64"
      ]
     },
     "execution_count": 13,
     "metadata": {},
     "output_type": "execute_result"
    }
   ],
   "source": [
    "# Identify Columns that Contain a Single value\n",
    "# we will use nunique() function to get number of unique values for each column\n",
    "# We can delete the columns which have single values \n",
    "df.nunique()"
   ]
  },
  {
   "cell_type": "markdown",
   "metadata": {
    "id": "t4m8MT-wjnKx"
   },
   "source": [
    "As we can see, all the columns has more than one unique value.\n",
    "\n",
    "So, all these are valid and useful columns."
   ]
  },
  {
   "cell_type": "markdown",
   "metadata": {
    "id": "fr3w_16nt604"
   },
   "source": [
    "### <font color = 'pickle'>**Check summary statistics**"
   ]
  },
  {
   "cell_type": "code",
   "execution_count": 14,
   "metadata": {
    "ExecuteTime": {
     "end_time": "2022-09-20T01:04:20.808045Z",
     "start_time": "2022-09-20T01:04:20.766188Z"
    },
    "colab": {
     "base_uri": "https://localhost:8080/",
     "height": 269
    },
    "executionInfo": {
     "elapsed": 9,
     "status": "ok",
     "timestamp": 1663611837028,
     "user": {
      "displayName": "Kyungseob Shim",
      "userId": "04167791068819005440"
     },
     "user_tz": 300
    },
    "id": "JXgWfqruRl0e",
    "outputId": "6c6974de-97d6-4bdd-bfa2-aac674da1777"
   },
   "outputs": [
    {
     "data": {
      "text/html": [
       "<div>\n",
       "<style scoped>\n",
       "    .dataframe tbody tr th:only-of-type {\n",
       "        vertical-align: middle;\n",
       "    }\n",
       "\n",
       "    .dataframe tbody tr th {\n",
       "        vertical-align: top;\n",
       "    }\n",
       "\n",
       "    .dataframe thead th {\n",
       "        text-align: right;\n",
       "    }\n",
       "</style>\n",
       "<table border=\"1\" class=\"dataframe\">\n",
       "  <thead>\n",
       "    <tr style=\"text-align: right;\">\n",
       "      <th></th>\n",
       "      <th>count</th>\n",
       "      <th>mean</th>\n",
       "      <th>std</th>\n",
       "      <th>min</th>\n",
       "      <th>25%</th>\n",
       "      <th>50%</th>\n",
       "      <th>75%</th>\n",
       "      <th>max</th>\n",
       "    </tr>\n",
       "  </thead>\n",
       "  <tbody>\n",
       "    <tr>\n",
       "      <th>CreditScore</th>\n",
       "      <td>10000.0</td>\n",
       "      <td>650.528800</td>\n",
       "      <td>96.653299</td>\n",
       "      <td>350.00</td>\n",
       "      <td>584.00</td>\n",
       "      <td>652.000</td>\n",
       "      <td>718.0000</td>\n",
       "      <td>850.00</td>\n",
       "    </tr>\n",
       "    <tr>\n",
       "      <th>Age</th>\n",
       "      <td>9995.0</td>\n",
       "      <td>38.922761</td>\n",
       "      <td>10.487842</td>\n",
       "      <td>18.00</td>\n",
       "      <td>32.00</td>\n",
       "      <td>37.000</td>\n",
       "      <td>44.0000</td>\n",
       "      <td>92.00</td>\n",
       "    </tr>\n",
       "    <tr>\n",
       "      <th>Tenure</th>\n",
       "      <td>9995.0</td>\n",
       "      <td>5.013007</td>\n",
       "      <td>2.891894</td>\n",
       "      <td>0.00</td>\n",
       "      <td>3.00</td>\n",
       "      <td>5.000</td>\n",
       "      <td>7.0000</td>\n",
       "      <td>10.00</td>\n",
       "    </tr>\n",
       "    <tr>\n",
       "      <th>Balance</th>\n",
       "      <td>9978.0</td>\n",
       "      <td>76654.529252</td>\n",
       "      <td>62362.594310</td>\n",
       "      <td>0.00</td>\n",
       "      <td>0.00</td>\n",
       "      <td>97334.690</td>\n",
       "      <td>127677.9475</td>\n",
       "      <td>250898.09</td>\n",
       "    </tr>\n",
       "    <tr>\n",
       "      <th>NumOfProducts</th>\n",
       "      <td>9990.0</td>\n",
       "      <td>1.530531</td>\n",
       "      <td>0.581714</td>\n",
       "      <td>1.00</td>\n",
       "      <td>1.00</td>\n",
       "      <td>1.000</td>\n",
       "      <td>2.0000</td>\n",
       "      <td>4.00</td>\n",
       "    </tr>\n",
       "    <tr>\n",
       "      <th>EstimatedSalary</th>\n",
       "      <td>10000.0</td>\n",
       "      <td>100090.239881</td>\n",
       "      <td>57510.492818</td>\n",
       "      <td>11.58</td>\n",
       "      <td>51002.11</td>\n",
       "      <td>100193.915</td>\n",
       "      <td>149388.2475</td>\n",
       "      <td>199992.48</td>\n",
       "    </tr>\n",
       "    <tr>\n",
       "      <th>Exited</th>\n",
       "      <td>10000.0</td>\n",
       "      <td>0.203700</td>\n",
       "      <td>0.402769</td>\n",
       "      <td>0.00</td>\n",
       "      <td>0.00</td>\n",
       "      <td>0.000</td>\n",
       "      <td>0.0000</td>\n",
       "      <td>1.00</td>\n",
       "    </tr>\n",
       "  </tbody>\n",
       "</table>\n",
       "</div>"
      ],
      "text/plain": [
       "                   count           mean           std     min       25%  \\\n",
       "CreditScore      10000.0     650.528800     96.653299  350.00    584.00   \n",
       "Age               9995.0      38.922761     10.487842   18.00     32.00   \n",
       "Tenure            9995.0       5.013007      2.891894    0.00      3.00   \n",
       "Balance           9978.0   76654.529252  62362.594310    0.00      0.00   \n",
       "NumOfProducts     9990.0       1.530531      0.581714    1.00      1.00   \n",
       "EstimatedSalary  10000.0  100090.239881  57510.492818   11.58  51002.11   \n",
       "Exited           10000.0       0.203700      0.402769    0.00      0.00   \n",
       "\n",
       "                        50%          75%        max  \n",
       "CreditScore         652.000     718.0000     850.00  \n",
       "Age                  37.000      44.0000      92.00  \n",
       "Tenure                5.000       7.0000      10.00  \n",
       "Balance           97334.690  127677.9475  250898.09  \n",
       "NumOfProducts         1.000       2.0000       4.00  \n",
       "EstimatedSalary  100193.915  149388.2475  199992.48  \n",
       "Exited                0.000       0.0000       1.00  "
      ]
     },
     "execution_count": 14,
     "metadata": {},
     "output_type": "execute_result"
    }
   ],
   "source": [
    "# We will use describe function and then take the transpose for better visualization\n",
    "df.describe().T"
   ]
  },
  {
   "cell_type": "markdown",
   "metadata": {
    "id": "5zbuGdQSuFEY"
   },
   "source": [
    "### <font color = 'pickle'>**Check for duplicate rows**"
   ]
  },
  {
   "cell_type": "code",
   "execution_count": 15,
   "metadata": {
    "ExecuteTime": {
     "end_time": "2022-09-20T01:04:22.441866Z",
     "start_time": "2022-09-20T01:04:22.426843Z"
    },
    "colab": {
     "base_uri": "https://localhost:8080/"
    },
    "executionInfo": {
     "elapsed": 205,
     "status": "ok",
     "timestamp": 1663611863598,
     "user": {
      "displayName": "Kyungseob Shim",
      "userId": "04167791068819005440"
     },
     "user_tz": 300
    },
    "id": "qGe0Hsta78-D",
    "outputId": "4c9dae33-3d70-4404-8d9f-afee7a0c377d"
   },
   "outputs": [
    {
     "name": "stdout",
     "output_type": "stream",
     "text": [
      "False\n",
      "Empty DataFrame\n",
      "Columns: [CreditScore, Geography, Gender, Age, Tenure, Balance, NumOfProducts, HasCrCard, IsActiveMember, EstimatedSalary, Exited]\n",
      "Index: []\n"
     ]
    }
   ],
   "source": [
    "# To check the duplicates of the data\n",
    "dups = df.duplicated()\n",
    "# report if there are any duplicates\n",
    "print(dups.any())\n",
    "# list all duplicate rows\n",
    "print(df[dups])"
   ]
  },
  {
   "cell_type": "markdown",
   "metadata": {
    "id": "hHNERaUckwag"
   },
   "source": [
    "From the given results, we can check that there are no duplicates in our data."
   ]
  },
  {
   "cell_type": "markdown",
   "metadata": {
    "id": "8O-DC9KiqVQ7"
   },
   "source": [
    "## <font color = 'pickle'>**Quantifying Missing Data**"
   ]
  },
  {
   "cell_type": "markdown",
   "metadata": {
    "id": "mMgGArXtnpUT"
   },
   "source": [
    "Now, let's check is there any missing values in our dataframe."
   ]
  },
  {
   "cell_type": "code",
   "execution_count": 16,
   "metadata": {
    "ExecuteTime": {
     "end_time": "2022-09-20T01:05:16.790141Z",
     "start_time": "2022-09-20T01:05:16.765174Z"
    },
    "colab": {
     "base_uri": "https://localhost:8080/",
     "height": 488
    },
    "executionInfo": {
     "elapsed": 215,
     "status": "ok",
     "timestamp": 1663611879012,
     "user": {
      "displayName": "Kyungseob Shim",
      "userId": "04167791068819005440"
     },
     "user_tz": 300
    },
    "id": "VkUL8qauR0ZY",
    "outputId": "9c0dbd8a-e6c0-4e6b-8d91-4d17119b3d92"
   },
   "outputs": [
    {
     "data": {
      "text/html": [
       "<div>\n",
       "<style scoped>\n",
       "    .dataframe tbody tr th:only-of-type {\n",
       "        vertical-align: middle;\n",
       "    }\n",
       "\n",
       "    .dataframe tbody tr th {\n",
       "        vertical-align: top;\n",
       "    }\n",
       "\n",
       "    .dataframe thead th {\n",
       "        text-align: right;\n",
       "    }\n",
       "</style>\n",
       "<table border=\"1\" class=\"dataframe\">\n",
       "  <thead>\n",
       "    <tr style=\"text-align: right;\">\n",
       "      <th></th>\n",
       "      <th>CreditScore</th>\n",
       "      <th>Geography</th>\n",
       "      <th>Gender</th>\n",
       "      <th>Age</th>\n",
       "      <th>Tenure</th>\n",
       "      <th>Balance</th>\n",
       "      <th>NumOfProducts</th>\n",
       "      <th>HasCrCard</th>\n",
       "      <th>IsActiveMember</th>\n",
       "      <th>EstimatedSalary</th>\n",
       "      <th>Exited</th>\n",
       "    </tr>\n",
       "  </thead>\n",
       "  <tbody>\n",
       "    <tr>\n",
       "      <th>0</th>\n",
       "      <td>False</td>\n",
       "      <td>False</td>\n",
       "      <td>False</td>\n",
       "      <td>False</td>\n",
       "      <td>False</td>\n",
       "      <td>False</td>\n",
       "      <td>False</td>\n",
       "      <td>False</td>\n",
       "      <td>False</td>\n",
       "      <td>False</td>\n",
       "      <td>False</td>\n",
       "    </tr>\n",
       "    <tr>\n",
       "      <th>1</th>\n",
       "      <td>False</td>\n",
       "      <td>False</td>\n",
       "      <td>False</td>\n",
       "      <td>False</td>\n",
       "      <td>False</td>\n",
       "      <td>False</td>\n",
       "      <td>False</td>\n",
       "      <td>False</td>\n",
       "      <td>False</td>\n",
       "      <td>False</td>\n",
       "      <td>False</td>\n",
       "    </tr>\n",
       "    <tr>\n",
       "      <th>2</th>\n",
       "      <td>False</td>\n",
       "      <td>False</td>\n",
       "      <td>False</td>\n",
       "      <td>False</td>\n",
       "      <td>False</td>\n",
       "      <td>False</td>\n",
       "      <td>False</td>\n",
       "      <td>False</td>\n",
       "      <td>False</td>\n",
       "      <td>False</td>\n",
       "      <td>False</td>\n",
       "    </tr>\n",
       "    <tr>\n",
       "      <th>3</th>\n",
       "      <td>False</td>\n",
       "      <td>False</td>\n",
       "      <td>False</td>\n",
       "      <td>False</td>\n",
       "      <td>False</td>\n",
       "      <td>False</td>\n",
       "      <td>True</td>\n",
       "      <td>False</td>\n",
       "      <td>False</td>\n",
       "      <td>False</td>\n",
       "      <td>False</td>\n",
       "    </tr>\n",
       "    <tr>\n",
       "      <th>4</th>\n",
       "      <td>False</td>\n",
       "      <td>False</td>\n",
       "      <td>False</td>\n",
       "      <td>False</td>\n",
       "      <td>False</td>\n",
       "      <td>False</td>\n",
       "      <td>False</td>\n",
       "      <td>False</td>\n",
       "      <td>False</td>\n",
       "      <td>False</td>\n",
       "      <td>False</td>\n",
       "    </tr>\n",
       "    <tr>\n",
       "      <th>...</th>\n",
       "      <td>...</td>\n",
       "      <td>...</td>\n",
       "      <td>...</td>\n",
       "      <td>...</td>\n",
       "      <td>...</td>\n",
       "      <td>...</td>\n",
       "      <td>...</td>\n",
       "      <td>...</td>\n",
       "      <td>...</td>\n",
       "      <td>...</td>\n",
       "      <td>...</td>\n",
       "    </tr>\n",
       "    <tr>\n",
       "      <th>9995</th>\n",
       "      <td>False</td>\n",
       "      <td>False</td>\n",
       "      <td>False</td>\n",
       "      <td>False</td>\n",
       "      <td>False</td>\n",
       "      <td>False</td>\n",
       "      <td>False</td>\n",
       "      <td>False</td>\n",
       "      <td>False</td>\n",
       "      <td>False</td>\n",
       "      <td>False</td>\n",
       "    </tr>\n",
       "    <tr>\n",
       "      <th>9996</th>\n",
       "      <td>False</td>\n",
       "      <td>False</td>\n",
       "      <td>False</td>\n",
       "      <td>False</td>\n",
       "      <td>False</td>\n",
       "      <td>False</td>\n",
       "      <td>False</td>\n",
       "      <td>False</td>\n",
       "      <td>False</td>\n",
       "      <td>False</td>\n",
       "      <td>False</td>\n",
       "    </tr>\n",
       "    <tr>\n",
       "      <th>9997</th>\n",
       "      <td>False</td>\n",
       "      <td>False</td>\n",
       "      <td>False</td>\n",
       "      <td>False</td>\n",
       "      <td>False</td>\n",
       "      <td>False</td>\n",
       "      <td>False</td>\n",
       "      <td>False</td>\n",
       "      <td>False</td>\n",
       "      <td>False</td>\n",
       "      <td>False</td>\n",
       "    </tr>\n",
       "    <tr>\n",
       "      <th>9998</th>\n",
       "      <td>False</td>\n",
       "      <td>False</td>\n",
       "      <td>False</td>\n",
       "      <td>False</td>\n",
       "      <td>False</td>\n",
       "      <td>False</td>\n",
       "      <td>False</td>\n",
       "      <td>False</td>\n",
       "      <td>False</td>\n",
       "      <td>False</td>\n",
       "      <td>False</td>\n",
       "    </tr>\n",
       "    <tr>\n",
       "      <th>9999</th>\n",
       "      <td>False</td>\n",
       "      <td>False</td>\n",
       "      <td>False</td>\n",
       "      <td>False</td>\n",
       "      <td>False</td>\n",
       "      <td>False</td>\n",
       "      <td>False</td>\n",
       "      <td>False</td>\n",
       "      <td>False</td>\n",
       "      <td>False</td>\n",
       "      <td>False</td>\n",
       "    </tr>\n",
       "  </tbody>\n",
       "</table>\n",
       "<p>10000 rows × 11 columns</p>\n",
       "</div>"
      ],
      "text/plain": [
       "      CreditScore  Geography  Gender    Age  Tenure  Balance  NumOfProducts  \\\n",
       "0           False      False   False  False   False    False          False   \n",
       "1           False      False   False  False   False    False          False   \n",
       "2           False      False   False  False   False    False          False   \n",
       "3           False      False   False  False   False    False           True   \n",
       "4           False      False   False  False   False    False          False   \n",
       "...           ...        ...     ...    ...     ...      ...            ...   \n",
       "9995        False      False   False  False   False    False          False   \n",
       "9996        False      False   False  False   False    False          False   \n",
       "9997        False      False   False  False   False    False          False   \n",
       "9998        False      False   False  False   False    False          False   \n",
       "9999        False      False   False  False   False    False          False   \n",
       "\n",
       "      HasCrCard  IsActiveMember  EstimatedSalary  Exited  \n",
       "0         False           False            False   False  \n",
       "1         False           False            False   False  \n",
       "2         False           False            False   False  \n",
       "3         False           False            False   False  \n",
       "4         False           False            False   False  \n",
       "...         ...             ...              ...     ...  \n",
       "9995      False           False            False   False  \n",
       "9996      False           False            False   False  \n",
       "9997      False           False            False   False  \n",
       "9998      False           False            False   False  \n",
       "9999      False           False            False   False  \n",
       "\n",
       "[10000 rows x 11 columns]"
      ]
     },
     "execution_count": 16,
     "metadata": {},
     "output_type": "execute_result"
    }
   ],
   "source": [
    "# check missing values in data\n",
    "df.isna()"
   ]
  },
  {
   "cell_type": "code",
   "execution_count": 17,
   "metadata": {
    "ExecuteTime": {
     "end_time": "2022-09-20T01:05:18.465749Z",
     "start_time": "2022-09-20T01:05:18.419976Z"
    },
    "colab": {
     "base_uri": "https://localhost:8080/"
    },
    "executionInfo": {
     "elapsed": 210,
     "status": "ok",
     "timestamp": 1663611943081,
     "user": {
      "displayName": "Kyungseob Shim",
      "userId": "04167791068819005440"
     },
     "user_tz": 300
    },
    "id": "WRigP4EWlnaj",
    "outputId": "bf730a7b-7f1f-475f-aafb-96e1233fb0df"
   },
   "outputs": [
    {
     "data": {
      "text/plain": [
       "CreditScore        0.00\n",
       "Geography          0.00\n",
       "Gender             0.00\n",
       "Age                0.05\n",
       "Tenure             0.05\n",
       "Balance            0.22\n",
       "NumOfProducts      0.10\n",
       "HasCrCard          0.00\n",
       "IsActiveMember     0.00\n",
       "EstimatedSalary    0.00\n",
       "Exited             0.00\n",
       "dtype: float64"
      ]
     },
     "execution_count": 17,
     "metadata": {},
     "output_type": "execute_result"
    }
   ],
   "source": [
    "# calculate % of mssing values for each column\n",
    "df.isna().mean()*100"
   ]
  },
  {
   "cell_type": "markdown",
   "metadata": {
    "id": "-Q71Qt7YVZaI"
   },
   "source": [
    "* We can see that there are four columns with small % of missing values."
   ]
  },
  {
   "cell_type": "markdown",
   "metadata": {
    "id": "ov-MEq5CrAo5"
   },
   "source": [
    "## <font color = 'pickle'>**Identify numerical, categorical and discrete variables**\n",
    "Since EDA steps can be different depending on type of variables. Let us first create list of different type of variables."
   ]
  },
  {
   "cell_type": "code",
   "execution_count": 18,
   "metadata": {
    "ExecuteTime": {
     "end_time": "2022-09-20T01:05:20.176956Z",
     "start_time": "2022-09-20T01:05:20.169010Z"
    },
    "executionInfo": {
     "elapsed": 4,
     "status": "ok",
     "timestamp": 1663611945409,
     "user": {
      "displayName": "Kyungseob Shim",
      "userId": "04167791068819005440"
     },
     "user_tz": 300
    },
    "id": "qvyWxjJvfzpo"
   },
   "outputs": [],
   "source": [
    "# Create a list of categorical variables\n",
    "# Since the dtype of categorical variable is Object we can compare the values with 'O' \n",
    "categorical = [var for var in df.columns if df[var].dtype == 'O']\n",
    "\n",
    "# Create a list of discrete variables\n",
    "# we do not want to consider Exited as this is target variable\n",
    "discrete = [\n",
    "    var for var in df.columns if df[var].dtype != 'O'\n",
    "    and len(df[var].unique()) < 20 and var not in ['Exited']\n",
    "]\n",
    "\n",
    "# Create a list of continuous Variables\n",
    "# We don't wan't to consider CustomerId here\n",
    "# we do not want to consider Exited as this is target variable\n",
    "continuous = [\n",
    "    var for var in df.columns if df[var].dtype != 'O'\n",
    "    if var not in discrete and var not in ['CustomerId'] and var not in ['Exited']\n",
    "]"
   ]
  },
  {
   "cell_type": "code",
   "execution_count": 19,
   "metadata": {
    "ExecuteTime": {
     "end_time": "2022-09-20T01:05:22.585031Z",
     "start_time": "2022-09-20T01:05:22.575032Z"
    },
    "colab": {
     "base_uri": "https://localhost:8080/"
    },
    "executionInfo": {
     "elapsed": 251,
     "status": "ok",
     "timestamp": 1663612037302,
     "user": {
      "displayName": "Kyungseob Shim",
      "userId": "04167791068819005440"
     },
     "user_tz": 300
    },
    "id": "EQ8ZAQNY0OGE",
    "outputId": "802dc370-a7d7-4cd7-9380-406e30fdc93d"
   },
   "outputs": [
    {
     "data": {
      "text/plain": [
       "['CreditScore', 'Age', 'Balance', 'EstimatedSalary']"
      ]
     },
     "execution_count": 19,
     "metadata": {},
     "output_type": "execute_result"
    }
   ],
   "source": [
    "# check continous Variables\n",
    "continuous"
   ]
  },
  {
   "cell_type": "code",
   "execution_count": 20,
   "metadata": {
    "ExecuteTime": {
     "end_time": "2022-09-20T01:05:23.585023Z",
     "start_time": "2022-09-20T01:05:23.578009Z"
    },
    "colab": {
     "base_uri": "https://localhost:8080/"
    },
    "executionInfo": {
     "elapsed": 130,
     "status": "ok",
     "timestamp": 1663509147499,
     "user": {
      "displayName": "Harpreet SIngh",
      "userId": "15106381096049879330"
     },
     "user_tz": 300
    },
    "id": "o_H8LLXogabc",
    "outputId": "7d994384-b56a-424f-a316-25326ef6195a"
   },
   "outputs": [
    {
     "data": {
      "text/plain": [
       "['Geography', 'Gender', 'HasCrCard', 'IsActiveMember']"
      ]
     },
     "execution_count": 20,
     "metadata": {},
     "output_type": "execute_result"
    }
   ],
   "source": [
    "# check categorical variables\n",
    "categorical"
   ]
  },
  {
   "cell_type": "code",
   "execution_count": 21,
   "metadata": {
    "ExecuteTime": {
     "end_time": "2022-09-20T01:05:24.671001Z",
     "start_time": "2022-09-20T01:05:24.654047Z"
    },
    "colab": {
     "base_uri": "https://localhost:8080/"
    },
    "executionInfo": {
     "elapsed": 98,
     "status": "ok",
     "timestamp": 1663509149314,
     "user": {
      "displayName": "Harpreet SIngh",
      "userId": "15106381096049879330"
     },
     "user_tz": 300
    },
    "id": "o2FJnaKonX_l",
    "outputId": "60189750-9bbb-4e49-e420-2ebc2072f138"
   },
   "outputs": [
    {
     "data": {
      "text/plain": [
       "['Tenure', 'NumOfProducts']"
      ]
     },
     "execution_count": 21,
     "metadata": {},
     "output_type": "execute_result"
    }
   ],
   "source": [
    "# check discrete variables\n",
    "discrete"
   ]
  },
  {
   "cell_type": "markdown",
   "metadata": {
    "id": "FiKR63amuXJs"
   },
   "source": [
    "### <font color = 'pickle'>**Check unique values for variables**"
   ]
  },
  {
   "cell_type": "code",
   "execution_count": 22,
   "metadata": {
    "ExecuteTime": {
     "end_time": "2022-09-20T01:05:26.231039Z",
     "start_time": "2022-09-20T01:05:26.217046Z"
    },
    "colab": {
     "base_uri": "https://localhost:8080/"
    },
    "executionInfo": {
     "elapsed": 121,
     "status": "ok",
     "timestamp": 1663509163049,
     "user": {
      "displayName": "Harpreet SIngh",
      "userId": "15106381096049879330"
     },
     "user_tz": 300
    },
    "id": "C6Vl-5uky-bM",
    "outputId": "8e0013c3-7e77-492d-8f91-279948ef7ea9"
   },
   "outputs": [
    {
     "name": "stdout",
     "output_type": "stream",
     "text": [
      "Tenure : 11\n",
      "NumOfProducts : 4\n"
     ]
    }
   ],
   "source": [
    "# Check number of unique values for discrete variables\n",
    "total_unique_values= df[discrete].nunique()\n",
    "for key, value in total_unique_values.items():\n",
    "    if value > 0:\n",
    "        print(key,\":\",value)"
   ]
  },
  {
   "cell_type": "code",
   "execution_count": 23,
   "metadata": {
    "ExecuteTime": {
     "end_time": "2022-09-20T01:05:27.376941Z",
     "start_time": "2022-09-20T01:05:27.360018Z"
    },
    "colab": {
     "base_uri": "https://localhost:8080/"
    },
    "executionInfo": {
     "elapsed": 197,
     "status": "ok",
     "timestamp": 1663612102876,
     "user": {
      "displayName": "Kyungseob Shim",
      "userId": "04167791068819005440"
     },
     "user_tz": 300
    },
    "id": "jh_pANsPueHt",
    "outputId": "7b4ddf41-d016-48bb-9ed7-292a07029346"
   },
   "outputs": [
    {
     "name": "stdout",
     "output_type": "stream",
     "text": [
      "Tenure [ 2.  1.  8.  7.  4.  6.  3. 10.  5. nan  9.  0.] \n",
      "\n",
      "NumOfProducts [ 1.  3. nan  2.  4.] \n",
      "\n"
     ]
    }
   ],
   "source": [
    "# check values for discrete variables\n",
    "for var in discrete:\n",
    "    print(var, df[var].unique(), '\\n')"
   ]
  },
  {
   "cell_type": "code",
   "execution_count": 24,
   "metadata": {
    "ExecuteTime": {
     "end_time": "2022-09-20T01:05:28.413120Z",
     "start_time": "2022-09-20T01:05:28.395139Z"
    },
    "colab": {
     "base_uri": "https://localhost:8080/"
    },
    "executionInfo": {
     "elapsed": 285,
     "status": "ok",
     "timestamp": 1663612119886,
     "user": {
      "displayName": "Kyungseob Shim",
      "userId": "04167791068819005440"
     },
     "user_tz": 300
    },
    "id": "BXejGHTlzeJb",
    "outputId": "8b3832cc-aa26-4e64-f006-7929b50afb7b"
   },
   "outputs": [
    {
     "name": "stdout",
     "output_type": "stream",
     "text": [
      "CreditScore : 460\n",
      "Age : 70\n",
      "Balance : 6382\n",
      "EstimatedSalary : 9999\n"
     ]
    }
   ],
   "source": [
    "# Check number of unique values for continuous variables\n",
    "total_unique_values= df[continuous].nunique()\n",
    "for key,value in total_unique_values.items():\n",
    "    if value >0:\n",
    "        print(key,\":\",value)"
   ]
  },
  {
   "cell_type": "code",
   "execution_count": 25,
   "metadata": {
    "ExecuteTime": {
     "end_time": "2022-09-20T01:05:29.407986Z",
     "start_time": "2022-09-20T01:05:29.398046Z"
    },
    "colab": {
     "base_uri": "https://localhost:8080/"
    },
    "executionInfo": {
     "elapsed": 325,
     "status": "ok",
     "timestamp": 1663612121987,
     "user": {
      "displayName": "Kyungseob Shim",
      "userId": "04167791068819005440"
     },
     "user_tz": 300
    },
    "id": "RcNDi2sGu33r",
    "outputId": "f1356853-8a05-483c-950e-cabc83ef39d6"
   },
   "outputs": [
    {
     "name": "stdout",
     "output_type": "stream",
     "text": [
      "CreditScore [619 608 502 699 850 645 822 376 501 684 528 497 476 549 635 616 653 587\n",
      " 726 732] \n",
      "\n",
      "Age [42. 41. 39. 43. 44. 50. 29. nan 27. 31. 24. 34. 25. 35. 45. 58. 32. 38.\n",
      " 46. 36.] \n",
      "\n",
      "Balance [     0.    83807.86 159660.8  125510.82 113755.78 115046.74 142051.07\n",
      " 134603.88 102016.72 143129.41 132602.88       nan 136815.64 141349.43\n",
      "  59697.17  85311.7  110112.54 134264.04 145260.23  76548.6 ] \n",
      "\n",
      "EstimatedSalary [101348.88 112542.58 113931.57  93826.63  79084.1  149756.71  10062.8\n",
      " 119346.88  74940.5   71725.73  80181.12  76390.01  26260.98 190857.79\n",
      "  65951.65  64327.26   5097.67  14406.41 158684.81  54724.03] \n",
      "\n"
     ]
    }
   ],
   "source": [
    "# check values for continuous variables\n",
    "# we will check the first 20 values\n",
    "for var in continuous:\n",
    "    print(var, df[var].unique()[0:20], '\\n')"
   ]
  },
  {
   "cell_type": "code",
   "execution_count": 26,
   "metadata": {
    "ExecuteTime": {
     "end_time": "2022-09-20T01:05:30.394000Z",
     "start_time": "2022-09-20T01:05:30.374053Z"
    },
    "colab": {
     "base_uri": "https://localhost:8080/"
    },
    "executionInfo": {
     "elapsed": 245,
     "status": "ok",
     "timestamp": 1663612527184,
     "user": {
      "displayName": "Kyungseob Shim",
      "userId": "04167791068819005440"
     },
     "user_tz": 300
    },
    "id": "PPRbsA8WuNRw",
    "outputId": "c0a2b4a6-9317-44d5-cb76-b2794e564760"
   },
   "outputs": [
    {
     "name": "stdout",
     "output_type": "stream",
     "text": [
      "Geography : 3\n",
      "Gender : 2\n",
      "HasCrCard : 2\n",
      "IsActiveMember : 2\n"
     ]
    }
   ],
   "source": [
    "# Check number of unique values for categorical variables\n",
    "total_unique_values= df[categorical].nunique()\n",
    "for key,value in total_unique_values.items():\n",
    "    if value >0:\n",
    "        print(key,\":\",value)"
   ]
  },
  {
   "cell_type": "code",
   "execution_count": 27,
   "metadata": {
    "ExecuteTime": {
     "end_time": "2022-09-20T01:05:31.236092Z",
     "start_time": "2022-09-20T01:05:31.221481Z"
    },
    "colab": {
     "base_uri": "https://localhost:8080/"
    },
    "executionInfo": {
     "elapsed": 4,
     "status": "ok",
     "timestamp": 1663612529525,
     "user": {
      "displayName": "Kyungseob Shim",
      "userId": "04167791068819005440"
     },
     "user_tz": 300
    },
    "id": "6ZbgRQNQvEwt",
    "outputId": "3ff83af1-91e3-419b-abbd-79bdc9660071"
   },
   "outputs": [
    {
     "name": "stdout",
     "output_type": "stream",
     "text": [
      "Geography ['France' 'Spain' 'Germany'] \n",
      "\n",
      "Gender ['Female' 'Male'] \n",
      "\n",
      "HasCrCard [1 0] \n",
      "\n",
      "IsActiveMember [1 0] \n",
      "\n"
     ]
    }
   ],
   "source": [
    "# check values for categorical variables\n",
    "for var in categorical:\n",
    "    print(var, df[var].unique(), '\\n')"
   ]
  },
  {
   "cell_type": "markdown",
   "metadata": {
    "id": "ZZ91wy_pu7JQ"
   },
   "source": [
    "## <font color = 'pickle'>**Check Variable Distributions**"
   ]
  },
  {
   "cell_type": "markdown",
   "metadata": {
    "id": "glPIH9Sizdil"
   },
   "source": [
    "### <font color = 'pickle'>**Categorical Varibles**\n",
    "\n",
    "\n"
   ]
  },
  {
   "cell_type": "markdown",
   "metadata": {
    "id": "rdLjfEiP9Ptz"
   },
   "source": [
    "#### Frequency distribution of categorical variables and rare categories\n",
    "\n",
    "* We can define a category as rare if it appears in less than 5% or 1% of the given dataset.\n",
    "- We first calculate the number of observations in each category.\n",
    "- We then divide them by the total number of observations to obtain the percentage of observations in each category.\n",
    "If percentage observation in any category is less than the threshold (e.g., 5%), we can treat these as rare categories.<br>\n",
    "\n",
    "Rare categories or labels can lead to the following issues:\n",
    "\n",
    "- Uneven distribution between train and test splits.\n",
    "- Overfitting in tree-based models.\n",
    "- Operational issues (new labels in a test that were not in the train data set).\n"
   ]
  },
  {
   "cell_type": "code",
   "execution_count": 28,
   "metadata": {
    "ExecuteTime": {
     "end_time": "2022-09-20T01:05:33.680192Z",
     "start_time": "2022-09-20T01:05:33.667749Z"
    },
    "colab": {
     "base_uri": "https://localhost:8080/",
     "height": 206
    },
    "executionInfo": {
     "elapsed": 186,
     "status": "ok",
     "timestamp": 1663612532571,
     "user": {
      "displayName": "Kyungseob Shim",
      "userId": "04167791068819005440"
     },
     "user_tz": 300
    },
    "id": "hQ2uLj07P31a",
    "outputId": "ef910748-d448-458a-d935-dbf99a3bfbb9"
   },
   "outputs": [
    {
     "data": {
      "text/html": [
       "<div>\n",
       "<style scoped>\n",
       "    .dataframe tbody tr th:only-of-type {\n",
       "        vertical-align: middle;\n",
       "    }\n",
       "\n",
       "    .dataframe tbody tr th {\n",
       "        vertical-align: top;\n",
       "    }\n",
       "\n",
       "    .dataframe thead th {\n",
       "        text-align: right;\n",
       "    }\n",
       "</style>\n",
       "<table border=\"1\" class=\"dataframe\">\n",
       "  <thead>\n",
       "    <tr style=\"text-align: right;\">\n",
       "      <th></th>\n",
       "      <th>Geography</th>\n",
       "      <th>Gender</th>\n",
       "      <th>HasCrCard</th>\n",
       "      <th>IsActiveMember</th>\n",
       "    </tr>\n",
       "  </thead>\n",
       "  <tbody>\n",
       "    <tr>\n",
       "      <th>0</th>\n",
       "      <td>France</td>\n",
       "      <td>Female</td>\n",
       "      <td>1</td>\n",
       "      <td>1</td>\n",
       "    </tr>\n",
       "    <tr>\n",
       "      <th>1</th>\n",
       "      <td>Spain</td>\n",
       "      <td>Female</td>\n",
       "      <td>0</td>\n",
       "      <td>1</td>\n",
       "    </tr>\n",
       "    <tr>\n",
       "      <th>2</th>\n",
       "      <td>France</td>\n",
       "      <td>Female</td>\n",
       "      <td>1</td>\n",
       "      <td>0</td>\n",
       "    </tr>\n",
       "    <tr>\n",
       "      <th>3</th>\n",
       "      <td>France</td>\n",
       "      <td>Female</td>\n",
       "      <td>0</td>\n",
       "      <td>0</td>\n",
       "    </tr>\n",
       "    <tr>\n",
       "      <th>4</th>\n",
       "      <td>Spain</td>\n",
       "      <td>Female</td>\n",
       "      <td>1</td>\n",
       "      <td>1</td>\n",
       "    </tr>\n",
       "  </tbody>\n",
       "</table>\n",
       "</div>"
      ],
      "text/plain": [
       "  Geography  Gender HasCrCard IsActiveMember\n",
       "0    France  Female         1              1\n",
       "1     Spain  Female         0              1\n",
       "2    France  Female         1              0\n",
       "3    France  Female         0              0\n",
       "4     Spain  Female         1              1"
      ]
     },
     "execution_count": 28,
     "metadata": {},
     "output_type": "execute_result"
    }
   ],
   "source": [
    "# Let's check the columns with categorical variables\n",
    "df[categorical].head()"
   ]
  },
  {
   "cell_type": "code",
   "execution_count": 29,
   "metadata": {
    "ExecuteTime": {
     "end_time": "2022-09-20T01:05:34.723130Z",
     "start_time": "2022-09-20T01:05:34.709203Z"
    },
    "colab": {
     "base_uri": "https://localhost:8080/"
    },
    "executionInfo": {
     "elapsed": 190,
     "status": "ok",
     "timestamp": 1663612617364,
     "user": {
      "displayName": "Kyungseob Shim",
      "userId": "04167791068819005440"
     },
     "user_tz": 300
    },
    "id": "zpWhwvyrQ7aB",
    "outputId": "ebec346f-c6c6-46e3-a851-15035f585050"
   },
   "outputs": [
    {
     "name": "stdout",
     "output_type": "stream",
     "text": [
      "France     50.14\n",
      "Germany    25.09\n",
      "Spain      24.77\n",
      "Name: Geography, dtype: float64\n"
     ]
    }
   ],
   "source": [
    "cat_freq = df['Geography'].value_counts(normalize = True)*100\n",
    "print(cat_freq)"
   ]
  },
  {
   "cell_type": "markdown",
   "metadata": {
    "id": "__eiKQaIR_Ng"
   },
   "source": [
    "Now, let's make a bar plot for displaying the frequency of each category.\n",
    "* Then, we will also  highlight the 5% mark with a red line as follows :"
   ]
  },
  {
   "cell_type": "code",
   "execution_count": 30,
   "metadata": {
    "ExecuteTime": {
     "end_time": "2022-09-20T01:05:36.451294Z",
     "start_time": "2022-09-20T01:05:36.255394Z"
    },
    "colab": {
     "base_uri": "https://localhost:8080/",
     "height": 331
    },
    "executionInfo": {
     "elapsed": 899,
     "status": "ok",
     "timestamp": 1663612645914,
     "user": {
      "displayName": "Kyungseob Shim",
      "userId": "04167791068819005440"
     },
     "user_tz": 300
    },
    "id": "VmXRMuUtR4ZD",
    "outputId": "7d16eb8f-e50a-47f8-8b18-01fae90e6892"
   },
   "outputs": [
    {
     "data": {
      "image/png": "[encoded data removed]",
      "text/plain": [
       "<Figure size 432x288 with 1 Axes>"
      ]
     },
     "metadata": {
      "needs_background": "light"
     },
     "output_type": "display_data"
    }
   ],
   "source": [
    "fig = cat_freq.sort_values(ascending=False).plot.bar() # .plot.bar() will plot bar-plot.\n",
    "fig.axhline(y=0.05, color='red') # axhline(y=0.05, color='red') will plot horizontal red line at y = 0.05\n",
    "fig.set_ylabel('percentage of Countries within each category')\n",
    "fig.set_xlabel('Geography')\n",
    "fig.set_title('Identifying Rare Categories')\n",
    "plt.show()"
   ]
  },
  {
   "cell_type": "markdown",
   "metadata": {
    "id": "NuTzvXfmS1ek"
   },
   "source": [
    "We can observe from the above barplot that we don't have any rare categories in the data. Similarly, we can check the rare categories for other categorical variables."
   ]
  },
  {
   "cell_type": "markdown",
   "metadata": {
    "id": "1b5ZtC0Krhdo"
   },
   "source": [
    "#### <font color = 'pickle'> **Check distribution of target variable**"
   ]
  },
  {
   "cell_type": "code",
   "execution_count": 31,
   "metadata": {
    "ExecuteTime": {
     "end_time": "2022-09-20T01:05:38.259183Z",
     "start_time": "2022-09-20T01:05:38.246219Z"
    },
    "colab": {
     "base_uri": "https://localhost:8080/"
    },
    "executionInfo": {
     "elapsed": 229,
     "status": "ok",
     "timestamp": 1663612730631,
     "user": {
      "displayName": "Kyungseob Shim",
      "userId": "04167791068819005440"
     },
     "user_tz": 300
    },
    "id": "SQJXa0KhZxZ7",
    "outputId": "0824e6a6-12b4-4ff1-ecba-6aaad7bc71b4"
   },
   "outputs": [
    {
     "name": "stdout",
     "output_type": "stream",
     "text": [
      "0    7963\n",
      "1    2037\n",
      "Name: Exited, dtype: int64\n"
     ]
    }
   ],
   "source": [
    "# Frequency for each class of outcome\n",
    "# 0 = customer who have not churned or still existing in the company\n",
    "# 1 = customer who have churned out or left the company  \n",
    "print(df['Exited'].value_counts())"
   ]
  },
  {
   "cell_type": "code",
   "execution_count": 32,
   "metadata": {
    "ExecuteTime": {
     "end_time": "2022-09-20T01:05:39.443459Z",
     "start_time": "2022-09-20T01:05:39.424510Z"
    },
    "colab": {
     "base_uri": "https://localhost:8080/"
    },
    "executionInfo": {
     "elapsed": 214,
     "status": "ok",
     "timestamp": 1663612732944,
     "user": {
      "displayName": "Kyungseob Shim",
      "userId": "04167791068819005440"
     },
     "user_tz": 300
    },
    "id": "JgvVqksyrnmS",
    "outputId": "2c47599c-e61e-4b8f-8ebb-aab9d093a8f1"
   },
   "outputs": [
    {
     "name": "stdout",
     "output_type": "stream",
     "text": [
      "0    79.63\n",
      "1    20.37\n",
      "Name: Exited, dtype: float64 \n"
     ]
    }
   ],
   "source": [
    "# Precantage for each class of outcome\n",
    "# 0 = customer who have not churned or still existing in the company\n",
    "# 1 = customer who have churned out or left the company  \n",
    "print(f\"{100 * df['Exited'].value_counts(normalize=True)} \")"
   ]
  },
  {
   "cell_type": "markdown",
   "metadata": {
    "id": "MA6CG-6ds_Ku"
   },
   "source": [
    "From the above analysis, we can observe that 79.6% of the people did not exit the company or didn't churn out.\n",
    "20.4% of the customer churned or exited the company. <font color = 'indianred'> We can see that the dataset is **imbalanced** i.e. we have far more observation from one class or label.</font> This can affect the performance of model. We will discuss in later lectures how imbalance effects model performance."
   ]
  },
  {
   "cell_type": "markdown",
   "metadata": {
    "id": "26TzLTtIbPle"
   },
   "source": [
    "### <font color = 'pickle'>**Distribution of continuous and discrete variables**\n",
    "\n",
    "We can use histograms, Q-Q plots, and Boxplots to check the distribution of continuous variables.\n",
    "\n",
    "- <font color = 'indianred'>**Histograms**</font> are used to get the distribution of the discrete or continuous variable in a range. For example, we will be able to see how much data is distributed in a certain range.\n",
    "- <font color = 'indianred'>**Normal Q-Q plots**</font> help us to visually check if the underlying distribution of a variable is normal or not.<br>\n",
    "Why is Normality important:\n",
    "  - Many natural phenomena follow a normal distribution e.g.\n",
    "  Height, blood pressure, etc.\n",
    "\n",
    "  - Symmetric:\n",
    "    - Most of the observations occur around the central\n",
    "    peak\n",
    "    - Probabilities for values further away from the center decrease equally in both directions.\n",
    "    - Extreme values in both tails of the distribution are\n",
    "    similarly unlikely.\n",
    "\n",
    "  - Linear Models assume that the independent variables are normally distributed.\n",
    "\n",
    "  - Other models make no assumption in the distribution of the variables; however, a better spread of the values may improve their performance.\n",
    "\n",
    "- <font color = 'indianred'>**Box Plots**</font> help us to visually detect if there are outliers in data.\n",
    "\n",
    "- An <font color = 'indianred'>**outlier**</font> is a data point that is significantly different from the remaining data. \"An outlier is an observation which deviates so much from the other observations as to arouse suspicions that it was generated by a different mechanism.\" [D. Hawkins. Identification of Outliers, Chapman and Hall, 1980.]\n",
    "\n",
    "- According to the inter-quantile range proximity rule, a value is an outlier if it falls outside the below boundaries:\n",
    "\n",
    "  Upper boundary = 75th quantile + (IQR * 1.5)\n",
    "\n",
    "  Lower boundary = 25th quantile - (IQR * 1.5)\n",
    "\n",
    "  where the inter-quantile range (IQR) is given by:\n",
    "\n",
    "  IQR = 75th quantile - 25th quantile\n",
    "\n",
    "- We can use a boxplot to visualize outliers. In the boxplot, the IQR is indicated by the box, the median is indicated by the line within the box, the top and bottom edges of the box correspond to the 75th and 25th quantile, and the whiskers mark the proximity rule boundaries as described above. Values that fall outside the whiskers are considered outliers."
   ]
  },
  {
   "cell_type": "markdown",
   "metadata": {
    "id": "HuNxwQiH1LyT"
   },
   "source": [
    "The below function uses matplotlib, seaborn, and scipy library to plot various plots such as histogram, box-plot, and QQ-plot.\n",
    "\n",
    "* First, using matplotlib.pyplot, we are creating sub-plots.\n",
    "* Then seaborn's object sns is used to plot histogram and box-plot.\n",
    "* Then scipy.stats is used to plot QQ-plot.\n",
    "\n",
    "We've already imported these libraries, because it is a good practice to import all the required libraries in teh beginnig at one place.\n",
    "```\n",
    "import matplotlib.pyplot as plt\n",
    "import seaborn as sns\n",
    "import scipy.stats as stats\n",
    "```\n"
   ]
  },
  {
   "cell_type": "markdown",
   "metadata": {
    "id": "wIY1SsXS6Zje"
   },
   "source": [
    "- matplotlib.pyplot has various in-built functions to create various figures/plots.\n",
    "- matplotlib can be used to plot the scatter plots, bar plots, and so on.\n",
    "- Apart from this, matplotlib can also be used to create a sub-plots, we can add x or y labels, and legends.\n",
    "- Seaborn is also an open-source Python library which is built on top of matplotlib library. It is also used to visualize data, it gives more attractive plots than matplotlib. It works well with pandas dataframe.\n",
    "- Using seaborn you can plot histograms, lineplots, barplots, etc. with better visualization.\n",
    "- Syntax of seaborn is very simple, you can simply pass column of pandas dataframe in x and y axis.\n",
    "  - For example, sns.histplot will plot the histogram. A histogram represents the distribution of one or more variables by counting the number of observations that fall within disrete bins.\n",
    "  - A box plot shows the distribution of quantitative data in a way that facilitates comparisons between variables or across levels of a categorical variable. The box shows the quartiles of the dataset while the whiskers extend to show the rest of the distribution, except for points that are determined to be outliers.\n",
    "\n"
   ]
  },
  {
   "cell_type": "code",
   "execution_count": 33,
   "metadata": {
    "ExecuteTime": {
     "end_time": "2022-09-20T01:05:41.809191Z",
     "start_time": "2022-09-20T01:05:41.796231Z"
    },
    "executionInfo": {
     "elapsed": 223,
     "status": "ok",
     "timestamp": 1663613030921,
     "user": {
      "displayName": "Kyungseob Shim",
      "userId": "04167791068819005440"
     },
     "user_tz": 300
    },
    "id": "p40R0RIXBTt-"
   },
   "outputs": [],
   "source": [
    "def diagnostic_plots(df, variable):\n",
    "    '''\n",
    "    This function takes a dataframe (df) and\n",
    "    the variable of interest as arguments.\n",
    "    And it plots histogram, box-plot and QQ-plot.\n",
    "    '''\n",
    "\n",
    "    # define figure size\n",
    "    plt.figure(figsize=(16, 4))\n",
    "\n",
    "    '''\n",
    "    We can use subplot to plot various plots in same plot, so that it can viewed as a single plot.\n",
    "    Using this function we can create a table of plots.\n",
    "    '''\n",
    "    # histogram\n",
    "    # plt.subplot(num rows, num columns, index)\n",
    "    plt.subplot(1, 3, 1)\n",
    "    sns.histplot(df[variable], bins=30)\n",
    "    plt.title('Histogram')\n",
    "\n",
    "    # boxplot\n",
    "    # plt.subplot(num rows, num columns, index)\n",
    "    plt.subplot(1, 3, 2)\n",
    "    sns.boxplot(y=df[variable])\n",
    "    plt.title('Boxplot')\n",
    "\n",
    "    # plt.subplot(num rows, num columns, index)\n",
    "    plt.subplot(1, 3, 3)\n",
    "    stats.probplot(df[variable], dist=\"norm\", plot=plt)\n",
    "    plt.title('Q-Q plot')\n",
    "\n",
    "    plt.show()"
   ]
  },
  {
   "cell_type": "code",
   "execution_count": 34,
   "metadata": {
    "ExecuteTime": {
     "end_time": "2022-09-20T01:05:44.865343Z",
     "start_time": "2022-09-20T01:05:43.432887Z"
    },
    "colab": {
     "base_uri": "https://localhost:8080/",
     "height": 1000
    },
    "executionInfo": {
     "elapsed": 2550,
     "status": "ok",
     "timestamp": 1663613396293,
     "user": {
      "displayName": "Kyungseob Shim",
      "userId": "04167791068819005440"
     },
     "user_tz": 300
    },
    "id": "H2tTJLqFCl2k",
    "outputId": "6da9412b-89f5-4028-9516-98422579faa9"
   },
   "outputs": [
    {
     "data": {
      "image/png": "[encoded data removed]",
      "text/plain": [
       "<Figure size 1152x288 with 3 Axes>"
      ]
     },
     "metadata": {
      "needs_background": "light"
     },
     "output_type": "display_data"
    },
    {
     "data": {
      "image/png": "[encoded data removed]",
      "text/plain": [
       "<Figure size 1152x288 with 3 Axes>"
      ]
     },
     "metadata": {
      "needs_background": "light"
     },
     "output_type": "display_data"
    },
    {
     "data": {
      "image/png": "[encoded data removed]",
      "text/plain": [
       "<Figure size 1152x288 with 3 Axes>"
      ]
     },
     "metadata": {
      "needs_background": "light"
     },
     "output_type": "display_data"
    },
    {
     "data": {
      "image/png": "[encoded data removed]",
      "text/plain": [
       "<Figure size 1152x288 with 3 Axes>"
      ]
     },
     "metadata": {
      "needs_background": "light"
     },
     "output_type": "display_data"
    }
   ],
   "source": [
    "for var in continuous:\n",
    "    diagnostic_plots(df, var)"
   ]
  },
  {
   "cell_type": "markdown",
   "metadata": {
    "id": "51VTqsrVEIpB"
   },
   "source": [
    "From the above plots, we can see that \n",
    "* age has skewed distribution and has some outliers as well. We can use transformation to make it normal.\n",
    "* Estimated salary has uniform distribution.\n",
    "* Balance has lot of zeros. \n"
   ]
  },
  {
   "cell_type": "code",
   "execution_count": 35,
   "metadata": {
    "ExecuteTime": {
     "end_time": "2022-09-20T01:05:46.935562Z",
     "start_time": "2022-09-20T01:05:46.647197Z"
    },
    "colab": {
     "base_uri": "https://localhost:8080/",
     "height": 573
    },
    "executionInfo": {
     "elapsed": 887,
     "status": "ok",
     "timestamp": 1663613399162,
     "user": {
      "displayName": "Kyungseob Shim",
      "userId": "04167791068819005440"
     },
     "user_tz": 300
    },
    "id": "F7FGaZ4HHA1q",
    "outputId": "cf5552a0-5c67-4dee-9dc5-254af8afde3a"
   },
   "outputs": [
    {
     "data": {
      "image/png": "[encoded data removed]",
      "text/plain": [
       "<Figure size 864x288 with 1 Axes>"
      ]
     },
     "metadata": {
      "needs_background": "light"
     },
     "output_type": "display_data"
    },
    {
     "data": {
      "image/png": "[encoded data removed]",
      "text/plain": [
       "<Figure size 864x288 with 1 Axes>"
      ]
     },
     "metadata": {
      "needs_background": "light"
     },
     "output_type": "display_data"
    }
   ],
   "source": [
    "# histograms for discrete variables\n",
    "for var in discrete:\n",
    "    plt.figure(figsize=(12, 4))\n",
    "    plt.subplot(1, 1, 1)\n",
    "    sns.histplot(df[var], bins=30)\n",
    "    plt.title('Histogram')"
   ]
  },
  {
   "cell_type": "markdown",
   "metadata": {
    "id": "hcasLhp2LTZX"
   },
   "source": [
    "## <font color = 'pickle'>**Visualizing Relationships between variables**"
   ]
  },
  {
   "cell_type": "markdown",
   "metadata": {
    "id": "NyCu1b8ebWia"
   },
   "source": [
    "### <font color = 'pickle'>**Correlation Matrix**"
   ]
  },
  {
   "cell_type": "code",
   "execution_count": 36,
   "metadata": {
    "ExecuteTime": {
     "end_time": "2022-09-20T01:05:49.107108Z",
     "start_time": "2022-09-20T01:05:48.691913Z"
    },
    "colab": {
     "base_uri": "https://localhost:8080/",
     "height": 432
    },
    "executionInfo": {
     "elapsed": 619,
     "status": "ok",
     "timestamp": 1663613628319,
     "user": {
      "displayName": "Kyungseob Shim",
      "userId": "04167791068819005440"
     },
     "user_tz": 300
    },
    "id": "wImeWiJad1iP",
    "outputId": "e96c1c92-5b46-4aab-ba62-525930adbf4e"
   },
   "outputs": [
    {
     "data": {
      "image/png": "[encoded data removed]",
      "text/plain": [
       "<Figure size 504x504 with 2 Axes>"
      ]
     },
     "metadata": {
      "needs_background": "light"
     },
     "output_type": "display_data"
    }
   ],
   "source": [
    "# We can check the correlation between every pair of attributes\n",
    "# The correlation will be generated for the numerical data only\n",
    "# we will use df.corr() to get correlatons and then use sns.heatmap to print the correlation matrix\n",
    "corrmat = df[discrete + continuous].corr().round(2)\n",
    "top_corr_features = corrmat.index\n",
    "plt.figure(figsize=(7, 7))\n",
    "sns.heatmap(df[top_corr_features].corr(),annot=True, square=True, fmt='.2f', \n",
    "            cbar_kws={\"shrink\": .80}, linewidths=.5, cmap='RdYlGn');"
   ]
  },
  {
   "cell_type": "markdown",
   "metadata": {
    "id": "Idia3G7N1Lmv"
   },
   "source": [
    "* It's really important to check the correlation between the columns. In general, highly correlated features do not improve the model and lead to overfitting. Furthermore, the effect can vary based on the underlying model:\n",
    "\n",
    " * For example, for linear models (e.g., linear regression or logistic regression), high correlations can give solutions that are sensitive to training data and numerically unstable. Due to this, the model might not generalize well to test data and lead to overfitting.\n",
    "\n",
    "* From the above correlation plot, we observe that the correlation ranges from 0 to 1 for various pairs of attributes. \n",
    "* Negative Correlation is denoted by **red**.\n",
    "* None of the correlations are too high."
   ]
  },
  {
   "cell_type": "markdown",
   "metadata": {
    "id": "QgXV0fsIbD8S"
   },
   "source": [
    "### <font color = 'pickle'>**Relationship between Target variable and categorical variables**"
   ]
  },
  {
   "cell_type": "markdown",
   "metadata": {
    "id": "sIMsign2NVHz"
   },
   "source": [
    "Now, let's plot a bar-plot of each categorical variable w.r.t. churn rate of each category.\n",
    "\n",
    "For example, we will get exited churn rate for males and females, i.e., how much percentage of male/female has churned company."
   ]
  },
  {
   "cell_type": "code",
   "execution_count": 37,
   "metadata": {
    "ExecuteTime": {
     "end_time": "2022-09-20T01:05:51.621167Z",
     "start_time": "2022-09-20T01:05:51.600835Z"
    },
    "colab": {
     "base_uri": "https://localhost:8080/",
     "height": 112
    },
    "executionInfo": {
     "elapsed": 337,
     "status": "ok",
     "timestamp": 1663613848553,
     "user": {
      "displayName": "Kyungseob Shim",
      "userId": "04167791068819005440"
     },
     "user_tz": 300
    },
    "id": "AOayndJ0fqNz",
    "outputId": "7953adfe-d8cc-40bf-cdf1-0e07f4de0e57"
   },
   "outputs": [
    {
     "data": {
      "text/html": [
       "<div>\n",
       "<style scoped>\n",
       "    .dataframe tbody tr th:only-of-type {\n",
       "        vertical-align: middle;\n",
       "    }\n",
       "\n",
       "    .dataframe tbody tr th {\n",
       "        vertical-align: top;\n",
       "    }\n",
       "\n",
       "    .dataframe thead th {\n",
       "        text-align: right;\n",
       "    }\n",
       "</style>\n",
       "<table border=\"1\" class=\"dataframe\">\n",
       "  <thead>\n",
       "    <tr style=\"text-align: right;\">\n",
       "      <th></th>\n",
       "      <th>Gender</th>\n",
       "      <th>Exited</th>\n",
       "    </tr>\n",
       "  </thead>\n",
       "  <tbody>\n",
       "    <tr>\n",
       "      <th>0</th>\n",
       "      <td>Female</td>\n",
       "      <td>0.250715</td>\n",
       "    </tr>\n",
       "    <tr>\n",
       "      <th>1</th>\n",
       "      <td>Male</td>\n",
       "      <td>0.164559</td>\n",
       "    </tr>\n",
       "  </tbody>\n",
       "</table>\n",
       "</div>"
      ],
      "text/plain": [
       "   Gender    Exited\n",
       "0  Female  0.250715\n",
       "1    Male  0.164559"
      ]
     },
     "execution_count": 37,
     "metadata": {},
     "output_type": "execute_result"
    }
   ],
   "source": [
    "# We will first grpupby() 'Gender'. We will then take the Exited columns and then take the mean\n",
    "# The group by column will become row index. We can use reset_index and use the default one.\n",
    "plot_by_gender = df.groupby('Gender')['Exited'].mean().reset_index()\n",
    "plot_by_gender"
   ]
  },
  {
   "cell_type": "markdown",
   "metadata": {
    "id": "h8LYxN5qCm_l"
   },
   "source": [
    "Now, let's plot this."
   ]
  },
  {
   "cell_type": "code",
   "execution_count": 38,
   "metadata": {
    "ExecuteTime": {
     "end_time": "2022-09-20T01:05:53.212038Z",
     "start_time": "2022-09-20T01:05:53.117298Z"
    },
    "colab": {
     "base_uri": "https://localhost:8080/",
     "height": 295
    },
    "executionInfo": {
     "elapsed": 238,
     "status": "ok",
     "timestamp": 1663613908103,
     "user": {
      "displayName": "Kyungseob Shim",
      "userId": "04167791068819005440"
     },
     "user_tz": 300
    },
    "id": "vn2rntqp_Zi2",
    "outputId": "e0ef1da4-a713-4817-c1e5-3173a85ed4e6"
   },
   "outputs": [
    {
     "data": {
      "image/png": "[encoded data removed]",
      "text/plain": [
       "<Figure size 432x288 with 1 Axes>"
      ]
     },
     "metadata": {
      "needs_background": "light"
     },
     "output_type": "display_data"
    }
   ],
   "source": [
    "# Creating the bar plot using matplotlib\n",
    "plt.bar(plot_by_gender['Gender'], plot_by_gender['Exited'])\n",
    "plt.xlabel('Gender')\n",
    "plt.ylabel('Churn Rate')\n",
    "plt.title(f'Churn Rate by Gender')\n",
    "plt.show()"
   ]
  },
  {
   "cell_type": "markdown",
   "metadata": {
    "id": "IvwbrL9hTW0s"
   },
   "source": [
    "As you can see, we are getting a good visualization of gender w.r.t. total percentage of customer churned.\n",
    "\n",
    "So now, let's create a function that creates the same bar-plot where a categorical variable can be dynamic like we can pass it as a function argument so that this piece of code can be re-used."
   ]
  },
  {
   "cell_type": "code",
   "execution_count": 39,
   "metadata": {
    "ExecuteTime": {
     "end_time": "2022-09-20T01:05:55.008758Z",
     "start_time": "2022-09-20T01:05:54.998785Z"
    },
    "executionInfo": {
     "elapsed": 213,
     "status": "ok",
     "timestamp": 1663614030093,
     "user": {
      "displayName": "Kyungseob Shim",
      "userId": "04167791068819005440"
     },
     "user_tz": 300
    },
    "id": "pOozSAI5B3Y4"
   },
   "outputs": [],
   "source": [
    "def plot_target_by_category(target, category, ylabel):\n",
    "  # Getting percentage churn for each category\n",
    "  percent_churn_by_category = df.groupby(category)[target].mean().round(2).reset_index()\n",
    "\n",
    "  # Setting up the plot size\n",
    "  plt.figure(figsize = (8, 5))\n",
    "\n",
    "  # Creating the bar plot using matplotlib\n",
    "  plt.bar(percent_churn_by_category[category].values, percent_churn_by_category[target].values)\n",
    "  plt.xlabel(category)\n",
    "  plt.ylabel(ylabel)\n",
    "  plt.title(f'{ylabel} by {category}')\n",
    "  plt.show()"
   ]
  },
  {
   "cell_type": "code",
   "execution_count": 40,
   "metadata": {
    "ExecuteTime": {
     "end_time": "2022-09-20T01:05:56.939019Z",
     "start_time": "2022-09-20T01:05:56.272331Z"
    },
    "colab": {
     "base_uri": "https://localhost:8080/",
     "height": 1000
    },
    "executionInfo": {
     "elapsed": 1064,
     "status": "ok",
     "timestamp": 1663614033627,
     "user": {
      "displayName": "Kyungseob Shim",
      "userId": "04167791068819005440"
     },
     "user_tz": 300
    },
    "id": "KKKN_pcEB3Y6",
    "outputId": "82a871f8-5be5-4a8f-d87e-dc7617aebbf5"
   },
   "outputs": [
    {
     "data": {
      "image/png": "[encoded data removed]",
      "text/plain": [
       "<Figure size 576x360 with 1 Axes>"
      ]
     },
     "metadata": {
      "needs_background": "light"
     },
     "output_type": "display_data"
    },
    {
     "data": {
      "image/png": "[encoded data removed]",
      "text/plain": [
       "<Figure size 576x360 with 1 Axes>"
      ]
     },
     "metadata": {
      "needs_background": "light"
     },
     "output_type": "display_data"
    },
    {
     "data": {
      "image/png": "[encoded data removed]",
      "text/plain": [
       "<Figure size 576x360 with 1 Axes>"
      ]
     },
     "metadata": {
      "needs_background": "light"
     },
     "output_type": "display_data"
    },
    {
     "data": {
      "image/png": "[encoded data removed]",
      "text/plain": [
       "<Figure size 576x360 with 1 Axes>"
      ]
     },
     "metadata": {
      "needs_background": "light"
     },
     "output_type": "display_data"
    },
    {
     "data": {
      "image/png": "[encoded data removed]",
      "text/plain": [
       "<Figure size 576x360 with 1 Axes>"
      ]
     },
     "metadata": {
      "needs_background": "light"
     },
     "output_type": "display_data"
    },
    {
     "data": {
      "image/png": "[encoded data removed]",
      "text/plain": [
       "<Figure size 576x360 with 1 Axes>"
      ]
     },
     "metadata": {
      "needs_background": "light"
     },
     "output_type": "display_data"
    }
   ],
   "source": [
    "# Plotting all categorical and discrete features using above function.\n",
    "for category in categorical + discrete:\n",
    "  plot_target_by_category('Exited',category,'Churn')"
   ]
  },
  {
   "cell_type": "markdown",
   "metadata": {
    "id": "tLGjp9jWk8Ow"
   },
   "source": [
    "From the above charts, we can conclude that\n",
    "- Germany has the highest churn rate.\n",
    "- Females have a greater churn rate than males.\n",
    "- Non-active members have a greater churn rate than active members.\n",
    "- Customer's who have bought more number of products are more likely to churn (exit the company)  compared to customer's buying fewer number of products."
   ]
  },
  {
   "cell_type": "markdown",
   "metadata": {
    "id": "7DDFP5AUyWtJ"
   },
   "source": [
    "## <font color = 'pickle'>**Conclusion from EDA** </font>\n",
    "From the above exploration of the data, we can come to some conclusions, and they are:-\n",
    "\n",
    "1. We have checked the number of missing values, and we will use imputation methods to handle these missing values.\n",
    "\n",
    "2. We have checked the relationship between churn and features.\n",
    "\n",
    "3. From the distribution plot, we have checked the distribution of each column. 'Age' and 'CreditScore' columns are skewed in nature. We can use transformations to reduce the skewness of the columns.\n",
    "4. Variables have a different scale. We will use feature scaling to address this."
   ]
  },
  {
   "cell_type": "markdown",
   "metadata": {
    "id": "gwZKq_yw2aGq"
   },
   "source": [
    "# <font color = 'pickle'>**Data cleaning** </font>\n",
    "In data cleaning, we will perform the following operations:-\n",
    "\n",
    "1. Checking the redundant features\n",
    "2. Outliers\n",
    "3. Missing values\n",
    "\n",
    "    \n",
    "<img src =\"https://drive.google.com/uc?export=view&id=1Cz1zxMp2Rv3GpX2dAqxPgrek-bAQ4go_\" width =500 >\n",
    "\n",
    "\n",
    "Since we have already done the exploratory data analysis. \n",
    "Now we will be dealing with the variable transformation and missing value imputations as a part of data cleaning."
   ]
  },
  {
   "cell_type": "markdown",
   "metadata": {
    "id": "X3DEcAvMJP1U"
   },
   "source": [
    "## <font color = 'pickle'>**Split Dataset into Train/Valid splits**"
   ]
  },
  {
   "cell_type": "code",
   "execution_count": 41,
   "metadata": {
    "ExecuteTime": {
     "end_time": "2022-09-20T01:05:59.592198Z",
     "start_time": "2022-09-20T01:05:59.580235Z"
    },
    "executionInfo": {
     "elapsed": 440,
     "status": "ok",
     "timestamp": 1663615741316,
     "user": {
      "displayName": "Kyungseob Shim",
      "userId": "04167791068819005440"
     },
     "user_tz": 300
    },
    "id": "CHUtdKdMJNlV"
   },
   "outputs": [],
   "source": [
    "# before doing any data cleaning step we need to first split the data into train/test\n",
    "X = df.drop(['Exited'], axis = 1)\n",
    "y = df['Exited']\n",
    "X_train, X_valid, y_train, y_valid = train_test_split(X, y, test_size=0.33, random_state=123)"
   ]
  },
  {
   "cell_type": "markdown",
   "metadata": {
    "id": "GG7OIBZ3XI1w"
   },
   "source": [
    "## <font color = 'pickle'>**Imputing Missing Data**\n",
    "Some common methods for imputing missing data is as follows : \n",
    "   * **Complete Case Analysis** (Complete Case Analysis)\n",
    ">- Complete Case Analysis (CCA) - This method deletes observations (complete rows) where the values in any of the variables are missing. \n",
    "   * **Mean or median imputation**\n",
    ">- Replace missing values with the variable mean or\n",
    "median. We use mean imputation if the variable is normally distributed and median otherwise. This method is used for numerical variables.\n",
    "\n",
    "   * **Mode or frequent category imputation**\n",
    ">- Replace missing values with the mode. This method is used for categorical variables. \n",
    "\n",
    "   * **Arbitrary value imputation**\n",
    ">- Replace missing values with arbitrary values such as 99999 or -1. This method is used for numerical variables. This is particularly useful when the percentage of missing values is high. The method is also useful for non-linear models.\n",
    "\n",
    "   * **Adding a Missing category**\n",
    ">- Replace missing values with the string 'Missing' (new arbitrary category. This method is used for categorical variables. Like arbitrary value imputation, this method is also used when the percentage of missing values is high.\n",
    "\n",
    "   * **End of Tail imputation**\n",
    ">- Replace missing values with values from the tail (end) of distribution. For example, for normally distributed variables, we can replace missing values with `mean + 3 * std `. This method is used for numerical variables. This is used when we assume that missing values are likely to be extreme values.\n",
    "\n",
    " \n",
    "   * **Random Sample imputation**\n",
    ">- Replace missing values with randomly chosen values from non-missing values of the same variable. This method can be used for both numerical and categorical variables. \n",
    "\n",
    "   * **Adding a missing value indicator**\n",
    ">- Add a dummy variable to indicate missing values in observation. This is typically used along with mean/median imputation and mode imputation.\n",
    "\n",
    "   * **Multivariate imputation by chained equations (MICE)**\n",
    ">- Missing values are imputed as a function of other independent variables in an iterative process. We can use supervised learning algorithms like linear regression, random forest, etc.\n",
    "\n",
    "**Summary Table**\n",
    "\n",
    " <img src =\"https://drive.google.com/uc?export=view&id=1R3DjSPAGI_UupOjW4gbu4kHlWY9w5Ccx\" width = 1000 >"
   ]
  },
  {
   "cell_type": "markdown",
   "metadata": {
    "id": "Cp9hzQ4CsqUY"
   },
   "source": [
    "#### <font color = 'pickle'>**Columns with missing values**\n",
    "Let's consider the columns with missing values in separate dataframe."
   ]
  },
  {
   "cell_type": "code",
   "execution_count": 42,
   "metadata": {
    "ExecuteTime": {
     "end_time": "2022-09-20T01:06:01.937677Z",
     "start_time": "2022-09-20T01:06:01.925709Z"
    },
    "colab": {
     "base_uri": "https://localhost:8080/"
    },
    "executionInfo": {
     "elapsed": 267,
     "status": "ok",
     "timestamp": 1663615745633,
     "user": {
      "displayName": "Kyungseob Shim",
      "userId": "04167791068819005440"
     },
     "user_tz": 300
    },
    "id": "CSNJXbMdtAaO",
    "outputId": "3a74ab0a-7caf-4de6-819d-d6f4c7947054"
   },
   "outputs": [
    {
     "data": {
      "text/plain": [
       "['Age', 'Tenure', 'Balance', 'NumOfProducts']"
      ]
     },
     "execution_count": 42,
     "metadata": {},
     "output_type": "execute_result"
    }
   ],
   "source": [
    "# Let's create the list of columns which have null values\n",
    "null_values = X_train.columns[X_train.isna().any()].tolist()\n",
    "null_values"
   ]
  },
  {
   "cell_type": "code",
   "execution_count": 43,
   "metadata": {
    "ExecuteTime": {
     "end_time": "2022-09-20T01:06:03.143100Z",
     "start_time": "2022-09-20T01:06:03.123153Z"
    },
    "colab": {
     "base_uri": "https://localhost:8080/",
     "height": 175
    },
    "executionInfo": {
     "elapsed": 191,
     "status": "ok",
     "timestamp": 1663615758465,
     "user": {
      "displayName": "Kyungseob Shim",
      "userId": "04167791068819005440"
     },
     "user_tz": 300
    },
    "id": "BafT6HuJvP4v",
    "outputId": "ba02b62e-945d-4555-cec0-9cd2ca4ba1f0"
   },
   "outputs": [
    {
     "data": {
      "text/html": [
       "<div>\n",
       "<style scoped>\n",
       "    .dataframe tbody tr th:only-of-type {\n",
       "        vertical-align: middle;\n",
       "    }\n",
       "\n",
       "    .dataframe tbody tr th {\n",
       "        vertical-align: top;\n",
       "    }\n",
       "\n",
       "    .dataframe thead th {\n",
       "        text-align: right;\n",
       "    }\n",
       "</style>\n",
       "<table border=\"1\" class=\"dataframe\">\n",
       "  <thead>\n",
       "    <tr style=\"text-align: right;\">\n",
       "      <th></th>\n",
       "      <th>count</th>\n",
       "      <th>mean</th>\n",
       "      <th>std</th>\n",
       "      <th>min</th>\n",
       "      <th>25%</th>\n",
       "      <th>50%</th>\n",
       "      <th>75%</th>\n",
       "      <th>max</th>\n",
       "    </tr>\n",
       "  </thead>\n",
       "  <tbody>\n",
       "    <tr>\n",
       "      <th>Age</th>\n",
       "      <td>6697.0</td>\n",
       "      <td>38.955204</td>\n",
       "      <td>10.649253</td>\n",
       "      <td>18.0</td>\n",
       "      <td>32.0</td>\n",
       "      <td>37.000</td>\n",
       "      <td>44.0000</td>\n",
       "      <td>92.00</td>\n",
       "    </tr>\n",
       "    <tr>\n",
       "      <th>Tenure</th>\n",
       "      <td>6698.0</td>\n",
       "      <td>5.012541</td>\n",
       "      <td>2.888836</td>\n",
       "      <td>0.0</td>\n",
       "      <td>3.0</td>\n",
       "      <td>5.000</td>\n",
       "      <td>7.0000</td>\n",
       "      <td>10.00</td>\n",
       "    </tr>\n",
       "    <tr>\n",
       "      <th>Balance</th>\n",
       "      <td>6684.0</td>\n",
       "      <td>76727.524686</td>\n",
       "      <td>62671.765150</td>\n",
       "      <td>0.0</td>\n",
       "      <td>0.0</td>\n",
       "      <td>97082.645</td>\n",
       "      <td>127871.4425</td>\n",
       "      <td>238387.56</td>\n",
       "    </tr>\n",
       "    <tr>\n",
       "      <th>NumOfProducts</th>\n",
       "      <td>6694.0</td>\n",
       "      <td>1.533164</td>\n",
       "      <td>0.584185</td>\n",
       "      <td>1.0</td>\n",
       "      <td>1.0</td>\n",
       "      <td>1.000</td>\n",
       "      <td>2.0000</td>\n",
       "      <td>4.00</td>\n",
       "    </tr>\n",
       "  </tbody>\n",
       "</table>\n",
       "</div>"
      ],
      "text/plain": [
       "                count          mean           std   min   25%        50%  \\\n",
       "Age            6697.0     38.955204     10.649253  18.0  32.0     37.000   \n",
       "Tenure         6698.0      5.012541      2.888836   0.0   3.0      5.000   \n",
       "Balance        6684.0  76727.524686  62671.765150   0.0   0.0  97082.645   \n",
       "NumOfProducts  6694.0      1.533164      0.584185   1.0   1.0      1.000   \n",
       "\n",
       "                       75%        max  \n",
       "Age                44.0000      92.00  \n",
       "Tenure              7.0000      10.00  \n",
       "Balance        127871.4425  238387.56  \n",
       "NumOfProducts       2.0000       4.00  "
      ]
     },
     "execution_count": 43,
     "metadata": {},
     "output_type": "execute_result"
    }
   ],
   "source": [
    "# let's create a new dataframe for the missing values\n",
    "missing_cols = ['Age', 'Tenure', 'Balance', 'NumOfProducts']\n",
    "X_train[missing_cols].describe().T"
   ]
  },
  {
   "cell_type": "code",
   "execution_count": 44,
   "metadata": {
    "ExecuteTime": {
     "end_time": "2022-09-20T01:06:04.736676Z",
     "start_time": "2022-09-20T01:06:04.296154Z"
    },
    "colab": {
     "base_uri": "https://localhost:8080/",
     "height": 280
    },
    "executionInfo": {
     "elapsed": 702,
     "status": "ok",
     "timestamp": 1663615778485,
     "user": {
      "displayName": "Kyungseob Shim",
      "userId": "04167791068819005440"
     },
     "user_tz": 300
    },
    "id": "KQdNztiySXgz",
    "outputId": "0d6d1592-c35b-494a-f81f-3fe9c9703b82"
   },
   "outputs": [
    {
     "data": {
      "image/png": "[encoded data removed]",
      "text/plain": [
       "<Figure size 1152x288 with 4 Axes>"
      ]
     },
     "metadata": {
      "needs_background": "light"
     },
     "output_type": "display_data"
    }
   ],
   "source": [
    "# let us the dstrbution again as this wil help us n deciding the imputtaion method\n",
    "plt.figure(figsize=(16, 4))\n",
    "\n",
    "# histogram\n",
    "# plt.subplot(num rows, num columns, index)\n",
    "plt.subplot(1, 4, 1)\n",
    "sns.histplot(X_train['Age'], bins=30)\n",
    "\n",
    "plt.subplot(1, 4, 2)\n",
    "sns.histplot(X_train['Balance'], bins=30)\n",
    "\n",
    "plt.subplot(1, 4, 3)\n",
    "sns.histplot(X_train['Tenure'], bins=11)\n",
    "\n",
    "plt.subplot(1, 4, 4)\n",
    "sns.histplot(X_train['NumOfProducts'], bins=11)\n",
    "\n",
    "plt.show()"
   ]
  },
  {
   "cell_type": "markdown",
   "metadata": {
    "id": "AhUl1T0ITAqC"
   },
   "source": [
    "- Age has a skewed distribution; hence we will use median imputation for Age. \n",
    "- For balance, if we ignore zeros, then it has a normal distribution. One possibility is to first predict zero vs non-zero balance using other independent variables. If the prediction is zero, then impute missing values using zero and if it is non-zero, then impute missing values using mean(considering only non-zero values. For simplicity, we will use median for balance as well.\n",
    "- Tenure is discrete and can take only 11 unique values. All the values from 3 to 9 seem equally likely. Mean and median are both 5. So we will use median for tenure as well. \n",
    "- NumOdProducts is a discrete variable and can take only four values. One seems to be the most frequent value. The median is also one. So we can impute missing values using one.\n",
    "- **In summary, we can use median imputation for all variables**."
   ]
  },
  {
   "cell_type": "markdown",
   "metadata": {
    "id": "GCpN3wZTyjmH"
   },
   "source": [
    "#### <font color = 'pickle'>**Median Imputation using Scikit learn**\n",
    "Median imputation using Simple Imputer and ColumnTransformer"
   ]
  },
  {
   "cell_type": "markdown",
   "metadata": {
    "id": "B3j-I15A4TwR"
   },
   "source": [
    "In scikit learn the SimpleImputer helps to impute the missing values directly with mean,median etc.\n",
    "\n",
    "  **Syntax** :\n",
    "\n",
    "\n",
    "  ```\n",
    "  from sklearn.impute import SimpleImputer\n",
    "  SimpleImputer(strategy = 'mean/median/mode')\n",
    "```\n",
    "It can take the argument as mean/median/mode. \n",
    "\n",
    "We will also need to use ColumnTransformer to specify which columns we need to apply the transformation\n",
    "\n",
    "  **Syntax** :\n",
    "\n",
    "  ```\n",
    "  from sklearn.compose import ColumnTransformer\n",
    "\n",
    "  ColumnTransformer(transformers)\n",
    "```\n",
    "transformers is a list of (name, transformer, columns) tuples."
   ]
  },
  {
   "cell_type": "code",
   "execution_count": 45,
   "metadata": {
    "ExecuteTime": {
     "end_time": "2022-09-20T01:06:08.521520Z",
     "start_time": "2022-09-20T01:06:08.494593Z"
    },
    "executionInfo": {
     "elapsed": 278,
     "status": "ok",
     "timestamp": 1663616617183,
     "user": {
      "displayName": "Kyungseob Shim",
      "userId": "04167791068819005440"
     },
     "user_tz": 300
    },
    "id": "1gppQY25v7Cj"
   },
   "outputs": [],
   "source": [
    "# using SimpleImputer to impute the missing values from scikit learn\n",
    "# Initializing the object using SimpleImputer\n",
    "# Giving strategy = median\n",
    "\n",
    "median_imputer = SimpleImputer(missing_values = np.nan, strategy = 'median')\n",
    "\n",
    "preprocessor = ColumnTransformer(transformers=[\n",
    "                                ('median_imputer', median_imputer, missing_cols)], remainder='passthrough')\n",
    "\n",
    "# In the above command remainder = 'passthrough tells us that \n",
    "# we will not apply transformation to other variables\n",
    "\n",
    "# It is important to make sure that median is calculated using training data\n",
    "# The fit method in sklearn will calculate the median\n",
    "# hence we use fit on training data only\n",
    "# * Fitting always should happen with train dataset, not testset!\n",
    "preprocessor.fit(X_train)\n",
    "\n",
    "# using transform function to replace the missing values\n",
    "# transform function will use the median value calculated during fit() to impute msing values\n",
    "# we will apply transform on both training and validation datset\n",
    "# this will ensure that we are using median calculated from training data to impute \n",
    "# missing values for both training and validation dataset\n",
    "# we should never do .fit() on test/validation datasets\n",
    "# fit() should be always used on training dataset only\n",
    "# This is important, since we do not want to use any information from validation/test dataset\n",
    "\n",
    "X_train_sklearn = preprocessor.transform(X_train)\n",
    "X_valid_sklearn = preprocessor.transform(X_valid)"
   ]
  },
  {
   "cell_type": "code",
   "execution_count": 46,
   "metadata": {
    "ExecuteTime": {
     "end_time": "2022-09-20T01:06:11.513441Z",
     "start_time": "2022-09-20T01:06:11.509469Z"
    },
    "colab": {
     "base_uri": "https://localhost:8080/"
    },
    "executionInfo": {
     "elapsed": 633,
     "status": "ok",
     "timestamp": 1663616621265,
     "user": {
      "displayName": "Kyungseob Shim",
      "userId": "04167791068819005440"
     },
     "user_tz": 300
    },
    "id": "F9ntZGJWhLkP",
    "outputId": "dafef793-9748-4e6c-dec2-bcbc91bbd619"
   },
   "outputs": [
    {
     "name": "stdout",
     "output_type": "stream",
     "text": [
      "type of X_train before imputation: <class 'pandas.core.frame.DataFrame'>\n",
      "\n",
      "type of X_train after imputation: <class 'numpy.ndarray'>\n"
     ]
    }
   ],
   "source": [
    "# The column transfomer output is a numpy array\n",
    "# we can check the type of transformed data\n",
    "print(f'type of X_train before imputation: {type(X_train)}')\n",
    "print(f'\\ntype of X_train after imputation: {type(X_train_sklearn)}')"
   ]
  },
  {
   "cell_type": "markdown",
   "metadata": {
    "id": "WjBuExZOjNBL"
   },
   "source": [
    "- The other important thing which we have to remember is that the order of the columns in the transformed array follows the order specified in transformers. \n",
    "- In our case  the order will be ['Age', 'Tenure', 'Balance', 'NumOfProducts'] followed by reminder of columns. \n",
    "- The order can be different from the order of columns in original dataframe."
   ]
  },
  {
   "cell_type": "code",
   "execution_count": 51,
   "metadata": {
    "ExecuteTime": {
     "end_time": "2022-09-20T01:06:44.196871Z",
     "start_time": "2022-09-20T01:06:44.190875Z"
    },
    "colab": {
     "base_uri": "https://localhost:8080/"
    },
    "executionInfo": {
     "elapsed": 201,
     "status": "ok",
     "timestamp": 1663616793926,
     "user": {
      "displayName": "Kyungseob Shim",
      "userId": "04167791068819005440"
     },
     "user_tz": 300
    },
    "id": "en_gd6O0kBqX",
    "outputId": "61ae8e11-7b86-4512-9ab0-6613da0fbf15"
   },
   "outputs": [
    {
     "data": {
      "text/plain": [
       "['CreditScore',\n",
       " 'Geography',\n",
       " 'Gender',\n",
       " 'Age',\n",
       " 'Tenure',\n",
       " 'Balance',\n",
       " 'NumOfProducts',\n",
       " 'HasCrCard',\n",
       " 'IsActiveMember',\n",
       " 'EstimatedSalary']"
      ]
     },
     "execution_count": 51,
     "metadata": {},
     "output_type": "execute_result"
    }
   ],
   "source": [
    "# convert the numpy array back to pandas dataframe\n",
    "# now we have to be careful about the order of columns\n",
    "\n",
    "# let us check the original columns\n",
    "original_columns = list(X_train.columns)\n",
    "original_columns "
   ]
  },
  {
   "cell_type": "code",
   "execution_count": 52,
   "metadata": {
    "ExecuteTime": {
     "end_time": "2022-09-20T01:06:46.860960Z",
     "start_time": "2022-09-20T01:06:46.846001Z"
    },
    "colab": {
     "base_uri": "https://localhost:8080/"
    },
    "executionInfo": {
     "elapsed": 3,
     "status": "ok",
     "timestamp": 1663616802077,
     "user": {
      "displayName": "Kyungseob Shim",
      "userId": "04167791068819005440"
     },
     "user_tz": 300
    },
    "id": "ZeuuQn59k74D",
    "outputId": "303b1f33-a4a1-4af9-e43a-62c7bc500366"
   },
   "outputs": [
    {
     "data": {
      "text/plain": [
       "['CreditScore',\n",
       " 'Geography',\n",
       " 'Gender',\n",
       " 'HasCrCard',\n",
       " 'IsActiveMember',\n",
       " 'EstimatedSalary']"
      ]
     },
     "execution_count": 52,
     "metadata": {},
     "output_type": "execute_result"
    }
   ],
   "source": [
    "# let us see order of new columns\n",
    "remainder = original_columns\n",
    "for column in missing_cols:\n",
    "    remainder.remove(column)\n",
    "\n",
    "remainder"
   ]
  },
  {
   "cell_type": "code",
   "execution_count": 53,
   "metadata": {
    "ExecuteTime": {
     "end_time": "2022-09-20T01:06:48.590742Z",
     "start_time": "2022-09-20T01:06:48.579775Z"
    },
    "colab": {
     "base_uri": "https://localhost:8080/"
    },
    "executionInfo": {
     "elapsed": 201,
     "status": "ok",
     "timestamp": 1663616822387,
     "user": {
      "displayName": "Kyungseob Shim",
      "userId": "04167791068819005440"
     },
     "user_tz": 300
    },
    "id": "IaYuCcnhmV0O",
    "outputId": "ace3e89c-e1ec-4802-9fc3-03a04e26cce3"
   },
   "outputs": [
    {
     "data": {
      "text/plain": [
       "['Age',\n",
       " 'Tenure',\n",
       " 'Balance',\n",
       " 'NumOfProducts',\n",
       " 'CreditScore',\n",
       " 'Geography',\n",
       " 'Gender',\n",
       " 'HasCrCard',\n",
       " 'IsActiveMember',\n",
       " 'EstimatedSalary']"
      ]
     },
     "execution_count": 53,
     "metadata": {},
     "output_type": "execute_result"
    }
   ],
   "source": [
    "# in the ColumnTransformer , we first passed missing_cols followed by remainder\n",
    "# so the order of the output will be missing_cols followed by remainder cols\n",
    "new_columns = missing_cols + remainder\n",
    "new_columns"
   ]
  },
  {
   "cell_type": "code",
   "execution_count": 54,
   "metadata": {
    "ExecuteTime": {
     "end_time": "2022-09-20T01:06:50.613228Z",
     "start_time": "2022-09-20T01:06:50.606226Z"
    },
    "executionInfo": {
     "elapsed": 307,
     "status": "ok",
     "timestamp": 1663616866190,
     "user": {
      "displayName": "Kyungseob Shim",
      "userId": "04167791068819005440"
     },
     "user_tz": 300
    },
    "id": "vSm8MLkMnBZH"
   },
   "outputs": [],
   "source": [
    "X_train_sklearn = pd.DataFrame(X_train_sklearn, columns = new_columns)"
   ]
  },
  {
   "cell_type": "code",
   "execution_count": 55,
   "metadata": {
    "ExecuteTime": {
     "end_time": "2022-09-20T01:06:51.927886Z",
     "start_time": "2022-09-20T01:06:51.914921Z"
    },
    "executionInfo": {
     "elapsed": 506,
     "status": "ok",
     "timestamp": 1663616869175,
     "user": {
      "displayName": "Kyungseob Shim",
      "userId": "04167791068819005440"
     },
     "user_tz": 300
    },
    "id": "8aaY6Ox7p4ig"
   },
   "outputs": [],
   "source": [
    "X_valid_sklearn = pd.DataFrame(X_valid_sklearn, columns = new_columns)"
   ]
  },
  {
   "cell_type": "code",
   "execution_count": 56,
   "metadata": {
    "ExecuteTime": {
     "end_time": "2022-09-20T01:06:53.141984Z",
     "start_time": "2022-09-20T01:06:53.126998Z"
    },
    "colab": {
     "base_uri": "https://localhost:8080/",
     "height": 206
    },
    "executionInfo": {
     "elapsed": 219,
     "status": "ok",
     "timestamp": 1663616870208,
     "user": {
      "displayName": "Kyungseob Shim",
      "userId": "04167791068819005440"
     },
     "user_tz": 300
    },
    "id": "jjPV4Pi_nQuL",
    "outputId": "56744237-4f71-49c3-d6b2-fc172b33b7a8"
   },
   "outputs": [
    {
     "data": {
      "text/html": [
       "<div>\n",
       "<style scoped>\n",
       "    .dataframe tbody tr th:only-of-type {\n",
       "        vertical-align: middle;\n",
       "    }\n",
       "\n",
       "    .dataframe tbody tr th {\n",
       "        vertical-align: top;\n",
       "    }\n",
       "\n",
       "    .dataframe thead th {\n",
       "        text-align: right;\n",
       "    }\n",
       "</style>\n",
       "<table border=\"1\" class=\"dataframe\">\n",
       "  <thead>\n",
       "    <tr style=\"text-align: right;\">\n",
       "      <th></th>\n",
       "      <th>Age</th>\n",
       "      <th>Tenure</th>\n",
       "      <th>Balance</th>\n",
       "      <th>NumOfProducts</th>\n",
       "      <th>CreditScore</th>\n",
       "      <th>Geography</th>\n",
       "      <th>Gender</th>\n",
       "      <th>HasCrCard</th>\n",
       "      <th>IsActiveMember</th>\n",
       "      <th>EstimatedSalary</th>\n",
       "    </tr>\n",
       "  </thead>\n",
       "  <tbody>\n",
       "    <tr>\n",
       "      <th>0</th>\n",
       "      <td>34.0</td>\n",
       "      <td>5.0</td>\n",
       "      <td>0.0</td>\n",
       "      <td>2.0</td>\n",
       "      <td>779</td>\n",
       "      <td>Spain</td>\n",
       "      <td>Female</td>\n",
       "      <td>0</td>\n",
       "      <td>1</td>\n",
       "      <td>111676.63</td>\n",
       "    </tr>\n",
       "    <tr>\n",
       "      <th>1</th>\n",
       "      <td>26.0</td>\n",
       "      <td>1.0</td>\n",
       "      <td>77780.29</td>\n",
       "      <td>1.0</td>\n",
       "      <td>748</td>\n",
       "      <td>France</td>\n",
       "      <td>Female</td>\n",
       "      <td>0</td>\n",
       "      <td>1</td>\n",
       "      <td>183049.41</td>\n",
       "    </tr>\n",
       "    <tr>\n",
       "      <th>2</th>\n",
       "      <td>28.0</td>\n",
       "      <td>10.0</td>\n",
       "      <td>79562.98</td>\n",
       "      <td>1.0</td>\n",
       "      <td>651</td>\n",
       "      <td>France</td>\n",
       "      <td>Male</td>\n",
       "      <td>1</td>\n",
       "      <td>1</td>\n",
       "      <td>74687.37</td>\n",
       "    </tr>\n",
       "    <tr>\n",
       "      <th>3</th>\n",
       "      <td>44.0</td>\n",
       "      <td>2.0</td>\n",
       "      <td>117028.6</td>\n",
       "      <td>2.0</td>\n",
       "      <td>663</td>\n",
       "      <td>Germany</td>\n",
       "      <td>Male</td>\n",
       "      <td>0</td>\n",
       "      <td>1</td>\n",
       "      <td>144680.18</td>\n",
       "    </tr>\n",
       "    <tr>\n",
       "      <th>4</th>\n",
       "      <td>37.0</td>\n",
       "      <td>8.0</td>\n",
       "      <td>0.0</td>\n",
       "      <td>1.0</td>\n",
       "      <td>516</td>\n",
       "      <td>France</td>\n",
       "      <td>Male</td>\n",
       "      <td>1</td>\n",
       "      <td>0</td>\n",
       "      <td>101834.58</td>\n",
       "    </tr>\n",
       "  </tbody>\n",
       "</table>\n",
       "</div>"
      ],
      "text/plain": [
       "    Age Tenure   Balance NumOfProducts CreditScore Geography  Gender  \\\n",
       "0  34.0    5.0       0.0           2.0         779     Spain  Female   \n",
       "1  26.0    1.0  77780.29           1.0         748    France  Female   \n",
       "2  28.0   10.0  79562.98           1.0         651    France    Male   \n",
       "3  44.0    2.0  117028.6           2.0         663   Germany    Male   \n",
       "4  37.0    8.0       0.0           1.0         516    France    Male   \n",
       "\n",
       "  HasCrCard IsActiveMember EstimatedSalary  \n",
       "0         0              1       111676.63  \n",
       "1         0              1       183049.41  \n",
       "2         1              1        74687.37  \n",
       "3         0              1       144680.18  \n",
       "4         1              0       101834.58  "
      ]
     },
     "execution_count": 56,
     "metadata": {},
     "output_type": "execute_result"
    }
   ],
   "source": [
    "X_valid_sklearn.head()"
   ]
  },
  {
   "cell_type": "code",
   "execution_count": 57,
   "metadata": {
    "ExecuteTime": {
     "end_time": "2022-09-20T01:06:55.313132Z",
     "start_time": "2022-09-20T01:06:55.295186Z"
    },
    "colab": {
     "base_uri": "https://localhost:8080/",
     "height": 206
    },
    "executionInfo": {
     "elapsed": 225,
     "status": "ok",
     "timestamp": 1663616883691,
     "user": {
      "displayName": "Kyungseob Shim",
      "userId": "04167791068819005440"
     },
     "user_tz": 300
    },
    "id": "CsYaMTIgneNT",
    "outputId": "33b6e4c5-6a42-4d64-d8e8-1b9a924f2d29"
   },
   "outputs": [
    {
     "data": {
      "text/html": [
       "<div>\n",
       "<style scoped>\n",
       "    .dataframe tbody tr th:only-of-type {\n",
       "        vertical-align: middle;\n",
       "    }\n",
       "\n",
       "    .dataframe tbody tr th {\n",
       "        vertical-align: top;\n",
       "    }\n",
       "\n",
       "    .dataframe thead th {\n",
       "        text-align: right;\n",
       "    }\n",
       "</style>\n",
       "<table border=\"1\" class=\"dataframe\">\n",
       "  <thead>\n",
       "    <tr style=\"text-align: right;\">\n",
       "      <th></th>\n",
       "      <th>CreditScore</th>\n",
       "      <th>Geography</th>\n",
       "      <th>Gender</th>\n",
       "      <th>Age</th>\n",
       "      <th>Tenure</th>\n",
       "      <th>Balance</th>\n",
       "      <th>NumOfProducts</th>\n",
       "      <th>HasCrCard</th>\n",
       "      <th>IsActiveMember</th>\n",
       "      <th>EstimatedSalary</th>\n",
       "    </tr>\n",
       "  </thead>\n",
       "  <tbody>\n",
       "    <tr>\n",
       "      <th>2656</th>\n",
       "      <td>779</td>\n",
       "      <td>Spain</td>\n",
       "      <td>Female</td>\n",
       "      <td>34.0</td>\n",
       "      <td>5.0</td>\n",
       "      <td>0.00</td>\n",
       "      <td>2.0</td>\n",
       "      <td>0</td>\n",
       "      <td>1</td>\n",
       "      <td>111676.63</td>\n",
       "    </tr>\n",
       "    <tr>\n",
       "      <th>445</th>\n",
       "      <td>748</td>\n",
       "      <td>France</td>\n",
       "      <td>Female</td>\n",
       "      <td>26.0</td>\n",
       "      <td>1.0</td>\n",
       "      <td>77780.29</td>\n",
       "      <td>1.0</td>\n",
       "      <td>0</td>\n",
       "      <td>1</td>\n",
       "      <td>183049.41</td>\n",
       "    </tr>\n",
       "    <tr>\n",
       "      <th>9505</th>\n",
       "      <td>651</td>\n",
       "      <td>France</td>\n",
       "      <td>Male</td>\n",
       "      <td>28.0</td>\n",
       "      <td>10.0</td>\n",
       "      <td>79562.98</td>\n",
       "      <td>1.0</td>\n",
       "      <td>1</td>\n",
       "      <td>1</td>\n",
       "      <td>74687.37</td>\n",
       "    </tr>\n",
       "    <tr>\n",
       "      <th>332</th>\n",
       "      <td>663</td>\n",
       "      <td>Germany</td>\n",
       "      <td>Male</td>\n",
       "      <td>44.0</td>\n",
       "      <td>2.0</td>\n",
       "      <td>117028.60</td>\n",
       "      <td>2.0</td>\n",
       "      <td>0</td>\n",
       "      <td>1</td>\n",
       "      <td>144680.18</td>\n",
       "    </tr>\n",
       "    <tr>\n",
       "      <th>4168</th>\n",
       "      <td>516</td>\n",
       "      <td>France</td>\n",
       "      <td>Male</td>\n",
       "      <td>37.0</td>\n",
       "      <td>8.0</td>\n",
       "      <td>0.00</td>\n",
       "      <td>1.0</td>\n",
       "      <td>1</td>\n",
       "      <td>0</td>\n",
       "      <td>101834.58</td>\n",
       "    </tr>\n",
       "  </tbody>\n",
       "</table>\n",
       "</div>"
      ],
      "text/plain": [
       "      CreditScore Geography  Gender   Age  Tenure    Balance  NumOfProducts  \\\n",
       "2656          779     Spain  Female  34.0     5.0       0.00            2.0   \n",
       "445           748    France  Female  26.0     1.0   77780.29            1.0   \n",
       "9505          651    France    Male  28.0    10.0   79562.98            1.0   \n",
       "332           663   Germany    Male  44.0     2.0  117028.60            2.0   \n",
       "4168          516    France    Male  37.0     8.0       0.00            1.0   \n",
       "\n",
       "     HasCrCard IsActiveMember  EstimatedSalary  \n",
       "2656         0              1        111676.63  \n",
       "445          0              1        183049.41  \n",
       "9505         1              1         74687.37  \n",
       "332          0              1        144680.18  \n",
       "4168         1              0        101834.58  "
      ]
     },
     "execution_count": 57,
     "metadata": {},
     "output_type": "execute_result"
    }
   ],
   "source": [
    "X_valid.head()"
   ]
  },
  {
   "cell_type": "markdown",
   "metadata": {
    "id": "vWWgKLMSncLZ"
   },
   "source": [
    "- **The above example clearly demonstrates that ColumnTransformer has changed the order of the columns**"
   ]
  },
  {
   "cell_type": "code",
   "execution_count": 58,
   "metadata": {
    "ExecuteTime": {
     "end_time": "2022-09-20T01:06:57.053073Z",
     "start_time": "2022-09-20T01:06:57.044100Z"
    },
    "colab": {
     "base_uri": "https://localhost:8080/"
    },
    "executionInfo": {
     "elapsed": 431,
     "status": "ok",
     "timestamp": 1663616900580,
     "user": {
      "displayName": "Kyungseob Shim",
      "userId": "04167791068819005440"
     },
     "user_tz": 300
    },
    "id": "90I9HV3-xy6N",
    "outputId": "65b5c68b-ac94-41f1-9f9f-d463f273cd8c"
   },
   "outputs": [
    {
     "data": {
      "text/plain": [
       "Age                False\n",
       "Tenure             False\n",
       "Balance            False\n",
       "NumOfProducts      False\n",
       "CreditScore        False\n",
       "Geography          False\n",
       "Gender             False\n",
       "HasCrCard          False\n",
       "IsActiveMember     False\n",
       "EstimatedSalary    False\n",
       "dtype: bool"
      ]
     },
     "execution_count": 58,
     "metadata": {},
     "output_type": "execute_result"
    }
   ],
   "source": [
    "# Let's check the null values in our new dataframe\n",
    "\n",
    "X_train_sklearn.isna().any()"
   ]
  },
  {
   "cell_type": "code",
   "execution_count": 59,
   "metadata": {
    "ExecuteTime": {
     "end_time": "2022-09-20T01:06:58.903194Z",
     "start_time": "2022-09-20T01:06:58.891227Z"
    },
    "colab": {
     "base_uri": "https://localhost:8080/"
    },
    "executionInfo": {
     "elapsed": 6,
     "status": "ok",
     "timestamp": 1663616902802,
     "user": {
      "displayName": "Kyungseob Shim",
      "userId": "04167791068819005440"
     },
     "user_tz": 300
    },
    "id": "Mu8yPHWHpysI",
    "outputId": "946ee1b3-1a23-4ea0-a9fd-02fd2f3f49bf"
   },
   "outputs": [
    {
     "data": {
      "text/plain": [
       "Age                False\n",
       "Tenure             False\n",
       "Balance            False\n",
       "NumOfProducts      False\n",
       "CreditScore        False\n",
       "Geography          False\n",
       "Gender             False\n",
       "HasCrCard          False\n",
       "IsActiveMember     False\n",
       "EstimatedSalary    False\n",
       "dtype: bool"
      ]
     },
     "execution_count": 59,
     "metadata": {},
     "output_type": "execute_result"
    }
   ],
   "source": [
    "X_valid_sklearn.isna().any()"
   ]
  },
  {
   "cell_type": "markdown",
   "metadata": {
    "id": "nPVm9n5vy0Qh"
   },
   "source": [
    "This confirms that there are no missing values in the data now."
   ]
  },
  {
   "cell_type": "markdown",
   "metadata": {
    "id": "mWRtahjXz5tT"
   },
   "source": [
    "#### <font color = 'pickle'>**Median Imputation using Feature engine**\n",
    "We will now demonstrate how to impute missing values with median using Feature-engine Library.\n",
    "\n",
    "**For other imputation methods, refer to the following link: https://feature-engine.readthedocs.io/en/1.1.x/imputation/index.html**"
   ]
  },
  {
   "cell_type": "markdown",
   "metadata": {
    "id": "WjZlpV8x3ptJ"
   },
   "source": [
    "**MeanMedianImputation in Feature engine**\n",
    "\n",
    "**Syntax**\n",
    "```\n",
    "feature_engine.imputation.MeanMedianImputer(imputation_method='median', variables=None)\n",
    "```\n",
    "where,\n",
    "* The MeanMedianImputer() replaces missing data by the mean or median value of the variable. \n",
    "* It works only with numerical variables.\n",
    "* We can pass a list of variables to be imputed."
   ]
  },
  {
   "cell_type": "code",
   "execution_count": 60,
   "metadata": {
    "ExecuteTime": {
     "end_time": "2022-09-20T01:07:00.893204Z",
     "start_time": "2022-09-20T01:07:00.870293Z"
    },
    "executionInfo": {
     "elapsed": 4,
     "status": "ok",
     "timestamp": 1663617126647,
     "user": {
      "displayName": "Kyungseob Shim",
      "userId": "04167791068819005440"
     },
     "user_tz": 300
    },
    "id": "_owwe5E-4wB1"
   },
   "outputs": [],
   "source": [
    "# object for  MeanMedianImputer()\n",
    "feature_imputer = MeanMedianImputer(imputation_method='median', variables = missing_cols)\n",
    "\n",
    "# first calculates the mean / median values of the variables (fit)\n",
    "feature_imputer.fit(X_train)\n",
    "\n",
    "# Then replaces the missing data with the estimated mean / median (transform)\n",
    "X_train_fe = feature_imputer.transform(X_train)\n",
    "X_valid_fe = feature_imputer.transform(X_valid)"
   ]
  },
  {
   "cell_type": "code",
   "execution_count": 61,
   "metadata": {
    "ExecuteTime": {
     "end_time": "2022-09-20T01:07:02.226901Z",
     "start_time": "2022-09-20T01:07:02.214934Z"
    },
    "colab": {
     "base_uri": "https://localhost:8080/"
    },
    "executionInfo": {
     "elapsed": 253,
     "status": "ok",
     "timestamp": 1663617128701,
     "user": {
      "displayName": "Kyungseob Shim",
      "userId": "04167791068819005440"
     },
     "user_tz": 300
    },
    "id": "SefatekogPZa",
    "outputId": "a8bc0470-1aee-48fd-9794-1bae4aede319"
   },
   "outputs": [
    {
     "name": "stdout",
     "output_type": "stream",
     "text": [
      "<class 'pandas.core.frame.DataFrame'>\n"
     ]
    }
   ],
   "source": [
    "# check the type of X_train\n",
    "print(type(X_train_fe))"
   ]
  },
  {
   "cell_type": "code",
   "execution_count": 62,
   "metadata": {
    "ExecuteTime": {
     "end_time": "2022-09-20T01:07:04.230069Z",
     "start_time": "2022-09-20T01:07:04.218105Z"
    },
    "colab": {
     "base_uri": "https://localhost:8080/",
     "height": 206
    },
    "executionInfo": {
     "elapsed": 181,
     "status": "ok",
     "timestamp": 1663617131769,
     "user": {
      "displayName": "Kyungseob Shim",
      "userId": "04167791068819005440"
     },
     "user_tz": 300
    },
    "id": "wnD9l47yrzqi",
    "outputId": "79053ca9-ae1e-4552-e2f2-066b5f4cdb06"
   },
   "outputs": [
    {
     "data": {
      "text/html": [
       "<div>\n",
       "<style scoped>\n",
       "    .dataframe tbody tr th:only-of-type {\n",
       "        vertical-align: middle;\n",
       "    }\n",
       "\n",
       "    .dataframe tbody tr th {\n",
       "        vertical-align: top;\n",
       "    }\n",
       "\n",
       "    .dataframe thead th {\n",
       "        text-align: right;\n",
       "    }\n",
       "</style>\n",
       "<table border=\"1\" class=\"dataframe\">\n",
       "  <thead>\n",
       "    <tr style=\"text-align: right;\">\n",
       "      <th></th>\n",
       "      <th>CreditScore</th>\n",
       "      <th>Geography</th>\n",
       "      <th>Gender</th>\n",
       "      <th>Age</th>\n",
       "      <th>Tenure</th>\n",
       "      <th>Balance</th>\n",
       "      <th>NumOfProducts</th>\n",
       "      <th>HasCrCard</th>\n",
       "      <th>IsActiveMember</th>\n",
       "      <th>EstimatedSalary</th>\n",
       "    </tr>\n",
       "  </thead>\n",
       "  <tbody>\n",
       "    <tr>\n",
       "      <th>2656</th>\n",
       "      <td>779</td>\n",
       "      <td>Spain</td>\n",
       "      <td>Female</td>\n",
       "      <td>34.0</td>\n",
       "      <td>5.0</td>\n",
       "      <td>0.00</td>\n",
       "      <td>2.0</td>\n",
       "      <td>0</td>\n",
       "      <td>1</td>\n",
       "      <td>111676.63</td>\n",
       "    </tr>\n",
       "    <tr>\n",
       "      <th>445</th>\n",
       "      <td>748</td>\n",
       "      <td>France</td>\n",
       "      <td>Female</td>\n",
       "      <td>26.0</td>\n",
       "      <td>1.0</td>\n",
       "      <td>77780.29</td>\n",
       "      <td>1.0</td>\n",
       "      <td>0</td>\n",
       "      <td>1</td>\n",
       "      <td>183049.41</td>\n",
       "    </tr>\n",
       "    <tr>\n",
       "      <th>9505</th>\n",
       "      <td>651</td>\n",
       "      <td>France</td>\n",
       "      <td>Male</td>\n",
       "      <td>28.0</td>\n",
       "      <td>10.0</td>\n",
       "      <td>79562.98</td>\n",
       "      <td>1.0</td>\n",
       "      <td>1</td>\n",
       "      <td>1</td>\n",
       "      <td>74687.37</td>\n",
       "    </tr>\n",
       "    <tr>\n",
       "      <th>332</th>\n",
       "      <td>663</td>\n",
       "      <td>Germany</td>\n",
       "      <td>Male</td>\n",
       "      <td>44.0</td>\n",
       "      <td>2.0</td>\n",
       "      <td>117028.60</td>\n",
       "      <td>2.0</td>\n",
       "      <td>0</td>\n",
       "      <td>1</td>\n",
       "      <td>144680.18</td>\n",
       "    </tr>\n",
       "    <tr>\n",
       "      <th>4168</th>\n",
       "      <td>516</td>\n",
       "      <td>France</td>\n",
       "      <td>Male</td>\n",
       "      <td>37.0</td>\n",
       "      <td>8.0</td>\n",
       "      <td>0.00</td>\n",
       "      <td>1.0</td>\n",
       "      <td>1</td>\n",
       "      <td>0</td>\n",
       "      <td>101834.58</td>\n",
       "    </tr>\n",
       "  </tbody>\n",
       "</table>\n",
       "</div>"
      ],
      "text/plain": [
       "      CreditScore Geography  Gender   Age  Tenure    Balance  NumOfProducts  \\\n",
       "2656          779     Spain  Female  34.0     5.0       0.00            2.0   \n",
       "445           748    France  Female  26.0     1.0   77780.29            1.0   \n",
       "9505          651    France    Male  28.0    10.0   79562.98            1.0   \n",
       "332           663   Germany    Male  44.0     2.0  117028.60            2.0   \n",
       "4168          516    France    Male  37.0     8.0       0.00            1.0   \n",
       "\n",
       "     HasCrCard IsActiveMember  EstimatedSalary  \n",
       "2656         0              1        111676.63  \n",
       "445          0              1        183049.41  \n",
       "9505         1              1         74687.37  \n",
       "332          0              1        144680.18  \n",
       "4168         1              0        101834.58  "
      ]
     },
     "execution_count": 62,
     "metadata": {},
     "output_type": "execute_result"
    }
   ],
   "source": [
    "# let us check the head()\n",
    "X_valid_fe.head()"
   ]
  },
  {
   "cell_type": "code",
   "execution_count": 63,
   "metadata": {
    "ExecuteTime": {
     "end_time": "2022-09-20T01:07:06.020105Z",
     "start_time": "2022-09-20T01:07:05.999651Z"
    },
    "colab": {
     "base_uri": "https://localhost:8080/"
    },
    "executionInfo": {
     "elapsed": 179,
     "status": "ok",
     "timestamp": 1663617144503,
     "user": {
      "displayName": "Kyungseob Shim",
      "userId": "04167791068819005440"
     },
     "user_tz": 300
    },
    "id": "DIiJKHJpr5eD",
    "outputId": "7a5d74ce-cd5d-4d30-ac16-6161275cf626"
   },
   "outputs": [
    {
     "data": {
      "text/plain": [
       "CreditScore        False\n",
       "Geography          False\n",
       "Gender             False\n",
       "Age                False\n",
       "Tenure             False\n",
       "Balance            False\n",
       "NumOfProducts      False\n",
       "HasCrCard          False\n",
       "IsActiveMember     False\n",
       "EstimatedSalary    False\n",
       "dtype: bool"
      ]
     },
     "execution_count": 63,
     "metadata": {},
     "output_type": "execute_result"
    }
   ],
   "source": [
    "# Let's check the null values in our new dataframe\n",
    "\n",
    "X_train_fe.isna().any()"
   ]
  },
  {
   "cell_type": "code",
   "execution_count": 64,
   "metadata": {
    "ExecuteTime": {
     "end_time": "2022-09-20T01:07:07.438083Z",
     "start_time": "2022-09-20T01:07:07.419326Z"
    },
    "colab": {
     "base_uri": "https://localhost:8080/"
    },
    "executionInfo": {
     "elapsed": 547,
     "status": "ok",
     "timestamp": 1663617148056,
     "user": {
      "displayName": "Kyungseob Shim",
      "userId": "04167791068819005440"
     },
     "user_tz": 300
    },
    "id": "-RVyzDupuawd",
    "outputId": "fbcdb02b-d369-4cbb-f2d1-db3e1798bfc2"
   },
   "outputs": [
    {
     "data": {
      "text/plain": [
       "CreditScore        False\n",
       "Geography          False\n",
       "Gender             False\n",
       "Age                False\n",
       "Tenure             False\n",
       "Balance            False\n",
       "NumOfProducts      False\n",
       "HasCrCard          False\n",
       "IsActiveMember     False\n",
       "EstimatedSalary    False\n",
       "dtype: bool"
      ]
     },
     "execution_count": 64,
     "metadata": {},
     "output_type": "execute_result"
    }
   ],
   "source": [
    "X_valid_fe.isna().any()"
   ]
  },
  {
   "cell_type": "markdown",
   "metadata": {
    "id": "f5slnGNiJsZW"
   },
   "source": [
    "**Advantages of Feature-engine over sklearn**\n",
    "\n",
    "- Output after imputation is a pandas Dataframe and not a numpy array\n",
    "- It is easier to specify variables for which we want to apply transformation.\n",
    "- Column order does not change\n",
    "\n"
   ]
  },
  {
   "cell_type": "markdown",
   "metadata": {
    "id": "QbQ7CjrhI_b6"
   },
   "source": [
    "## <font color = 'pickle'>**Transforming Numerical Variables**\n",
    "- We can handle skewness by transformation of numerical variables\n"
   ]
  },
  {
   "cell_type": "code",
   "execution_count": 65,
   "metadata": {
    "ExecuteTime": {
     "end_time": "2022-09-20T01:07:09.365289Z",
     "start_time": "2022-09-20T01:07:09.359307Z"
    },
    "colab": {
     "base_uri": "https://localhost:8080/"
    },
    "executionInfo": {
     "elapsed": 208,
     "status": "ok",
     "timestamp": 1663617356867,
     "user": {
      "displayName": "Kyungseob Shim",
      "userId": "04167791068819005440"
     },
     "user_tz": 300
    },
    "id": "FscFna4bS7sf",
    "outputId": "29c9cc96-758b-468c-c8a0-5b900e74535f"
   },
   "outputs": [
    {
     "data": {
      "text/plain": [
       "['Age', 'CreditScore']"
      ]
     },
     "execution_count": 65,
     "metadata": {},
     "output_type": "execute_result"
    }
   ],
   "source": [
    "transformation_needed = ['Age', 'CreditScore']\n",
    "transformation_needed"
   ]
  },
  {
   "cell_type": "code",
   "execution_count": 66,
   "metadata": {
    "ExecuteTime": {
     "end_time": "2022-09-20T01:07:11.223745Z",
     "start_time": "2022-09-20T01:07:10.610515Z"
    },
    "colab": {
     "base_uri": "https://localhost:8080/",
     "height": 573
    },
    "executionInfo": {
     "elapsed": 984,
     "status": "ok",
     "timestamp": 1663617359677,
     "user": {
      "displayName": "Kyungseob Shim",
      "userId": "04167791068819005440"
     },
     "user_tz": 300
    },
    "id": "-_97gjHwSVil",
    "outputId": "ffaf9db4-1272-4d8c-b84a-ee8ff1758803"
   },
   "outputs": [
    {
     "data": {
      "image/png": "[encoded data removed]",
      "text/plain": [
       "<Figure size 1152x288 with 3 Axes>"
      ]
     },
     "metadata": {
      "needs_background": "light"
     },
     "output_type": "display_data"
    },
    {
     "data": {
      "image/png": "[encoded data removed]",
      "text/plain": [
       "<Figure size 1152x288 with 3 Axes>"
      ]
     },
     "metadata": {
      "needs_background": "light"
     },
     "output_type": "display_data"
    }
   ],
   "source": [
    "# figures for X_train\n",
    "for variable in transformation_needed:\n",
    "    diagnostic_plots(X_train_fe, variable)"
   ]
  },
  {
   "cell_type": "code",
   "execution_count": 67,
   "metadata": {
    "ExecuteTime": {
     "end_time": "2022-09-20T01:07:13.939015Z",
     "start_time": "2022-09-20T01:07:13.214502Z"
    },
    "colab": {
     "base_uri": "https://localhost:8080/",
     "height": 573
    },
    "executionInfo": {
     "elapsed": 1218,
     "status": "ok",
     "timestamp": 1663617364384,
     "user": {
      "displayName": "Kyungseob Shim",
      "userId": "04167791068819005440"
     },
     "user_tz": 300
    },
    "id": "FJGiyfJ8hJ2F",
    "outputId": "20d17429-ef48-4341-e851-a8ce5ded0030"
   },
   "outputs": [
    {
     "data": {
      "image/png": "[encoded data removed]",
      "text/plain": [
       "<Figure size 1152x288 with 3 Axes>"
      ]
     },
     "metadata": {
      "needs_background": "light"
     },
     "output_type": "display_data"
    },
    {
     "data": {
      "image/png": "[encoded data removed]",
      "text/plain": [
       "<Figure size 1152x288 with 3 Axes>"
      ]
     },
     "metadata": {
      "needs_background": "light"
     },
     "output_type": "display_data"
    }
   ],
   "source": [
    "# figures for X_valid\n",
    "for variable in transformation_needed:\n",
    "    diagnostic_plots(X_valid_fe, variable)"
   ]
  },
  {
   "cell_type": "markdown",
   "metadata": {
    "id": "UY7tlYa7DHTA"
   },
   "source": [
    "<font color = 'indianred'>**Transforming Numerical Variables** <br>\n",
    "\n",
    "Following transformations are common:\n",
    " * Logarithmic Transformation\n",
    "> The logarithm function is commonly used to transform variables. It only works with non-negative numerical values.\n",
    " * Reciprocal Transformation\n",
    ">The reciprocal function is defined as 1/x. We cannot apply this transformation if the data has zero values.\n",
    "\n",
    " * Power Transformations\n",
    "> Exponential or power functions are mathematical transformations that follow $X_t = X^l$,\n",
    "where $l$ can be any exponent. $l = 1/2$ will give square root transformation. It is a good practice to try \n",
    "different values of $l$ to determine the value of $l$, which will give the best transformation. We can check the transformations using Q-Q plots\n",
    " * Box-Cox Transformation \n",
    "> The Box-Cox transformation is defined by \n",
    "\n",
    " > <img src =\"https://drive.google.com/uc?export=view&id=1c6XhA5OTH8xUjtQ2fdlS1BPuzV9Ay8PB\" width = 300>\n",
    "\n",
    "\n",
    "\n",
    "\n",
    "image source: https://www.stat.umn.edu/arc/yjpower.pdf\n",
    "\n",
    " Here again . we choose that value of lambda that provides best approximation of normal distribution. The BoxCoxTransformer() works only with numerical positive variables (>=0, the transformer also works for zero values).\n",
    " * Yeo-Johnson Transformation \n",
    " > Yeo-Johnson Transformation is defined by \n",
    "  > <img src = \"https://drive.google.com/uc?export=view&id=1WYIb8USiVDXgC7oyDEdfyVC2jNj7ZQ-w\" width = 500>\n",
    "\n",
    "image source: https://www.stat.umn.edu/arc/yjpower.pdf)\n",
    "\n",
    " . This transformation works for positive, zero as well as negative values. It is a variation of box-cox that works with negative values as well.\n",
    "\n"
   ]
  },
  {
   "cell_type": "markdown",
   "metadata": {
    "id": "owqt16s4Yo5U"
   },
   "source": [
    "### <font color = 'pickle'>**Yeo-Johnson Transformation using Feature Engine**\n",
    "\n",
    "We will demonstarte Yeo-Johnson Transformation.\n",
    "\n",
    "**For the syntax of other transformations refer to the link : https://feature-engine.readthedocs.io/en/1.1.x/transformation/index.html**"
   ]
  },
  {
   "cell_type": "code",
   "execution_count": 68,
   "metadata": {
    "ExecuteTime": {
     "end_time": "2022-09-20T01:10:11.305754Z",
     "start_time": "2022-09-20T01:10:11.258854Z"
    },
    "executionInfo": {
     "elapsed": 176,
     "status": "ok",
     "timestamp": 1663617412630,
     "user": {
      "displayName": "Kyungseob Shim",
      "userId": "04167791068819005440"
     },
     "user_tz": 300
    },
    "id": "OdtiCsvoDnJo"
   },
   "outputs": [],
   "source": [
    "from feature_engine import transformation as vt\n",
    "yjt = vt.YeoJohnsonTransformer(variables = transformation_needed)\n",
    "# fit the transformer\n",
    "yjt.fit(X_train_fe)\n",
    "\n",
    "# transform the data\n",
    "X_train_fe = yjt.transform(X_train_fe)\n",
    "X_valid_fe = yjt.transform(X_valid_fe)"
   ]
  },
  {
   "cell_type": "code",
   "execution_count": 69,
   "metadata": {
    "ExecuteTime": {
     "end_time": "2022-09-20T01:10:13.421615Z",
     "start_time": "2022-09-20T01:10:12.733714Z"
    },
    "colab": {
     "base_uri": "https://localhost:8080/",
     "height": 573
    },
    "executionInfo": {
     "elapsed": 829,
     "status": "ok",
     "timestamp": 1663617416351,
     "user": {
      "displayName": "Kyungseob Shim",
      "userId": "04167791068819005440"
     },
     "user_tz": 300
    },
    "id": "gxnTj1mFwxE5",
    "outputId": "de7cdfec-2128-4761-fb68-02740b8bc885"
   },
   "outputs": [
    {
     "data": {
      "image/png": "[encoded data removed]",
      "text/plain": [
       "<Figure size 1152x288 with 3 Axes>"
      ]
     },
     "metadata": {
      "needs_background": "light"
     },
     "output_type": "display_data"
    },
    {
     "data": {
      "image/png": "[encoded data removed]",
      "text/plain": [
       "<Figure size 1152x288 with 3 Axes>"
      ]
     },
     "metadata": {
      "needs_background": "light"
     },
     "output_type": "display_data"
    }
   ],
   "source": [
    "# figures for X_train\n",
    "for variable in transformation_needed:\n",
    "    diagnostic_plots(X_train_fe, variable)"
   ]
  },
  {
   "cell_type": "markdown",
   "metadata": {
    "id": "HnD3glR4pK9J"
   },
   "source": [
    "## <font color = 'pickle'>**Encoding Categorical Variables**</font>\n",
    "\n"
   ]
  },
  {
   "cell_type": "markdown",
   "metadata": {
    "id": "TK9VoH1KH-gF"
   },
   "source": [
    "<font color = 'indianred'>**One-hot encoding**\n",
    "\n",
    " >* In one-hot encoding, we create a binary variable for each category.\n",
    "* Binary variables are also called dummy variables\n",
    "* The binary variable has two values = 0 and 1. 1 indicates that category is present in observation, and 0 indicates that category is not present in an observation. \n",
    "* The following table shows the one-hot encoded representation of colors red, green, and blue:\n",
    "\n",
    "><table>\n",
    "<tr>\n",
    "<th>Color</th>\n",
    "<th>dummy_Red</th>\n",
    "<th>dummy_Green</th>\n",
    "<th>dummy_Blue</th>\n",
    "</tr>\n",
    "<tr>\n",
    "<td>Red</td>\n",
    "<td>1</td>\n",
    "<td>0</td>\n",
    "<td>0</td>\n",
    "</tr>\n",
    "<tr>\n",
    "<td>Green</td>\n",
    "<td>0</td>\n",
    "<td>1</td>\n",
    "<td>0</td>\n",
    "</tr>\n",
    "<tr>\n",
    "<td>Blue</td>\n",
    "<td>0</td>\n",
    "<td>0</td>\n",
    "<td>1</td>\n",
    "</tr>\n",
    "</table>\n",
    "\n",
    "- As shown in the table above, we derived three binary variables for three categories. Red takes the value of 1 when the color is red and 0 otherwise. Similarly, Blue and green take the value of 1 when the color is blue and green, respectively.<br>\n",
    "- A categorical variable with `n` unique categories can be encoded using `n-1` binary (dummy) variables. In the above example, we have three categories, and so we need only two dummy variables to represent the colors. Let us say we dropped the last dummy variable, dummy_Blue. We can use dummy_Red, dummy_green to represent all three colors. \n",
    "\n",
    "- dummy_Red =1, dummy_Green = 0 will represent Red Color\n",
    "- dummy_Red =0, dummy_Green = 1 will represent Green Color\n",
    "- dummy_Red =0, dummy_Green = 0 will represent Blue Color\n",
    "<br>\n",
    "\n",
    "<font color = 'indianred'>**For most algorithms, we will create `n-1` dummies if there are `n` categories except for tree-based algorithms such as decision tree, random forest**, etc. The tree-based algorithms we can create `n` dummies as these models do not consider all the features at the same time. </font>\n",
    "\n",
    "**Summary Categorical Encoding Methods**\n",
    " <img src =\"https://drive.google.com/uc?export=view&id=1U1ly_emaQGwxgXvRz0I7QdFpNLFN94E7\" width = 1800 >"
   ]
  },
  {
   "cell_type": "markdown",
   "metadata": {
    "id": "BE59GPQN7rid"
   },
   "source": [
    "###<font color = 'pickle'> **One Hot Encoding Feature Engine**\n",
    "We will now demonstrate One Hot Encoding. **For syntax of other encoding methods refer to the link: https://feature-engine.readthedocs.io/en/1.1.x/encoding/index.html**\n",
    "\n",
    "\n",
    "* **Syntax** :\n",
    "\n",
    "\n",
    "```\n",
    "ohe_enc = OneHotEncoder(variables\n",
    "    top_categories=None,\n",
    "    drop_last=True) \n",
    "\n",
    "```\n",
    "* By mentioning the drop_last = True will give us k-1 columns from the categorical variables\n",
    "* i.e if we have 5 different categorical variables we will get 4 different columns(i.e 5-1)\n",
    "* and if we mention drop_last = False then we will get 5 different columns\n",
    "\n",
    "\n"
   ]
  },
  {
   "cell_type": "code",
   "execution_count": 70,
   "metadata": {
    "ExecuteTime": {
     "end_time": "2022-09-20T01:10:15.691291Z",
     "start_time": "2022-09-20T01:10:15.672368Z"
    },
    "colab": {
     "base_uri": "https://localhost:8080/"
    },
    "executionInfo": {
     "elapsed": 230,
     "status": "ok",
     "timestamp": 1663617700165,
     "user": {
      "displayName": "Kyungseob Shim",
      "userId": "04167791068819005440"
     },
     "user_tz": 300
    },
    "id": "-sSg9OOQMXA6",
    "outputId": "52acdab6-81ed-4d5d-9e7b-3926f2c10965"
   },
   "outputs": [
    {
     "data": {
      "text/plain": [
       "['Geography', 'Gender', 'HasCrCard', 'IsActiveMember']"
      ]
     },
     "execution_count": 70,
     "metadata": {},
     "output_type": "execute_result"
    }
   ],
   "source": [
    "# Let's get a categorical column names\n",
    "categorical"
   ]
  },
  {
   "cell_type": "markdown",
   "metadata": {
    "id": "_IVItDAYbxtI"
   },
   "source": [
    "- We will first initialize the object with OneHotEncoder \n",
    "- Since we want to convert  all the categorical variables we will mention variables = categorical."
   ]
  },
  {
   "cell_type": "code",
   "execution_count": 71,
   "metadata": {
    "ExecuteTime": {
     "end_time": "2022-09-20T01:10:17.176864Z",
     "start_time": "2022-09-20T01:10:17.167928Z"
    },
    "executionInfo": {
     "elapsed": 310,
     "status": "ok",
     "timestamp": 1663617869038,
     "user": {
      "displayName": "Kyungseob Shim",
      "userId": "04167791068819005440"
     },
     "user_tz": 300
    },
    "id": "KUVpEdd5dI7T"
   },
   "outputs": [],
   "source": [
    "# Importing the OneHotEncoder from the feature_engine\n",
    "from feature_engine.encoding import OneHotEncoder\n",
    "ohe = OneHotEncoder(variables=categorical,\n",
    "      drop_last= True)"
   ]
  },
  {
   "cell_type": "code",
   "execution_count": 72,
   "metadata": {
    "ExecuteTime": {
     "end_time": "2022-09-20T01:10:18.579861Z",
     "start_time": "2022-09-20T01:10:18.548944Z"
    },
    "executionInfo": {
     "elapsed": 2,
     "status": "ok",
     "timestamp": 1663617871582,
     "user": {
      "displayName": "Kyungseob Shim",
      "userId": "04167791068819005440"
     },
     "user_tz": 300
    },
    "id": "MY59U3MMd4vN"
   },
   "outputs": [],
   "source": [
    "# fit_transform on train\n",
    "X_train_fe = ohe.fit_transform(X_train_fe)"
   ]
  },
  {
   "cell_type": "code",
   "execution_count": 73,
   "metadata": {
    "ExecuteTime": {
     "end_time": "2022-09-20T01:10:19.641207Z",
     "start_time": "2022-09-20T01:10:19.620263Z"
    },
    "executionInfo": {
     "elapsed": 619,
     "status": "ok",
     "timestamp": 1663617873443,
     "user": {
      "displayName": "Kyungseob Shim",
      "userId": "04167791068819005440"
     },
     "user_tz": 300
    },
    "id": "7gTockOQQkvi"
   },
   "outputs": [],
   "source": [
    "# only transform on test/validation \n",
    "X_valid_fe = ohe.transform(X_valid_fe)"
   ]
  },
  {
   "cell_type": "code",
   "execution_count": 74,
   "metadata": {
    "ExecuteTime": {
     "end_time": "2022-09-20T01:10:21.110472Z",
     "start_time": "2022-09-20T01:10:21.098504Z"
    },
    "colab": {
     "base_uri": "https://localhost:8080/",
     "height": 270
    },
    "executionInfo": {
     "elapsed": 193,
     "status": "ok",
     "timestamp": 1663617874640,
     "user": {
      "displayName": "Kyungseob Shim",
      "userId": "04167791068819005440"
     },
     "user_tz": 300
    },
    "id": "iQeJjlcQYAez",
    "outputId": "438207c5-d0e5-48b8-dd49-3b2b4e91bdcc"
   },
   "outputs": [
    {
     "data": {
      "text/html": [
       "<div>\n",
       "<style scoped>\n",
       "    .dataframe tbody tr th:only-of-type {\n",
       "        vertical-align: middle;\n",
       "    }\n",
       "\n",
       "    .dataframe tbody tr th {\n",
       "        vertical-align: top;\n",
       "    }\n",
       "\n",
       "    .dataframe thead th {\n",
       "        text-align: right;\n",
       "    }\n",
       "</style>\n",
       "<table border=\"1\" class=\"dataframe\">\n",
       "  <thead>\n",
       "    <tr style=\"text-align: right;\">\n",
       "      <th></th>\n",
       "      <th>CreditScore</th>\n",
       "      <th>Age</th>\n",
       "      <th>Tenure</th>\n",
       "      <th>Balance</th>\n",
       "      <th>NumOfProducts</th>\n",
       "      <th>EstimatedSalary</th>\n",
       "      <th>Geography_France</th>\n",
       "      <th>Geography_Spain</th>\n",
       "      <th>Gender_Female</th>\n",
       "      <th>HasCrCard_0</th>\n",
       "      <th>IsActiveMember_0</th>\n",
       "    </tr>\n",
       "  </thead>\n",
       "  <tbody>\n",
       "    <tr>\n",
       "      <th>2656</th>\n",
       "      <td>1756.406169</td>\n",
       "      <td>2.367584</td>\n",
       "      <td>5.0</td>\n",
       "      <td>0.00</td>\n",
       "      <td>2.0</td>\n",
       "      <td>111676.63</td>\n",
       "      <td>0</td>\n",
       "      <td>1</td>\n",
       "      <td>1</td>\n",
       "      <td>1</td>\n",
       "      <td>0</td>\n",
       "    </tr>\n",
       "    <tr>\n",
       "      <th>445</th>\n",
       "      <td>1676.882932</td>\n",
       "      <td>2.256071</td>\n",
       "      <td>1.0</td>\n",
       "      <td>77780.29</td>\n",
       "      <td>1.0</td>\n",
       "      <td>183049.41</td>\n",
       "      <td>1</td>\n",
       "      <td>0</td>\n",
       "      <td>1</td>\n",
       "      <td>1</td>\n",
       "      <td>0</td>\n",
       "    </tr>\n",
       "    <tr>\n",
       "      <th>9505</th>\n",
       "      <td>1431.141853</td>\n",
       "      <td>2.287492</td>\n",
       "      <td>10.0</td>\n",
       "      <td>79562.98</td>\n",
       "      <td>1.0</td>\n",
       "      <td>74687.37</td>\n",
       "      <td>1</td>\n",
       "      <td>0</td>\n",
       "      <td>0</td>\n",
       "      <td>0</td>\n",
       "      <td>0</td>\n",
       "    </tr>\n",
       "    <tr>\n",
       "      <th>332</th>\n",
       "      <td>1461.276897</td>\n",
       "      <td>2.468981</td>\n",
       "      <td>2.0</td>\n",
       "      <td>117028.60</td>\n",
       "      <td>2.0</td>\n",
       "      <td>144680.18</td>\n",
       "      <td>0</td>\n",
       "      <td>0</td>\n",
       "      <td>0</td>\n",
       "      <td>1</td>\n",
       "      <td>0</td>\n",
       "    </tr>\n",
       "    <tr>\n",
       "      <th>4168</th>\n",
       "      <td>1097.862930</td>\n",
       "      <td>2.401458</td>\n",
       "      <td>8.0</td>\n",
       "      <td>0.00</td>\n",
       "      <td>1.0</td>\n",
       "      <td>101834.58</td>\n",
       "      <td>1</td>\n",
       "      <td>0</td>\n",
       "      <td>0</td>\n",
       "      <td>0</td>\n",
       "      <td>1</td>\n",
       "    </tr>\n",
       "  </tbody>\n",
       "</table>\n",
       "</div>"
      ],
      "text/plain": [
       "      CreditScore       Age  Tenure    Balance  NumOfProducts  \\\n",
       "2656  1756.406169  2.367584     5.0       0.00            2.0   \n",
       "445   1676.882932  2.256071     1.0   77780.29            1.0   \n",
       "9505  1431.141853  2.287492    10.0   79562.98            1.0   \n",
       "332   1461.276897  2.468981     2.0  117028.60            2.0   \n",
       "4168  1097.862930  2.401458     8.0       0.00            1.0   \n",
       "\n",
       "      EstimatedSalary  Geography_France  Geography_Spain  Gender_Female  \\\n",
       "2656        111676.63                 0                1              1   \n",
       "445         183049.41                 1                0              1   \n",
       "9505         74687.37                 1                0              0   \n",
       "332         144680.18                 0                0              0   \n",
       "4168        101834.58                 1                0              0   \n",
       "\n",
       "      HasCrCard_0  IsActiveMember_0  \n",
       "2656            1                 0  \n",
       "445             1                 0  \n",
       "9505            0                 0  \n",
       "332             1                 0  \n",
       "4168            0                 1  "
      ]
     },
     "execution_count": 74,
     "metadata": {},
     "output_type": "execute_result"
    }
   ],
   "source": [
    "X_valid_fe.head()"
   ]
  },
  {
   "cell_type": "code",
   "execution_count": 75,
   "metadata": {
    "ExecuteTime": {
     "end_time": "2022-09-20T01:10:23.218128Z",
     "start_time": "2022-09-20T01:10:23.200990Z"
    },
    "colab": {
     "base_uri": "https://localhost:8080/",
     "height": 250
    },
    "executionInfo": {
     "elapsed": 3,
     "status": "ok",
     "timestamp": 1663514743118,
     "user": {
      "displayName": "Harpreet SIngh",
      "userId": "15106381096049879330"
     },
     "user_tz": 300
    },
    "id": "qTg7TOjlas_t",
    "outputId": "36cf2fbb-c64c-4ae7-cb4e-c849eab978e2"
   },
   "outputs": [
    {
     "data": {
      "text/html": [
       "<div>\n",
       "<style scoped>\n",
       "    .dataframe tbody tr th:only-of-type {\n",
       "        vertical-align: middle;\n",
       "    }\n",
       "\n",
       "    .dataframe tbody tr th {\n",
       "        vertical-align: top;\n",
       "    }\n",
       "\n",
       "    .dataframe thead th {\n",
       "        text-align: right;\n",
       "    }\n",
       "</style>\n",
       "<table border=\"1\" class=\"dataframe\">\n",
       "  <thead>\n",
       "    <tr style=\"text-align: right;\">\n",
       "      <th></th>\n",
       "      <th>CreditScore</th>\n",
       "      <th>Geography</th>\n",
       "      <th>Gender</th>\n",
       "      <th>Age</th>\n",
       "      <th>Tenure</th>\n",
       "      <th>Balance</th>\n",
       "      <th>NumOfProducts</th>\n",
       "      <th>HasCrCard</th>\n",
       "      <th>IsActiveMember</th>\n",
       "      <th>EstimatedSalary</th>\n",
       "    </tr>\n",
       "  </thead>\n",
       "  <tbody>\n",
       "    <tr>\n",
       "      <th>2656</th>\n",
       "      <td>779</td>\n",
       "      <td>Spain</td>\n",
       "      <td>Female</td>\n",
       "      <td>34.0</td>\n",
       "      <td>5.0</td>\n",
       "      <td>0.00</td>\n",
       "      <td>2.0</td>\n",
       "      <td>0</td>\n",
       "      <td>1</td>\n",
       "      <td>111676.63</td>\n",
       "    </tr>\n",
       "    <tr>\n",
       "      <th>445</th>\n",
       "      <td>748</td>\n",
       "      <td>France</td>\n",
       "      <td>Female</td>\n",
       "      <td>26.0</td>\n",
       "      <td>1.0</td>\n",
       "      <td>77780.29</td>\n",
       "      <td>1.0</td>\n",
       "      <td>0</td>\n",
       "      <td>1</td>\n",
       "      <td>183049.41</td>\n",
       "    </tr>\n",
       "    <tr>\n",
       "      <th>9505</th>\n",
       "      <td>651</td>\n",
       "      <td>France</td>\n",
       "      <td>Male</td>\n",
       "      <td>28.0</td>\n",
       "      <td>10.0</td>\n",
       "      <td>79562.98</td>\n",
       "      <td>1.0</td>\n",
       "      <td>1</td>\n",
       "      <td>1</td>\n",
       "      <td>74687.37</td>\n",
       "    </tr>\n",
       "    <tr>\n",
       "      <th>332</th>\n",
       "      <td>663</td>\n",
       "      <td>Germany</td>\n",
       "      <td>Male</td>\n",
       "      <td>44.0</td>\n",
       "      <td>2.0</td>\n",
       "      <td>117028.60</td>\n",
       "      <td>2.0</td>\n",
       "      <td>0</td>\n",
       "      <td>1</td>\n",
       "      <td>144680.18</td>\n",
       "    </tr>\n",
       "    <tr>\n",
       "      <th>4168</th>\n",
       "      <td>516</td>\n",
       "      <td>France</td>\n",
       "      <td>Male</td>\n",
       "      <td>37.0</td>\n",
       "      <td>8.0</td>\n",
       "      <td>0.00</td>\n",
       "      <td>1.0</td>\n",
       "      <td>1</td>\n",
       "      <td>0</td>\n",
       "      <td>101834.58</td>\n",
       "    </tr>\n",
       "  </tbody>\n",
       "</table>\n",
       "</div>"
      ],
      "text/plain": [
       "      CreditScore Geography  Gender   Age  Tenure    Balance  NumOfProducts  \\\n",
       "2656          779     Spain  Female  34.0     5.0       0.00            2.0   \n",
       "445           748    France  Female  26.0     1.0   77780.29            1.0   \n",
       "9505          651    France    Male  28.0    10.0   79562.98            1.0   \n",
       "332           663   Germany    Male  44.0     2.0  117028.60            2.0   \n",
       "4168          516    France    Male  37.0     8.0       0.00            1.0   \n",
       "\n",
       "     HasCrCard IsActiveMember  EstimatedSalary  \n",
       "2656         0              1        111676.63  \n",
       "445          0              1        183049.41  \n",
       "9505         1              1         74687.37  \n",
       "332          0              1        144680.18  \n",
       "4168         1              0        101834.58  "
      ]
     },
     "execution_count": 75,
     "metadata": {},
     "output_type": "execute_result"
    }
   ],
   "source": [
    "X_valid.head()"
   ]
  },
  {
   "cell_type": "markdown",
   "metadata": {
    "id": "Mf06b2fbbCSY"
   },
   "source": [
    "As we can see above, one hot encoding removes  the original variables and adds dummy variables. Since we specified drop last = True, it creates n-1 dummy variables for n categories."
   ]
  },
  {
   "cell_type": "markdown",
   "metadata": {
    "id": "w2XSkBb0ynNY"
   },
   "source": [
    "## <font color = 'pickle'>**Discretization**\n",
    "- Discretization is the process of mapping continuous variables to discrete variables.   \n",
    "- Discretization can improve model performance if some continuous variables are highly skewed or have non-standard distributions. \n",
    "- Some machine learning algorithms (e.g. descion trees) may prefer discrete variables.\n",
    "- The various methods to perform discretization are provided in table below:\n",
    "\n",
    "<img src =\"https://drive.google.com/uc?export=view&id=10Qnj7ocAOMyxWmo_GXzigngKtat0Senr\" width =700 >"
   ]
  },
  {
   "cell_type": "markdown",
   "metadata": {
    "id": "vjdqW_9ayphp"
   },
   "source": [
    "- In our dataset Creditscore and Balance variables have non-standard distributions (see plots below). \n",
    "- Balance has a cluster of zeros and credit score has cluster of higher values.\n",
    "\n",
    "- For these variables, discretization can sometimes improve model performance. \n",
    "\n"
   ]
  },
  {
   "cell_type": "code",
   "execution_count": 76,
   "metadata": {
    "ExecuteTime": {
     "end_time": "2022-09-20T01:10:26.163895Z",
     "start_time": "2022-09-20T01:10:25.439898Z"
    },
    "colab": {
     "base_uri": "https://localhost:8080/",
     "height": 573
    },
    "executionInfo": {
     "elapsed": 986,
     "status": "ok",
     "timestamp": 1663618496535,
     "user": {
      "displayName": "Kyungseob Shim",
      "userId": "04167791068819005440"
     },
     "user_tz": 300
    },
    "id": "79ltyJzbQUru",
    "outputId": "bfaaa107-2f7f-4f65-e520-cbf176cca1c3"
   },
   "outputs": [
    {
     "data": {
      "image/png": "[encoded data removed]",
      "text/plain": [
       "<Figure size 1152x288 with 3 Axes>"
      ]
     },
     "metadata": {
      "needs_background": "light"
     },
     "output_type": "display_data"
    },
    {
     "data": {
      "image/png": "[encoded data removed]",
      "text/plain": [
       "<Figure size 1152x288 with 3 Axes>"
      ]
     },
     "metadata": {
      "needs_background": "light"
     },
     "output_type": "display_data"
    }
   ],
   "source": [
    "for variable in ['CreditScore', 'Balance']:\n",
    "    diagnostic_plots(X_train_fe, variable)"
   ]
  },
  {
   "cell_type": "markdown",
   "metadata": {
    "id": "3ObpvZo36j28"
   },
   "source": [
    "### <font color = 'pickle'>**K-means Discretization using Feature Engine**</font>"
   ]
  },
  {
   "cell_type": "markdown",
   "metadata": {
    "id": "jHeCorXW599_"
   },
   "source": [
    "We will demonstrate K-means method. <br>**For syntax of other methods of dicretization please refer to the following link: https://feature-engine.readthedocs.io/en/1.1.x/discretisation/index.html**"
   ]
  },
  {
   "cell_type": "markdown",
   "metadata": {
    "id": "IEihvEhT91v7"
   },
   "source": [
    "- Discretization with k-means clustering is not directly available in Feature Engine\n",
    "- We will first import KBinsDiscretizer from sklearn\n",
    "- We can then use SklearnTransformerWrapper from the feature engine\n",
    "- The wrapper allows us to use any transformation from sklearn\n",
    "- The advantage of using a wrapper is that we can apply the transformation on selected columns directly without using ColumnTransformer.\n",
    "- Further, as discussed earlier, the order of columns does not change."
   ]
  },
  {
   "cell_type": "code",
   "execution_count": 77,
   "metadata": {
    "ExecuteTime": {
     "end_time": "2022-09-20T01:10:28.283046Z",
     "start_time": "2022-09-20T01:10:28.263128Z"
    },
    "executionInfo": {
     "elapsed": 269,
     "status": "ok",
     "timestamp": 1663618502983,
     "user": {
      "displayName": "Kyungseob Shim",
      "userId": "04167791068819005440"
     },
     "user_tz": 300
    },
    "id": "aJTCDNOMAYzr"
   },
   "outputs": [],
   "source": [
    "from sklearn.preprocessing import KBinsDiscretizer\n",
    "from feature_engine.wrappers import SklearnTransformerWrapper"
   ]
  },
  {
   "cell_type": "markdown",
   "metadata": {
    "id": "Jwi3kw38-77a"
   },
   "source": [
    "**Syntax for KBinsDiscretizer**\n",
    "```python\n",
    "KBinsDiscretizer(n_bins, encode, startegy)\n",
    "```\n",
    "- Here, `n_bins` represents a number of bins or intervals we want to divide data into. In the illustration, we will use 10 bins.\n",
    "- `strategy` is the strategy we will use for binning. The three options are `uniform` (equal width), `quantile` (equal frequency and `kmeans`. In the illustration, we will use `kmeans` strategy. \n",
    "- `encode` represents categorical encoding startegy we can use after binning. We can use `onehot-dense` encoding or `ordinal` encoding.\n",
    "- Since the clusters given by `kmeans' are like categories, we will use `one-hot-dense` encoding for the encoder. \n",
    "- However, using one-hot encoding for KBinsDiscretizer inside sklearnTransformerWrapper gives an error.\n",
    "- Therefore we will use encode = `ordinal` for KBinsDiscretizer.\n",
    "- Finally, we will use one-hot encoding from the feature engine to create dummies."
   ]
  },
  {
   "cell_type": "code",
   "execution_count": 78,
   "metadata": {
    "ExecuteTime": {
     "end_time": "2022-09-20T01:10:30.138237Z",
     "start_time": "2022-09-20T01:10:30.133250Z"
    },
    "executionInfo": {
     "elapsed": 245,
     "status": "ok",
     "timestamp": 1663618835336,
     "user": {
      "displayName": "Kyungseob Shim",
      "userId": "04167791068819005440"
     },
     "user_tz": 300
    },
    "id": "XRX8-x-a707M"
   },
   "outputs": [],
   "source": [
    "sklearn_discretizer = KBinsDiscretizer(n_bins = 10, encode = 'ordinal', strategy = 'kmeans')"
   ]
  },
  {
   "cell_type": "markdown",
   "metadata": {
    "id": "0mLx7hzmAiPZ"
   },
   "source": [
    "- Now, we will use SklearnTransformerWrapper from the feature engine and specify which columns to discretize\n",
    "\n",
    "SklearnTransformerWrapper takes two arguments:\n",
    "\n",
    "\n",
    "1.   sklearn transformer. In our example, that will be sklearn_discretizer.\n",
    "2.   variables - in our example, these will be Balance, CreditScore\n",
    "\n"
   ]
  },
  {
   "cell_type": "code",
   "execution_count": 83,
   "metadata": {
    "ExecuteTime": {
     "end_time": "2022-09-20T01:11:16.657050Z",
     "start_time": "2022-09-20T01:11:16.640096Z"
    },
    "executionInfo": {
     "elapsed": 5,
     "status": "ok",
     "timestamp": 1663618948748,
     "user": {
      "displayName": "Kyungseob Shim",
      "userId": "04167791068819005440"
     },
     "user_tz": 300
    },
    "id": "Dg3oocYmBUzV"
   },
   "outputs": [],
   "source": [
    "discretizer = SklearnTransformerWrapper(sklearn_discretizer, variables = ['Balance', 'CreditScore'])"
   ]
  },
  {
   "cell_type": "code",
   "execution_count": 84,
   "metadata": {
    "ExecuteTime": {
     "end_time": "2022-09-20T01:11:18.060770Z",
     "start_time": "2022-09-20T01:11:18.057179Z"
    },
    "colab": {
     "base_uri": "https://localhost:8080/"
    },
    "executionInfo": {
     "elapsed": 204,
     "status": "ok",
     "timestamp": 1663618952080,
     "user": {
      "displayName": "Kyungseob Shim",
      "userId": "04167791068819005440"
     },
     "user_tz": 300
    },
    "id": "dFfSJDng0_5u",
    "outputId": "0b99807c-7f3b-484b-bf2f-4e862581cc67"
   },
   "outputs": [
    {
     "data": {
      "text/plain": [
       "dict_keys(['transformer__dtype', 'transformer__encode', 'transformer__n_bins', 'transformer__random_state', 'transformer__strategy', 'transformer__subsample', 'transformer', 'variables'])"
      ]
     },
     "execution_count": 84,
     "metadata": {},
     "output_type": "execute_result"
    }
   ],
   "source": [
    "discretizer.get_params().keys()"
   ]
  },
  {
   "cell_type": "markdown",
   "metadata": {
    "id": "yrORocUTCKU0"
   },
   "source": [
    "- We can  use this discretizer on the data now.\n",
    "- We will use fit_transform on training data.\n",
    "- We will use transform on validation dataset. \n",
    "\n",
    "\n"
   ]
  },
  {
   "cell_type": "code",
   "execution_count": 85,
   "metadata": {
    "ExecuteTime": {
     "end_time": "2022-09-20T01:11:19.703531Z",
     "start_time": "2022-09-20T01:11:19.534507Z"
    },
    "colab": {
     "base_uri": "https://localhost:8080/",
     "height": 337
    },
    "executionInfo": {
     "elapsed": 494,
     "status": "error",
     "timestamp": 1663619153897,
     "user": {
      "displayName": "Kyungseob Shim",
      "userId": "04167791068819005440"
     },
     "user_tz": 300
    },
    "id": "WtLDNjm3CwjV",
    "outputId": "e9438a2f-aafd-41e1-878e-67e7cd95f245"
   },
   "outputs": [],
   "source": [
    "# fit_transform on train\n",
    "X_train_fe = discretizer.fit_transform(X_train_fe)"
   ]
  },
  {
   "cell_type": "code",
   "execution_count": 86,
   "metadata": {
    "ExecuteTime": {
     "end_time": "2022-09-20T01:11:21.113598Z",
     "start_time": "2022-09-20T01:11:21.029823Z"
    },
    "id": "8suAxOT5cSBw"
   },
   "outputs": [
    {
     "name": "stderr",
     "output_type": "stream",
     "text": [
      "C:\\Users\\USER\\anaconda3\\lib\\site-packages\\sklearn\\cluster\\_kmeans.py:1334: UserWarning: KMeans is known to have a memory leak on Windows with MKL, when there are less chunks than available threads. You can avoid it by setting the environment variable OMP_NUM_THREADS=13.\n",
      "  warnings.warn(\n",
      "C:\\Users\\USER\\anaconda3\\lib\\site-packages\\sklearn\\cluster\\_kmeans.py:1334: UserWarning: KMeans is known to have a memory leak on Windows with MKL, when there are less chunks than available threads. You can avoid it by setting the environment variable OMP_NUM_THREADS=13.\n",
      "  warnings.warn(\n"
     ]
    }
   ],
   "source": [
    "# transform on validation dataset\n",
    "X_valid_fe = discretizer.fit_transform(X_valid_fe)"
   ]
  },
  {
   "cell_type": "code",
   "execution_count": 87,
   "metadata": {
    "ExecuteTime": {
     "end_time": "2022-09-20T01:11:25.169081Z",
     "start_time": "2022-09-20T01:11:25.146044Z"
    },
    "colab": {
     "base_uri": "https://localhost:8080/",
     "height": 270
    },
    "executionInfo": {
     "elapsed": 162,
     "status": "ok",
     "timestamp": 1663514750000,
     "user": {
      "displayName": "Harpreet SIngh",
      "userId": "15106381096049879330"
     },
     "user_tz": 300
    },
    "id": "49bhff2IZzAP",
    "outputId": "cd75a969-4fed-4b6f-c69a-55be88bd555d"
   },
   "outputs": [
    {
     "data": {
      "text/html": [
       "<div>\n",
       "<style scoped>\n",
       "    .dataframe tbody tr th:only-of-type {\n",
       "        vertical-align: middle;\n",
       "    }\n",
       "\n",
       "    .dataframe tbody tr th {\n",
       "        vertical-align: top;\n",
       "    }\n",
       "\n",
       "    .dataframe thead th {\n",
       "        text-align: right;\n",
       "    }\n",
       "</style>\n",
       "<table border=\"1\" class=\"dataframe\">\n",
       "  <thead>\n",
       "    <tr style=\"text-align: right;\">\n",
       "      <th></th>\n",
       "      <th>CreditScore</th>\n",
       "      <th>Age</th>\n",
       "      <th>Tenure</th>\n",
       "      <th>Balance</th>\n",
       "      <th>NumOfProducts</th>\n",
       "      <th>EstimatedSalary</th>\n",
       "      <th>Geography_France</th>\n",
       "      <th>Geography_Spain</th>\n",
       "      <th>Gender_Female</th>\n",
       "      <th>HasCrCard_0</th>\n",
       "      <th>IsActiveMember_0</th>\n",
       "    </tr>\n",
       "  </thead>\n",
       "  <tbody>\n",
       "    <tr>\n",
       "      <th>4643</th>\n",
       "      <td>4.0</td>\n",
       "      <td>2.583603</td>\n",
       "      <td>0.0</td>\n",
       "      <td>5.0</td>\n",
       "      <td>1.0</td>\n",
       "      <td>10703.53</td>\n",
       "      <td>1</td>\n",
       "      <td>0</td>\n",
       "      <td>1</td>\n",
       "      <td>1</td>\n",
       "      <td>1</td>\n",
       "    </tr>\n",
       "    <tr>\n",
       "      <th>4673</th>\n",
       "      <td>5.0</td>\n",
       "      <td>2.355479</td>\n",
       "      <td>2.0</td>\n",
       "      <td>0.0</td>\n",
       "      <td>1.0</td>\n",
       "      <td>96420.58</td>\n",
       "      <td>1</td>\n",
       "      <td>0</td>\n",
       "      <td>0</td>\n",
       "      <td>0</td>\n",
       "      <td>1</td>\n",
       "    </tr>\n",
       "    <tr>\n",
       "      <th>7562</th>\n",
       "      <td>6.0</td>\n",
       "      <td>2.355479</td>\n",
       "      <td>6.0</td>\n",
       "      <td>0.0</td>\n",
       "      <td>1.0</td>\n",
       "      <td>58458.26</td>\n",
       "      <td>1</td>\n",
       "      <td>0</td>\n",
       "      <td>0</td>\n",
       "      <td>0</td>\n",
       "      <td>1</td>\n",
       "    </tr>\n",
       "    <tr>\n",
       "      <th>1370</th>\n",
       "      <td>8.0</td>\n",
       "      <td>2.256071</td>\n",
       "      <td>7.0</td>\n",
       "      <td>0.0</td>\n",
       "      <td>2.0</td>\n",
       "      <td>176843.53</td>\n",
       "      <td>1</td>\n",
       "      <td>0</td>\n",
       "      <td>1</td>\n",
       "      <td>0</td>\n",
       "      <td>1</td>\n",
       "    </tr>\n",
       "    <tr>\n",
       "      <th>1981</th>\n",
       "      <td>1.0</td>\n",
       "      <td>2.632697</td>\n",
       "      <td>1.0</td>\n",
       "      <td>4.0</td>\n",
       "      <td>1.0</td>\n",
       "      <td>134260.34</td>\n",
       "      <td>0</td>\n",
       "      <td>1</td>\n",
       "      <td>1</td>\n",
       "      <td>1</td>\n",
       "      <td>0</td>\n",
       "    </tr>\n",
       "  </tbody>\n",
       "</table>\n",
       "</div>"
      ],
      "text/plain": [
       "      CreditScore       Age  Tenure  Balance  NumOfProducts  EstimatedSalary  \\\n",
       "4643          4.0  2.583603     0.0      5.0            1.0         10703.53   \n",
       "4673          5.0  2.355479     2.0      0.0            1.0         96420.58   \n",
       "7562          6.0  2.355479     6.0      0.0            1.0         58458.26   \n",
       "1370          8.0  2.256071     7.0      0.0            2.0        176843.53   \n",
       "1981          1.0  2.632697     1.0      4.0            1.0        134260.34   \n",
       "\n",
       "      Geography_France  Geography_Spain  Gender_Female  HasCrCard_0  \\\n",
       "4643                 1                0              1            1   \n",
       "4673                 1                0              0            0   \n",
       "7562                 1                0              0            0   \n",
       "1370                 1                0              1            0   \n",
       "1981                 0                1              1            1   \n",
       "\n",
       "      IsActiveMember_0  \n",
       "4643                 1  \n",
       "4673                 1  \n",
       "7562                 1  \n",
       "1370                 1  \n",
       "1981                 0  "
      ]
     },
     "execution_count": 87,
     "metadata": {},
     "output_type": "execute_result"
    }
   ],
   "source": [
    "X_train_fe.head()"
   ]
  },
  {
   "cell_type": "markdown",
   "metadata": {
    "id": "sWD1CjYHaVh2"
   },
   "source": [
    "- We will now use one-hot encoding for these variables. \n",
    "- By default, OneHotEncoder from the feature engine can be applied only for categorical variables.\n",
    "- Both CreditScore and Balance are numerical variables. Therefore, we will specify ignore_format = True. By using this option, we can apply OneHotEncoder on numerical variables as well."
   ]
  },
  {
   "cell_type": "code",
   "execution_count": 88,
   "metadata": {
    "ExecuteTime": {
     "end_time": "2022-09-20T01:11:27.122987Z",
     "start_time": "2022-09-20T01:11:27.110022Z"
    },
    "executionInfo": {
     "elapsed": 4,
     "status": "ok",
     "timestamp": 1663619212718,
     "user": {
      "displayName": "Kyungseob Shim",
      "userId": "04167791068819005440"
     },
     "user_tz": 300
    },
    "id": "BpsqAUbsbRWq"
   },
   "outputs": [],
   "source": [
    "from feature_engine.encoding import OneHotEncoder\n",
    "ohe = OneHotEncoder(variables = ['Balance', 'CreditScore'], drop_last = True, ignore_format=True)"
   ]
  },
  {
   "cell_type": "code",
   "execution_count": 89,
   "metadata": {
    "ExecuteTime": {
     "end_time": "2022-09-20T01:11:28.914311Z",
     "start_time": "2022-09-20T01:11:28.886352Z"
    },
    "colab": {
     "base_uri": "https://localhost:8080/"
    },
    "executionInfo": {
     "elapsed": 3801,
     "status": "ok",
     "timestamp": 1663619283369,
     "user": {
      "displayName": "Kyungseob Shim",
      "userId": "04167791068819005440"
     },
     "user_tz": 300
    },
    "id": "IaBtfHxRch0S",
    "outputId": "adaba823-1209-45d1-d30e-b86395e322e1"
   },
   "outputs": [],
   "source": [
    "# fit_transform on train\n",
    "X_train_fe = ohe.fit_transform(X_train_fe)"
   ]
  },
  {
   "cell_type": "code",
   "execution_count": 90,
   "metadata": {
    "ExecuteTime": {
     "end_time": "2022-09-20T01:11:30.393581Z",
     "start_time": "2022-09-20T01:11:30.369132Z"
    },
    "executionInfo": {
     "elapsed": 1990,
     "status": "ok",
     "timestamp": 1663619299872,
     "user": {
      "displayName": "Kyungseob Shim",
      "userId": "04167791068819005440"
     },
     "user_tz": 300
    },
    "id": "flDYuI_jcrok"
   },
   "outputs": [],
   "source": [
    "# transform on validation dataset\n",
    "X_valid_fe = ohe.fit_transform(X_valid_fe)"
   ]
  },
  {
   "cell_type": "code",
   "execution_count": 91,
   "metadata": {
    "ExecuteTime": {
     "end_time": "2022-09-20T01:11:41.416550Z",
     "start_time": "2022-09-20T01:11:41.397628Z"
    },
    "colab": {
     "base_uri": "https://localhost:8080/",
     "height": 300
    },
    "executionInfo": {
     "elapsed": 232,
     "status": "ok",
     "timestamp": 1663619302138,
     "user": {
      "displayName": "Kyungseob Shim",
      "userId": "04167791068819005440"
     },
     "user_tz": 300
    },
    "id": "IJkfV2YncwTO",
    "outputId": "ea96a22e-3b49-46c4-c9b2-54d68574af8a"
   },
   "outputs": [
    {
     "data": {
      "text/html": [
       "<div>\n",
       "<style scoped>\n",
       "    .dataframe tbody tr th:only-of-type {\n",
       "        vertical-align: middle;\n",
       "    }\n",
       "\n",
       "    .dataframe tbody tr th {\n",
       "        vertical-align: top;\n",
       "    }\n",
       "\n",
       "    .dataframe thead th {\n",
       "        text-align: right;\n",
       "    }\n",
       "</style>\n",
       "<table border=\"1\" class=\"dataframe\">\n",
       "  <thead>\n",
       "    <tr style=\"text-align: right;\">\n",
       "      <th></th>\n",
       "      <th>Age</th>\n",
       "      <th>Tenure</th>\n",
       "      <th>NumOfProducts</th>\n",
       "      <th>EstimatedSalary</th>\n",
       "      <th>Geography_France</th>\n",
       "      <th>Geography_Spain</th>\n",
       "      <th>Gender_Female</th>\n",
       "      <th>HasCrCard_0</th>\n",
       "      <th>IsActiveMember_0</th>\n",
       "      <th>Balance_5.0</th>\n",
       "      <th>...</th>\n",
       "      <th>Balance_2.0</th>\n",
       "      <th>CreditScore_4.0</th>\n",
       "      <th>CreditScore_5.0</th>\n",
       "      <th>CreditScore_6.0</th>\n",
       "      <th>CreditScore_8.0</th>\n",
       "      <th>CreditScore_1.0</th>\n",
       "      <th>CreditScore_9.0</th>\n",
       "      <th>CreditScore_0.0</th>\n",
       "      <th>CreditScore_7.0</th>\n",
       "      <th>CreditScore_3.0</th>\n",
       "    </tr>\n",
       "  </thead>\n",
       "  <tbody>\n",
       "    <tr>\n",
       "      <th>4643</th>\n",
       "      <td>2.583603</td>\n",
       "      <td>0.0</td>\n",
       "      <td>1.0</td>\n",
       "      <td>10703.53</td>\n",
       "      <td>1</td>\n",
       "      <td>0</td>\n",
       "      <td>1</td>\n",
       "      <td>1</td>\n",
       "      <td>1</td>\n",
       "      <td>1</td>\n",
       "      <td>...</td>\n",
       "      <td>0</td>\n",
       "      <td>1</td>\n",
       "      <td>0</td>\n",
       "      <td>0</td>\n",
       "      <td>0</td>\n",
       "      <td>0</td>\n",
       "      <td>0</td>\n",
       "      <td>0</td>\n",
       "      <td>0</td>\n",
       "      <td>0</td>\n",
       "    </tr>\n",
       "    <tr>\n",
       "      <th>4673</th>\n",
       "      <td>2.355479</td>\n",
       "      <td>2.0</td>\n",
       "      <td>1.0</td>\n",
       "      <td>96420.58</td>\n",
       "      <td>1</td>\n",
       "      <td>0</td>\n",
       "      <td>0</td>\n",
       "      <td>0</td>\n",
       "      <td>1</td>\n",
       "      <td>0</td>\n",
       "      <td>...</td>\n",
       "      <td>0</td>\n",
       "      <td>0</td>\n",
       "      <td>1</td>\n",
       "      <td>0</td>\n",
       "      <td>0</td>\n",
       "      <td>0</td>\n",
       "      <td>0</td>\n",
       "      <td>0</td>\n",
       "      <td>0</td>\n",
       "      <td>0</td>\n",
       "    </tr>\n",
       "    <tr>\n",
       "      <th>7562</th>\n",
       "      <td>2.355479</td>\n",
       "      <td>6.0</td>\n",
       "      <td>1.0</td>\n",
       "      <td>58458.26</td>\n",
       "      <td>1</td>\n",
       "      <td>0</td>\n",
       "      <td>0</td>\n",
       "      <td>0</td>\n",
       "      <td>1</td>\n",
       "      <td>0</td>\n",
       "      <td>...</td>\n",
       "      <td>0</td>\n",
       "      <td>0</td>\n",
       "      <td>0</td>\n",
       "      <td>1</td>\n",
       "      <td>0</td>\n",
       "      <td>0</td>\n",
       "      <td>0</td>\n",
       "      <td>0</td>\n",
       "      <td>0</td>\n",
       "      <td>0</td>\n",
       "    </tr>\n",
       "    <tr>\n",
       "      <th>1370</th>\n",
       "      <td>2.256071</td>\n",
       "      <td>7.0</td>\n",
       "      <td>2.0</td>\n",
       "      <td>176843.53</td>\n",
       "      <td>1</td>\n",
       "      <td>0</td>\n",
       "      <td>1</td>\n",
       "      <td>0</td>\n",
       "      <td>1</td>\n",
       "      <td>0</td>\n",
       "      <td>...</td>\n",
       "      <td>0</td>\n",
       "      <td>0</td>\n",
       "      <td>0</td>\n",
       "      <td>0</td>\n",
       "      <td>1</td>\n",
       "      <td>0</td>\n",
       "      <td>0</td>\n",
       "      <td>0</td>\n",
       "      <td>0</td>\n",
       "      <td>0</td>\n",
       "    </tr>\n",
       "    <tr>\n",
       "      <th>1981</th>\n",
       "      <td>2.632697</td>\n",
       "      <td>1.0</td>\n",
       "      <td>1.0</td>\n",
       "      <td>134260.34</td>\n",
       "      <td>0</td>\n",
       "      <td>1</td>\n",
       "      <td>1</td>\n",
       "      <td>1</td>\n",
       "      <td>0</td>\n",
       "      <td>0</td>\n",
       "      <td>...</td>\n",
       "      <td>0</td>\n",
       "      <td>0</td>\n",
       "      <td>0</td>\n",
       "      <td>0</td>\n",
       "      <td>0</td>\n",
       "      <td>1</td>\n",
       "      <td>0</td>\n",
       "      <td>0</td>\n",
       "      <td>0</td>\n",
       "      <td>0</td>\n",
       "    </tr>\n",
       "  </tbody>\n",
       "</table>\n",
       "<p>5 rows × 27 columns</p>\n",
       "</div>"
      ],
      "text/plain": [
       "           Age  Tenure  NumOfProducts  EstimatedSalary  Geography_France  \\\n",
       "4643  2.583603     0.0            1.0         10703.53                 1   \n",
       "4673  2.355479     2.0            1.0         96420.58                 1   \n",
       "7562  2.355479     6.0            1.0         58458.26                 1   \n",
       "1370  2.256071     7.0            2.0        176843.53                 1   \n",
       "1981  2.632697     1.0            1.0        134260.34                 0   \n",
       "\n",
       "      Geography_Spain  Gender_Female  HasCrCard_0  IsActiveMember_0  \\\n",
       "4643                0              1            1                 1   \n",
       "4673                0              0            0                 1   \n",
       "7562                0              0            0                 1   \n",
       "1370                0              1            0                 1   \n",
       "1981                1              1            1                 0   \n",
       "\n",
       "      Balance_5.0  ...  Balance_2.0  CreditScore_4.0  CreditScore_5.0  \\\n",
       "4643            1  ...            0                1                0   \n",
       "4673            0  ...            0                0                1   \n",
       "7562            0  ...            0                0                0   \n",
       "1370            0  ...            0                0                0   \n",
       "1981            0  ...            0                0                0   \n",
       "\n",
       "      CreditScore_6.0  CreditScore_8.0  CreditScore_1.0  CreditScore_9.0  \\\n",
       "4643                0                0                0                0   \n",
       "4673                0                0                0                0   \n",
       "7562                1                0                0                0   \n",
       "1370                0                1                0                0   \n",
       "1981                0                0                1                0   \n",
       "\n",
       "      CreditScore_0.0  CreditScore_7.0  CreditScore_3.0  \n",
       "4643                0                0                0  \n",
       "4673                0                0                0  \n",
       "7562                0                0                0  \n",
       "1370                0                0                0  \n",
       "1981                0                0                0  \n",
       "\n",
       "[5 rows x 27 columns]"
      ]
     },
     "execution_count": 91,
     "metadata": {},
     "output_type": "execute_result"
    }
   ],
   "source": [
    "X_train_fe.head()"
   ]
  },
  {
   "cell_type": "markdown",
   "metadata": {
    "id": "QRP1oUwxnAWV"
   },
   "source": [
    "## <font color = 'pickle'>**Working with Outliers**"
   ]
  },
  {
   "cell_type": "markdown",
   "metadata": {
    "id": "HK6pAu3vnIpS"
   },
   "source": [
    "- Outlier is a  data point that deviates significantly from the rest of the data.\n",
    "- Outliers can affect the performance of machine learning models such as linear regression.\n",
    "- We can use the following methods to treat outliers:\n",
    "\n",
    "> 1. Trimming: Remove outliers from data. This is rarely used as it can remove a large chunk of data. Further, we still do not know how to handle outliers in test datasets.\n",
    "2. Treat outliers as missing data - We can treat outliers as missing data and use any missing data imputation methods.\n",
    "3. Discretization - We can discretize the variables with outliers. Discretization will place the outliers into bins together with other data points. Hence, outliers will no longer differ from the rest of the data points.\n",
    "4. Winsorization - Replace the values above or below a threshold with a single value e.g, we can replace all the values below the 5th percentile by 5th percentile and all the values above 95th percentile by the 95th percentile.\n",
    "\n",
    "Earlier using boxplots, we identified that three variables has outliers -- (1) Age (2) Balance (3) CreditScore\n",
    "\n",
    "We have already discretized  Balance and CreditScore. We will now remove outliers from Age using Winsorization. We will use a feature engine library.\n",
    "\n"
   ]
  },
  {
   "cell_type": "markdown",
   "metadata": {
    "id": "G8I0vBEv6fvE"
   },
   "source": [
    "### <font color = 'pickle'>**Winsorization: Feature Engine**\n",
    "**Syntax**\n",
    "```python\n",
    "from feature_engine.outliers import Winsorizer\n",
    "winsorizer = Winsorizer(capping_method, tail, fold, variables)\n",
    "```\n",
    "- Capping methods:\n",
    "\n",
    ">  (1) gaussian: For this method lower and upper limits are calculated as follows:\n",
    "  - upper limit = mean + fold * std\n",
    "  - lower  limit = mean - fold * std\n",
    "<br>Here **`fold`** is a hyperprameter which we need to specify.\n",
    "\n",
    "> (2) iqr (inter quartile range:\n",
    "   - upper limit = 75th quantile + fold * IQR\n",
    "   - lower limit = 25th quantile - fold * IQR\n",
    "\n",
    "> (3) quantile - if fold = 0,05 then\n",
    "   - upper limit = 5th percentile\n",
    "   - lower limit = 95th percentile\n",
    "\n",
    "- tail: Can take three values - 'left', 'right' or 'both'. It specifies whether to cap the outliers on the right, left, or both sides of the distribution."
   ]
  },
  {
   "cell_type": "code",
   "execution_count": 92,
   "metadata": {
    "ExecuteTime": {
     "end_time": "2022-09-20T01:11:44.682801Z",
     "start_time": "2022-09-20T01:11:44.659862Z"
    },
    "executionInfo": {
     "elapsed": 198,
     "status": "ok",
     "timestamp": 1663619639219,
     "user": {
      "displayName": "Kyungseob Shim",
      "userId": "04167791068819005440"
     },
     "user_tz": 300
    },
    "id": "kr3A28WuEJ7X"
   },
   "outputs": [],
   "source": [
    "from feature_engine.outliers import Winsorizer\n",
    "winsorizer = Winsorizer(capping_method='gaussian', tail ='both', fold = 3, variables=['Age'])"
   ]
  },
  {
   "cell_type": "markdown",
   "metadata": {
    "id": "vUFV_0fhEipo"
   },
   "source": [
    "The above command will cap the values of variable Age. The lower values will be capped with mean - 3 * std and upper values will be capped wth mean + 3 * std."
   ]
  },
  {
   "cell_type": "code",
   "execution_count": 93,
   "metadata": {
    "ExecuteTime": {
     "end_time": "2022-09-20T01:11:45.959995Z",
     "start_time": "2022-09-20T01:11:45.944116Z"
    },
    "executionInfo": {
     "elapsed": 2,
     "status": "ok",
     "timestamp": 1663619640727,
     "user": {
      "displayName": "Kyungseob Shim",
      "userId": "04167791068819005440"
     },
     "user_tz": 300
    },
    "id": "QfLOW_b_E_2r"
   },
   "outputs": [],
   "source": [
    "# fit_transform on train\n",
    "X_train_fe = winsorizer.fit_transform(X_train_fe)"
   ]
  },
  {
   "cell_type": "code",
   "execution_count": 94,
   "metadata": {
    "ExecuteTime": {
     "end_time": "2022-09-20T01:11:47.240209Z",
     "start_time": "2022-09-20T01:11:47.215276Z"
    },
    "executionInfo": {
     "elapsed": 419,
     "status": "ok",
     "timestamp": 1663619653284,
     "user": {
      "displayName": "Kyungseob Shim",
      "userId": "04167791068819005440"
     },
     "user_tz": 300
    },
    "id": "j49uEuwbFRYu"
   },
   "outputs": [],
   "source": [
    "# transform on validation dataset\n",
    "X_valid_fe = winsorizer.fit_transform(X_valid_fe)"
   ]
  },
  {
   "cell_type": "markdown",
   "metadata": {
    "id": "EvwF5_BXPRY-"
   },
   "source": [
    "## <font color = 'pickle'>**Feature scaling**\n",
    "\n",
    "Feature scaling is the process of rescaling features so that they have a similar scale (magnitude).\n",
    "\n",
    "- Many machine learning algorithms (e.g. KNN,  K-means clustering, PCA, SVM) are sensitive to the scale of the features. \n",
    "\n",
    "- Feature scaling does not impact tree-based algorithms(e.g. Decision trees, Random forest, Gradient Boosted Trees)\n",
    "\n",
    "- Feature scaling helps algorithms like stochastic gradient descent converge faster.\n",
    "- Generally last step in data preprocessing pipelines.\n",
    "\n"
   ]
  },
  {
   "cell_type": "markdown",
   "metadata": {
    "id": "E9N9VP4aTV40"
   },
   "source": [
    "<font color = 'Indianred'>**Example - How feature scaling impacts k-nearest neighbours** </font><br>\n",
    "Distance-based algorithms like KNN (k-nearest neighbor) will be dominated by features with higher magnitudes. In the figure below, we have two variables. The magnitude of the variable along the y-axis ranges from -1 to 6, whereas the magnitude of the variable along the x-axis varies from 8000 to 12000. The red and blue dots represent two classes. It is clear from the figure that we can have a very good separation between two classes if we use the variable with a smaller scale. However, if we apply KNN without scaling, the distance measure will be dominated by a variable with a higher magnitude. As we can see from the figure, the decision boundary is based on the variable with a higher magnitude, and we do not get a good separation between classes. Once we scale the variables to have a similar magnitude, we now get a very good separation between classes.\n",
    "\n",
    "<img src =\"https://drive.google.com/uc?export=view&id=1pRgAqK_czSU9CM6aheYPd-nJ_7F6-gkR\" width =700 >"
   ]
  },
  {
   "cell_type": "markdown",
   "metadata": {
    "id": "RPkaEx9xd0ij"
   },
   "source": [
    "<font color = 'indianred'>**Summary of feature scaling methods** </font><br>\n",
    "The below table provides the brief overview of different feature scaling methods :\n",
    "\n",
    "<img src =\"https://drive.google.com/uc?export=view&id=1q7jdv8WK29koVBJX9N2Dfow9jSYcRWge\" width =1200 >\n",
    "\n"
   ]
  },
  {
   "cell_type": "markdown",
   "metadata": {
    "id": "-qUdzT4aCHZD"
   },
   "source": [
    "We will be using kNN model for the given dataset. Hence, it is good to scale the data and reduce the distance between the numerical difference. Hence, we will be Scaling features to a range."
   ]
  },
  {
   "cell_type": "markdown",
   "metadata": {
    "id": "BxVU1D9RZ-j9"
   },
   "source": [
    "### <font color = 'pickle'>**Min Max Scalar using Feature Engine**"
   ]
  },
  {
   "cell_type": "code",
   "execution_count": 95,
   "metadata": {
    "ExecuteTime": {
     "end_time": "2022-09-20T01:11:49.702088Z",
     "start_time": "2022-09-20T01:11:49.653219Z"
    },
    "colab": {
     "base_uri": "https://localhost:8080/",
     "height": 468
    },
    "executionInfo": {
     "elapsed": 8599,
     "status": "ok",
     "timestamp": 1663620149452,
     "user": {
      "displayName": "Kyungseob Shim",
      "userId": "04167791068819005440"
     },
     "user_tz": 300
    },
    "id": "Rrd_YJfyRTy6",
    "outputId": "0077fcea-7d6d-4dbe-ed29-f7d8995f6474"
   },
   "outputs": [
    {
     "data": {
      "text/html": [
       "<div>\n",
       "<style scoped>\n",
       "    .dataframe tbody tr th:only-of-type {\n",
       "        vertical-align: middle;\n",
       "    }\n",
       "\n",
       "    .dataframe tbody tr th {\n",
       "        vertical-align: top;\n",
       "    }\n",
       "\n",
       "    .dataframe thead th {\n",
       "        text-align: right;\n",
       "    }\n",
       "</style>\n",
       "<table border=\"1\" class=\"dataframe\">\n",
       "  <thead>\n",
       "    <tr style=\"text-align: right;\">\n",
       "      <th></th>\n",
       "      <th>count</th>\n",
       "      <th>mean</th>\n",
       "      <th>std</th>\n",
       "      <th>min</th>\n",
       "      <th>25%</th>\n",
       "      <th>50%</th>\n",
       "      <th>75%</th>\n",
       "      <th>max</th>\n",
       "    </tr>\n",
       "  </thead>\n",
       "  <tbody>\n",
       "    <tr>\n",
       "      <th>Age</th>\n",
       "      <td>6700.0</td>\n",
       "      <td>2.405144</td>\n",
       "      <td>0.103239</td>\n",
       "      <td>2.095333</td>\n",
       "      <td>2.342922</td>\n",
       "      <td>2.401458</td>\n",
       "      <td>2.468981</td>\n",
       "      <td>2.714951</td>\n",
       "    </tr>\n",
       "    <tr>\n",
       "      <th>Tenure</th>\n",
       "      <td>6700.0</td>\n",
       "      <td>5.012537</td>\n",
       "      <td>2.888404</td>\n",
       "      <td>0.000000</td>\n",
       "      <td>3.000000</td>\n",
       "      <td>5.000000</td>\n",
       "      <td>7.000000</td>\n",
       "      <td>10.000000</td>\n",
       "    </tr>\n",
       "    <tr>\n",
       "      <th>NumOfProducts</th>\n",
       "      <td>6700.0</td>\n",
       "      <td>1.532687</td>\n",
       "      <td>0.584142</td>\n",
       "      <td>1.000000</td>\n",
       "      <td>1.000000</td>\n",
       "      <td>1.000000</td>\n",
       "      <td>2.000000</td>\n",
       "      <td>4.000000</td>\n",
       "    </tr>\n",
       "    <tr>\n",
       "      <th>EstimatedSalary</th>\n",
       "      <td>6700.0</td>\n",
       "      <td>99869.647209</td>\n",
       "      <td>57700.317854</td>\n",
       "      <td>11.580000</td>\n",
       "      <td>50385.452500</td>\n",
       "      <td>99675.470000</td>\n",
       "      <td>149479.232500</td>\n",
       "      <td>199992.480000</td>\n",
       "    </tr>\n",
       "    <tr>\n",
       "      <th>Geography_France</th>\n",
       "      <td>6700.0</td>\n",
       "      <td>0.503284</td>\n",
       "      <td>0.500027</td>\n",
       "      <td>0.000000</td>\n",
       "      <td>0.000000</td>\n",
       "      <td>1.000000</td>\n",
       "      <td>1.000000</td>\n",
       "      <td>1.000000</td>\n",
       "    </tr>\n",
       "    <tr>\n",
       "      <th>Geography_Spain</th>\n",
       "      <td>6700.0</td>\n",
       "      <td>0.248209</td>\n",
       "      <td>0.432006</td>\n",
       "      <td>0.000000</td>\n",
       "      <td>0.000000</td>\n",
       "      <td>0.000000</td>\n",
       "      <td>0.000000</td>\n",
       "      <td>1.000000</td>\n",
       "    </tr>\n",
       "    <tr>\n",
       "      <th>Gender_Female</th>\n",
       "      <td>6700.0</td>\n",
       "      <td>0.453881</td>\n",
       "      <td>0.497906</td>\n",
       "      <td>0.000000</td>\n",
       "      <td>0.000000</td>\n",
       "      <td>0.000000</td>\n",
       "      <td>1.000000</td>\n",
       "      <td>1.000000</td>\n",
       "    </tr>\n",
       "    <tr>\n",
       "      <th>HasCrCard_0</th>\n",
       "      <td>6700.0</td>\n",
       "      <td>0.296866</td>\n",
       "      <td>0.456911</td>\n",
       "      <td>0.000000</td>\n",
       "      <td>0.000000</td>\n",
       "      <td>0.000000</td>\n",
       "      <td>1.000000</td>\n",
       "      <td>1.000000</td>\n",
       "    </tr>\n",
       "    <tr>\n",
       "      <th>IsActiveMember_0</th>\n",
       "      <td>6700.0</td>\n",
       "      <td>0.483582</td>\n",
       "      <td>0.499768</td>\n",
       "      <td>0.000000</td>\n",
       "      <td>0.000000</td>\n",
       "      <td>0.000000</td>\n",
       "      <td>1.000000</td>\n",
       "      <td>1.000000</td>\n",
       "    </tr>\n",
       "    <tr>\n",
       "      <th>Balance_5.0</th>\n",
       "      <td>6700.0</td>\n",
       "      <td>0.119403</td>\n",
       "      <td>0.324286</td>\n",
       "      <td>0.000000</td>\n",
       "      <td>0.000000</td>\n",
       "      <td>0.000000</td>\n",
       "      <td>0.000000</td>\n",
       "      <td>1.000000</td>\n",
       "    </tr>\n",
       "    <tr>\n",
       "      <th>Balance_0.0</th>\n",
       "      <td>6700.0</td>\n",
       "      <td>0.361791</td>\n",
       "      <td>0.480555</td>\n",
       "      <td>0.000000</td>\n",
       "      <td>0.000000</td>\n",
       "      <td>0.000000</td>\n",
       "      <td>1.000000</td>\n",
       "      <td>1.000000</td>\n",
       "    </tr>\n",
       "    <tr>\n",
       "      <th>Balance_4.0</th>\n",
       "      <td>6700.0</td>\n",
       "      <td>0.120149</td>\n",
       "      <td>0.325160</td>\n",
       "      <td>0.000000</td>\n",
       "      <td>0.000000</td>\n",
       "      <td>0.000000</td>\n",
       "      <td>0.000000</td>\n",
       "      <td>1.000000</td>\n",
       "    </tr>\n",
       "    <tr>\n",
       "      <th>Balance_3.0</th>\n",
       "      <td>6700.0</td>\n",
       "      <td>0.099701</td>\n",
       "      <td>0.299624</td>\n",
       "      <td>0.000000</td>\n",
       "      <td>0.000000</td>\n",
       "      <td>0.000000</td>\n",
       "      <td>0.000000</td>\n",
       "      <td>1.000000</td>\n",
       "    </tr>\n",
       "    <tr>\n",
       "      <th>Balance_9.0</th>\n",
       "      <td>6700.0</td>\n",
       "      <td>0.013731</td>\n",
       "      <td>0.116382</td>\n",
       "      <td>0.000000</td>\n",
       "      <td>0.000000</td>\n",
       "      <td>0.000000</td>\n",
       "      <td>0.000000</td>\n",
       "      <td>1.000000</td>\n",
       "    </tr>\n",
       "    <tr>\n",
       "      <th>Balance_7.0</th>\n",
       "      <td>6700.0</td>\n",
       "      <td>0.068060</td>\n",
       "      <td>0.251867</td>\n",
       "      <td>0.000000</td>\n",
       "      <td>0.000000</td>\n",
       "      <td>0.000000</td>\n",
       "      <td>0.000000</td>\n",
       "      <td>1.000000</td>\n",
       "    </tr>\n",
       "    <tr>\n",
       "      <th>Balance_6.0</th>\n",
       "      <td>6700.0</td>\n",
       "      <td>0.091940</td>\n",
       "      <td>0.288963</td>\n",
       "      <td>0.000000</td>\n",
       "      <td>0.000000</td>\n",
       "      <td>0.000000</td>\n",
       "      <td>0.000000</td>\n",
       "      <td>1.000000</td>\n",
       "    </tr>\n",
       "    <tr>\n",
       "      <th>Balance_8.0</th>\n",
       "      <td>6700.0</td>\n",
       "      <td>0.037463</td>\n",
       "      <td>0.189907</td>\n",
       "      <td>0.000000</td>\n",
       "      <td>0.000000</td>\n",
       "      <td>0.000000</td>\n",
       "      <td>0.000000</td>\n",
       "      <td>1.000000</td>\n",
       "    </tr>\n",
       "    <tr>\n",
       "      <th>Balance_2.0</th>\n",
       "      <td>6700.0</td>\n",
       "      <td>0.061045</td>\n",
       "      <td>0.239430</td>\n",
       "      <td>0.000000</td>\n",
       "      <td>0.000000</td>\n",
       "      <td>0.000000</td>\n",
       "      <td>0.000000</td>\n",
       "      <td>1.000000</td>\n",
       "    </tr>\n",
       "    <tr>\n",
       "      <th>CreditScore_4.0</th>\n",
       "      <td>6700.0</td>\n",
       "      <td>0.129403</td>\n",
       "      <td>0.335670</td>\n",
       "      <td>0.000000</td>\n",
       "      <td>0.000000</td>\n",
       "      <td>0.000000</td>\n",
       "      <td>0.000000</td>\n",
       "      <td>1.000000</td>\n",
       "    </tr>\n",
       "    <tr>\n",
       "      <th>CreditScore_5.0</th>\n",
       "      <td>6700.0</td>\n",
       "      <td>0.160000</td>\n",
       "      <td>0.366633</td>\n",
       "      <td>0.000000</td>\n",
       "      <td>0.000000</td>\n",
       "      <td>0.000000</td>\n",
       "      <td>0.000000</td>\n",
       "      <td>1.000000</td>\n",
       "    </tr>\n",
       "    <tr>\n",
       "      <th>CreditScore_6.0</th>\n",
       "      <td>6700.0</td>\n",
       "      <td>0.153284</td>\n",
       "      <td>0.360288</td>\n",
       "      <td>0.000000</td>\n",
       "      <td>0.000000</td>\n",
       "      <td>0.000000</td>\n",
       "      <td>0.000000</td>\n",
       "      <td>1.000000</td>\n",
       "    </tr>\n",
       "    <tr>\n",
       "      <th>CreditScore_8.0</th>\n",
       "      <td>6700.0</td>\n",
       "      <td>0.104179</td>\n",
       "      <td>0.305516</td>\n",
       "      <td>0.000000</td>\n",
       "      <td>0.000000</td>\n",
       "      <td>0.000000</td>\n",
       "      <td>0.000000</td>\n",
       "      <td>1.000000</td>\n",
       "    </tr>\n",
       "    <tr>\n",
       "      <th>CreditScore_1.0</th>\n",
       "      <td>6700.0</td>\n",
       "      <td>0.050448</td>\n",
       "      <td>0.218883</td>\n",
       "      <td>0.000000</td>\n",
       "      <td>0.000000</td>\n",
       "      <td>0.000000</td>\n",
       "      <td>0.000000</td>\n",
       "      <td>1.000000</td>\n",
       "    </tr>\n",
       "    <tr>\n",
       "      <th>CreditScore_9.0</th>\n",
       "      <td>6700.0</td>\n",
       "      <td>0.059552</td>\n",
       "      <td>0.236673</td>\n",
       "      <td>0.000000</td>\n",
       "      <td>0.000000</td>\n",
       "      <td>0.000000</td>\n",
       "      <td>0.000000</td>\n",
       "      <td>1.000000</td>\n",
       "    </tr>\n",
       "    <tr>\n",
       "      <th>CreditScore_0.0</th>\n",
       "      <td>6700.0</td>\n",
       "      <td>0.024925</td>\n",
       "      <td>0.155909</td>\n",
       "      <td>0.000000</td>\n",
       "      <td>0.000000</td>\n",
       "      <td>0.000000</td>\n",
       "      <td>0.000000</td>\n",
       "      <td>1.000000</td>\n",
       "    </tr>\n",
       "    <tr>\n",
       "      <th>CreditScore_7.0</th>\n",
       "      <td>6700.0</td>\n",
       "      <td>0.138209</td>\n",
       "      <td>0.345145</td>\n",
       "      <td>0.000000</td>\n",
       "      <td>0.000000</td>\n",
       "      <td>0.000000</td>\n",
       "      <td>0.000000</td>\n",
       "      <td>1.000000</td>\n",
       "    </tr>\n",
       "    <tr>\n",
       "      <th>CreditScore_3.0</th>\n",
       "      <td>6700.0</td>\n",
       "      <td>0.099851</td>\n",
       "      <td>0.299823</td>\n",
       "      <td>0.000000</td>\n",
       "      <td>0.000000</td>\n",
       "      <td>0.000000</td>\n",
       "      <td>0.000000</td>\n",
       "      <td>1.000000</td>\n",
       "    </tr>\n",
       "  </tbody>\n",
       "</table>\n",
       "</div>"
      ],
      "text/plain": [
       "                   count          mean           std        min           25%  \\\n",
       "Age               6700.0      2.405144      0.103239   2.095333      2.342922   \n",
       "Tenure            6700.0      5.012537      2.888404   0.000000      3.000000   \n",
       "NumOfProducts     6700.0      1.532687      0.584142   1.000000      1.000000   \n",
       "EstimatedSalary   6700.0  99869.647209  57700.317854  11.580000  50385.452500   \n",
       "Geography_France  6700.0      0.503284      0.500027   0.000000      0.000000   \n",
       "Geography_Spain   6700.0      0.248209      0.432006   0.000000      0.000000   \n",
       "Gender_Female     6700.0      0.453881      0.497906   0.000000      0.000000   \n",
       "HasCrCard_0       6700.0      0.296866      0.456911   0.000000      0.000000   \n",
       "IsActiveMember_0  6700.0      0.483582      0.499768   0.000000      0.000000   \n",
       "Balance_5.0       6700.0      0.119403      0.324286   0.000000      0.000000   \n",
       "Balance_0.0       6700.0      0.361791      0.480555   0.000000      0.000000   \n",
       "Balance_4.0       6700.0      0.120149      0.325160   0.000000      0.000000   \n",
       "Balance_3.0       6700.0      0.099701      0.299624   0.000000      0.000000   \n",
       "Balance_9.0       6700.0      0.013731      0.116382   0.000000      0.000000   \n",
       "Balance_7.0       6700.0      0.068060      0.251867   0.000000      0.000000   \n",
       "Balance_6.0       6700.0      0.091940      0.288963   0.000000      0.000000   \n",
       "Balance_8.0       6700.0      0.037463      0.189907   0.000000      0.000000   \n",
       "Balance_2.0       6700.0      0.061045      0.239430   0.000000      0.000000   \n",
       "CreditScore_4.0   6700.0      0.129403      0.335670   0.000000      0.000000   \n",
       "CreditScore_5.0   6700.0      0.160000      0.366633   0.000000      0.000000   \n",
       "CreditScore_6.0   6700.0      0.153284      0.360288   0.000000      0.000000   \n",
       "CreditScore_8.0   6700.0      0.104179      0.305516   0.000000      0.000000   \n",
       "CreditScore_1.0   6700.0      0.050448      0.218883   0.000000      0.000000   \n",
       "CreditScore_9.0   6700.0      0.059552      0.236673   0.000000      0.000000   \n",
       "CreditScore_0.0   6700.0      0.024925      0.155909   0.000000      0.000000   \n",
       "CreditScore_7.0   6700.0      0.138209      0.345145   0.000000      0.000000   \n",
       "CreditScore_3.0   6700.0      0.099851      0.299823   0.000000      0.000000   \n",
       "\n",
       "                           50%            75%            max  \n",
       "Age                   2.401458       2.468981       2.714951  \n",
       "Tenure                5.000000       7.000000      10.000000  \n",
       "NumOfProducts         1.000000       2.000000       4.000000  \n",
       "EstimatedSalary   99675.470000  149479.232500  199992.480000  \n",
       "Geography_France      1.000000       1.000000       1.000000  \n",
       "Geography_Spain       0.000000       0.000000       1.000000  \n",
       "Gender_Female         0.000000       1.000000       1.000000  \n",
       "HasCrCard_0           0.000000       1.000000       1.000000  \n",
       "IsActiveMember_0      0.000000       1.000000       1.000000  \n",
       "Balance_5.0           0.000000       0.000000       1.000000  \n",
       "Balance_0.0           0.000000       1.000000       1.000000  \n",
       "Balance_4.0           0.000000       0.000000       1.000000  \n",
       "Balance_3.0           0.000000       0.000000       1.000000  \n",
       "Balance_9.0           0.000000       0.000000       1.000000  \n",
       "Balance_7.0           0.000000       0.000000       1.000000  \n",
       "Balance_6.0           0.000000       0.000000       1.000000  \n",
       "Balance_8.0           0.000000       0.000000       1.000000  \n",
       "Balance_2.0           0.000000       0.000000       1.000000  \n",
       "CreditScore_4.0       0.000000       0.000000       1.000000  \n",
       "CreditScore_5.0       0.000000       0.000000       1.000000  \n",
       "CreditScore_6.0       0.000000       0.000000       1.000000  \n",
       "CreditScore_8.0       0.000000       0.000000       1.000000  \n",
       "CreditScore_1.0       0.000000       0.000000       1.000000  \n",
       "CreditScore_9.0       0.000000       0.000000       1.000000  \n",
       "CreditScore_0.0       0.000000       0.000000       1.000000  \n",
       "CreditScore_7.0       0.000000       0.000000       1.000000  \n",
       "CreditScore_3.0       0.000000       0.000000       1.000000  "
      ]
     },
     "execution_count": 95,
     "metadata": {},
     "output_type": "execute_result"
    }
   ],
   "source": [
    "# Since we have done some transformations. Let us check the scale of of the features again\n",
    "X_train_fe.describe().T"
   ]
  },
  {
   "cell_type": "markdown",
   "metadata": {
    "id": "zdd1SdmGsTHp"
   },
   "source": [
    "- Age, Tenure, and NumofProducts are continuous variables. These variables have different ranges. Since we intend to use k-nearest neighbor, so we need to use feature scaling on these variables.\n",
    "\n",
    "- All other variables are binary variables, and hence, we do not need to scale those as well. \n",
    "\n"
   ]
  },
  {
   "cell_type": "markdown",
   "metadata": {
    "id": "NcKlH6Iut2LH"
   },
   "source": [
    "We will demonstrate the use of StandardScalar method.\n",
    "For syntax of other methods , please refer to the following link: "
   ]
  },
  {
   "cell_type": "code",
   "execution_count": 96,
   "metadata": {
    "ExecuteTime": {
     "end_time": "2022-09-20T01:11:51.777407Z",
     "start_time": "2022-09-20T01:11:51.771910Z"
    },
    "executionInfo": {
     "elapsed": 200,
     "status": "ok",
     "timestamp": 1663620019613,
     "user": {
      "displayName": "Kyungseob Shim",
      "userId": "04167791068819005440"
     },
     "user_tz": 300
    },
    "id": "GWa8eSkCrelf"
   },
   "outputs": [],
   "source": [
    "# Use MinMaxScaler\n",
    "from sklearn.preprocessing import  MinMaxScaler"
   ]
  },
  {
   "cell_type": "code",
   "execution_count": 97,
   "metadata": {
    "ExecuteTime": {
     "end_time": "2022-09-20T01:11:52.866526Z",
     "start_time": "2022-09-20T01:11:52.849572Z"
    },
    "executionInfo": {
     "elapsed": 193,
     "status": "ok",
     "timestamp": 1663620209224,
     "user": {
      "displayName": "Kyungseob Shim",
      "userId": "04167791068819005440"
     },
     "user_tz": 300
    },
    "id": "KPNyk1xxMbh4"
   },
   "outputs": [],
   "source": [
    "minmax_scaler = SklearnTransformerWrapper(transformer = StandardScaler(),\n",
    "                                    variables = ['Age', 'Tenure', 'NumOfProducts'])"
   ]
  },
  {
   "cell_type": "code",
   "execution_count": 98,
   "metadata": {
    "ExecuteTime": {
     "end_time": "2022-09-20T01:11:54.472004Z",
     "start_time": "2022-09-20T01:11:54.452058Z"
    },
    "colab": {
     "base_uri": "https://localhost:8080/",
     "height": 300
    },
    "executionInfo": {
     "elapsed": 552,
     "status": "ok",
     "timestamp": 1663620023991,
     "user": {
      "displayName": "Kyungseob Shim",
      "userId": "04167791068819005440"
     },
     "user_tz": 300
    },
    "id": "kC3Xtdf8NWLL",
    "outputId": "f98cfb73-a741-4612-bc4d-3ab2e8861086"
   },
   "outputs": [
    {
     "data": {
      "text/html": [
       "<div>\n",
       "<style scoped>\n",
       "    .dataframe tbody tr th:only-of-type {\n",
       "        vertical-align: middle;\n",
       "    }\n",
       "\n",
       "    .dataframe tbody tr th {\n",
       "        vertical-align: top;\n",
       "    }\n",
       "\n",
       "    .dataframe thead th {\n",
       "        text-align: right;\n",
       "    }\n",
       "</style>\n",
       "<table border=\"1\" class=\"dataframe\">\n",
       "  <thead>\n",
       "    <tr style=\"text-align: right;\">\n",
       "      <th></th>\n",
       "      <th>Age</th>\n",
       "      <th>Tenure</th>\n",
       "      <th>NumOfProducts</th>\n",
       "      <th>EstimatedSalary</th>\n",
       "      <th>Geography_France</th>\n",
       "      <th>Geography_Spain</th>\n",
       "      <th>Gender_Female</th>\n",
       "      <th>HasCrCard_0</th>\n",
       "      <th>IsActiveMember_0</th>\n",
       "      <th>Balance_5.0</th>\n",
       "      <th>...</th>\n",
       "      <th>Balance_2.0</th>\n",
       "      <th>CreditScore_4.0</th>\n",
       "      <th>CreditScore_5.0</th>\n",
       "      <th>CreditScore_6.0</th>\n",
       "      <th>CreditScore_8.0</th>\n",
       "      <th>CreditScore_1.0</th>\n",
       "      <th>CreditScore_9.0</th>\n",
       "      <th>CreditScore_0.0</th>\n",
       "      <th>CreditScore_7.0</th>\n",
       "      <th>CreditScore_3.0</th>\n",
       "    </tr>\n",
       "  </thead>\n",
       "  <tbody>\n",
       "    <tr>\n",
       "      <th>4643</th>\n",
       "      <td>2.583603</td>\n",
       "      <td>0.0</td>\n",
       "      <td>1.0</td>\n",
       "      <td>10703.53</td>\n",
       "      <td>1</td>\n",
       "      <td>0</td>\n",
       "      <td>1</td>\n",
       "      <td>1</td>\n",
       "      <td>1</td>\n",
       "      <td>1</td>\n",
       "      <td>...</td>\n",
       "      <td>0</td>\n",
       "      <td>1</td>\n",
       "      <td>0</td>\n",
       "      <td>0</td>\n",
       "      <td>0</td>\n",
       "      <td>0</td>\n",
       "      <td>0</td>\n",
       "      <td>0</td>\n",
       "      <td>0</td>\n",
       "      <td>0</td>\n",
       "    </tr>\n",
       "    <tr>\n",
       "      <th>4673</th>\n",
       "      <td>2.355479</td>\n",
       "      <td>2.0</td>\n",
       "      <td>1.0</td>\n",
       "      <td>96420.58</td>\n",
       "      <td>1</td>\n",
       "      <td>0</td>\n",
       "      <td>0</td>\n",
       "      <td>0</td>\n",
       "      <td>1</td>\n",
       "      <td>0</td>\n",
       "      <td>...</td>\n",
       "      <td>0</td>\n",
       "      <td>0</td>\n",
       "      <td>1</td>\n",
       "      <td>0</td>\n",
       "      <td>0</td>\n",
       "      <td>0</td>\n",
       "      <td>0</td>\n",
       "      <td>0</td>\n",
       "      <td>0</td>\n",
       "      <td>0</td>\n",
       "    </tr>\n",
       "    <tr>\n",
       "      <th>7562</th>\n",
       "      <td>2.355479</td>\n",
       "      <td>6.0</td>\n",
       "      <td>1.0</td>\n",
       "      <td>58458.26</td>\n",
       "      <td>1</td>\n",
       "      <td>0</td>\n",
       "      <td>0</td>\n",
       "      <td>0</td>\n",
       "      <td>1</td>\n",
       "      <td>0</td>\n",
       "      <td>...</td>\n",
       "      <td>0</td>\n",
       "      <td>0</td>\n",
       "      <td>0</td>\n",
       "      <td>1</td>\n",
       "      <td>0</td>\n",
       "      <td>0</td>\n",
       "      <td>0</td>\n",
       "      <td>0</td>\n",
       "      <td>0</td>\n",
       "      <td>0</td>\n",
       "    </tr>\n",
       "    <tr>\n",
       "      <th>1370</th>\n",
       "      <td>2.256071</td>\n",
       "      <td>7.0</td>\n",
       "      <td>2.0</td>\n",
       "      <td>176843.53</td>\n",
       "      <td>1</td>\n",
       "      <td>0</td>\n",
       "      <td>1</td>\n",
       "      <td>0</td>\n",
       "      <td>1</td>\n",
       "      <td>0</td>\n",
       "      <td>...</td>\n",
       "      <td>0</td>\n",
       "      <td>0</td>\n",
       "      <td>0</td>\n",
       "      <td>0</td>\n",
       "      <td>1</td>\n",
       "      <td>0</td>\n",
       "      <td>0</td>\n",
       "      <td>0</td>\n",
       "      <td>0</td>\n",
       "      <td>0</td>\n",
       "    </tr>\n",
       "    <tr>\n",
       "      <th>1981</th>\n",
       "      <td>2.632697</td>\n",
       "      <td>1.0</td>\n",
       "      <td>1.0</td>\n",
       "      <td>134260.34</td>\n",
       "      <td>0</td>\n",
       "      <td>1</td>\n",
       "      <td>1</td>\n",
       "      <td>1</td>\n",
       "      <td>0</td>\n",
       "      <td>0</td>\n",
       "      <td>...</td>\n",
       "      <td>0</td>\n",
       "      <td>0</td>\n",
       "      <td>0</td>\n",
       "      <td>0</td>\n",
       "      <td>0</td>\n",
       "      <td>1</td>\n",
       "      <td>0</td>\n",
       "      <td>0</td>\n",
       "      <td>0</td>\n",
       "      <td>0</td>\n",
       "    </tr>\n",
       "  </tbody>\n",
       "</table>\n",
       "<p>5 rows × 27 columns</p>\n",
       "</div>"
      ],
      "text/plain": [
       "           Age  Tenure  NumOfProducts  EstimatedSalary  Geography_France  \\\n",
       "4643  2.583603     0.0            1.0         10703.53                 1   \n",
       "4673  2.355479     2.0            1.0         96420.58                 1   \n",
       "7562  2.355479     6.0            1.0         58458.26                 1   \n",
       "1370  2.256071     7.0            2.0        176843.53                 1   \n",
       "1981  2.632697     1.0            1.0        134260.34                 0   \n",
       "\n",
       "      Geography_Spain  Gender_Female  HasCrCard_0  IsActiveMember_0  \\\n",
       "4643                0              1            1                 1   \n",
       "4673                0              0            0                 1   \n",
       "7562                0              0            0                 1   \n",
       "1370                0              1            0                 1   \n",
       "1981                1              1            1                 0   \n",
       "\n",
       "      Balance_5.0  ...  Balance_2.0  CreditScore_4.0  CreditScore_5.0  \\\n",
       "4643            1  ...            0                1                0   \n",
       "4673            0  ...            0                0                1   \n",
       "7562            0  ...            0                0                0   \n",
       "1370            0  ...            0                0                0   \n",
       "1981            0  ...            0                0                0   \n",
       "\n",
       "      CreditScore_6.0  CreditScore_8.0  CreditScore_1.0  CreditScore_9.0  \\\n",
       "4643                0                0                0                0   \n",
       "4673                0                0                0                0   \n",
       "7562                1                0                0                0   \n",
       "1370                0                1                0                0   \n",
       "1981                0                0                1                0   \n",
       "\n",
       "      CreditScore_0.0  CreditScore_7.0  CreditScore_3.0  \n",
       "4643                0                0                0  \n",
       "4673                0                0                0  \n",
       "7562                0                0                0  \n",
       "1370                0                0                0  \n",
       "1981                0                0                0  \n",
       "\n",
       "[5 rows x 27 columns]"
      ]
     },
     "execution_count": 98,
     "metadata": {},
     "output_type": "execute_result"
    }
   ],
   "source": [
    "X_train_fe.head()"
   ]
  },
  {
   "cell_type": "code",
   "execution_count": 99,
   "metadata": {
    "ExecuteTime": {
     "end_time": "2022-09-20T01:11:56.729223Z",
     "start_time": "2022-09-20T01:11:56.710178Z"
    },
    "executionInfo": {
     "elapsed": 574,
     "status": "ok",
     "timestamp": 1663620218291,
     "user": {
      "displayName": "Kyungseob Shim",
      "userId": "04167791068819005440"
     },
     "user_tz": 300
    },
    "id": "Tl6gN9iBFKa0"
   },
   "outputs": [],
   "source": [
    "X_train_fe = minmax_scaler.fit_transform(X_train_fe)\n",
    "X_valid_fe = minmax_scaler.fit_transform(X_valid_fe)"
   ]
  },
  {
   "cell_type": "code",
   "execution_count": 100,
   "metadata": {
    "ExecuteTime": {
     "end_time": "2022-09-20T01:11:57.839951Z",
     "start_time": "2022-09-20T01:11:57.816015Z"
    },
    "colab": {
     "base_uri": "https://localhost:8080/",
     "height": 300
    },
    "executionInfo": {
     "elapsed": 180,
     "status": "ok",
     "timestamp": 1663620235840,
     "user": {
      "displayName": "Kyungseob Shim",
      "userId": "04167791068819005440"
     },
     "user_tz": 300
    },
    "id": "b993EHRYNlf4",
    "outputId": "cbbafcff-1c80-4983-c49a-5789d994c5c3"
   },
   "outputs": [
    {
     "data": {
      "text/html": [
       "<div>\n",
       "<style scoped>\n",
       "    .dataframe tbody tr th:only-of-type {\n",
       "        vertical-align: middle;\n",
       "    }\n",
       "\n",
       "    .dataframe tbody tr th {\n",
       "        vertical-align: top;\n",
       "    }\n",
       "\n",
       "    .dataframe thead th {\n",
       "        text-align: right;\n",
       "    }\n",
       "</style>\n",
       "<table border=\"1\" class=\"dataframe\">\n",
       "  <thead>\n",
       "    <tr style=\"text-align: right;\">\n",
       "      <th></th>\n",
       "      <th>Age</th>\n",
       "      <th>Tenure</th>\n",
       "      <th>NumOfProducts</th>\n",
       "      <th>EstimatedSalary</th>\n",
       "      <th>Geography_France</th>\n",
       "      <th>Geography_Spain</th>\n",
       "      <th>Gender_Female</th>\n",
       "      <th>HasCrCard_0</th>\n",
       "      <th>IsActiveMember_0</th>\n",
       "      <th>Balance_5.0</th>\n",
       "      <th>...</th>\n",
       "      <th>Balance_2.0</th>\n",
       "      <th>CreditScore_4.0</th>\n",
       "      <th>CreditScore_5.0</th>\n",
       "      <th>CreditScore_6.0</th>\n",
       "      <th>CreditScore_8.0</th>\n",
       "      <th>CreditScore_1.0</th>\n",
       "      <th>CreditScore_9.0</th>\n",
       "      <th>CreditScore_0.0</th>\n",
       "      <th>CreditScore_7.0</th>\n",
       "      <th>CreditScore_3.0</th>\n",
       "    </tr>\n",
       "  </thead>\n",
       "  <tbody>\n",
       "    <tr>\n",
       "      <th>4643</th>\n",
       "      <td>1.728725</td>\n",
       "      <td>-1.735530</td>\n",
       "      <td>-0.911982</td>\n",
       "      <td>10703.53</td>\n",
       "      <td>1</td>\n",
       "      <td>0</td>\n",
       "      <td>1</td>\n",
       "      <td>1</td>\n",
       "      <td>1</td>\n",
       "      <td>1</td>\n",
       "      <td>...</td>\n",
       "      <td>0</td>\n",
       "      <td>1</td>\n",
       "      <td>0</td>\n",
       "      <td>0</td>\n",
       "      <td>0</td>\n",
       "      <td>0</td>\n",
       "      <td>0</td>\n",
       "      <td>0</td>\n",
       "      <td>0</td>\n",
       "      <td>0</td>\n",
       "    </tr>\n",
       "    <tr>\n",
       "      <th>4673</th>\n",
       "      <td>-0.481103</td>\n",
       "      <td>-1.043054</td>\n",
       "      <td>-0.911982</td>\n",
       "      <td>96420.58</td>\n",
       "      <td>1</td>\n",
       "      <td>0</td>\n",
       "      <td>0</td>\n",
       "      <td>0</td>\n",
       "      <td>1</td>\n",
       "      <td>0</td>\n",
       "      <td>...</td>\n",
       "      <td>0</td>\n",
       "      <td>0</td>\n",
       "      <td>1</td>\n",
       "      <td>0</td>\n",
       "      <td>0</td>\n",
       "      <td>0</td>\n",
       "      <td>0</td>\n",
       "      <td>0</td>\n",
       "      <td>0</td>\n",
       "      <td>0</td>\n",
       "    </tr>\n",
       "    <tr>\n",
       "      <th>7562</th>\n",
       "      <td>-0.481103</td>\n",
       "      <td>0.341897</td>\n",
       "      <td>-0.911982</td>\n",
       "      <td>58458.26</td>\n",
       "      <td>1</td>\n",
       "      <td>0</td>\n",
       "      <td>0</td>\n",
       "      <td>0</td>\n",
       "      <td>1</td>\n",
       "      <td>0</td>\n",
       "      <td>...</td>\n",
       "      <td>0</td>\n",
       "      <td>0</td>\n",
       "      <td>0</td>\n",
       "      <td>1</td>\n",
       "      <td>0</td>\n",
       "      <td>0</td>\n",
       "      <td>0</td>\n",
       "      <td>0</td>\n",
       "      <td>0</td>\n",
       "      <td>0</td>\n",
       "    </tr>\n",
       "    <tr>\n",
       "      <th>1370</th>\n",
       "      <td>-1.444067</td>\n",
       "      <td>0.688135</td>\n",
       "      <td>0.800060</td>\n",
       "      <td>176843.53</td>\n",
       "      <td>1</td>\n",
       "      <td>0</td>\n",
       "      <td>1</td>\n",
       "      <td>0</td>\n",
       "      <td>1</td>\n",
       "      <td>0</td>\n",
       "      <td>...</td>\n",
       "      <td>0</td>\n",
       "      <td>0</td>\n",
       "      <td>0</td>\n",
       "      <td>0</td>\n",
       "      <td>1</td>\n",
       "      <td>0</td>\n",
       "      <td>0</td>\n",
       "      <td>0</td>\n",
       "      <td>0</td>\n",
       "      <td>0</td>\n",
       "    </tr>\n",
       "    <tr>\n",
       "      <th>1981</th>\n",
       "      <td>2.204304</td>\n",
       "      <td>-1.389292</td>\n",
       "      <td>-0.911982</td>\n",
       "      <td>134260.34</td>\n",
       "      <td>0</td>\n",
       "      <td>1</td>\n",
       "      <td>1</td>\n",
       "      <td>1</td>\n",
       "      <td>0</td>\n",
       "      <td>0</td>\n",
       "      <td>...</td>\n",
       "      <td>0</td>\n",
       "      <td>0</td>\n",
       "      <td>0</td>\n",
       "      <td>0</td>\n",
       "      <td>0</td>\n",
       "      <td>1</td>\n",
       "      <td>0</td>\n",
       "      <td>0</td>\n",
       "      <td>0</td>\n",
       "      <td>0</td>\n",
       "    </tr>\n",
       "  </tbody>\n",
       "</table>\n",
       "<p>5 rows × 27 columns</p>\n",
       "</div>"
      ],
      "text/plain": [
       "           Age    Tenure  NumOfProducts  EstimatedSalary  Geography_France  \\\n",
       "4643  1.728725 -1.735530      -0.911982         10703.53                 1   \n",
       "4673 -0.481103 -1.043054      -0.911982         96420.58                 1   \n",
       "7562 -0.481103  0.341897      -0.911982         58458.26                 1   \n",
       "1370 -1.444067  0.688135       0.800060        176843.53                 1   \n",
       "1981  2.204304 -1.389292      -0.911982        134260.34                 0   \n",
       "\n",
       "      Geography_Spain  Gender_Female  HasCrCard_0  IsActiveMember_0  \\\n",
       "4643                0              1            1                 1   \n",
       "4673                0              0            0                 1   \n",
       "7562                0              0            0                 1   \n",
       "1370                0              1            0                 1   \n",
       "1981                1              1            1                 0   \n",
       "\n",
       "      Balance_5.0  ...  Balance_2.0  CreditScore_4.0  CreditScore_5.0  \\\n",
       "4643            1  ...            0                1                0   \n",
       "4673            0  ...            0                0                1   \n",
       "7562            0  ...            0                0                0   \n",
       "1370            0  ...            0                0                0   \n",
       "1981            0  ...            0                0                0   \n",
       "\n",
       "      CreditScore_6.0  CreditScore_8.0  CreditScore_1.0  CreditScore_9.0  \\\n",
       "4643                0                0                0                0   \n",
       "4673                0                0                0                0   \n",
       "7562                1                0                0                0   \n",
       "1370                0                1                0                0   \n",
       "1981                0                0                1                0   \n",
       "\n",
       "      CreditScore_0.0  CreditScore_7.0  CreditScore_3.0  \n",
       "4643                0                0                0  \n",
       "4673                0                0                0  \n",
       "7562                0                0                0  \n",
       "1370                0                0                0  \n",
       "1981                0                0                0  \n",
       "\n",
       "[5 rows x 27 columns]"
      ]
     },
     "execution_count": 100,
     "metadata": {},
     "output_type": "execute_result"
    }
   ],
   "source": [
    "X_train_fe.head()"
   ]
  },
  {
   "cell_type": "markdown",
   "metadata": {
    "id": "M5alW1K3JG1_"
   },
   "source": [
    "# <font color = 'pickle'>**Summary**\n",
    "\n",
    "**Statistics to transform data should always be based on training data.**\n",
    "\n",
    "We have used the fit() and transform() methods in the above examples. So let's summarize these once again."
   ]
  },
  {
   "cell_type": "markdown",
   "metadata": {
    "id": "3JckN8HEXzcS"
   },
   "source": [
    "# <font color = 'pickle'>**fit() vs transform() vs fit_transform()**\n",
    "\n",
    " <font color = 'indianred'>**fit()**</font>\n",
    "\n",
    "* The fit() method calculates the parameters required for transformation and stores the values of parameters. For example, when we apply mean imputation, the fit method will calculate the mean of the features.\n",
    "\n",
    "<font color = 'indianred'>**transform()**</font>\n",
    "* The transform() method will use calculated parameters by fit() method and transform the features. For example, for mean imputation, the transform() method will replace the missing values with the mean calculated by the fit() method.\n",
    "\n",
    "<font color = 'indianred'>**fit_transform**</font>\n",
    "* fit_transform method combines the steps of  fit() method and transform() method.\n",
    "\n",
    "The transformations should always be done based on parameters calculated from training data. <font color = 'indianred'>**We should use fit_transform() for training data and transform() for test/validation datasets.**</font> This makes sure that we are using the exact same parameter for transformation for both training and test datasets. This also prevents data leakage. We will discuss about data leakage in the next lecture.\n"
   ]
  },
  {
   "cell_type": "markdown",
   "metadata": {
    "id": "Vy4eL7-ntMkl"
   },
   "source": [
    "---"
   ]
  }
 ],
 "metadata": {
  "colab": {
   "collapsed_sections": [],
   "provenance": [],
   "toc_visible": true
  },
  "kernelspec": {
   "display_name": "Python 3",
   "language": "python",
   "name": "python3"
  },
  "language_info": {
   "codemirror_mode": {
    "name": "ipython",
    "version": 3
   },
   "file_extension": ".py",
   "mimetype": "text/x-python",
   "name": "python",
   "nbconvert_exporter": "python",
   "pygments_lexer": "ipython3",
   "version": "3.8.8"
  },
  "toc-autonumbering": true,
  "varInspector": {
   "cols": {
    "lenName": 16,
    "lenType": 16,
    "lenVar": 40
   },
   "kernels_config": {
    "python": {
     "delete_cmd_postfix": "",
     "delete_cmd_prefix": "del ",
     "library": "var_list.py",
     "varRefreshCmd": "print(var_dic_list())"
    },
    "r": {
     "delete_cmd_postfix": ") ",
     "delete_cmd_prefix": "rm(",
     "library": "var_list.r",
     "varRefreshCmd": "cat(var_dic_list()) "
    }
   },
   "types_to_exclude": [
    "module",
    "function",
    "builtin_function_or_method",
    "instance",
    "_Feature"
   ],
   "window_display": false
  }
 },
 "nbformat": 4,
 "nbformat_minor": 1
}
