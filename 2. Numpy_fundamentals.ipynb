{
 "cells": [
  {
   "cell_type": "markdown",
   "metadata": {
    "id": "ZJj568ZHe26X"
   },
   "source": [
    "# <font color = 'dodgerblue'> **Introduction**\n",
    "* One of the basic fundamental process in data science is efficient \n",
    "storage and manipulation of numerical arrays.\n",
    "* The special packages to handle these numerical arrays in python are Numpy and pandas.\n",
    "* In this notebook, we will explore Numpy package.\n"
   ]
  },
  {
   "cell_type": "markdown",
   "metadata": {
    "id": "o76flkIUxuvt"
   },
   "source": [
    "# <font color = 'dodgerblue'> **Numpy**\n",
    "* Numpy stands for numerical python.\n",
    "* It provides efficient way to store and manipulate arrays.\n",
    "* It also contains useful linear algebra and random number functions\n",
    "\n",
    "\n"
   ]
  },
  {
   "cell_type": "markdown",
   "metadata": {
    "id": "D1_bVmrNq8i0",
    "jp-MarkdownHeadingCollapsed": true,
    "tags": []
   },
   "source": [
    "## <font color = 'dodgerblue'> **Importing a pacakge** </font>\n",
    "\n",
    "1.  Python has a way to put definitions in a file and use them in your program. Such a file is called a module.\n",
    "2. We use import statement to acquire the definitions from a module or the whole module.\n",
    "3. We can import modules from packages using the dot (.) operator. \n",
    "3. **Syntax**:\n",
    "    \n",
    "  ```\n",
    "  import package_name as alias name\n",
    "  ```\n",
    "  Import statement allows to import all the definitions from the given package.\n",
    "\n",
    "  \"Alias name\" can be used to give a short name for the packages. \n"
   ]
  },
  {
   "cell_type": "code",
   "execution_count": 1,
   "metadata": {
    "ExecuteTime": {
     "end_time": "2022-09-04T16:08:52.830270Z",
     "start_time": "2022-09-04T16:08:52.813313Z"
    },
    "execution": {
     "iopub.execute_input": "2022-08-24T23:28:19.108797Z",
     "iopub.status.busy": "2022-08-24T23:28:19.107675Z",
     "iopub.status.idle": "2022-08-24T23:28:19.349026Z",
     "shell.execute_reply": "2022-08-24T23:28:19.348351Z",
     "shell.execute_reply.started": "2022-08-24T23:28:19.108720Z"
    },
    "executionInfo": {
     "elapsed": 5,
     "status": "ok",
     "timestamp": 1661551462037,
     "user": {
      "displayName": "Harpreet SIngh",
      "userId": "15106381096049879330"
     },
     "user_tz": 300
    },
    "id": "ljP9XmoGzo2l",
    "jupyter": {
     "outputs_hidden": true,
     "source_hidden": true
    }
   },
   "outputs": [],
   "source": [
    "# Importing numpy package\n",
    "import numpy as np"
   ]
  },
  {
   "cell_type": "markdown",
   "metadata": {
    "id": "Cd58jTIzoGeZ",
    "jp-MarkdownHeadingCollapsed": true,
    "tags": []
   },
   "source": [
    "\n",
    "## <font color = 'dodgerblue'> **Version  of Numpy**\n",
    "* If there is any prerequisite of package version for any data science project, then its essential to verify the package version.\n",
    "*  We can check the package version as follows `package.__version__`\n",
    "   "
   ]
  },
  {
   "cell_type": "code",
   "execution_count": 2,
   "metadata": {
    "ExecuteTime": {
     "end_time": "2022-09-04T16:08:54.383419Z",
     "start_time": "2022-09-04T16:08:54.374484Z"
    },
    "colab": {
     "base_uri": "https://localhost:8080/"
    },
    "execution": {
     "iopub.execute_input": "2022-08-24T23:28:23.886284Z",
     "iopub.status.busy": "2022-08-24T23:28:23.885931Z",
     "iopub.status.idle": "2022-08-24T23:28:23.890590Z",
     "shell.execute_reply": "2022-08-24T23:28:23.889684Z",
     "shell.execute_reply.started": "2022-08-24T23:28:23.886264Z"
    },
    "executionInfo": {
     "elapsed": 259,
     "status": "ok",
     "timestamp": 1661528893955,
     "user": {
      "displayName": "Harpreet SIngh",
      "userId": "15106381096049879330"
     },
     "user_tz": 300
    },
    "id": "HIOw1QZUqa6a",
    "jupyter": {
     "outputs_hidden": true,
     "source_hidden": true
    },
    "outputId": "1e87029f-1522-4dff-8b0a-60032a2af7e9"
   },
   "outputs": [
    {
     "name": "stdout",
     "output_type": "stream",
     "text": [
      "The version of my numpy package is  1.20.1\n"
     ]
    }
   ],
   "source": [
    "# Check the version of the numpy  \n",
    "print(\"The version of my numpy package is \",np.__version__)"
   ]
  },
  {
   "cell_type": "code",
   "execution_count": 3,
   "metadata": {
    "ExecuteTime": {
     "end_time": "2022-09-04T16:08:55.343374Z",
     "start_time": "2022-09-04T16:08:55.326419Z"
    },
    "execution": {
     "iopub.execute_input": "2022-08-24T23:28:35.123273Z",
     "iopub.status.busy": "2022-08-24T23:28:35.123009Z",
     "iopub.status.idle": "2022-08-24T23:28:35.127779Z",
     "shell.execute_reply": "2022-08-24T23:28:35.126669Z",
     "shell.execute_reply.started": "2022-08-24T23:28:35.123235Z"
    },
    "id": "7zQMeJhP2o8c",
    "jupyter": {
     "outputs_hidden": true,
     "source_hidden": true
    },
    "tags": []
   },
   "outputs": [],
   "source": [
    "# set printion option for the notebook\n",
    "np.set_printoptions(precision=2)"
   ]
  },
  {
   "cell_type": "markdown",
   "metadata": {
    "id": "1CZ_1mek9Pfp",
    "tags": []
   },
   "source": [
    "# <font color = 'dodgerblue'> **Creating Numpy Arrays** </font>\n",
    "There are 3 ways for creating arrays by using numpy and they are:\n",
    "\n",
    "1. Conversion from other Python structures (e.g., lists, tuples)\n",
    "\n",
    "2. Intrinsic numpy array creation objects (e.g., arange, ones, zeros, etc.)\n",
    "\n",
    "5. Use of special library functions (e.g., random)"
   ]
  },
  {
   "cell_type": "markdown",
   "metadata": {
    "id": "P62Mai0sE9nR"
   },
   "source": [
    "## <font color = 'dodgerblue'> **Conversion from other python structures using np.array()**\n",
    "\n",
    "We can easily convert any iterable function such as lists, tuples etc. into arrays by using numpy packages.\n",
    "\n",
    "  **Syntax**:\n",
    "  ```\n",
    "  np.array(list)\n",
    "  np.array(tuple)\n",
    "\n",
    "  ```\n",
    "We can pass iterable functions as an argument for the array() method in numpy.\n"
   ]
  },
  {
   "cell_type": "code",
   "execution_count": 4,
   "metadata": {
    "ExecuteTime": {
     "end_time": "2022-09-04T16:08:58.443481Z",
     "start_time": "2022-09-04T16:08:58.432511Z"
    },
    "colab": {
     "base_uri": "https://localhost:8080/"
    },
    "execution": {
     "iopub.execute_input": "2022-08-24T23:29:28.619719Z",
     "iopub.status.busy": "2022-08-24T23:29:28.619468Z",
     "iopub.status.idle": "2022-08-24T23:29:28.626691Z",
     "shell.execute_reply": "2022-08-24T23:29:28.625702Z",
     "shell.execute_reply.started": "2022-08-24T23:29:28.619701Z"
    },
    "executionInfo": {
     "elapsed": 484,
     "status": "ok",
     "timestamp": 1661528910500,
     "user": {
      "displayName": "Harpreet SIngh",
      "userId": "15106381096049879330"
     },
     "user_tz": 300
    },
    "id": "j6LK6BJt6m3K",
    "jupyter": {
     "outputs_hidden": true,
     "source_hidden": true
    },
    "outputId": "b113e979-9ae7-429c-f107-d4d82e4c4372"
   },
   "outputs": [
    {
     "name": "stdout",
     "output_type": "stream",
     "text": [
      "[1 2 5 4 3 6]\n"
     ]
    }
   ],
   "source": [
    "# Creating array from a list\n",
    "list_array = [1, 2, 5, 4, 3, 6]\n",
    "\n",
    "# creae a numpy array from list\n",
    "numpy_array = np.array(list_array)\n",
    "print(numpy_array)"
   ]
  },
  {
   "cell_type": "code",
   "execution_count": 5,
   "metadata": {
    "ExecuteTime": {
     "end_time": "2022-09-04T16:08:59.143401Z",
     "start_time": "2022-09-04T16:08:59.133430Z"
    },
    "colab": {
     "base_uri": "https://localhost:8080/"
    },
    "execution": {
     "iopub.execute_input": "2022-08-24T23:29:36.268961Z",
     "iopub.status.busy": "2022-08-24T23:29:36.267995Z",
     "iopub.status.idle": "2022-08-24T23:29:36.275246Z",
     "shell.execute_reply": "2022-08-24T23:29:36.274325Z",
     "shell.execute_reply.started": "2022-08-24T23:29:36.268918Z"
    },
    "executionInfo": {
     "elapsed": 263,
     "status": "ok",
     "timestamp": 1661528920617,
     "user": {
      "displayName": "Harpreet SIngh",
      "userId": "15106381096049879330"
     },
     "user_tz": 300
    },
    "id": "v3Jsb5Je-JFb",
    "jupyter": {
     "outputs_hidden": true,
     "source_hidden": true
    },
    "outputId": "ee901303-6a3d-436a-8865-991f6761c835"
   },
   "outputs": [
    {
     "name": "stdout",
     "output_type": "stream",
     "text": [
      "[ 1  2 45 36]\n"
     ]
    }
   ],
   "source": [
    "# Creating arrays from tuple\n",
    "my_tuple = (1, 2, 45, 36)\n",
    "numpy_array= np.array(my_tuple)\n",
    "print(numpy_array)"
   ]
  },
  {
   "cell_type": "code",
   "execution_count": 6,
   "metadata": {
    "ExecuteTime": {
     "end_time": "2022-09-04T16:09:00.341729Z",
     "start_time": "2022-09-04T16:09:00.328764Z"
    },
    "colab": {
     "base_uri": "https://localhost:8080/"
    },
    "execution": {
     "iopub.execute_input": "2022-08-24T23:29:42.326640Z",
     "iopub.status.busy": "2022-08-24T23:29:42.326382Z",
     "iopub.status.idle": "2022-08-24T23:29:42.331607Z",
     "shell.execute_reply": "2022-08-24T23:29:42.330297Z",
     "shell.execute_reply.started": "2022-08-24T23:29:42.326623Z"
    },
    "executionInfo": {
     "elapsed": 255,
     "status": "ok",
     "timestamp": 1661528929764,
     "user": {
      "displayName": "Harpreet SIngh",
      "userId": "15106381096049879330"
     },
     "user_tz": 300
    },
    "id": "uoCRfw1J61qz",
    "jupyter": {
     "outputs_hidden": true,
     "source_hidden": true
    },
    "outputId": "f794e5a4-8880-4429-d6b8-e9de67dc8f30"
   },
   "outputs": [
    {
     "name": "stdout",
     "output_type": "stream",
     "text": [
      "The numpy array is : \n",
      " [12 45 78 36 45]\n"
     ]
    }
   ],
   "source": [
    "# Creating 1 dimensional array from numpy package\n",
    "num = np.array([12, 45, 78, 36, 45])\n",
    "print(f'The numpy array is : \\n {num}')"
   ]
  },
  {
   "cell_type": "code",
   "execution_count": 7,
   "metadata": {
    "ExecuteTime": {
     "end_time": "2022-09-04T16:09:00.954997Z",
     "start_time": "2022-09-04T16:09:00.939039Z"
    },
    "colab": {
     "base_uri": "https://localhost:8080/"
    },
    "execution": {
     "iopub.execute_input": "2022-08-24T23:29:48.363787Z",
     "iopub.status.busy": "2022-08-24T23:29:48.363392Z",
     "iopub.status.idle": "2022-08-24T23:29:48.369411Z",
     "shell.execute_reply": "2022-08-24T23:29:48.368389Z",
     "shell.execute_reply.started": "2022-08-24T23:29:48.363740Z"
    },
    "executionInfo": {
     "elapsed": 274,
     "status": "ok",
     "timestamp": 1661528934874,
     "user": {
      "displayName": "Harpreet SIngh",
      "userId": "15106381096049879330"
     },
     "user_tz": 300
    },
    "id": "Nxk1VFOR8qwj",
    "jupyter": {
     "outputs_hidden": true,
     "source_hidden": true
    },
    "outputId": "2015a1aa-135b-48ad-8374-f8a833a3c12a"
   },
   "outputs": [
    {
     "name": "stdout",
     "output_type": "stream",
     "text": [
      "The 2 dimensional array is:\n",
      " [[12 45 65 78]\n",
      " [12  1  2  3]]\n"
     ]
    }
   ],
   "source": [
    "# Creating 2 dimensional array from numpy package\n",
    "numpy_array = np.array([[12, 45, 65, 78],[12, 1, 2, 3]])\n",
    "print(f'The 2 dimensional array is:\\n {numpy_array}')"
   ]
  },
  {
   "cell_type": "markdown",
   "metadata": {
    "id": "jbjL7WtshGEW"
   },
   "source": [
    "## <font color = 'dodgerblue'> **Notation**\n",
    "\n",
    "* In NumPy, each dimension is called an **axis**.\n",
    "* The number of axes is called the **rank**.\n",
    "    * For example, the above 2x2 matrix is an array of rank 2 (it is 2-dimensional).\n",
    "    * The first axis has length 2, the second has length 4.\n",
    "*  shape gives the size of each dimensions in an array.\n",
    "    * For example, the above array's shape is `(2, 4)`.\n",
    "    * The rank is equal to the shape's length.\n",
    "* The **size** of an array is the total number of elements, which is the product of all axis lengths (eg. 2*4=8)"
   ]
  },
  {
   "cell_type": "markdown",
   "metadata": {
    "id": "NiiDIxat-6sa"
   },
   "source": [
    "## <font color = 'dodgerblue'> **Intrinsic numpy array creation objects**\n",
    "Numpy has a special built in function to create arrays from the scratch.\n",
    "\n",
    "\n"
   ]
  },
  {
   "cell_type": "markdown",
   "metadata": {
    "id": "0ShKWnZKjOW6"
   },
   "source": [
    "### <font color = 'dodgerblue'> **np.zeros**\n",
    "An array filled with zeros can be created by specifying particular shape and data type. The default datatype is **float64**.\n",
    "  \n",
    " **Syntax** :\n",
    "  ```\n",
    "   np.zeros(shape, dtype)\n",
    "  ```"
   ]
  },
  {
   "cell_type": "code",
   "execution_count": 8,
   "metadata": {
    "ExecuteTime": {
     "end_time": "2022-09-04T16:09:03.446904Z",
     "start_time": "2022-09-04T16:09:03.430980Z"
    },
    "colab": {
     "base_uri": "https://localhost:8080/"
    },
    "execution": {
     "iopub.execute_input": "2022-08-24T23:30:28.721057Z",
     "iopub.status.busy": "2022-08-24T23:30:28.720788Z",
     "iopub.status.idle": "2022-08-24T23:30:28.730818Z",
     "shell.execute_reply": "2022-08-24T23:30:28.729785Z",
     "shell.execute_reply.started": "2022-08-24T23:30:28.721037Z"
    },
    "executionInfo": {
     "elapsed": 285,
     "status": "ok",
     "timestamp": 1661529034394,
     "user": {
      "displayName": "Harpreet SIngh",
      "userId": "15106381096049879330"
     },
     "user_tz": 300
    },
    "id": "YhUc4wRa9Dt6",
    "jupyter": {
     "outputs_hidden": true,
     "source_hidden": true
    },
    "outputId": "8f52dfe7-2aa7-4b32-f7bb-d2ef0c275e11"
   },
   "outputs": [
    {
     "data": {
      "text/plain": [
       "array([0., 0., 0., 0., 0., 0., 0., 0., 0., 0.])"
      ]
     },
     "execution_count": 8,
     "metadata": {},
     "output_type": "execute_result"
    }
   ],
   "source": [
    "# Creating a one dimensional array filled with zeros\n",
    "np.zeros(10, dtype = float)"
   ]
  },
  {
   "cell_type": "code",
   "execution_count": 9,
   "metadata": {
    "ExecuteTime": {
     "end_time": "2022-09-04T16:09:24.238203Z",
     "start_time": "2022-09-04T16:09:24.234249Z"
    },
    "colab": {
     "base_uri": "https://localhost:8080/"
    },
    "execution": {
     "iopub.execute_input": "2022-08-24T23:30:34.526342Z",
     "iopub.status.busy": "2022-08-24T23:30:34.526110Z",
     "iopub.status.idle": "2022-08-24T23:30:34.531737Z",
     "shell.execute_reply": "2022-08-24T23:30:34.530878Z",
     "shell.execute_reply.started": "2022-08-24T23:30:34.526319Z"
    },
    "executionInfo": {
     "elapsed": 260,
     "status": "ok",
     "timestamp": 1661529039515,
     "user": {
      "displayName": "Harpreet SIngh",
      "userId": "15106381096049879330"
     },
     "user_tz": 300
    },
    "id": "6HSVgmoBCkaw",
    "jupyter": {
     "outputs_hidden": true,
     "source_hidden": true
    },
    "outputId": "62b551a8-f6a5-4e49-e232-8a28e6e6584e"
   },
   "outputs": [
    {
     "data": {
      "text/plain": [
       "array([[0., 0., 0.],\n",
       "       [0., 0., 0.]])"
      ]
     },
     "execution_count": 9,
     "metadata": {},
     "output_type": "execute_result"
    }
   ],
   "source": [
    "# Creating a two dimensional array filled with zeros\n",
    "# The following will have 2 rows and 3 columns \n",
    "\n",
    "np.zeros((2,3), dtype = float)"
   ]
  },
  {
   "cell_type": "markdown",
   "metadata": {
    "id": "RgQeyRdZjmGU"
   },
   "source": [
    "### <font color = 'dodgerblue'> **np.ones**\n",
    " An array filled with only ones can be created by specifying particular shape and data type. The default shape is **float64**.\n",
    "  \n",
    "  **Syntax**:\n",
    "  ```\n",
    "  np.ones(shape, dtype)\n",
    "  ```\n",
    "  where, dtype can be used as int, float etc."
   ]
  },
  {
   "cell_type": "code",
   "execution_count": 10,
   "metadata": {
    "ExecuteTime": {
     "end_time": "2022-09-04T16:09:30.503934Z",
     "start_time": "2022-09-04T16:09:30.494958Z"
    },
    "colab": {
     "base_uri": "https://localhost:8080/"
    },
    "executionInfo": {
     "elapsed": 403,
     "status": "ok",
     "timestamp": 1661529052495,
     "user": {
      "displayName": "Harpreet SIngh",
      "userId": "15106381096049879330"
     },
     "user_tz": 300
    },
    "id": "tuw9ETTNC1Mc",
    "jupyter": {
     "outputs_hidden": true,
     "source_hidden": true
    },
    "outputId": "33db5219-151d-4f56-8b06-aa71eb1b4333"
   },
   "outputs": [
    {
     "data": {
      "text/plain": [
       "array([1, 1, 1, 1, 1, 1, 1, 1, 1, 1, 1, 1, 1, 1, 1, 1, 1, 1, 1, 1])"
      ]
     },
     "execution_count": 10,
     "metadata": {},
     "output_type": "execute_result"
    }
   ],
   "source": [
    "# Creating a 1 dimensional array using ones method\n",
    "np.ones(20, dtype = int)"
   ]
  },
  {
   "cell_type": "code",
   "execution_count": 11,
   "metadata": {
    "ExecuteTime": {
     "end_time": "2022-09-04T16:09:31.877892Z",
     "start_time": "2022-09-04T16:09:31.865912Z"
    },
    "colab": {
     "base_uri": "https://localhost:8080/"
    },
    "executionInfo": {
     "elapsed": 256,
     "status": "ok",
     "timestamp": 1661529059053,
     "user": {
      "displayName": "Harpreet SIngh",
      "userId": "15106381096049879330"
     },
     "user_tz": 300
    },
    "id": "ZWaUJx0FDIsI",
    "jupyter": {
     "outputs_hidden": true,
     "source_hidden": true
    },
    "outputId": "0e4f4fa6-dc8d-4c17-d8fc-48369e92da19"
   },
   "outputs": [
    {
     "data": {
      "text/plain": [
       "array([[1., 1.],\n",
       "       [1., 1.],\n",
       "       [1., 1.]])"
      ]
     },
     "execution_count": 11,
     "metadata": {},
     "output_type": "execute_result"
    }
   ],
   "source": [
    "# Creating a 2 dimensional array using ones method.\n",
    "# The following array will have 3 rows and 2 columns \n",
    "np.ones((3, 2), dtype = float)"
   ]
  },
  {
   "cell_type": "markdown",
   "metadata": {
    "id": "SeKB1vyfztOO"
   },
   "source": [
    "### <font color = 'dodgerblue'>**np.full()**\n",
    "We can create  an array of the given shape initialized with any given value.\n",
    "\n",
    " **Syntax** :\n",
    "  ```\n",
    "   np.full(shape, fill_value, dtype)\n",
    "  ```"
   ]
  },
  {
   "cell_type": "code",
   "execution_count": 12,
   "metadata": {
    "ExecuteTime": {
     "end_time": "2022-09-04T16:09:33.568433Z",
     "start_time": "2022-09-04T16:09:33.553522Z"
    },
    "colab": {
     "base_uri": "https://localhost:8080/"
    },
    "executionInfo": {
     "elapsed": 369,
     "status": "ok",
     "timestamp": 1661529076784,
     "user": {
      "displayName": "Harpreet SIngh",
      "userId": "15106381096049879330"
     },
     "user_tz": 300
    },
    "id": "vkRbXZwW0HE3",
    "jupyter": {
     "outputs_hidden": true,
     "source_hidden": true
    },
    "outputId": "25dcd3f9-3188-479f-e693-324171b99ad2"
   },
   "outputs": [
    {
     "data": {
      "text/plain": [
       "array([[5, 5, 5],\n",
       "       [5, 5, 5]])"
      ]
     },
     "execution_count": 12,
     "metadata": {},
     "output_type": "execute_result"
    }
   ],
   "source": [
    "np.full((2,3), 5)"
   ]
  },
  {
   "cell_type": "markdown",
   "metadata": {
    "id": "Koo7peFEk4Os"
   },
   "source": [
    "### <font color = 'dodgerblue'> **np.arange()**\n",
    "arange() method is used to create values in the array in an increasing order. It is similar to the built in python range() method.\n",
    " \n",
    " **Syntax** :\n",
    "```\n",
    "np.arange(stop, dtype)\n",
    "np.arange(start, stop, dtype)\n",
    "np.arange(start, stop, step, dtype)\n",
    "```\n",
    "where,\n",
    "\n",
    "> **start** - \tOptional. An integer number specifying the strat position. Default is 0\n",
    "\n",
    "> **stop** - Required. An integer number specifying the stop position (**not included**).\n",
    "\n",
    "> **step (Optional)** - Optional. An integer value which determines the increment. default is 1"
   ]
  },
  {
   "cell_type": "code",
   "execution_count": 13,
   "metadata": {
    "ExecuteTime": {
     "end_time": "2022-09-04T16:09:37.208119Z",
     "start_time": "2022-09-04T16:09:37.188172Z"
    },
    "colab": {
     "base_uri": "https://localhost:8080/"
    },
    "executionInfo": {
     "elapsed": 801,
     "status": "ok",
     "timestamp": 1661529408113,
     "user": {
      "displayName": "Harpreet SIngh",
      "userId": "15106381096049879330"
     },
     "user_tz": 300
    },
    "id": "MqNFHTrLDbhn",
    "jupyter": {
     "outputs_hidden": true,
     "source_hidden": true
    },
    "outputId": "b665a959-b612-4357-81f2-1d2771567d4f"
   },
   "outputs": [
    {
     "name": "stdout",
     "output_type": "stream",
     "text": [
      "An array starting from default 0 to 9 elements [0. 1. 2. 3. 4. 5. 6. 7. 8. 9.]\n",
      "\n",
      " An array starting from 12 and end at 24 [12 13 14 15 16 17 18 19 20 21 22 23 24]\n",
      "\n",
      " An array starting from 12 ,ending at 29 and incrementing each element by 5 [12 17 22 27]\n"
     ]
    }
   ],
   "source": [
    "# Creating an array using arange() method\n",
    "\n",
    "# It will give an array starting from default 0 to 9 elements\n",
    "a = np.arange(10, dtype = float)\n",
    "print(f\"An array starting from default 0 to 9 elements {a}\")\n",
    "\n",
    "# It will give an array starting from 12 and end at 24\n",
    "b = np.arange(12, 25, dtype = int)\n",
    "print(f\"\\n An array starting from 12 and end at 24 {b}\")\n",
    "\n",
    "# It will give an array starting from 12 ,ending at 29 and incrementing each element by 5\n",
    "c = np.arange(12, 30, 5, dtype = int)\n",
    "print(f\"\\n An array starting from 12 ,ending at 29 and incrementing each element by 5 {c}\")"
   ]
  },
  {
   "cell_type": "markdown",
   "metadata": {
    "id": "2Ok7wbzQxsUc"
   },
   "source": [
    "### <font color = 'dodgerblue'> **np.linspace()**\n",
    "\n",
    "It creates evenly spaced numbers over a specified interval\n",
    "\n",
    "  **Syntax**:\n",
    "\n",
    "  ```\n",
    "  np.linspace(start, stop, num)\n",
    "  ```\n",
    "  - start: strating value of sequence\n",
    "  - end: end value of sequence\n",
    "  - num: number of values to be generated"
   ]
  },
  {
   "cell_type": "code",
   "execution_count": 14,
   "metadata": {
    "ExecuteTime": {
     "end_time": "2022-09-04T16:09:38.814201Z",
     "start_time": "2022-09-04T16:09:38.796250Z"
    },
    "colab": {
     "base_uri": "https://localhost:8080/"
    },
    "executionInfo": {
     "elapsed": 126,
     "status": "ok",
     "timestamp": 1661400074278,
     "user": {
      "displayName": "Harpreet SIngh",
      "userId": "15106381096049879330"
     },
     "user_tz": 300
    },
    "id": "IX5VyoH6VX6S",
    "jupyter": {
     "outputs_hidden": true,
     "source_hidden": true
    },
    "outputId": "68011f7a-bd8c-4b71-bd8d-ecbed49aa420"
   },
   "outputs": [
    {
     "name": "stdout",
     "output_type": "stream",
     "text": [
      "\n",
      " Ten evenly spaced values between 0 and 5 [0.   0.56 1.11 1.67 2.22 2.78 3.33 3.89 4.44 5.  ]\n"
     ]
    }
   ],
   "source": [
    "# create an array using np.linspace\n",
    "# create 10 evenly soaced values between 0 and 4\n",
    "d = np.linspace(start=0, stop = 5, num = 10)\n",
    "print(f\"\\n Ten evenly spaced values between 0 and 5 {d}\")"
   ]
  },
  {
   "cell_type": "markdown",
   "metadata": {
    "id": "MNJ6gl3xy_4U"
   },
   "source": [
    "### <font color = 'dodgerblue'> **eye()**\n",
    "This  method can be used to create an identity matrix or array. \n",
    "  * An **identity matrix** is a matrix which does not change any array when we multiply (matrix multiplication) the array with that matrix.\n",
    "  * The principal diagonal elements are ones and all other elements are zeros.\n",
    "\n",
    " **Example**:\n",
    "  $$\\begin{bmatrix} 1 & 0 & 0 \\\\ 0 & 1 & 0 \\\\ 0 & 0 & 1 \\end{bmatrix}$$\n",
    "\n",
    "\n",
    "  **Syntax**:\n",
    "\n",
    "\n",
    "  ```\n",
    "  np.eye(shape of the array, dtype)\n",
    "  ```\n",
    "  It gives a square matrix where rows and columns are same and we can define data type as int, float etc."
   ]
  },
  {
   "cell_type": "code",
   "execution_count": 15,
   "metadata": {
    "ExecuteTime": {
     "end_time": "2022-09-04T16:09:40.451484Z",
     "start_time": "2022-09-04T16:09:40.436526Z"
    },
    "colab": {
     "base_uri": "https://localhost:8080/"
    },
    "executionInfo": {
     "elapsed": 284,
     "status": "ok",
     "timestamp": 1661529466279,
     "user": {
      "displayName": "Harpreet SIngh",
      "userId": "15106381096049879330"
     },
     "user_tz": 300
    },
    "id": "Q-7fvRRQLkqV",
    "jupyter": {
     "outputs_hidden": true,
     "source_hidden": true
    },
    "outputId": "703d48b6-0a6a-46f6-f5b6-4b7f5bef163f"
   },
   "outputs": [
    {
     "data": {
      "text/plain": [
       "array([[1., 0., 0., 0., 0.],\n",
       "       [0., 1., 0., 0., 0.],\n",
       "       [0., 0., 1., 0., 0.],\n",
       "       [0., 0., 0., 1., 0.],\n",
       "       [0., 0., 0., 0., 1.]])"
      ]
     },
     "execution_count": 15,
     "metadata": {},
     "output_type": "execute_result"
    }
   ],
   "source": [
    "# Using eye() method to create an identity matrix or array\n",
    "# The following matrix has 5 rows and 5 columns\n",
    "np.eye(5, dtype = float)"
   ]
  },
  {
   "cell_type": "markdown",
   "metadata": {
    "id": "Cycn0LCEEq0u"
   },
   "source": [
    "## <font color = 'dodgerblue'> **Special library functions**"
   ]
  },
  {
   "cell_type": "markdown",
   "metadata": {
    "id": "aTfdgYF80-nV"
   },
   "source": [
    "### <font color = 'dodgerblue'>**np.random()**\n",
    "\n",
    "numpy.random() method can be used to generate array with random numbers. \n",
    "\n",
    "\n",
    "  **Syntax**:\n",
    "```\n",
    "    np.random.randint(start, end, shape of array) # random integers\n",
    "    np.random.uniform(start, end, shape of array) # random numbers from uniform distribution\n",
    "    np.random.normal(mean, standard deviation, shape) # random numbers from normal distribution\n",
    "\n",
    "```\n",
    "\n"
   ]
  },
  {
   "cell_type": "markdown",
   "metadata": {
    "id": "F6gL4Jw9uR1l"
   },
   "source": [
    "#### <font color = 'dodgerblue'> **Random integers - randint()**"
   ]
  },
  {
   "cell_type": "code",
   "execution_count": 16,
   "metadata": {
    "ExecuteTime": {
     "end_time": "2022-09-04T16:09:43.402303Z",
     "start_time": "2022-09-04T16:09:43.383354Z"
    },
    "colab": {
     "base_uri": "https://localhost:8080/"
    },
    "executionInfo": {
     "elapsed": 277,
     "status": "ok",
     "timestamp": 1661529510401,
     "user": {
      "displayName": "Harpreet SIngh",
      "userId": "15106381096049879330"
     },
     "user_tz": 300
    },
    "id": "IfxYrkbAIO23",
    "jupyter": {
     "outputs_hidden": true,
     "source_hidden": true
    },
    "outputId": "e81cd6bb-ae49-47dd-ae30-500e6fc5086e"
   },
   "outputs": [
    {
     "name": "stdout",
     "output_type": "stream",
     "text": [
      "[[5 5 7]\n",
      " [8 4 7]\n",
      " [5 4 5]]\n",
      "\n",
      "[[6 9 2]\n",
      " [7 6 6]\n",
      " [5 4 6]]\n"
     ]
    }
   ],
   "source": [
    "# Create an array that has random numbers (integers) between 0 to 10 in an array\n",
    "# The array will consist of 3 rows and 3 columns\n",
    "a = np.random.randint(0, 10, (3, 3)) #  here 0 is inclusive but 10 is not\n",
    "print(a)\n",
    "\n",
    "# the command below will also give the same result\n",
    "# when we specify only one paramter then it stats from 0 till that value\n",
    "b = np.random.randint(10, size = (3, 3)) \n",
    "print(f'\\n{b}')"
   ]
  },
  {
   "cell_type": "markdown",
   "metadata": {
    "id": "v01_uG5ouUNv"
   },
   "source": [
    "#### <font color = 'dodgerblue'> **Normal Distribution - normal()**"
   ]
  },
  {
   "cell_type": "code",
   "execution_count": 17,
   "metadata": {
    "ExecuteTime": {
     "end_time": "2022-09-04T16:09:45.252431Z",
     "start_time": "2022-09-04T16:09:45.241490Z"
    },
    "colab": {
     "base_uri": "https://localhost:8080/"
    },
    "executionInfo": {
     "elapsed": 290,
     "status": "ok",
     "timestamp": 1661529553533,
     "user": {
      "displayName": "Harpreet SIngh",
      "userId": "15106381096049879330"
     },
     "user_tz": 300
    },
    "id": "mOZU1ubPJzOs",
    "jupyter": {
     "outputs_hidden": true,
     "source_hidden": true
    },
    "outputId": "895a11d3-3b98-4dcb-c10a-a3d72be6a0fb"
   },
   "outputs": [
    {
     "data": {
      "text/plain": [
       "array([[ 1.19e+00,  1.78e+00, -6.64e-03],\n",
       "       [ 8.34e+00,  6.11e+00,  2.44e+00]])"
      ]
     },
     "execution_count": 17,
     "metadata": {},
     "output_type": "execute_result"
    }
   ],
   "source": [
    "# Create an array normally distributed values\n",
    "# with mean = 2 and standard deviation = 3\n",
    "\n",
    "np.random.normal(2, 3, (2, 3))"
   ]
  },
  {
   "cell_type": "markdown",
   "metadata": {
    "id": "zJRSVnQDuWOd"
   },
   "source": [
    "#### <font color = 'dodgerblue'> **Random Numbers - Uniform DIstributon - uniform()**"
   ]
  },
  {
   "cell_type": "code",
   "execution_count": 18,
   "metadata": {
    "ExecuteTime": {
     "end_time": "2022-09-04T16:09:46.919920Z",
     "start_time": "2022-09-04T16:09:46.914935Z"
    },
    "colab": {
     "base_uri": "https://localhost:8080/"
    },
    "executionInfo": {
     "elapsed": 367,
     "status": "ok",
     "timestamp": 1661529560711,
     "user": {
      "displayName": "Harpreet SIngh",
      "userId": "15106381096049879330"
     },
     "user_tz": 300
    },
    "id": "_6IkauyGKIWP",
    "jupyter": {
     "outputs_hidden": true,
     "source_hidden": true
    },
    "outputId": "1f7eb6fb-2d60-4734-b4b1-b5bd58c55454"
   },
   "outputs": [
    {
     "data": {
      "text/plain": [
       "array([[0.38, 0.97, 0.55, 0.22],\n",
       "       [0.74, 0.46, 0.54, 0.8 ],\n",
       "       [0.68, 0.24, 0.93, 0.37]])"
      ]
     },
     "execution_count": 18,
     "metadata": {},
     "output_type": "execute_result"
    }
   ],
   "source": [
    "# To create an array of uniformly distributed values.\n",
    "# random values between 0 and 1\n",
    "\n",
    "np.random.uniform(0, 1, (3, 4))"
   ]
  },
  {
   "cell_type": "markdown",
   "metadata": {
    "id": "p52Im_2wuZcg"
   },
   "source": [
    "#### <font color = 'dodgerblue'> **Set Seed - seed()**"
   ]
  },
  {
   "cell_type": "markdown",
   "metadata": {
    "id": "UqHQysUz9X-I"
   },
   "source": [
    "* numpy.random.seed() can be used to initialize random number generators. This will help us to generate same set of random  numbers everytie we run our code.\n",
    "\n",
    "  **Syntax**\n",
    "\n",
    "\n",
    "```\n",
    "    numpy.random.seed()\n",
    "    numpy.random.randint(start,stop)\n",
    "```\n",
    "* We can pass any integer in the seed argument.\n",
    "* Then we can generate a random number which will be same all the time."
   ]
  },
  {
   "cell_type": "code",
   "execution_count": 19,
   "metadata": {
    "ExecuteTime": {
     "end_time": "2022-09-04T16:09:49.097097Z",
     "start_time": "2022-09-04T16:09:49.087124Z"
    },
    "colab": {
     "base_uri": "https://localhost:8080/"
    },
    "executionInfo": {
     "elapsed": 283,
     "status": "ok",
     "timestamp": 1661530100309,
     "user": {
      "displayName": "Harpreet SIngh",
      "userId": "15106381096049879330"
     },
     "user_tz": 300
    },
    "id": "5DZFzu-C8AFe",
    "jupyter": {
     "outputs_hidden": true,
     "source_hidden": true
    },
    "outputId": "c9980f4e-35ff-4167-dd83-58cc67a811ab"
   },
   "outputs": [
    {
     "data": {
      "text/plain": [
       "45"
      ]
     },
     "execution_count": 19,
     "metadata": {},
     "output_type": "execute_result"
    }
   ],
   "source": [
    "# Using seed() function to generate the random numbers\n",
    "# We can run this cell multiple times and we can get same random number\n",
    "# if we comment the first statement (below) then we will get different number everytime we run this cell.\n",
    "\n",
    "np.random.seed(0)\n",
    "np.random.randint(1, 100)"
   ]
  },
  {
   "cell_type": "markdown",
   "metadata": {
    "id": "8fSWwHDw0icl",
    "jp-MarkdownHeadingCollapsed": true,
    "tags": []
   },
   "source": [
    "# <font color = 'dodgerblue'> **List arrays vs Numpy arrays**\n",
    "- Arrays can store data more compactly.\n",
    "- Lists cannot directly handle math operations whereas Numpy arrays are great for numerical operations.\n",
    "- Appending elements to Numpy array will take more time than lists. Lists are good for the scenario where items can grow dynamically.\n",
    "\n",
    "In the example below, we will now compare the addition of two large collections using numpy and python list."
   ]
  },
  {
   "cell_type": "code",
   "execution_count": 22,
   "metadata": {
    "ExecuteTime": {
     "end_time": "2022-09-04T16:16:06.877092Z",
     "start_time": "2022-09-04T16:16:06.871109Z"
    },
    "id": "LnMHE5Qxy-91",
    "jupyter": {
     "outputs_hidden": true,
     "source_hidden": true
    }
   },
   "outputs": [],
   "source": [
    "import time\n",
    "import numpy as np\n",
    "\n",
    "# manipulating 10 million items\n",
    "n = 10000000\n",
    "\n",
    "# Wrrite a function to calculate time to add two arrays of 10 million items\n",
    "# We will use np.arange function to generate numpy arrays\n",
    "# use time() function from time module\n",
    "\n",
    "def numpy_add():\n",
    "    # time in seconds\n",
    "    now = time.time()\n",
    "    # generating numpy array with 10 million items\n",
    "    x = np.array(np.arange(n))\n",
    "    # generating another numpy array with 10 million items\n",
    "    y = np.array(np.arange(n))\n",
    "    # add two numpy arrays\n",
    "    result = x + y\n",
    "    return time.time() - now\n",
    "\n",
    "# Wrrite a sumilar function using python list\n",
    "# We will use built in range function to generate list of 10 million items\n",
    "# use time() function from time module\n",
    "\n",
    "def python_add():\n",
    "    # time in seconds\n",
    "    now = time.time()\n",
    "    # generating a list with 10 million items\n",
    "    x = list(range(n))\n",
    "    # generating another list with  10 million items\n",
    "    y = list(range(n))\n",
    "    # using list comprehension to add elements in two  lists\n",
    "    result = [x[i] + y[i] for i in range(len(x))]\n",
    "    return time.time() - now"
   ]
  },
  {
   "cell_type": "code",
   "execution_count": 23,
   "metadata": {
    "ExecuteTime": {
     "end_time": "2022-09-04T16:16:13.057720Z",
     "start_time": "2022-09-04T16:16:11.494938Z"
    },
    "colab": {
     "base_uri": "https://localhost:8080/"
    },
    "executionInfo": {
     "elapsed": 2473,
     "status": "ok",
     "timestamp": 1661530270253,
     "user": {
      "displayName": "Harpreet SIngh",
      "userId": "15106381096049879330"
     },
     "user_tz": 300
    },
    "id": "2kChTUyIzF82",
    "jupyter": {
     "outputs_hidden": true,
     "source_hidden": true
    },
    "outputId": "37131c66-c482-4315-d0a1-3574220501c3"
   },
   "outputs": [
    {
     "name": "stdout",
     "output_type": "stream",
     "text": [
      "Python time: 1.2426488399505615s\n",
      "NumPy time: 0.040924787521362305s\n",
      "Numpy is 30.364209937605956x faster!\n"
     ]
    }
   ],
   "source": [
    "# We can check the time difference between array addition by using numpy and list \n",
    "time_python = python_add()\n",
    "time_numpy = numpy_add()\n",
    "print('Python time: ' + str(time_python) + 's')\n",
    "print('NumPy time: ' + str(time_numpy) + 's')\n",
    "print(\"Numpy is \" + str(time_python / time_numpy) + \"x faster!\")"
   ]
  },
  {
   "cell_type": "markdown",
   "metadata": {
    "id": "iCeSdEhoMCe9"
   },
   "source": [
    "# <font color = 'dodgerblue'> **Numpy operations** </font>\n",
    "1. Numpy operations are used to manipulate or perform various types of mathematical operations on  the arrays.\n",
    "\n",
    "2. Few of the numpy operations are ndim, itemsize(), dtype(), reshape(), slicing(), linspace(), min/max(), sum(), sqrt()/std(), hsatck/vstack(), etc.\n",
    "\n",
    "3. These numpy operations can be classified as follows:\n",
    "  * Attributes of arrays\n",
    "  * Indexing of arrays\n",
    "  * Slicing of arrays\n",
    "  * Reshaping of arrays\n",
    "  * Joining and splitting of arrays"
   ]
  },
  {
   "cell_type": "markdown",
   "metadata": {
    "id": "Ws-GO2IY_Dhn"
   },
   "source": [
    "## <font color = 'dodgerblue'> **Attributes of arrays**\n",
    "\n",
    "Attributes of arrays helps in :-\n",
    "*  Determining the size and shape of arrays \n",
    "* Memory consumption by the arrays.  \n",
    "* Different data types of arrays.\n",
    "\n"
   ]
  },
  {
   "cell_type": "markdown",
   "metadata": {
    "id": "YBRoz7o3I2Rb"
   },
   "source": [
    "### <font color = 'dodgerblue'> **Determining the shape of the array** </font>\n",
    "1. For any kind of computations or operations on an array, it is very important to understand what an array’s “shape” is.\n",
    "2. shape, ndim, size are the methods used to determine the shape of the arrays.\n",
    "\n",
    "* **ndim** : It is used to determine the dimension of an array.  **Example** : an array can be of 1 dimensional, 2 dimensional , 3 dimensional etc.\n",
    "\n",
    "  **Syntax**:\n",
    "\n",
    "\n",
    "  ```\n",
    "      ndarray.ndim\n",
    "  ```\n",
    "  where, ndarray is the name of the array\n",
    "\n",
    "* **shape** : It is used to determine the number of elements in each dimensions in an array. **Example** : if an array is 2 dimensional then it will consist of(number of rows, number of columns) as shape.\n",
    "The output of the shape is always mentioned in a tuple form. \n",
    "\n",
    "  **Syntax**:\n",
    "  \n",
    "   ```\n",
    "   ndarray.shape\n",
    "   ```\n",
    "  where, ndarray is the name of the array\n",
    "* **size** : It determines the total size of  the array. **Example**: if an array consists of 60 elements in it. Then the size of the array is the total number of elements in an array and it will be 60.\n",
    "\n",
    " **Syntax**:\n",
    "\n",
    "\n",
    "  ```\n",
    "    ndarray.size\n",
    "  ```\n",
    "  where, ndarray is the name of the array\n",
    "\n",
    "\n",
    "\n"
   ]
  },
  {
   "cell_type": "markdown",
   "metadata": {
    "id": "fHPb6YLlujgF"
   },
   "source": [
    "#### <font color = 'dodgerblue'> **ndim**"
   ]
  },
  {
   "cell_type": "code",
   "execution_count": 24,
   "metadata": {
    "ExecuteTime": {
     "end_time": "2022-09-04T16:16:21.149537Z",
     "start_time": "2022-09-04T16:16:21.135575Z"
    },
    "colab": {
     "base_uri": "https://localhost:8080/"
    },
    "executionInfo": {
     "elapsed": 421,
     "status": "ok",
     "timestamp": 1661530421611,
     "user": {
      "displayName": "Harpreet SIngh",
      "userId": "15106381096049879330"
     },
     "user_tz": 300
    },
    "id": "1M0KS9GqOaZL",
    "jupyter": {
     "outputs_hidden": true,
     "source_hidden": true
    },
    "outputId": "2ff2a6cc-b1e1-41fa-8a80-981e5109c2a6",
    "tags": []
   },
   "outputs": [
    {
     "name": "stdout",
     "output_type": "stream",
     "text": [
      "The dimension of the array 1 is: 1\n",
      "\n",
      "The dimension of the array 2 is:  2\n"
     ]
    }
   ],
   "source": [
    "#To find the dimensions in an array\n",
    "my_array1 = np.array([1, 25, 46, 12, 2, 30])\n",
    "my_array2 = np.array([[12, 45, 32, 46],[12, 75, 48, 96]])\n",
    "print(f\"The dimension of the array 1 is: {my_array1.ndim}\")\n",
    "print(f\"\\nThe dimension of the array 2 is:  {my_array2.ndim}\")"
   ]
  },
  {
   "cell_type": "markdown",
   "metadata": {
    "id": "X_8BKAj7ukvl"
   },
   "source": [
    "#### <font color = 'dodgerblue'> **shape**"
   ]
  },
  {
   "cell_type": "code",
   "execution_count": 25,
   "metadata": {
    "ExecuteTime": {
     "end_time": "2022-09-04T16:16:22.762444Z",
     "start_time": "2022-09-04T16:16:22.757457Z"
    },
    "colab": {
     "base_uri": "https://localhost:8080/"
    },
    "executionInfo": {
     "elapsed": 995,
     "status": "ok",
     "timestamp": 1661530424639,
     "user": {
      "displayName": "Harpreet SIngh",
      "userId": "15106381096049879330"
     },
     "user_tz": 300
    },
    "id": "Y08t2ml4OaMn",
    "jupyter": {
     "outputs_hidden": true,
     "source_hidden": true
    },
    "outputId": "22e30432-adf9-4687-ebd7-ecb441ffc416",
    "tags": []
   },
   "outputs": [
    {
     "name": "stdout",
     "output_type": "stream",
     "text": [
      "The shape of the one dimensional array is: (6,)\n",
      "\n",
      "The shape of the two dimensions array  is: (2, 4)\n"
     ]
    }
   ],
   "source": [
    "# To find  the shape of the array\n",
    "# If an array is one dimensional then it presents the number of elements as a size followed by a comma(,)\n",
    "\n",
    "print(f\"The shape of the one dimensional array is: {my_array1.shape}\")\n",
    "print(f\"\\nThe shape of the two dimensions array  is: {my_array2.shape}\")"
   ]
  },
  {
   "cell_type": "markdown",
   "metadata": {
    "id": "1niJqc0OumEJ"
   },
   "source": [
    "#### <font color = 'dodgerblue'> **size**"
   ]
  },
  {
   "cell_type": "code",
   "execution_count": 26,
   "metadata": {
    "ExecuteTime": {
     "end_time": "2022-09-04T16:16:23.983458Z",
     "start_time": "2022-09-04T16:16:23.974483Z"
    },
    "colab": {
     "base_uri": "https://localhost:8080/"
    },
    "executionInfo": {
     "elapsed": 279,
     "status": "ok",
     "timestamp": 1661530427240,
     "user": {
      "displayName": "Harpreet SIngh",
      "userId": "15106381096049879330"
     },
     "user_tz": 300
    },
    "id": "p8Ekv81pOGA1",
    "jupyter": {
     "outputs_hidden": true,
     "source_hidden": true
    },
    "outputId": "d9093d05-39a3-4704-9ad3-1af4f059e9ad"
   },
   "outputs": [
    {
     "name": "stdout",
     "output_type": "stream",
     "text": [
      "The size of the one dimensional array is: 6\n",
      "\n",
      "The size of the two dimensions array is: 8\n"
     ]
    }
   ],
   "source": [
    "# To find the size of the array\n",
    "# Size determines the number of elements in an array\n",
    "\n",
    "print(f\"The size of the one dimensional array is: {my_array1.size}\")\n",
    "print(f\"\\nThe size of the two dimensions array is: {my_array2.size}\")"
   ]
  },
  {
   "cell_type": "markdown",
   "metadata": {
    "id": "TaikiVFaWQk8",
    "tags": []
   },
   "source": [
    "### <font color = 'dodgerblue'> **Differenet data types in arrays**\n",
    "\n",
    "Common Data types in numpy are :\n",
    "\n",
    "- bool_\tBoolean (True or False) stored as a byte\n",
    "- int8\tByte (-128 to 127)\n",
    "- int16\tInteger (-32768 to 32767)\n",
    "- int32\tInteger (-2147483648 to 2147483647)\n",
    "- int64\tInteger (-9223372036854775808 to 9223372036854775807)\n",
    "- uint8\tUnsigned integer (0 to 255)\n",
    "- uint16\tUnsigned integer (0 to 65535)\n",
    "- uint32\tUnsigned integer (0 to 4294967295)\n",
    "- uint64\tUnsigned integer (0 to 18446744073709551615)\n",
    "- float_\tShorthand for float64.\n",
    "- float16\tHalf precision float: sign bit, 5 bits exponent, 10 bits mantissa\n",
    "- float32\tSingle precision float: sign bit, 8 bits exponent, 23 bits mantissa\n",
    "- float64\tDouble precision float: sign bit, 11 bits exponent, 52 bits mantissa\n",
    "\n",
    "\n",
    "We can check different data types of arrays by using dtype method.\n",
    "\n",
    "**Syntax**:\n",
    "\n",
    " ```\n",
    "  ndarray.dtype\n",
    "  ```\n"
   ]
  },
  {
   "cell_type": "code",
   "execution_count": 27,
   "metadata": {
    "ExecuteTime": {
     "end_time": "2022-09-04T16:16:25.749688Z",
     "start_time": "2022-09-04T16:16:25.737568Z"
    },
    "colab": {
     "base_uri": "https://localhost:8080/"
    },
    "executionInfo": {
     "elapsed": 281,
     "status": "ok",
     "timestamp": 1661530436452,
     "user": {
      "displayName": "Harpreet SIngh",
      "userId": "15106381096049879330"
     },
     "user_tz": 300
    },
    "id": "_tXKjLdfWQGm",
    "jupyter": {
     "outputs_hidden": true,
     "source_hidden": true
    },
    "outputId": "85c9a0fd-7718-49be-b0b4-c39e8a0b97b9"
   },
   "outputs": [
    {
     "name": "stdout",
     "output_type": "stream",
     "text": [
      "The data type of the array  is: int32\n"
     ]
    }
   ],
   "source": [
    "# check the data type of the array\n",
    "my_array = np.array([[12, 45, 78, 12],\n",
    "                   [14, 75, 48, 21],\n",
    "                   [17, 45, 48, 69],\n",
    "                   [12, 45, 74, 48]\n",
    "                   ])\n",
    "print(f\"The data type of the array  is: {my_array.dtype}\")"
   ]
  },
  {
   "cell_type": "code",
   "execution_count": 28,
   "metadata": {
    "ExecuteTime": {
     "end_time": "2022-09-04T16:16:26.119885Z",
     "start_time": "2022-09-04T16:16:26.112301Z"
    },
    "colab": {
     "base_uri": "https://localhost:8080/"
    },
    "executionInfo": {
     "elapsed": 774,
     "status": "ok",
     "timestamp": 1661530444600,
     "user": {
      "displayName": "Harpreet SIngh",
      "userId": "15106381096049879330"
     },
     "user_tz": 300
    },
    "id": "t5h-kWpQXFfS",
    "jupyter": {
     "outputs_hidden": true,
     "source_hidden": true
    },
    "outputId": "ec4a3fbd-071f-49eb-ffcf-a6e26a57c0ab"
   },
   "outputs": [
    {
     "name": "stdout",
     "output_type": "stream",
     "text": [
      "The random array is \n",
      " [[5 0 3 3]\n",
      " [7 9 3 5]\n",
      " [2 4 7 6]]\n",
      "The data type of the array  is: int32\n"
     ]
    }
   ],
   "source": [
    "# check the data type of array generated by using random method\n",
    "random_array = np.random.randint(10, size = (3, 4))\n",
    "print(f\"The random array is \\n {random_array}\")\n",
    "print(f\"The data type of the array  is: {random_array.dtype}\")"
   ]
  },
  {
   "cell_type": "markdown",
   "metadata": {
    "id": "-hTmG3LCRuDn"
   },
   "source": [
    "### <font color = 'dodgerblue'> **Determining the memory consumed by arrays** </font>\n",
    "1. It is important to know that arrays created by numpy take less amount of memory whereas arrays created by lists grasp more memory for storage.\n",
    "2. itemsize and nbytes are used to determine the storage of an array.\n",
    "* **itemsize** : It helps to find the length(in bytes) for each array element.\n",
    " \n",
    "  **Syntax**:\n",
    "\n",
    "   ```\n",
    "  ndarray.itemsize\n",
    "  ```\n",
    "* **nbytes** : It helps in listing the total length(in bytes) of the array.\n",
    "\n",
    "  **Syntax**:\n",
    "\n",
    "    ```\n",
    "  ndarray.nbytes\n",
    "  ```\n",
    "\n",
    "           \n",
    "\n",
    "\n",
    "\n",
    "\n",
    "\n"
   ]
  },
  {
   "cell_type": "markdown",
   "metadata": {
    "id": "cWtNerrWus-v"
   },
   "source": [
    "#### <font color = 'dodgerblue'> **itemsize**"
   ]
  },
  {
   "cell_type": "code",
   "execution_count": 29,
   "metadata": {
    "ExecuteTime": {
     "end_time": "2022-09-04T16:16:27.874469Z",
     "start_time": "2022-09-04T16:16:27.868473Z"
    },
    "colab": {
     "base_uri": "https://localhost:8080/"
    },
    "executionInfo": {
     "elapsed": 574,
     "status": "ok",
     "timestamp": 1661530507376,
     "user": {
      "displayName": "Harpreet SIngh",
      "userId": "15106381096049879330"
     },
     "user_tz": 300
    },
    "id": "aOW16qVqUoAK",
    "jupyter": {
     "outputs_hidden": true,
     "source_hidden": true
    },
    "outputId": "7d685f63-e72d-41c1-944e-798228d0950a"
   },
   "outputs": [
    {
     "name": "stdout",
     "output_type": "stream",
     "text": [
      "\n",
      " The storage consumed by each array element in bytes for data type int64 is: 8\n",
      "\n",
      " The storage consumed by each array element in bytes for data type int8 is : 1\n"
     ]
    }
   ],
   "source": [
    "#To check the storage in bytes consumed by  each array element\n",
    "numpy_array1 = np.array([12, 45, 46, 78], dtype=np.int64)\n",
    "print(f\"\\n The storage consumed by each array element in bytes for data type int64 is: {numpy_array1.itemsize}\")\n",
    "\n",
    "numpy_array2 = np.array([12, 45, 46, 78], dtype=np.int8)\n",
    "print(f\"\\n The storage consumed by each array element in bytes for data type int8 is : {numpy_array2.itemsize}\")\n"
   ]
  },
  {
   "cell_type": "markdown",
   "metadata": {
    "id": "ysglFbJTuuC6"
   },
   "source": [
    "#### <font color = 'dodgerblue'> **nbytes**"
   ]
  },
  {
   "cell_type": "code",
   "execution_count": 30,
   "metadata": {
    "ExecuteTime": {
     "end_time": "2022-09-04T16:16:29.170455Z",
     "start_time": "2022-09-04T16:16:29.165468Z"
    },
    "colab": {
     "base_uri": "https://localhost:8080/"
    },
    "executionInfo": {
     "elapsed": 726,
     "status": "ok",
     "timestamp": 1661530519125,
     "user": {
      "displayName": "Harpreet SIngh",
      "userId": "15106381096049879330"
     },
     "user_tz": 300
    },
    "id": "COjn5IL_QmEx",
    "jupyter": {
     "outputs_hidden": true,
     "source_hidden": true
    },
    "outputId": "406131db-32c4-4935-c7f9-c7c54cdb52cf"
   },
   "outputs": [
    {
     "name": "stdout",
     "output_type": "stream",
     "text": [
      "Storage (in bytes) consumed by numpy_array1 is: 32\n",
      "\n",
      "Storage (in bytes) consumed by numpy_array2 is: 4\n"
     ]
    }
   ],
   "source": [
    "# To check total storage in bytes consumed by a numpy array\n",
    "print(f\"Storage (in bytes) consumed by numpy_array1 is: {numpy_array1.nbytes}\\n\")\n",
    "print(f\"Storage (in bytes) consumed by numpy_array2 is: {numpy_array2.nbytes}\")"
   ]
  },
  {
   "cell_type": "markdown",
   "metadata": {
    "id": "scxM5jJk_kYI"
   },
   "source": [
    "## <font color = 'dodgerblue'> **Indexing of arrays** </font>\n",
    "\n",
    "1. Indexing of arrays is similar to list indexing.\n",
    "2. We can obtain the array element by mentioning the index number in the square brackets.\n",
    "3. The indexing always starts from 0. \n",
    "\n",
    "**Syntax**:\n",
    "\n",
    "\n",
    "\n",
    "```\n",
    "  ndarray['enter the index number']\n",
    "```\n",
    "\n",
    "\n"
   ]
  },
  {
   "cell_type": "code",
   "execution_count": 31,
   "metadata": {
    "ExecuteTime": {
     "end_time": "2022-09-04T16:16:30.397243Z",
     "start_time": "2022-09-04T16:16:30.381286Z"
    },
    "colab": {
     "base_uri": "https://localhost:8080/"
    },
    "executionInfo": {
     "elapsed": 278,
     "status": "ok",
     "timestamp": 1661530559945,
     "user": {
      "displayName": "Harpreet SIngh",
      "userId": "15106381096049879330"
     },
     "user_tz": 300
    },
    "id": "KIpglbK4hFrY",
    "jupyter": {
     "outputs_hidden": true,
     "source_hidden": true
    },
    "outputId": "399082fa-7e64-4a9e-adcc-051e089a5a3f"
   },
   "outputs": [
    {
     "name": "stdout",
     "output_type": "stream",
     "text": [
      "The element in the third place of the array is: 23\n"
     ]
    }
   ],
   "source": [
    "# To access an element from one dimensional array\n",
    "my_num = np.array([12, 15, 23, 45])\n",
    "\n",
    "print(f\"The element in the third place of the array is: {my_num[2]}\")"
   ]
  },
  {
   "cell_type": "code",
   "execution_count": 34,
   "metadata": {
    "ExecuteTime": {
     "end_time": "2022-09-04T16:17:22.352542Z",
     "start_time": "2022-09-04T16:17:22.334564Z"
    },
    "colab": {
     "base_uri": "https://localhost:8080/"
    },
    "executionInfo": {
     "elapsed": 290,
     "status": "ok",
     "timestamp": 1661551511211,
     "user": {
      "displayName": "Harpreet SIngh",
      "userId": "15106381096049879330"
     },
     "user_tz": 300
    },
    "id": "0v76Kl1VfMgP",
    "jupyter": {
     "outputs_hidden": true,
     "source_hidden": true
    },
    "outputId": "1c2114e6-2576-4a37-e2bf-b071b25cac05"
   },
   "outputs": [
    {
     "name": "stdout",
     "output_type": "stream",
     "text": [
      "The element in the first row and third column  is : 24\n"
     ]
    }
   ],
   "source": [
    "# Access an element from the 2 dimensional array by using indexing\n",
    "my_numpy = np.array([[12, 15, 24, 62],\n",
    "                   [124,15, 46, 23]\n",
    "                   ])\n",
    "print(f\"The element in the first row and third column  is : {my_numpy[0][2]}\")\n"
   ]
  },
  {
   "cell_type": "markdown",
   "metadata": {
    "id": "racSE9Ty_xGW"
   },
   "source": [
    "## <font color = 'dodgerblue'> **Slicing of arrays** </font>\n",
    "1. Sometimes, we don't need huge arrays for the computation purpose. We just need a part of the array. These are known as subarrays.\n",
    "2.  The sub arrays can be acquired by using slicing.\n",
    "3. Just like an array indexing, we can use the square brackets for slicing the array into a sub array.\n",
    "4. Hence, Slicing in python means taking elements from one given index to another given index.\n",
    "  \n",
    "  **Syntax**:\n",
    "\n",
    "\n",
    "\n",
    "   ```\n",
    "      ndarray[start:stop:step]\n",
    "\n",
    "   ```\n",
    "  where,\n",
    "\n",
    "\n",
    ">> **start** : The index number to start the slicing. The default value of start is 0. <br>\n",
    " **stop** :The index number to end the slicing. The default value is the size of the dimension. <br>**step** : Integer value which determines the increment between index values in the sequence. By default it takes 1.\n",
    "  \n",
    "5. If there is any missing value inside the [start:stop:step] then it takes default value. \n",
    "\n",
    "**Example** :-\n",
    "\n",
    "* [: : 2] \n",
    "\n",
    "  Here ,\n",
    "  **start** = 0,\n",
    "\n",
    "  **stop** = size of the dimension, \n",
    "\n",
    "  **step** = 2"
   ]
  },
  {
   "cell_type": "markdown",
   "metadata": {
    "id": "XkXMbmozt1QX"
   },
   "source": [
    "### <font color = 'dodgerblue'> **Access subarrays in one dimension and multiple dimensions**\n",
    "Slicing is used in similar way for one dimensional and multi dimensional arrays just separated by using commas in multi dimensional arrays."
   ]
  },
  {
   "cell_type": "code",
   "execution_count": 35,
   "metadata": {
    "ExecuteTime": {
     "end_time": "2022-09-04T16:17:25.620527Z",
     "start_time": "2022-09-04T16:17:25.604570Z"
    },
    "colab": {
     "base_uri": "https://localhost:8080/"
    },
    "executionInfo": {
     "elapsed": 290,
     "status": "ok",
     "timestamp": 1661530625186,
     "user": {
      "displayName": "Harpreet SIngh",
      "userId": "15106381096049879330"
     },
     "user_tz": 300
    },
    "id": "AYZlBbLEmpsB",
    "jupyter": {
     "outputs_hidden": true,
     "source_hidden": true
    },
    "outputId": "e148e112-935a-40be-c430-2a4a66d7edfd"
   },
   "outputs": [
    {
     "name": "stdout",
     "output_type": "stream",
     "text": [
      "The one dimensional array is [0 1 2 3 4 5 6 7 8 9]\n"
     ]
    }
   ],
   "source": [
    "# One dimensional sub arrays\n",
    "my_array = np.arange(10)\n",
    "print(f\"The one dimensional array is {my_array}\")"
   ]
  },
  {
   "cell_type": "code",
   "execution_count": 36,
   "metadata": {
    "ExecuteTime": {
     "end_time": "2022-09-04T16:17:26.240971Z",
     "start_time": "2022-09-04T16:17:26.225044Z"
    },
    "colab": {
     "base_uri": "https://localhost:8080/"
    },
    "executionInfo": {
     "elapsed": 239,
     "status": "ok",
     "timestamp": 1661530631882,
     "user": {
      "displayName": "Harpreet SIngh",
      "userId": "15106381096049879330"
     },
     "user_tz": 300
    },
    "id": "51QzRr8Z5cOG",
    "jupyter": {
     "outputs_hidden": true,
     "source_hidden": true
    },
    "outputId": "2b645c9c-f703-4f9f-d37e-6938c7bd09f1"
   },
   "outputs": [
    {
     "name": "stdout",
     "output_type": "stream",
     "text": [
      "\n",
      " Sub- array consisting first five elements [0 1 2 3 4]\n"
     ]
    }
   ],
   "source": [
    "# sub- array consisting first five elements\n",
    "print(f\"\\n Sub- array consisting first five elements {my_array[:5]}\")"
   ]
  },
  {
   "cell_type": "code",
   "execution_count": 37,
   "metadata": {
    "ExecuteTime": {
     "end_time": "2022-09-04T16:17:26.693501Z",
     "start_time": "2022-09-04T16:17:26.681533Z"
    },
    "colab": {
     "base_uri": "https://localhost:8080/"
    },
    "executionInfo": {
     "elapsed": 276,
     "status": "ok",
     "timestamp": 1661530650305,
     "user": {
      "displayName": "Harpreet SIngh",
      "userId": "15106381096049879330"
     },
     "user_tz": 300
    },
    "id": "uxIBp9F85e_u",
    "jupyter": {
     "outputs_hidden": true,
     "source_hidden": true
    },
    "outputId": "3003cbc9-fb01-4d72-9030-53c039613281"
   },
   "outputs": [
    {
     "name": "stdout",
     "output_type": "stream",
     "text": [
      "\n",
      " Sub- array consisting last five elements [5 6 7 8 9]\n"
     ]
    }
   ],
   "source": [
    "# sub-array consisting of last five elements\n",
    "print(f\"\\n Sub- array consisting last five elements {my_array[-5:]}\")"
   ]
  },
  {
   "cell_type": "code",
   "execution_count": 38,
   "metadata": {
    "ExecuteTime": {
     "end_time": "2022-09-04T16:17:27.183385Z",
     "start_time": "2022-09-04T16:17:27.166430Z"
    },
    "colab": {
     "base_uri": "https://localhost:8080/"
    },
    "executionInfo": {
     "elapsed": 281,
     "status": "ok",
     "timestamp": 1661530664388,
     "user": {
      "displayName": "Harpreet SIngh",
      "userId": "15106381096049879330"
     },
     "user_tz": 300
    },
    "id": "6zBYjMog5mTU",
    "jupyter": {
     "outputs_hidden": true,
     "source_hidden": true
    },
    "outputId": "4b96296c-4c35-49ef-84ae-fab50a5ae0fb"
   },
   "outputs": [
    {
     "name": "stdout",
     "output_type": "stream",
     "text": [
      "\n",
      " Sub-array consisting middle elements [2 4 6 8]\n"
     ]
    }
   ],
   "source": [
    "# sub-array consisting of the middle elements \n",
    "# (also note that step size is 2, so we will skip one element)\n",
    "print(f\"\\n Sub-array consisting middle elements {my_array[2:9:2]}\")\n"
   ]
  },
  {
   "cell_type": "code",
   "execution_count": 39,
   "metadata": {
    "ExecuteTime": {
     "end_time": "2022-09-04T16:17:28.495419Z",
     "start_time": "2022-09-04T16:17:28.489436Z"
    },
    "colab": {
     "base_uri": "https://localhost:8080/"
    },
    "executionInfo": {
     "elapsed": 258,
     "status": "ok",
     "timestamp": 1661530668491,
     "user": {
      "displayName": "Harpreet SIngh",
      "userId": "15106381096049879330"
     },
     "user_tz": 300
    },
    "id": "wQAjhKFntR3u",
    "jupyter": {
     "outputs_hidden": true,
     "source_hidden": true
    },
    "outputId": "6762cf0c-0eb8-4366-d6e6-6dff3b43fe51"
   },
   "outputs": [
    {
     "name": "stdout",
     "output_type": "stream",
     "text": [
      "The multi dimensional array is :\n",
      " [[8 8 1 6]\n",
      " [7 7 8 1]\n",
      " [5 9 8 9]\n",
      " [4 3 0 3]\n",
      " [5 0 2 3]]\n"
     ]
    }
   ],
   "source": [
    "# Multi-dimensional sub- arrays\n",
    "multi_array = np.random.randint(10, size=(5, 4))\n",
    "print(f'The multi dimensional array is :\\n {multi_array}')"
   ]
  },
  {
   "cell_type": "code",
   "execution_count": 40,
   "metadata": {
    "ExecuteTime": {
     "end_time": "2022-09-04T16:17:28.853403Z",
     "start_time": "2022-09-04T16:17:28.841465Z"
    },
    "colab": {
     "base_uri": "https://localhost:8080/"
    },
    "executionInfo": {
     "elapsed": 382,
     "status": "ok",
     "timestamp": 1661530671561,
     "user": {
      "displayName": "Harpreet SIngh",
      "userId": "15106381096049879330"
     },
     "user_tz": 300
    },
    "id": "T-9dVjn6Af5p",
    "jupyter": {
     "outputs_hidden": true,
     "source_hidden": true
    },
    "outputId": "3ccc811e-c56d-4e47-def2-a011ebb49375"
   },
   "outputs": [
    {
     "name": "stdout",
     "output_type": "stream",
     "text": [
      "shape of the array (5, 4)\n"
     ]
    }
   ],
   "source": [
    "# get the shape of the array\n",
    "print(f\"shape of the array {multi_array.shape}\")"
   ]
  },
  {
   "cell_type": "code",
   "execution_count": 41,
   "metadata": {
    "ExecuteTime": {
     "end_time": "2022-09-04T16:17:29.257154Z",
     "start_time": "2022-09-04T16:17:29.240234Z"
    },
    "colab": {
     "base_uri": "https://localhost:8080/"
    },
    "executionInfo": {
     "elapsed": 261,
     "status": "ok",
     "timestamp": 1661530677353,
     "user": {
      "displayName": "Harpreet SIngh",
      "userId": "15106381096049879330"
     },
     "user_tz": 300
    },
    "id": "WbC92yIKySzP",
    "jupyter": {
     "outputs_hidden": true,
     "source_hidden": true
    },
    "outputId": "dea60446-ef9f-4b0e-e853-2947d81507b0"
   },
   "outputs": [
    {
     "name": "stdout",
     "output_type": "stream",
     "text": [
      "number of rows of the array 5\n",
      "number of columns of the array 4\n"
     ]
    }
   ],
   "source": [
    "# We can access first dimension as rows and second dimension as column\n",
    "print(f\"number of rows of the array {multi_array.shape[0]}\")\n",
    "print(f\"number of columns of the array {multi_array.shape[1]}\")"
   ]
  },
  {
   "cell_type": "code",
   "execution_count": 42,
   "metadata": {
    "ExecuteTime": {
     "end_time": "2022-09-04T16:17:29.706190Z",
     "start_time": "2022-09-04T16:17:29.689235Z"
    },
    "colab": {
     "base_uri": "https://localhost:8080/"
    },
    "executionInfo": {
     "elapsed": 291,
     "status": "ok",
     "timestamp": 1661530681217,
     "user": {
      "displayName": "Harpreet SIngh",
      "userId": "15106381096049879330"
     },
     "user_tz": 300
    },
    "id": "HDJm_BPqAjEJ",
    "jupyter": {
     "outputs_hidden": true,
     "source_hidden": true
    },
    "outputId": "3996596c-f66b-4cfb-edef-53bffa6a82f5"
   },
   "outputs": [
    {
     "name": "stdout",
     "output_type": "stream",
     "text": [
      "The first column of the array is:\n",
      " [8 7 5 4 5]\n"
     ]
    }
   ],
   "source": [
    "# get all the rows and first column of the array\n",
    "print(f\"The first column of the array is:\\n {multi_array[:, 0]}\")"
   ]
  },
  {
   "cell_type": "code",
   "execution_count": 43,
   "metadata": {
    "ExecuteTime": {
     "end_time": "2022-09-04T16:17:30.152690Z",
     "start_time": "2022-09-04T16:17:30.143741Z"
    },
    "colab": {
     "base_uri": "https://localhost:8080/"
    },
    "executionInfo": {
     "elapsed": 850,
     "status": "ok",
     "timestamp": 1661530685395,
     "user": {
      "displayName": "Harpreet SIngh",
      "userId": "15106381096049879330"
     },
     "user_tz": 300
    },
    "id": "g0s98whWA-6D",
    "jupyter": {
     "outputs_hidden": true,
     "source_hidden": true
    },
    "outputId": "589fc73c-4dd1-4a51-a5fc-4a08a9500ba8"
   },
   "outputs": [
    {
     "name": "stdout",
     "output_type": "stream",
     "text": [
      "The first row of the array is:\n",
      " [8 8 1 6]\n"
     ]
    }
   ],
   "source": [
    "# get all teh columns and first row of the array\n",
    "print(f\"The first row of the array is:\\n {multi_array[0, :]}\")"
   ]
  },
  {
   "cell_type": "code",
   "execution_count": 45,
   "metadata": {
    "ExecuteTime": {
     "end_time": "2022-09-04T16:18:13.423184Z",
     "start_time": "2022-09-04T16:18:13.405233Z"
    },
    "colab": {
     "base_uri": "https://localhost:8080/"
    },
    "executionInfo": {
     "elapsed": 265,
     "status": "ok",
     "timestamp": 1661530692783,
     "user": {
      "displayName": "Harpreet SIngh",
      "userId": "15106381096049879330"
     },
     "user_tz": 300
    },
    "id": "ofSmKjuCyays",
    "jupyter": {
     "outputs_hidden": true,
     "source_hidden": true
    },
    "outputId": "d010d518-e468-4b3c-e421-6ff6077c4f54"
   },
   "outputs": [
    {
     "name": "stdout",
     "output_type": "stream",
     "text": [
      "Accessing 2 rows and 3 columns\n",
      " 8\n"
     ]
    }
   ],
   "source": [
    "# We can use the syntax :- [start:stop:step] for each dimension separated by comma(,)\n",
    "# Accessing first two rows and first three columns from multi_array\n",
    "# let us try to extract first two rows and first three columns\n",
    "\n",
    "print(f\"Accessing 2 rows and 3 columns\\n {multi_array[1,2]}\")\n",
    " "
   ]
  },
  {
   "cell_type": "code",
   "execution_count": 46,
   "metadata": {
    "ExecuteTime": {
     "end_time": "2022-09-04T16:18:56.602751Z",
     "start_time": "2022-09-04T16:18:56.592047Z"
    },
    "colab": {
     "base_uri": "https://localhost:8080/"
    },
    "executionInfo": {
     "elapsed": 259,
     "status": "ok",
     "timestamp": 1661530696071,
     "user": {
      "displayName": "Harpreet SIngh",
      "userId": "15106381096049879330"
     },
     "user_tz": 300
    },
    "id": "4LaQc4GPz3J9",
    "jupyter": {
     "outputs_hidden": true,
     "source_hidden": true
    },
    "outputId": "a1853f75-efc5-4dda-a57f-43d0731f3252"
   },
   "outputs": [
    {
     "name": "stdout",
     "output_type": "stream",
     "text": [
      "Accessing all rows and alternate columns\n",
      " [[8 1]\n",
      " [7 8]\n",
      " [5 8]\n",
      " [4 0]\n",
      " [5 2]]\n"
     ]
    }
   ],
   "source": [
    "# Accessing all rows and alternate columns\n",
    "print(f\"Accessing all rows and alternate columns\\n {multi_array[:, ::2]}\")"
   ]
  },
  {
   "cell_type": "code",
   "execution_count": 47,
   "metadata": {
    "ExecuteTime": {
     "end_time": "2022-09-04T16:18:57.399385Z",
     "start_time": "2022-09-04T16:18:57.394465Z"
    },
    "colab": {
     "base_uri": "https://localhost:8080/"
    },
    "executionInfo": {
     "elapsed": 261,
     "status": "ok",
     "timestamp": 1661530699614,
     "user": {
      "displayName": "Harpreet SIngh",
      "userId": "15106381096049879330"
     },
     "user_tz": 300
    },
    "id": "lI2tb3bQ5_vq",
    "jupyter": {
     "outputs_hidden": true,
     "source_hidden": true
    },
    "outputId": "845f9789-3131-4f7f-8e4a-0a5e487544cb"
   },
   "outputs": [
    {
     "name": "stdout",
     "output_type": "stream",
     "text": [
      "\n",
      "Accessing alternate rows and columns\n",
      " [[8 1]\n",
      " [5 8]\n",
      " [5 2]]\n"
     ]
    }
   ],
   "source": [
    "# Accessing alternate rows and columns\n",
    "print(f\"\\nAccessing alternate rows and columns\\n {multi_array[::2, ::2]}\")"
   ]
  },
  {
   "cell_type": "code",
   "execution_count": 48,
   "metadata": {
    "ExecuteTime": {
     "end_time": "2022-09-04T16:18:58.724871Z",
     "start_time": "2022-09-04T16:18:58.714773Z"
    },
    "colab": {
     "base_uri": "https://localhost:8080/"
    },
    "executionInfo": {
     "elapsed": 270,
     "status": "ok",
     "timestamp": 1661530734456,
     "user": {
      "displayName": "Harpreet SIngh",
      "userId": "15106381096049879330"
     },
     "user_tz": 300
    },
    "id": "eEa_R5SiB079",
    "jupyter": {
     "outputs_hidden": true,
     "source_hidden": true
    },
    "outputId": "eedaf7af-32f0-4fe5-c212-76b43d47bf19"
   },
   "outputs": [
    {
     "name": "stdout",
     "output_type": "stream",
     "text": [
      "The array with 3 rows and 5 columns is : \n",
      " [[5 0 3 3 7]\n",
      " [9 3 5 2 4]\n",
      " [7 6 8 8 1]]\n",
      "\n",
      "My sub-array is : \n",
      " [5 9 7]\n",
      "\n",
      "Array and subarray after modifying sub array\n",
      "\n",
      "My_array : \n",
      " [[   5    0    3    3    7]\n",
      " [1000    3    5    2    4]\n",
      " [   7    6    8    8    1]]\n",
      "\n",
      "My sub-array is : \n",
      " [   5 1000    7]\n"
     ]
    }
   ],
   "source": [
    "# Modifying a subarray modifies the array also\n",
    "np.random.seed(0)\n",
    "my_arr = np.random.randint(10, size=(3, 5))\n",
    "print(f\"The array with 3 rows and 5 columns is : \\n {my_arr}\")\n",
    "\n",
    "# Let's copy the sub-array from my_arr\n",
    "sub_arr = my_arr[:,0]\n",
    "print(f\"\\nMy sub-array is : \\n {sub_arr}\")\n",
    "\n",
    "# modify subarray\n",
    "sub_arr[1] = 1000\n",
    "\n",
    "print('\\nArray and subarray after modifying sub array')\n",
    "print(f\"\\nMy_array : \\n {my_arr}\")\n",
    "print(f\"\\nMy sub-array is : \\n {sub_arr}\")"
   ]
  },
  {
   "cell_type": "markdown",
   "metadata": {
    "id": "dsEfcgr01r9F"
   },
   "source": [
    "### <font color = 'dodgerblue'> **Creating sub-array by using copy()**\n",
    "By using copy method we can create a separate copy of the sub- array. \n",
    "Any changes in the sub- array will not effect the array.\n",
    "\n",
    "**Syntax**:\n",
    "```\n",
    "ndarray[start:stop:step].copy()\n",
    "```\n",
    "Following examples explains this method clearly :\n"
   ]
  },
  {
   "cell_type": "code",
   "execution_count": 49,
   "metadata": {
    "ExecuteTime": {
     "end_time": "2022-09-04T16:19:00.752096Z",
     "start_time": "2022-09-04T16:19:00.744224Z"
    },
    "colab": {
     "base_uri": "https://localhost:8080/"
    },
    "executionInfo": {
     "elapsed": 295,
     "status": "ok",
     "timestamp": 1661530760526,
     "user": {
      "displayName": "Harpreet SIngh",
      "userId": "15106381096049879330"
     },
     "user_tz": 300
    },
    "id": "00UAuPMA3JpV",
    "jupyter": {
     "outputs_hidden": true,
     "source_hidden": true
    },
    "outputId": "498bfd87-512b-43a2-a5f7-73fe5ae0ae30"
   },
   "outputs": [
    {
     "name": "stdout",
     "output_type": "stream",
     "text": [
      "The array with 3 rows and 5 columns is : \n",
      " [[5 0 3 3 7]\n",
      " [9 3 5 2 4]\n",
      " [7 6 8 8 1]]\n",
      "\n",
      "New copy of my sub-array is : \n",
      " [5 9 7]\n",
      "\n",
      "Array and subarray after modifying sub array\n",
      "\n",
      "My_array : \n",
      " [[5 0 3 3 7]\n",
      " [9 3 5 2 4]\n",
      " [7 6 8 8 1]]\n",
      "\n",
      "My sub-array is : \n",
      " [   5 1000    7]\n"
     ]
    }
   ],
   "source": [
    "np.random.seed(0)\n",
    "my_arr = np.random.randint(10, size=(3, 5))\n",
    "print(f\"The array with 3 rows and 5 columns is : \\n {my_arr}\")\n",
    "\n",
    "# Let's copy the sub-array from my_arr\n",
    "my_copy_arr = my_arr[:,0].copy()\n",
    "print(f\"\\nNew copy of my sub-array is : \\n {my_copy_arr}\")\n",
    "\n",
    "# modify subarray\n",
    "my_copy_arr[1] = 1000\n",
    "\n",
    "print('\\nArray and subarray after modifying sub array')\n",
    "print(f\"\\nMy_array : \\n {my_arr}\")\n",
    "print(f\"\\nMy sub-array is : \\n {my_copy_arr}\")"
   ]
  },
  {
   "cell_type": "markdown",
   "metadata": {
    "id": "TkHaJNMY_8o2"
   },
   "source": [
    "## <font color = 'dodgerblue'> **Reshaping of arrays**</font>\n",
    "\n",
    "1. Changing the shape of the arrays is important for computation purpose, especially while doing arithmetic operations.\n",
    "2. This can be done by using reshape() method.\n",
    "\n",
    "  **Syntax**:\n",
    " \n",
    "\n",
    "  ```\n",
    "      ndarray.reshape((mention the size to be given))\n",
    "  ```\n",
    " \n",
    "\n",
    "4. In order to convert higher dimensions into the single dimension we can use flatten or ravel functions.\n",
    "\n",
    "  **Syntax** :\n",
    "\n",
    "\n",
    "```\n",
    "    numpy.array.flatten() \n",
    "    or \n",
    "    numpy.array.reshape().ravel()\n",
    "```\n"
   ]
  },
  {
   "cell_type": "markdown",
   "metadata": {
    "id": "osOQCsvJ_DpP"
   },
   "source": [
    "### <font color = 'dodgerblue'> **reshape**\n",
    "- The reshape function returns a new numpy array object that points at the same data.\n",
    "-  It does not create a copy. This means that modifying one array will also modify the other."
   ]
  },
  {
   "cell_type": "code",
   "execution_count": 50,
   "metadata": {
    "ExecuteTime": {
     "end_time": "2022-09-04T16:19:03.491195Z",
     "start_time": "2022-09-04T16:19:03.481222Z"
    },
    "colab": {
     "base_uri": "https://localhost:8080/"
    },
    "executionInfo": {
     "elapsed": 316,
     "status": "ok",
     "timestamp": 1661530806631,
     "user": {
      "displayName": "Harpreet SIngh",
      "userId": "15106381096049879330"
     },
     "user_tz": 300
    },
    "id": "RpLWcecVCJCL",
    "jupyter": {
     "outputs_hidden": true,
     "source_hidden": true
    },
    "outputId": "0f4872ec-7a4f-4e35-db9f-0332114f4e95"
   },
   "outputs": [
    {
     "name": "stdout",
     "output_type": "stream",
     "text": [
      "\n",
      "The shape of the array is :\n",
      " (9,)\n",
      "\n",
      "the dimension of the array is :\n",
      " 1\n"
     ]
    }
   ],
   "source": [
    "# create a one dimensional array\n",
    "num_arr = np.arange(1, 10)\n",
    "\n",
    "# we can check the shape of the given array\n",
    "print(f\"\\nThe shape of the array is :\\n {num_arr.shape}\")\n",
    "\n",
    "# Check the dimension of the num_arr\n",
    "print(f\"\\nthe dimension of the array is :\\n {num_arr.ndim}\")\n"
   ]
  },
  {
   "cell_type": "code",
   "execution_count": 51,
   "metadata": {
    "ExecuteTime": {
     "end_time": "2022-09-04T16:19:04.538504Z",
     "start_time": "2022-09-04T16:19:04.530633Z"
    },
    "colab": {
     "base_uri": "https://localhost:8080/"
    },
    "executionInfo": {
     "elapsed": 245,
     "status": "ok",
     "timestamp": 1661530822965,
     "user": {
      "displayName": "Harpreet SIngh",
      "userId": "15106381096049879330"
     },
     "user_tz": 300
    },
    "id": "w5s_9IjDFZ6P",
    "jupyter": {
     "outputs_hidden": true,
     "source_hidden": true
    },
    "outputId": "56b8bd15-a32d-4323-b531-252ff52cc8c0"
   },
   "outputs": [
    {
     "name": "stdout",
     "output_type": "stream",
     "text": [
      "my array is :\n",
      " [[1 2 3]\n",
      " [4 5 6]\n",
      " [7 8 9]]\n",
      "\n",
      "the shape of the array is :\n",
      " (3, 3)\n",
      "\n",
      "the dimension of the array is :\n",
      " 2\n"
     ]
    }
   ],
   "source": [
    "# Let us reshape the array, so that it has 3 rows and 3 columns.\n",
    "num_arr = num_arr.reshape((3, 3))\n",
    "print(f\"my array is :\\n {num_arr}\")\n",
    "\n",
    "# we can check the shape of the given array\n",
    "print(f\"\\nthe shape of the array is :\\n {num_arr.shape}\")\n",
    "\n",
    "# Check the dimension of the num_arr\n",
    "print(f\"\\nthe dimension of the array is :\\n {num_arr.ndim}\")"
   ]
  },
  {
   "cell_type": "markdown",
   "metadata": {
    "id": "tmk9nsBS_vHr"
   },
   "source": [
    "### <font color = 'dodgerblue'> **ravel**\n",
    "\n",
    "- The ravel function returns a new one dimensional array object that points at the same data. It also does not create a copy. \n",
    "- This means that modifying one array will also modify the other."
   ]
  },
  {
   "cell_type": "code",
   "execution_count": 52,
   "metadata": {
    "ExecuteTime": {
     "end_time": "2022-09-04T16:19:06.111354Z",
     "start_time": "2022-09-04T16:19:06.106273Z"
    },
    "colab": {
     "base_uri": "https://localhost:8080/"
    },
    "executionInfo": {
     "elapsed": 813,
     "status": "ok",
     "timestamp": 1661530835325,
     "user": {
      "displayName": "Harpreet SIngh",
      "userId": "15106381096049879330"
     },
     "user_tz": 300
    },
    "id": "llyARHRIHqXE",
    "jupyter": {
     "outputs_hidden": true,
     "source_hidden": true
    },
    "outputId": "d11c5c1e-e2d6-42d5-80c0-0fd6dcbb1d30"
   },
   "outputs": [
    {
     "name": "stdout",
     "output_type": "stream",
     "text": [
      "My array is \n",
      " [[[13  2  2]\n",
      "  [ 6 17 19]]\n",
      "\n",
      " [[10  1  0]\n",
      "  [17 15  9]]]\n",
      "\n",
      "The dimension of my array is : 3\n"
     ]
    }
   ],
   "source": [
    "# Converting 3 dimensional array into 1 dimension\n",
    "\n",
    "# Creating a three-dimensional array\n",
    "np.random.seed(123)\n",
    "my_array = np.random.randint(20, size=(2, 2, 3))\n",
    "print(f\"My array is \\n {my_array}\")\n",
    "print(f\"\\nThe dimension of my array is : {my_array.ndim}\")"
   ]
  },
  {
   "cell_type": "code",
   "execution_count": 53,
   "metadata": {
    "ExecuteTime": {
     "end_time": "2022-09-04T16:19:07.209334Z",
     "start_time": "2022-09-04T16:19:07.192398Z"
    },
    "colab": {
     "base_uri": "https://localhost:8080/"
    },
    "executionInfo": {
     "elapsed": 242,
     "status": "ok",
     "timestamp": 1661530867270,
     "user": {
      "displayName": "Harpreet SIngh",
      "userId": "15106381096049879330"
     },
     "user_tz": 300
    },
    "id": "fIKvL684Hlk4",
    "jupyter": {
     "outputs_hidden": true,
     "source_hidden": true
    },
    "outputId": "3a4c6b87-8df9-4115-9392-185a7ceac512"
   },
   "outputs": [
    {
     "name": "stdout",
     "output_type": "stream",
     "text": [
      "\n",
      "The new array with 1 dimension is : [13  2  2  6 17 19 10  1  0 17 15  9]\n"
     ]
    }
   ],
   "source": [
    "# lets convert this dimension to 1 by using ravel() method\n",
    "# ravel is useful if you want to convert n-dimensional array to one dimensional array\n",
    "new_arr = my_array.ravel()\n",
    "print(f\"\\nThe new array with 1 dimension is : {new_arr}\")"
   ]
  },
  {
   "cell_type": "code",
   "execution_count": 54,
   "metadata": {
    "ExecuteTime": {
     "end_time": "2022-09-04T16:19:07.654489Z",
     "start_time": "2022-09-04T16:19:07.637564Z"
    },
    "colab": {
     "base_uri": "https://localhost:8080/"
    },
    "executionInfo": {
     "elapsed": 935,
     "status": "ok",
     "timestamp": 1661530884100,
     "user": {
      "displayName": "Harpreet SIngh",
      "userId": "15106381096049879330"
     },
     "user_tz": 300
    },
    "id": "_aNH5IeyHGM_",
    "jupyter": {
     "outputs_hidden": true,
     "source_hidden": true
    },
    "outputId": "4304dedd-c38a-4b06-a640-ccef3febbacf"
   },
   "outputs": [
    {
     "name": "stdout",
     "output_type": "stream",
     "text": [
      "\n",
      "my_array and new_arr after modifying new_arr\n",
      "\n",
      "My_array : \n",
      " [[[  13    2    2]\n",
      "  [1000   17   19]]\n",
      "\n",
      " [[  10    1    0]\n",
      "  [  17   15    9]]]\n",
      "\n",
      "new_arr is : \n",
      " [  13    2    2 1000   17   19   10    1    0   17   15    9]\n"
     ]
    }
   ],
   "source": [
    "# modify the new_array and observe whether it changes my_array\n",
    "new_arr[3] = 1000\n",
    "print('\\nmy_array and new_arr after modifying new_arr')\n",
    "print(f\"\\nMy_array : \\n {my_array}\")\n",
    "print(f\"\\nnew_arr is : \\n {new_arr}\")"
   ]
  },
  {
   "cell_type": "markdown",
   "metadata": {
    "id": "4sn9vrXKGHmV"
   },
   "source": [
    "### <font color = 'dodgerblue'> **flatten**\n",
    "\n",
    "- The flatten function returns a new one dimensional array object. \n",
    "\n",
    "- flatten always returns a copy. Therefore, in the above example (if we use flatten) changes to new_arr will not affect my_array.\n"
   ]
  },
  {
   "cell_type": "code",
   "execution_count": 55,
   "metadata": {
    "ExecuteTime": {
     "end_time": "2022-09-04T16:19:09.249603Z",
     "start_time": "2022-09-04T16:19:09.241624Z"
    },
    "colab": {
     "base_uri": "https://localhost:8080/"
    },
    "executionInfo": {
     "elapsed": 484,
     "status": "ok",
     "timestamp": 1661530931290,
     "user": {
      "displayName": "Harpreet SIngh",
      "userId": "15106381096049879330"
     },
     "user_tz": 300
    },
    "id": "8dJoGvvru9RY",
    "jupyter": {
     "outputs_hidden": true,
     "source_hidden": true
    },
    "outputId": "a89541db-3ae7-4d60-c9f8-5de90b2efce7"
   },
   "outputs": [
    {
     "name": "stdout",
     "output_type": "stream",
     "text": [
      "My array is \n",
      " [[[13  2  2  6 17]\n",
      "  [19 10  1  0 17]]\n",
      "\n",
      " [[15  9  0 14  0]\n",
      "  [15 19 14  4  0]]]\n",
      "\n",
      "The dimension of my array is : 3\n",
      "The new array with one dimension is [13  2  2  6 17 19 10  1  0 17 15  9  0 14  0 15 19 14  4  0]\n"
     ]
    }
   ],
   "source": [
    "# Using flatten\n",
    "\n",
    "# Creating a 3 dimensional random numpy array \n",
    "np.random.seed(123)\n",
    "my_array = np.random.randint(20, size=(2, 2, 5))\n",
    "print(f\"My array is \\n {my_array}\")\n",
    "print(f\"\\nThe dimension of my array is : {my_array.ndim}\")\n",
    "\n",
    "# Using ravel to convert it into 1 dimension\n",
    "new_arr = my_array.flatten()\n",
    "print(f\"The new array with one dimension is {new_arr}\")"
   ]
  },
  {
   "cell_type": "code",
   "execution_count": 56,
   "metadata": {
    "ExecuteTime": {
     "end_time": "2022-09-04T16:19:09.822348Z",
     "start_time": "2022-09-04T16:19:09.816775Z"
    },
    "colab": {
     "base_uri": "https://localhost:8080/"
    },
    "executionInfo": {
     "elapsed": 529,
     "status": "ok",
     "timestamp": 1661530937496,
     "user": {
      "displayName": "Harpreet SIngh",
      "userId": "15106381096049879330"
     },
     "user_tz": 300
    },
    "id": "rvW-JEA0GGC8",
    "jupyter": {
     "outputs_hidden": true,
     "source_hidden": true
    },
    "outputId": "4e6b4d91-f3f9-4f0c-8130-900745ceeceb"
   },
   "outputs": [
    {
     "name": "stdout",
     "output_type": "stream",
     "text": [
      "\n",
      "my_array and new_arr after modifying new_arr\n",
      "\n",
      "My_array : \n",
      " [[[13  2  2  6 17]\n",
      "  [19 10  1  0 17]]\n",
      "\n",
      " [[15  9  0 14  0]\n",
      "  [15 19 14  4  0]]]\n",
      "\n",
      "new_arr is : \n",
      " [    13      2      2 100000     17     19     10      1      0     17\n",
      "     15      9      0     14      0     15     19     14      4      0]\n"
     ]
    }
   ],
   "source": [
    "# modify the new_array and observe whether it changes my_array\n",
    "new_arr[3] = 100000\n",
    "print('\\nmy_array and new_arr after modifying new_arr')\n",
    "print(f\"\\nMy_array : \\n {my_array}\")\n",
    "print(f\"\\nnew_arr is : \\n {new_arr}\")"
   ]
  },
  {
   "cell_type": "markdown",
   "metadata": {
    "id": "3264mt70C-ry"
   },
   "source": [
    "### <font color = 'dodgerblue'> **unknown size**\n",
    "In some cases we do not know the size of a particular dimension. In these cases when we specify the shape we can use -1 for that particular dimension. Numpy will infer the size of this dimension."
   ]
  },
  {
   "cell_type": "code",
   "execution_count": 57,
   "metadata": {
    "ExecuteTime": {
     "end_time": "2022-09-04T16:19:11.587314Z",
     "start_time": "2022-09-04T16:19:11.581267Z"
    },
    "colab": {
     "base_uri": "https://localhost:8080/"
    },
    "executionInfo": {
     "elapsed": 275,
     "status": "ok",
     "timestamp": 1661530970304,
     "user": {
      "displayName": "Harpreet SIngh",
      "userId": "15106381096049879330"
     },
     "user_tz": 300
    },
    "id": "agAA8Sxw9j4y",
    "jupyter": {
     "outputs_hidden": true,
     "source_hidden": true
    },
    "outputId": "79c6dcff-e620-4a55-a74b-329ad4a1723c"
   },
   "outputs": [
    {
     "name": "stdout",
     "output_type": "stream",
     "text": [
      "The shape of the array is: (1, 3, 3)\n",
      "The new shape of the array is (3, 3)\n"
     ]
    }
   ],
   "source": [
    "my_array = np.random.randint(10, size=(np.random.randint(low=1, high=10), 3, 3))\n",
    "print(f'The shape of the array is: {my_array.shape}')\n",
    "\n",
    "# We want to change it to two dimensional array with n rows and 3 columns. Since we do not know \n",
    "# total number of rows, we can use -1 to specify number of rows\n",
    "\n",
    "my_array = my_array.reshape(-1, 3)\n",
    "print(f'The new shape of the array is {my_array.shape}')"
   ]
  },
  {
   "cell_type": "markdown",
   "metadata": {
    "id": "_eAIDC07AH60"
   },
   "source": [
    "## <font color = 'dodgerblue'> **Stacking arrays**\n",
    "\n",
    "It is sometimes useful to combine/stack arrays. Numpy provide following methods \n",
    "  * vstack \n",
    "  * hstack\n",
    "  * concatenate\n",
    "  * stack\n"
   ]
  },
  {
   "cell_type": "code",
   "execution_count": 58,
   "metadata": {
    "ExecuteTime": {
     "end_time": "2022-09-04T16:19:13.167365Z",
     "start_time": "2022-09-04T16:19:13.159387Z"
    },
    "id": "SRN5wd1Uo8cV"
   },
   "outputs": [],
   "source": [
    "# let us create arrays first\n",
    "x1 = np.random.randint(low=0, high=10, size = (2, 5))\n",
    "x2 = np.ones((4, 5))\n",
    "x3 = np.zeros((2, 3))"
   ]
  },
  {
   "cell_type": "code",
   "execution_count": 59,
   "metadata": {
    "ExecuteTime": {
     "end_time": "2022-09-04T16:19:13.670763Z",
     "start_time": "2022-09-04T16:19:13.664778Z"
    },
    "colab": {
     "base_uri": "https://localhost:8080/"
    },
    "executionInfo": {
     "elapsed": 869,
     "status": "ok",
     "timestamp": 1661530984899,
     "user": {
      "displayName": "Harpreet SIngh",
      "userId": "15106381096049879330"
     },
     "user_tz": 300
    },
    "id": "hcxTG8yHpyCg",
    "outputId": "8176f542-7194-4660-a59b-f17096824500"
   },
   "outputs": [
    {
     "name": "stdout",
     "output_type": "stream",
     "text": [
      "x1\n",
      "[[8 0 7 9 3]\n",
      " [4 6 1 5 6]]\n",
      "\n",
      "x2\n",
      "[[1. 1. 1. 1. 1.]\n",
      " [1. 1. 1. 1. 1.]\n",
      " [1. 1. 1. 1. 1.]\n",
      " [1. 1. 1. 1. 1.]]\n",
      "\n",
      "x3\n",
      "[[0. 0. 0.]\n",
      " [0. 0. 0.]]\n"
     ]
    }
   ],
   "source": [
    "print('x1', x1, sep = '\\n')\n",
    "print('\\nx2', x2, sep = '\\n')\n",
    "print('\\nx3', x3, sep = '\\n')"
   ]
  },
  {
   "cell_type": "markdown",
   "metadata": {
    "id": "wDT3c9jmobJA"
   },
   "source": [
    "### <font color = 'dodgerblue'> **vstack**\n",
    "We can stack arrays vertically using vstack. The arrays should have same number of columns. As x1 and x2 has same number of columsn, we can use vstack to combine these arrays.\n",
    "\n",
    "<img src=\"https://drive.google.com/uc?export=view&id=15iB5N0WTWnlLHuoOWwJhzTZ_S93a7LX5\" width=\"300\"/>"
   ]
  },
  {
   "cell_type": "code",
   "execution_count": 60,
   "metadata": {
    "ExecuteTime": {
     "end_time": "2022-09-04T16:19:15.612031Z",
     "start_time": "2022-09-04T16:19:15.593386Z"
    },
    "colab": {
     "base_uri": "https://localhost:8080/"
    },
    "executionInfo": {
     "elapsed": 354,
     "status": "ok",
     "timestamp": 1661530996440,
     "user": {
      "displayName": "Harpreet SIngh",
      "userId": "15106381096049879330"
     },
     "user_tz": 300
    },
    "id": "4NfBPBxEoemf",
    "outputId": "56f2646d-36bb-4802-fa9c-dbbc4adffa99"
   },
   "outputs": [
    {
     "data": {
      "text/plain": [
       "array([[8., 0., 7., 9., 3.],\n",
       "       [4., 6., 1., 5., 6.],\n",
       "       [1., 1., 1., 1., 1.],\n",
       "       [1., 1., 1., 1., 1.],\n",
       "       [1., 1., 1., 1., 1.],\n",
       "       [1., 1., 1., 1., 1.]])"
      ]
     },
     "execution_count": 60,
     "metadata": {},
     "output_type": "execute_result"
    }
   ],
   "source": [
    "x1_x2_v= np.vstack((x1, x2))\n",
    "x1_x2_v"
   ]
  },
  {
   "cell_type": "markdown",
   "metadata": {
    "id": "TcZWNs_rpmFt"
   },
   "source": [
    "### <font color = 'dodgerblue'> **hstack**\n",
    "We can stack arrays horizontally using hstack. The arrays should have same number of rows. As x1 and x3 has same number of rows, we can use hstack to combine these arrays.\n",
    "\n",
    "<img src=\"https://drive.google.com/uc?export=view&id=1YXSYv1UAdL3HHFcLIl7iuVwuyVsGqFad\" width=\"300\"/>"
   ]
  },
  {
   "cell_type": "code",
   "execution_count": 61,
   "metadata": {
    "ExecuteTime": {
     "end_time": "2022-09-04T16:19:17.031066Z",
     "start_time": "2022-09-04T16:19:17.026080Z"
    },
    "colab": {
     "base_uri": "https://localhost:8080/"
    },
    "executionInfo": {
     "elapsed": 279,
     "status": "ok",
     "timestamp": 1661531017640,
     "user": {
      "displayName": "Harpreet SIngh",
      "userId": "15106381096049879330"
     },
     "user_tz": 300
    },
    "id": "tE6IAcInqym2",
    "outputId": "dbc9e080-859c-48d0-e89b-3776612d0ea3"
   },
   "outputs": [
    {
     "data": {
      "text/plain": [
       "array([[8., 0., 7., 9., 3., 0., 0., 0.],\n",
       "       [4., 6., 1., 5., 6., 0., 0., 0.]])"
      ]
     },
     "execution_count": 61,
     "metadata": {},
     "output_type": "execute_result"
    }
   ],
   "source": [
    "x1_x3_h = np.hstack((x1, x3))\n",
    "x1_x3_h"
   ]
  },
  {
   "cell_type": "markdown",
   "metadata": {
    "id": "SXmMm0zrq3-T"
   },
   "source": [
    "### <font color = 'dodgerblue'> **concatenate**\n",
    "Concatenate stack arrays along any given axis. \n",
    "- The arrays must have the same shape (except in the concatenating dimension)\n",
    "- x1 and x2 have the same shape except for dim = 0, hence we can conactenate these along dim = 0. \n",
    "- x1 and x3 have the same shape except for dim = 1, hence we can conactenate these along dim = 1\n",
    "- We cannot concatenate x2 and x3 along any dimension.\n",
    "\n",
    "  **NOTE:**\n",
    "  * Concatenation along the rows (axis=0) => Vertical Stacking\n",
    "  * Concatenation along the columns (axis=1)\n",
    "  => Horizontal stacking"
   ]
  },
  {
   "cell_type": "code",
   "execution_count": 62,
   "metadata": {
    "ExecuteTime": {
     "end_time": "2022-09-04T16:19:18.243933Z",
     "start_time": "2022-09-04T16:19:18.230959Z"
    },
    "colab": {
     "base_uri": "https://localhost:8080/"
    },
    "executionInfo": {
     "elapsed": 261,
     "status": "ok",
     "timestamp": 1661531041942,
     "user": {
      "displayName": "Harpreet SIngh",
      "userId": "15106381096049879330"
     },
     "user_tz": 300
    },
    "id": "kQIi8gtyrVFd",
    "outputId": "d67da989-46b6-4bfb-91ef-446c21a58aee"
   },
   "outputs": [
    {
     "data": {
      "text/plain": [
       "array([[8., 0., 7., 9., 3.],\n",
       "       [4., 6., 1., 5., 6.],\n",
       "       [1., 1., 1., 1., 1.],\n",
       "       [1., 1., 1., 1., 1.],\n",
       "       [1., 1., 1., 1., 1.],\n",
       "       [1., 1., 1., 1., 1.]])"
      ]
     },
     "execution_count": 62,
     "metadata": {},
     "output_type": "execute_result"
    }
   ],
   "source": [
    "x1_x2 = np.concatenate((x1, x2), axis = 0 )\n",
    "x1_x2"
   ]
  },
  {
   "cell_type": "code",
   "execution_count": 63,
   "metadata": {
    "ExecuteTime": {
     "end_time": "2022-09-04T16:19:19.293489Z",
     "start_time": "2022-09-04T16:19:19.279547Z"
    },
    "colab": {
     "base_uri": "https://localhost:8080/"
    },
    "executionInfo": {
     "elapsed": 247,
     "status": "ok",
     "timestamp": 1661531045862,
     "user": {
      "displayName": "Harpreet SIngh",
      "userId": "15106381096049879330"
     },
     "user_tz": 300
    },
    "id": "59kKB2CDsjBV",
    "outputId": "3ad5180e-9d71-45b1-fd4d-9624a8e10224"
   },
   "outputs": [
    {
     "data": {
      "text/plain": [
       "array([[8., 0., 7., 9., 3., 0., 0., 0.],\n",
       "       [4., 6., 1., 5., 6., 0., 0., 0.]])"
      ]
     },
     "execution_count": 63,
     "metadata": {},
     "output_type": "execute_result"
    }
   ],
   "source": [
    "x1_x3 = np.concatenate((x1, x3), axis = 1 )\n",
    "x1_x3"
   ]
  },
  {
   "cell_type": "markdown",
   "metadata": {
    "id": "FIDkfoP-s7vL"
   },
   "source": [
    "### <font color = 'dodgerblue'> **stack**\n",
    "The stack function stacks along a new dimension. All the arrays should have the same shape. We cannot use stack with x1, x2 and x3 as these have differnt shape.\n"
   ]
  },
  {
   "cell_type": "code",
   "execution_count": 64,
   "metadata": {
    "ExecuteTime": {
     "end_time": "2022-09-04T16:19:20.414685Z",
     "start_time": "2022-09-04T16:19:20.401726Z"
    },
    "colab": {
     "base_uri": "https://localhost:8080/"
    },
    "executionInfo": {
     "elapsed": 259,
     "status": "ok",
     "timestamp": 1661531073845,
     "user": {
      "displayName": "Harpreet SIngh",
      "userId": "15106381096049879330"
     },
     "user_tz": 300
    },
    "id": "UGNUpLfXtdgu",
    "outputId": "a3c65685-b6a6-4d6b-d944-0d796ab00733"
   },
   "outputs": [
    {
     "data": {
      "text/plain": [
       "array([[[1., 1.],\n",
       "        [1., 1.]],\n",
       "\n",
       "       [[0., 0.],\n",
       "        [0., 0.]],\n",
       "\n",
       "       [[3., 3.],\n",
       "        [3., 3.]]])"
      ]
     },
     "execution_count": 64,
     "metadata": {},
     "output_type": "execute_result"
    }
   ],
   "source": [
    "x4 = np.ones((2,2))\n",
    "x5 = np.zeros((2,2))\n",
    "x6 = np.full((2,2),3)\n",
    "x4_x5_x6 = np.stack((x4, x5, x6))\n",
    "x4_x5_x6"
   ]
  },
  {
   "cell_type": "code",
   "execution_count": 65,
   "metadata": {
    "ExecuteTime": {
     "end_time": "2022-09-04T16:19:20.941310Z",
     "start_time": "2022-09-04T16:19:20.923354Z"
    },
    "colab": {
     "base_uri": "https://localhost:8080/"
    },
    "executionInfo": {
     "elapsed": 245,
     "status": "ok",
     "timestamp": 1661531076722,
     "user": {
      "displayName": "Harpreet SIngh",
      "userId": "15106381096049879330"
     },
     "user_tz": 300
    },
    "id": "sk_mrR1jtrZy",
    "outputId": "81ac383f-9825-4ebc-cdf9-6f8615892dfb"
   },
   "outputs": [
    {
     "data": {
      "text/plain": [
       "(3, 2, 2)"
      ]
     },
     "execution_count": 65,
     "metadata": {},
     "output_type": "execute_result"
    }
   ],
   "source": [
    "x4_x5_x6.shape"
   ]
  },
  {
   "cell_type": "markdown",
   "metadata": {
    "id": "Ajg3UlcQR_wA"
   },
   "source": [
    "## <font color = 'dodgerblue'> **Splitting arrays**\n",
    "We can use following metods to split arrays in numpy:\n",
    "- vsplit - Split arrays vertically (along first axis, axis =0)\n",
    "- hsplit - Split arrays horizontally (along second axis, axis =1)\n",
    "- split - aplit arrays along any dimension"
   ]
  },
  {
   "cell_type": "markdown",
   "metadata": {
    "id": "hlHU6c12vtqv"
   },
   "source": [
    "### <font color = 'dodgerblue'> **vsplit**\n",
    "Always splits arrays along first axis (i.e rows for 2 dimensional array)\n",
    "\n",
    "  Syntax :\n",
    "  ```\n",
    "  numpy.vsplit(array,indices_or_sections)\n",
    "  ```\n",
    " where, **indices/sections** are used to mention the number of splits."
   ]
  },
  {
   "cell_type": "code",
   "execution_count": 66,
   "metadata": {
    "ExecuteTime": {
     "end_time": "2022-09-04T16:19:24.983642Z",
     "start_time": "2022-09-04T16:19:24.966365Z"
    },
    "colab": {
     "base_uri": "https://localhost:8080/"
    },
    "executionInfo": {
     "elapsed": 313,
     "status": "ok",
     "timestamp": 1661531115882,
     "user": {
      "displayName": "Harpreet SIngh",
      "userId": "15106381096049879330"
     },
     "user_tz": 300
    },
    "id": "Oh-RS76iYaag",
    "jupyter": {
     "outputs_hidden": true,
     "source_hidden": true
    },
    "outputId": "45d51c0f-b3ac-4647-c202-5c3f2fd3ad69"
   },
   "outputs": [
    {
     "name": "stdout",
     "output_type": "stream",
     "text": [
      "My array is \n",
      " [[0 1]\n",
      " [2 3]\n",
      " [4 5]\n",
      " [6 7]\n",
      " [8 9]]\n",
      "\n",
      "When we split at indices 2, subarray 1 is \n",
      "[[0 1]\n",
      " [2 3]]\n",
      "\n",
      "When we split at indices 2, subarray 2 is \n",
      "[[4 5]\n",
      " [6 7]\n",
      " [8 9]]\n"
     ]
    }
   ],
   "source": [
    "# splitting of an array using vsplit() method\n",
    "num_arr = np.arange(10).reshape((5,2))\n",
    "print(f\"My array is \\n {num_arr}\")\n",
    "\n",
    "# splitting above array into 2 sub arrays, we will split at indices 2\n",
    "for i, subarray in enumerate(np.vsplit(num_arr, [2])):  \n",
    "  print(f'\\nWhen we split at indices 2, subarray {i+1} is \\n{subarray}')"
   ]
  },
  {
   "cell_type": "code",
   "execution_count": 67,
   "metadata": {
    "ExecuteTime": {
     "end_time": "2022-09-04T16:19:26.931944Z",
     "start_time": "2022-09-04T16:19:26.919977Z"
    },
    "colab": {
     "base_uri": "https://localhost:8080/"
    },
    "executionInfo": {
     "elapsed": 248,
     "status": "ok",
     "timestamp": 1661531140333,
     "user": {
      "displayName": "Harpreet SIngh",
      "userId": "15106381096049879330"
     },
     "user_tz": 300
    },
    "id": "mY0ZXstdRlzy",
    "jupyter": {
     "outputs_hidden": true,
     "source_hidden": true
    },
    "outputId": "5c03afa6-2547-49f6-8569-5a89539e8800"
   },
   "outputs": [
    {
     "name": "stdout",
     "output_type": "stream",
     "text": [
      "\n",
      "When we split at indices 4, subarray 1 is \n",
      "[[0 1]\n",
      " [2 3]\n",
      " [4 5]\n",
      " [6 7]]\n",
      "\n",
      "When we split at indices 4, subarray 2 is \n",
      "[[8 9]]\n"
     ]
    }
   ],
   "source": [
    "# let us try splitting at indices 4\n",
    "# splitting above array into 2 sub arrays, we will split at indices 4\n",
    "for i, subarray in enumerate(np.vsplit(num_arr,[4])):  \n",
    "  print(f'\\nWhen we split at indices 4, subarray {i+1} is \\n{subarray}')\n"
   ]
  },
  {
   "cell_type": "code",
   "execution_count": 68,
   "metadata": {
    "ExecuteTime": {
     "end_time": "2022-09-04T16:19:28.913467Z",
     "start_time": "2022-09-04T16:19:28.888886Z"
    },
    "colab": {
     "base_uri": "https://localhost:8080/"
    },
    "executionInfo": {
     "elapsed": 268,
     "status": "ok",
     "timestamp": 1661531153816,
     "user": {
      "displayName": "Harpreet SIngh",
      "userId": "15106381096049879330"
     },
     "user_tz": 300
    },
    "id": "ElgQPmGWt0tj",
    "jupyter": {
     "outputs_hidden": true,
     "source_hidden": true
    },
    "outputId": "42489eb2-a9c4-4a34-db22-8c450f41a7c4"
   },
   "outputs": [
    {
     "name": "stdout",
     "output_type": "stream",
     "text": [
      "My array is \n",
      " [[ 0  1  2  3  4  5]\n",
      " [ 6  7  8  9 10 11]\n",
      " [12 13 14 15 16 17]]\n",
      "\n",
      "Subarray 1 is \n",
      "[[0 1 2 3 4 5]]\n",
      "\n",
      "Subarray 2 is \n",
      "[[ 6  7  8  9 10 11]]\n",
      "\n",
      "Subarray 3 is \n",
      "[[12 13 14 15 16 17]]\n"
     ]
    }
   ],
   "source": [
    "# Creating Multiple Splits with vsplit\n",
    "num_arr= np.arange(18).reshape((3, 6))\n",
    "print(f\"My array is \\n {num_arr}\")\n",
    "\n",
    "# splitting above array into 3 subarrays\n",
    "for i, subarray in enumerate(np.vsplit(num_arr, 3)):  \n",
    "  print(f'\\nSubarray {i+1} is \\n{subarray}')"
   ]
  },
  {
   "cell_type": "markdown",
   "metadata": {
    "id": "63S0lu5Lxlay"
   },
   "source": [
    "### <font color = 'dodgerblue'>  **hsplit**\n",
    "Always splits arrays along second axis (i.e columns for 2 dimensional array)\n",
    "\n",
    "  Syntax :\n",
    "  ```\n",
    "  numpy.hsplit(array,indices_or_sections)\n",
    "  ```\n",
    " where, **indices/sections** are used to mention the number of splits."
   ]
  },
  {
   "cell_type": "code",
   "execution_count": 69,
   "metadata": {
    "ExecuteTime": {
     "end_time": "2022-09-04T16:19:30.588281Z",
     "start_time": "2022-09-04T16:19:30.575315Z"
    },
    "colab": {
     "base_uri": "https://localhost:8080/"
    },
    "executionInfo": {
     "elapsed": 270,
     "status": "ok",
     "timestamp": 1661531165127,
     "user": {
      "displayName": "Harpreet SIngh",
      "userId": "15106381096049879330"
     },
     "user_tz": 300
    },
    "id": "4tqAJILTZ_R5",
    "jupyter": {
     "outputs_hidden": true,
     "source_hidden": true
    },
    "outputId": "10deff6a-260d-4be5-c540-116bae9a1b09"
   },
   "outputs": [
    {
     "name": "stdout",
     "output_type": "stream",
     "text": [
      "My array is \n",
      " [[ 0  1  2  3  4  5]\n",
      " [ 6  7  8  9 10 11]\n",
      " [12 13 14 15 16 17]]\n",
      "\n",
      "When we split at indices 2, subarray 1 is \n",
      "[[ 0  1]\n",
      " [ 6  7]\n",
      " [12 13]]\n",
      "\n",
      "When we split at indices 2, subarray 2 is \n",
      "[[ 2  3  4  5]\n",
      " [ 8  9 10 11]\n",
      " [14 15 16 17]]\n",
      "\n",
      "When we split at indices 4, subarray 1 is \n",
      "[[ 0  1  2  3]\n",
      " [ 6  7  8  9]\n",
      " [12 13 14 15]]\n",
      "\n",
      "When we split at indices 4, subarray 2 is \n",
      "[[ 4  5]\n",
      " [10 11]\n",
      " [16 17]]\n"
     ]
    }
   ],
   "source": [
    "# splitting of an array using hsplit() method\n",
    "num_arr= np.arange(18).reshape((3,6))\n",
    "print(f\"My array is \\n {num_arr}\")\n",
    "\n",
    "# splitting above array into 2 sub arrays, we will split at indices 2\n",
    "for i, subarray in enumerate(np.hsplit(num_arr,[2])):  \n",
    "  print(f'\\nWhen we split at indices 2, subarray {i+1} is \\n{subarray}')\n",
    "\n",
    "# let us try splitting at indices 4\n",
    "# splitting above array into 2 sub arrays, we will split at indices 4\n",
    "for i, subarray in enumerate(np.hsplit(num_arr,[4])):  \n",
    "  print(f'\\nWhen we split at indices 4, subarray {i+1} is \\n{subarray}')"
   ]
  },
  {
   "cell_type": "code",
   "execution_count": 70,
   "metadata": {
    "ExecuteTime": {
     "end_time": "2022-09-04T16:19:32.442731Z",
     "start_time": "2022-09-04T16:19:32.424780Z"
    },
    "colab": {
     "base_uri": "https://localhost:8080/"
    },
    "executionInfo": {
     "elapsed": 268,
     "status": "ok",
     "timestamp": 1661531194721,
     "user": {
      "displayName": "Harpreet SIngh",
      "userId": "15106381096049879330"
     },
     "user_tz": 300
    },
    "id": "QA6svr0wsEPv",
    "jupyter": {
     "outputs_hidden": true,
     "source_hidden": true
    },
    "outputId": "c9e54d0c-6d4f-45f2-f2b1-46be72ef8138"
   },
   "outputs": [
    {
     "name": "stdout",
     "output_type": "stream",
     "text": [
      "My array is \n",
      " [[ 0  1  2]\n",
      " [ 3  4  5]\n",
      " [ 6  7  8]\n",
      " [ 9 10 11]]\n",
      "\n",
      "Subarray 1 is \n",
      "[[0]\n",
      " [3]\n",
      " [6]\n",
      " [9]]\n",
      "\n",
      "Subarray 2 is \n",
      "[[ 1]\n",
      " [ 4]\n",
      " [ 7]\n",
      " [10]]\n",
      "\n",
      "Subarray 3 is \n",
      "[[ 2]\n",
      " [ 5]\n",
      " [ 8]\n",
      " [11]]\n"
     ]
    }
   ],
   "source": [
    "# Creating Multiple Splits with hsplit\n",
    "num_arr= np.arange(12).reshape((4,3))\n",
    "print(f\"My array is \\n {num_arr}\")\n",
    "\n",
    "# splitting above array into 3 subarrays\n",
    "for i, subarray in enumerate(np.hsplit(num_arr,3)):  \n",
    "  print(f'\\nSubarray {i+1} is \\n{subarray}')"
   ]
  },
  {
   "cell_type": "markdown",
   "metadata": {
    "id": "qJNHO5m1u0mQ"
   },
   "source": [
    "### <font color = 'dodgerblue'> **split()** method : \n",
    "   * It is used to split the array into sub- arrays along any specified dimension(axis).\n",
    "\n",
    "  **Syntax** :\n",
    "  ```\n",
    "  numpy.split(array, indices_or_sections, axis)\n",
    "  ```\n",
    "  where, **indices/sections** are used to mention the number of splits."
   ]
  },
  {
   "cell_type": "code",
   "execution_count": 71,
   "metadata": {
    "ExecuteTime": {
     "end_time": "2022-09-04T16:19:38.425101Z",
     "start_time": "2022-09-04T16:19:38.413127Z"
    },
    "colab": {
     "base_uri": "https://localhost:8080/"
    },
    "executionInfo": {
     "elapsed": 1043,
     "status": "ok",
     "timestamp": 1661531208023,
     "user": {
      "displayName": "Harpreet SIngh",
      "userId": "15106381096049879330"
     },
     "user_tz": 300
    },
    "id": "Oj_LMWG_XJLE",
    "jupyter": {
     "outputs_hidden": true,
     "source_hidden": true
    },
    "outputId": "4d6fe972-042c-4fe1-bbfb-a5bb7cb23efa"
   },
   "outputs": [
    {
     "name": "stdout",
     "output_type": "stream",
     "text": [
      "My array is \n",
      " [[0 1]\n",
      " [2 3]\n",
      " [4 5]\n",
      " [6 7]\n",
      " [8 9]]\n",
      "\n",
      "Subarray 1 is [[0 1]]\n",
      "\n",
      "Subarray 2 is [[2 3]]\n",
      "\n",
      "Subarray 3 is [[4 5]]\n",
      "\n",
      "Subarray 4 is [[6 7]]\n",
      "\n",
      "Subarray 5 is [[8 9]]\n",
      "\n"
     ]
    }
   ],
   "source": [
    "# splitting of an array using split() method\n",
    "num_arr = np.arange(10).reshape((5,2))\n",
    "print(f\"My array is \\n {num_arr}\\n\")\n",
    "\n",
    "# splitting above array into 5 sub-arrays\n",
    "\n",
    "for i, subarray in enumerate(np.split(num_arr, 5, axis = 0)):  \n",
    "  print(f'Subarray {i+1} is {subarray}\\n')"
   ]
  },
  {
   "cell_type": "markdown",
   "metadata": {
    "id": "smSmSl10MefB"
   },
   "source": [
    "# <font color = 'dodgerblue'> **Numpy's Universal functionas (ufuncs)**\n",
    "\n",
    "* ufuncs stands for \"Universal Functions\".  They are vectorized wrappers of simple functions. \n",
    "* There are two types of UFuncs, they are **unary ufuncs** (operate on a single input) and **binary Ufuncs** (operate on two inputs)."
   ]
  },
  {
   "cell_type": "markdown",
   "metadata": {
    "id": "dxB0ZpxdV6Zt"
   },
   "source": [
    "## <font color = 'dodgerblue'>  **binary ufuncs**\n",
    "* This include all arithmetic operators (+, -, *, /, //, **, etc.) and some other functions (add, greater, maximum etc,). They apply elementwise on two ndarrays. These can also be used when arrays have different shape (see Broadcasting).\n",
    "\n",
    "\n"
   ]
  },
  {
   "cell_type": "code",
   "execution_count": 72,
   "metadata": {
    "ExecuteTime": {
     "end_time": "2022-09-04T16:19:43.459386Z",
     "start_time": "2022-09-04T16:19:43.447057Z"
    },
    "colab": {
     "base_uri": "https://localhost:8080/"
    },
    "executionInfo": {
     "elapsed": 275,
     "status": "ok",
     "timestamp": 1661531242599,
     "user": {
      "displayName": "Harpreet SIngh",
      "userId": "15106381096049879330"
     },
     "user_tz": 300
    },
    "id": "FszLyX1scujz",
    "jupyter": {
     "outputs_hidden": true,
     "source_hidden": true
    },
    "outputId": "e630d882-de86-43cd-8344-fa2590df66d2"
   },
   "outputs": [
    {
     "name": "stdout",
     "output_type": "stream",
     "text": [
      "my_num1 + my_num2  = [12 23 34 47 17]\n",
      "my_num1 - my_num2  = [ 8 17 26 43 13]\n",
      "my_num1 * my_num2  = [ 20  60 120  90  30]\n",
      "my_num1 / my_num2  = [ 5.    6.67  7.5  22.5   7.5 ]\n",
      "my_num1 // my_num2  = [ 5  6  7 22  7]\n",
      "my_num1 % my_num2  = [0 2 2 1 1]\n",
      "my_num1 ** my_num2 = [   100   8000 810000   2025    225]\n"
     ]
    }
   ],
   "source": [
    "my_num1 = np.array([10, 20, 30, 45, 15])\n",
    "my_num2 = np.array([2, 3, 4, 2, 2])\n",
    "my_sum = np.add(my_num1, my_num2)\n",
    "\n",
    "print(\"my_num1 + my_num2  =\", my_num1 + my_num2)\n",
    "print(\"my_num1 - my_num2  =\", my_num1 - my_num2)\n",
    "print(\"my_num1 * my_num2  =\", my_num1 * my_num2)\n",
    "print(\"my_num1 / my_num2  =\", my_num1 / my_num2)\n",
    "print(\"my_num1 // my_num2  =\", my_num1 // my_num2) # Floor division e.g. 6//4 =1 \n",
    "print(\"my_num1 % my_num2  =\", my_num1 % my_num2) # Modulus/remainder\n",
    "print(\"my_num1 ** my_num2 =\", my_num1 ** my_num2) # Exponential/Power\n"
   ]
  },
  {
   "cell_type": "code",
   "execution_count": 73,
   "metadata": {
    "ExecuteTime": {
     "end_time": "2022-09-04T16:19:45.177379Z",
     "start_time": "2022-09-04T16:19:45.170394Z"
    },
    "colab": {
     "base_uri": "https://localhost:8080/"
    },
    "executionInfo": {
     "elapsed": 273,
     "status": "ok",
     "timestamp": 1661531249157,
     "user": {
      "displayName": "Harpreet SIngh",
      "userId": "15106381096049879330"
     },
     "user_tz": 300
    },
    "id": "aTb-ij7y4II2",
    "jupyter": {
     "outputs_hidden": true,
     "source_hidden": true
    },
    "outputId": "73017872-11ce-499c-d12f-3c74a20fe745"
   },
   "outputs": [
    {
     "data": {
      "text/plain": [
       "array([12, 23, 34, 47, 17])"
      ]
     },
     "execution_count": 73,
     "metadata": {},
     "output_type": "execute_result"
    }
   ],
   "source": [
    "np.add(my_num1, my_num2) # equivalent to my_num1 + my_num2"
   ]
  },
  {
   "cell_type": "code",
   "execution_count": 74,
   "metadata": {
    "ExecuteTime": {
     "end_time": "2022-09-04T16:19:45.779118Z",
     "start_time": "2022-09-04T16:19:45.761166Z"
    },
    "colab": {
     "base_uri": "https://localhost:8080/"
    },
    "executionInfo": {
     "elapsed": 442,
     "status": "ok",
     "timestamp": 1661531256400,
     "user": {
      "displayName": "Harpreet SIngh",
      "userId": "15106381096049879330"
     },
     "user_tz": 300
    },
    "id": "zTLbDZOe4SIo",
    "jupyter": {
     "outputs_hidden": true,
     "source_hidden": true
    },
    "outputId": "f4d117f6-45a7-4b4c-f015-6f5606bb68e8"
   },
   "outputs": [
    {
     "data": {
      "text/plain": [
       "array([ True,  True,  True,  True,  True])"
      ]
     },
     "execution_count": 74,
     "metadata": {},
     "output_type": "execute_result"
    }
   ],
   "source": [
    "np.greater(my_num1, my_num2) # equivalent to my_num1 > my_num2"
   ]
  },
  {
   "cell_type": "code",
   "execution_count": 75,
   "metadata": {
    "ExecuteTime": {
     "end_time": "2022-09-04T16:19:46.208112Z",
     "start_time": "2022-09-04T16:19:46.196206Z"
    },
    "colab": {
     "base_uri": "https://localhost:8080/"
    },
    "executionInfo": {
     "elapsed": 1,
     "status": "ok",
     "timestamp": 1661531256980,
     "user": {
      "displayName": "Harpreet SIngh",
      "userId": "15106381096049879330"
     },
     "user_tz": 300
    },
    "id": "NJ8KoUFO4oRr",
    "jupyter": {
     "outputs_hidden": true,
     "source_hidden": true
    },
    "outputId": "aa68fe77-efb6-4a98-ac41-82db28e24477"
   },
   "outputs": [
    {
     "data": {
      "text/plain": [
       "array([10, 20, 30, 45, 15])"
      ]
     },
     "execution_count": 75,
     "metadata": {},
     "output_type": "execute_result"
    }
   ],
   "source": [
    "np.maximum(my_num1, my_num2)"
   ]
  },
  {
   "cell_type": "markdown",
   "metadata": {
    "id": "ck9YXzyK4uUo"
   },
   "source": [
    "## <font color = 'dodgerblue'>  **unary ufuncs**\n",
    "They are fast elementwise functions that apply to all the elements of a single array. For example, when we apply  square function to an array, the finction returns a new ndarray where all the elemnets are squared."
   ]
  },
  {
   "cell_type": "code",
   "execution_count": 76,
   "metadata": {
    "ExecuteTime": {
     "end_time": "2022-09-04T16:19:47.470828Z",
     "start_time": "2022-09-04T16:19:47.453852Z"
    },
    "colab": {
     "base_uri": "https://localhost:8080/"
    },
    "executionInfo": {
     "elapsed": 276,
     "status": "ok",
     "timestamp": 1661531264663,
     "user": {
      "displayName": "Harpreet SIngh",
      "userId": "15106381096049879330"
     },
     "user_tz": 300
    },
    "id": "eabxCoqX87du",
    "jupyter": {
     "outputs_hidden": true,
     "source_hidden": true
    },
    "outputId": "9ecf4cf4-e3b6-4d75-ccb8-67397abd0914"
   },
   "outputs": [
    {
     "name": "stdout",
     "output_type": "stream",
     "text": [
      "Original ndarray\n",
      "[[-3.26  2.99  0.85]\n",
      " [-4.52 -1.74  4.95]]\n",
      "\n",
      "absolute\n",
      " [[3.26 2.99 0.85]\n",
      " [4.52 1.74 4.95]]\n",
      "\n",
      "sqrt\n",
      " [[ nan 1.73 0.92]\n",
      " [ nan  nan 2.23]]\n",
      "\n",
      "log\n",
      "[[  nan  1.1  -0.16]\n",
      " [  nan   nan  1.6 ]]\n",
      "\n",
      "sign \n",
      "[[-1.  1.  1.]\n",
      " [-1. -1.  1.]]\n",
      "\n",
      "trignometric function cos \n",
      ":[[-0.99 -0.99  0.66]\n",
      " [-0.19 -0.16  0.24]]\n",
      "\n",
      "ceil\n",
      "[[-3.  3.  1.]\n",
      " [-4. -1.  5.]]\n"
     ]
    },
    {
     "name": "stderr",
     "output_type": "stream",
     "text": [
      "<ipython-input-76-6195dae49106>:5: RuntimeWarning: invalid value encountered in sqrt\n",
      "  print(f'\\nsqrt\\n {np.sqrt(my_num3)}')\n",
      "<ipython-input-76-6195dae49106>:6: RuntimeWarning: invalid value encountered in log\n",
      "  print(f'\\nlog\\n{np.log(my_num3)}')\n"
     ]
    }
   ],
   "source": [
    "np.random.seed(123)\n",
    "my_num3 = np.random.normal(0, 3, (2,3))\n",
    "print(\"Original ndarray\", my_num3, sep ='\\n')\n",
    "print(f'\\nabsolute\\n {np.abs(my_num3)}')\n",
    "print(f'\\nsqrt\\n {np.sqrt(my_num3)}')\n",
    "print(f'\\nlog\\n{np.log(my_num3)}')\n",
    "print(f'\\nsign \\n{np.sign(my_num3)}')\n",
    "print(f'\\ntrignometric function cos \\n:{np.cos(my_num3)}')\n",
    "print(f'\\nceil\\n{np.ceil(my_num3)}') # The ceil of the scalar x is the smallest integer i, such that i >= x.    "
   ]
  },
  {
   "cell_type": "markdown",
   "metadata": {
    "id": "GERQPhtREPfp"
   },
   "source": [
    "# <font color = 'dodgerblue'> **Broadcasting**\n",
    "The way NumPy handles arrays with different shapes while performing arithmetic operations is known as broadcasting. The smaller array is \"broadcast\" across the larger array, subject to specific conditions.\n",
    "\n",
    "* The following image describes how a 2 dimensional tensor will be added to a 1 dimensional tensor\n",
    "<img src=\"https://drive.google.com/uc?export=view&id=1QG2GO1owGpyXbcugJFVFGb4o_buV4s3j\" width=\"600\"/>"
   ]
  },
  {
   "cell_type": "markdown",
   "metadata": {
    "id": "AAZedm-F6VZJ"
   },
   "source": [
    "## <font color = 'dodgerblue'> **Rules of broadcasting**</font>\n",
    "1. If two arrays differ in their sizes (i.e they have different number of dimensions), the array with the smaller dimension can be appended with '1' to the left in its shape. In other words, the array is transformed to a two-dimensional array.\n",
    "2. Again if the shape of the array does not match, then the transformed array (which has shape equal to 1) will be stretched out to match the shape of the array of higher dimension.\n",
    "We can check the above figure for this.\n",
    "2. When operating on two arrays, NumPy compares their shapes \n",
    " element-wise. It starts with the trailing dimensions and works its way forward. Two dimensions are compatible when\n",
    "\n",
    "   * They are equal, or\n",
    "\n",
    "   * One of them is 1\n",
    "2. If any dimension of the arrays does not match and  neither is equal to 1, then we get an error.\n",
    "\n"
   ]
  },
  {
   "cell_type": "markdown",
   "metadata": {
    "id": "UkNwvqBXwCBW"
   },
   "source": [
    "### <font color = 'dodgerblue'> **Implementation of Broadcasting**"
   ]
  },
  {
   "cell_type": "code",
   "execution_count": 77,
   "metadata": {
    "ExecuteTime": {
     "end_time": "2022-09-04T16:19:52.891885Z",
     "start_time": "2022-09-04T16:19:52.885811Z"
    },
    "colab": {
     "base_uri": "https://localhost:8080/"
    },
    "executionInfo": {
     "elapsed": 297,
     "status": "ok",
     "timestamp": 1661531347576,
     "user": {
      "displayName": "Harpreet SIngh",
      "userId": "15106381096049879330"
     },
     "user_tz": 300
    },
    "id": "hx_92rj3tAKv",
    "jupyter": {
     "outputs_hidden": true,
     "source_hidden": true
    },
    "outputId": "eae3f748-af27-4cb5-e550-207cdfedae58"
   },
   "outputs": [
    {
     "name": "stdout",
     "output_type": "stream",
     "text": [
      "Shape of array A is (3, 3)\n",
      "Shape of array B is (3,)\n"
     ]
    }
   ],
   "source": [
    "# Consider 2 matrices A and B\n",
    "A = np.array([[12,16,14],[13,17,13],[14,18,12]])\n",
    "B = np.array([1,2,3])\n",
    "\n",
    "# Checking the shape of both matrices\n",
    "print(f\"Shape of array A is {A.shape}\")\n",
    "print(f\"Shape of array B is {B.shape}\")"
   ]
  },
  {
   "cell_type": "markdown",
   "metadata": {
    "id": "5sCE2mqgwXfe"
   },
   "source": [
    "B has one dimension and A has two dimensions. Numpy will first prepend 1 to the dimension of A so that it also has same number of dimensions."
   ]
  },
  {
   "cell_type": "code",
   "execution_count": 78,
   "metadata": {
    "ExecuteTime": {
     "end_time": "2022-09-04T16:19:54.078089Z",
     "start_time": "2022-09-04T16:19:54.065124Z"
    },
    "colab": {
     "base_uri": "https://localhost:8080/"
    },
    "executionInfo": {
     "elapsed": 284,
     "status": "ok",
     "timestamp": 1661531372001,
     "user": {
      "displayName": "Harpreet SIngh",
      "userId": "15106381096049879330"
     },
     "user_tz": 300
    },
    "id": "DMRE-IQ7uGW2",
    "jupyter": {
     "outputs_hidden": true,
     "source_hidden": true
    },
    "outputId": "980e5182-f568-402c-fed7-99116b8bac4f"
   },
   "outputs": [
    {
     "name": "stdout",
     "output_type": "stream",
     "text": [
      "Shape of matrix B is (1, 3)\n"
     ]
    },
    {
     "data": {
      "text/plain": [
       "array([[1, 2, 3]])"
      ]
     },
     "execution_count": 78,
     "metadata": {},
     "output_type": "execute_result"
    }
   ],
   "source": [
    "# Reshaping matrix B to 2 dimensional array\n",
    "B_new = B.reshape(1,-1)\n",
    "print(f\"Shape of matrix B is {B_new.shape}\")\n",
    "B_new"
   ]
  },
  {
   "cell_type": "markdown",
   "metadata": {
    "id": "NquArydtxD2g"
   },
   "source": [
    "After reshaping, the shape of B still dosen't match to A. Now it will stretch the tensor with smaller dimension so that it has the same shape as the tensor with higher dimensions."
   ]
  },
  {
   "cell_type": "code",
   "execution_count": 79,
   "metadata": {
    "ExecuteTime": {
     "end_time": "2022-09-04T16:19:55.154384Z",
     "start_time": "2022-09-04T16:19:55.139103Z"
    },
    "colab": {
     "base_uri": "https://localhost:8080/"
    },
    "executionInfo": {
     "elapsed": 282,
     "status": "ok",
     "timestamp": 1661531382862,
     "user": {
      "displayName": "Harpreet SIngh",
      "userId": "15106381096049879330"
     },
     "user_tz": 300
    },
    "id": "eicXVxGJvIeB",
    "jupyter": {
     "outputs_hidden": true,
     "source_hidden": true
    },
    "outputId": "e8803506-235e-41d1-841f-197c35a27e2d"
   },
   "outputs": [
    {
     "name": "stdout",
     "output_type": "stream",
     "text": [
      "Shape of stretched matrix B is (3, 3)\n"
     ]
    },
    {
     "data": {
      "text/plain": [
       "array([[1, 2, 3],\n",
       "       [1, 2, 3],\n",
       "       [1, 2, 3]])"
      ]
     },
     "execution_count": 79,
     "metadata": {},
     "output_type": "execute_result"
    }
   ],
   "source": [
    "# Stretching matrix B along the rows\n",
    "B_stretched = B_new.repeat(3, axis=0)\n",
    "print(f\"Shape of stretched matrix B is {B_stretched.shape}\")\n",
    "B_stretched"
   ]
  },
  {
   "cell_type": "markdown",
   "metadata": {
    "id": "2nVWTEfqxxfj"
   },
   "source": [
    "Finally, after stretching matrix B thrice along the rows, the shape becomes equal to that of matrix A. Let's add both the matrices and check the result:"
   ]
  },
  {
   "cell_type": "code",
   "execution_count": 80,
   "metadata": {
    "ExecuteTime": {
     "end_time": "2022-09-04T16:19:56.421946Z",
     "start_time": "2022-09-04T16:19:56.416889Z"
    },
    "colab": {
     "base_uri": "https://localhost:8080/"
    },
    "executionInfo": {
     "elapsed": 280,
     "status": "ok",
     "timestamp": 1661531390770,
     "user": {
      "displayName": "Harpreet SIngh",
      "userId": "15106381096049879330"
     },
     "user_tz": 300
    },
    "id": "ieAjyokpvgoK",
    "jupyter": {
     "outputs_hidden": true,
     "source_hidden": true
    },
    "outputId": "9e85e4f4-b1e7-456e-f37b-7af7b7dc8b5e"
   },
   "outputs": [
    {
     "data": {
      "text/plain": [
       "array([[13, 18, 17],\n",
       "       [14, 19, 16],\n",
       "       [15, 20, 15]])"
      ]
     },
     "execution_count": 80,
     "metadata": {},
     "output_type": "execute_result"
    }
   ],
   "source": [
    "np.add(A,B_stretched)"
   ]
  },
  {
   "cell_type": "markdown",
   "metadata": {
    "id": "PrcmX_XxyICX"
   },
   "source": [
    "Comparing the result of addition of matrix A and stretched matrix B with original matrices A and B:"
   ]
  },
  {
   "cell_type": "code",
   "execution_count": 81,
   "metadata": {
    "ExecuteTime": {
     "end_time": "2022-09-04T16:19:57.204489Z",
     "start_time": "2022-09-04T16:19:57.192521Z"
    },
    "colab": {
     "base_uri": "https://localhost:8080/"
    },
    "executionInfo": {
     "elapsed": 262,
     "status": "ok",
     "timestamp": 1661531393886,
     "user": {
      "displayName": "Harpreet SIngh",
      "userId": "15106381096049879330"
     },
     "user_tz": 300
    },
    "id": "JDZl6IeyvqRG",
    "jupyter": {
     "outputs_hidden": true,
     "source_hidden": true
    },
    "outputId": "e9f26020-5e76-4551-adb6-fc79b7856f3e"
   },
   "outputs": [
    {
     "data": {
      "text/plain": [
       "array([[13, 18, 17],\n",
       "       [14, 19, 16],\n",
       "       [15, 20, 15]])"
      ]
     },
     "execution_count": 81,
     "metadata": {},
     "output_type": "execute_result"
    }
   ],
   "source": [
    "np.add(A,B)"
   ]
  },
  {
   "cell_type": "markdown",
   "metadata": {
    "id": "AfV37ExGyWxY"
   },
   "source": [
    "We can see that both the results match. This example shows what numpy does under the hood to do mathematical operations on arrays of different shapes. So broadcasting is an efficient way of performing operations on arrays of unequal sizes"
   ]
  },
  {
   "cell_type": "markdown",
   "metadata": {
    "id": "FF-UV_WezBlN"
   },
   "source": [
    "### <font color = 'dodgerblue'> **Broadcasting Examples**"
   ]
  },
  {
   "cell_type": "markdown",
   "metadata": {
    "id": "MdN46fETzpJF"
   },
   "source": [
    "Consider the following example :\n",
    " \n",
    " $$A=\\begin{bmatrix} 1 & 2 & 4 \\\\ 4 & 1 & 3\\end{bmatrix}$$\n",
    "\n",
    " $$B=\\begin{bmatrix} 1 & 2 & 4 \\end{bmatrix}$$\n",
    "\n",
    "*  We can observe that shape of A is(2, 3) and shape of B is (3, ) [if there is a single row, we can mention the shape by using number of columns separated by a comma(,)]\n",
    "* Here B is an array with fewer dimensions.\n",
    "* By rule 1, Numpy will first prepend 1 to the dimension of B so that it also has same number of dimensions.:\n",
    "     \n",
    "    So, B shape is (1, 3) \n",
    "* Now, let's check the shape again :\n",
    "   \n",
    "     A = (2, 3) and B = (1, 3)\n",
    "* We can see that all the corresponding dimensions of two arrays are either of the same size or one of the dimension is 1. Hence the arrays are broadcastable and we can do mathamatical opeartions on these arrays."
   ]
  },
  {
   "cell_type": "code",
   "execution_count": 82,
   "metadata": {
    "ExecuteTime": {
     "end_time": "2022-09-04T16:19:59.751991Z",
     "start_time": "2022-09-04T16:19:59.744040Z"
    },
    "colab": {
     "base_uri": "https://localhost:8080/"
    },
    "executionInfo": {
     "elapsed": 243,
     "status": "ok",
     "timestamp": 1661531465232,
     "user": {
      "displayName": "Harpreet SIngh",
      "userId": "15106381096049879330"
     },
     "user_tz": 300
    },
    "id": "5XpDVWNFZk39",
    "jupyter": {
     "outputs_hidden": true,
     "source_hidden": true
    },
    "outputId": "e08ba379-61c3-45d8-b89a-ece2ff15c1d8"
   },
   "outputs": [
    {
     "name": "stdout",
     "output_type": "stream",
     "text": [
      "shape of A is (2, 3)\n",
      "shape of B is (3,)\n"
     ]
    }
   ],
   "source": [
    "A = np.array([[1, 2, 4], [4, 1, 3]])\n",
    "B = np.array([1, 2, 4])\n",
    "print(f'shape of A is {A.shape}')\n",
    "print(f'shape of B is {B.shape}')"
   ]
  },
  {
   "cell_type": "code",
   "execution_count": 83,
   "metadata": {
    "ExecuteTime": {
     "end_time": "2022-09-04T16:20:00.412746Z",
     "start_time": "2022-09-04T16:20:00.396678Z"
    },
    "colab": {
     "base_uri": "https://localhost:8080/"
    },
    "executionInfo": {
     "elapsed": 262,
     "status": "ok",
     "timestamp": 1661531467353,
     "user": {
      "displayName": "Harpreet SIngh",
      "userId": "15106381096049879330"
     },
     "user_tz": 300
    },
    "id": "Bo5Xb3TirejK",
    "jupyter": {
     "outputs_hidden": true,
     "source_hidden": true
    },
    "outputId": "cba3127a-c2bb-4829-c135-8629bc7ee781"
   },
   "outputs": [
    {
     "data": {
      "text/plain": [
       "array([[ 1,  4, 16],\n",
       "       [ 4,  2, 12]])"
      ]
     },
     "execution_count": 83,
     "metadata": {},
     "output_type": "execute_result"
    }
   ],
   "source": [
    "# we can check that the arrays are broadcastable by doing arithmatic operations\n",
    "A * B"
   ]
  },
  {
   "cell_type": "markdown",
   "metadata": {
    "id": "MK3eQ5bscfZz"
   },
   "source": [
    "QUIZ: Consider following two arrays:\n",
    "- arr1 = np.arange(4).reshape((4,1))\n",
    "- arr2 = np.arange(3)\n",
    "\n",
    "1. Can we take the product of these two arrays?\n",
    "2.  What is the shape of the final array?"
   ]
  },
  {
   "cell_type": "code",
   "execution_count": 84,
   "metadata": {
    "ExecuteTime": {
     "end_time": "2022-09-04T16:20:19.333283Z",
     "start_time": "2022-09-04T16:20:19.315822Z"
    },
    "colab": {
     "base_uri": "https://localhost:8080/"
    },
    "executionInfo": {
     "elapsed": 259,
     "status": "ok",
     "timestamp": 1661531504238,
     "user": {
      "displayName": "Harpreet SIngh",
      "userId": "15106381096049879330"
     },
     "user_tz": 300
    },
    "id": "pzCfKLbJKth7",
    "jupyter": {
     "outputs_hidden": true,
     "source_hidden": true
    },
    "outputId": "eb4e016d-9399-401a-d7a6-148b0ccc0058"
   },
   "outputs": [
    {
     "name": "stdout",
     "output_type": "stream",
     "text": [
      "array 1 is :\n",
      " [[0]\n",
      " [1]\n",
      " [2]\n",
      " [3]]\n",
      "array 2 is : \n",
      " [0 1 2]\n",
      "The shape of array 1 is :\n",
      " (4, 1)\n",
      "The shape of array 2 is :\n",
      " (3,)\n"
     ]
    }
   ],
   "source": [
    "# Create arrays\n",
    "arr1 = np.arange(4).reshape((4,1))\n",
    "arr2 = np.arange(3)\n",
    "print(f\"array 1 is :\\n {arr1}\")\n",
    "print(f\"array 2 is : \\n {arr2}\")\n",
    "\n",
    "#check the shape of the arrays\n",
    "print(f\"The shape of array 1 is :\\n {arr1.shape}\")\n",
    "print(f\"The shape of array 2 is :\\n {arr2.shape}\")\n"
   ]
  },
  {
   "cell_type": "code",
   "execution_count": 85,
   "metadata": {
    "ExecuteTime": {
     "end_time": "2022-09-04T16:20:21.551852Z",
     "start_time": "2022-09-04T16:20:21.542876Z"
    },
    "colab": {
     "base_uri": "https://localhost:8080/"
    },
    "executionInfo": {
     "elapsed": 836,
     "status": "ok",
     "timestamp": 1661531732570,
     "user": {
      "displayName": "Harpreet SIngh",
      "userId": "15106381096049879330"
     },
     "user_tz": 300
    },
    "id": "aZJppKHL6GUY",
    "jupyter": {
     "outputs_hidden": true,
     "source_hidden": true
    },
    "outputId": "da820ca3-62f9-493a-d38e-3ce53d853905"
   },
   "outputs": [
    {
     "name": "stdout",
     "output_type": "stream",
     "text": [
      "The product of the arrays is :\n",
      " [[0 0 0]\n",
      " [0 1 2]\n",
      " [0 2 4]\n",
      " [0 3 6]]\n",
      "The shape of the new array prod is : (4, 3)\n"
     ]
    }
   ],
   "source": [
    "# array2 has fewer number of dimensions\n",
    "# We can prepend 1 on the left side , the hsape of array 2 will ne (1, 3)\n",
    "# If we compare the arrays, we can see that they follow broadcasting rules.\n",
    "# Hence we can take product.\n",
    "\n",
    "prod= np.multiply(arr1,arr2)\n",
    "print(f\"The product of the arrays is :\\n {prod}\")\n",
    "\n",
    "# The shape of the new array will be (4,3)\n",
    "print(f\"The shape of the new array prod is : {prod.shape}\")"
   ]
  },
  {
   "cell_type": "markdown",
   "metadata": {
    "id": "Af2iZBN_6PoH"
   },
   "source": [
    "<font color = 'red'> **In summary:** </font> <font color = 'aqua'> Two arrays are “broadcastable” if the following rules hold:\n",
    "\n",
    "When iterating over the dimension sizes, starting at the trailing dimension, the dimension sizes must either be equal or one of them should be 1. \n",
    "Else, they are not broadcastable.</font>"
   ]
  },
  {
   "cell_type": "markdown",
   "metadata": {
    "id": "T8ncWoKNYvwF"
   },
   "source": [
    "# <font color = 'dodgerblue'> **Aggregate functions**\n",
    "\n",
    "* These are ndarray methods that compute the aggregate value (like mean, min, sum, product, variance, any, all) of all the elements of ndarray or aggregate value along a particulat axis (for example for 2 d- dimensional ndarrays we can compute the mean along rows or columns).\n",
    "\n",
    "\n",
    "\n"
   ]
  },
  {
   "cell_type": "markdown",
   "metadata": {
    "id": "HigQqNALBzDT"
   },
   "source": [
    "## <font color = 'dodgerblue'> **aggregate all values**"
   ]
  },
  {
   "cell_type": "code",
   "execution_count": 86,
   "metadata": {
    "ExecuteTime": {
     "end_time": "2022-09-04T16:20:24.272826Z",
     "start_time": "2022-09-04T16:20:24.253376Z"
    },
    "colab": {
     "base_uri": "https://localhost:8080/"
    },
    "executionInfo": {
     "elapsed": 293,
     "status": "ok",
     "timestamp": 1661532101801,
     "user": {
      "displayName": "Harpreet SIngh",
      "userId": "15106381096049879330"
     },
     "user_tz": 300
    },
    "id": "fjfNCwSj1bOr",
    "jupyter": {
     "outputs_hidden": true,
     "source_hidden": true
    },
    "outputId": "136820b1-44e0-4746-d47b-132a31fea6b6"
   },
   "outputs": [
    {
     "name": "stdout",
     "output_type": "stream",
     "text": [
      "original array :\n",
      "  [[-1  2  7]\n",
      " [15 36 48]] \n",
      "\n",
      "the sum of all elements of the arrays is : 107\n",
      "the product of all elements of  arrays is : -362880\n",
      "The minimum number in the array is : -1\n",
      "the variance of the array is : 328.47222222222223\n",
      "check if any value of array is greater than 0: True\n",
      "check if all the values of array are greater than 0: False\n"
     ]
    }
   ],
   "source": [
    "array1 = np.array([[-1, 2, 7], [15, 36, 48]])\n",
    "print('original array :\\n ', array1, '\\n')\n",
    "print(f\"the sum of all elements of the arrays is : {np.sum(array1)}\")\n",
    "print(f\"the product of all elements of  arrays is : {np.product(array1)}\")\n",
    "print(f\"The minimum number in the array is : {np.min(array1)}\")\n",
    "print(f\"the variance of the array is : {np.var(array1)}\")\n",
    "print(f\"check if any value of array is greater than 0: {np.any(array1>0)}\")\n",
    "print(f\"check if all the values of array are greater than 0: {np.all(array1>0)}\")"
   ]
  },
  {
   "cell_type": "markdown",
   "metadata": {
    "id": "BCjOyk3oB9O5"
   },
   "source": [
    "## <font color = 'dodgerblue'> **aggregate along a dimension**"
   ]
  },
  {
   "cell_type": "code",
   "execution_count": 88,
   "metadata": {
    "ExecuteTime": {
     "end_time": "2022-09-04T16:21:20.346043Z",
     "start_time": "2022-09-04T16:21:20.334075Z"
    },
    "colab": {
     "base_uri": "https://localhost:8080/"
    },
    "executionInfo": {
     "elapsed": 334,
     "status": "ok",
     "timestamp": 1661538254833,
     "user": {
      "displayName": "Harpreet SIngh",
      "userId": "15106381096049879330"
     },
     "user_tz": 300
    },
    "id": "wjWKbmUEXbTB",
    "jupyter": {
     "outputs_hidden": true,
     "source_hidden": true
    },
    "outputId": "f962c21c-27ed-42c9-bae8-f09d62bde10e"
   },
   "outputs": [
    {
     "name": "stdout",
     "output_type": "stream",
     "text": [
      "column sum for each row: [ 8 99]\n",
      "Shape of the original array is (2, 3)\n",
      "the shape of array after summation : (2,)\n"
     ]
    }
   ],
   "source": [
    "# For multidimensional array, we can aggrgate along a specific dimension as well\n",
    "\n",
    "column_sum = np.sum(array1, axis = 1)\n",
    "print(f\"column sum for each row: {column_sum}\")\n",
    "print(f'Shape of the original array is {array1.shape}')\n",
    "print(f\"the shape of array after summation : {column_sum.shape}\")"
   ]
  },
  {
   "cell_type": "markdown",
   "metadata": {
    "id": "lroqh84enDkU"
   },
   "source": [
    "Let us say we want to divide all the elements of a row with the column sum for that row. The shape of original array (2, 3) and the column sum (2,) are not compatible (we cannot bradcast these two arrays). If we try this operation it will give us an error."
   ]
  },
  {
   "cell_type": "code",
   "execution_count": 89,
   "metadata": {
    "ExecuteTime": {
     "end_time": "2022-09-04T16:21:22.009426Z",
     "start_time": "2022-09-04T16:21:21.992473Z"
    },
    "id": "IuVdTuLarRBC",
    "jupyter": {
     "outputs_hidden": true,
     "source_hidden": true
    }
   },
   "outputs": [
    {
     "ename": "ValueError",
     "evalue": "operands could not be broadcast together with shapes (2,3) (2,) ",
     "output_type": "error",
     "traceback": [
      "\u001b[1;31m---------------------------------------------------------------------------\u001b[0m",
      "\u001b[1;31mValueError\u001b[0m                                Traceback (most recent call last)",
      "\u001b[1;32m<ipython-input-89-a804680071e8>\u001b[0m in \u001b[0;36m<module>\u001b[1;34m\u001b[0m\n\u001b[0;32m      1\u001b[0m \u001b[1;31m# What will happen if we run this cell?\u001b[0m\u001b[1;33m\u001b[0m\u001b[1;33m\u001b[0m\u001b[1;33m\u001b[0m\u001b[0m\n\u001b[1;32m----> 2\u001b[1;33m \u001b[0mnormalized_array1\u001b[0m\u001b[1;33m=\u001b[0m \u001b[0marray1\u001b[0m\u001b[1;33m/\u001b[0m\u001b[0mcolumn_sum\u001b[0m\u001b[1;33m\u001b[0m\u001b[1;33m\u001b[0m\u001b[0m\n\u001b[0m",
      "\u001b[1;31mValueError\u001b[0m: operands could not be broadcast together with shapes (2,3) (2,) "
     ]
    }
   ],
   "source": [
    "# What will happen if we run this cell?\n",
    "normalized_array1= array1/column_sum"
   ]
  },
  {
   "cell_type": "markdown",
   "metadata": {
    "id": "kNuSt9pIZn0V"
   },
   "source": [
    "## <font color = 'dodgerblue'> **keepdims**"
   ]
  },
  {
   "cell_type": "markdown",
   "metadata": {
    "id": "O3OT0UvQr0NA"
   },
   "source": [
    "In the above example the number of dimensions reduces after aggregation. If we want to keep the number of dimesnions same as as original array, we can pass the argument keepdims= True."
   ]
  },
  {
   "cell_type": "code",
   "execution_count": 90,
   "metadata": {
    "ExecuteTime": {
     "end_time": "2022-09-04T16:21:32.822605Z",
     "start_time": "2022-09-04T16:21:32.815613Z"
    },
    "colab": {
     "base_uri": "https://localhost:8080/"
    },
    "executionInfo": {
     "elapsed": 248,
     "status": "ok",
     "timestamp": 1661538403206,
     "user": {
      "displayName": "Harpreet SIngh",
      "userId": "15106381096049879330"
     },
     "user_tz": 300
    },
    "id": "ANbIso2VYGWE",
    "jupyter": {
     "outputs_hidden": true,
     "source_hidden": true
    },
    "outputId": "452e9e10-a8aa-43f8-f9bb-b8e81d78a2a0"
   },
   "outputs": [
    {
     "name": "stdout",
     "output_type": "stream",
     "text": [
      "column sum for each row:\n",
      " [[ 8]\n",
      " [99]]\n",
      "Shape of the original array is (2, 3)\n",
      "the shape of array after summation : (2, 1)\n"
     ]
    }
   ],
   "source": [
    "# keep number of dimensions same by passing keepdims = True\n",
    "column_sum = np.sum(array1, axis = 1, keepdims=True) # column sum for each row\n",
    "print(f\"column sum for each row:\\n {column_sum}\")\n",
    "print(f'Shape of the original array is {array1.shape}')\n",
    "print(f\"the shape of array after summation : {column_sum.shape}\")"
   ]
  },
  {
   "cell_type": "markdown",
   "metadata": {
    "id": "ZlfNNC29s50e"
   },
   "source": [
    "We can see that now the shapes of the original array and column sum are broadcastable."
   ]
  },
  {
   "cell_type": "code",
   "execution_count": 91,
   "metadata": {
    "ExecuteTime": {
     "end_time": "2022-09-04T16:21:34.141786Z",
     "start_time": "2022-09-04T16:21:34.128816Z"
    },
    "colab": {
     "base_uri": "https://localhost:8080/"
    },
    "executionInfo": {
     "elapsed": 339,
     "status": "ok",
     "timestamp": 1661538412780,
     "user": {
      "displayName": "Harpreet SIngh",
      "userId": "15106381096049879330"
     },
     "user_tz": 300
    },
    "id": "i86p8aZ2tHxp",
    "jupyter": {
     "outputs_hidden": true,
     "source_hidden": true
    },
    "outputId": "53d48658-7d8c-4379-d19a-5071cbbcd175"
   },
   "outputs": [
    {
     "name": "stdout",
     "output_type": "stream",
     "text": [
      "column sum for each row: [[ 8]\n",
      " [99]]\n",
      "original array: [[-1  2  7]\n",
      " [15 36 48]]\n",
      "normalized array: [[-0.12  0.25  0.88]\n",
      " [ 0.15  0.36  0.48]]\n"
     ]
    }
   ],
   "source": [
    "normalized_array1 = array1/column_sum\n",
    "print(f'column sum for each row: {column_sum}')\n",
    "print(f'original array: {array1}')\n",
    "print(f'normalized array: {normalized_array1}')"
   ]
  },
  {
   "cell_type": "markdown",
   "metadata": {
    "id": "6ty9YhgdZ3Xu"
   },
   "source": [
    "# <font color = 'dodgerblue'> **Matrix - 2 Dimensional arrays**\n",
    "* A matrix is a rectangular arrays of numbers, symbols, or expressions, arranged in rows and columns.\n",
    "* A matrix with $m$ rows and $n$ columns is called $\n",
    "m * n$ (or) $m$ by  $n$ matrix. Where $m$ and $n$ are called dimensions.\n",
    "* The following matrix is an example of $m$ by $n$ matrix ($m$ rows and $n$ columns )\n",
    "\\begin{bmatrix}\n",
    "x_{1,1} & x_{1,2} & \\cdots & x_{1,n} \\\\ x_{2,1} & x_{2,2}&\\cdots& x_{2,n}  \\\\\\vdots & \\vdots & \\ddots & \\vdots \\\\ x_{m,1} & x_{m,2} &\\cdots& x_{m,n} \\end{bmatrix}"
   ]
  },
  {
   "cell_type": "markdown",
   "metadata": {
    "id": "i8CXhxYlnz2u"
   },
   "source": [
    "## <font color = 'dodgerblue'> **Matrix addition**\n",
    "* Suppose we have two matrices and they are\n",
    "\n",
    "$\\boldsymbol{A} = \\begin{bmatrix}\n",
    "1 & 2 & 3\\\\5 & 6 & 4\\\\4 & 4 & 7\\end{bmatrix}$\n",
    "$\\boldsymbol{B} = \\begin{bmatrix}\n",
    "5& 7& 3\\\\8& 9 & 10\\\\4& 3 & 9\\end{bmatrix}$\n",
    "* We can find the **sum of matrices** simply by adding the corresponding entries in matrices $A$ and $B$.\n",
    "\n",
    "  Therefore, $A+B =  \\begin{bmatrix}\n",
    "  1+5 & 2+7 & 3+3\\\\5+8 & 6+9 & 4+10\\\\4+4 & 4+3 & 7+9\\end{bmatrix}$\n",
    "    \n",
    "  $=\\begin{bmatrix}\n",
    "  6 & 9 & 6\\\\13 & 15 & 14\\\\8 & 7 & 16\\end{bmatrix}$\n",
    "\n",
    "* In numpy, we can use **add()** method to perform addition of matrices."
   ]
  },
  {
   "cell_type": "code",
   "execution_count": 92,
   "metadata": {
    "ExecuteTime": {
     "end_time": "2022-09-04T16:21:36.540929Z",
     "start_time": "2022-09-04T16:21:36.523867Z"
    },
    "colab": {
     "base_uri": "https://localhost:8080/"
    },
    "executionInfo": {
     "elapsed": 252,
     "status": "ok",
     "timestamp": 1661538479327,
     "user": {
      "displayName": "Harpreet SIngh",
      "userId": "15106381096049879330"
     },
     "user_tz": 300
    },
    "id": "YGWlph942iba",
    "jupyter": {
     "outputs_hidden": true,
     "source_hidden": true
    },
    "outputId": "d6a264d9-bc4a-4c3a-e1e3-e0b08e1a0139"
   },
   "outputs": [
    {
     "name": "stdout",
     "output_type": "stream",
     "text": [
      "The addition of two matrices A+B  is \n",
      " [[ 6  9  6]\n",
      " [13 15 14]\n",
      " [ 8  7 16]]\n"
     ]
    }
   ],
   "source": [
    "# Addition of matrices by using add() method\n",
    "A = np.array([[1, 2, 3], [5, 6, 4],[4, 4, 7]])\n",
    "B = np.array([[5, 7, 3], [8, 9, 10],[4, 3, 9]])\n",
    "print(f\"The addition of two matrices A+B  is \\n {np.add(A,B)}\")"
   ]
  },
  {
   "cell_type": "markdown",
   "metadata": {
    "id": "AkLMM2hyXn1X"
   },
   "source": [
    "## <font color = 'dodgerblue'> **Matrix Subtraction**\n",
    "* We can find the **difference between matrices** simply by subtracting the corresponding entries in matrices $A$ and $B$.\n",
    "* Let's consider the above two matrices $A$ and $B$.\n",
    "Therefore, $A-B =  \\begin{bmatrix}\n",
    "1-5 & 2-7 & 3-3\\\\5-8 & 6-9 &4-10\\\\4-4 & 4-3 & 7-9\\end{bmatrix}$\n",
    "$\\ =\\begin{bmatrix}\n",
    "-4 & -5 &  0\\\\-3 &-3 & -6\\\\  0 &  1 & -2\\end{bmatrix}$\n",
    "\n",
    "\n",
    "* In numpy, we can use **subtract()** method to subtract two matrices."
   ]
  },
  {
   "cell_type": "code",
   "execution_count": 93,
   "metadata": {
    "ExecuteTime": {
     "end_time": "2022-09-04T16:21:37.661988Z",
     "start_time": "2022-09-04T16:21:37.650987Z"
    },
    "colab": {
     "base_uri": "https://localhost:8080/"
    },
    "executionInfo": {
     "elapsed": 356,
     "status": "ok",
     "timestamp": 1661538505339,
     "user": {
      "displayName": "Harpreet SIngh",
      "userId": "15106381096049879330"
     },
     "user_tz": 300
    },
    "id": "TTNzRw-T5weg",
    "jupyter": {
     "outputs_hidden": true,
     "source_hidden": true
    },
    "outputId": "451b7391-998a-4f0a-89b4-f23c78e24b85"
   },
   "outputs": [
    {
     "name": "stdout",
     "output_type": "stream",
     "text": [
      "The difference between two matrices A-B  is \n",
      " [[-4 -5  0]\n",
      " [-3 -3 -6]\n",
      " [ 0  1 -2]]\n"
     ]
    }
   ],
   "source": [
    "#finding the difference between the two matrices by using subtract() method.\n",
    "A = np.array([[1, 2, 3], [5, 6, 4],[4, 4, 7]])\n",
    "B = np.array([[5, 7, 3], [8, 9, 10],[4, 3, 9]])\n",
    "print(f\"The difference between two matrices A-B  is \\n {np.subtract(A,B)}\")"
   ]
  },
  {
   "cell_type": "markdown",
   "metadata": {
    "id": "NiaZ7ucioBK9"
   },
   "source": [
    "## <font color = 'dodgerblue'> **Hadamard product**\n",
    "* Hadamard product of two vectors is very similar to matrix addition, elements corresponding to same row and columns of given vectors/matrices are multiplied together to form a new vector/matrix.\n",
    "* It is named after French Mathematician, **Jacques Hadamard**.\n",
    "\n",
    "* **Example :** If we have two matrices A and B. The size of $A$ = (2, 2) and $B$ = (2, 2) then the hadamard product of $A$, $B$ denoted as \n",
    "$A \\circ B$  will be of size (2, 2).\n",
    "\n",
    "\n",
    "$\\boldsymbol{A} = \\begin{bmatrix}\n",
    "1& 2 & 3\\\\5&  6 & 4\\end{bmatrix}$\n",
    "$\\boldsymbol{B} = \\begin{bmatrix}\n",
    "5& 7& 3\\\\8& 9 & 10\\end{bmatrix}$\n",
    "\n",
    "$\\\\(A \\circ B)$ = \n",
    "$\\begin{bmatrix}1×5 & 2×7 & 3×3\\\\5×8 & 6×9 & 4×10\\end{bmatrix}$ \n",
    "= $\\begin{bmatrix}5 & 14 & 9\\\\40 & 54 & 40\\end{bmatrix}$ \n",
    "\n",
    "* In numpy, we can use **multiply()** method or **operator *** to find the hadamard product.\n",
    "\n",
    "\n",
    "\n"
   ]
  },
  {
   "cell_type": "code",
   "execution_count": 94,
   "metadata": {
    "ExecuteTime": {
     "end_time": "2022-09-04T16:21:38.951570Z",
     "start_time": "2022-09-04T16:21:38.937608Z"
    },
    "colab": {
     "base_uri": "https://localhost:8080/"
    },
    "executionInfo": {
     "elapsed": 263,
     "status": "ok",
     "timestamp": 1661538527312,
     "user": {
      "displayName": "Harpreet SIngh",
      "userId": "15106381096049879330"
     },
     "user_tz": 300
    },
    "id": "SLBj0LpeFpe0",
    "jupyter": {
     "outputs_hidden": true,
     "source_hidden": true
    },
    "outputId": "703e769e-005b-46f0-cddb-edf7daba9813"
   },
   "outputs": [
    {
     "name": "stdout",
     "output_type": "stream",
     "text": [
      "the  the matrice A is given as \n",
      " [[1 2 3]\n",
      " [5 6 4]] \n",
      "\n",
      "the  the matrice B is given as \n",
      " [[ 5  7  3]\n",
      " [ 8  9 10]] \n",
      "\n",
      "the hadamard product for the above two matrices is given as \n",
      " [[ 5 14  9]\n",
      " [40 54 40]] \n",
      "\n",
      "the hadamard product for the above two matrices is given as \n",
      " [[ 5 14  9]\n",
      " [40 54 40]]\n"
     ]
    }
   ],
   "source": [
    "#Let's create the above example matrices using numpy\n",
    "A = np.array([[1, 2, 3],[5, 6, 4]])\n",
    "B = np.array([[5, 7, 3],[8, 9, 10]])\n",
    "print(f\"the  the matrice A is given as \\n {A} \\n\")\n",
    "print(f\"the  the matrice B is given as \\n {B} \\n\")\n",
    "#the hadamard product for the above two matrices is given as follows :\n",
    "# We can see the element wise product for the two matrices\n",
    "print(f\"the hadamard product for the above two matrices is given as \\n {np.multiply(A,B)} \\n\")\n",
    "print(f\"the hadamard product for the above two matrices is given as \\n {A*B}\")"
   ]
  },
  {
   "cell_type": "markdown",
   "metadata": {
    "id": "Tvmy8UPgpIVa"
   },
   "source": [
    "## <font color = 'dodgerblue'> **Trace of a matrix**\n",
    "* In linear algebra, the trace of a square matrix A, denoted by  **tr(A)**\n",
    "* It is defined to be the sum of elements on the main diagonal (from the upper left to the lower right) of A.\n",
    "* **Example** :- **trace of matrix A** is given below :-\n",
    "\n",
    "$\\bf{A} =\n",
    "  \\begin{pmatrix}\n",
    "    a_{11} & a_{12} & a_{13} \\\\\n",
    "    a_{21} & a_{22} & a_{23} \\\\\n",
    "    a_{31} & a_{32} & a_{33}\n",
    "  \\end{pmatrix}$ \n",
    "  $= \\begin{pmatrix}\n",
    "    1 &  5 &  3 \\\\\n",
    "    11 &  10 &  7 \\\\\n",
    "     6 & 12 & -2\n",
    "  \\end{pmatrix}$\n",
    "\n",
    "  Then the trace of $A$ is given as :-\n",
    "\n",
    "  $\\operatorname{tr}({A}) = \\sum_{i=1}^{3} a_{ii} = a_{11} + a_{22} + a_{33} = 1 + 10 + (-2) = 9$\n",
    "\n",
    "* In numpy, we can find the trace of a matrix by using trace() method."
   ]
  },
  {
   "cell_type": "code",
   "execution_count": 95,
   "metadata": {
    "ExecuteTime": {
     "end_time": "2022-09-04T16:21:40.344798Z",
     "start_time": "2022-09-04T16:21:40.332830Z"
    },
    "id": "X665b5s0HiNG",
    "jupyter": {
     "outputs_hidden": true,
     "source_hidden": true
    }
   },
   "outputs": [],
   "source": [
    "#matrix A\n",
    "A = np.array([[1, 5, 3],[11, 10, 7],[6, 12, -2]])"
   ]
  },
  {
   "cell_type": "code",
   "execution_count": 96,
   "metadata": {
    "ExecuteTime": {
     "end_time": "2022-09-04T16:21:40.982747Z",
     "start_time": "2022-09-04T16:21:40.977760Z"
    },
    "colab": {
     "base_uri": "https://localhost:8080/"
    },
    "executionInfo": {
     "elapsed": 362,
     "status": "ok",
     "timestamp": 1661538547425,
     "user": {
      "displayName": "Harpreet SIngh",
      "userId": "15106381096049879330"
     },
     "user_tz": 300
    },
    "id": "sUut1lRskqw0",
    "jupyter": {
     "outputs_hidden": true,
     "source_hidden": true
    },
    "outputId": "ece869b1-55b0-4915-d62e-34f58902b7ed"
   },
   "outputs": [
    {
     "name": "stdout",
     "output_type": "stream",
     "text": [
      "Trace of matrix: 9\n"
     ]
    }
   ],
   "source": [
    "# Trace of matrix \n",
    "print(f\"Trace of matrix: {np.trace(A)}\")"
   ]
  },
  {
   "cell_type": "markdown",
   "metadata": {
    "id": "FYMtpU3JpdQb"
   },
   "source": [
    "## <font color = 'dodgerblue'> **Transpose of a matrix**\n",
    "* In linear algebra, the transpose of a matrix is an operator which flips a matrix over its diagonal. \n",
    "* That is, it switches the row and column indices of the matrix $A$ by producing another matrix, it is often denoted by $A^T$.\n",
    "* **Example** - Let us take a matrix \n",
    "\n",
    "  $\\boldsymbol{A} = \\begin{bmatrix}\n",
    "  1& 2 \\\\5&  6 \\end{bmatrix}$\n",
    "\n",
    "  Then the transpose of A is given as follows :-\n",
    "\n",
    "  $\\boldsymbol{A^T} = \\begin{bmatrix}\n",
    "  1& 5 \\\\2&  6 \\end{bmatrix}$\n",
    "\n",
    "* In numpy, we can use **T** in order to transpose a matrix. Let's check an example of matrix transpose using numpy as follows :-"
   ]
  },
  {
   "cell_type": "code",
   "execution_count": 97,
   "metadata": {
    "ExecuteTime": {
     "end_time": "2022-09-04T16:21:42.308761Z",
     "start_time": "2022-09-04T16:21:42.296793Z"
    },
    "colab": {
     "base_uri": "https://localhost:8080/"
    },
    "executionInfo": {
     "elapsed": 270,
     "status": "ok",
     "timestamp": 1661538571726,
     "user": {
      "displayName": "Harpreet SIngh",
      "userId": "15106381096049879330"
     },
     "user_tz": 300
    },
    "id": "Mwb0tfRz7nO3",
    "jupyter": {
     "outputs_hidden": true,
     "source_hidden": true
    },
    "outputId": "28d51215-24b8-4249-ce07-4648d4246cb2"
   },
   "outputs": [
    {
     "name": "stdout",
     "output_type": "stream",
     "text": [
      "the matrix A is given as \n",
      " [[1 2]\n",
      " [5 6]]\n"
     ]
    }
   ],
   "source": [
    "# Using transpose of a matrix by using T in numpy\n",
    "A = np.array([[1, 2],[5, 6]])\n",
    "print(f\"the matrix A is given as \\n {A}\")"
   ]
  },
  {
   "cell_type": "code",
   "execution_count": 98,
   "metadata": {
    "ExecuteTime": {
     "end_time": "2022-09-04T16:21:42.756191Z",
     "start_time": "2022-09-04T16:21:42.743219Z"
    },
    "colab": {
     "base_uri": "https://localhost:8080/"
    },
    "executionInfo": {
     "elapsed": 264,
     "status": "ok",
     "timestamp": 1661538591385,
     "user": {
      "displayName": "Harpreet SIngh",
      "userId": "15106381096049879330"
     },
     "user_tz": 300
    },
    "id": "UTqoTWo7dWbX",
    "jupyter": {
     "outputs_hidden": true,
     "source_hidden": true
    },
    "outputId": "84664299-acf5-40b4-ae9b-fb3f094cec76"
   },
   "outputs": [
    {
     "name": "stdout",
     "output_type": "stream",
     "text": [
      "transpose of matrix A is \n",
      "[[1 5]\n",
      " [2 6]]\n"
     ]
    }
   ],
   "source": [
    "# We can check the tranpose of the matrix A \n",
    "print(f\"transpose of matrix A is \\n{A.T}\")"
   ]
  },
  {
   "cell_type": "markdown",
   "metadata": {
    "id": "G0lN2EWJZW9c"
   },
   "source": [
    "## <font color = 'dodgerblue'> **Inner product or Dot product**\n",
    "Dot product of 2 vectors x and y, represented as `(x.T)(y)` is given by the summation of product of elements at the same position.\n",
    "\n",
    "If we have 2 vectors x: [1, 2, 3, 4] and y: [1, 1, 2, 1]\n",
    "\n",
    "(x.y) will be 1x1 + 2x1 + 3x2 + 4x1 = 13"
   ]
  },
  {
   "cell_type": "markdown",
   "metadata": {
    "id": "LeMZeJG7blYI"
   },
   "source": [
    "To find the inner product of the vectors, we can use the dot() method of NumPy."
   ]
  },
  {
   "cell_type": "code",
   "execution_count": 99,
   "metadata": {
    "ExecuteTime": {
     "end_time": "2022-09-04T16:21:44.410633Z",
     "start_time": "2022-09-04T16:21:44.402655Z"
    },
    "colab": {
     "base_uri": "https://localhost:8080/"
    },
    "executionInfo": {
     "elapsed": 282,
     "status": "ok",
     "timestamp": 1661538624882,
     "user": {
      "displayName": "Harpreet SIngh",
      "userId": "15106381096049879330"
     },
     "user_tz": 300
    },
    "id": "JiJ4FggRdv_P",
    "jupyter": {
     "outputs_hidden": true,
     "source_hidden": true
    },
    "outputId": "1e006c09-87a7-4ab7-807d-64121ae30482"
   },
   "outputs": [
    {
     "data": {
      "text/plain": [
       "2445"
      ]
     },
     "execution_count": 99,
     "metadata": {},
     "output_type": "execute_result"
    }
   ],
   "source": [
    "# Inner product of vectors\n",
    "import numpy as np\n",
    "my_arr = np.array([12, 45, 32, 1, 2, 4])\n",
    "my_arr1 = np.array([15, 26, 31, 45, 21, 4])\n",
    "# if arrays are of the same length then inner product will be a scalar \n",
    "np.dot(my_arr,my_arr1)"
   ]
  },
  {
   "cell_type": "markdown",
   "metadata": {
    "id": "yw4n1k6fZMP-"
   },
   "source": [
    "## <font color = 'dodgerblue'> **Matrix multiplication**</font>\n",
    "Matrix multiplication is a binary operation on 2 matrices which gives us a matrix which is the product of the 2 matrices. \n",
    "\n",
    "If we are given 2 matrices $A$ of shape $(m * n)$ and $B$ of shape $(q * p)$, we can perform matrix multiplication only when $n = q$ and the resultant product matrix will have shape $(m * p)$. \n",
    "\n",
    "Suppose we are given 2 matrices $A (m * n)$ and $B (n * p)$: \n",
    "\n",
    "$$\\mathbf{A}=\\begin{bmatrix}\n",
    " a_{11} & a_{12} & \\cdots & a_{1n} \\\\\n",
    " a_{21} & a_{22} & \\cdots & a_{2n} \\\\\n",
    "\\vdots & \\vdots & \\ddots & \\vdots \\\\\n",
    " a_{m1} & a_{m2} & \\cdots & a_{mn} \\\\\n",
    "\\end{bmatrix},\\quad\n",
    "\\mathbf{B}=\\begin{bmatrix}\n",
    " b_{11} & b_{12} & \\cdots & b_{1p} \\\\\n",
    " b_{21} & b_{22} & \\cdots & b_{2p} \\\\\n",
    "\\vdots & \\vdots & \\ddots & \\vdots \\\\\n",
    " b_{n1} & b_{n2} & \\cdots & b_{np} \\\\\n",
    "\\end{bmatrix}$$\n",
    "\n",
    "Then after performing matrix multiplication, the resultant matrix C = AB will be:\n",
    "\n",
    "$$\\mathbf{C}=\\begin{bmatrix}\n",
    " c_{11} & c_{12} & \\cdots & c_{1p} \\\\\n",
    " c_{21} & c_{22} & \\cdots & c_{2p} \\\\\n",
    "\\vdots & \\vdots & \\ddots & \\vdots \\\\\n",
    " c_{mp} & c_{mp} & \\cdots & c_{mp} \\\\\n",
    "\\end{bmatrix}$$\n",
    "\n",
    "Here, $c_{ij} = a_{i1}b_{1j} + a_{i2}b_{2j} + ... a_{in}b_{b_nj} = \\sum_{k = 1}^n a_{ik}b_{kj}$\n",
    "\n",
    "for, $i = 1,....m$ and $j = 1,...p$\n",
    "\n",
    "\n",
    "Thus, each element of C, $c_{ij}$ is obtained by dot product of $i^{th}$ row of $A$ and $j^{th}$ column of $B$. \n",
    "\n",
    "**Example** : \n",
    "  1. Let $A$ be a matrix of (4, 3) dimensions.\n",
    "  2. Let $B$ be another matrix of (3, 2) dimensions.\n",
    "  3. Let us denote denote the matrix multiplication of $A$ and $B$ with $C$.\n",
    "  5. Then the dimension of $C$ = (number of rows of $A$,number of columns of $B$) \n",
    "     \n",
    "    dimension of  $C$ = (4, 2)\n",
    "\n",
    "The figure given below will give a good example of matrix multplication :\n",
    "\n",
    "<img src = \"https://drive.google.com/uc?view=export&id=176DF50XdtwkqU5wvxtWuD75sRDHvSJBf\" width =\"250\"/>"
   ]
  },
  {
   "cell_type": "code",
   "execution_count": 100,
   "metadata": {
    "ExecuteTime": {
     "end_time": "2022-09-04T16:21:46.643980Z",
     "start_time": "2022-09-04T16:21:46.632013Z"
    },
    "colab": {
     "base_uri": "https://localhost:8080/"
    },
    "executionInfo": {
     "elapsed": 607,
     "status": "ok",
     "timestamp": 1661538716997,
     "user": {
      "displayName": "Harpreet SIngh",
      "userId": "15106381096049879330"
     },
     "user_tz": 300
    },
    "id": "Zt4ZrE4c9jOq",
    "jupyter": {
     "outputs_hidden": true,
     "source_hidden": true
    },
    "outputId": "a773b093-2edd-4bde-fdee-90b2fc3b8b9d"
   },
   "outputs": [
    {
     "name": "stdout",
     "output_type": "stream",
     "text": [
      "The dimensions of the matrix x is : \n",
      "(2, 3)\n",
      "The dimensions of the matrix y is : \n",
      "(3, 3)\n"
     ]
    }
   ],
   "source": [
    "# let's consider two matrices of different shape\n",
    "x = np.array([[1,25,46],[28,45,76]])\n",
    "print(f\"The dimensions of the matrix x is : \\n{x.shape}\")\n",
    "\n",
    "y = np.array([[14,15,7],[12,36,48],[1,25,7]])\n",
    "print(f\"The dimensions of the matrix y is : \\n{y.shape}\")"
   ]
  },
  {
   "cell_type": "code",
   "execution_count": 101,
   "metadata": {
    "ExecuteTime": {
     "end_time": "2022-09-04T16:21:47.104687Z",
     "start_time": "2022-09-04T16:21:47.094713Z"
    },
    "colab": {
     "base_uri": "https://localhost:8080/"
    },
    "executionInfo": {
     "elapsed": 317,
     "status": "ok",
     "timestamp": 1661538737051,
     "user": {
      "displayName": "Harpreet SIngh",
      "userId": "15106381096049879330"
     },
     "user_tz": 300
    },
    "id": "6IzFtR4hxu9x",
    "jupyter": {
     "outputs_hidden": true,
     "source_hidden": true
    },
    "outputId": "1852d373-e956-4f3c-8952-46aeb5d6fc03"
   },
   "outputs": [
    {
     "name": "stdout",
     "output_type": "stream",
     "text": [
      "The dimensions of the product matrix  is : \n",
      "(2, 3)\n"
     ]
    }
   ],
   "source": [
    "# Let's the check the rule of matrix multiplication\n",
    "# Since, the number of columns of x = number of rows of y\n",
    "# the shape of the product of both matrix is (number of rows of x, number of columns of y)\n",
    "# the matmul() method helps in multiplying matrices  \n",
    "\n",
    "my_prod = np.matmul(x, y)\n",
    "print(f\"The dimensions of the product matrix  is : \\n{my_prod.shape}\")\n"
   ]
  },
  {
   "cell_type": "markdown",
   "metadata": {
    "id": "RWKO1RCVZZUC"
   },
   "source": [
    "## <font color = 'dodgerblue'> **Outer product**\n",
    "\n",
    "* If $H$ and $M$ are column vectors of any size, then $H M^T$ is the\n",
    "outer product of $H$ and $M$.\n",
    "* Example: $\\boldsymbol{H} = \\begin{bmatrix}\n",
    "1\\\\7\\\\5\\end{bmatrix}$\n",
    "$\\boldsymbol{M} = \\begin{bmatrix}\n",
    "2\\\\4\\\\ 9\\end{bmatrix}$\n",
    "\n",
    "  **H** and **M** are column vectors, each having 3 elements.\n",
    "\n",
    "  **H'** is the transpose of **H**, which makes **H'** a row vector,\n",
    "\n",
    "  **M'** is the transpose of **M**, which makes **M'** a row vector.\n",
    "\n",
    "\n",
    "* We can apply the matrix multiplication rule and check the required dimension.\n",
    "\n",
    "Now, the outer product of the matrix is defined as follows :-\n",
    " \n",
    "$HM' =  \\begin{bmatrix}\n",
    "1\\\\ 7\\\\ 5\\end{bmatrix} × \\begin{bmatrix}\n",
    "2\\ 4\\ 9\\end{bmatrix}$ = $\\begin{bmatrix}1×2 & 1×4 & 1×9 \\\\7×2 & 7×4 & 7×9\\\\5×2 & 5×4 & 5×9\\end{bmatrix}$ \n",
    "= $\\begin{bmatrix}2 & 4 & 9 \\\\14 & 28 & 63\\\\10 & 20 & 45\\end{bmatrix}$\n",
    "\n"
   ]
  },
  {
   "cell_type": "markdown",
   "metadata": {
    "id": "7AiOUtI3cv8P"
   },
   "source": [
    "The outer product of the vectors and matrices can be found using the outer() method of NumPy.\n",
    "\n",
    "**Syntax** \n",
    "\n",
    "\n",
    "```\n",
    "numpy.outer(a, b, out = None)\n",
    "```\n",
    "where a, b are the vectors  or matrices.\n",
    "out = A location where the result is stored(optional argument)\n",
    "\n"
   ]
  },
  {
   "cell_type": "code",
   "execution_count": 102,
   "metadata": {
    "ExecuteTime": {
     "end_time": "2022-09-04T16:21:49.668851Z",
     "start_time": "2022-09-04T16:21:49.654887Z"
    },
    "colab": {
     "base_uri": "https://localhost:8080/"
    },
    "executionInfo": {
     "elapsed": 250,
     "status": "ok",
     "timestamp": 1661538774945,
     "user": {
      "displayName": "Harpreet SIngh",
      "userId": "15106381096049879330"
     },
     "user_tz": 300
    },
    "id": "wgvaSjlncuFC",
    "jupyter": {
     "outputs_hidden": true,
     "source_hidden": true
    },
    "outputId": "af1905d6-3779-4908-fda2-d14e02fb602b"
   },
   "outputs": [
    {
     "data": {
      "text/plain": [
       "array([[ 2,  4,  9],\n",
       "       [14, 28, 63],\n",
       "       [10, 20, 45]])"
      ]
     },
     "execution_count": 102,
     "metadata": {},
     "output_type": "execute_result"
    }
   ],
   "source": [
    "#let's consider above example\n",
    "#let a be a column matrix\n",
    "a = np.array([[1]\n",
    "              ,[7]\n",
    "              ,[5]])\n",
    "#b be a row matrix\n",
    "b = np.array([2, 4, 9])\n",
    "#the outer product of the matrices are\n",
    "np.outer(a,b, out =None)"
   ]
  },
  {
   "cell_type": "markdown",
   "metadata": {
    "id": "ARcbnRB4pNDX"
   },
   "source": [
    "## <font color = 'dodgerblue'> **Inverse of matrix**\n",
    "Wikipedia Definition (https://en.wikipedia.org/wiki/Invertible_matrix)<br><br>\n",
    "In linear algebra, an n-by-n square matrix $\\mathbf{A}$ is called invertible (also nonsingular or nondegenerate), if there exists an $n$ by $n$ square matrix $\\mathbf{B}$ such that\n",
    "\\begin{equation}\n",
    "  \\mathbf{A}\\mathbf{B} = \\mathbf{B}\\mathbf{A} = \\mathbf{I_n}\n",
    "\\end{equation}\n",
    "\n",
    "where $\\mathbf{I_n}$ denotes the n-by-n identity matrix and the multiplication used is ordinary matrix multiplication. If this is the case, then the matrix $\\mathbf{B}$ is uniquely determined by $\\mathbf{A}$, and is called the (multiplicative) inverse of $\\mathbf{A}$, denoted by $\\mathbf{A^{-1}}$"
   ]
  },
  {
   "cell_type": "code",
   "execution_count": 103,
   "metadata": {
    "ExecuteTime": {
     "end_time": "2022-09-04T16:21:51.412796Z",
     "start_time": "2022-09-04T16:21:51.401826Z"
    },
    "id": "zilBM0e7iiPs",
    "jupyter": {
     "outputs_hidden": true,
     "source_hidden": true
    }
   },
   "outputs": [],
   "source": [
    "# Let's create an 1-D array\n",
    "\n",
    "my_mat = np.array([[1, 5, 4],\n",
    "             [2, 4, 8],\n",
    "             [4, 7, 2]\n",
    "             ])\n",
    "\n"
   ]
  },
  {
   "cell_type": "code",
   "execution_count": 104,
   "metadata": {
    "ExecuteTime": {
     "end_time": "2022-09-04T16:21:52.800844Z",
     "start_time": "2022-09-04T16:21:52.773916Z"
    },
    "colab": {
     "base_uri": "https://localhost:8080/"
    },
    "executionInfo": {
     "elapsed": 302,
     "status": "ok",
     "timestamp": 1661538786096,
     "user": {
      "displayName": "Harpreet SIngh",
      "userId": "15106381096049879330"
     },
     "user_tz": 300
    },
    "id": "QbpEqV6ilsAX",
    "jupyter": {
     "outputs_hidden": true,
     "source_hidden": true
    },
    "outputId": "6a66afd3-abaa-435d-df2d-a1ab0fd0aaf7"
   },
   "outputs": [
    {
     "name": "stdout",
     "output_type": "stream",
     "text": [
      "Inverse of matrix : \n",
      " [[-5.71e-01  2.14e-01  2.86e-01]\n",
      " [ 3.33e-01 -1.67e-01 -4.27e-18]\n",
      " [-2.38e-02  1.55e-01 -7.14e-02]]\n"
     ]
    }
   ],
   "source": [
    "# inverse of the matrix\n",
    "my_mat_inv = np.linalg.inv(my_mat)\n",
    "print(f\"Inverse of matrix : \\n {my_mat_inv}\")"
   ]
  },
  {
   "cell_type": "code",
   "execution_count": 105,
   "metadata": {
    "ExecuteTime": {
     "end_time": "2022-09-04T16:21:53.713012Z",
     "start_time": "2022-09-04T16:21:53.686084Z"
    },
    "colab": {
     "base_uri": "https://localhost:8080/"
    },
    "executionInfo": {
     "elapsed": 381,
     "status": "ok",
     "timestamp": 1661538788631,
     "user": {
      "displayName": "Harpreet SIngh",
      "userId": "15106381096049879330"
     },
     "user_tz": 300
    },
    "id": "2TVpV_YLGEmY",
    "jupyter": {
     "outputs_hidden": true,
     "source_hidden": true
    },
    "outputId": "ac1d3b0d-b6fe-4826-e7f8-18578259a4a1"
   },
   "outputs": [
    {
     "name": "stdout",
     "output_type": "stream",
     "text": [
      "[[ 1.00e+00 -1.11e-16  0.00e+00]\n",
      " [-2.78e-17  1.00e+00  0.00e+00]\n",
      " [-1.73e-16  0.00e+00  1.00e+00]]\n"
     ]
    }
   ],
   "source": [
    "# let us check teh condition A A_inv = I\n",
    "print(np.matmul(my_mat, my_mat_inv))"
   ]
  }
 ],
 "metadata": {
  "colab": {
   "collapsed_sections": [
    "RgQeyRdZjmGU"
   ],
   "name": "Demo_1.Numpy_final.ipynb",
   "provenance": [],
   "toc_visible": true
  },
  "kernelspec": {
   "display_name": "Python 3",
   "language": "python",
   "name": "python3"
  },
  "language_info": {
   "codemirror_mode": {
    "name": "ipython",
    "version": 3
   },
   "file_extension": ".py",
   "mimetype": "text/x-python",
   "name": "python",
   "nbconvert_exporter": "python",
   "pygments_lexer": "ipython3",
   "version": "3.8.8"
  },
  "varInspector": {
   "cols": {
    "lenName": 16,
    "lenType": 16,
    "lenVar": 40
   },
   "kernels_config": {
    "python": {
     "delete_cmd_postfix": "",
     "delete_cmd_prefix": "del ",
     "library": "var_list.py",
     "varRefreshCmd": "print(var_dic_list())"
    },
    "r": {
     "delete_cmd_postfix": ") ",
     "delete_cmd_prefix": "rm(",
     "library": "var_list.r",
     "varRefreshCmd": "cat(var_dic_list()) "
    }
   },
   "types_to_exclude": [
    "module",
    "function",
    "builtin_function_or_method",
    "instance",
    "_Feature"
   ],
   "window_display": false
  }
 },
 "nbformat": 4,
 "nbformat_minor": 1
}
